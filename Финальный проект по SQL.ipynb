{
 "cells": [
  {
   "cell_type": "markdown",
   "metadata": {},
   "source": [
    "**SQL**"
   ]
  },
  {
   "cell_type": "markdown",
   "metadata": {},
   "source": [
    "**Цель иследования:**\n",
    "\n",
    "Проанализировать базу данных и сформировать ценностное предложение для нового продукта"
   ]
  },
  {
   "cell_type": "markdown",
   "metadata": {},
   "source": [
    "**Задания:**\n",
    "\n",
    "1. Посчитать, сколько книг вышло после 1 января 2000 года;\n",
    "2. Для каждой книги посчитать количество обзоров и среднюю оценку;\n",
    "3. Определить издательство, которое выпустило наибольшее число книг толще 50 страниц — так мы исключим из анализа брошюры;\n",
    "4. Определить автора с самой высокой средней оценкой книг — учитывая только книги с 50 и более оценками;\n",
    "5. Посчитать среднее количество обзоров от пользователей, которые поставили больше 50 оценок"
   ]
  },
  {
   "cell_type": "code",
   "execution_count": 1,
   "metadata": {},
   "outputs": [],
   "source": [
    "# импортируем библиотеки\n",
    "import pandas as pd\n",
    "from sqlalchemy import create_engine\n",
    "# устанавливаем параметры\n",
    "db_config = {'user': 'praktikum_student', # имя пользователя\n",
    "              'pwd': 'Sdf4$2;d-d30pp', # пароль\n",
    "              'host': 'rc1b-wcoijxj3yxfsf3fs.mdb.yandexcloud.net',\n",
    "              'port': 6432, # порт подключения\n",
    "              'db': 'data-analyst-final-project-db'} # название базы данных\n",
    "connection_string = 'postgresql://{}:{}@{}:{}/{}'.format(db_config['user'],\n",
    "                                                         db_config['pwd'],\n",
    "                                                         db_config['host'],\n",
    "                                                         db_config['port'],\n",
    "                                                         db_config['db'])\n",
    "# сохраняем коннектор\n",
    "engine = create_engine(connection_string, connect_args={'sslmode':'require'}) \n",
    "# напишем функцию для удобства\n",
    "def resrequest(x):\n",
    "  resrequest = pd.io.sql.read_sql(querty, con=engine)\n",
    "  return resrequest"
   ]
  },
  {
   "cell_type": "markdown",
   "metadata": {},
   "source": [
    "### Шаг 1. Исследуем таблицы с данными."
   ]
  },
  {
   "cell_type": "markdown",
   "metadata": {},
   "source": [
    "**Таблица books**"
   ]
  },
  {
   "cell_type": "code",
   "execution_count": 2,
   "metadata": {},
   "outputs": [
    {
     "data": {
      "text/html": [
       "<div>\n",
       "<style scoped>\n",
       "    .dataframe tbody tr th:only-of-type {\n",
       "        vertical-align: middle;\n",
       "    }\n",
       "\n",
       "    .dataframe tbody tr th {\n",
       "        vertical-align: top;\n",
       "    }\n",
       "\n",
       "    .dataframe thead th {\n",
       "        text-align: right;\n",
       "    }\n",
       "</style>\n",
       "<table border=\"1\" class=\"dataframe\">\n",
       "  <thead>\n",
       "    <tr style=\"text-align: right;\">\n",
       "      <th></th>\n",
       "      <th>book_id</th>\n",
       "      <th>author_id</th>\n",
       "      <th>title</th>\n",
       "      <th>num_pages</th>\n",
       "      <th>publication_date</th>\n",
       "      <th>publisher_id</th>\n",
       "    </tr>\n",
       "  </thead>\n",
       "  <tbody>\n",
       "    <tr>\n",
       "      <th>0</th>\n",
       "      <td>1</td>\n",
       "      <td>546</td>\n",
       "      <td>'Salem's Lot</td>\n",
       "      <td>594</td>\n",
       "      <td>2005-11-01</td>\n",
       "      <td>93</td>\n",
       "    </tr>\n",
       "    <tr>\n",
       "      <th>1</th>\n",
       "      <td>2</td>\n",
       "      <td>465</td>\n",
       "      <td>1 000 Places to See Before You Die</td>\n",
       "      <td>992</td>\n",
       "      <td>2003-05-22</td>\n",
       "      <td>336</td>\n",
       "    </tr>\n",
       "    <tr>\n",
       "      <th>2</th>\n",
       "      <td>3</td>\n",
       "      <td>407</td>\n",
       "      <td>13 Little Blue Envelopes (Little Blue Envelope...</td>\n",
       "      <td>322</td>\n",
       "      <td>2010-12-21</td>\n",
       "      <td>135</td>\n",
       "    </tr>\n",
       "    <tr>\n",
       "      <th>3</th>\n",
       "      <td>4</td>\n",
       "      <td>82</td>\n",
       "      <td>1491: New Revelations of the Americas Before C...</td>\n",
       "      <td>541</td>\n",
       "      <td>2006-10-10</td>\n",
       "      <td>309</td>\n",
       "    </tr>\n",
       "    <tr>\n",
       "      <th>4</th>\n",
       "      <td>5</td>\n",
       "      <td>125</td>\n",
       "      <td>1776</td>\n",
       "      <td>386</td>\n",
       "      <td>2006-07-04</td>\n",
       "      <td>268</td>\n",
       "    </tr>\n",
       "  </tbody>\n",
       "</table>\n",
       "</div>"
      ],
      "text/plain": [
       "   book_id  author_id                                              title  \\\n",
       "0        1        546                                       'Salem's Lot   \n",
       "1        2        465                 1 000 Places to See Before You Die   \n",
       "2        3        407  13 Little Blue Envelopes (Little Blue Envelope...   \n",
       "3        4         82  1491: New Revelations of the Americas Before C...   \n",
       "4        5        125                                               1776   \n",
       "\n",
       "   num_pages publication_date  publisher_id  \n",
       "0        594       2005-11-01            93  \n",
       "1        992       2003-05-22           336  \n",
       "2        322       2010-12-21           135  \n",
       "3        541       2006-10-10           309  \n",
       "4        386       2006-07-04           268  "
      ]
     },
     "execution_count": 2,
     "metadata": {},
     "output_type": "execute_result"
    }
   ],
   "source": [
    "# создаём запрос\n",
    "querty = '''\n",
    "SELECT *\n",
    "FROM books\n",
    "LIMIT 5;\n",
    "'''\n",
    "# получаем данные\n",
    "resrequest(querty)"
   ]
  },
  {
   "cell_type": "markdown",
   "metadata": {},
   "source": [
    "Таблице `books` содержит данные о книгах:\n",
    "\n",
    "- `book_id` — идентификатор книги;\n",
    "- `author_id` — идентификатор автора;\n",
    "- `title` — название книги;\n",
    "- `num_pages` — количество страниц;\n",
    "- `publication_date` — дата публикации книги;\n",
    "- `publisher_id` — идентификатор издателя."
   ]
  },
  {
   "cell_type": "markdown",
   "metadata": {},
   "source": [
    "**Таблица authors**"
   ]
  },
  {
   "cell_type": "code",
   "execution_count": 3,
   "metadata": {},
   "outputs": [
    {
     "data": {
      "text/html": [
       "<div>\n",
       "<style scoped>\n",
       "    .dataframe tbody tr th:only-of-type {\n",
       "        vertical-align: middle;\n",
       "    }\n",
       "\n",
       "    .dataframe tbody tr th {\n",
       "        vertical-align: top;\n",
       "    }\n",
       "\n",
       "    .dataframe thead th {\n",
       "        text-align: right;\n",
       "    }\n",
       "</style>\n",
       "<table border=\"1\" class=\"dataframe\">\n",
       "  <thead>\n",
       "    <tr style=\"text-align: right;\">\n",
       "      <th></th>\n",
       "      <th>author_id</th>\n",
       "      <th>author</th>\n",
       "    </tr>\n",
       "  </thead>\n",
       "  <tbody>\n",
       "    <tr>\n",
       "      <th>0</th>\n",
       "      <td>1</td>\n",
       "      <td>A.S. Byatt</td>\n",
       "    </tr>\n",
       "    <tr>\n",
       "      <th>1</th>\n",
       "      <td>2</td>\n",
       "      <td>Aesop/Laura Harris/Laura Gibbs</td>\n",
       "    </tr>\n",
       "    <tr>\n",
       "      <th>2</th>\n",
       "      <td>3</td>\n",
       "      <td>Agatha Christie</td>\n",
       "    </tr>\n",
       "    <tr>\n",
       "      <th>3</th>\n",
       "      <td>4</td>\n",
       "      <td>Alan Brennert</td>\n",
       "    </tr>\n",
       "    <tr>\n",
       "      <th>4</th>\n",
       "      <td>5</td>\n",
       "      <td>Alan Moore/David   Lloyd</td>\n",
       "    </tr>\n",
       "  </tbody>\n",
       "</table>\n",
       "</div>"
      ],
      "text/plain": [
       "   author_id                          author\n",
       "0          1                      A.S. Byatt\n",
       "1          2  Aesop/Laura Harris/Laura Gibbs\n",
       "2          3                 Agatha Christie\n",
       "3          4                   Alan Brennert\n",
       "4          5        Alan Moore/David   Lloyd"
      ]
     },
     "execution_count": 3,
     "metadata": {},
     "output_type": "execute_result"
    }
   ],
   "source": [
    "# создаем запрос\n",
    "querty = '''\n",
    "SELECT *\n",
    "FROM authors\n",
    "LIMIT 5;\n",
    "'''\n",
    "# получим данные\n",
    "resrequest(querty)"
   ]
  },
  {
   "cell_type": "markdown",
   "metadata": {},
   "source": [
    "**Таблица `authors` cодержит данные об авторах:**\n",
    "\n",
    "- `author_id` — идентификатор автора;\n",
    "- `author` — имя автора."
   ]
  },
  {
   "cell_type": "markdown",
   "metadata": {},
   "source": [
    "**Таблица publishers**"
   ]
  },
  {
   "cell_type": "code",
   "execution_count": 4,
   "metadata": {},
   "outputs": [
    {
     "data": {
      "text/html": [
       "<div>\n",
       "<style scoped>\n",
       "    .dataframe tbody tr th:only-of-type {\n",
       "        vertical-align: middle;\n",
       "    }\n",
       "\n",
       "    .dataframe tbody tr th {\n",
       "        vertical-align: top;\n",
       "    }\n",
       "\n",
       "    .dataframe thead th {\n",
       "        text-align: right;\n",
       "    }\n",
       "</style>\n",
       "<table border=\"1\" class=\"dataframe\">\n",
       "  <thead>\n",
       "    <tr style=\"text-align: right;\">\n",
       "      <th></th>\n",
       "      <th>publisher_id</th>\n",
       "      <th>publisher</th>\n",
       "    </tr>\n",
       "  </thead>\n",
       "  <tbody>\n",
       "    <tr>\n",
       "      <th>0</th>\n",
       "      <td>1</td>\n",
       "      <td>Ace</td>\n",
       "    </tr>\n",
       "    <tr>\n",
       "      <th>1</th>\n",
       "      <td>2</td>\n",
       "      <td>Ace Book</td>\n",
       "    </tr>\n",
       "    <tr>\n",
       "      <th>2</th>\n",
       "      <td>3</td>\n",
       "      <td>Ace Books</td>\n",
       "    </tr>\n",
       "    <tr>\n",
       "      <th>3</th>\n",
       "      <td>4</td>\n",
       "      <td>Ace Hardcover</td>\n",
       "    </tr>\n",
       "    <tr>\n",
       "      <th>4</th>\n",
       "      <td>5</td>\n",
       "      <td>Addison Wesley Publishing Company</td>\n",
       "    </tr>\n",
       "  </tbody>\n",
       "</table>\n",
       "</div>"
      ],
      "text/plain": [
       "   publisher_id                          publisher\n",
       "0             1                                Ace\n",
       "1             2                           Ace Book\n",
       "2             3                          Ace Books\n",
       "3             4                      Ace Hardcover\n",
       "4             5  Addison Wesley Publishing Company"
      ]
     },
     "execution_count": 4,
     "metadata": {},
     "output_type": "execute_result"
    }
   ],
   "source": [
    "querty = '''\n",
    "SELECT *\n",
    "FROM publishers\n",
    "LIMIT 5;\n",
    "'''\n",
    "\n",
    "resrequest(querty)"
   ]
  },
  {
   "cell_type": "markdown",
   "metadata": {},
   "source": [
    "**Таблица `publishers` cодержит данные об издательствах:**\n",
    "\n",
    "- `publisher_id` — идентификатор издательства;\n",
    "- `publisher` — название издательства;"
   ]
  },
  {
   "cell_type": "markdown",
   "metadata": {},
   "source": [
    "**Таблица ratings**"
   ]
  },
  {
   "cell_type": "code",
   "execution_count": 5,
   "metadata": {},
   "outputs": [
    {
     "data": {
      "text/html": [
       "<div>\n",
       "<style scoped>\n",
       "    .dataframe tbody tr th:only-of-type {\n",
       "        vertical-align: middle;\n",
       "    }\n",
       "\n",
       "    .dataframe tbody tr th {\n",
       "        vertical-align: top;\n",
       "    }\n",
       "\n",
       "    .dataframe thead th {\n",
       "        text-align: right;\n",
       "    }\n",
       "</style>\n",
       "<table border=\"1\" class=\"dataframe\">\n",
       "  <thead>\n",
       "    <tr style=\"text-align: right;\">\n",
       "      <th></th>\n",
       "      <th>rating_id</th>\n",
       "      <th>book_id</th>\n",
       "      <th>username</th>\n",
       "      <th>rating</th>\n",
       "    </tr>\n",
       "  </thead>\n",
       "  <tbody>\n",
       "    <tr>\n",
       "      <th>0</th>\n",
       "      <td>1</td>\n",
       "      <td>1</td>\n",
       "      <td>ryanfranco</td>\n",
       "      <td>4</td>\n",
       "    </tr>\n",
       "    <tr>\n",
       "      <th>1</th>\n",
       "      <td>2</td>\n",
       "      <td>1</td>\n",
       "      <td>grantpatricia</td>\n",
       "      <td>2</td>\n",
       "    </tr>\n",
       "    <tr>\n",
       "      <th>2</th>\n",
       "      <td>3</td>\n",
       "      <td>1</td>\n",
       "      <td>brandtandrea</td>\n",
       "      <td>5</td>\n",
       "    </tr>\n",
       "    <tr>\n",
       "      <th>3</th>\n",
       "      <td>4</td>\n",
       "      <td>2</td>\n",
       "      <td>lorichen</td>\n",
       "      <td>3</td>\n",
       "    </tr>\n",
       "    <tr>\n",
       "      <th>4</th>\n",
       "      <td>5</td>\n",
       "      <td>2</td>\n",
       "      <td>mariokeller</td>\n",
       "      <td>2</td>\n",
       "    </tr>\n",
       "  </tbody>\n",
       "</table>\n",
       "</div>"
      ],
      "text/plain": [
       "   rating_id  book_id       username  rating\n",
       "0          1        1     ryanfranco       4\n",
       "1          2        1  grantpatricia       2\n",
       "2          3        1   brandtandrea       5\n",
       "3          4        2       lorichen       3\n",
       "4          5        2    mariokeller       2"
      ]
     },
     "execution_count": 5,
     "metadata": {},
     "output_type": "execute_result"
    }
   ],
   "source": [
    "querty = '''\n",
    "SELECT *\n",
    "FROM ratings\n",
    "LIMIT 5;\n",
    "'''\n",
    "\n",
    "resrequest(querty)"
   ]
  },
  {
   "cell_type": "markdown",
   "metadata": {},
   "source": [
    "**Таблица `ratings` cодержит данные о пользовательских оценках книг:**\n",
    "\n",
    "- `rating_id` — идентификатор оценки;\n",
    "- `book_id` — идентификатор книги;\n",
    "- `username` — имя пользователя, оставившего оценку;\n",
    "- `rating` — оценка книги."
   ]
  },
  {
   "cell_type": "markdown",
   "metadata": {},
   "source": [
    "**Таблица reviews**"
   ]
  },
  {
   "cell_type": "code",
   "execution_count": 6,
   "metadata": {},
   "outputs": [
    {
     "data": {
      "text/html": [
       "<div>\n",
       "<style scoped>\n",
       "    .dataframe tbody tr th:only-of-type {\n",
       "        vertical-align: middle;\n",
       "    }\n",
       "\n",
       "    .dataframe tbody tr th {\n",
       "        vertical-align: top;\n",
       "    }\n",
       "\n",
       "    .dataframe thead th {\n",
       "        text-align: right;\n",
       "    }\n",
       "</style>\n",
       "<table border=\"1\" class=\"dataframe\">\n",
       "  <thead>\n",
       "    <tr style=\"text-align: right;\">\n",
       "      <th></th>\n",
       "      <th>review_id</th>\n",
       "      <th>book_id</th>\n",
       "      <th>username</th>\n",
       "      <th>text</th>\n",
       "    </tr>\n",
       "  </thead>\n",
       "  <tbody>\n",
       "    <tr>\n",
       "      <th>0</th>\n",
       "      <td>1</td>\n",
       "      <td>1</td>\n",
       "      <td>brandtandrea</td>\n",
       "      <td>Mention society tell send professor analysis. ...</td>\n",
       "    </tr>\n",
       "    <tr>\n",
       "      <th>1</th>\n",
       "      <td>2</td>\n",
       "      <td>1</td>\n",
       "      <td>ryanfranco</td>\n",
       "      <td>Foot glass pretty audience hit themselves. Amo...</td>\n",
       "    </tr>\n",
       "    <tr>\n",
       "      <th>2</th>\n",
       "      <td>3</td>\n",
       "      <td>2</td>\n",
       "      <td>lorichen</td>\n",
       "      <td>Listen treat keep worry. Miss husband tax but ...</td>\n",
       "    </tr>\n",
       "    <tr>\n",
       "      <th>3</th>\n",
       "      <td>4</td>\n",
       "      <td>3</td>\n",
       "      <td>johnsonamanda</td>\n",
       "      <td>Finally month interesting blue could nature cu...</td>\n",
       "    </tr>\n",
       "    <tr>\n",
       "      <th>4</th>\n",
       "      <td>5</td>\n",
       "      <td>3</td>\n",
       "      <td>scotttamara</td>\n",
       "      <td>Nation purpose heavy give wait song will. List...</td>\n",
       "    </tr>\n",
       "  </tbody>\n",
       "</table>\n",
       "</div>"
      ],
      "text/plain": [
       "   review_id  book_id       username  \\\n",
       "0          1        1   brandtandrea   \n",
       "1          2        1     ryanfranco   \n",
       "2          3        2       lorichen   \n",
       "3          4        3  johnsonamanda   \n",
       "4          5        3    scotttamara   \n",
       "\n",
       "                                                text  \n",
       "0  Mention society tell send professor analysis. ...  \n",
       "1  Foot glass pretty audience hit themselves. Amo...  \n",
       "2  Listen treat keep worry. Miss husband tax but ...  \n",
       "3  Finally month interesting blue could nature cu...  \n",
       "4  Nation purpose heavy give wait song will. List...  "
      ]
     },
     "execution_count": 6,
     "metadata": {},
     "output_type": "execute_result"
    }
   ],
   "source": [
    "querty = '''\n",
    "SELECT *\n",
    "FROM reviews\n",
    "LIMIT 5;\n",
    "'''\n",
    "\n",
    "resrequest(querty)"
   ]
  },
  {
   "cell_type": "markdown",
   "metadata": {},
   "source": [
    "**Таблица `reviews` cодержит данные о пользовательских обзорах на книги:**\n",
    "\n",
    "- `review_id` — идентификатор обзора;\n",
    "- `book_id` — идентификатор книги;\n",
    "- `username` — имя пользователя, написавшего обзор;\n",
    "- `text` — текст обзора."
   ]
  },
  {
   "cell_type": "markdown",
   "metadata": {},
   "source": [
    "**Вывод:** \n",
    "\n",
    "Все таблицы соответсвуют описанию, никаких ошибок замечено не было."
   ]
  },
  {
   "cell_type": "markdown",
   "metadata": {},
   "source": [
    "### Шаг 2. Посчитайем, сколько книг вышло после 1 января 2000 года"
   ]
  },
  {
   "cell_type": "code",
   "execution_count": 7,
   "metadata": {},
   "outputs": [
    {
     "data": {
      "text/html": [
       "<div>\n",
       "<style scoped>\n",
       "    .dataframe tbody tr th:only-of-type {\n",
       "        vertical-align: middle;\n",
       "    }\n",
       "\n",
       "    .dataframe tbody tr th {\n",
       "        vertical-align: top;\n",
       "    }\n",
       "\n",
       "    .dataframe thead th {\n",
       "        text-align: right;\n",
       "    }\n",
       "</style>\n",
       "<table border=\"1\" class=\"dataframe\">\n",
       "  <thead>\n",
       "    <tr style=\"text-align: right;\">\n",
       "      <th></th>\n",
       "      <th>book</th>\n",
       "    </tr>\n",
       "  </thead>\n",
       "  <tbody>\n",
       "    <tr>\n",
       "      <th>0</th>\n",
       "      <td>819</td>\n",
       "    </tr>\n",
       "  </tbody>\n",
       "</table>\n",
       "</div>"
      ],
      "text/plain": [
       "   book\n",
       "0   819"
      ]
     },
     "execution_count": 7,
     "metadata": {},
     "output_type": "execute_result"
    }
   ],
   "source": [
    "querty2 = '''\n",
    "SELECT count(book_id) as book\n",
    "FROM books\n",
    "WHERE publication_date > '2000/01/01';\n",
    "'''\n",
    "request = pd.io.sql.read_sql(querty2, con=engine)\n",
    "request"
   ]
  },
  {
   "cell_type": "markdown",
   "metadata": {},
   "source": [
    "**Вывод:**\n",
    "\n",
    "После 1 января 2000 года вышло 819 книг."
   ]
  },
  {
   "cell_type": "markdown",
   "metadata": {},
   "source": [
    "### Для каждой книги посчитаем количество обзоров и среднюю оценку"
   ]
  },
  {
   "cell_type": "code",
   "execution_count": 8,
   "metadata": {},
   "outputs": [
    {
     "data": {
      "text/html": [
       "<div>\n",
       "<style scoped>\n",
       "    .dataframe tbody tr th:only-of-type {\n",
       "        vertical-align: middle;\n",
       "    }\n",
       "\n",
       "    .dataframe tbody tr th {\n",
       "        vertical-align: top;\n",
       "    }\n",
       "\n",
       "    .dataframe thead th {\n",
       "        text-align: right;\n",
       "    }\n",
       "</style>\n",
       "<table border=\"1\" class=\"dataframe\">\n",
       "  <thead>\n",
       "    <tr style=\"text-align: right;\">\n",
       "      <th></th>\n",
       "      <th>books</th>\n",
       "      <th>review</th>\n",
       "      <th>average_estimate</th>\n",
       "    </tr>\n",
       "  </thead>\n",
       "  <tbody>\n",
       "    <tr>\n",
       "      <th>0</th>\n",
       "      <td>The Body in the Library (Miss Marple  #3)</td>\n",
       "      <td>2.0</td>\n",
       "      <td>5.0</td>\n",
       "    </tr>\n",
       "    <tr>\n",
       "      <th>1</th>\n",
       "      <td>Galápagos</td>\n",
       "      <td>2.0</td>\n",
       "      <td>5.0</td>\n",
       "    </tr>\n",
       "    <tr>\n",
       "      <th>2</th>\n",
       "      <td>A Tree Grows in Brooklyn</td>\n",
       "      <td>5.0</td>\n",
       "      <td>4.0</td>\n",
       "    </tr>\n",
       "    <tr>\n",
       "      <th>3</th>\n",
       "      <td>Undaunted Courage: The Pioneering First Missio...</td>\n",
       "      <td>2.0</td>\n",
       "      <td>4.0</td>\n",
       "    </tr>\n",
       "    <tr>\n",
       "      <th>4</th>\n",
       "      <td>The Prophet</td>\n",
       "      <td>4.0</td>\n",
       "      <td>4.0</td>\n",
       "    </tr>\n",
       "    <tr>\n",
       "      <th>...</th>\n",
       "      <td>...</td>\n",
       "      <td>...</td>\n",
       "      <td>...</td>\n",
       "    </tr>\n",
       "    <tr>\n",
       "      <th>995</th>\n",
       "      <td>Alice in Wonderland</td>\n",
       "      <td>4.0</td>\n",
       "      <td>4.0</td>\n",
       "    </tr>\n",
       "    <tr>\n",
       "      <th>996</th>\n",
       "      <td>A Woman of Substance (Emma Harte Saga #1)</td>\n",
       "      <td>2.0</td>\n",
       "      <td>5.0</td>\n",
       "    </tr>\n",
       "    <tr>\n",
       "      <th>997</th>\n",
       "      <td>Christine</td>\n",
       "      <td>3.0</td>\n",
       "      <td>3.0</td>\n",
       "    </tr>\n",
       "    <tr>\n",
       "      <th>998</th>\n",
       "      <td>The Magicians' Guild (Black Magician Trilogy  #1)</td>\n",
       "      <td>2.0</td>\n",
       "      <td>4.0</td>\n",
       "    </tr>\n",
       "    <tr>\n",
       "      <th>999</th>\n",
       "      <td>The Plot Against America</td>\n",
       "      <td>2.0</td>\n",
       "      <td>3.0</td>\n",
       "    </tr>\n",
       "  </tbody>\n",
       "</table>\n",
       "<p>1000 rows × 3 columns</p>\n",
       "</div>"
      ],
      "text/plain": [
       "                                                 books  review  \\\n",
       "0            The Body in the Library (Miss Marple  #3)     2.0   \n",
       "1                                            Galápagos     2.0   \n",
       "2                             A Tree Grows in Brooklyn     5.0   \n",
       "3    Undaunted Courage: The Pioneering First Missio...     2.0   \n",
       "4                                          The Prophet     4.0   \n",
       "..                                                 ...     ...   \n",
       "995                                Alice in Wonderland     4.0   \n",
       "996          A Woman of Substance (Emma Harte Saga #1)     2.0   \n",
       "997                                          Christine     3.0   \n",
       "998  The Magicians' Guild (Black Magician Trilogy  #1)     2.0   \n",
       "999                           The Plot Against America     2.0   \n",
       "\n",
       "     average_estimate  \n",
       "0                 5.0  \n",
       "1                 5.0  \n",
       "2                 4.0  \n",
       "3                 4.0  \n",
       "4                 4.0  \n",
       "..                ...  \n",
       "995               4.0  \n",
       "996               5.0  \n",
       "997               3.0  \n",
       "998               4.0  \n",
       "999               3.0  \n",
       "\n",
       "[1000 rows x 3 columns]"
      ]
     },
     "execution_count": 8,
     "metadata": {},
     "output_type": "execute_result"
    }
   ],
   "source": [
    "request = '''\n",
    "SELECT title AS books, review, average_estimate \n",
    "FROM books LEFT JOIN \n",
    "            (SELECT book_id, \n",
    "                    COUNT(review_id) AS review FROM reviews GROUP BY book_id) AS count_rew\n",
    "                    ON count_rew.book_id = books.book_id \n",
    "            LEFT JOIN \n",
    "                    (SELECT book_id, \n",
    "                    ROUND(AVG(rating)) AS average_estimate FROM ratings GROUP BY book_id) AS avg_rating\n",
    "                    ON books.book_id = avg_rating.book_id;\n",
    "'''\n",
    "request2 = pd.io.sql.read_sql(request, con=engine)\n",
    "request2"
   ]
  },
  {
   "cell_type": "markdown",
   "metadata": {},
   "source": [
    "### Определим издательство, которое выпустило наибольшее число книг толще 50 страниц."
   ]
  },
  {
   "cell_type": "code",
   "execution_count": 9,
   "metadata": {},
   "outputs": [
    {
     "data": {
      "text/html": [
       "<div>\n",
       "<style scoped>\n",
       "    .dataframe tbody tr th:only-of-type {\n",
       "        vertical-align: middle;\n",
       "    }\n",
       "\n",
       "    .dataframe tbody tr th {\n",
       "        vertical-align: top;\n",
       "    }\n",
       "\n",
       "    .dataframe thead th {\n",
       "        text-align: right;\n",
       "    }\n",
       "</style>\n",
       "<table border=\"1\" class=\"dataframe\">\n",
       "  <thead>\n",
       "    <tr style=\"text-align: right;\">\n",
       "      <th></th>\n",
       "      <th>publisher</th>\n",
       "      <th>count</th>\n",
       "    </tr>\n",
       "  </thead>\n",
       "  <tbody>\n",
       "    <tr>\n",
       "      <th>0</th>\n",
       "      <td>Penguin Books</td>\n",
       "      <td>42</td>\n",
       "    </tr>\n",
       "  </tbody>\n",
       "</table>\n",
       "</div>"
      ],
      "text/plain": [
       "       publisher  count\n",
       "0  Penguin Books     42"
      ]
     },
     "execution_count": 9,
     "metadata": {},
     "output_type": "execute_result"
    }
   ],
   "source": [
    "query3 = '''\n",
    "SELECT\n",
    "    publishers.publisher,\n",
    "    COUNT(book_id)\n",
    "FROM books INNER JOIN publishers ON books.publisher_id = publishers.publisher_id\n",
    "WHERE books.num_pages > 50\n",
    "GROUP BY publishers.publisher\n",
    "ORDER BY count DESC\n",
    "LIMIT 1;\n",
    "'''\n",
    "request3 = pd.io.sql.read_sql(query3, con = engine)\n",
    "request3"
   ]
  },
  {
   "cell_type": "markdown",
   "metadata": {},
   "source": [
    "**Вывод:**\n",
    "\n",
    "Издательство Penguin Books выпустило 42 книги толще 50 страниц. Это издательство выпустило наибольшее количество книг толще 50 страниц."
   ]
  },
  {
   "cell_type": "markdown",
   "metadata": {},
   "source": [
    "### Определим автора с самой высокой средней оценкой книг — учитывайте только книги с 50 и более оценками"
   ]
  },
  {
   "cell_type": "code",
   "execution_count": 10,
   "metadata": {},
   "outputs": [
    {
     "data": {
      "text/html": [
       "<div>\n",
       "<style scoped>\n",
       "    .dataframe tbody tr th:only-of-type {\n",
       "        vertical-align: middle;\n",
       "    }\n",
       "\n",
       "    .dataframe tbody tr th {\n",
       "        vertical-align: top;\n",
       "    }\n",
       "\n",
       "    .dataframe thead th {\n",
       "        text-align: right;\n",
       "    }\n",
       "</style>\n",
       "<table border=\"1\" class=\"dataframe\">\n",
       "  <thead>\n",
       "    <tr style=\"text-align: right;\">\n",
       "      <th></th>\n",
       "      <th>author</th>\n",
       "      <th>avg_rating</th>\n",
       "    </tr>\n",
       "  </thead>\n",
       "  <tbody>\n",
       "    <tr>\n",
       "      <th>0</th>\n",
       "      <td>J.K. Rowling/Mary GrandPré</td>\n",
       "      <td>4.28</td>\n",
       "    </tr>\n",
       "  </tbody>\n",
       "</table>\n",
       "</div>"
      ],
      "text/plain": [
       "                       author  avg_rating\n",
       "0  J.K. Rowling/Mary GrandPré        4.28"
      ]
     },
     "execution_count": 10,
     "metadata": {},
     "output_type": "execute_result"
    }
   ],
   "source": [
    "query4 = '''\n",
    "SELECT\n",
    "    author,\n",
    "    ROUND(AVG(subq.rating), 2) AS avg_rating\n",
    "FROM (\n",
    "    SELECT\n",
    "        author,\n",
    "        title,\n",
    "        AVG(rating) AS rating\n",
    "    FROM (\n",
    "        SELECT *\n",
    "        FROM books\n",
    "        WHERE book_id IN (\n",
    "            SELECT book_id\n",
    "            FROM ratings\n",
    "            GROUP BY book_id\n",
    "            HAVING COUNT(rating) >= 50\n",
    "        ) \n",
    "    ) AS rated_books\n",
    "    INNER JOIN authors ON rated_books.author_id = authors.author_id\n",
    "    INNER JOIN ratings ON rated_books.book_id = ratings.book_id\n",
    "    GROUP BY author, title\n",
    "    ORDER BY author\n",
    ") AS subq\n",
    "GROUP BY author\n",
    "ORDER BY avg_rating DESC\n",
    "LIMIT 1\n",
    "'''\n",
    "request4 = pd.io.sql.read_sql(query4, con = engine)\n",
    "request4"
   ]
  },
  {
   "cell_type": "markdown",
   "metadata": {},
   "source": [
    "**Вывод:**\n",
    "\n",
    "Автор, которым поставили самые высокие оценки за книги, толще 50 страниц - на первом месте Джоанн Роулинг и иллюстратор Мэри Гранпрэ."
   ]
  },
  {
   "cell_type": "markdown",
   "metadata": {},
   "source": [
    "### Посчитаем среднее количество обзоров от пользователей, которые поставили больше 50 оценок."
   ]
  },
  {
   "cell_type": "code",
   "execution_count": 11,
   "metadata": {},
   "outputs": [
    {
     "data": {
      "text/html": [
       "<div>\n",
       "<style scoped>\n",
       "    .dataframe tbody tr th:only-of-type {\n",
       "        vertical-align: middle;\n",
       "    }\n",
       "\n",
       "    .dataframe tbody tr th {\n",
       "        vertical-align: top;\n",
       "    }\n",
       "\n",
       "    .dataframe thead th {\n",
       "        text-align: right;\n",
       "    }\n",
       "</style>\n",
       "<table border=\"1\" class=\"dataframe\">\n",
       "  <thead>\n",
       "    <tr style=\"text-align: right;\">\n",
       "      <th></th>\n",
       "      <th>average_review_count</th>\n",
       "    </tr>\n",
       "  </thead>\n",
       "  <tbody>\n",
       "    <tr>\n",
       "      <th>0</th>\n",
       "      <td>24.0</td>\n",
       "    </tr>\n",
       "  </tbody>\n",
       "</table>\n",
       "</div>"
      ],
      "text/plain": [
       "   average_review_count\n",
       "0                  24.0"
      ]
     },
     "execution_count": 11,
     "metadata": {},
     "output_type": "execute_result"
    }
   ],
   "source": [
    "# создаём запрос\n",
    "query5 = '''\n",
    "SELECT\n",
    "   ROUND(AVG(subq.review_count)) AS average_review_count\n",
    "FROM (\n",
    "    SELECT COUNT(review_id) AS review_count\n",
    "        FROM\n",
    "            reviews\n",
    "        WHERE username IN (\n",
    "            SELECT\n",
    "                username\n",
    "            FROM ratings\n",
    "            GROUP BY username\n",
    "            HAVING COUNT(rating) > 50\n",
    "            )\n",
    "    GROUP BY username\n",
    "    ) AS subq;\n",
    "'''\n",
    "request5 = pd.io.sql.read_sql(query5, con = engine)\n",
    "request5"
   ]
  },
  {
   "cell_type": "markdown",
   "metadata": {},
   "source": [
    "**Вывод:**\n",
    "\n",
    "Среднее количество обзоров от пользователей, которые поставили больше 50 оценок составило 24."
   ]
  },
  {
   "cell_type": "markdown",
   "metadata": {},
   "source": [
    "### Общий вывод"
   ]
  },
  {
   "cell_type": "markdown",
   "metadata": {},
   "source": [
    "Проанализировав базы данных было выявленно:\n",
    "\n",
    "- После 1 января 2000 года вышло 819 книг. \n",
    "- Издательство Penguin Books выпустило 42 книги толще 50 страниц. Это издательство выпустило наибольшее количество книг толще 50 страниц.\n",
    "- Автор, которому поставили самые высокие оценки за книги, толще 50 страниц - Джоанн Роулинг и иллюстратора Мэри Гранпрэ.\n",
    "- Среднее количество обзоров от пользователей, которые поставили больше 50 оценок составило 24."
   ]
  }
 ],
 "metadata": {
  "ExecuteTimeLog": [
   {
    "duration": 11440,
    "start_time": "2022-04-30T00:42:07.457Z"
   },
   {
    "duration": 38,
    "start_time": "2022-04-30T00:42:59.569Z"
   },
   {
    "duration": 13,
    "start_time": "2022-04-30T00:43:44.565Z"
   },
   {
    "duration": 12,
    "start_time": "2022-04-30T00:44:24.908Z"
   },
   {
    "duration": 14,
    "start_time": "2022-04-30T00:45:10.540Z"
   },
   {
    "duration": 13,
    "start_time": "2022-04-30T00:48:48.471Z"
   },
   {
    "duration": 12,
    "start_time": "2022-04-30T00:50:04.597Z"
   },
   {
    "duration": 23,
    "start_time": "2022-04-30T00:50:48.907Z"
   },
   {
    "duration": 12,
    "start_time": "2022-04-30T00:51:45.462Z"
   },
   {
    "duration": 16,
    "start_time": "2022-04-30T00:54:55.966Z"
   },
   {
    "duration": 15,
    "start_time": "2022-04-30T00:56:57.540Z"
   },
   {
    "duration": 17,
    "start_time": "2022-04-30T00:59:21.716Z"
   },
   {
    "duration": 17,
    "start_time": "2022-04-30T01:00:08.028Z"
   },
   {
    "duration": 16,
    "start_time": "2022-04-30T01:00:43.960Z"
   },
   {
    "duration": 16,
    "start_time": "2022-04-30T01:01:18.302Z"
   },
   {
    "duration": 16,
    "start_time": "2022-04-30T01:02:50.037Z"
   },
   {
    "duration": 13,
    "start_time": "2022-04-30T01:13:24.579Z"
   },
   {
    "duration": 12,
    "start_time": "2022-04-30T01:13:59.966Z"
   },
   {
    "duration": 14,
    "start_time": "2022-04-30T01:14:20.509Z"
   },
   {
    "duration": 12340,
    "start_time": "2022-04-30T01:21:01.367Z"
   },
   {
    "duration": 46,
    "start_time": "2022-04-30T01:21:13.709Z"
   },
   {
    "duration": 11,
    "start_time": "2022-04-30T01:21:13.756Z"
   },
   {
    "duration": 11,
    "start_time": "2022-04-30T01:21:13.769Z"
   },
   {
    "duration": 13,
    "start_time": "2022-04-30T01:21:13.781Z"
   },
   {
    "duration": 12,
    "start_time": "2022-04-30T01:21:13.796Z"
   },
   {
    "duration": 21,
    "start_time": "2022-04-30T01:21:13.810Z"
   },
   {
    "duration": 23,
    "start_time": "2022-04-30T01:21:13.833Z"
   },
   {
    "duration": 12,
    "start_time": "2022-04-30T01:21:13.857Z"
   },
   {
    "duration": 17,
    "start_time": "2022-04-30T01:21:13.872Z"
   },
   {
    "duration": 13,
    "start_time": "2022-04-30T01:21:13.891Z"
   },
   {
    "duration": 8369,
    "start_time": "2022-04-30T06:34:52.135Z"
   },
   {
    "duration": 249,
    "start_time": "2022-04-30T06:35:00.506Z"
   },
   {
    "duration": 74,
    "start_time": "2022-04-30T06:35:00.757Z"
   },
   {
    "duration": 74,
    "start_time": "2022-04-30T06:35:00.833Z"
   },
   {
    "duration": 75,
    "start_time": "2022-04-30T06:35:00.909Z"
   },
   {
    "duration": 75,
    "start_time": "2022-04-30T06:35:00.986Z"
   },
   {
    "duration": 74,
    "start_time": "2022-04-30T06:35:01.063Z"
   },
   {
    "duration": 104,
    "start_time": "2022-04-30T06:35:01.139Z"
   },
   {
    "duration": 77,
    "start_time": "2022-04-30T06:35:01.245Z"
   },
   {
    "duration": 78,
    "start_time": "2022-04-30T06:35:01.324Z"
   },
   {
    "duration": 75,
    "start_time": "2022-04-30T06:35:01.404Z"
   },
   {
    "duration": 8697,
    "start_time": "2022-04-30T06:39:23.730Z"
   },
   {
    "duration": 230,
    "start_time": "2022-04-30T06:39:32.429Z"
   },
   {
    "duration": 72,
    "start_time": "2022-04-30T06:39:32.661Z"
   },
   {
    "duration": 70,
    "start_time": "2022-04-30T06:39:32.736Z"
   },
   {
    "duration": 71,
    "start_time": "2022-04-30T06:39:32.807Z"
   },
   {
    "duration": 69,
    "start_time": "2022-04-30T06:39:32.879Z"
   },
   {
    "duration": 68,
    "start_time": "2022-04-30T06:39:32.950Z"
   },
   {
    "duration": 97,
    "start_time": "2022-04-30T06:39:33.019Z"
   },
   {
    "duration": 70,
    "start_time": "2022-04-30T06:39:33.118Z"
   },
   {
    "duration": 73,
    "start_time": "2022-04-30T06:39:33.190Z"
   },
   {
    "duration": 76,
    "start_time": "2022-04-30T06:39:33.265Z"
   },
   {
    "duration": 9022,
    "start_time": "2022-05-01T04:06:22.813Z"
   },
   {
    "duration": 71,
    "start_time": "2022-05-01T04:06:31.837Z"
   },
   {
    "duration": 69,
    "start_time": "2022-05-01T04:06:31.909Z"
   },
   {
    "duration": 69,
    "start_time": "2022-05-01T04:06:31.980Z"
   },
   {
    "duration": 70,
    "start_time": "2022-05-01T04:06:32.051Z"
   },
   {
    "duration": 71,
    "start_time": "2022-05-01T04:06:32.122Z"
   },
   {
    "duration": 69,
    "start_time": "2022-05-01T04:06:32.195Z"
   },
   {
    "duration": 80,
    "start_time": "2022-05-01T04:06:32.265Z"
   },
   {
    "duration": 71,
    "start_time": "2022-05-01T04:06:32.347Z"
   },
   {
    "duration": 74,
    "start_time": "2022-05-01T04:06:32.421Z"
   },
   {
    "duration": 71,
    "start_time": "2022-05-01T04:06:32.497Z"
   },
   {
    "duration": 586,
    "start_time": "2022-05-01T04:07:52.349Z"
   },
   {
    "duration": 78,
    "start_time": "2022-05-01T04:09:13.139Z"
   },
   {
    "duration": 596,
    "start_time": "2022-05-01T04:20:31.674Z"
   },
   {
    "duration": 4,
    "start_time": "2022-05-01T04:35:51.352Z"
   },
   {
    "duration": 266,
    "start_time": "2022-05-01T04:36:30.636Z"
   },
   {
    "duration": 112,
    "start_time": "2022-05-01T04:36:37.342Z"
   },
   {
    "duration": 8025,
    "start_time": "2022-05-01T04:36:47.892Z"
   },
   {
    "duration": 71,
    "start_time": "2022-05-01T04:36:55.920Z"
   },
   {
    "duration": 0,
    "start_time": "2022-05-01T04:36:55.993Z"
   },
   {
    "duration": 0,
    "start_time": "2022-05-01T04:36:55.995Z"
   },
   {
    "duration": 0,
    "start_time": "2022-05-01T04:36:55.996Z"
   },
   {
    "duration": 0,
    "start_time": "2022-05-01T04:36:55.998Z"
   },
   {
    "duration": 0,
    "start_time": "2022-05-01T04:36:55.999Z"
   },
   {
    "duration": 0,
    "start_time": "2022-05-01T04:36:56.001Z"
   },
   {
    "duration": 0,
    "start_time": "2022-05-01T04:36:56.002Z"
   },
   {
    "duration": 0,
    "start_time": "2022-05-01T04:36:56.003Z"
   },
   {
    "duration": 0,
    "start_time": "2022-05-01T04:36:56.005Z"
   },
   {
    "duration": 5,
    "start_time": "2022-05-01T04:37:38.854Z"
   },
   {
    "duration": 227,
    "start_time": "2022-05-01T04:37:58.422Z"
   },
   {
    "duration": 75,
    "start_time": "2022-05-01T04:38:03.166Z"
   },
   {
    "duration": 69,
    "start_time": "2022-05-01T04:38:24.405Z"
   },
   {
    "duration": 68,
    "start_time": "2022-05-01T04:38:31.285Z"
   },
   {
    "duration": 68,
    "start_time": "2022-05-01T04:38:41.404Z"
   },
   {
    "duration": 71,
    "start_time": "2022-05-01T04:38:47.716Z"
   },
   {
    "duration": 7978,
    "start_time": "2022-05-01T05:14:39.980Z"
   },
   {
    "duration": 233,
    "start_time": "2022-05-01T05:14:47.960Z"
   },
   {
    "duration": 69,
    "start_time": "2022-05-01T05:14:48.194Z"
   },
   {
    "duration": 70,
    "start_time": "2022-05-01T05:14:48.265Z"
   },
   {
    "duration": 69,
    "start_time": "2022-05-01T05:14:48.337Z"
   },
   {
    "duration": 70,
    "start_time": "2022-05-01T05:14:48.407Z"
   },
   {
    "duration": 68,
    "start_time": "2022-05-01T05:14:48.479Z"
   },
   {
    "duration": 98,
    "start_time": "2022-05-01T05:14:48.548Z"
   },
   {
    "duration": 68,
    "start_time": "2022-05-01T05:14:48.648Z"
   },
   {
    "duration": 74,
    "start_time": "2022-05-01T05:14:48.718Z"
   },
   {
    "duration": 70,
    "start_time": "2022-05-01T05:14:48.794Z"
   },
   {
    "duration": 15522,
    "start_time": "2022-05-11T13:44:07.332Z"
   },
   {
    "duration": 364,
    "start_time": "2022-05-11T13:44:22.856Z"
   },
   {
    "duration": 82,
    "start_time": "2022-05-11T13:44:23.222Z"
   },
   {
    "duration": 102,
    "start_time": "2022-05-11T13:44:23.307Z"
   },
   {
    "duration": 95,
    "start_time": "2022-05-11T13:44:23.412Z"
   },
   {
    "duration": 98,
    "start_time": "2022-05-11T13:44:23.509Z"
   },
   {
    "duration": 99,
    "start_time": "2022-05-11T13:44:23.609Z"
   },
   {
    "duration": 135,
    "start_time": "2022-05-11T13:44:23.710Z"
   },
   {
    "duration": 94,
    "start_time": "2022-05-11T13:44:23.848Z"
   },
   {
    "duration": 108,
    "start_time": "2022-05-11T13:44:23.944Z"
   },
   {
    "duration": 97,
    "start_time": "2022-05-11T13:44:24.054Z"
   }
  ],
  "kernelspec": {
   "display_name": "Python 3 (ipykernel)",
   "language": "python",
   "name": "python3"
  },
  "language_info": {
   "codemirror_mode": {
    "name": "ipython",
    "version": 3
   },
   "file_extension": ".py",
   "mimetype": "text/x-python",
   "name": "python",
   "nbconvert_exporter": "python",
   "pygments_lexer": "ipython3",
   "version": "3.9.5"
  },
  "toc": {
   "base_numbering": 1,
   "nav_menu": {},
   "number_sections": true,
   "sideBar": true,
   "skip_h1_title": true,
   "title_cell": "Table of Contents",
   "title_sidebar": "Contents",
   "toc_cell": false,
   "toc_position": {},
   "toc_section_display": true,
   "toc_window_display": true
  }
 },
 "nbformat": 4,
 "nbformat_minor": 2
}
