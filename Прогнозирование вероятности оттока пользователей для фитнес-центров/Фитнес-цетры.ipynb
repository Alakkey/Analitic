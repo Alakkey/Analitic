{
 "cells": [
  {
   "cell_type": "markdown",
   "metadata": {},
   "source": [
    "**Задача**\n",
    "\n",
    "Сеть фитнес-центров «Культурист-датасаентист» разрабатывает стратегию взаимодействия с клиентами на основе аналитических данных.\n",
    "\n",
    "Распространённая проблема фитнес-клубов и других сервисов — отток клиентов. Как понять, что клиент больше не с вами? Можно записать в отток тех, кто попросил закрыть договор или удалил аккаунт. Однако клиенты не всегда уходят демонстративно: чаще перестают пользоваться сервисом тихо.\n",
    "\n",
    "Индикаторы оттока зависят от специфики отрасли. Когда пользователь редко, но стабильно закупается в интернет-магазине — не похоже, что он «отвалился». А вот если две недели не заходит на канал с ежедневно обновляемым контентом, дела плохи: подписчик заскучал и, кажется, оставил вас.\n",
    "\n",
    "Для фитнес-центра можно считать, что клиент попал в отток, если за последний месяц ни разу не посетил спортзал. Конечно, не исключено, что он уехал на Бали и по приезде обязательно продолжит ходить на фитнес. Однако чаще бывает наоборот. Если клиент начал новую жизнь с понедельника, немного походил в спортзал, а потом пропал — скорее всего, он не вернётся.\n",
    "\n",
    "Чтобы бороться с оттоком, отдел по работе с клиентами «Культуриста-датасаентиста» перевёл в электронный вид множество клиентских анкет. Ваша задача — провести анализ и подготовить план действий по удержанию клиентов.\n",
    "\n",
    "А именно:\n",
    "\n",
    "* научиться прогнозировать вероятность оттока (на уровне следующего месяца) для каждого клиента;\n",
    "* сформировать типичные портреты клиентов: выделить несколько наиболее ярких групп и охарактеризовать их основные свойства;\n",
    "* проанализировать основные признаки, наиболее сильно влияющие на отток;\n",
    "* сформулировать основные выводы и разработать рекомендации по повышению качества работы с клиентами:\n",
    "    \n",
    "    1) выделить целевые группы клиентов;\n",
    "    \n",
    "    2) предложить меры по снижению оттока;\n",
    "    \n",
    "    3) определить другие особенности взаимодействия с клиентами.\n"
   ]
  },
  {
   "cell_type": "markdown",
   "metadata": {},
   "source": [
    "**Инструкция по выполнению проекта**\n",
    "\n",
    "1. Шаг 1. Загрузите данные\n",
    "2. Шаг 2. Проведите исследовательский анализ данных (EDA)\n",
    "3. Шаг 3. Постройте модель прогнозирования оттока клиентов\n",
    "4. Шаг 4. Сделайте кластеризацию клиентов\n",
    "5. Шаг 5. Сформулируйте выводы и сделайте базовые рекомендации по работе с клиентами"
   ]
  },
  {
   "cell_type": "code",
   "execution_count": 1,
   "metadata": {},
   "outputs": [],
   "source": [
    "#Загрузим все необходимые библиотеки\n",
    "import pandas as pd\n",
    "import numpy as np\n",
    "import math\n",
    "\n",
    "import seaborn as sns\n",
    "import matplotlib.pyplot as plt\n",
    "import warnings\n",
    "warnings.filterwarnings(\"ignore\")\n",
    "%matplotlib inline\n",
    "\n",
    "# для полного отображения содержимого столбцов\n",
    "pd.set_option('display.max_colwidth', -1)\n",
    "# импорт sklearn и ее методов/алгоритмов\n",
    "from sklearn.linear_model import LogisticRegression\n",
    "from sklearn.ensemble import RandomForestClassifier\n",
    "from sklearn.metrics import accuracy_score, precision_score, recall_score, mean_squared_error, f1_score, silhouette_score\n",
    "from sklearn.preprocessing import StandardScaler\n",
    "from sklearn.model_selection import train_test_split\n",
    "from sklearn.cluster import KMeans\n",
    "from scipy.cluster.hierarchy import dendrogram, linkage\n",
    "from plotly import graph_objects as go"
   ]
  },
  {
   "cell_type": "code",
   "execution_count": 2,
   "metadata": {},
   "outputs": [],
   "source": [
    "pd.set_option('display.max_columns', None)\n",
    "pd.options.display.float_format = '{:,.2f}'.format"
   ]
  },
  {
   "cell_type": "markdown",
   "metadata": {},
   "source": [
    "### Шаг 1. Загрузка данных"
   ]
  },
  {
   "cell_type": "code",
   "execution_count": 3,
   "metadata": {},
   "outputs": [
    {
     "data": {
      "text/html": [
       "<div>\n",
       "<style scoped>\n",
       "    .dataframe tbody tr th:only-of-type {\n",
       "        vertical-align: middle;\n",
       "    }\n",
       "\n",
       "    .dataframe tbody tr th {\n",
       "        vertical-align: top;\n",
       "    }\n",
       "\n",
       "    .dataframe thead th {\n",
       "        text-align: right;\n",
       "    }\n",
       "</style>\n",
       "<table border=\"1\" class=\"dataframe\">\n",
       "  <thead>\n",
       "    <tr style=\"text-align: right;\">\n",
       "      <th></th>\n",
       "      <th>gender</th>\n",
       "      <th>Near_Location</th>\n",
       "      <th>Partner</th>\n",
       "      <th>Promo_friends</th>\n",
       "      <th>Phone</th>\n",
       "      <th>Contract_period</th>\n",
       "      <th>Group_visits</th>\n",
       "      <th>Age</th>\n",
       "      <th>Avg_additional_charges_total</th>\n",
       "      <th>Month_to_end_contract</th>\n",
       "      <th>Lifetime</th>\n",
       "      <th>Avg_class_frequency_total</th>\n",
       "      <th>Avg_class_frequency_current_month</th>\n",
       "      <th>Churn</th>\n",
       "    </tr>\n",
       "  </thead>\n",
       "  <tbody>\n",
       "    <tr>\n",
       "      <th>0</th>\n",
       "      <td>1</td>\n",
       "      <td>1</td>\n",
       "      <td>1</td>\n",
       "      <td>1</td>\n",
       "      <td>0</td>\n",
       "      <td>6</td>\n",
       "      <td>1</td>\n",
       "      <td>29</td>\n",
       "      <td>14.23</td>\n",
       "      <td>5.00</td>\n",
       "      <td>3</td>\n",
       "      <td>0.02</td>\n",
       "      <td>0.00</td>\n",
       "      <td>0</td>\n",
       "    </tr>\n",
       "    <tr>\n",
       "      <th>1</th>\n",
       "      <td>0</td>\n",
       "      <td>1</td>\n",
       "      <td>0</td>\n",
       "      <td>0</td>\n",
       "      <td>1</td>\n",
       "      <td>12</td>\n",
       "      <td>1</td>\n",
       "      <td>31</td>\n",
       "      <td>113.20</td>\n",
       "      <td>12.00</td>\n",
       "      <td>7</td>\n",
       "      <td>1.92</td>\n",
       "      <td>1.91</td>\n",
       "      <td>0</td>\n",
       "    </tr>\n",
       "    <tr>\n",
       "      <th>2</th>\n",
       "      <td>0</td>\n",
       "      <td>1</td>\n",
       "      <td>1</td>\n",
       "      <td>0</td>\n",
       "      <td>1</td>\n",
       "      <td>1</td>\n",
       "      <td>0</td>\n",
       "      <td>28</td>\n",
       "      <td>129.45</td>\n",
       "      <td>1.00</td>\n",
       "      <td>2</td>\n",
       "      <td>1.86</td>\n",
       "      <td>1.74</td>\n",
       "      <td>0</td>\n",
       "    </tr>\n",
       "    <tr>\n",
       "      <th>3</th>\n",
       "      <td>0</td>\n",
       "      <td>1</td>\n",
       "      <td>1</td>\n",
       "      <td>1</td>\n",
       "      <td>1</td>\n",
       "      <td>12</td>\n",
       "      <td>1</td>\n",
       "      <td>33</td>\n",
       "      <td>62.67</td>\n",
       "      <td>12.00</td>\n",
       "      <td>2</td>\n",
       "      <td>3.21</td>\n",
       "      <td>3.36</td>\n",
       "      <td>0</td>\n",
       "    </tr>\n",
       "    <tr>\n",
       "      <th>4</th>\n",
       "      <td>1</td>\n",
       "      <td>1</td>\n",
       "      <td>1</td>\n",
       "      <td>1</td>\n",
       "      <td>1</td>\n",
       "      <td>1</td>\n",
       "      <td>0</td>\n",
       "      <td>26</td>\n",
       "      <td>198.36</td>\n",
       "      <td>1.00</td>\n",
       "      <td>3</td>\n",
       "      <td>1.11</td>\n",
       "      <td>1.12</td>\n",
       "      <td>0</td>\n",
       "    </tr>\n",
       "    <tr>\n",
       "      <th>...</th>\n",
       "      <td>...</td>\n",
       "      <td>...</td>\n",
       "      <td>...</td>\n",
       "      <td>...</td>\n",
       "      <td>...</td>\n",
       "      <td>...</td>\n",
       "      <td>...</td>\n",
       "      <td>...</td>\n",
       "      <td>...</td>\n",
       "      <td>...</td>\n",
       "      <td>...</td>\n",
       "      <td>...</td>\n",
       "      <td>...</td>\n",
       "      <td>...</td>\n",
       "    </tr>\n",
       "    <tr>\n",
       "      <th>3995</th>\n",
       "      <td>1</td>\n",
       "      <td>1</td>\n",
       "      <td>1</td>\n",
       "      <td>0</td>\n",
       "      <td>1</td>\n",
       "      <td>12</td>\n",
       "      <td>0</td>\n",
       "      <td>33</td>\n",
       "      <td>2.41</td>\n",
       "      <td>12.00</td>\n",
       "      <td>8</td>\n",
       "      <td>2.28</td>\n",
       "      <td>2.35</td>\n",
       "      <td>0</td>\n",
       "    </tr>\n",
       "    <tr>\n",
       "      <th>3996</th>\n",
       "      <td>0</td>\n",
       "      <td>1</td>\n",
       "      <td>0</td>\n",
       "      <td>0</td>\n",
       "      <td>1</td>\n",
       "      <td>1</td>\n",
       "      <td>1</td>\n",
       "      <td>29</td>\n",
       "      <td>68.88</td>\n",
       "      <td>1.00</td>\n",
       "      <td>1</td>\n",
       "      <td>1.28</td>\n",
       "      <td>0.29</td>\n",
       "      <td>1</td>\n",
       "    </tr>\n",
       "    <tr>\n",
       "      <th>3997</th>\n",
       "      <td>1</td>\n",
       "      <td>1</td>\n",
       "      <td>1</td>\n",
       "      <td>1</td>\n",
       "      <td>1</td>\n",
       "      <td>12</td>\n",
       "      <td>0</td>\n",
       "      <td>28</td>\n",
       "      <td>78.25</td>\n",
       "      <td>11.00</td>\n",
       "      <td>2</td>\n",
       "      <td>2.79</td>\n",
       "      <td>2.83</td>\n",
       "      <td>0</td>\n",
       "    </tr>\n",
       "    <tr>\n",
       "      <th>3998</th>\n",
       "      <td>0</td>\n",
       "      <td>1</td>\n",
       "      <td>1</td>\n",
       "      <td>1</td>\n",
       "      <td>1</td>\n",
       "      <td>6</td>\n",
       "      <td>0</td>\n",
       "      <td>32</td>\n",
       "      <td>61.91</td>\n",
       "      <td>5.00</td>\n",
       "      <td>3</td>\n",
       "      <td>1.63</td>\n",
       "      <td>1.60</td>\n",
       "      <td>0</td>\n",
       "    </tr>\n",
       "    <tr>\n",
       "      <th>3999</th>\n",
       "      <td>1</td>\n",
       "      <td>0</td>\n",
       "      <td>1</td>\n",
       "      <td>0</td>\n",
       "      <td>0</td>\n",
       "      <td>12</td>\n",
       "      <td>1</td>\n",
       "      <td>30</td>\n",
       "      <td>178.86</td>\n",
       "      <td>12.00</td>\n",
       "      <td>1</td>\n",
       "      <td>1.10</td>\n",
       "      <td>1.04</td>\n",
       "      <td>0</td>\n",
       "    </tr>\n",
       "  </tbody>\n",
       "</table>\n",
       "<p>4000 rows × 14 columns</p>\n",
       "</div>"
      ],
      "text/plain": [
       "      gender  Near_Location  Partner  Promo_friends  Phone  Contract_period  \\\n",
       "0     1       1              1        1              0      6                 \n",
       "1     0       1              0        0              1      12                \n",
       "2     0       1              1        0              1      1                 \n",
       "3     0       1              1        1              1      12                \n",
       "4     1       1              1        1              1      1                 \n",
       "...  ..      ..             ..       ..             ..     ..                 \n",
       "3995  1       1              1        0              1      12                \n",
       "3996  0       1              0        0              1      1                 \n",
       "3997  1       1              1        1              1      12                \n",
       "3998  0       1              1        1              1      6                 \n",
       "3999  1       0              1        0              0      12                \n",
       "\n",
       "      Group_visits  Age  Avg_additional_charges_total  Month_to_end_contract  \\\n",
       "0     1             29  14.23                         5.00                     \n",
       "1     1             31  113.20                        12.00                    \n",
       "2     0             28  129.45                        1.00                     \n",
       "3     1             33  62.67                         12.00                    \n",
       "4     0             26  198.36                        1.00                     \n",
       "...  ..             ..     ...                         ...                     \n",
       "3995  0             33  2.41                          12.00                    \n",
       "3996  1             29  68.88                         1.00                     \n",
       "3997  0             28  78.25                         11.00                    \n",
       "3998  0             32  61.91                         5.00                     \n",
       "3999  1             30  178.86                        12.00                    \n",
       "\n",
       "      Lifetime  Avg_class_frequency_total  Avg_class_frequency_current_month  \\\n",
       "0     3        0.02                       0.00                                 \n",
       "1     7        1.92                       1.91                                 \n",
       "2     2        1.86                       1.74                                 \n",
       "3     2        3.21                       3.36                                 \n",
       "4     3        1.11                       1.12                                 \n",
       "...  ..         ...                        ...                                 \n",
       "3995  8        2.28                       2.35                                 \n",
       "3996  1        1.28                       0.29                                 \n",
       "3997  2        2.79                       2.83                                 \n",
       "3998  3        1.63                       1.60                                 \n",
       "3999  1        1.10                       1.04                                 \n",
       "\n",
       "      Churn  \n",
       "0     0      \n",
       "1     0      \n",
       "2     0      \n",
       "3     0      \n",
       "4     0      \n",
       "...  ..      \n",
       "3995  0      \n",
       "3996  1      \n",
       "3997  0      \n",
       "3998  0      \n",
       "3999  0      \n",
       "\n",
       "[4000 rows x 14 columns]"
      ]
     },
     "execution_count": 3,
     "metadata": {},
     "output_type": "execute_result"
    }
   ],
   "source": [
    "#загрузим нащ датасет\n",
    "df = pd.read_csv('/datasets/gym_churn.csv')\n",
    "df"
   ]
  },
  {
   "cell_type": "markdown",
   "metadata": {},
   "source": [
    "### Шаг 2. Проведём исследовательский анализ данных (EDA)"
   ]
  },
  {
   "cell_type": "code",
   "execution_count": 4,
   "metadata": {},
   "outputs": [
    {
     "data": {
      "text/plain": [
       "0"
      ]
     },
     "execution_count": 4,
     "metadata": {},
     "output_type": "execute_result"
    }
   ],
   "source": [
    "#Посмортрим на количемтво дубликатов\n",
    "df.duplicated().sum()"
   ]
  },
  {
   "cell_type": "code",
   "execution_count": 5,
   "metadata": {},
   "outputs": [
    {
     "name": "stdout",
     "output_type": "stream",
     "text": [
      "<class 'pandas.core.frame.DataFrame'>\n",
      "RangeIndex: 4000 entries, 0 to 3999\n",
      "Data columns (total 14 columns):\n",
      " #   Column                             Non-Null Count  Dtype  \n",
      "---  ------                             --------------  -----  \n",
      " 0   gender                             4000 non-null   int64  \n",
      " 1   near_location                      4000 non-null   int64  \n",
      " 2   partner                            4000 non-null   int64  \n",
      " 3   promo_friends                      4000 non-null   int64  \n",
      " 4   phone                              4000 non-null   int64  \n",
      " 5   contract_period                    4000 non-null   int64  \n",
      " 6   group_visits                       4000 non-null   int64  \n",
      " 7   age                                4000 non-null   int64  \n",
      " 8   avg_additional_charges_total       4000 non-null   float64\n",
      " 9   month_to_end_contract              4000 non-null   float64\n",
      " 10  lifetime                           4000 non-null   int64  \n",
      " 11  avg_class_frequency_total          4000 non-null   float64\n",
      " 12  avg_class_frequency_current_month  4000 non-null   float64\n",
      " 13  churn                              4000 non-null   int64  \n",
      "dtypes: float64(4), int64(10)\n",
      "memory usage: 437.6 KB\n"
     ]
    }
   ],
   "source": [
    "#Приведем название столбцов к нижнему регистру для удобства\n",
    "df.columns = df.columns.str.lower()\n",
    "df.info()"
   ]
  },
  {
   "cell_type": "markdown",
   "metadata": {},
   "source": [
    "**Вывод:**\n",
    "\n",
    "В датасете 4000 строк и 14 колонок с информацией о клиентах фитнес центров.\n",
    "\n",
    "Набор данных включает следующие поля:\n",
    "\n",
    "Данные клиента за предыдущий до проверки факта оттока месяц:\n",
    "\n",
    "* 'gender' — пол;\n",
    "* 'Near_Location' — проживание или работа в районе, где находится фитнес-центр;\n",
    "* 'Partner' — сотрудник компании-партнёра клуба (сотрудничество с компаниями, чьи сотрудники могут получать скидки на абонемент — в таком случае фитнес-центр хранит информацию о работодателе клиента);\n",
    "* Promo_friends — факт первоначальной записи в рамках акции «приведи друга» (использовал промо-код от знакомого при оплате первого абонемента);\n",
    "* 'Phone' — наличие контактного телефона;\n",
    "* 'Age' — возраст;\n",
    "* 'Lifetime' — время с момента первого обращения в фитнес-центр (в месяцах).\n",
    "\n",
    "Информация на основе журнала посещений, покупок и информация о текущем статусе абонемента клиента:\n",
    "\n",
    "* 'Contract_period' — длительность текущего действующего абонемента (месяц, 6 месяцев, год);\n",
    "* 'Month_to_end_contract' — срок до окончания текущего действующего абонемента (в месяцах);\n",
    "* 'Group_visits' — факт посещения групповых занятий;\n",
    "* 'Avg_class_frequency_total' — средняя частота посещений в неделю за все время с начала действия абонемента;\n",
    "* 'Avg_class_frequency_current_month' — средняя частота посещений в неделю за предыдущий месяц;\n",
    "* 'Avg_additional_charges_total' — суммарная выручка от других услуг фитнес-центра: кафе, спорттовары, косметический и массажный салон.\n",
    "* 'Churn' — факт оттока в текущем месяце.\n",
    "\n",
    "Пропусков и дубликов нет, можно приступать к следующему шагу. "
   ]
  },
  {
   "cell_type": "markdown",
   "metadata": {},
   "source": [
    "#### Посмотрим на датасет"
   ]
  },
  {
   "cell_type": "code",
   "execution_count": 6,
   "metadata": {},
   "outputs": [
    {
     "data": {
      "text/html": [
       "<div>\n",
       "<style scoped>\n",
       "    .dataframe tbody tr th:only-of-type {\n",
       "        vertical-align: middle;\n",
       "    }\n",
       "\n",
       "    .dataframe tbody tr th {\n",
       "        vertical-align: top;\n",
       "    }\n",
       "\n",
       "    .dataframe thead th {\n",
       "        text-align: right;\n",
       "    }\n",
       "</style>\n",
       "<table border=\"1\" class=\"dataframe\">\n",
       "  <thead>\n",
       "    <tr style=\"text-align: right;\">\n",
       "      <th></th>\n",
       "      <th>gender</th>\n",
       "      <th>near_location</th>\n",
       "      <th>partner</th>\n",
       "      <th>promo_friends</th>\n",
       "      <th>phone</th>\n",
       "      <th>contract_period</th>\n",
       "      <th>group_visits</th>\n",
       "      <th>age</th>\n",
       "      <th>avg_additional_charges_total</th>\n",
       "      <th>month_to_end_contract</th>\n",
       "      <th>lifetime</th>\n",
       "      <th>avg_class_frequency_total</th>\n",
       "      <th>avg_class_frequency_current_month</th>\n",
       "      <th>churn</th>\n",
       "    </tr>\n",
       "  </thead>\n",
       "  <tbody>\n",
       "    <tr>\n",
       "      <th>count</th>\n",
       "      <td>4,000.00</td>\n",
       "      <td>4,000.00</td>\n",
       "      <td>4,000.00</td>\n",
       "      <td>4,000.00</td>\n",
       "      <td>4,000.00</td>\n",
       "      <td>4,000.00</td>\n",
       "      <td>4,000.00</td>\n",
       "      <td>4,000.00</td>\n",
       "      <td>4,000.00</td>\n",
       "      <td>4,000.00</td>\n",
       "      <td>4,000.00</td>\n",
       "      <td>4,000.00</td>\n",
       "      <td>4,000.00</td>\n",
       "      <td>4,000.00</td>\n",
       "    </tr>\n",
       "    <tr>\n",
       "      <th>mean</th>\n",
       "      <td>0.51</td>\n",
       "      <td>0.85</td>\n",
       "      <td>0.49</td>\n",
       "      <td>0.31</td>\n",
       "      <td>0.90</td>\n",
       "      <td>4.68</td>\n",
       "      <td>0.41</td>\n",
       "      <td>29.18</td>\n",
       "      <td>146.94</td>\n",
       "      <td>4.32</td>\n",
       "      <td>3.72</td>\n",
       "      <td>1.88</td>\n",
       "      <td>1.77</td>\n",
       "      <td>0.27</td>\n",
       "    </tr>\n",
       "    <tr>\n",
       "      <th>std</th>\n",
       "      <td>0.50</td>\n",
       "      <td>0.36</td>\n",
       "      <td>0.50</td>\n",
       "      <td>0.46</td>\n",
       "      <td>0.30</td>\n",
       "      <td>4.55</td>\n",
       "      <td>0.49</td>\n",
       "      <td>3.26</td>\n",
       "      <td>96.36</td>\n",
       "      <td>4.19</td>\n",
       "      <td>3.75</td>\n",
       "      <td>0.97</td>\n",
       "      <td>1.05</td>\n",
       "      <td>0.44</td>\n",
       "    </tr>\n",
       "    <tr>\n",
       "      <th>min</th>\n",
       "      <td>0.00</td>\n",
       "      <td>0.00</td>\n",
       "      <td>0.00</td>\n",
       "      <td>0.00</td>\n",
       "      <td>0.00</td>\n",
       "      <td>1.00</td>\n",
       "      <td>0.00</td>\n",
       "      <td>18.00</td>\n",
       "      <td>0.15</td>\n",
       "      <td>1.00</td>\n",
       "      <td>0.00</td>\n",
       "      <td>0.00</td>\n",
       "      <td>0.00</td>\n",
       "      <td>0.00</td>\n",
       "    </tr>\n",
       "    <tr>\n",
       "      <th>25%</th>\n",
       "      <td>0.00</td>\n",
       "      <td>1.00</td>\n",
       "      <td>0.00</td>\n",
       "      <td>0.00</td>\n",
       "      <td>1.00</td>\n",
       "      <td>1.00</td>\n",
       "      <td>0.00</td>\n",
       "      <td>27.00</td>\n",
       "      <td>68.87</td>\n",
       "      <td>1.00</td>\n",
       "      <td>1.00</td>\n",
       "      <td>1.18</td>\n",
       "      <td>0.96</td>\n",
       "      <td>0.00</td>\n",
       "    </tr>\n",
       "    <tr>\n",
       "      <th>50%</th>\n",
       "      <td>1.00</td>\n",
       "      <td>1.00</td>\n",
       "      <td>0.00</td>\n",
       "      <td>0.00</td>\n",
       "      <td>1.00</td>\n",
       "      <td>1.00</td>\n",
       "      <td>0.00</td>\n",
       "      <td>29.00</td>\n",
       "      <td>136.22</td>\n",
       "      <td>1.00</td>\n",
       "      <td>3.00</td>\n",
       "      <td>1.83</td>\n",
       "      <td>1.72</td>\n",
       "      <td>0.00</td>\n",
       "    </tr>\n",
       "    <tr>\n",
       "      <th>75%</th>\n",
       "      <td>1.00</td>\n",
       "      <td>1.00</td>\n",
       "      <td>1.00</td>\n",
       "      <td>1.00</td>\n",
       "      <td>1.00</td>\n",
       "      <td>6.00</td>\n",
       "      <td>1.00</td>\n",
       "      <td>31.00</td>\n",
       "      <td>210.95</td>\n",
       "      <td>6.00</td>\n",
       "      <td>5.00</td>\n",
       "      <td>2.54</td>\n",
       "      <td>2.51</td>\n",
       "      <td>1.00</td>\n",
       "    </tr>\n",
       "    <tr>\n",
       "      <th>max</th>\n",
       "      <td>1.00</td>\n",
       "      <td>1.00</td>\n",
       "      <td>1.00</td>\n",
       "      <td>1.00</td>\n",
       "      <td>1.00</td>\n",
       "      <td>12.00</td>\n",
       "      <td>1.00</td>\n",
       "      <td>41.00</td>\n",
       "      <td>552.59</td>\n",
       "      <td>12.00</td>\n",
       "      <td>31.00</td>\n",
       "      <td>6.02</td>\n",
       "      <td>6.15</td>\n",
       "      <td>1.00</td>\n",
       "    </tr>\n",
       "  </tbody>\n",
       "</table>\n",
       "</div>"
      ],
      "text/plain": [
       "        gender  near_location  partner  promo_friends    phone  \\\n",
       "count 4,000.00 4,000.00       4,000.00 4,000.00       4,000.00   \n",
       "mean  0.51     0.85           0.49     0.31           0.90       \n",
       "std   0.50     0.36           0.50     0.46           0.30       \n",
       "min   0.00     0.00           0.00     0.00           0.00       \n",
       "25%   0.00     1.00           0.00     0.00           1.00       \n",
       "50%   1.00     1.00           0.00     0.00           1.00       \n",
       "75%   1.00     1.00           1.00     1.00           1.00       \n",
       "max   1.00     1.00           1.00     1.00           1.00       \n",
       "\n",
       "       contract_period  group_visits      age  avg_additional_charges_total  \\\n",
       "count 4,000.00         4,000.00      4,000.00 4,000.00                        \n",
       "mean  4.68             0.41          29.18    146.94                          \n",
       "std   4.55             0.49          3.26     96.36                           \n",
       "min   1.00             0.00          18.00    0.15                            \n",
       "25%   1.00             0.00          27.00    68.87                           \n",
       "50%   1.00             0.00          29.00    136.22                          \n",
       "75%   6.00             1.00          31.00    210.95                          \n",
       "max   12.00            1.00          41.00    552.59                          \n",
       "\n",
       "       month_to_end_contract  lifetime  avg_class_frequency_total  \\\n",
       "count 4,000.00               4,000.00  4,000.00                     \n",
       "mean  4.32                   3.72      1.88                         \n",
       "std   4.19                   3.75      0.97                         \n",
       "min   1.00                   0.00      0.00                         \n",
       "25%   1.00                   1.00      1.18                         \n",
       "50%   1.00                   3.00      1.83                         \n",
       "75%   6.00                   5.00      2.54                         \n",
       "max   12.00                  31.00     6.02                         \n",
       "\n",
       "       avg_class_frequency_current_month    churn  \n",
       "count 4,000.00                           4,000.00  \n",
       "mean  1.77                               0.27      \n",
       "std   1.05                               0.44      \n",
       "min   0.00                               0.00      \n",
       "25%   0.96                               0.00      \n",
       "50%   1.72                               0.00      \n",
       "75%   2.51                               1.00      \n",
       "max   6.15                               1.00      "
      ]
     },
     "execution_count": 6,
     "metadata": {},
     "output_type": "execute_result"
    }
   ],
   "source": [
    "#Посмотрим на датасет методом describe()\n",
    "df.describe()"
   ]
  },
  {
   "cell_type": "markdown",
   "metadata": {},
   "source": [
    "Вывод:\n",
    "\n",
    "Выбросов нет, данные равномерные, одинаковое количество мужчин и женщин, абонимент покупают в основном на 6 месяцев. В столбце age видно что минимальный возраст 18 лет, а максимальный 41 год, а вот std 3,26 это скорей всего люди блиского возраста. В contract_period мин 1 месяц мах 12, а вот std 4,5 оможно сказать что длительность абонемента меньше 12 месяцев, avg_additional_charges_total выручка от дополнительных услуг не велика, month_to_end_contract срок окончания у всех примерно одинаков, обонементы взяты на определенный период. Среднее посещение в неделю не так высоко, посещают не чаше 2-3 раз в неделю."
   ]
  },
  {
   "cell_type": "markdown",
   "metadata": {},
   "source": [
    "#### Посмотрим на средние значения признаков в двух группах, кто ушёл и кто остался."
   ]
  },
  {
   "cell_type": "code",
   "execution_count": 7,
   "metadata": {},
   "outputs": [
    {
     "data": {
      "text/html": [
       "<div>\n",
       "<style scoped>\n",
       "    .dataframe tbody tr th:only-of-type {\n",
       "        vertical-align: middle;\n",
       "    }\n",
       "\n",
       "    .dataframe tbody tr th {\n",
       "        vertical-align: top;\n",
       "    }\n",
       "\n",
       "    .dataframe thead th {\n",
       "        text-align: right;\n",
       "    }\n",
       "</style>\n",
       "<table border=\"1\" class=\"dataframe\">\n",
       "  <thead>\n",
       "    <tr style=\"text-align: right;\">\n",
       "      <th>churn</th>\n",
       "      <th>0</th>\n",
       "      <th>1</th>\n",
       "    </tr>\n",
       "  </thead>\n",
       "  <tbody>\n",
       "    <tr>\n",
       "      <th>gender</th>\n",
       "      <td>0.51</td>\n",
       "      <td>0.51</td>\n",
       "    </tr>\n",
       "    <tr>\n",
       "      <th>near_location</th>\n",
       "      <td>0.87</td>\n",
       "      <td>0.77</td>\n",
       "    </tr>\n",
       "    <tr>\n",
       "      <th>partner</th>\n",
       "      <td>0.53</td>\n",
       "      <td>0.36</td>\n",
       "    </tr>\n",
       "    <tr>\n",
       "      <th>promo_friends</th>\n",
       "      <td>0.35</td>\n",
       "      <td>0.18</td>\n",
       "    </tr>\n",
       "    <tr>\n",
       "      <th>phone</th>\n",
       "      <td>0.90</td>\n",
       "      <td>0.90</td>\n",
       "    </tr>\n",
       "    <tr>\n",
       "      <th>contract_period</th>\n",
       "      <td>5.75</td>\n",
       "      <td>1.73</td>\n",
       "    </tr>\n",
       "    <tr>\n",
       "      <th>group_visits</th>\n",
       "      <td>0.46</td>\n",
       "      <td>0.27</td>\n",
       "    </tr>\n",
       "    <tr>\n",
       "      <th>age</th>\n",
       "      <td>29.98</td>\n",
       "      <td>26.99</td>\n",
       "    </tr>\n",
       "    <tr>\n",
       "      <th>avg_additional_charges_total</th>\n",
       "      <td>158.45</td>\n",
       "      <td>115.08</td>\n",
       "    </tr>\n",
       "    <tr>\n",
       "      <th>month_to_end_contract</th>\n",
       "      <td>5.28</td>\n",
       "      <td>1.66</td>\n",
       "    </tr>\n",
       "    <tr>\n",
       "      <th>lifetime</th>\n",
       "      <td>4.71</td>\n",
       "      <td>0.99</td>\n",
       "    </tr>\n",
       "    <tr>\n",
       "      <th>avg_class_frequency_total</th>\n",
       "      <td>2.02</td>\n",
       "      <td>1.47</td>\n",
       "    </tr>\n",
       "    <tr>\n",
       "      <th>avg_class_frequency_current_month</th>\n",
       "      <td>2.03</td>\n",
       "      <td>1.04</td>\n",
       "    </tr>\n",
       "  </tbody>\n",
       "</table>\n",
       "</div>"
      ],
      "text/plain": [
       "churn                                  0      1\n",
       "gender                            0.51   0.51  \n",
       "near_location                     0.87   0.77  \n",
       "partner                           0.53   0.36  \n",
       "promo_friends                     0.35   0.18  \n",
       "phone                             0.90   0.90  \n",
       "contract_period                   5.75   1.73  \n",
       "group_visits                      0.46   0.27  \n",
       "age                               29.98  26.99 \n",
       "avg_additional_charges_total      158.45 115.08\n",
       "month_to_end_contract             5.28   1.66  \n",
       "lifetime                          4.71   0.99  \n",
       "avg_class_frequency_total         2.02   1.47  \n",
       "avg_class_frequency_current_month 2.03   1.04  "
      ]
     },
     "execution_count": 7,
     "metadata": {},
     "output_type": "execute_result"
    }
   ],
   "source": [
    "# Посмотрим на тех, кто ушел в отток и тех, кто остался\n",
    "churn_group = df.groupby('churn').mean()\n",
    "churn_group_transpose = churn_group.transpose()\n",
    "churn_group_transpose"
   ]
  },
  {
   "cell_type": "markdown",
   "metadata": {},
   "source": [
    "**Вывод:**\n",
    "\n",
    "Среди тех кто остался больше всего тех, кто рядом проживает, сотрудник компании-партнера\n",
    "привели друзья, тот кто около полугода в клубе, посещает групповые занятия, кто старше 29 лет, у кого абонемент на полгода, у кого до конца абонемента около полгода, кто давно в клубе, посещает клуб не меньше двух раз в неделю. Так же больше остаются те клиенты, которые больше тратит на дополнительные услуги."
   ]
  },
  {
   "cell_type": "markdown",
   "metadata": {},
   "source": [
    "#### Построим столбчатые гистограммы"
   ]
  },
  {
   "cell_type": "code",
   "execution_count": 8,
   "metadata": {},
   "outputs": [],
   "source": [
    "#список количественных переменных\n",
    "list_1 = ['age', 'lifetime', 'contract_period', 'avg_additional_charges_total', \n",
    "          'month_to_end_contract', 'avg_class_frequency_total', \n",
    "          'avg_class_frequency_current_month']\n",
    "#список категориальных пременных\n",
    "list_2 = ['gender', 'near_location', 'partner', 'promo_friends','phone', 'group_visits']\n",
    "df_1 = df\n",
    "df_1 = df_1.replace({'churn':{0:'остался', 1:'ушел'}})"
   ]
  },
  {
   "cell_type": "code",
   "execution_count": 9,
   "metadata": {
    "scrolled": true
   },
   "outputs": [
    {
     "data": {
      "image/png": "[encoded data removed]",
      "text/plain": [
       "<Figure size 432x288 with 1 Axes>"
      ]
     },
     "metadata": {
      "needs_background": "light"
     },
     "output_type": "display_data"
    },
    {
     "data": {
      "image/png": "[encoded data removed]",
      "text/plain": [
       "<Figure size 432x288 with 1 Axes>"
      ]
     },
     "metadata": {
      "needs_background": "light"
     },
     "output_type": "display_data"
    },
    {
     "data": {
      "image/png": "[encoded data removed]",
      "text/plain": [
       "<Figure size 432x288 with 1 Axes>"
      ]
     },
     "metadata": {
      "needs_background": "light"
     },
     "output_type": "display_data"
    },
    {
     "data": {
      "image/png": "[encoded data removed]",
      "text/plain": [
       "<Figure size 432x288 with 1 Axes>"
      ]
     },
     "metadata": {
      "needs_background": "light"
     },
     "output_type": "display_data"
    },
    {
     "data": {
      "image/png": "[encoded data removed]",
      "text/plain": [
       "<Figure size 432x288 with 1 Axes>"
      ]
     },
     "metadata": {
      "needs_background": "light"
     },
     "output_type": "display_data"
    },
    {
     "data": {
      "image/png": "[encoded data removed]",
      "text/plain": [
       "<Figure size 432x288 with 1 Axes>"
      ]
     },
     "metadata": {
      "needs_background": "light"
     },
     "output_type": "display_data"
    },
    {
     "data": {
      "image/png": "[encoded data removed]",
      "text/plain": [
       "<Figure size 432x288 with 1 Axes>"
      ]
     },
     "metadata": {
      "needs_background": "light"
     },
     "output_type": "display_data"
    }
   ],
   "source": [
    "for i in list_1:\n",
    "    df_1.groupby('churn')[i].hist(alpha=0.5)\n",
    "    plt.legend(df_1['churn'].unique())\n",
    "    plt.xlabel(\"Признак\")\n",
    "    plt.ylabel(\"Количество записей\")\n",
    "    plt.title(i)\n",
    "    plt.show()"
   ]
  },
  {
   "cell_type": "markdown",
   "metadata": {},
   "source": [
    "**Вывод:**\n",
    "\n",
    "По гистограммам видно, что чаще уходят клиенты в возрасте от 20 до 26 лет, время с момента первого обращения которых в фитнес-центр составляет 1-2 месяца, с абонементом на 1 месяц. Суммарная выручка от других услуг фитнес-центра на долю ушедших относительно доли постоянных клиетов невелика."
   ]
  },
  {
   "cell_type": "code",
   "execution_count": 10,
   "metadata": {
    "scrolled": true
   },
   "outputs": [
    {
     "data": {
      "image/png": "[encoded data removed]",
      "text/plain": [
       "<Figure size 432x288 with 1 Axes>"
      ]
     },
     "metadata": {
      "needs_background": "light"
     },
     "output_type": "display_data"
    },
    {
     "data": {
      "image/png": "[encoded data removed]",
      "text/plain": [
       "<Figure size 432x288 with 1 Axes>"
      ]
     },
     "metadata": {
      "needs_background": "light"
     },
     "output_type": "display_data"
    },
    {
     "data": {
      "image/png": "[encoded data removed]",
      "text/plain": [
       "<Figure size 432x288 with 1 Axes>"
      ]
     },
     "metadata": {
      "needs_background": "light"
     },
     "output_type": "display_data"
    },
    {
     "data": {
      "image/png": "[encoded data removed]",
      "text/plain": [
       "<Figure size 432x288 with 1 Axes>"
      ]
     },
     "metadata": {
      "needs_background": "light"
     },
     "output_type": "display_data"
    },
    {
     "data": {
      "image/png": "[encoded data removed]",
      "text/plain": [
       "<Figure size 432x288 with 1 Axes>"
      ]
     },
     "metadata": {
      "needs_background": "light"
     },
     "output_type": "display_data"
    },
    {
     "data": {
      "image/png": "[encoded data removed]",
      "text/plain": [
       "<Figure size 432x288 with 1 Axes>"
      ]
     },
     "metadata": {
      "needs_background": "light"
     },
     "output_type": "display_data"
    }
   ],
   "source": [
    "for i in list_2:\n",
    "    sns.barplot(data=df_1, x='churn', y=i)\n",
    "    plt.xlabel(\"Характеристика оттока\")\n",
    "    plt.ylabel(\"Частота\")\n",
    "    plt.title(i)\n",
    "    plt.show()"
   ]
  },
  {
   "cell_type": "markdown",
   "metadata": {},
   "source": [
    "**Вывод:**\n",
    "\n",
    "На графиках видно, что чаще остаются клиенты, которые живут или работают неподалеку, приходящие по акции \"приведи друга\" и посещающие групповые занятия. Пол клиента на отток не влияеет."
   ]
  },
  {
   "cell_type": "markdown",
   "metadata": {},
   "source": [
    "#### Построим матрицу корреляций ."
   ]
  },
  {
   "cell_type": "code",
   "execution_count": 11,
   "metadata": {},
   "outputs": [
    {
     "data": {
      "image/png": "[encoded data removed]",
      "text/plain": [
       "<Figure size 1080x720 with 2 Axes>"
      ]
     },
     "metadata": {
      "needs_background": "light"
     },
     "output_type": "display_data"
    }
   ],
   "source": [
    "matr = df.corr()\n",
    "plt.figure(figsize=(15, 10))\n",
    "sns.heatmap(matr, annot = True, square=False)\n",
    "plt.title('Матрица корреляций признаков', fontsize = 15)\n",
    "plt.xlabel('Признаки', fontsize = 15)\n",
    "plt.ylabel('Признаки', fontsize = 15)\n",
    "plt.show()"
   ]
  },
  {
   "cell_type": "markdown",
   "metadata": {},
   "source": [
    "**Вывод:**\n",
    "\n",
    "Сильную корреляция у признаков, которую надо будет учесть в моделях линейной регрессии:\n",
    "* 'contract_period' и 'month_to_end_contract'- чем больше период абонемента, тем скорее всего больше месяцев осталось;\n",
    "* 'avg_class_frequency_current_month' и 'avg_class_frequency_total' - те кто давно ходит с постоянной регулярностью, тот и за последний месяц ходил скорее всего с таким же графиком.\n",
    "\n",
    "Слабая кореляция у признаков: 'contract_period', 'age', 'month_to_end_contract', 'lifetime', 'avg_class_frequency_current_month'\n",
    "\n",
    "Очень слабая и почти нулевая корреляция у признаков: 'near_location', 'partner', 'promo_friends', 'group_visits', 'avg_additional_charges_total', 'avg_class_frequency_total', 'gender' и 'phone'."
   ]
  },
  {
   "cell_type": "markdown",
   "metadata": {},
   "source": [
    "### Шаг 3. Построим модель прогнозирования оттока клиентов"
   ]
  },
  {
   "cell_type": "markdown",
   "metadata": {},
   "source": [
    "#### Разбиение данных на обучающую и валидационную выборки"
   ]
  },
  {
   "cell_type": "code",
   "execution_count": 12,
   "metadata": {},
   "outputs": [
    {
     "data": {
      "text/plain": [
       "array([[-1.01511421,  0.4175068 ,  1.03175391,  1.4800097 ,  0.31628211,\n",
       "         1.60502986, -0.84769226,  0.57944798,  0.37161711,  1.59173796,\n",
       "         1.12734972,  1.75580418,  1.61822807],\n",
       "       [-1.01511421,  0.4175068 , -0.96922337, -0.67567125,  0.31628211,\n",
       "        -0.81299073, -0.84769226,  0.27046055, -1.09697378, -0.79568246,\n",
       "         5.88138322, -0.2239674 , -0.01340886],\n",
       "       [ 0.98511083,  0.4175068 ,  1.03175391, -0.67567125,  0.31628211,\n",
       "         1.60502986, -0.84769226, -0.65650171, -1.18374157,  1.83048   ,\n",
       "         0.3350108 , -0.84308456, -0.80541199],\n",
       "       [-1.01511421,  0.4175068 ,  1.03175391,  1.4800097 ,  0.31628211,\n",
       "         0.28610954, -0.84769226, -0.96548914, -0.95158829,  0.39802775,\n",
       "         1.39146269,  0.66771379,  0.64605224],\n",
       "       [-1.01511421,  0.4175068 , -0.96922337, -0.67567125, -3.16173427,\n",
       "        -0.81299073, -0.84769226, -0.03852687,  0.97190435, -0.79568246,\n",
       "         0.07089783, -0.19587934, -0.16038147]])"
      ]
     },
     "metadata": {},
     "output_type": "display_data"
    }
   ],
   "source": [
    "#Разделим наши данные на признаки (матрица X) и целевую переменную (y)\n",
    "X = df.drop('churn', axis=1)\n",
    "y = df['churn'] \n",
    "#Разделяем модель на обучающую и валидационную выборки и применяем стандартизацию.\n",
    "X_train, X_test, y_train, y_test = train_test_split(X, y, test_size=0.2, random_state=0)\n",
    "#создадим объект класса StandardScaler и применим его к обучающей выборке\n",
    "scaler = StandardScaler()\n",
    "X_train_st = scaler.fit_transform(X_train) \n",
    "display(X_train_st[:5])\n",
    "#применяем стандартизацию к матрице признаков для тестовой выборки\n",
    "X_test_st = scaler.transform(X_test)"
   ]
  },
  {
   "cell_type": "markdown",
   "metadata": {},
   "source": [
    "#### Обучим модель на train-выборке двумя способами: логистической регрессией, случайным лесом.\n"
   ]
  },
  {
   "cell_type": "code",
   "execution_count": 13,
   "metadata": {},
   "outputs": [
    {
     "name": "stdout",
     "output_type": "stream",
     "text": [
      "accuracy_score: 0.91\n",
      "precision_score: 0.82\n",
      "recal_score: 0.8\n"
     ]
    }
   ],
   "source": [
    "#Логическая регрессия\n",
    "lr_model = LogisticRegression(random_state=0)\n",
    "lr_model.fit(X_train, y_train)\n",
    "lr_predictions = lr_model.predict(X_test)\n",
    "lr_probabilities = lr_model.predict_proba(X_test)[:,1]\n",
    "print('accuracy_score: {}\\nprecision_score: {}\\nrecal_score: {}'.format(\n",
    "    accuracy_score(y_test, lr_predictions).round(2),\n",
    "    precision_score(y_test, lr_predictions).round(2),\n",
    "    recall_score(y_test, lr_predictions).round(2)\n",
    "))"
   ]
  },
  {
   "cell_type": "code",
   "execution_count": 14,
   "metadata": {},
   "outputs": [
    {
     "name": "stdout",
     "output_type": "stream",
     "text": [
      "accuracy_score: 0.92\n",
      "precision_score: 0.84\n",
      "recal_score: 0.82\n"
     ]
    }
   ],
   "source": [
    "# Случайный лес\n",
    "rf_model = RandomForestClassifier(n_estimators=100, random_state=0)\n",
    "rf_model.fit(X_train, y_train)\n",
    "rf_predictions = rf_model.predict(X_test)\n",
    "rf_probabilities = rf_model.predict_proba(X_test)[:,1]\n",
    "print('accuracy_score: {}\\nprecision_score: {}\\nrecal_score: {}'.format(\n",
    "    accuracy_score(y_test, rf_predictions).round(2),\n",
    "    precision_score(y_test, rf_predictions).round(2),\n",
    "    recall_score(y_test, rf_predictions).round(2)\n",
    "))"
   ]
  },
  {
   "cell_type": "markdown",
   "metadata": {},
   "source": [
    "#### Оценим метрики accuracy, precision и recall для обеих моделей на валидационной выборке."
   ]
  },
  {
   "cell_type": "markdown",
   "metadata": {},
   "source": [
    "**Вывод:** \n",
    "\n",
    "Обе модели показали очень схожие результаты, модель \"Случайный лес\"  - немного лучше, а значит чуть точнее.\n",
    "\n",
    "По параметру Accuracy_score \"Случайный лес\" совсем не много выигрывает у \"Логистическая регрессия\" (0,92 против 0,91), по precision_score тоже \"Случайный лес\" выше (0,84 проитив 0,82) и также немного лучше по recall_score (0,82 против 0,8)\n",
    "\n",
    "По всем параметрам \"Случайный лес\" дает результат немного лучше чем \"Логистическая регрессия\""
   ]
  },
  {
   "cell_type": "markdown",
   "metadata": {},
   "source": []
  },
  {
   "cell_type": "markdown",
   "metadata": {},
   "source": [
    "### Шаг 4. Кластеризация клиентов"
   ]
  },
  {
   "cell_type": "markdown",
   "metadata": {},
   "source": [
    "#### Матрица расстояний и дендрограмма"
   ]
  },
  {
   "cell_type": "code",
   "execution_count": 15,
   "metadata": {},
   "outputs": [
    {
     "data": {
      "image/png": "[encoded data removed]",
      "text/plain": [
       "<Figure size 1152x648 with 1 Axes>"
      ]
     },
     "metadata": {
      "needs_background": "light"
     },
     "output_type": "display_data"
    }
   ],
   "source": [
    "df_sс = df.drop(['churn'], axis=1)\n",
    "df_columns_list = df_sс.columns\n",
    "df_sс = StandardScaler().fit_transform(df_sс)\n",
    "df_sс = pd.DataFrame(df_sс, columns = df_columns_list).astype('float64')\n",
    "# матрица расстояния\n",
    "linked = linkage(df_sс, method = 'ward')\n",
    "plt.figure(figsize=(16, 9))  \n",
    "dendrogram(linked, orientation = 'top')\n",
    "plt.title('Кластеризация пользователей')\n",
    "plt.show()"
   ]
  },
  {
   "cell_type": "markdown",
   "metadata": {},
   "source": [
    "По дендрограмме явно прорисовывается 4 кластера, но по заданию нужно за число кластеров принять n=5, так и поступим."
   ]
  },
  {
   "cell_type": "markdown",
   "metadata": {},
   "source": [
    "#### Кластеризации по алгоритму K-Means и прогнозирование кластеров клиентов "
   ]
  },
  {
   "cell_type": "code",
   "execution_count": 16,
   "metadata": {},
   "outputs": [
    {
     "data": {
      "text/html": [
       "<div>\n",
       "<style scoped>\n",
       "    .dataframe tbody tr th:only-of-type {\n",
       "        vertical-align: middle;\n",
       "    }\n",
       "\n",
       "    .dataframe tbody tr th {\n",
       "        vertical-align: top;\n",
       "    }\n",
       "\n",
       "    .dataframe thead th {\n",
       "        text-align: right;\n",
       "    }\n",
       "</style>\n",
       "<table border=\"1\" class=\"dataframe\">\n",
       "  <thead>\n",
       "    <tr style=\"text-align: right;\">\n",
       "      <th>cluster</th>\n",
       "      <th>0</th>\n",
       "      <th>1</th>\n",
       "      <th>2</th>\n",
       "      <th>3</th>\n",
       "      <th>4</th>\n",
       "    </tr>\n",
       "  </thead>\n",
       "  <tbody>\n",
       "    <tr>\n",
       "      <th>gender</th>\n",
       "      <td>0.50</td>\n",
       "      <td>0.52</td>\n",
       "      <td>0.50</td>\n",
       "      <td>0.49</td>\n",
       "      <td>0.56</td>\n",
       "    </tr>\n",
       "    <tr>\n",
       "      <th>near_location</th>\n",
       "      <td>0.96</td>\n",
       "      <td>0.86</td>\n",
       "      <td>0.00</td>\n",
       "      <td>1.00</td>\n",
       "      <td>0.98</td>\n",
       "    </tr>\n",
       "    <tr>\n",
       "      <th>partner</th>\n",
       "      <td>0.78</td>\n",
       "      <td>0.47</td>\n",
       "      <td>0.46</td>\n",
       "      <td>0.35</td>\n",
       "      <td>0.36</td>\n",
       "    </tr>\n",
       "    <tr>\n",
       "      <th>promo_friends</th>\n",
       "      <td>0.57</td>\n",
       "      <td>0.31</td>\n",
       "      <td>0.08</td>\n",
       "      <td>0.24</td>\n",
       "      <td>0.23</td>\n",
       "    </tr>\n",
       "    <tr>\n",
       "      <th>phone</th>\n",
       "      <td>1.00</td>\n",
       "      <td>0.00</td>\n",
       "      <td>1.00</td>\n",
       "      <td>1.00</td>\n",
       "      <td>1.00</td>\n",
       "    </tr>\n",
       "    <tr>\n",
       "      <th>contract_period</th>\n",
       "      <td>10.89</td>\n",
       "      <td>4.79</td>\n",
       "      <td>2.35</td>\n",
       "      <td>1.95</td>\n",
       "      <td>2.67</td>\n",
       "    </tr>\n",
       "    <tr>\n",
       "      <th>group_visits</th>\n",
       "      <td>0.54</td>\n",
       "      <td>0.43</td>\n",
       "      <td>0.22</td>\n",
       "      <td>0.34</td>\n",
       "      <td>0.47</td>\n",
       "    </tr>\n",
       "    <tr>\n",
       "      <th>age</th>\n",
       "      <td>29.98</td>\n",
       "      <td>29.30</td>\n",
       "      <td>28.48</td>\n",
       "      <td>28.17</td>\n",
       "      <td>30.13</td>\n",
       "    </tr>\n",
       "    <tr>\n",
       "      <th>avg_additional_charges_total</th>\n",
       "      <td>160.76</td>\n",
       "      <td>143.96</td>\n",
       "      <td>135.46</td>\n",
       "      <td>131.62</td>\n",
       "      <td>161.66</td>\n",
       "    </tr>\n",
       "    <tr>\n",
       "      <th>month_to_end_contract</th>\n",
       "      <td>9.95</td>\n",
       "      <td>4.48</td>\n",
       "      <td>2.20</td>\n",
       "      <td>1.86</td>\n",
       "      <td>2.46</td>\n",
       "    </tr>\n",
       "    <tr>\n",
       "      <th>lifetime</th>\n",
       "      <td>4.74</td>\n",
       "      <td>3.92</td>\n",
       "      <td>2.81</td>\n",
       "      <td>2.44</td>\n",
       "      <td>4.90</td>\n",
       "    </tr>\n",
       "    <tr>\n",
       "      <th>avg_class_frequency_total</th>\n",
       "      <td>1.98</td>\n",
       "      <td>1.85</td>\n",
       "      <td>1.66</td>\n",
       "      <td>1.25</td>\n",
       "      <td>2.85</td>\n",
       "    </tr>\n",
       "    <tr>\n",
       "      <th>avg_class_frequency_current_month</th>\n",
       "      <td>1.97</td>\n",
       "      <td>1.72</td>\n",
       "      <td>1.48</td>\n",
       "      <td>1.01</td>\n",
       "      <td>2.85</td>\n",
       "    </tr>\n",
       "    <tr>\n",
       "      <th>churn</th>\n",
       "      <td>0.03</td>\n",
       "      <td>0.27</td>\n",
       "      <td>0.44</td>\n",
       "      <td>0.51</td>\n",
       "      <td>0.07</td>\n",
       "    </tr>\n",
       "  </tbody>\n",
       "</table>\n",
       "</div>"
      ],
      "text/plain": [
       "cluster                                0      1      2      3      4\n",
       "gender                            0.50   0.52   0.50   0.49   0.56  \n",
       "near_location                     0.96   0.86   0.00   1.00   0.98  \n",
       "partner                           0.78   0.47   0.46   0.35   0.36  \n",
       "promo_friends                     0.57   0.31   0.08   0.24   0.23  \n",
       "phone                             1.00   0.00   1.00   1.00   1.00  \n",
       "contract_period                   10.89  4.79   2.35   1.95   2.67  \n",
       "group_visits                      0.54   0.43   0.22   0.34   0.47  \n",
       "age                               29.98  29.30  28.48  28.17  30.13 \n",
       "avg_additional_charges_total      160.76 143.96 135.46 131.62 161.66\n",
       "month_to_end_contract             9.95   4.48   2.20   1.86   2.46  \n",
       "lifetime                          4.74   3.92   2.81   2.44   4.90  \n",
       "avg_class_frequency_total         1.98   1.85   1.66   1.25   2.85  \n",
       "avg_class_frequency_current_month 1.97   1.72   1.48   1.01   2.85  \n",
       "churn                             0.03   0.27   0.44   0.51   0.07  "
      ]
     },
     "execution_count": 16,
     "metadata": {},
     "output_type": "execute_result"
    }
   ],
   "source": [
    "# зададим модель k_means с количеством кластеров 5\n",
    "km = KMeans(n_clusters=5, random_state=0)\n",
    "labels = km.fit_predict(df_sс)\n",
    "df['cluster'] = labels\n",
    "# посчитаю долю оттока\n",
    "df.groupby('cluster').mean().T"
   ]
  },
  {
   "cell_type": "code",
   "execution_count": 17,
   "metadata": {
    "scrolled": true
   },
   "outputs": [
    {
     "data": {
      "image/png": "[encoded data removed]",
      "text/plain": [
       "<Figure size 432x288 with 1 Axes>"
      ]
     },
     "metadata": {
      "needs_background": "light"
     },
     "output_type": "display_data"
    },
    {
     "data": {
      "image/png": "[encoded data removed]",
      "text/plain": [
       "<Figure size 432x288 with 1 Axes>"
      ]
     },
     "metadata": {
      "needs_background": "light"
     },
     "output_type": "display_data"
    },
    {
     "data": {
      "image/png": "[encoded data removed]",
      "text/plain": [
       "<Figure size 432x288 with 1 Axes>"
      ]
     },
     "metadata": {
      "needs_background": "light"
     },
     "output_type": "display_data"
    },
    {
     "data": {
      "image/png": "[encoded data removed]",
      "text/plain": [
       "<Figure size 432x288 with 1 Axes>"
      ]
     },
     "metadata": {
      "needs_background": "light"
     },
     "output_type": "display_data"
    },
    {
     "data": {
      "image/png": "[encoded data removed]",
      "text/plain": [
       "<Figure size 432x288 with 1 Axes>"
      ]
     },
     "metadata": {
      "needs_background": "light"
     },
     "output_type": "display_data"
    },
    {
     "data": {
      "image/png": "[encoded data removed]",
      "text/plain": [
       "<Figure size 432x288 with 1 Axes>"
      ]
     },
     "metadata": {
      "needs_background": "light"
     },
     "output_type": "display_data"
    },
    {
     "data": {
      "image/png": "[encoded data removed]",
      "text/plain": [
       "<Figure size 432x288 with 1 Axes>"
      ]
     },
     "metadata": {
      "needs_background": "light"
     },
     "output_type": "display_data"
    },
    {
     "data": {
      "image/png": "[encoded data removed]",
      "text/plain": [
       "<Figure size 432x288 with 1 Axes>"
      ]
     },
     "metadata": {
      "needs_background": "light"
     },
     "output_type": "display_data"
    }
   ],
   "source": [
    "# Построим график для логических и дискретных переменных\n",
    "log_discr_values = ['gender', 'near_location', 'partner', \n",
    "                    'promo_friends', 'phone', 'contract_period', 'group_visits', 'churn']\n",
    "fig, ax = plt.subplots()\n",
    "for column in log_discr_values:\n",
    "    plt.title(\"Распределение признака \"+column)\n",
    "    sns.countplot(data=df, x=column, hue='cluster')\n",
    "    plt.xlabel(column)\n",
    "    plt.ylabel(\"количество\")\n",
    "    plt.legend(bbox_to_anchor=(1.3, 1))\n",
    "    plt.show()\n"
   ]
  },
  {
   "cell_type": "code",
   "execution_count": 18,
   "metadata": {},
   "outputs": [
    {
     "data": {
      "image/png": "[encoded data removed]",
      "text/plain": [
       "<Figure size 432x288 with 1 Axes>"
      ]
     },
     "metadata": {
      "needs_background": "light"
     },
     "output_type": "display_data"
    },
    {
     "data": {
      "image/png": "[encoded data removed]",
      "text/plain": [
       "<Figure size 432x288 with 1 Axes>"
      ]
     },
     "metadata": {
      "needs_background": "light"
     },
     "output_type": "display_data"
    },
    {
     "data": {
      "image/png": "[encoded data removed]",
      "text/plain": [
       "<Figure size 432x288 with 1 Axes>"
      ]
     },
     "metadata": {
      "needs_background": "light"
     },
     "output_type": "display_data"
    },
    {
     "data": {
      "image/png": "[encoded data removed]",
      "text/plain": [
       "<Figure size 432x288 with 1 Axes>"
      ]
     },
     "metadata": {
      "needs_background": "light"
     },
     "output_type": "display_data"
    }
   ],
   "source": [
    "# Построим график для непрерывных переменных\n",
    "cont_values = ['age', 'lifetime', 'avg_class_frequency_current_month', \n",
    "               'avg_additional_charges_total']\n",
    "fig, ax = plt.subplots()\n",
    "for column in cont_values:\n",
    "    plt.title(\"Распределение признака \"+column)\n",
    "    sns.boxplot(x='cluster', y=column, data=df)\n",
    "    plt.xlabel('кластер')\n",
    "    plt.ylabel('значение '+column)\n",
    "    plt.show()"
   ]
  },
  {
   "cell_type": "code",
   "execution_count": 19,
   "metadata": {},
   "outputs": [
    {
     "data": {
      "text/html": [
       "<style  type=\"text/css\" >\n",
       "</style><table id=\"T_a00a5_\" ><thead>    <tr>        <th class=\"blank level0\" ></th>        <th class=\"col_heading level0 col0\" >доля оттока</th>    </tr>    <tr>        <th class=\"index_name level0\" >cluster</th>        <th class=\"blank\" ></th>    </tr></thead><tbody>\n",
       "                <tr>\n",
       "                        <th id=\"T_a00a5_level0_row0\" class=\"row_heading level0 row0\" >0</th>\n",
       "                        <td id=\"T_a00a5_row0_col0\" class=\"data row0 col0\" >2.77%</td>\n",
       "            </tr>\n",
       "            <tr>\n",
       "                        <th id=\"T_a00a5_level0_row1\" class=\"row_heading level0 row1\" >1</th>\n",
       "                        <td id=\"T_a00a5_row1_col0\" class=\"data row1 col0\" >26.75%</td>\n",
       "            </tr>\n",
       "            <tr>\n",
       "                        <th id=\"T_a00a5_level0_row2\" class=\"row_heading level0 row2\" >2</th>\n",
       "                        <td id=\"T_a00a5_row2_col0\" class=\"data row2 col0\" >44.36%</td>\n",
       "            </tr>\n",
       "            <tr>\n",
       "                        <th id=\"T_a00a5_level0_row3\" class=\"row_heading level0 row3\" >3</th>\n",
       "                        <td id=\"T_a00a5_row3_col0\" class=\"data row3 col0\" >51.43%</td>\n",
       "            </tr>\n",
       "            <tr>\n",
       "                        <th id=\"T_a00a5_level0_row4\" class=\"row_heading level0 row4\" >4</th>\n",
       "                        <td id=\"T_a00a5_row4_col0\" class=\"data row4 col0\" >6.80%</td>\n",
       "            </tr>\n",
       "    </tbody></table>"
      ],
      "text/plain": [
       "<pandas.io.formats.style.Styler at 0x7f1489b13dc0>"
      ]
     },
     "execution_count": 19,
     "metadata": {},
     "output_type": "execute_result"
    }
   ],
   "source": [
    "# Для каждого полученного кластера посчитаем долю оттока¶\n",
    "cluster_churn = df.groupby('cluster').agg({'churn': 'mean'})\n",
    "cluster_churn.rename(columns= {'churn': 'доля оттока'}).style.format({'доля оттока': '{:,.2%}'.format})"
   ]
  },
  {
   "cell_type": "code",
   "execution_count": 20,
   "metadata": {},
   "outputs": [
    {
     "data": {
      "text/plain": [
       "cluster\n",
       "0    1010\n",
       "1    385 \n",
       "2    505 \n",
       "3    1262\n",
       "4    838 \n",
       "Name: gender, dtype: int64"
      ]
     },
     "execution_count": 20,
     "metadata": {},
     "output_type": "execute_result"
    }
   ],
   "source": [
    "# Посмотрим сколько клиентов в кластерах\n",
    "df.groupby(['cluster'])['gender'].count()"
   ]
  },
  {
   "cell_type": "markdown",
   "metadata": {
    "scrolled": false
   },
   "source": [
    "**Вывод:**\n",
    "\n",
    "Кластер 0:\n",
    "\n",
    "* Низкая доля оттока клиентов, всего 2.77%\n",
    "* Количество людей 1010\n",
    "* Возраст около от 28 до 33 лет\n",
    "* Абонемент 12 мес\n",
    "* Среднее посещение фитнес-клуба 2-3 раза в недлю\n",
    "* Каждый второй посещает групповые занятия\n",
    "* Большинство участники партнерской программы\n",
    "* Проживают не далеко от фитнес клуба\n",
    "* Время взаимодествия с фитнес клубом около 3 месяцев\n",
    "\n",
    "Кластер 1:\n",
    "\n",
    "* Средняя доля оттока клиентов, 26.75%\n",
    "* Количество людей 385\n",
    "* Возраст от 27 до 32 лет\n",
    "* Абонемент 6 мес\n",
    "* Среднее посещение фитнес-клуба 2-3 раза в недлю\n",
    "* Каждый второй посещает групповые занятия\n",
    "* Каждый второй участник партнерской программы\n",
    "* Проживают в районе фитнес клуба\n",
    "* Время взаимодествия с фитнес клубом около 4 месяцев\n",
    "\n",
    "Кластер 2:\n",
    "\n",
    "* Высокая доля оттока клиентов, 44.36% - это почти половина клиентов\n",
    "* Количество людей 505\n",
    "* Возраст от 27 до 34 лет\n",
    "* Абонемент 2 мес\n",
    "* Среднее посещение фитнес-клуба 2-4 раза в недлю\n",
    "* Каждый 4 посещает груповые занятия\n",
    "* Каждый второй участник партнерской программы\n",
    "* Не проживают в районе фитнес клуба\n",
    "* Время взаимодествия с фитнес клубом около 3 месяца\n",
    "\n",
    "Кластер 3:\n",
    "\n",
    "* Самая высокая доля оттока клиентов = 51.43% - больше половины клиентов ушло\n",
    "* Количество людей 1262\n",
    "* Возраст от 28 до 33 лет\n",
    "* Абонемент 6 месяцев\n",
    "* Среднее посещение фитнес-клуба до 2х раз в неделю\n",
    "* Каждый 3 посещает груповые занятия\n",
    "* Проживают в районе фитнес клуба\n",
    "* Премя взаимодествия с фитнес клубом 2-3 месяца\n",
    "\n",
    "\n",
    "Кластер 4:\n",
    "\n",
    "* Низкая доля оттока клиентов = 6.80%\n",
    "* Количество людей 838\n",
    "* Возраст около от 18 до 28 лет\n",
    "* Абонемент на 1 месяц\n",
    "* Среднее посещение фитнес-клуба 1-2 раза в недлю\n",
    "* Каждый 3 посещает груповые занятия\n",
    "* Каждый второй участник партнерской программы\n",
    "* Проживают в районе фитнес клуба\n",
    "* Время взаимодествия с фитнес клубом 4-5 месяцев"
   ]
  },
  {
   "cell_type": "markdown",
   "metadata": {},
   "source": [
    "### Общий вывод и рекомендации"
   ]
  },
  {
   "cell_type": "markdown",
   "metadata": {},
   "source": [
    "**Общий вывод:**\n",
    "\n",
    "В результате проведенного анадиза были сделаны следующие выводы: \n",
    "\n",
    "* Клиенты клуба - люди в возрасте от 18 лет до 41 года, средний возраст клиента - 29 лет.\n",
    "* Клиенты, которые не ушёли, чаще всего являются сотрудниками компании-партнёра клуба, приходят в клуб по акции \"приведи друга\", имеют абонемент, в среднем, на 5-7 месяцев, посещают групповые занятия, приобретают другие услуги фитнес-центра, и посещают занятия, в среднем, 2 раза в неделю. Матрица корреляций показывает сильную связь между столбцами \"средняя частота посещений в неделю за все время с начала действия абонемента\" и \"средняя частота посещений в неделю за предыдущий месяц\", что говорит о стабильности посещений тренировок клиентами. Так же можно видеть связь между признаками \"сотрудник организации-партнера\" и участник акции \"приведи друга\".\n",
    "* Чаще уходят молодые люди в возрасте от 20 до 26 лет, время с момента первого обращения которых в фитнес-центр составляет 1-2 месяца, с абонементом на 1 месяц.\n",
    "* Чаще остаются клиенты, которые живут или работают не далеко от фитнес-клуба, приходящие по акции \"приведи друга\" и посещающие групповые занятия.\n",
    "* От пола клиента отток не зависит.\n",
    "* \"Хорошими\" кластерами оказались 0 и 4 кластер\n",
    "\n",
    "Была построена модель прогнозирования оттока клиентов. Модель была обучена 2 методами: логистической регрессией и случайным лесом. В результате сравнения двух моделей было найдено, что они практически оденаковы, но случайный лес оказался чуть точнее.\n",
    "Была сделана кластеризация клиентов. В результате анализа было выделено 5 кластеров клиентов:\n",
    "\n",
    "0. В этой группе преимущественно люди в возрасте от 28 до 33 лет, имеют абонементы на 12 месяцев. Среднее количество посещений занятий за всё время действия и абонементов 1-3 раза в неделю.\n",
    "1. В этой группе люди от 27 до 32 лет. Среднее количество посещений занятий за всё время действия и абонементов 2-3 раза в неделю.\n",
    "2. В этой группе люди от 27 до 34 лет. Среднее количество посещений занятий за всё время действия и абонементов 2-4 раза в неделю. Люди из этой группы не оставляли номера телефонов. Люди, принадлежащие к этой группе часто покидают клуб.\n",
    "3. В эой группе от 28 до 33 лет, имеющие абонементы на 6 месяцев. Среднее количество посещений занятий за всё время действия и абонементов до 2 раз в неделю. Клиенты живут или работают не далеко от фитнес-клуба, чаще пользуются акцией \"приведи друга\" и являются сотрудниками компаний-партнеров клуба, групповые тренировки посещают чаще.\n",
    "4. В эту группу входят люди от 18 до 28 лет, имеющие абонементы на 1 месяц. Среднее количество посещений занятий за всё время действия и абонементов 1-2 раза в неделю. Они наиболее далеко живут или работают от клуба, реже остальных приходят по акции или работают в компании-партнере, реже остальных посещают групповые тренировки.\n",
    "\n",
    "**Рекомендации**\n",
    "\n",
    "В результате проведенного анализа была выявлена закономерность между фактом работы в компании-партнере и участием в акции \"приведи друга\". По этому нужно больше привлекать клиентов предлагая партнерские программы и промо-акции. Предлагать более выгодные цены на абонементы за 12 месяцев. Предлагать участвовать в групповых занятиях. Люди, посещающие групповые тренировки чаще становятся постоянными клиентами, можно предположить, что разнообразие групповых тренировок может привлечь больше клиентов.\n",
    "\n",
    "Целевая аудитория:\n",
    "Клиенты которые живут не далеко от фитнес-клуба, люди, которым около 30 лет."
   ]
  }
 ],
 "metadata": {
  "ExecuteTimeLog": [
   {
    "duration": 2481,
    "start_time": "2022-04-03T09:26:37.644Z"
   },
   {
    "duration": 5,
    "start_time": "2022-04-03T09:28:04.597Z"
   },
   {
    "duration": 64,
    "start_time": "2022-04-03T09:29:01.578Z"
   },
   {
    "duration": 42,
    "start_time": "2022-04-03T09:29:17.156Z"
   },
   {
    "duration": 17,
    "start_time": "2022-04-03T09:46:50.993Z"
   },
   {
    "duration": 11,
    "start_time": "2022-04-03T09:47:57.688Z"
   },
   {
    "duration": 65,
    "start_time": "2022-04-03T10:15:14.559Z"
   },
   {
    "duration": 58,
    "start_time": "2022-04-03T10:26:34.938Z"
   },
   {
    "duration": 16,
    "start_time": "2022-04-03T10:34:55.616Z"
   },
   {
    "duration": 14,
    "start_time": "2022-04-03T10:38:28.567Z"
   },
   {
    "duration": 29,
    "start_time": "2022-04-03T10:38:47.311Z"
   },
   {
    "duration": 20,
    "start_time": "2022-04-03T10:39:15.238Z"
   },
   {
    "duration": 173,
    "start_time": "2022-04-03T10:41:07.048Z"
   },
   {
    "duration": 492,
    "start_time": "2022-04-03T10:41:24.022Z"
   },
   {
    "duration": 488,
    "start_time": "2022-04-03T10:42:25.423Z"
   },
   {
    "duration": 469,
    "start_time": "2022-04-03T10:42:47.532Z"
   },
   {
    "duration": 529,
    "start_time": "2022-04-03T10:42:58.765Z"
   },
   {
    "duration": 575,
    "start_time": "2022-04-03T10:43:26.252Z"
   },
   {
    "duration": 4421,
    "start_time": "2022-04-03T10:48:51.834Z"
   },
   {
    "duration": 5417,
    "start_time": "2022-04-03T10:49:04.368Z"
   },
   {
    "duration": 6211,
    "start_time": "2022-04-03T10:50:58.414Z"
   },
   {
    "duration": 3314,
    "start_time": "2022-04-03T11:02:12.203Z"
   },
   {
    "duration": 975,
    "start_time": "2022-04-03T11:02:36.992Z"
   },
   {
    "duration": 16,
    "start_time": "2022-04-03T11:02:46.355Z"
   },
   {
    "duration": 895,
    "start_time": "2022-04-03T11:02:51.120Z"
   },
   {
    "duration": 2128,
    "start_time": "2022-04-03T11:03:06.332Z"
   },
   {
    "duration": 5,
    "start_time": "2022-04-03T11:03:08.463Z"
   },
   {
    "duration": 52,
    "start_time": "2022-04-03T11:03:08.470Z"
   },
   {
    "duration": 26,
    "start_time": "2022-04-03T11:03:08.524Z"
   },
   {
    "duration": 12,
    "start_time": "2022-04-03T11:03:08.554Z"
   },
   {
    "duration": 86,
    "start_time": "2022-04-03T11:03:08.568Z"
   },
   {
    "duration": 16,
    "start_time": "2022-04-03T11:03:08.657Z"
   },
   {
    "duration": 1123,
    "start_time": "2022-04-03T11:03:08.675Z"
   },
   {
    "duration": 13880,
    "start_time": "2022-04-03T11:03:24.311Z"
   },
   {
    "duration": 4,
    "start_time": "2022-04-03T11:04:08.684Z"
   },
   {
    "duration": 13255,
    "start_time": "2022-04-03T11:04:12.700Z"
   },
   {
    "duration": 2059,
    "start_time": "2022-04-03T11:05:54.652Z"
   },
   {
    "duration": 3,
    "start_time": "2022-04-03T11:05:56.714Z"
   },
   {
    "duration": 57,
    "start_time": "2022-04-03T11:05:56.720Z"
   },
   {
    "duration": 17,
    "start_time": "2022-04-03T11:05:56.780Z"
   },
   {
    "duration": 12,
    "start_time": "2022-04-03T11:05:56.799Z"
   },
   {
    "duration": 79,
    "start_time": "2022-04-03T11:05:56.814Z"
   },
   {
    "duration": 15,
    "start_time": "2022-04-03T11:05:56.895Z"
   },
   {
    "duration": 9931,
    "start_time": "2022-04-03T11:05:56.913Z"
   },
   {
    "duration": 1835,
    "start_time": "2022-04-03T11:07:51.896Z"
   },
   {
    "duration": 45,
    "start_time": "2022-04-03T14:52:02.770Z"
   },
   {
    "duration": 1729,
    "start_time": "2022-04-03T14:52:10.444Z"
   },
   {
    "duration": 3,
    "start_time": "2022-04-03T14:52:12.175Z"
   },
   {
    "duration": 65,
    "start_time": "2022-04-03T14:52:12.179Z"
   },
   {
    "duration": 15,
    "start_time": "2022-04-03T14:52:12.246Z"
   },
   {
    "duration": 9,
    "start_time": "2022-04-03T14:52:12.263Z"
   },
   {
    "duration": 47,
    "start_time": "2022-04-03T14:52:12.274Z"
   },
   {
    "duration": 12,
    "start_time": "2022-04-03T14:52:12.323Z"
   },
   {
    "duration": 6144,
    "start_time": "2022-04-03T14:52:12.337Z"
   },
   {
    "duration": 5,
    "start_time": "2022-04-03T14:52:18.482Z"
   },
   {
    "duration": 1038,
    "start_time": "2022-04-03T14:52:33.588Z"
   },
   {
    "duration": 6,
    "start_time": "2022-04-03T14:54:29.366Z"
   },
   {
    "duration": 1141,
    "start_time": "2022-04-03T14:54:30.522Z"
   },
   {
    "duration": 1076,
    "start_time": "2022-04-03T14:55:48.830Z"
   },
   {
    "duration": 796,
    "start_time": "2022-04-03T14:59:01.720Z"
   },
   {
    "duration": 788,
    "start_time": "2022-04-03T14:59:05.895Z"
   },
   {
    "duration": 5,
    "start_time": "2022-04-03T14:59:48.147Z"
   },
   {
    "duration": 1089,
    "start_time": "2022-04-03T14:59:48.773Z"
   },
   {
    "duration": 1448,
    "start_time": "2022-04-03T14:59:55.869Z"
   },
   {
    "duration": 3,
    "start_time": "2022-04-03T14:59:57.319Z"
   },
   {
    "duration": 65,
    "start_time": "2022-04-03T14:59:57.323Z"
   },
   {
    "duration": 10,
    "start_time": "2022-04-03T14:59:57.390Z"
   },
   {
    "duration": 7,
    "start_time": "2022-04-03T14:59:57.402Z"
   },
   {
    "duration": 34,
    "start_time": "2022-04-03T14:59:57.410Z"
   },
   {
    "duration": 35,
    "start_time": "2022-04-03T14:59:57.446Z"
   },
   {
    "duration": 103,
    "start_time": "2022-04-03T14:59:57.482Z"
   },
   {
    "duration": 0,
    "start_time": "2022-04-03T14:59:57.587Z"
   },
   {
    "duration": 0,
    "start_time": "2022-04-03T14:59:57.588Z"
   },
   {
    "duration": 5,
    "start_time": "2022-04-03T15:00:08.581Z"
   },
   {
    "duration": 1123,
    "start_time": "2022-04-03T15:00:10.101Z"
   },
   {
    "duration": 860,
    "start_time": "2022-04-03T15:00:15.913Z"
   },
   {
    "duration": 175,
    "start_time": "2022-04-03T15:02:26.160Z"
   },
   {
    "duration": 20,
    "start_time": "2022-04-03T15:02:36.726Z"
   },
   {
    "duration": 16,
    "start_time": "2022-04-03T15:05:33.676Z"
   },
   {
    "duration": 197,
    "start_time": "2022-04-03T15:07:00.810Z"
   },
   {
    "duration": 11,
    "start_time": "2022-04-03T15:07:29.794Z"
   },
   {
    "duration": 12,
    "start_time": "2022-04-03T15:08:11.335Z"
   },
   {
    "duration": 10,
    "start_time": "2022-04-03T15:08:23.294Z"
   },
   {
    "duration": 12,
    "start_time": "2022-04-03T15:08:33.304Z"
   },
   {
    "duration": 7,
    "start_time": "2022-04-03T15:10:00.677Z"
   },
   {
    "duration": 8,
    "start_time": "2022-04-03T15:10:19.704Z"
   },
   {
    "duration": 13,
    "start_time": "2022-04-03T15:10:33.457Z"
   },
   {
    "duration": 17,
    "start_time": "2022-04-03T15:10:50.693Z"
   },
   {
    "duration": 10,
    "start_time": "2022-04-03T15:13:08.347Z"
   },
   {
    "duration": 11,
    "start_time": "2022-04-03T15:13:26.829Z"
   },
   {
    "duration": 11,
    "start_time": "2022-04-03T15:13:38.581Z"
   },
   {
    "duration": 12,
    "start_time": "2022-04-03T15:14:18.097Z"
   },
   {
    "duration": 12,
    "start_time": "2022-04-03T15:14:22.372Z"
   },
   {
    "duration": 12,
    "start_time": "2022-04-03T15:14:34.053Z"
   },
   {
    "duration": 12,
    "start_time": "2022-04-03T15:14:46.806Z"
   },
   {
    "duration": 12,
    "start_time": "2022-04-03T15:15:10.535Z"
   },
   {
    "duration": 10,
    "start_time": "2022-04-03T15:15:23.046Z"
   },
   {
    "duration": 12,
    "start_time": "2022-04-03T15:15:46.943Z"
   },
   {
    "duration": 12,
    "start_time": "2022-04-03T15:16:22.796Z"
   },
   {
    "duration": 12,
    "start_time": "2022-04-03T15:16:38.128Z"
   },
   {
    "duration": 12,
    "start_time": "2022-04-03T15:17:04.954Z"
   },
   {
    "duration": 10,
    "start_time": "2022-04-03T15:17:15.710Z"
   },
   {
    "duration": 7,
    "start_time": "2022-04-03T15:17:22.167Z"
   },
   {
    "duration": 11,
    "start_time": "2022-04-03T15:17:26.338Z"
   },
   {
    "duration": 11,
    "start_time": "2022-04-03T15:18:59.769Z"
   },
   {
    "duration": 11,
    "start_time": "2022-04-03T15:19:45.175Z"
   },
   {
    "duration": 14,
    "start_time": "2022-04-03T15:20:11.134Z"
   },
   {
    "duration": 12,
    "start_time": "2022-04-03T15:20:16.772Z"
   },
   {
    "duration": 13,
    "start_time": "2022-04-03T15:20:39.877Z"
   },
   {
    "duration": 11,
    "start_time": "2022-04-03T15:20:57.476Z"
   },
   {
    "duration": 11,
    "start_time": "2022-04-03T15:26:01.666Z"
   },
   {
    "duration": 1071,
    "start_time": "2022-04-03T15:28:45.948Z"
   },
   {
    "duration": 49,
    "start_time": "2022-04-04T12:26:14.764Z"
   },
   {
    "duration": 1637,
    "start_time": "2022-04-04T12:26:25.269Z"
   },
   {
    "duration": 3,
    "start_time": "2022-04-04T12:26:26.908Z"
   },
   {
    "duration": 47,
    "start_time": "2022-04-04T12:26:26.913Z"
   },
   {
    "duration": 13,
    "start_time": "2022-04-04T12:26:26.962Z"
   },
   {
    "duration": 19,
    "start_time": "2022-04-04T12:26:26.977Z"
   },
   {
    "duration": 45,
    "start_time": "2022-04-04T12:26:26.998Z"
   },
   {
    "duration": 11,
    "start_time": "2022-04-04T12:26:27.045Z"
   },
   {
    "duration": 6,
    "start_time": "2022-04-04T12:26:27.058Z"
   },
   {
    "duration": 1316,
    "start_time": "2022-04-04T12:26:27.066Z"
   },
   {
    "duration": 906,
    "start_time": "2022-04-04T12:26:28.384Z"
   },
   {
    "duration": 1638,
    "start_time": "2022-04-04T12:26:29.292Z"
   },
   {
    "duration": 1396,
    "start_time": "2022-04-04T12:26:54.656Z"
   },
   {
    "duration": 1450,
    "start_time": "2022-04-04T12:27:19.447Z"
   },
   {
    "duration": 1498,
    "start_time": "2022-04-04T12:27:42.525Z"
   },
   {
    "duration": 1527,
    "start_time": "2022-04-04T12:27:56.334Z"
   },
   {
    "duration": 1333,
    "start_time": "2022-04-04T12:30:48.124Z"
   },
   {
    "duration": 1431,
    "start_time": "2022-04-04T12:31:25.865Z"
   },
   {
    "duration": 1597,
    "start_time": "2022-04-04T12:31:40.419Z"
   },
   {
    "duration": 1409,
    "start_time": "2022-04-04T12:41:38.480Z"
   },
   {
    "duration": 566,
    "start_time": "2022-04-04T13:28:59.879Z"
   },
   {
    "duration": 4,
    "start_time": "2022-04-04T13:30:18.693Z"
   },
   {
    "duration": 156,
    "start_time": "2022-04-04T13:30:38.420Z"
   },
   {
    "duration": 25,
    "start_time": "2022-04-04T13:30:45.649Z"
   },
   {
    "duration": 16,
    "start_time": "2022-04-04T13:32:59.672Z"
   },
   {
    "duration": 640,
    "start_time": "2022-04-04T13:37:27.339Z"
   },
   {
    "duration": 681,
    "start_time": "2022-04-04T13:38:19.297Z"
   },
   {
    "duration": 135,
    "start_time": "2022-04-04T13:47:24.503Z"
   },
   {
    "duration": 106,
    "start_time": "2022-04-04T13:47:36.526Z"
   },
   {
    "duration": 116,
    "start_time": "2022-04-04T13:47:45.949Z"
   },
   {
    "duration": 772,
    "start_time": "2022-04-04T13:48:07.267Z"
   },
   {
    "duration": 975,
    "start_time": "2022-04-04T13:49:26.363Z"
   },
   {
    "duration": 994,
    "start_time": "2022-04-04T13:49:40.545Z"
   },
   {
    "duration": 1801,
    "start_time": "2022-04-04T13:49:54.743Z"
   },
   {
    "duration": 802,
    "start_time": "2022-04-04T13:50:50.537Z"
   },
   {
    "duration": 898,
    "start_time": "2022-04-04T13:51:16.246Z"
   },
   {
    "duration": 762,
    "start_time": "2022-04-04T13:51:30.877Z"
   },
   {
    "duration": 792,
    "start_time": "2022-04-04T13:51:40.554Z"
   },
   {
    "duration": 849,
    "start_time": "2022-04-04T13:51:56.690Z"
   },
   {
    "duration": 871,
    "start_time": "2022-04-04T13:52:14.768Z"
   },
   {
    "duration": 2542,
    "start_time": "2022-04-04T13:52:29.599Z"
   },
   {
    "duration": 1730,
    "start_time": "2022-04-04T13:53:05.009Z"
   },
   {
    "duration": 629,
    "start_time": "2022-04-04T13:54:32.819Z"
   },
   {
    "duration": 1703,
    "start_time": "2022-04-04T13:55:13.745Z"
   },
   {
    "duration": 724,
    "start_time": "2022-04-04T13:55:24.523Z"
   },
   {
    "duration": 844,
    "start_time": "2022-04-04T13:57:32.495Z"
   },
   {
    "duration": 765,
    "start_time": "2022-04-04T13:57:55.683Z"
   },
   {
    "duration": 839,
    "start_time": "2022-04-04T13:59:59.409Z"
   },
   {
    "duration": 1859,
    "start_time": "2022-04-04T14:00:08.082Z"
   },
   {
    "duration": 1854,
    "start_time": "2022-04-04T14:00:33.883Z"
   },
   {
    "duration": 1811,
    "start_time": "2022-04-04T14:04:58.334Z"
   },
   {
    "duration": 975,
    "start_time": "2022-04-04T14:05:11.365Z"
   },
   {
    "duration": 1018,
    "start_time": "2022-04-04T14:05:37.632Z"
   },
   {
    "duration": 114,
    "start_time": "2022-04-04T14:06:17.598Z"
   },
   {
    "duration": 860,
    "start_time": "2022-04-04T14:07:19.379Z"
   },
   {
    "duration": 727,
    "start_time": "2022-04-04T14:07:44.211Z"
   },
   {
    "duration": 1683,
    "start_time": "2022-04-04T14:08:26.958Z"
   },
   {
    "duration": 857,
    "start_time": "2022-04-04T14:08:35.281Z"
   },
   {
    "duration": 370,
    "start_time": "2022-04-04T14:11:35.131Z"
   },
   {
    "duration": 393,
    "start_time": "2022-04-04T14:12:48.133Z"
   },
   {
    "duration": 1034,
    "start_time": "2022-04-04T14:21:33.205Z"
   },
   {
    "duration": 399,
    "start_time": "2022-04-04T14:21:44.897Z"
   },
   {
    "duration": 859,
    "start_time": "2022-04-04T14:22:10.580Z"
   },
   {
    "duration": 377,
    "start_time": "2022-04-04T14:22:12.067Z"
   },
   {
    "duration": 1539,
    "start_time": "2022-04-04T14:35:50.847Z"
   },
   {
    "duration": 3,
    "start_time": "2022-04-04T14:35:52.388Z"
   },
   {
    "duration": 51,
    "start_time": "2022-04-04T14:35:52.393Z"
   },
   {
    "duration": 14,
    "start_time": "2022-04-04T14:35:52.446Z"
   },
   {
    "duration": 9,
    "start_time": "2022-04-04T14:35:52.462Z"
   },
   {
    "duration": 41,
    "start_time": "2022-04-04T14:35:52.473Z"
   },
   {
    "duration": 13,
    "start_time": "2022-04-04T14:35:52.537Z"
   },
   {
    "duration": 6,
    "start_time": "2022-04-04T14:35:52.552Z"
   },
   {
    "duration": 1341,
    "start_time": "2022-04-04T14:35:52.560Z"
   },
   {
    "duration": 886,
    "start_time": "2022-04-04T14:35:53.903Z"
   },
   {
    "duration": 1599,
    "start_time": "2022-04-04T14:35:54.791Z"
   },
   {
    "duration": 17,
    "start_time": "2022-04-04T14:35:56.391Z"
   },
   {
    "duration": 1833,
    "start_time": "2022-04-04T14:35:56.410Z"
   },
   {
    "duration": 379,
    "start_time": "2022-04-04T14:35:58.337Z"
   },
   {
    "duration": 10,
    "start_time": "2022-04-04T14:37:52.810Z"
   },
   {
    "duration": 9,
    "start_time": "2022-04-04T14:49:25.105Z"
   },
   {
    "duration": 10,
    "start_time": "2022-04-04T14:49:30.796Z"
   },
   {
    "duration": 553,
    "start_time": "2022-04-04T14:51:09.900Z"
   },
   {
    "duration": 103791,
    "start_time": "2022-04-04T14:51:41.471Z"
   },
   {
    "duration": 105232,
    "start_time": "2022-04-04T14:56:11.081Z"
   },
   {
    "duration": 105018,
    "start_time": "2022-04-04T14:59:23.839Z"
   },
   {
    "duration": 112,
    "start_time": "2022-04-04T15:01:08.859Z"
   },
   {
    "duration": 105018,
    "start_time": "2022-04-04T15:01:20.299Z"
   },
   {
    "duration": 103935,
    "start_time": "2022-04-04T15:04:14.645Z"
   },
   {
    "duration": 1396,
    "start_time": "2022-04-04T15:08:17.947Z"
   },
   {
    "duration": 16,
    "start_time": "2022-04-04T15:09:09.305Z"
   },
   {
    "duration": 11,
    "start_time": "2022-04-04T15:09:22.853Z"
   },
   {
    "duration": 6,
    "start_time": "2022-04-04T15:09:54.353Z"
   },
   {
    "duration": 10,
    "start_time": "2022-04-04T15:11:38.238Z"
   },
   {
    "duration": 14,
    "start_time": "2022-04-04T15:12:58.244Z"
   },
   {
    "duration": 6,
    "start_time": "2022-04-04T15:22:13.247Z"
   },
   {
    "duration": 537,
    "start_time": "2022-04-04T15:22:22.790Z"
   },
   {
    "duration": 20,
    "start_time": "2022-04-04T15:25:26.705Z"
   },
   {
    "duration": 763,
    "start_time": "2022-04-04T15:25:49.426Z"
   },
   {
    "duration": 872,
    "start_time": "2022-04-04T15:26:17.127Z"
   },
   {
    "duration": 8,
    "start_time": "2022-04-04T15:28:58.934Z"
   },
   {
    "duration": 68,
    "start_time": "2022-04-05T14:03:19.381Z"
   },
   {
    "duration": 2379,
    "start_time": "2022-04-05T14:03:27.378Z"
   },
   {
    "duration": 4,
    "start_time": "2022-04-05T14:03:29.760Z"
   },
   {
    "duration": 63,
    "start_time": "2022-04-05T14:03:29.766Z"
   },
   {
    "duration": 18,
    "start_time": "2022-04-05T14:03:29.831Z"
   },
   {
    "duration": 12,
    "start_time": "2022-04-05T14:03:29.852Z"
   },
   {
    "duration": 83,
    "start_time": "2022-04-05T14:03:29.866Z"
   },
   {
    "duration": 16,
    "start_time": "2022-04-05T14:03:29.951Z"
   },
   {
    "duration": 9,
    "start_time": "2022-04-05T14:03:29.969Z"
   },
   {
    "duration": 2279,
    "start_time": "2022-04-05T14:03:29.980Z"
   },
   {
    "duration": 1639,
    "start_time": "2022-04-05T14:03:32.262Z"
   },
   {
    "duration": 2184,
    "start_time": "2022-04-05T14:03:33.903Z"
   },
   {
    "duration": 21,
    "start_time": "2022-04-05T14:03:36.090Z"
   },
   {
    "duration": 1031,
    "start_time": "2022-04-05T14:03:36.113Z"
   },
   {
    "duration": 597,
    "start_time": "2022-04-05T14:03:37.151Z"
   },
   {
    "duration": 16,
    "start_time": "2022-04-05T14:03:37.751Z"
   },
   {
    "duration": 784,
    "start_time": "2022-04-05T14:03:37.770Z"
   },
   {
    "duration": 156461,
    "start_time": "2022-04-05T14:03:38.556Z"
   },
   {
    "duration": 180,
    "start_time": "2022-04-05T14:06:15.019Z"
   },
   {
    "duration": 0,
    "start_time": "2022-04-05T14:06:15.201Z"
   },
   {
    "duration": 0,
    "start_time": "2022-04-05T14:06:15.203Z"
   },
   {
    "duration": 0,
    "start_time": "2022-04-05T14:06:15.204Z"
   },
   {
    "duration": 0,
    "start_time": "2022-04-05T14:06:15.206Z"
   },
   {
    "duration": 0,
    "start_time": "2022-04-05T14:06:15.208Z"
   },
   {
    "duration": 0,
    "start_time": "2022-04-05T14:06:15.209Z"
   },
   {
    "duration": 158778,
    "start_time": "2022-04-05T14:06:30.645Z"
   },
   {
    "duration": 11,
    "start_time": "2022-04-05T14:11:52.989Z"
   },
   {
    "duration": 159339,
    "start_time": "2022-04-05T14:11:57.721Z"
   },
   {
    "duration": 13,
    "start_time": "2022-04-05T14:16:10.753Z"
   },
   {
    "duration": 11,
    "start_time": "2022-04-05T14:16:29.768Z"
   },
   {
    "duration": 158483,
    "start_time": "2022-04-05T14:16:30.604Z"
   },
   {
    "duration": 1791,
    "start_time": "2022-04-05T14:20:50.561Z"
   },
   {
    "duration": 20,
    "start_time": "2022-04-05T14:21:08.842Z"
   },
   {
    "duration": 9,
    "start_time": "2022-04-05T14:21:34.084Z"
   },
   {
    "duration": 20,
    "start_time": "2022-04-05T14:22:47.441Z"
   },
   {
    "duration": 11,
    "start_time": "2022-04-05T14:22:55.289Z"
   },
   {
    "duration": 2031,
    "start_time": "2022-04-05T14:32:53.123Z"
   },
   {
    "duration": 1610,
    "start_time": "2022-04-05T14:37:02.133Z"
   },
   {
    "duration": 1731,
    "start_time": "2022-04-05T14:38:56.715Z"
   },
   {
    "duration": 1976,
    "start_time": "2022-04-05T14:39:56.469Z"
   },
   {
    "duration": 20,
    "start_time": "2022-04-05T14:40:20.422Z"
   },
   {
    "duration": 1925,
    "start_time": "2022-04-05T14:47:35.421Z"
   },
   {
    "duration": 21,
    "start_time": "2022-04-05T14:47:37.350Z"
   },
   {
    "duration": 1735,
    "start_time": "2022-04-05T14:53:25.039Z"
   },
   {
    "duration": 1655,
    "start_time": "2022-04-05T14:57:32.733Z"
   },
   {
    "duration": 21,
    "start_time": "2022-04-05T15:05:05.691Z"
   },
   {
    "duration": 1695,
    "start_time": "2022-04-05T15:05:14.468Z"
   },
   {
    "duration": 1579,
    "start_time": "2022-04-05T15:05:31.675Z"
   },
   {
    "duration": 11,
    "start_time": "2022-04-05T15:07:35.749Z"
   },
   {
    "duration": 1452,
    "start_time": "2022-04-05T15:07:39.900Z"
   },
   {
    "duration": 13,
    "start_time": "2022-04-05T15:08:22.276Z"
   },
   {
    "duration": 1408,
    "start_time": "2022-04-05T15:08:25.849Z"
   },
   {
    "duration": 14,
    "start_time": "2022-04-05T15:09:09.312Z"
   },
   {
    "duration": 1270,
    "start_time": "2022-04-05T15:09:12.091Z"
   },
   {
    "duration": 13,
    "start_time": "2022-04-05T15:09:38.833Z"
   },
   {
    "duration": 163122,
    "start_time": "2022-04-05T15:09:39.504Z"
   },
   {
    "duration": 1226,
    "start_time": "2022-04-05T15:12:22.628Z"
   },
   {
    "duration": 14,
    "start_time": "2022-04-05T15:14:29.713Z"
   },
   {
    "duration": 13,
    "start_time": "2022-04-05T15:14:36.512Z"
   },
   {
    "duration": 162778,
    "start_time": "2022-04-05T15:14:59.438Z"
   },
   {
    "duration": 13,
    "start_time": "2022-04-05T15:18:25.722Z"
   },
   {
    "duration": 164699,
    "start_time": "2022-04-05T15:18:29.876Z"
   },
   {
    "duration": 2148,
    "start_time": "2022-04-05T15:22:45.923Z"
   },
   {
    "duration": 4,
    "start_time": "2022-04-05T15:22:48.073Z"
   },
   {
    "duration": 90,
    "start_time": "2022-04-05T15:22:48.079Z"
   },
   {
    "duration": 17,
    "start_time": "2022-04-05T15:22:48.171Z"
   },
   {
    "duration": 11,
    "start_time": "2022-04-05T15:22:48.191Z"
   },
   {
    "duration": 101,
    "start_time": "2022-04-05T15:22:48.203Z"
   },
   {
    "duration": 17,
    "start_time": "2022-04-05T15:22:48.306Z"
   },
   {
    "duration": 10,
    "start_time": "2022-04-05T15:22:48.348Z"
   },
   {
    "duration": 2043,
    "start_time": "2022-04-05T15:22:48.361Z"
   },
   {
    "duration": 1566,
    "start_time": "2022-04-05T15:22:50.407Z"
   },
   {
    "duration": 2245,
    "start_time": "2022-04-05T15:22:51.975Z"
   },
   {
    "duration": 30,
    "start_time": "2022-04-05T15:22:54.222Z"
   },
   {
    "duration": 3113,
    "start_time": "2022-04-05T15:22:54.255Z"
   },
   {
    "duration": 562,
    "start_time": "2022-04-05T15:22:57.455Z"
   },
   {
    "duration": 10,
    "start_time": "2022-04-05T15:22:58.020Z"
   },
   {
    "duration": 168916,
    "start_time": "2022-04-05T15:22:58.032Z"
   },
   {
    "duration": 1546,
    "start_time": "2022-04-05T15:25:46.951Z"
   },
   {
    "duration": 18,
    "start_time": "2022-04-05T15:26:20.777Z"
   },
   {
    "duration": 186371,
    "start_time": "2022-04-05T15:26:21.386Z"
   },
   {
    "duration": 15,
    "start_time": "2022-04-05T15:29:48.506Z"
   },
   {
    "duration": 173575,
    "start_time": "2022-04-05T15:29:49.090Z"
   },
   {
    "duration": 1389,
    "start_time": "2022-04-05T15:32:42.669Z"
   },
   {
    "duration": 2196,
    "start_time": "2022-04-05T15:33:01.709Z"
   },
   {
    "duration": 4,
    "start_time": "2022-04-05T15:33:03.908Z"
   },
   {
    "duration": 71,
    "start_time": "2022-04-05T15:33:03.914Z"
   },
   {
    "duration": 20,
    "start_time": "2022-04-05T15:33:03.987Z"
   },
   {
    "duration": 15,
    "start_time": "2022-04-05T15:33:04.011Z"
   },
   {
    "duration": 60,
    "start_time": "2022-04-05T15:33:04.044Z"
   },
   {
    "duration": 37,
    "start_time": "2022-04-05T15:33:04.106Z"
   },
   {
    "duration": 9,
    "start_time": "2022-04-05T15:33:04.145Z"
   },
   {
    "duration": 2269,
    "start_time": "2022-04-05T15:33:04.156Z"
   },
   {
    "duration": 1493,
    "start_time": "2022-04-05T15:33:06.428Z"
   },
   {
    "duration": 2248,
    "start_time": "2022-04-05T15:33:07.924Z"
   },
   {
    "duration": 28,
    "start_time": "2022-04-05T15:33:10.175Z"
   },
   {
    "duration": 847,
    "start_time": "2022-04-05T15:33:10.206Z"
   },
   {
    "duration": 797,
    "start_time": "2022-04-05T15:33:11.146Z"
   },
   {
    "duration": 10,
    "start_time": "2022-04-05T15:33:11.945Z"
   },
   {
    "duration": 170542,
    "start_time": "2022-04-05T15:33:11.958Z"
   },
   {
    "duration": 1355,
    "start_time": "2022-04-05T15:36:02.502Z"
   },
   {
    "duration": 174,
    "start_time": "2022-04-05T15:41:05.085Z"
   },
   {
    "duration": 1290,
    "start_time": "2022-04-05T15:41:29.869Z"
   },
   {
    "duration": 10,
    "start_time": "2022-04-05T15:41:31.867Z"
   },
   {
    "duration": 8,
    "start_time": "2022-04-05T15:42:36.665Z"
   },
   {
    "duration": 1920,
    "start_time": "2022-04-05T15:44:24.838Z"
   },
   {
    "duration": 1951,
    "start_time": "2022-04-05T15:45:47.708Z"
   },
   {
    "duration": 1564,
    "start_time": "2022-04-05T15:46:16.720Z"
   },
   {
    "duration": 1916,
    "start_time": "2022-04-05T15:46:45.284Z"
   },
   {
    "duration": 236,
    "start_time": "2022-04-05T15:47:08.090Z"
   },
   {
    "duration": 1648,
    "start_time": "2022-04-05T15:47:12.912Z"
   },
   {
    "duration": 8,
    "start_time": "2022-04-05T15:48:11.029Z"
   },
   {
    "duration": 27,
    "start_time": "2022-04-05T15:48:27.869Z"
   },
   {
    "duration": 26,
    "start_time": "2022-04-05T15:48:46.337Z"
   },
   {
    "duration": 2039,
    "start_time": "2022-04-05T15:49:54.337Z"
   },
   {
    "duration": 1957,
    "start_time": "2022-04-05T15:51:46.618Z"
   },
   {
    "duration": 2143,
    "start_time": "2022-04-05T15:51:57.479Z"
   },
   {
    "duration": 4,
    "start_time": "2022-04-05T15:51:59.628Z"
   },
   {
    "duration": 57,
    "start_time": "2022-04-05T15:51:59.634Z"
   },
   {
    "duration": 20,
    "start_time": "2022-04-05T15:51:59.693Z"
   },
   {
    "duration": 30,
    "start_time": "2022-04-05T15:51:59.717Z"
   },
   {
    "duration": 63,
    "start_time": "2022-04-05T15:51:59.749Z"
   },
   {
    "duration": 31,
    "start_time": "2022-04-05T15:51:59.814Z"
   },
   {
    "duration": 18,
    "start_time": "2022-04-05T15:51:59.847Z"
   },
   {
    "duration": 2082,
    "start_time": "2022-04-05T15:51:59.868Z"
   },
   {
    "duration": 1552,
    "start_time": "2022-04-05T15:52:01.952Z"
   },
   {
    "duration": 2378,
    "start_time": "2022-04-05T15:52:03.506Z"
   },
   {
    "duration": 25,
    "start_time": "2022-04-05T15:52:05.887Z"
   },
   {
    "duration": 1032,
    "start_time": "2022-04-05T15:52:05.915Z"
   },
   {
    "duration": 617,
    "start_time": "2022-04-05T15:52:06.953Z"
   },
   {
    "duration": 11,
    "start_time": "2022-04-05T15:52:07.572Z"
   },
   {
    "duration": 162146,
    "start_time": "2022-04-05T15:52:07.586Z"
   },
   {
    "duration": 33,
    "start_time": "2022-04-05T15:54:49.735Z"
   },
   {
    "duration": 1801,
    "start_time": "2022-04-05T15:54:49.770Z"
   },
   {
    "duration": 8,
    "start_time": "2022-04-05T15:54:51.573Z"
   },
   {
    "duration": 3590,
    "start_time": "2022-04-06T14:23:27.310Z"
   },
   {
    "duration": 5,
    "start_time": "2022-04-06T14:23:30.904Z"
   },
   {
    "duration": 59,
    "start_time": "2022-04-06T14:23:30.911Z"
   },
   {
    "duration": 18,
    "start_time": "2022-04-06T14:23:30.973Z"
   },
   {
    "duration": 29,
    "start_time": "2022-04-06T14:23:30.995Z"
   },
   {
    "duration": 77,
    "start_time": "2022-04-06T14:23:31.026Z"
   },
   {
    "duration": 20,
    "start_time": "2022-04-06T14:23:31.105Z"
   },
   {
    "duration": 11,
    "start_time": "2022-04-06T14:23:31.130Z"
   },
   {
    "duration": 2005,
    "start_time": "2022-04-06T14:23:31.143Z"
   },
   {
    "duration": 1479,
    "start_time": "2022-04-06T14:23:33.150Z"
   },
   {
    "duration": 2233,
    "start_time": "2022-04-06T14:23:34.631Z"
   },
   {
    "duration": 23,
    "start_time": "2022-04-06T14:23:36.867Z"
   },
   {
    "duration": 1577,
    "start_time": "2022-04-06T14:23:36.892Z"
   },
   {
    "duration": 605,
    "start_time": "2022-04-06T14:23:38.475Z"
   },
   {
    "duration": 13,
    "start_time": "2022-04-06T14:23:39.083Z"
   },
   {
    "duration": 157818,
    "start_time": "2022-04-06T14:23:39.099Z"
   },
   {
    "duration": 25,
    "start_time": "2022-04-06T14:26:16.919Z"
   },
   {
    "duration": 1868,
    "start_time": "2022-04-06T14:26:16.946Z"
   },
   {
    "duration": 10,
    "start_time": "2022-04-06T14:26:18.818Z"
   },
   {
    "duration": 172,
    "start_time": "2022-04-06T15:12:10.170Z"
   },
   {
    "duration": 25,
    "start_time": "2022-04-06T15:12:33.265Z"
   },
   {
    "duration": 19,
    "start_time": "2022-04-06T15:13:20.410Z"
   },
   {
    "duration": 13,
    "start_time": "2022-04-06T15:13:29.551Z"
   },
   {
    "duration": 13,
    "start_time": "2022-04-06T15:14:13.176Z"
   },
   {
    "duration": 12,
    "start_time": "2022-04-06T15:32:35.928Z"
   },
   {
    "duration": 1731,
    "start_time": "2022-04-06T15:33:21.060Z"
   },
   {
    "duration": 13,
    "start_time": "2022-04-06T15:33:39.233Z"
   },
   {
    "duration": 167,
    "start_time": "2022-04-06T15:33:57.176Z"
   },
   {
    "duration": 665,
    "start_time": "2022-04-06T15:37:41.621Z"
   },
   {
    "duration": 10,
    "start_time": "2022-04-06T15:38:00.263Z"
   },
   {
    "duration": 14,
    "start_time": "2022-04-06T15:40:48.512Z"
   },
   {
    "duration": 13,
    "start_time": "2022-04-06T15:40:55.307Z"
   },
   {
    "duration": 167,
    "start_time": "2022-04-06T15:41:59.107Z"
   },
   {
    "duration": 14,
    "start_time": "2022-04-06T15:42:57.060Z"
   },
   {
    "duration": 5738,
    "start_time": "2022-04-06T15:43:08.059Z"
   },
   {
    "duration": 1264,
    "start_time": "2022-04-06T15:45:39.468Z"
   },
   {
    "duration": 1881,
    "start_time": "2022-04-06T15:46:28.197Z"
   },
   {
    "duration": 2042,
    "start_time": "2022-04-06T15:46:37.355Z"
   },
   {
    "duration": 1816,
    "start_time": "2022-04-06T15:47:52.740Z"
   },
   {
    "duration": 1638,
    "start_time": "2022-04-06T15:54:32.657Z"
   },
   {
    "duration": 12,
    "start_time": "2022-04-06T15:55:27.729Z"
   },
   {
    "duration": 2313,
    "start_time": "2022-04-06T15:55:49.991Z"
   },
   {
    "duration": 5,
    "start_time": "2022-04-06T15:55:52.308Z"
   },
   {
    "duration": 54,
    "start_time": "2022-04-06T15:55:52.315Z"
   },
   {
    "duration": 18,
    "start_time": "2022-04-06T15:55:52.372Z"
   },
   {
    "duration": 14,
    "start_time": "2022-04-06T15:55:52.393Z"
   },
   {
    "duration": 95,
    "start_time": "2022-04-06T15:55:52.410Z"
   },
   {
    "duration": 16,
    "start_time": "2022-04-06T15:55:52.508Z"
   },
   {
    "duration": 7,
    "start_time": "2022-04-06T15:55:52.527Z"
   },
   {
    "duration": 2243,
    "start_time": "2022-04-06T15:55:52.537Z"
   },
   {
    "duration": 1580,
    "start_time": "2022-04-06T15:55:54.783Z"
   },
   {
    "duration": 2464,
    "start_time": "2022-04-06T15:55:56.368Z"
   },
   {
    "duration": 24,
    "start_time": "2022-04-06T15:55:58.835Z"
   },
   {
    "duration": 715,
    "start_time": "2022-04-06T15:55:58.861Z"
   },
   {
    "duration": 697,
    "start_time": "2022-04-06T15:55:59.582Z"
   },
   {
    "duration": 11,
    "start_time": "2022-04-06T15:56:00.282Z"
   },
   {
    "duration": 164242,
    "start_time": "2022-04-06T15:56:00.295Z"
   },
   {
    "duration": 1747,
    "start_time": "2022-04-06T15:58:44.539Z"
   },
   {
    "duration": 8,
    "start_time": "2022-04-06T15:58:46.288Z"
   },
   {
    "duration": 1386,
    "start_time": "2022-04-06T15:58:46.298Z"
   },
   {
    "duration": 16,
    "start_time": "2022-04-06T15:58:47.687Z"
   },
   {
    "duration": 250,
    "start_time": "2022-04-06T16:04:17.735Z"
   },
   {
    "duration": 5000,
    "start_time": "2022-04-06T16:15:13.254Z"
   },
   {
    "duration": 4699,
    "start_time": "2022-04-06T16:17:06.374Z"
   },
   {
    "duration": 17978,
    "start_time": "2022-04-06T16:24:59.508Z"
   },
   {
    "duration": 105,
    "start_time": "2022-04-06T16:28:50.315Z"
   },
   {
    "duration": 1645,
    "start_time": "2022-04-07T11:13:10.161Z"
   },
   {
    "duration": 2,
    "start_time": "2022-04-07T11:13:11.808Z"
   },
   {
    "duration": 52,
    "start_time": "2022-04-07T11:13:11.811Z"
   },
   {
    "duration": 10,
    "start_time": "2022-04-07T11:13:11.865Z"
   },
   {
    "duration": 9,
    "start_time": "2022-04-07T11:13:11.877Z"
   },
   {
    "duration": 34,
    "start_time": "2022-04-07T11:13:11.888Z"
   },
   {
    "duration": 9,
    "start_time": "2022-04-07T11:13:11.923Z"
   },
   {
    "duration": 4,
    "start_time": "2022-04-07T11:13:11.933Z"
   },
   {
    "duration": 1086,
    "start_time": "2022-04-07T11:13:11.939Z"
   },
   {
    "duration": 803,
    "start_time": "2022-04-07T11:13:13.027Z"
   },
   {
    "duration": 1542,
    "start_time": "2022-04-07T11:13:13.831Z"
   },
   {
    "duration": 13,
    "start_time": "2022-04-07T11:13:15.375Z"
   },
   {
    "duration": 694,
    "start_time": "2022-04-07T11:13:15.390Z"
   },
   {
    "duration": 439,
    "start_time": "2022-04-07T11:13:16.086Z"
   },
   {
    "duration": 7,
    "start_time": "2022-04-07T11:13:16.527Z"
   },
   {
    "duration": 92345,
    "start_time": "2022-04-07T11:13:16.536Z"
   },
   {
    "duration": 1400,
    "start_time": "2022-04-07T11:14:48.883Z"
   },
   {
    "duration": 5,
    "start_time": "2022-04-07T11:14:50.285Z"
   },
   {
    "duration": 176,
    "start_time": "2022-04-07T11:14:50.291Z"
   },
   {
    "duration": 0,
    "start_time": "2022-04-07T11:14:50.468Z"
   },
   {
    "duration": 0,
    "start_time": "2022-04-07T11:14:50.470Z"
   },
   {
    "duration": 9776,
    "start_time": "2022-04-07T11:15:42.160Z"
   },
   {
    "duration": 8,
    "start_time": "2022-04-07T11:15:51.938Z"
   },
   {
    "duration": 3590,
    "start_time": "2022-04-07T11:23:17.135Z"
   },
   {
    "duration": 2990,
    "start_time": "2022-04-07T11:23:36.889Z"
   },
   {
    "duration": 1492,
    "start_time": "2022-04-07T11:26:24.742Z"
   },
   {
    "duration": 3,
    "start_time": "2022-04-07T11:26:26.235Z"
   },
   {
    "duration": 44,
    "start_time": "2022-04-07T11:26:26.239Z"
   },
   {
    "duration": 10,
    "start_time": "2022-04-07T11:26:26.284Z"
   },
   {
    "duration": 8,
    "start_time": "2022-04-07T11:26:26.296Z"
   },
   {
    "duration": 35,
    "start_time": "2022-04-07T11:26:26.305Z"
   },
   {
    "duration": 9,
    "start_time": "2022-04-07T11:26:26.341Z"
   },
   {
    "duration": 32,
    "start_time": "2022-04-07T11:26:26.351Z"
   },
   {
    "duration": 1115,
    "start_time": "2022-04-07T11:26:26.384Z"
   },
   {
    "duration": 810,
    "start_time": "2022-04-07T11:26:27.500Z"
   },
   {
    "duration": 1313,
    "start_time": "2022-04-07T11:26:28.312Z"
   },
   {
    "duration": 16,
    "start_time": "2022-04-07T11:26:29.627Z"
   },
   {
    "duration": 742,
    "start_time": "2022-04-07T11:26:29.644Z"
   },
   {
    "duration": 460,
    "start_time": "2022-04-07T11:26:30.390Z"
   },
   {
    "duration": 7,
    "start_time": "2022-04-07T11:26:30.852Z"
   },
   {
    "duration": 89592,
    "start_time": "2022-04-07T11:26:30.861Z"
   },
   {
    "duration": 1335,
    "start_time": "2022-04-07T11:28:00.454Z"
   },
   {
    "duration": 6,
    "start_time": "2022-04-07T11:28:01.790Z"
   },
   {
    "duration": 9958,
    "start_time": "2022-04-07T11:28:01.797Z"
   },
   {
    "duration": 3200,
    "start_time": "2022-04-07T11:28:11.756Z"
   },
   {
    "duration": 0,
    "start_time": "2022-04-07T11:28:14.958Z"
   },
   {
    "duration": 9,
    "start_time": "2022-04-07T11:36:19.161Z"
   },
   {
    "duration": 9,
    "start_time": "2022-04-07T11:38:27.116Z"
   },
   {
    "duration": 15,
    "start_time": "2022-04-07T11:38:42.074Z"
   },
   {
    "duration": 95695,
    "start_time": "2022-04-07T11:39:55.147Z"
   },
   {
    "duration": 12181,
    "start_time": "2022-04-07T11:41:30.843Z"
   },
   {
    "duration": 1033,
    "start_time": "2022-04-07T11:43:24.251Z"
   },
   {
    "duration": 7,
    "start_time": "2022-04-07T11:43:41.425Z"
   },
   {
    "duration": 9977,
    "start_time": "2022-04-07T11:43:45.427Z"
   },
   {
    "duration": 8,
    "start_time": "2022-04-07T11:43:55.631Z"
   },
   {
    "duration": 9,
    "start_time": "2022-04-07T11:44:02.655Z"
   },
   {
    "duration": 15,
    "start_time": "2022-04-07T11:46:13.467Z"
   },
   {
    "duration": 3134,
    "start_time": "2022-04-07T11:46:42.197Z"
   },
   {
    "duration": 11,
    "start_time": "2022-04-07T11:46:59.838Z"
   },
   {
    "duration": 32,
    "start_time": "2022-04-07T11:47:15.551Z"
   },
   {
    "duration": 933,
    "start_time": "2022-04-07T11:47:51.086Z"
   },
   {
    "duration": 9,
    "start_time": "2022-04-07T11:48:46.499Z"
   },
   {
    "duration": 10172,
    "start_time": "2022-04-07T11:49:56.647Z"
   },
   {
    "duration": 9,
    "start_time": "2022-04-07T11:52:27.565Z"
   },
   {
    "duration": 1546,
    "start_time": "2022-04-07T11:55:35.066Z"
   },
   {
    "duration": 3,
    "start_time": "2022-04-07T11:55:36.614Z"
   },
   {
    "duration": 60,
    "start_time": "2022-04-07T11:55:36.618Z"
   },
   {
    "duration": 11,
    "start_time": "2022-04-07T11:55:36.680Z"
   },
   {
    "duration": 16,
    "start_time": "2022-04-07T11:55:36.693Z"
   },
   {
    "duration": 35,
    "start_time": "2022-04-07T11:55:36.710Z"
   },
   {
    "duration": 10,
    "start_time": "2022-04-07T11:55:36.747Z"
   },
   {
    "duration": 25,
    "start_time": "2022-04-07T11:55:36.758Z"
   },
   {
    "duration": 2333,
    "start_time": "2022-04-07T11:55:36.784Z"
   },
   {
    "duration": 1101,
    "start_time": "2022-04-07T11:55:39.119Z"
   },
   {
    "duration": 1323,
    "start_time": "2022-04-07T11:55:40.222Z"
   },
   {
    "duration": 14,
    "start_time": "2022-04-07T11:55:41.547Z"
   },
   {
    "duration": 719,
    "start_time": "2022-04-07T11:55:41.563Z"
   },
   {
    "duration": 426,
    "start_time": "2022-04-07T11:55:42.286Z"
   },
   {
    "duration": 96545,
    "start_time": "2022-04-07T11:55:42.714Z"
   },
   {
    "duration": 7,
    "start_time": "2022-04-07T11:57:19.260Z"
   },
   {
    "duration": 94686,
    "start_time": "2022-04-07T11:57:19.268Z"
   },
   {
    "duration": 729,
    "start_time": "2022-04-07T11:58:53.956Z"
   },
   {
    "duration": 96,
    "start_time": "2022-04-07T11:58:54.687Z"
   },
   {
    "duration": 10220,
    "start_time": "2022-04-07T11:58:54.784Z"
   },
   {
    "duration": 9,
    "start_time": "2022-04-07T11:59:05.007Z"
   },
   {
    "duration": 1282,
    "start_time": "2022-04-07T11:59:50.203Z"
   },
   {
    "duration": 14,
    "start_time": "2022-04-07T12:00:12.680Z"
   },
   {
    "duration": 5,
    "start_time": "2022-04-07T12:08:07.964Z"
   },
   {
    "duration": 9785,
    "start_time": "2022-04-07T12:08:29.535Z"
   },
   {
    "duration": 9240,
    "start_time": "2022-04-07T12:09:30.341Z"
   },
   {
    "duration": 9,
    "start_time": "2022-04-07T12:11:10.806Z"
   },
   {
    "duration": 1442,
    "start_time": "2022-04-07T12:11:51.313Z"
   },
   {
    "duration": 3,
    "start_time": "2022-04-07T12:11:52.757Z"
   },
   {
    "duration": 39,
    "start_time": "2022-04-07T12:11:52.762Z"
   },
   {
    "duration": 11,
    "start_time": "2022-04-07T12:11:52.803Z"
   },
   {
    "duration": 8,
    "start_time": "2022-04-07T12:11:52.816Z"
   },
   {
    "duration": 55,
    "start_time": "2022-04-07T12:11:52.825Z"
   },
   {
    "duration": 11,
    "start_time": "2022-04-07T12:11:52.882Z"
   },
   {
    "duration": 5,
    "start_time": "2022-04-07T12:11:52.895Z"
   },
   {
    "duration": 1129,
    "start_time": "2022-04-07T12:11:52.902Z"
   },
   {
    "duration": 835,
    "start_time": "2022-04-07T12:11:54.033Z"
   },
   {
    "duration": 1411,
    "start_time": "2022-04-07T12:11:54.870Z"
   },
   {
    "duration": 16,
    "start_time": "2022-04-07T12:11:56.283Z"
   },
   {
    "duration": 685,
    "start_time": "2022-04-07T12:11:56.302Z"
   },
   {
    "duration": 441,
    "start_time": "2022-04-07T12:11:56.990Z"
   },
   {
    "duration": 94474,
    "start_time": "2022-04-07T12:11:57.433Z"
   },
   {
    "duration": 1274,
    "start_time": "2022-04-07T12:13:31.908Z"
   },
   {
    "duration": 102,
    "start_time": "2022-04-07T12:13:33.185Z"
   },
   {
    "duration": 5,
    "start_time": "2022-04-07T12:13:33.289Z"
   },
   {
    "duration": 9977,
    "start_time": "2022-04-07T12:13:33.296Z"
   },
   {
    "duration": 13,
    "start_time": "2022-04-07T12:13:43.275Z"
   },
   {
    "duration": 10165,
    "start_time": "2022-04-07T12:14:19.070Z"
   },
   {
    "duration": 210,
    "start_time": "2022-04-07T12:26:13.352Z"
   },
   {
    "duration": 11,
    "start_time": "2022-04-07T12:26:42.771Z"
   },
   {
    "duration": 9784,
    "start_time": "2022-04-07T12:26:56.052Z"
   },
   {
    "duration": 10,
    "start_time": "2022-04-07T12:27:29.876Z"
   },
   {
    "duration": 123,
    "start_time": "2022-04-07T12:27:41.651Z"
   },
   {
    "duration": 9142,
    "start_time": "2022-04-07T12:27:57.940Z"
   },
   {
    "duration": 2206,
    "start_time": "2022-04-08T10:00:26.159Z"
   },
   {
    "duration": 3,
    "start_time": "2022-04-08T10:00:28.367Z"
   },
   {
    "duration": 60,
    "start_time": "2022-04-08T10:00:28.371Z"
   },
   {
    "duration": 11,
    "start_time": "2022-04-08T10:00:28.432Z"
   },
   {
    "duration": 9,
    "start_time": "2022-04-08T10:00:28.445Z"
   },
   {
    "duration": 88,
    "start_time": "2022-04-08T10:00:28.456Z"
   },
   {
    "duration": 10,
    "start_time": "2022-04-08T10:00:28.545Z"
   },
   {
    "duration": 5,
    "start_time": "2022-04-08T10:00:28.556Z"
   },
   {
    "duration": 1776,
    "start_time": "2022-04-08T10:00:28.562Z"
   },
   {
    "duration": 894,
    "start_time": "2022-04-08T10:00:30.339Z"
   },
   {
    "duration": 1356,
    "start_time": "2022-04-08T10:00:31.234Z"
   },
   {
    "duration": 15,
    "start_time": "2022-04-08T10:00:32.592Z"
   },
   {
    "duration": 622,
    "start_time": "2022-04-08T10:00:32.608Z"
   },
   {
    "duration": 406,
    "start_time": "2022-04-08T10:00:33.233Z"
   },
   {
    "duration": 87791,
    "start_time": "2022-04-08T10:00:33.640Z"
   },
   {
    "duration": 1000,
    "start_time": "2022-04-08T10:02:01.432Z"
   },
   {
    "duration": 101,
    "start_time": "2022-04-08T10:02:02.434Z"
   },
   {
    "duration": 9710,
    "start_time": "2022-04-08T10:02:02.537Z"
   },
   {
    "duration": 8,
    "start_time": "2022-04-08T10:02:12.249Z"
   },
   {
    "duration": 7,
    "start_time": "2022-04-08T10:02:12.258Z"
   },
   {
    "duration": 102,
    "start_time": "2022-04-08T10:22:59.961Z"
   },
   {
    "duration": 9,
    "start_time": "2022-04-08T10:23:32.304Z"
   },
   {
    "duration": 20,
    "start_time": "2022-04-08T10:23:43.263Z"
   },
   {
    "duration": 9,
    "start_time": "2022-04-08T10:24:40.940Z"
   },
   {
    "duration": 167,
    "start_time": "2022-04-08T10:25:02.633Z"
   },
   {
    "duration": 8,
    "start_time": "2022-04-08T10:25:27.642Z"
   },
   {
    "duration": 9,
    "start_time": "2022-04-08T10:26:19.795Z"
   },
   {
    "duration": 9,
    "start_time": "2022-04-08T10:26:20.372Z"
   },
   {
    "duration": 11,
    "start_time": "2022-04-08T10:27:25.858Z"
   },
   {
    "duration": 1441,
    "start_time": "2022-04-08T10:27:56.958Z"
   },
   {
    "duration": 2,
    "start_time": "2022-04-08T10:27:58.401Z"
   },
   {
    "duration": 34,
    "start_time": "2022-04-08T10:27:58.405Z"
   },
   {
    "duration": 12,
    "start_time": "2022-04-08T10:27:58.440Z"
   },
   {
    "duration": 11,
    "start_time": "2022-04-08T10:27:58.454Z"
   },
   {
    "duration": 37,
    "start_time": "2022-04-08T10:27:58.467Z"
   },
   {
    "duration": 31,
    "start_time": "2022-04-08T10:27:58.506Z"
   },
   {
    "duration": 10,
    "start_time": "2022-04-08T10:27:58.538Z"
   },
   {
    "duration": 1191,
    "start_time": "2022-04-08T10:27:58.550Z"
   },
   {
    "duration": 880,
    "start_time": "2022-04-08T10:27:59.743Z"
   },
   {
    "duration": 1461,
    "start_time": "2022-04-08T10:28:00.625Z"
   },
   {
    "duration": 18,
    "start_time": "2022-04-08T10:28:02.088Z"
   },
   {
    "duration": 624,
    "start_time": "2022-04-08T10:28:02.107Z"
   },
   {
    "duration": 465,
    "start_time": "2022-04-08T10:28:02.734Z"
   },
   {
    "duration": 96658,
    "start_time": "2022-04-08T10:28:03.201Z"
   },
   {
    "duration": 1176,
    "start_time": "2022-04-08T10:29:39.861Z"
   },
   {
    "duration": 105,
    "start_time": "2022-04-08T10:29:41.039Z"
   },
   {
    "duration": 10047,
    "start_time": "2022-04-08T10:29:41.145Z"
   },
   {
    "duration": 8,
    "start_time": "2022-04-08T10:29:51.194Z"
   },
   {
    "duration": 164,
    "start_time": "2022-04-08T10:29:51.204Z"
   },
   {
    "duration": 6,
    "start_time": "2022-04-08T10:29:51.370Z"
   },
   {
    "duration": 229,
    "start_time": "2022-04-08T10:29:51.378Z"
   },
   {
    "duration": 16,
    "start_time": "2022-04-08T10:30:23.065Z"
   },
   {
    "duration": 10,
    "start_time": "2022-04-08T10:30:32.024Z"
   },
   {
    "duration": 10,
    "start_time": "2022-04-08T10:31:13.522Z"
   },
   {
    "duration": 8,
    "start_time": "2022-04-08T10:31:38.694Z"
   },
   {
    "duration": 26,
    "start_time": "2022-04-08T10:33:29.743Z"
   },
   {
    "duration": 9,
    "start_time": "2022-04-08T10:34:47.217Z"
   },
   {
    "duration": 9,
    "start_time": "2022-04-08T10:35:04.887Z"
   },
   {
    "duration": 14,
    "start_time": "2022-04-08T10:37:50.599Z"
   },
   {
    "duration": 13,
    "start_time": "2022-04-08T10:38:18.303Z"
   },
   {
    "duration": 49,
    "start_time": "2022-04-08T10:39:34.301Z"
   },
   {
    "duration": 171,
    "start_time": "2022-04-08T10:40:03.444Z"
   },
   {
    "duration": 9,
    "start_time": "2022-04-08T10:40:22.715Z"
   },
   {
    "duration": 9,
    "start_time": "2022-04-08T11:13:47.211Z"
   },
   {
    "duration": 8,
    "start_time": "2022-04-08T11:14:07.874Z"
   },
   {
    "duration": 38,
    "start_time": "2022-04-08T11:25:45.821Z"
   },
   {
    "duration": 10,
    "start_time": "2022-04-08T11:26:08.386Z"
   },
   {
    "duration": 3238,
    "start_time": "2022-04-08T11:27:58.505Z"
   },
   {
    "duration": 1006,
    "start_time": "2022-04-08T11:31:36.072Z"
   },
   {
    "duration": 1075,
    "start_time": "2022-04-08T11:31:52.803Z"
   },
   {
    "duration": 10,
    "start_time": "2022-04-08T11:32:09.915Z"
   },
   {
    "duration": 3090,
    "start_time": "2022-04-08T11:45:27.561Z"
   },
   {
    "duration": 314605,
    "start_time": "2022-04-08T12:05:11.018Z"
   },
   {
    "duration": 0,
    "start_time": "2022-04-08T12:10:25.641Z"
   },
   {
    "duration": 1240,
    "start_time": "2022-04-08T12:11:00.400Z"
   },
   {
    "duration": 106,
    "start_time": "2022-04-08T12:11:39.731Z"
   },
   {
    "duration": 1139,
    "start_time": "2022-04-08T12:11:46.657Z"
   },
   {
    "duration": 1525,
    "start_time": "2022-04-08T12:14:35.690Z"
   },
   {
    "duration": 1646,
    "start_time": "2022-04-08T12:19:29.792Z"
   },
   {
    "duration": 3,
    "start_time": "2022-04-08T12:19:31.440Z"
   },
   {
    "duration": 46,
    "start_time": "2022-04-08T12:19:31.444Z"
   },
   {
    "duration": 9,
    "start_time": "2022-04-08T12:19:31.492Z"
   },
   {
    "duration": 19,
    "start_time": "2022-04-08T12:19:31.502Z"
   },
   {
    "duration": 67,
    "start_time": "2022-04-08T12:19:31.523Z"
   },
   {
    "duration": 13,
    "start_time": "2022-04-08T12:19:31.592Z"
   },
   {
    "duration": 12,
    "start_time": "2022-04-08T12:19:31.607Z"
   },
   {
    "duration": 1778,
    "start_time": "2022-04-08T12:19:31.621Z"
   },
   {
    "duration": 972,
    "start_time": "2022-04-08T12:19:33.401Z"
   },
   {
    "duration": 1500,
    "start_time": "2022-04-08T12:19:34.375Z"
   },
   {
    "duration": 15,
    "start_time": "2022-04-08T12:19:35.877Z"
   },
   {
    "duration": 584,
    "start_time": "2022-04-08T12:19:35.894Z"
   },
   {
    "duration": 533,
    "start_time": "2022-04-08T12:19:36.480Z"
   },
   {
    "duration": 137355,
    "start_time": "2022-04-08T12:19:37.015Z"
   },
   {
    "duration": 1200,
    "start_time": "2022-04-08T12:21:54.372Z"
   },
   {
    "duration": 120,
    "start_time": "2022-04-08T12:21:55.573Z"
   },
   {
    "duration": 0,
    "start_time": "2022-04-08T12:21:55.694Z"
   },
   {
    "duration": 0,
    "start_time": "2022-04-08T12:21:55.695Z"
   },
   {
    "duration": 0,
    "start_time": "2022-04-08T12:21:55.696Z"
   },
   {
    "duration": 342,
    "start_time": "2022-04-08T12:22:12.192Z"
   },
   {
    "duration": 9,
    "start_time": "2022-04-08T12:23:11.869Z"
   },
   {
    "duration": 4,
    "start_time": "2022-04-08T12:23:37.000Z"
   },
   {
    "duration": 1180,
    "start_time": "2022-04-08T12:23:51.296Z"
   },
   {
    "duration": 15,
    "start_time": "2022-04-08T12:24:20.190Z"
   },
   {
    "duration": 47,
    "start_time": "2022-04-08T12:24:32.859Z"
   },
   {
    "duration": 391,
    "start_time": "2022-04-08T12:24:52.826Z"
   },
   {
    "duration": 303561,
    "start_time": "2022-04-08T12:25:43.571Z"
   },
   {
    "duration": 409,
    "start_time": "2022-04-08T12:30:47.134Z"
   },
   {
    "duration": 273339,
    "start_time": "2022-04-08T13:02:40.587Z"
   },
   {
    "duration": 11,
    "start_time": "2022-04-08T13:10:58.838Z"
   },
   {
    "duration": 2506,
    "start_time": "2022-04-08T13:11:09.485Z"
   },
   {
    "duration": 1437,
    "start_time": "2022-04-08T13:34:47.697Z"
   },
   {
    "duration": 3,
    "start_time": "2022-04-08T13:34:49.135Z"
   },
   {
    "duration": 35,
    "start_time": "2022-04-08T13:34:49.139Z"
   },
   {
    "duration": 7,
    "start_time": "2022-04-08T13:34:49.176Z"
   },
   {
    "duration": 10,
    "start_time": "2022-04-08T13:34:49.185Z"
   },
   {
    "duration": 33,
    "start_time": "2022-04-08T13:34:49.197Z"
   },
   {
    "duration": 10,
    "start_time": "2022-04-08T13:34:49.231Z"
   },
   {
    "duration": 5,
    "start_time": "2022-04-08T13:34:49.242Z"
   },
   {
    "duration": 1102,
    "start_time": "2022-04-08T13:34:49.271Z"
   },
   {
    "duration": 808,
    "start_time": "2022-04-08T13:34:50.375Z"
   },
   {
    "duration": 1330,
    "start_time": "2022-04-08T13:34:51.185Z"
   },
   {
    "duration": 17,
    "start_time": "2022-04-08T13:34:52.518Z"
   },
   {
    "duration": 736,
    "start_time": "2022-04-08T13:34:52.537Z"
   },
   {
    "duration": 408,
    "start_time": "2022-04-08T13:34:53.277Z"
   },
   {
    "duration": 22708,
    "start_time": "2022-04-09T11:47:09.798Z"
   },
   {
    "duration": 2,
    "start_time": "2022-04-09T11:47:32.508Z"
   },
   {
    "duration": 35,
    "start_time": "2022-04-09T11:47:32.512Z"
   },
   {
    "duration": 6,
    "start_time": "2022-04-09T11:47:32.549Z"
   },
   {
    "duration": 11,
    "start_time": "2022-04-09T11:47:32.557Z"
   },
   {
    "duration": 31,
    "start_time": "2022-04-09T11:47:32.569Z"
   },
   {
    "duration": 9,
    "start_time": "2022-04-09T11:47:32.601Z"
   },
   {
    "duration": 5,
    "start_time": "2022-04-09T11:47:32.611Z"
   },
   {
    "duration": 1041,
    "start_time": "2022-04-09T11:47:32.617Z"
   },
   {
    "duration": 760,
    "start_time": "2022-04-09T11:47:33.660Z"
   },
   {
    "duration": 1357,
    "start_time": "2022-04-09T11:47:34.422Z"
   },
   {
    "duration": 16,
    "start_time": "2022-04-09T11:47:35.781Z"
   },
   {
    "duration": 479,
    "start_time": "2022-04-09T11:47:35.798Z"
   },
   {
    "duration": 498,
    "start_time": "2022-04-09T11:47:36.278Z"
   },
   {
    "duration": 86808,
    "start_time": "2022-04-09T11:47:36.778Z"
   },
   {
    "duration": 1090,
    "start_time": "2022-04-09T11:49:03.587Z"
   },
   {
    "duration": 2656,
    "start_time": "2022-04-09T11:49:04.679Z"
   },
   {
    "duration": 47,
    "start_time": "2022-04-09T11:49:07.336Z"
   },
   {
    "duration": 4,
    "start_time": "2022-04-09T11:49:07.385Z"
   },
   {
    "duration": 1744,
    "start_time": "2022-04-10T07:41:05.576Z"
   },
   {
    "duration": 3,
    "start_time": "2022-04-10T07:41:07.323Z"
   },
   {
    "duration": 34,
    "start_time": "2022-04-10T07:41:07.328Z"
   },
   {
    "duration": 7,
    "start_time": "2022-04-10T07:41:07.364Z"
   },
   {
    "duration": 12,
    "start_time": "2022-04-10T07:41:07.373Z"
   },
   {
    "duration": 49,
    "start_time": "2022-04-10T07:41:07.387Z"
   },
   {
    "duration": 13,
    "start_time": "2022-04-10T07:41:07.459Z"
   },
   {
    "duration": 5,
    "start_time": "2022-04-10T07:41:07.473Z"
   },
   {
    "duration": 1184,
    "start_time": "2022-04-10T07:41:07.480Z"
   },
   {
    "duration": 859,
    "start_time": "2022-04-10T07:41:08.666Z"
   },
   {
    "duration": 1879,
    "start_time": "2022-04-10T07:41:09.527Z"
   },
   {
    "duration": 16,
    "start_time": "2022-04-10T07:41:11.408Z"
   },
   {
    "duration": 646,
    "start_time": "2022-04-10T07:41:11.425Z"
   },
   {
    "duration": 452,
    "start_time": "2022-04-10T07:41:12.161Z"
   },
   {
    "duration": 98264,
    "start_time": "2022-04-10T07:41:12.615Z"
   },
   {
    "duration": 1480,
    "start_time": "2022-04-10T07:42:50.881Z"
   },
   {
    "duration": 3,
    "start_time": "2022-04-10T07:42:52.363Z"
   },
   {
    "duration": 123,
    "start_time": "2022-04-10T07:42:52.367Z"
   },
   {
    "duration": 0,
    "start_time": "2022-04-10T07:42:52.492Z"
   },
   {
    "duration": 0,
    "start_time": "2022-04-10T07:42:52.493Z"
   },
   {
    "duration": 13,
    "start_time": "2022-04-10T07:43:15.030Z"
   },
   {
    "duration": 14,
    "start_time": "2022-04-10T07:43:27.805Z"
   },
   {
    "duration": 95,
    "start_time": "2022-04-10T07:44:55.278Z"
   },
   {
    "duration": 1098,
    "start_time": "2022-04-10T07:45:21.530Z"
   },
   {
    "duration": 768,
    "start_time": "2022-04-10T07:47:04.366Z"
   },
   {
    "duration": 132,
    "start_time": "2022-04-10T07:48:48.314Z"
   },
   {
    "duration": 43,
    "start_time": "2022-04-10T07:48:56.123Z"
   },
   {
    "duration": 6,
    "start_time": "2022-04-10T07:48:59.633Z"
   },
   {
    "duration": 1463,
    "start_time": "2022-04-10T07:49:56.745Z"
   },
   {
    "duration": 3,
    "start_time": "2022-04-10T07:49:58.210Z"
   },
   {
    "duration": 41,
    "start_time": "2022-04-10T07:49:58.214Z"
   },
   {
    "duration": 8,
    "start_time": "2022-04-10T07:49:58.256Z"
   },
   {
    "duration": 11,
    "start_time": "2022-04-10T07:49:58.265Z"
   },
   {
    "duration": 35,
    "start_time": "2022-04-10T07:49:58.278Z"
   },
   {
    "duration": 9,
    "start_time": "2022-04-10T07:49:58.314Z"
   },
   {
    "duration": 33,
    "start_time": "2022-04-10T07:49:58.325Z"
   },
   {
    "duration": 1123,
    "start_time": "2022-04-10T07:49:58.359Z"
   },
   {
    "duration": 826,
    "start_time": "2022-04-10T07:49:59.484Z"
   },
   {
    "duration": 1699,
    "start_time": "2022-04-10T07:50:00.312Z"
   },
   {
    "duration": 16,
    "start_time": "2022-04-10T07:50:02.013Z"
   },
   {
    "duration": 836,
    "start_time": "2022-04-10T07:50:02.031Z"
   },
   {
    "duration": 459,
    "start_time": "2022-04-10T07:50:02.959Z"
   },
   {
    "duration": 95532,
    "start_time": "2022-04-10T07:50:03.420Z"
   },
   {
    "duration": 1410,
    "start_time": "2022-04-10T07:51:38.954Z"
   },
   {
    "duration": 1176,
    "start_time": "2022-04-10T07:51:40.365Z"
   },
   {
    "duration": 835,
    "start_time": "2022-04-10T07:51:41.543Z"
   },
   {
    "duration": 44,
    "start_time": "2022-04-10T07:51:42.379Z"
   },
   {
    "duration": 5,
    "start_time": "2022-04-10T07:51:42.425Z"
   }
  ],
  "kernelspec": {
   "display_name": "Python 3 (ipykernel)",
   "language": "python",
   "name": "python3"
  },
  "language_info": {
   "codemirror_mode": {
    "name": "ipython",
    "version": 3
   },
   "file_extension": ".py",
   "mimetype": "text/x-python",
   "name": "python",
   "nbconvert_exporter": "python",
   "pygments_lexer": "ipython3",
   "version": "3.9.5"
  },
  "toc": {
   "base_numbering": 1,
   "nav_menu": {},
   "number_sections": true,
   "sideBar": true,
   "skip_h1_title": true,
   "title_cell": "Table of Contents",
   "title_sidebar": "Contents",
   "toc_cell": false,
   "toc_position": {},
   "toc_section_display": true,
   "toc_window_display": false
  }
 },
 "nbformat": 4,
 "nbformat_minor": 2
}
