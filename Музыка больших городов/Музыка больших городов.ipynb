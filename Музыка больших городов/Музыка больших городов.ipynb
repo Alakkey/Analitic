{
 "cells": [
  {
   "cell_type": "markdown",
   "metadata": {
    "toc": true
   },
   "source": [
    "<h1>Table of Contents<span class=\"tocSkip\"></span></h1>\n",
    "<div class=\"toc\"><ul class=\"toc-item\"><li><span><a href=\"#Обзор-данных\" data-toc-modified-id=\"Обзор-данных-1\"><span class=\"toc-item-num\">1&nbsp;&nbsp;</span>Обзор данных</a></span></li><li><span><a href=\"#Предобработка-данных\" data-toc-modified-id=\"Предобработка-данных-2\"><span class=\"toc-item-num\">2&nbsp;&nbsp;</span>Предобработка данных</a></span><ul class=\"toc-item\"><li><span><a href=\"#Стиль-заголовков\" data-toc-modified-id=\"Стиль-заголовков-2.1\"><span class=\"toc-item-num\">2.1&nbsp;&nbsp;</span>Стиль заголовков</a></span></li><li><span><a href=\"#Пропуски-значений\" data-toc-modified-id=\"Пропуски-значений-2.2\"><span class=\"toc-item-num\">2.2&nbsp;&nbsp;</span>Пропуски значений</a></span></li><li><span><a href=\"#Дубликаты\" data-toc-modified-id=\"Дубликаты-2.3\"><span class=\"toc-item-num\">2.3&nbsp;&nbsp;</span>Дубликаты</a></span></li></ul></li><li><span><a href=\"#Проверка-гипотез\" data-toc-modified-id=\"Проверка-гипотез-3\"><span class=\"toc-item-num\">3&nbsp;&nbsp;</span>Проверка гипотез</a></span><ul class=\"toc-item\"><li><span><a href=\"#Сравнение-поведения-пользователей-двух-столиц\" data-toc-modified-id=\"Сравнение-поведения-пользователей-двух-столиц-3.1\"><span class=\"toc-item-num\">3.1&nbsp;&nbsp;</span>Сравнение поведения пользователей двух столиц</a></span></li><li><span><a href=\"#Музыка-в-начале-и-в-конце-недели\" data-toc-modified-id=\"Музыка-в-начале-и-в-конце-недели-3.2\"><span class=\"toc-item-num\">3.2&nbsp;&nbsp;</span>Музыка в начале и в конце недели</a></span></li><li><span><a href=\"#Жанровые-предпочтения-в-Москве-и-Петербурге\" data-toc-modified-id=\"Жанровые-предпочтения-в-Москве-и-Петербурге-3.3\"><span class=\"toc-item-num\">3.3&nbsp;&nbsp;</span>Жанровые предпочтения в Москве и Петербурге</a></span></li></ul></li><li><span><a href=\"#Итоги-исследования\" data-toc-modified-id=\"Итоги-исследования-4\"><span class=\"toc-item-num\">4&nbsp;&nbsp;</span>Итоги исследования</a></span></li></ul></div>"
   ]
  },
  {
   "cell_type": "markdown",
   "metadata": {
    "id": "E0vqbgi9ay0H"
   },
   "source": [
    "# Яндекс.Музыка"
   ]
  },
  {
   "cell_type": "markdown",
   "metadata": {
    "id": "VUC88oWjTJw2"
   },
   "source": [
    "Сравнение Москвы и Петербурга окружено мифами. Например:\n",
    " * Москва — мегаполис, подчинённый жёсткому ритму рабочей недели;\n",
    " * Петербург — культурная столица, со своими вкусами.\n",
    "\n",
    "На данных Яндекс.Музыки вы сравните поведение пользователей двух столиц.\n",
    "\n",
    "**Цель исследования** — проверьте три гипотезы:\n",
    "1. Активность пользователей зависит от дня недели. Причём в Москве и Петербурге это проявляется по-разному.\n",
    "2. В понедельник утром в Москве преобладают одни жанры, а в Петербурге — другие. Так же и вечером пятницы преобладают разные жанры — в зависимости от города. \n",
    "3. Москва и Петербург предпочитают разные жанры музыки. В Москве чаще слушают поп-музыку, в Петербурге — русский рэп.\n",
    "\n",
    "**Ход исследования**\n",
    "\n",
    "Данные о поведении пользователей вы получите из файла `yandex_music_project.csv`. О качестве данных ничего не известно. Поэтому перед проверкой гипотез понадобится обзор данных. \n",
    "\n",
    "Вы проверите данные на ошибки и оцените их влияние на исследование. Затем, на этапе предобработки вы поищете возможность исправить самые критичные ошибки данных.\n",
    " \n",
    "Таким образом, исследование пройдёт в три этапа:\n",
    " 1. Обзор данных.\n",
    " 2. Предобработка данных.\n",
    " 3. Проверка гипотез.\n",
    "\n"
   ]
  },
  {
   "cell_type": "markdown",
   "metadata": {
    "id": "Ml1hmfXC_Zcs"
   },
   "source": [
    "## Обзор данных\n",
    "\n",
    "Составьте первое представление о данных Яндекс.Музыки.\n",
    "\n",
    "\n"
   ]
  },
  {
   "cell_type": "markdown",
   "metadata": {
    "id": "57eAOGIz_Zcs"
   },
   "source": [
    "Основной инструмент аналитика — `pandas`. Импортируйте эту библиотеку."
   ]
  },
  {
   "cell_type": "code",
   "execution_count": 1,
   "metadata": {
    "id": "AXN7PHPN_Zcs"
   },
   "outputs": [],
   "source": [
    "import pandas as pd # импорт библиотеки pandas"
   ]
  },
  {
   "cell_type": "markdown",
   "metadata": {
    "id": "SG23P8tt_Zcs"
   },
   "source": [
    "Прочитайте файл `yandex_music_project.csv` из папки `/datasets` и сохраните его в переменной `df`:"
   ]
  },
  {
   "cell_type": "code",
   "execution_count": 2,
   "metadata": {
    "id": "fFVu7vqh_Zct"
   },
   "outputs": [],
   "source": [
    "df = pd.read_csv('/datasets/yandex_music_project.csv') # чтение файла с данными и сохранение в df"
   ]
  },
  {
   "cell_type": "markdown",
   "metadata": {
    "id": "rDoOMd3uTqnZ"
   },
   "source": [
    "Выведите на экран первые десять строк таблицы:"
   ]
  },
  {
   "cell_type": "code",
   "execution_count": 3,
   "metadata": {
    "id": "oWTVX3gW_Zct"
   },
   "outputs": [
    {
     "data": {
      "text/html": [
       "<div>\n",
       "<style scoped>\n",
       "    .dataframe tbody tr th:only-of-type {\n",
       "        vertical-align: middle;\n",
       "    }\n",
       "\n",
       "    .dataframe tbody tr th {\n",
       "        vertical-align: top;\n",
       "    }\n",
       "\n",
       "    .dataframe thead th {\n",
       "        text-align: right;\n",
       "    }\n",
       "</style>\n",
       "<table border=\"1\" class=\"dataframe\">\n",
       "  <thead>\n",
       "    <tr style=\"text-align: right;\">\n",
       "      <th></th>\n",
       "      <th>userID</th>\n",
       "      <th>Track</th>\n",
       "      <th>artist</th>\n",
       "      <th>genre</th>\n",
       "      <th>City</th>\n",
       "      <th>time</th>\n",
       "      <th>Day</th>\n",
       "    </tr>\n",
       "  </thead>\n",
       "  <tbody>\n",
       "    <tr>\n",
       "      <td>0</td>\n",
       "      <td>FFB692EC</td>\n",
       "      <td>Kamigata To Boots</td>\n",
       "      <td>The Mass Missile</td>\n",
       "      <td>rock</td>\n",
       "      <td>Saint-Petersburg</td>\n",
       "      <td>20:28:33</td>\n",
       "      <td>Wednesday</td>\n",
       "    </tr>\n",
       "    <tr>\n",
       "      <td>1</td>\n",
       "      <td>55204538</td>\n",
       "      <td>Delayed Because of Accident</td>\n",
       "      <td>Andreas Rönnberg</td>\n",
       "      <td>rock</td>\n",
       "      <td>Moscow</td>\n",
       "      <td>14:07:09</td>\n",
       "      <td>Friday</td>\n",
       "    </tr>\n",
       "    <tr>\n",
       "      <td>2</td>\n",
       "      <td>20EC38</td>\n",
       "      <td>Funiculì funiculà</td>\n",
       "      <td>Mario Lanza</td>\n",
       "      <td>pop</td>\n",
       "      <td>Saint-Petersburg</td>\n",
       "      <td>20:58:07</td>\n",
       "      <td>Wednesday</td>\n",
       "    </tr>\n",
       "    <tr>\n",
       "      <td>3</td>\n",
       "      <td>A3DD03C9</td>\n",
       "      <td>Dragons in the Sunset</td>\n",
       "      <td>Fire + Ice</td>\n",
       "      <td>folk</td>\n",
       "      <td>Saint-Petersburg</td>\n",
       "      <td>08:37:09</td>\n",
       "      <td>Monday</td>\n",
       "    </tr>\n",
       "    <tr>\n",
       "      <td>4</td>\n",
       "      <td>E2DC1FAE</td>\n",
       "      <td>Soul People</td>\n",
       "      <td>Space Echo</td>\n",
       "      <td>dance</td>\n",
       "      <td>Moscow</td>\n",
       "      <td>08:34:34</td>\n",
       "      <td>Monday</td>\n",
       "    </tr>\n",
       "    <tr>\n",
       "      <td>5</td>\n",
       "      <td>842029A1</td>\n",
       "      <td>Преданная</td>\n",
       "      <td>IMPERVTOR</td>\n",
       "      <td>rusrap</td>\n",
       "      <td>Saint-Petersburg</td>\n",
       "      <td>13:09:41</td>\n",
       "      <td>Friday</td>\n",
       "    </tr>\n",
       "    <tr>\n",
       "      <td>6</td>\n",
       "      <td>4CB90AA5</td>\n",
       "      <td>True</td>\n",
       "      <td>Roman Messer</td>\n",
       "      <td>dance</td>\n",
       "      <td>Moscow</td>\n",
       "      <td>13:00:07</td>\n",
       "      <td>Wednesday</td>\n",
       "    </tr>\n",
       "    <tr>\n",
       "      <td>7</td>\n",
       "      <td>F03E1C1F</td>\n",
       "      <td>Feeling This Way</td>\n",
       "      <td>Polina Griffith</td>\n",
       "      <td>dance</td>\n",
       "      <td>Moscow</td>\n",
       "      <td>20:47:49</td>\n",
       "      <td>Wednesday</td>\n",
       "    </tr>\n",
       "    <tr>\n",
       "      <td>8</td>\n",
       "      <td>8FA1D3BE</td>\n",
       "      <td>И вновь продолжается бой</td>\n",
       "      <td>NaN</td>\n",
       "      <td>ruspop</td>\n",
       "      <td>Moscow</td>\n",
       "      <td>09:17:40</td>\n",
       "      <td>Friday</td>\n",
       "    </tr>\n",
       "    <tr>\n",
       "      <td>9</td>\n",
       "      <td>E772D5C0</td>\n",
       "      <td>Pessimist</td>\n",
       "      <td>NaN</td>\n",
       "      <td>dance</td>\n",
       "      <td>Saint-Petersburg</td>\n",
       "      <td>21:20:49</td>\n",
       "      <td>Wednesday</td>\n",
       "    </tr>\n",
       "  </tbody>\n",
       "</table>\n",
       "</div>"
      ],
      "text/plain": [
       "     userID                        Track            artist   genre  \\\n",
       "0  FFB692EC            Kamigata To Boots  The Mass Missile    rock   \n",
       "1  55204538  Delayed Because of Accident  Andreas Rönnberg    rock   \n",
       "2    20EC38            Funiculì funiculà       Mario Lanza     pop   \n",
       "3  A3DD03C9        Dragons in the Sunset        Fire + Ice    folk   \n",
       "4  E2DC1FAE                  Soul People        Space Echo   dance   \n",
       "5  842029A1                    Преданная         IMPERVTOR  rusrap   \n",
       "6  4CB90AA5                         True      Roman Messer   dance   \n",
       "7  F03E1C1F             Feeling This Way   Polina Griffith   dance   \n",
       "8  8FA1D3BE     И вновь продолжается бой               NaN  ruspop   \n",
       "9  E772D5C0                    Pessimist               NaN   dance   \n",
       "\n",
       "             City        time        Day  \n",
       "0  Saint-Petersburg  20:28:33  Wednesday  \n",
       "1            Moscow  14:07:09     Friday  \n",
       "2  Saint-Petersburg  20:58:07  Wednesday  \n",
       "3  Saint-Petersburg  08:37:09     Monday  \n",
       "4            Moscow  08:34:34     Monday  \n",
       "5  Saint-Petersburg  13:09:41     Friday  \n",
       "6            Moscow  13:00:07  Wednesday  \n",
       "7            Moscow  20:47:49  Wednesday  \n",
       "8            Moscow  09:17:40     Friday  \n",
       "9  Saint-Petersburg  21:20:49  Wednesday  "
      ]
     },
     "execution_count": 3,
     "metadata": {},
     "output_type": "execute_result"
    }
   ],
   "source": [
    "df.head(10)# получение первых 10 строк таблицы df"
   ]
  },
  {
   "cell_type": "markdown",
   "metadata": {
    "id": "EO73Kwic_Zct"
   },
   "source": [
    "Одной командой получить общую информацию о таблице:"
   ]
  },
  {
   "cell_type": "code",
   "execution_count": 4,
   "metadata": {
    "id": "DSf2kIb-_Zct"
   },
   "outputs": [
    {
     "name": "stdout",
     "output_type": "stream",
     "text": [
      "<class 'pandas.core.frame.DataFrame'>\n",
      "RangeIndex: 65079 entries, 0 to 65078\n",
      "Data columns (total 7 columns):\n",
      "  userID    65079 non-null object\n",
      "Track       63848 non-null object\n",
      "artist      57876 non-null object\n",
      "genre       63881 non-null object\n",
      "  City      65079 non-null object\n",
      "time        65079 non-null object\n",
      "Day         65079 non-null object\n",
      "dtypes: object(7)\n",
      "memory usage: 3.5+ MB\n"
     ]
    }
   ],
   "source": [
    "df.info() # получение общей информации о данных в таблице df"
   ]
  },
  {
   "cell_type": "markdown",
   "metadata": {
    "id": "TaQ2Iwbr_Zct"
   },
   "source": [
    "Итак, в таблице семь столбцов. Тип данных во всех столбцах — `object`.\n",
    "\n",
    "Согласно документации к данным:\n",
    "* `userID` — идентификатор пользователя;\n",
    "* `Track` — название трека;  \n",
    "* `artist` — имя исполнителя;\n",
    "* `genre` — название жанра;\n",
    "* `City` — город пользователя;\n",
    "* `time` — время начала прослушивания;\n",
    "* `Day` — день недели.\n",
    "\n",
    "В названиях колонок видны три нарушения стиля:\n",
    "1. Строчные буквы сочетаются с прописными.\n",
    "2. Встречаются пробелы.\n",
    "3. Встречаются названия колонок, которые записаны с заглавной буквы.\n",
    "\n",
    "\n",
    "\n",
    "Количество значений в столбцах различается. Значит, в данных есть пропущенные знропиачения.\n"
   ]
  },
  {
   "cell_type": "markdown",
   "metadata": {
    "id": "MCB6-dXG_Zct"
   },
   "source": [
    "**Выводы**\n",
    "\n",
    "В каждой строке таблицы — данные о прослушанном треке. Часть колонок описывает саму композицию: название, исполнителя и жанр. Остальные данные рассказывают о пользователе: из какого он города, когда он слушал музыку. \n",
    "\n",
    "Предварительно можно утверждать, что, данных достаточно для проверки гипотез. Но встречаются пропуски в данных, а в названиях колонок — расхождения с хорошим стилем.\n",
    "\n",
    "Чтобы двигаться дальше, нужно устранить проблемы в данных."
   ]
  },
  {
   "cell_type": "markdown",
   "metadata": {
    "id": "SjYF6Ub9_Zct"
   },
   "source": [
    "## Предобработка данных\n",
    "Исправьте стиль в заголовках столбцов, исключите пропуски. Затем проверьте данные на дубликаты."
   ]
  },
  {
   "cell_type": "markdown",
   "metadata": {
    "id": "dIaKXr29_Zct"
   },
   "source": [
    "### Стиль заголовков\n",
    "Выведите на экран названия столбцов:"
   ]
  },
  {
   "cell_type": "code",
   "execution_count": 5,
   "metadata": {
    "id": "oKOTdF_Q_Zct"
   },
   "outputs": [
    {
     "data": {
      "text/plain": [
       "Index(['  userID', 'Track', 'artist', 'genre', '  City  ', 'time', 'Day'], dtype='object')"
      ]
     },
     "metadata": {},
     "output_type": "display_data"
    }
   ],
   "source": [
    "display(df.columns)# перечень названий столбцов таблицы df"
   ]
  },
  {
   "cell_type": "markdown",
   "metadata": {
    "id": "zj5534cv_Zct"
   },
   "source": [
    "Приведите названия в соответствие с хорошим стилем:\n",
    "* несколько слов в названии запишите в «змеином_регистре»,\n",
    "* все символы сделайте строчными,\n",
    "* устраните пробелы.\n",
    "\n",
    "Для этого переименуйте колонки так:\n",
    "* `'  userID'` → `'user_id'`;\n",
    "* `'Track'` → `'track'`;\n",
    "* `'  City  '` → `'city'`;\n",
    "* `'Day'` → `'day'`."
   ]
  },
  {
   "cell_type": "code",
   "execution_count": 6,
   "metadata": {
    "id": "ISlFqs5y_Zct"
   },
   "outputs": [],
   "source": [
    "df.rename(columns = {'  userID':'user_id',\n",
    "                     'Track':'track', \n",
    "                     '  City  ':'city', \n",
    "                     'Day':'day'}, inplace = True) # переименование столбцов"
   ]
  },
  {
   "cell_type": "markdown",
   "metadata": {
    "id": "1dqbh00J_Zct"
   },
   "source": [
    "Проверьте результат. Для этого ещё раз выведите на экран названия столбцов:"
   ]
  },
  {
   "cell_type": "code",
   "execution_count": 7,
   "metadata": {
    "id": "d4NOAmTW_Zct"
   },
   "outputs": [
    {
     "data": {
      "text/plain": [
       "Index(['user_id', 'track', 'artist', 'genre', 'city', 'time', 'day'], dtype='object')"
      ]
     },
     "execution_count": 7,
     "metadata": {},
     "output_type": "execute_result"
    }
   ],
   "source": [
    "df.columns# проверка результатов - перечень названий столбцов"
   ]
  },
  {
   "cell_type": "markdown",
   "metadata": {
    "id": "5ISfbcfY_Zct"
   },
   "source": [
    "### Пропуски значений\n",
    "Сначала посчитайте, сколько в таблице пропущенных значений. Для этого достаточно двух методов `pandas`:"
   ]
  },
  {
   "cell_type": "code",
   "execution_count": 8,
   "metadata": {
    "id": "RskX29qr_Zct"
   },
   "outputs": [
    {
     "data": {
      "text/plain": [
       "user_id       0\n",
       "track      1231\n",
       "artist     7203\n",
       "genre      1198\n",
       "city          0\n",
       "time          0\n",
       "day           0\n",
       "dtype: int64"
      ]
     },
     "execution_count": 8,
     "metadata": {},
     "output_type": "execute_result"
    }
   ],
   "source": [
    "df.isna().sum() # подсчёт пропусков"
   ]
  },
  {
   "cell_type": "markdown",
   "metadata": {
    "id": "qubhgnlO_Zct"
   },
   "source": [
    "Не все пропущенные значения влияют на исследование. Так в `track` и `artist` пропуски не важны для вашей работы. Достаточно заменить их явными обозначениями.\n",
    "\n",
    "Но пропуски в `genre` могут помешать сравнению музыкальных вкусов в Москве и Санкт-Петербурге. На практике было бы правильно установить причину пропусков и восстановить данные. Такой возможности нет в учебном проекте. Придётся:\n",
    "* заполнить и эти пропуски явными обозначениями,\n",
    "* оценить, насколько они повредят расчётам. "
   ]
  },
  {
   "cell_type": "markdown",
   "metadata": {
    "id": "fSv2laPA_Zct"
   },
   "source": [
    "Замените пропущенные значения в столбцах `track`, `artist` и `genre` на строку `'unknown'`. Для этого создайте список `columns_to_replace`, переберите его элементы циклом `for` и для каждого столбца выполните замену пропущенных значений:"
   ]
  },
  {
   "cell_type": "code",
   "execution_count": 9,
   "metadata": {
    "id": "KplB5qWs_Zct"
   },
   "outputs": [],
   "source": [
    "columns_to_replace = ['track', 'artist', 'genre']\n",
    "for column in columns_to_replace:\n",
    "    df[column] = df[column].fillna('unkown')# перебор названий столбцов в цикле и замена пропущенных значений на 'unknown'"
   ]
  },
  {
   "cell_type": "markdown",
   "metadata": {
    "id": "Ilsm-MZo_Zct"
   },
   "source": [
    "Убедитесь, что в таблице не осталось пропусков. Для этого ещё раз посчитайте пропущенные значения."
   ]
  },
  {
   "cell_type": "code",
   "execution_count": 10,
   "metadata": {
    "id": "Tq4nYRX4_Zct"
   },
   "outputs": [
    {
     "data": {
      "text/plain": [
       "user_id    0\n",
       "track      0\n",
       "artist     0\n",
       "genre      0\n",
       "city       0\n",
       "time       0\n",
       "day        0\n",
       "dtype: int64"
      ]
     },
     "execution_count": 10,
     "metadata": {},
     "output_type": "execute_result"
    }
   ],
   "source": [
    "df.isna().sum() # подсчёт пропусков"
   ]
  },
  {
   "cell_type": "markdown",
   "metadata": {
    "id": "BWKRtBJ3_Zct"
   },
   "source": [
    "### Дубликаты\n",
    "Посчитайте явные дубликаты в таблице одной командой:"
   ]
  },
  {
   "cell_type": "code",
   "execution_count": 11,
   "metadata": {
    "id": "36eES_S0_Zct"
   },
   "outputs": [
    {
     "data": {
      "text/plain": [
       "3826"
      ]
     },
     "execution_count": 11,
     "metadata": {},
     "output_type": "execute_result"
    }
   ],
   "source": [
    "df.duplicated().sum()# подсчёт явных дубликатов"
   ]
  },
  {
   "cell_type": "markdown",
   "metadata": {
    "id": "Ot25h6XR_Zct"
   },
   "source": [
    "Вызовите специальный метод `pandas`, чтобы удалить явные дубликаты:"
   ]
  },
  {
   "cell_type": "code",
   "execution_count": 12,
   "metadata": {
    "id": "exFHq6tt_Zct"
   },
   "outputs": [],
   "source": [
    "df = df.drop_duplicates().reset_index(drop=True) # удаление явных дубликатов (с удалением старых индексов и формированием новых)"
   ]
  },
  {
   "cell_type": "markdown",
   "metadata": {
    "id": "Im2YwBEG_Zct"
   },
   "source": [
    "Ещё раз посчитайте явные дубликаты в таблице — убедитесь, что полностью от них избавились:"
   ]
  },
  {
   "cell_type": "code",
   "execution_count": 13,
   "metadata": {
    "id": "-8PuNWQ0_Zct",
    "scrolled": true
   },
   "outputs": [
    {
     "data": {
      "text/plain": [
       "0"
      ]
     },
     "execution_count": 13,
     "metadata": {},
     "output_type": "execute_result"
    }
   ],
   "source": [
    "df.duplicated().sum()# проверка на отсутствие дубликатов"
   ]
  },
  {
   "cell_type": "markdown",
   "metadata": {
    "id": "QlFBsxAr_Zct"
   },
   "source": [
    "Теперь избавьтесь от неявных дубликатов в колонке `genre`. Например, название одного и того же жанра может быть записано немного по-разному. Такие ошибки тоже повлияют на результат исследования."
   ]
  },
  {
   "cell_type": "markdown",
   "metadata": {
    "id": "eSjWwsOh_Zct"
   },
   "source": [
    "Выведите на экран список уникальных названий жанров, отсортированный в алфавитном порядке. Для этого:\n",
    "* извлеките нужный столбец датафрейма, \n",
    "* примените к нему метод сортировки,\n",
    "* для отсортированного столбца вызовите метод, который вернёт уникальные значения из столбца."
   ]
  },
  {
   "cell_type": "code",
   "execution_count": 14,
   "metadata": {
    "id": "JIUcqzZN_Zct"
   },
   "outputs": [
    {
     "data": {
      "text/plain": [
       "array(['acid', 'acoustic', 'action', 'adult', 'africa', 'afrikaans',\n",
       "       'alternative', 'alternativepunk', 'ambient', 'americana',\n",
       "       'animated', 'anime', 'arabesk', 'arabic', 'arena',\n",
       "       'argentinetango', 'art', 'audiobook', 'author', 'avantgarde',\n",
       "       'axé', 'baile', 'balkan', 'beats', 'bigroom', 'black', 'bluegrass',\n",
       "       'blues', 'bollywood', 'bossa', 'brazilian', 'breakbeat', 'breaks',\n",
       "       'broadway', 'cantautori', 'cantopop', 'canzone', 'caribbean',\n",
       "       'caucasian', 'celtic', 'chamber', 'chanson', 'children', 'chill',\n",
       "       'chinese', 'choral', 'christian', 'christmas', 'classical',\n",
       "       'classicmetal', 'club', 'colombian', 'comedy', 'conjazz',\n",
       "       'contemporary', 'country', 'cuban', 'dance', 'dancehall',\n",
       "       'dancepop', 'dark', 'death', 'deep', 'deutschrock', 'deutschspr',\n",
       "       'dirty', 'disco', 'dnb', 'documentary', 'downbeat', 'downtempo',\n",
       "       'drum', 'dub', 'dubstep', 'eastern', 'easy', 'electronic',\n",
       "       'electropop', 'emo', 'entehno', 'epicmetal', 'estrada', 'ethnic',\n",
       "       'eurofolk', 'european', 'experimental', 'extrememetal', 'fado',\n",
       "       'fairytail', 'film', 'fitness', 'flamenco', 'folk', 'folklore',\n",
       "       'folkmetal', 'folkrock', 'folktronica', 'forró', 'frankreich',\n",
       "       'französisch', 'french', 'funk', 'future', 'gangsta', 'garage',\n",
       "       'german', 'ghazal', 'gitarre', 'glitch', 'gospel', 'gothic',\n",
       "       'grime', 'grunge', 'gypsy', 'handsup', \"hard'n'heavy\", 'hardcore',\n",
       "       'hardstyle', 'hardtechno', 'hip', 'hip-hop', 'hiphop',\n",
       "       'historisch', 'holiday', 'hop', 'horror', 'house', 'hymn', 'idm',\n",
       "       'independent', 'indian', 'indie', 'indipop', 'industrial',\n",
       "       'inspirational', 'instrumental', 'international', 'irish', 'jam',\n",
       "       'japanese', 'jazz', 'jewish', 'jpop', 'jungle', 'k-pop',\n",
       "       'karadeniz', 'karaoke', 'kayokyoku', 'korean', 'laiko', 'latin',\n",
       "       'latino', 'leftfield', 'local', 'lounge', 'loungeelectronic',\n",
       "       'lovers', 'malaysian', 'mandopop', 'marschmusik', 'meditative',\n",
       "       'mediterranean', 'melodic', 'metal', 'metalcore', 'mexican',\n",
       "       'middle', 'minimal', 'miscellaneous', 'modern', 'mood', 'mpb',\n",
       "       'muslim', 'native', 'neoklassik', 'neue', 'new', 'newage',\n",
       "       'newwave', 'nu', 'nujazz', 'numetal', 'oceania', 'old', 'opera',\n",
       "       'orchestral', 'other', 'piano', 'podcasts', 'pop', 'popdance',\n",
       "       'popelectronic', 'popeurodance', 'poprussian', 'post',\n",
       "       'posthardcore', 'postrock', 'power', 'progmetal', 'progressive',\n",
       "       'psychedelic', 'punjabi', 'punk', 'quebecois', 'ragga', 'ram',\n",
       "       'rancheras', 'rap', 'rave', 'reggae', 'reggaeton', 'regional',\n",
       "       'relax', 'religious', 'retro', 'rhythm', 'rnb', 'rnr', 'rock',\n",
       "       'rockabilly', 'rockalternative', 'rockindie', 'rockother',\n",
       "       'romance', 'roots', 'ruspop', 'rusrap', 'rusrock', 'russian',\n",
       "       'salsa', 'samba', 'scenic', 'schlager', 'self', 'sertanejo',\n",
       "       'shanson', 'shoegazing', 'showtunes', 'singer', 'ska', 'skarock',\n",
       "       'slow', 'smooth', 'soft', 'soul', 'soulful', 'sound', 'soundtrack',\n",
       "       'southern', 'specialty', 'speech', 'spiritual', 'sport',\n",
       "       'stonerrock', 'surf', 'swing', 'synthpop', 'synthrock',\n",
       "       'sängerportrait', 'tango', 'tanzorchester', 'taraftar', 'tatar',\n",
       "       'tech', 'techno', 'teen', 'thrash', 'top', 'traditional',\n",
       "       'tradjazz', 'trance', 'tribal', 'trip', 'triphop', 'tropical',\n",
       "       'türk', 'türkçe', 'ukrrock', 'unkown', 'urban', 'uzbek', 'variété',\n",
       "       'vi', 'videogame', 'vocal', 'western', 'world', 'worldbeat', 'ïîï',\n",
       "       'электроника'], dtype=object)"
      ]
     },
     "metadata": {},
     "output_type": "display_data"
    }
   ],
   "source": [
    "display(df['genre'].sort_values().unique())# Просмотр уникальных названий жанров"
   ]
  },
  {
   "cell_type": "markdown",
   "metadata": {
    "id": "qej-Qmuo_Zct"
   },
   "source": [
    "Просмотрите список и найдите неявные дубликаты названия `hiphop`. Это могут быть названия с ошибками или альтернативные названия того же жанра.\n",
    "\n",
    "Вы увидите следующие неявные дубликаты:\n",
    "* *hip*,\n",
    "* *hop*,\n",
    "* *hip-hop*.\n",
    "\n",
    "Чтобы очистить от них таблицу, напишите функцию `replace_wrong_genres()` с двумя параметрами: \n",
    "* `wrong_genres` — список дубликатов,\n",
    "* `correct_genre` — строка с правильным значением.\n",
    "\n",
    "Функция должна исправить колонку `genre` в таблице `df`: заменить каждое значение из списка `wrong_genres` на значение из `correct_genre`."
   ]
  },
  {
   "cell_type": "code",
   "execution_count": 15,
   "metadata": {
    "id": "ErNDkmns_Zct"
   },
   "outputs": [],
   "source": [
    "def replace_wrong_genres(wrong_genres, correct_genre):\n",
    "    for wrong_genre in wrong_genres:\n",
    "        df['genre'] = df['genre'].replace(wrong_genre, correct_genre)\n",
    "\n",
    "\n",
    "    # Функция для замены неявных дубликатов"
   ]
  },
  {
   "cell_type": "markdown",
   "metadata": {
    "id": "aDoBJxbA_Zct"
   },
   "source": [
    "Вызовите `replace_wrong_genres()` и передайте ей такие аргументы, чтобы она устранила неявные дубликаты: вместо `hip`, `hop` и `hip-hop` в таблице должно быть значение `hiphop`:"
   ]
  },
  {
   "cell_type": "code",
   "execution_count": 16,
   "metadata": {
    "id": "YN5i2hpmSo09"
   },
   "outputs": [],
   "source": [
    "df['genre'] = df['genre'].replace(['hip', 'hop', 'hip-hop'], 'hiphop') # Устранение неявных дубликатов"
   ]
  },
  {
   "cell_type": "markdown",
   "metadata": {
    "id": "zQKF16_RG15m"
   },
   "source": [
    "Проверьте, что заменили неправильные названия:\n",
    "\n",
    "*   hip\n",
    "*   hop\n",
    "*   hip-hop\n",
    "\n",
    "Выведите отсортированный список уникальных значений столбца `genre`:"
   ]
  },
  {
   "cell_type": "code",
   "execution_count": 17,
   "metadata": {
    "id": "wvixALnFG15m"
   },
   "outputs": [
    {
     "data": {
      "text/plain": [
       "array(['acid', 'acoustic', 'action', 'adult', 'africa', 'afrikaans',\n",
       "       'alternative', 'alternativepunk', 'ambient', 'americana',\n",
       "       'animated', 'anime', 'arabesk', 'arabic', 'arena',\n",
       "       'argentinetango', 'art', 'audiobook', 'author', 'avantgarde',\n",
       "       'axé', 'baile', 'balkan', 'beats', 'bigroom', 'black', 'bluegrass',\n",
       "       'blues', 'bollywood', 'bossa', 'brazilian', 'breakbeat', 'breaks',\n",
       "       'broadway', 'cantautori', 'cantopop', 'canzone', 'caribbean',\n",
       "       'caucasian', 'celtic', 'chamber', 'chanson', 'children', 'chill',\n",
       "       'chinese', 'choral', 'christian', 'christmas', 'classical',\n",
       "       'classicmetal', 'club', 'colombian', 'comedy', 'conjazz',\n",
       "       'contemporary', 'country', 'cuban', 'dance', 'dancehall',\n",
       "       'dancepop', 'dark', 'death', 'deep', 'deutschrock', 'deutschspr',\n",
       "       'dirty', 'disco', 'dnb', 'documentary', 'downbeat', 'downtempo',\n",
       "       'drum', 'dub', 'dubstep', 'eastern', 'easy', 'electronic',\n",
       "       'electropop', 'emo', 'entehno', 'epicmetal', 'estrada', 'ethnic',\n",
       "       'eurofolk', 'european', 'experimental', 'extrememetal', 'fado',\n",
       "       'fairytail', 'film', 'fitness', 'flamenco', 'folk', 'folklore',\n",
       "       'folkmetal', 'folkrock', 'folktronica', 'forró', 'frankreich',\n",
       "       'französisch', 'french', 'funk', 'future', 'gangsta', 'garage',\n",
       "       'german', 'ghazal', 'gitarre', 'glitch', 'gospel', 'gothic',\n",
       "       'grime', 'grunge', 'gypsy', 'handsup', \"hard'n'heavy\", 'hardcore',\n",
       "       'hardstyle', 'hardtechno', 'hiphop', 'historisch', 'holiday',\n",
       "       'horror', 'house', 'hymn', 'idm', 'independent', 'indian', 'indie',\n",
       "       'indipop', 'industrial', 'inspirational', 'instrumental',\n",
       "       'international', 'irish', 'jam', 'japanese', 'jazz', 'jewish',\n",
       "       'jpop', 'jungle', 'k-pop', 'karadeniz', 'karaoke', 'kayokyoku',\n",
       "       'korean', 'laiko', 'latin', 'latino', 'leftfield', 'local',\n",
       "       'lounge', 'loungeelectronic', 'lovers', 'malaysian', 'mandopop',\n",
       "       'marschmusik', 'meditative', 'mediterranean', 'melodic', 'metal',\n",
       "       'metalcore', 'mexican', 'middle', 'minimal', 'miscellaneous',\n",
       "       'modern', 'mood', 'mpb', 'muslim', 'native', 'neoklassik', 'neue',\n",
       "       'new', 'newage', 'newwave', 'nu', 'nujazz', 'numetal', 'oceania',\n",
       "       'old', 'opera', 'orchestral', 'other', 'piano', 'podcasts', 'pop',\n",
       "       'popdance', 'popelectronic', 'popeurodance', 'poprussian', 'post',\n",
       "       'posthardcore', 'postrock', 'power', 'progmetal', 'progressive',\n",
       "       'psychedelic', 'punjabi', 'punk', 'quebecois', 'ragga', 'ram',\n",
       "       'rancheras', 'rap', 'rave', 'reggae', 'reggaeton', 'regional',\n",
       "       'relax', 'religious', 'retro', 'rhythm', 'rnb', 'rnr', 'rock',\n",
       "       'rockabilly', 'rockalternative', 'rockindie', 'rockother',\n",
       "       'romance', 'roots', 'ruspop', 'rusrap', 'rusrock', 'russian',\n",
       "       'salsa', 'samba', 'scenic', 'schlager', 'self', 'sertanejo',\n",
       "       'shanson', 'shoegazing', 'showtunes', 'singer', 'ska', 'skarock',\n",
       "       'slow', 'smooth', 'soft', 'soul', 'soulful', 'sound', 'soundtrack',\n",
       "       'southern', 'specialty', 'speech', 'spiritual', 'sport',\n",
       "       'stonerrock', 'surf', 'swing', 'synthpop', 'synthrock',\n",
       "       'sängerportrait', 'tango', 'tanzorchester', 'taraftar', 'tatar',\n",
       "       'tech', 'techno', 'teen', 'thrash', 'top', 'traditional',\n",
       "       'tradjazz', 'trance', 'tribal', 'trip', 'triphop', 'tropical',\n",
       "       'türk', 'türkçe', 'ukrrock', 'unkown', 'urban', 'uzbek', 'variété',\n",
       "       'vi', 'videogame', 'vocal', 'western', 'world', 'worldbeat', 'ïîï',\n",
       "       'электроника'], dtype=object)"
      ]
     },
     "metadata": {},
     "output_type": "display_data"
    }
   ],
   "source": [
    "display(df['genre'].sort_values().unique()) # Проверка на неявные дубликаты"
   ]
  },
  {
   "cell_type": "markdown",
   "metadata": {
    "id": "jz6a9-7HQUDd"
   },
   "source": [
    "**Выводы**\n",
    "\n",
    "Предобработка обнаружила три проблемы в данных:\n",
    "\n",
    "- нарушения в стиле заголовков,\n",
    "- пропущенные значения,\n",
    "- дубликаты — явные и неявные.\n",
    "\n",
    "Вы исправили заголовки, чтобы упростить работу с таблицей. Без дубликатов исследование станет более точным.\n",
    "\n",
    "Пропущенные значения вы заменили на `'unknown'`. Ещё предстоит увидеть, не повредят ли исследованию пропуски в колонке `genre`.\n",
    "\n",
    "Теперь можно перейти к проверке гипотез. "
   ]
  },
  {
   "cell_type": "markdown",
   "metadata": {
    "id": "WttZHXH0SqKk"
   },
   "source": [
    "## Проверка гипотез"
   ]
  },
  {
   "cell_type": "markdown",
   "metadata": {
    "id": "Im936VVi_Zcu"
   },
   "source": [
    "### Сравнение поведения пользователей двух столиц"
   ]
  },
  {
   "cell_type": "markdown",
   "metadata": {
    "id": "nwt_MuaL_Zcu"
   },
   "source": [
    "Первая гипотеза утверждает, что пользователи по-разному слушают музыку в Москве и Санкт-Петербурге. Проверьте это предположение по данным о трёх днях недели — понедельнике, среде и пятнице. Для этого:\n",
    "\n",
    "* Разделите пользователей Москвы и Санкт-Петербурга\n",
    "* Сравните, сколько треков послушала каждая группа пользователей в понедельник, среду и пятницу.\n"
   ]
  },
  {
   "cell_type": "markdown",
   "metadata": {
    "id": "8Dw_YMmT_Zcu"
   },
   "source": [
    "Для тренировки сначала выполните каждый из расчётов по отдельности. \n",
    "\n",
    "Оцените активность пользователей в каждом городе. Сгруппируйте данные по городу и посчитайте прослушивания в каждой группе.\n",
    "\n"
   ]
  },
  {
   "cell_type": "code",
   "execution_count": 18,
   "metadata": {
    "id": "0_Qs96oh_Zcu"
   },
   "outputs": [
    {
     "data": {
      "text/plain": [
       "city\n",
       "Moscow              42741\n",
       "Saint-Petersburg    18512\n",
       "Name: time, dtype: int64"
      ]
     },
     "execution_count": 18,
     "metadata": {},
     "output_type": "execute_result"
    }
   ],
   "source": [
    "# Подсчёт прослушиваний в каждом городе\n",
    "df.groupby('city')['time'].count()"
   ]
  },
  {
   "cell_type": "markdown",
   "metadata": {
    "id": "dzli3w8o_Zcu"
   },
   "source": [
    "В Москве прослушиваний больше, чем в Петербурге. Из этого не следует, что московские пользователи чаще слушают музыку. Просто самих пользователей в Москве больше.\n",
    "\n",
    "Теперь сгруппируйте данные по дню недели и подсчитайте прослушивания в понедельник, среду и пятницу. Учтите, что в данных есть информация только о прослушиваниях только за эти дни.\n"
   ]
  },
  {
   "cell_type": "code",
   "execution_count": 19,
   "metadata": {
    "id": "uZMKjiJz_Zcu"
   },
   "outputs": [
    {
     "data": {
      "text/plain": [
       "day\n",
       "Friday       21840\n",
       "Monday       21354\n",
       "Wednesday    18059\n",
       "Name: time, dtype: int64"
      ]
     },
     "execution_count": 19,
     "metadata": {},
     "output_type": "execute_result"
    }
   ],
   "source": [
    "# Подсчёт прослушиваний в каждый из трёх дней\n",
    "df.groupby('day')['time'].count()"
   ]
  },
  {
   "cell_type": "markdown",
   "metadata": {
    "id": "cC2tNrlL_Zcu"
   },
   "source": [
    "В среднем пользователи из двух городов менее активны по средам. Но картина может измениться, если рассмотреть каждый город в отдельности."
   ]
  },
  {
   "cell_type": "markdown",
   "metadata": {
    "id": "POzs8bGa_Zcu"
   },
   "source": [
    "Вы видели, как работает группировка по городу и по дням недели. Теперь напишите функцию, которая объединит два эти расчёта.\n",
    "\n",
    "Создайте функцию `number_tracks()`, которая посчитает прослушивания для заданного дня и города. Ей понадобятся два параметра:\n",
    "* день недели,\n",
    "* название города.\n",
    "\n",
    "В функции сохраните в переменную строки исходной таблицы, у которых значение:\n",
    "  * в колонке `day` равно параметру `day`,\n",
    "  * в колонке `city` равно параметру `city`.\n",
    "\n",
    "Для этого примените последовательную фильтрацию с логической индексацией.\n",
    "\n",
    "Затем посчитайте значения в столбце `user_id` получившейся таблицы. Результат сохраните в новую переменную. Верните эту переменную из функции."
   ]
  },
  {
   "cell_type": "code",
   "execution_count": 20,
   "metadata": {
    "id": "Nz3GdQB1_Zcu"
   },
   "outputs": [],
   "source": [
    "# <создание функции number_tracks()>\n",
    "def number_tracks(day, city):\n",
    "    track_list = df[(df['day'] == day) & (df['city'] == city)]\n",
    "    track_list_count = track_list['user_id'].count()\n",
    "    return track_list_count\n",
    "\n",
    "# Объявляется функция с двумя параметрами: day, city.\n",
    "# В переменной track_list сохраняются те строки таблицы df, для которых \n",
    "# значение в столбце 'day' равно параметру day и одновременно значение\n",
    "# в столбце 'city' равно параметру city (используйте последовательную фильтрацию\n",
    "# с помощью логической индексации).\n",
    "# В переменной track_list_count сохраняется число значений столбца 'user_id',\n",
    "# рассчитанное методом count() для таблицы track_list.\n",
    "# Функция возвращает число - значение track_list_count.\n",
    "\n",
    "# Функция для подсчёта прослушиваний для конкретного города и дня.\n",
    "# С помощью последовательной фильтрации с логической индексацией она \n",
    "# сначала получит из исходной таблицы строки с нужным днём,\n",
    "# затем из результата отфильтрует строки с нужным городом,\n",
    "# методом count() посчитает количество значений в колонке user_id. \n",
    "# Это количество функция вернёт в качестве результата"
   ]
  },
  {
   "cell_type": "markdown",
   "metadata": {
    "id": "ytf7xFrFJQ2r"
   },
   "source": [
    "Вызовите `number_tracks()` шесть раз, меняя значение параметров — так, чтобы получить данные для каждого города в каждый из трёх дней."
   ]
  },
  {
   "cell_type": "code",
   "execution_count": 21,
   "metadata": {
    "id": "rJcRATNQ_Zcu"
   },
   "outputs": [
    {
     "data": {
      "text/plain": [
       "15740"
      ]
     },
     "execution_count": 21,
     "metadata": {},
     "output_type": "execute_result"
    }
   ],
   "source": [
    "number_tracks('Monday', 'Moscow') # количество прослушиваний в Москве по понедельникам"
   ]
  },
  {
   "cell_type": "code",
   "execution_count": 22,
   "metadata": {
    "id": "hq_ncZ5T_Zcu"
   },
   "outputs": [
    {
     "data": {
      "text/plain": [
       "5614"
      ]
     },
     "execution_count": 22,
     "metadata": {},
     "output_type": "execute_result"
    }
   ],
   "source": [
    "number_tracks('Monday', 'Saint-Petersburg') # количество прослушиваний в Санкт-Петербурге по понедельникам"
   ]
  },
  {
   "cell_type": "code",
   "execution_count": 23,
   "metadata": {
    "id": "_NTy2VPU_Zcu"
   },
   "outputs": [
    {
     "data": {
      "text/plain": [
       "11056"
      ]
     },
     "execution_count": 23,
     "metadata": {},
     "output_type": "execute_result"
    }
   ],
   "source": [
    "number_tracks('Wednesday', 'Moscow') # количество прослушиваний в Москве по средам"
   ]
  },
  {
   "cell_type": "code",
   "execution_count": 24,
   "metadata": {
    "id": "j2y3TAwo_Zcu"
   },
   "outputs": [
    {
     "data": {
      "text/plain": [
       "7003"
      ]
     },
     "execution_count": 24,
     "metadata": {},
     "output_type": "execute_result"
    }
   ],
   "source": [
    "number_tracks('Wednesday', 'Saint-Petersburg') # количество прослушиваний в Санкт-Петербурге по средам"
   ]
  },
  {
   "cell_type": "code",
   "execution_count": 25,
   "metadata": {
    "id": "vYDw5u_K_Zcu"
   },
   "outputs": [
    {
     "data": {
      "text/plain": [
       "15945"
      ]
     },
     "execution_count": 25,
     "metadata": {},
     "output_type": "execute_result"
    }
   ],
   "source": [
    "number_tracks('Friday', 'Moscow') # количество прослушиваний в Москве по пятницам"
   ]
  },
  {
   "cell_type": "code",
   "execution_count": 26,
   "metadata": {
    "id": "8_yzFtW3_Zcu"
   },
   "outputs": [
    {
     "data": {
      "text/plain": [
       "5895"
      ]
     },
     "execution_count": 26,
     "metadata": {},
     "output_type": "execute_result"
    }
   ],
   "source": [
    "number_tracks('Friday', 'Saint-Petersburg') # количество прослушиваний в Санкт-Петербурге по пятницам"
   ]
  },
  {
   "cell_type": "markdown",
   "metadata": {
    "id": "7QXffbO-_Zcu"
   },
   "source": [
    "Создайте c помощью конструктора `pd.DataFrame` таблицу, где\n",
    "* названия колонок — `['city', 'monday', 'wednesday', 'friday']`;\n",
    "* данные — результаты, которые вы получили с помощью `number_tracks`."
   ]
  },
  {
   "cell_type": "code",
   "execution_count": 27,
   "metadata": {
    "id": "APAcLpOr_Zcu"
   },
   "outputs": [
    {
     "data": {
      "text/html": [
       "<div>\n",
       "<style scoped>\n",
       "    .dataframe tbody tr th:only-of-type {\n",
       "        vertical-align: middle;\n",
       "    }\n",
       "\n",
       "    .dataframe tbody tr th {\n",
       "        vertical-align: top;\n",
       "    }\n",
       "\n",
       "    .dataframe thead th {\n",
       "        text-align: right;\n",
       "    }\n",
       "</style>\n",
       "<table border=\"1\" class=\"dataframe\">\n",
       "  <thead>\n",
       "    <tr style=\"text-align: right;\">\n",
       "      <th></th>\n",
       "      <th>city</th>\n",
       "      <th>monday</th>\n",
       "      <th>wednesday</th>\n",
       "      <th>friday</th>\n",
       "    </tr>\n",
       "  </thead>\n",
       "  <tbody>\n",
       "    <tr>\n",
       "      <td>0</td>\n",
       "      <td>Moscow</td>\n",
       "      <td>15740</td>\n",
       "      <td>11056</td>\n",
       "      <td>15945</td>\n",
       "    </tr>\n",
       "    <tr>\n",
       "      <td>1</td>\n",
       "      <td>Saint-Petersburg</td>\n",
       "      <td>5614</td>\n",
       "      <td>7003</td>\n",
       "      <td>5895</td>\n",
       "    </tr>\n",
       "  </tbody>\n",
       "</table>\n",
       "</div>"
      ],
      "text/plain": [
       "               city  monday  wednesday  friday\n",
       "0            Moscow   15740      11056   15945\n",
       "1  Saint-Petersburg    5614       7003    5895"
      ]
     },
     "metadata": {},
     "output_type": "display_data"
    }
   ],
   "source": [
    "# Таблица с результатами\n",
    "data = [\n",
    "    ['Moscow', 15740, 11056, 15945],\n",
    "    ['Saint-Petersburg', 5614, 7003, 5895]\n",
    "]\n",
    "columns = ['city', 'monday', 'wednesday', 'friday']\n",
    "results = pd.DataFrame(data=data, columns=columns)\n",
    "display(results)"
   ]
  },
  {
   "cell_type": "markdown",
   "metadata": {
    "id": "-EgPIHYu_Zcu"
   },
   "source": [
    "**Выводы**\n",
    "\n",
    "Данные показывают разницу поведения пользователей:\n",
    "\n",
    "- В Москве пик прослушиваний приходится на понедельник и пятницу, а в среду заметен спад.\n",
    "- В Петербурге, наоборот, больше слушают музыку по средам. Активность в понедельник и пятницу здесь почти в равной мере уступает среде.\n",
    "\n",
    "Значит, данные говорят в пользу первой гипотезы."
   ]
  },
  {
   "cell_type": "markdown",
   "metadata": {
    "id": "atZAxtq4_Zcu"
   },
   "source": [
    "### Музыка в начале и в конце недели"
   ]
  },
  {
   "cell_type": "markdown",
   "metadata": {
    "id": "eXrQqXFH_Zcu"
   },
   "source": [
    "Согласно второй гипотезе, утром в понедельник в Москве преобладают одни жанры, а в Петербурге — другие. Так же и вечером пятницы преобладают разные жанры — в зависимости от города."
   ]
  },
  {
   "cell_type": "markdown",
   "metadata": {
    "id": "S8UcW6Hw_Zcu"
   },
   "source": [
    "Сохраните таблицы с данными в две переменные:\n",
    "* по Москве — в `moscow_general`;\n",
    "* по Санкт-Петербургу — в `spb_general`."
   ]
  },
  {
   "cell_type": "code",
   "execution_count": 28,
   "metadata": {
    "id": "qeaFfM_P_Zcu"
   },
   "outputs": [],
   "source": [
    "# получение таблицы moscow_general из тех строк таблицы df, \n",
    "# для которых значение в столбце 'city' равно 'Moscow'\n",
    "moscow_general = df[df['city'] == 'Moscow']\n"
   ]
  },
  {
   "cell_type": "code",
   "execution_count": 29,
   "metadata": {
    "id": "ORaVRKto_Zcu"
   },
   "outputs": [],
   "source": [
    "# получение таблицы spb_general из тех строк таблицы df,\n",
    "# для которых значение в столбце 'city' равно 'Saint-Petersburg'\n",
    "spb_general = df[df['city'] == 'Saint-Petersburg']"
   ]
  },
  {
   "cell_type": "markdown",
   "metadata": {
    "id": "MEJV-CX2_Zcu"
   },
   "source": [
    "Создайте функцию `genre_weekday()` с четырьмя параметрами:\n",
    "* таблица (датафрейм) с данными,\n",
    "* день недели,\n",
    "* начальная временная метка в формате 'hh:mm', \n",
    "* последняя временная метка в формате 'hh:mm'.\n",
    "\n",
    "Функция должна вернуть информацию о топ-10 жанров тех треков, которые прослушивали в указанный день, в промежутке между двумя отметками времени."
   ]
  },
  {
   "cell_type": "code",
   "execution_count": 30,
   "metadata": {
    "id": "laJT9BYl_Zcu"
   },
   "outputs": [],
   "source": [
    "# Объявление функции genre_weekday() с параметрами table, day, time1, time2,\n",
    "# которая возвращает информацию о самых популярных жанрах в указанный день в\n",
    "# заданное время:\n",
    "# 1) в переменную genre_df сохраняются те строки переданного датафрейма table, для\n",
    "#    которых одновременно:\n",
    "#    - значение в столбце day равно значению аргумента day\n",
    "#    - значение в столбце time больше значения аргумента time1\n",
    "#    - значение в столбце time меньше значения аргумента time2\n",
    "#    Используйте последовательную фильтрацию с помощью логической индексации.\n",
    "# 2) сгруппировать датафрейм genre_df по столбцу genre, взять один из его\n",
    "#    столбцов и посчитать методом count() количество записей для каждого из\n",
    "#    присутствующих жанров, получившийся Series записать в переменную\n",
    "#    genre_df_count\n",
    "# 3) отсортировать genre_df_count по убыванию встречаемости и сохранить\n",
    "#    в переменную genre_df_sorted\n",
    "# 4) вернуть Series из 10 первых значений genre_df_sorted, это будут топ-10\n",
    "#    популярных жанров (в указанный день, в заданное время)\n",
    "def genre_weekday(table, day, time1, time2):\n",
    "    genre_df = table[(table['day'] == day) & (table['time'] > time1) & (table['time'] < time2)]\n",
    "    genre_df_count = genre_df.groupby('genre')['genre'].count()\n",
    "    genre_df_sorted = genre_df_count.sort_values(ascending=False)\n",
    "    return genre_df_sorted.head(10)"
   ]
  },
  {
   "cell_type": "markdown",
   "metadata": {
    "id": "la2s2_PF_Zcu"
   },
   "source": [
    "Cравните результаты функции `genre_weekday()` для Москвы и Санкт-Петербурга в понедельник утром (с 7:00 до 11:00) и в пятницу вечером (с 17:00 до 23:00):"
   ]
  },
  {
   "cell_type": "code",
   "execution_count": 31,
   "metadata": {
    "id": "yz7itPUQ_Zcu"
   },
   "outputs": [
    {
     "data": {
      "text/plain": [
       "genre\n",
       "pop            781\n",
       "dance          549\n",
       "electronic     480\n",
       "rock           474\n",
       "hiphop         286\n",
       "ruspop         186\n",
       "world          181\n",
       "rusrap         175\n",
       "alternative    164\n",
       "unkown         161\n",
       "Name: genre, dtype: int64"
      ]
     },
     "execution_count": 31,
     "metadata": {},
     "output_type": "execute_result"
    }
   ],
   "source": [
    "# вызов функции для утра понедельника в Москве (вместо df — таблица moscow_general)\n",
    "# объекты, хранящие время, являются строками и сравниваются как строки\n",
    "# пример вызова: genre_weekday(moscow_general, 'Monday', '07:00', '11:00')\n",
    "genre_weekday(moscow_general, 'Monday', '07:00', '11:00')"
   ]
  },
  {
   "cell_type": "code",
   "execution_count": 32,
   "metadata": {
    "id": "kwUcHPdy_Zcu"
   },
   "outputs": [
    {
     "data": {
      "text/plain": [
       "genre\n",
       "pop            218\n",
       "dance          182\n",
       "rock           162\n",
       "electronic     147\n",
       "hiphop          80\n",
       "ruspop          64\n",
       "alternative     58\n",
       "rusrap          55\n",
       "jazz            44\n",
       "classical       40\n",
       "Name: genre, dtype: int64"
      ]
     },
     "execution_count": 32,
     "metadata": {},
     "output_type": "execute_result"
    }
   ],
   "source": [
    "genre_weekday(spb_general, 'Monday', '07:00', '11:00')# вызов функции для утра понедельника в Петербурге (вместо df — таблица spb_general)"
   ]
  },
  {
   "cell_type": "code",
   "execution_count": 33,
   "metadata": {
    "id": "EzXVRE1o_Zcu"
   },
   "outputs": [
    {
     "data": {
      "text/plain": [
       "genre\n",
       "pop            713\n",
       "rock           517\n",
       "dance          495\n",
       "electronic     482\n",
       "hiphop         273\n",
       "world          208\n",
       "ruspop         170\n",
       "alternative    163\n",
       "classical      163\n",
       "rusrap         142\n",
       "Name: genre, dtype: int64"
      ]
     },
     "execution_count": 33,
     "metadata": {},
     "output_type": "execute_result"
    }
   ],
   "source": [
    "genre_weekday(moscow_general, 'Friday', '17:00', '23:00')# вызов функции для вечера пятницы в Москве"
   ]
  },
  {
   "cell_type": "code",
   "execution_count": 34,
   "metadata": {
    "id": "JZaEKu5v_Zcu"
   },
   "outputs": [
    {
     "data": {
      "text/plain": [
       "genre\n",
       "pop            256\n",
       "rock           216\n",
       "electronic     216\n",
       "dance          210\n",
       "hiphop          97\n",
       "alternative     63\n",
       "jazz            61\n",
       "classical       60\n",
       "rusrap          59\n",
       "world           54\n",
       "Name: genre, dtype: int64"
      ]
     },
     "execution_count": 34,
     "metadata": {},
     "output_type": "execute_result"
    }
   ],
   "source": [
    "genre_weekday(spb_general, 'Friday', '17:00', '23:00')# вызов функции для вечера пятницы в Петербургеe"
   ]
  },
  {
   "cell_type": "markdown",
   "metadata": {
    "id": "wrCe4MNX_Zcu"
   },
   "source": [
    "**Выводы**\n",
    "\n",
    "Если сравнить топ-10 жанров в понедельник утром, можно сделать такие выводы:\n",
    "\n",
    "1. В Москве и Петербурге слушают похожую музыку. Единственное отличие — в московский рейтинг вошёл жанр “world”, а в петербургский — джаз и классика.\n",
    "\n",
    "2. В Москве пропущенных значений оказалось так много, что значение `'unknown'` заняло десятое место среди самых популярных жанров. Значит, пропущенные значения занимают существенную долю в данных и угрожают достоверности исследования.\n",
    "\n",
    "Вечер пятницы не меняет эту картину. Некоторые жанры поднимаются немного выше, другие спускаются, но в целом топ-10 остаётся тем же самым.\n",
    "\n",
    "Таким образом, вторая гипотеза подтвердилась лишь частично:\n",
    "* Пользователи слушают похожую музыку в начале недели и в конце.\n",
    "* Разница между Москвой и Петербургом не слишком выражена. В Москве чаще слушают русскую популярную музыку, в Петербурге — джаз.\n",
    "\n",
    "Однако пропуски в данных ставят под сомнение этот результат. В Москве их так много, что рейтинг топ-10 мог бы выглядеть иначе, если бы не утерянные  данные о жанрах."
   ]
  },
  {
   "cell_type": "markdown",
   "metadata": {
    "id": "JolODAqr_Zcu"
   },
   "source": [
    "### Жанровые предпочтения в Москве и Петербурге\n",
    "\n",
    "Гипотеза: Петербург — столица рэпа, музыку этого жанра там слушают чаще, чем в Москве.  А Москва — город контрастов, в котором, тем не менее, преобладает поп-музыка."
   ]
  },
  {
   "cell_type": "markdown",
   "metadata": {
    "id": "DlegSvaT_Zcu"
   },
   "source": [
    "Сгруппируйте таблицу `moscow_general` по жанру и посчитайте прослушивания треков каждого жанра методом `count()`. Затем отсортируйте результат в порядке убывания и сохраните его в таблице `moscow_genres`."
   ]
  },
  {
   "cell_type": "code",
   "execution_count": 35,
   "metadata": {
    "id": "r19lIPke_Zcu",
    "scrolled": true
   },
   "outputs": [],
   "source": [
    "# одной строкой: группировка таблицы moscow_general по столбцу 'genre', \n",
    "# подсчёт числа значений 'genre' в этой группировке методом count(), \n",
    "# сортировка получившегося Series в порядке убывания и сохранение в moscow_genres\n",
    "moscow_genres = moscow_general.groupby('genre')['genre'].count()\n",
    "moscow_genres = moscow_genres.sort_values(ascending=False)"
   ]
  },
  {
   "cell_type": "markdown",
   "metadata": {
    "id": "6kMuomxTiIr8"
   },
   "source": [
    "Выведите на экран первые десять строк `moscow_genres`:"
   ]
  },
  {
   "cell_type": "code",
   "execution_count": 36,
   "metadata": {
    "id": "WhCSooF8_Zcv"
   },
   "outputs": [
    {
     "data": {
      "text/html": [
       "<div>\n",
       "<style scoped>\n",
       "    .dataframe tbody tr th:only-of-type {\n",
       "        vertical-align: middle;\n",
       "    }\n",
       "\n",
       "    .dataframe tbody tr th {\n",
       "        vertical-align: top;\n",
       "    }\n",
       "\n",
       "    .dataframe thead th {\n",
       "        text-align: right;\n",
       "    }\n",
       "</style>\n",
       "<table border=\"1\" class=\"dataframe\">\n",
       "  <thead>\n",
       "    <tr style=\"text-align: right;\">\n",
       "      <th></th>\n",
       "      <th>genre</th>\n",
       "    </tr>\n",
       "    <tr>\n",
       "      <th>genre</th>\n",
       "      <th></th>\n",
       "    </tr>\n",
       "  </thead>\n",
       "  <tbody>\n",
       "    <tr>\n",
       "      <td>pop</td>\n",
       "      <td>5892</td>\n",
       "    </tr>\n",
       "    <tr>\n",
       "      <td>dance</td>\n",
       "      <td>4435</td>\n",
       "    </tr>\n",
       "    <tr>\n",
       "      <td>rock</td>\n",
       "      <td>3965</td>\n",
       "    </tr>\n",
       "    <tr>\n",
       "      <td>electronic</td>\n",
       "      <td>3786</td>\n",
       "    </tr>\n",
       "    <tr>\n",
       "      <td>hiphop</td>\n",
       "      <td>2096</td>\n",
       "    </tr>\n",
       "    <tr>\n",
       "      <td>classical</td>\n",
       "      <td>1616</td>\n",
       "    </tr>\n",
       "    <tr>\n",
       "      <td>world</td>\n",
       "      <td>1432</td>\n",
       "    </tr>\n",
       "    <tr>\n",
       "      <td>alternative</td>\n",
       "      <td>1379</td>\n",
       "    </tr>\n",
       "    <tr>\n",
       "      <td>ruspop</td>\n",
       "      <td>1372</td>\n",
       "    </tr>\n",
       "    <tr>\n",
       "      <td>rusrap</td>\n",
       "      <td>1161</td>\n",
       "    </tr>\n",
       "  </tbody>\n",
       "</table>\n",
       "</div>"
      ],
      "text/plain": [
       "             genre\n",
       "genre             \n",
       "pop           5892\n",
       "dance         4435\n",
       "rock          3965\n",
       "electronic    3786\n",
       "hiphop        2096\n",
       "classical     1616\n",
       "world         1432\n",
       "alternative   1379\n",
       "ruspop        1372\n",
       "rusrap        1161"
      ]
     },
     "metadata": {},
     "output_type": "display_data"
    }
   ],
   "source": [
    "display(moscow_genres.head(10).to_frame()) # просмотр первых 10 строк moscow_genres"
   ]
  },
  {
   "cell_type": "markdown",
   "metadata": {
    "id": "cnPG2vnN_Zcv"
   },
   "source": [
    "Теперь повторите то же и для Петербурга.\n",
    "\n",
    "Сгруппируйте таблицу `spb_general` по жанру. Посчитайте прослушивания треков каждого жанра. Результат отсортируйте в порядке убывания и сохраните в таблице `spb_genres`:\n"
   ]
  },
  {
   "cell_type": "code",
   "execution_count": 37,
   "metadata": {
    "id": "gluLIpE7_Zcv"
   },
   "outputs": [],
   "source": [
    "# одной строкой: группировка таблицы spb_general по столбцу 'genre', \n",
    "# подсчёт числа значений 'genre' в этой группировке методом count(), \n",
    "# сортировка получившегося Series в порядке убывания и сохранение в spb_genres\n",
    "spb_genres = spb_general.groupby('genre')['genre'].count()\n",
    "spb_genres = spb_genres.sort_values(ascending=False)"
   ]
  },
  {
   "cell_type": "markdown",
   "metadata": {
    "id": "5Doha_ODgyQ8"
   },
   "source": [
    "Выведите на экран первые десять строк `spb_genres`:"
   ]
  },
  {
   "cell_type": "code",
   "execution_count": 38,
   "metadata": {
    "id": "uaGJHjVU_Zcv"
   },
   "outputs": [
    {
     "data": {
      "text/html": [
       "<div>\n",
       "<style scoped>\n",
       "    .dataframe tbody tr th:only-of-type {\n",
       "        vertical-align: middle;\n",
       "    }\n",
       "\n",
       "    .dataframe tbody tr th {\n",
       "        vertical-align: top;\n",
       "    }\n",
       "\n",
       "    .dataframe thead th {\n",
       "        text-align: right;\n",
       "    }\n",
       "</style>\n",
       "<table border=\"1\" class=\"dataframe\">\n",
       "  <thead>\n",
       "    <tr style=\"text-align: right;\">\n",
       "      <th></th>\n",
       "      <th>genre</th>\n",
       "    </tr>\n",
       "    <tr>\n",
       "      <th>genre</th>\n",
       "      <th></th>\n",
       "    </tr>\n",
       "  </thead>\n",
       "  <tbody>\n",
       "    <tr>\n",
       "      <td>pop</td>\n",
       "      <td>2431</td>\n",
       "    </tr>\n",
       "    <tr>\n",
       "      <td>dance</td>\n",
       "      <td>1932</td>\n",
       "    </tr>\n",
       "    <tr>\n",
       "      <td>rock</td>\n",
       "      <td>1879</td>\n",
       "    </tr>\n",
       "    <tr>\n",
       "      <td>electronic</td>\n",
       "      <td>1736</td>\n",
       "    </tr>\n",
       "    <tr>\n",
       "      <td>hiphop</td>\n",
       "      <td>960</td>\n",
       "    </tr>\n",
       "    <tr>\n",
       "      <td>alternative</td>\n",
       "      <td>649</td>\n",
       "    </tr>\n",
       "    <tr>\n",
       "      <td>classical</td>\n",
       "      <td>646</td>\n",
       "    </tr>\n",
       "    <tr>\n",
       "      <td>rusrap</td>\n",
       "      <td>564</td>\n",
       "    </tr>\n",
       "    <tr>\n",
       "      <td>ruspop</td>\n",
       "      <td>538</td>\n",
       "    </tr>\n",
       "    <tr>\n",
       "      <td>world</td>\n",
       "      <td>515</td>\n",
       "    </tr>\n",
       "  </tbody>\n",
       "</table>\n",
       "</div>"
      ],
      "text/plain": [
       "             genre\n",
       "genre             \n",
       "pop           2431\n",
       "dance         1932\n",
       "rock          1879\n",
       "electronic    1736\n",
       "hiphop         960\n",
       "alternative    649\n",
       "classical      646\n",
       "rusrap         564\n",
       "ruspop         538\n",
       "world          515"
      ]
     },
     "metadata": {},
     "output_type": "display_data"
    }
   ],
   "source": [
    "display(spb_genres.head(10).to_frame()) # просмотр первых 10 строк spb_genres"
   ]
  },
  {
   "cell_type": "markdown",
   "metadata": {
    "id": "RY51YJYu_Zcv"
   },
   "source": [
    "**Выводы**"
   ]
  },
  {
   "cell_type": "markdown",
   "metadata": {
    "id": "nVhnJEm__Zcv"
   },
   "source": [
    "Гипотеза частично подтвердилась:\n",
    "* Поп-музыка — самый популярный жанр в Москве, как и предполагала гипотеза. Более того, в топ-10 жанров встречается близкий жанр — русская популярная музыка.\n",
    "* Вопреки ожиданиям, рэп одинаково популярен в Москве и Петербурге. \n"
   ]
  },
  {
   "cell_type": "markdown",
   "metadata": {
    "id": "ykKQ0N65_Zcv"
   },
   "source": [
    "## Итоги исследования"
   ]
  },
  {
   "cell_type": "markdown",
   "metadata": {
    "id": "tjUwbHb3_Zcv"
   },
   "source": [
    "Вы проверили три гипотезы и установили:\n",
    "\n",
    "1. День недели по-разному влияет на активность пользователей в Москве и Петербурге. \n",
    "\n",
    "Первая гипотеза полностью подтвердилась.\n",
    "\n",
    "2. Музыкальные предпочтения не сильно меняются в течение недели — будь то Москва или Петербург. Небольшие различия заметны в начале недели, по понедельникам:\n",
    "* в Москве слушают музыку жанра “world”,\n",
    "* в Петербурге — джаз и классику.\n",
    "\n",
    "Таким образом, вторая гипотеза подтвердилась лишь отчасти. Этот результат мог оказаться иным, если бы не пропуски в данных.\n",
    "\n",
    "3. Во вкусах пользователей Москвы и Петербурга больше общего чем различий. Вопреки ожиданиям, предпочтения жанров в Петербурге напоминают московские.\n",
    "\n",
    "Третья гипотеза не подтвердилась. Если различия в предпочтениях и существуют, на основной массе пользователей они незаметны.\n",
    "\n",
    "**На практике исследования содержат проверки статистических гипотез.**\n",
    "Из данных одного сервиса не всегда можно сделать вывод о всех жителях города.\n",
    "Проверки статистических гипотез покажут, насколько они достоверны, исходя из имеющихся данных. \n",
    "С методами проверок гипотез вы ещё познакомитесь в следующих темах."
   ]
  }
 ],
 "metadata": {
  "ExecuteTimeLog": [
   {
    "duration": 208,
    "start_time": "2021-10-27T06:55:20.216Z"
   },
   {
    "duration": 169,
    "start_time": "2021-10-27T06:55:36.323Z"
   },
   {
    "duration": 186,
    "start_time": "2021-10-27T06:55:59.068Z"
   },
   {
    "duration": 55,
    "start_time": "2021-10-27T06:56:45.959Z"
   },
   {
    "duration": 62,
    "start_time": "2021-10-27T06:56:59.297Z"
   },
   {
    "duration": 493,
    "start_time": "2021-10-27T06:57:06.550Z"
   },
   {
    "duration": 3,
    "start_time": "2021-10-27T06:57:10.583Z"
   },
   {
    "duration": 4,
    "start_time": "2021-10-27T06:58:03.357Z"
   },
   {
    "duration": 1459,
    "start_time": "2021-10-27T06:58:32.303Z"
   },
   {
    "duration": 125,
    "start_time": "2021-10-27T07:00:49.594Z"
   },
   {
    "duration": 130,
    "start_time": "2021-10-27T07:00:54.932Z"
   },
   {
    "duration": 16,
    "start_time": "2021-10-27T07:01:02.849Z"
   },
   {
    "duration": 175,
    "start_time": "2021-10-27T07:03:23.045Z"
   },
   {
    "duration": 24,
    "start_time": "2021-10-27T07:03:50.398Z"
   },
   {
    "duration": 4,
    "start_time": "2021-10-27T07:09:36.288Z"
   },
   {
    "duration": 8,
    "start_time": "2021-10-27T07:10:00.759Z"
   },
   {
    "duration": 9,
    "start_time": "2021-10-27T07:11:50.777Z"
   },
   {
    "duration": 23,
    "start_time": "2021-10-27T07:15:08.890Z"
   },
   {
    "duration": 62,
    "start_time": "2021-10-27T07:19:19.519Z"
   },
   {
    "duration": 60,
    "start_time": "2021-10-27T07:19:59.663Z"
   },
   {
    "duration": 4,
    "start_time": "2021-10-27T07:21:48.200Z"
   },
   {
    "duration": 4,
    "start_time": "2021-10-27T07:22:57.385Z"
   },
   {
    "duration": 19,
    "start_time": "2021-10-27T07:23:01.914Z"
   },
   {
    "duration": 15,
    "start_time": "2021-10-27T07:23:08.326Z"
   },
   {
    "duration": 4,
    "start_time": "2021-10-27T07:23:13.300Z"
   },
   {
    "duration": 3,
    "start_time": "2021-10-27T07:23:44.692Z"
   },
   {
    "duration": 4,
    "start_time": "2021-10-27T07:27:46.807Z"
   },
   {
    "duration": 4,
    "start_time": "2021-10-27T07:28:44.567Z"
   },
   {
    "duration": 20,
    "start_time": "2021-10-27T07:32:42.507Z"
   },
   {
    "duration": 4,
    "start_time": "2021-10-27T07:35:27.145Z"
   },
   {
    "duration": 16,
    "start_time": "2021-10-27T07:36:18.592Z"
   },
   {
    "duration": 12,
    "start_time": "2021-10-27T07:37:33.794Z"
   },
   {
    "duration": 4,
    "start_time": "2021-10-27T07:37:39.500Z"
   },
   {
    "duration": 12,
    "start_time": "2021-10-27T07:38:11.088Z"
   },
   {
    "duration": 4,
    "start_time": "2021-10-27T07:38:41.450Z"
   },
   {
    "duration": 13,
    "start_time": "2021-10-27T07:38:45.096Z"
   },
   {
    "duration": 29,
    "start_time": "2021-10-27T07:40:14.278Z"
   },
   {
    "duration": 4,
    "start_time": "2021-10-27T07:40:37.797Z"
   },
   {
    "duration": 22,
    "start_time": "2021-10-27T07:41:10.966Z"
   },
   {
    "duration": 4,
    "start_time": "2021-10-27T07:42:15.808Z"
   },
   {
    "duration": 24,
    "start_time": "2021-10-27T07:42:47.015Z"
   },
   {
    "duration": 15,
    "start_time": "2021-10-27T07:43:31.903Z"
   },
   {
    "duration": 16,
    "start_time": "2021-10-27T07:43:35.509Z"
   },
   {
    "duration": 4,
    "start_time": "2021-10-27T07:43:49.860Z"
   },
   {
    "duration": 12,
    "start_time": "2021-10-27T07:44:33.114Z"
   },
   {
    "duration": 4,
    "start_time": "2021-10-27T07:44:37.842Z"
   },
   {
    "duration": 4,
    "start_time": "2021-10-27T07:44:53.607Z"
   },
   {
    "duration": 4,
    "start_time": "2021-10-27T07:45:10.530Z"
   },
   {
    "duration": 4,
    "start_time": "2021-10-27T07:46:16.313Z"
   },
   {
    "duration": 4,
    "start_time": "2021-10-27T07:46:59.641Z"
   },
   {
    "duration": 21,
    "start_time": "2021-10-27T07:49:35.617Z"
   },
   {
    "duration": 4,
    "start_time": "2021-10-27T07:50:19.289Z"
   },
   {
    "duration": 4,
    "start_time": "2021-10-27T07:50:31.290Z"
   },
   {
    "duration": 20,
    "start_time": "2021-10-27T07:51:19.554Z"
   },
   {
    "duration": 21,
    "start_time": "2021-10-27T08:03:10.314Z"
   },
   {
    "duration": 17,
    "start_time": "2021-10-27T08:03:32.472Z"
   },
   {
    "duration": 22,
    "start_time": "2021-10-27T08:03:43.662Z"
   },
   {
    "duration": 172,
    "start_time": "2021-10-27T08:06:33.148Z"
   },
   {
    "duration": 59,
    "start_time": "2021-10-27T08:06:47.162Z"
   },
   {
    "duration": 51,
    "start_time": "2021-10-27T08:07:00.449Z"
   },
   {
    "duration": 233,
    "start_time": "2021-10-27T08:07:08.539Z"
   },
   {
    "duration": 54,
    "start_time": "2021-10-27T08:07:13.082Z"
   },
   {
    "duration": 51,
    "start_time": "2021-10-27T08:10:52.498Z"
   },
   {
    "duration": 186,
    "start_time": "2021-10-27T08:11:11.263Z"
   },
   {
    "duration": 63,
    "start_time": "2021-10-27T08:11:38.400Z"
   },
   {
    "duration": 64,
    "start_time": "2021-10-27T08:11:42.964Z"
   },
   {
    "duration": 50,
    "start_time": "2021-10-27T08:11:46.967Z"
   },
   {
    "duration": 176,
    "start_time": "2021-10-27T08:13:49.127Z"
   },
   {
    "duration": 7,
    "start_time": "2021-10-27T08:14:24.629Z"
   },
   {
    "duration": 4,
    "start_time": "2021-10-27T08:22:53.131Z"
   },
   {
    "duration": 3,
    "start_time": "2021-10-27T08:22:58.899Z"
   },
   {
    "duration": 3,
    "start_time": "2021-10-27T08:23:01.541Z"
   },
   {
    "duration": 7,
    "start_time": "2021-10-27T08:26:37.748Z"
   },
   {
    "duration": 9,
    "start_time": "2021-10-27T08:27:56.067Z"
   },
   {
    "duration": 9,
    "start_time": "2021-10-27T08:28:00.663Z"
   },
   {
    "duration": 10,
    "start_time": "2021-10-27T08:28:04.408Z"
   },
   {
    "duration": 9,
    "start_time": "2021-10-27T08:29:35.004Z"
   },
   {
    "duration": 3,
    "start_time": "2021-10-27T08:29:37.267Z"
   },
   {
    "duration": 3,
    "start_time": "2021-10-27T08:32:38.670Z"
   },
   {
    "duration": 10,
    "start_time": "2021-10-27T08:35:32.027Z"
   },
   {
    "duration": 7,
    "start_time": "2021-10-27T08:43:24.900Z"
   },
   {
    "duration": 172,
    "start_time": "2021-10-27T08:50:57.574Z"
   },
   {
    "duration": 4,
    "start_time": "2021-10-27T08:51:12.021Z"
   },
   {
    "duration": 7,
    "start_time": "2021-10-27T08:51:15.836Z"
   },
   {
    "duration": 5,
    "start_time": "2021-10-27T08:51:19.887Z"
   },
   {
    "duration": 3,
    "start_time": "2021-10-27T08:51:42.323Z"
   },
   {
    "duration": 1870,
    "start_time": "2021-10-27T08:52:04.926Z"
   },
   {
    "duration": 4,
    "start_time": "2021-10-27T08:52:44.034Z"
   },
   {
    "duration": 55,
    "start_time": "2021-10-27T09:21:42.153Z"
   },
   {
    "duration": 11,
    "start_time": "2021-10-27T09:23:12.877Z"
   },
   {
    "duration": 11,
    "start_time": "2021-10-27T09:26:05.504Z"
   },
   {
    "duration": 3,
    "start_time": "2021-10-27T09:43:02.119Z"
   },
   {
    "duration": 4,
    "start_time": "2021-10-27T09:43:05.790Z"
   },
   {
    "duration": 15,
    "start_time": "2021-10-27T09:49:44.961Z"
   },
   {
    "duration": 23,
    "start_time": "2021-10-27T09:49:57.207Z"
   },
   {
    "duration": 14,
    "start_time": "2021-10-27T09:50:12.064Z"
   },
   {
    "duration": 14,
    "start_time": "2021-10-27T09:50:22.293Z"
   },
   {
    "duration": 15,
    "start_time": "2021-10-27T09:50:29.903Z"
   },
   {
    "duration": 23,
    "start_time": "2021-10-27T09:50:36.951Z"
   },
   {
    "duration": 15,
    "start_time": "2021-10-27T09:50:43.159Z"
   },
   {
    "duration": 21,
    "start_time": "2021-10-27T09:50:49.700Z"
   },
   {
    "duration": 3,
    "start_time": "2021-10-27T09:51:25.766Z"
   },
   {
    "duration": 4,
    "start_time": "2021-10-27T09:51:31.363Z"
   },
   {
    "duration": 23,
    "start_time": "2021-10-27T09:53:15.042Z"
   },
   {
    "duration": 15,
    "start_time": "2021-10-27T09:53:22.865Z"
   },
   {
    "duration": 3,
    "start_time": "2021-10-27T09:57:29.133Z"
   },
   {
    "duration": 3439,
    "start_time": "2021-10-27T09:57:36.037Z"
   },
   {
    "duration": 3557,
    "start_time": "2021-10-27T09:59:59.733Z"
   },
   {
    "duration": 3534,
    "start_time": "2021-10-27T10:08:38.336Z"
   },
   {
    "duration": 4562,
    "start_time": "2021-10-27T10:09:09.066Z"
   },
   {
    "duration": 4202,
    "start_time": "2021-10-27T10:13:41.923Z"
   },
   {
    "duration": 3,
    "start_time": "2021-10-27T10:18:53.461Z"
   },
   {
    "duration": 377,
    "start_time": "2021-10-27T10:19:04.210Z"
   },
   {
    "duration": 353,
    "start_time": "2021-10-27T10:28:30.498Z"
   },
   {
    "duration": 347,
    "start_time": "2021-10-27T10:28:39.172Z"
   },
   {
    "duration": 484,
    "start_time": "2021-10-27T10:30:17.019Z"
   },
   {
    "duration": 346,
    "start_time": "2021-10-27T10:32:18.387Z"
   },
   {
    "duration": 3,
    "start_time": "2021-10-27T10:32:25.515Z"
   },
   {
    "duration": 352,
    "start_time": "2021-10-27T10:32:49.050Z"
   },
   {
    "duration": 379,
    "start_time": "2021-10-27T10:33:17.382Z"
   },
   {
    "duration": 356,
    "start_time": "2021-10-27T10:33:43.561Z"
   },
   {
    "duration": 3,
    "start_time": "2021-10-27T10:33:53.706Z"
   },
   {
    "duration": 4634,
    "start_time": "2021-10-27T10:33:59.172Z"
   },
   {
    "duration": 4629,
    "start_time": "2021-10-27T10:34:52.367Z"
   },
   {
    "duration": 4485,
    "start_time": "2021-10-27T10:36:15.606Z"
   },
   {
    "duration": 4505,
    "start_time": "2021-10-27T10:37:50.935Z"
   },
   {
    "duration": 4372,
    "start_time": "2021-10-27T10:39:22.303Z"
   },
   {
    "duration": 12,
    "start_time": "2021-10-27T10:39:42.960Z"
   },
   {
    "duration": 12,
    "start_time": "2021-10-27T10:39:52.511Z"
   },
   {
    "duration": 4508,
    "start_time": "2021-10-27T10:41:52.270Z"
   },
   {
    "duration": 22,
    "start_time": "2021-10-27T10:42:57.101Z"
   },
   {
    "duration": 5,
    "start_time": "2021-10-27T10:43:09.226Z"
   },
   {
    "duration": 22,
    "start_time": "2021-10-27T10:43:25.673Z"
   },
   {
    "duration": 23,
    "start_time": "2021-10-27T10:43:47.104Z"
   },
   {
    "duration": 18,
    "start_time": "2021-10-27T10:44:01.855Z"
   },
   {
    "duration": 22,
    "start_time": "2021-10-27T10:44:05.856Z"
   },
   {
    "duration": 7,
    "start_time": "2021-10-27T10:44:37.983Z"
   },
   {
    "duration": 7,
    "start_time": "2021-10-27T10:44:42.899Z"
   },
   {
    "duration": 7,
    "start_time": "2021-10-27T10:45:28.966Z"
   },
   {
    "duration": 7,
    "start_time": "2021-10-27T10:45:34.030Z"
   },
   {
    "duration": 7,
    "start_time": "2021-10-27T10:46:00.911Z"
   },
   {
    "duration": 7,
    "start_time": "2021-10-27T10:46:38.549Z"
   },
   {
    "duration": 22,
    "start_time": "2021-10-27T10:46:50.451Z"
   },
   {
    "duration": 22,
    "start_time": "2021-10-27T10:47:00.724Z"
   },
   {
    "duration": 4,
    "start_time": "2021-10-27T10:47:12.533Z"
   },
   {
    "duration": 9,
    "start_time": "2021-10-27T10:51:06.401Z"
   },
   {
    "duration": 3,
    "start_time": "2021-10-27T10:51:18.855Z"
   },
   {
    "duration": 51,
    "start_time": "2021-10-27T10:51:39.573Z"
   },
   {
    "duration": 7,
    "start_time": "2021-10-27T10:51:56.825Z"
   },
   {
    "duration": 10,
    "start_time": "2021-10-27T10:52:56.562Z"
   },
   {
    "duration": 10,
    "start_time": "2021-10-27T10:53:09.722Z"
   },
   {
    "duration": 11,
    "start_time": "2021-10-27T10:53:23.787Z"
   },
   {
    "duration": 398,
    "start_time": "2021-10-27T10:53:41.858Z"
   },
   {
    "duration": 373,
    "start_time": "2021-10-27T10:54:19.446Z"
   },
   {
    "duration": 386,
    "start_time": "2021-10-27T10:55:56.468Z"
   },
   {
    "duration": 365,
    "start_time": "2021-10-27T10:56:01.719Z"
   },
   {
    "duration": 21,
    "start_time": "2021-10-27T10:57:51.154Z"
   },
   {
    "duration": 4,
    "start_time": "2021-10-27T10:57:57.563Z"
   },
   {
    "duration": 50,
    "start_time": "2021-10-27T10:58:24.399Z"
   },
   {
    "duration": 51,
    "start_time": "2021-10-27T10:58:28.219Z"
   },
   {
    "duration": 51,
    "start_time": "2021-10-27T10:58:41.745Z"
   },
   {
    "duration": 62,
    "start_time": "2021-10-27T11:03:38.348Z"
   },
   {
    "duration": 48,
    "start_time": "2021-10-27T11:04:46.159Z"
   },
   {
    "duration": 7,
    "start_time": "2021-10-27T11:04:53.240Z"
   },
   {
    "duration": 7,
    "start_time": "2021-10-27T11:05:02.586Z"
   },
   {
    "duration": 6,
    "start_time": "2021-10-27T11:05:54.392Z"
   },
   {
    "duration": 9,
    "start_time": "2021-10-27T11:08:56.217Z"
   },
   {
    "duration": 7,
    "start_time": "2021-10-27T11:10:08.932Z"
   },
   {
    "duration": 6,
    "start_time": "2021-10-27T11:10:12.396Z"
   },
   {
    "duration": 7,
    "start_time": "2021-10-27T11:11:13.533Z"
   },
   {
    "duration": 7,
    "start_time": "2021-10-27T11:12:56.476Z"
   },
   {
    "duration": 47,
    "start_time": "2021-10-27T11:34:14.528Z"
   },
   {
    "duration": 7,
    "start_time": "2021-10-27T11:34:23.376Z"
   },
   {
    "duration": 6,
    "start_time": "2021-10-27T11:39:20.556Z"
   },
   {
    "duration": 10,
    "start_time": "2021-10-27T11:39:24.323Z"
   },
   {
    "duration": 7,
    "start_time": "2021-10-27T11:39:27.046Z"
   },
   {
    "duration": 12,
    "start_time": "2021-10-27T11:39:49.260Z"
   },
   {
    "duration": 12,
    "start_time": "2021-10-27T11:39:56.340Z"
   },
   {
    "duration": 4,
    "start_time": "2021-10-27T11:40:02.940Z"
   },
   {
    "duration": 18,
    "start_time": "2021-10-27T11:40:04.787Z"
   },
   {
    "duration": 13,
    "start_time": "2021-10-27T11:40:07.997Z"
   },
   {
    "duration": 14,
    "start_time": "2021-10-27T11:40:11.615Z"
   },
   {
    "duration": 12,
    "start_time": "2021-10-27T11:40:12.924Z"
   },
   {
    "duration": 16,
    "start_time": "2021-10-27T11:40:13.347Z"
   },
   {
    "duration": 13,
    "start_time": "2021-10-27T11:40:13.723Z"
   },
   {
    "duration": 2,
    "start_time": "2021-10-27T11:40:14.476Z"
   },
   {
    "duration": 14,
    "start_time": "2021-10-27T11:44:01.913Z"
   },
   {
    "duration": 16,
    "start_time": "2021-10-27T11:45:12.415Z"
   },
   {
    "duration": 15,
    "start_time": "2021-10-27T11:45:26.541Z"
   },
   {
    "duration": 15,
    "start_time": "2021-10-27T11:45:35.396Z"
   },
   {
    "duration": 180,
    "start_time": "2021-10-27T11:55:53.340Z"
   },
   {
    "duration": 8,
    "start_time": "2021-10-27T11:59:39.682Z"
   },
   {
    "duration": 11,
    "start_time": "2021-10-27T12:05:55.148Z"
   },
   {
    "duration": 11,
    "start_time": "2021-10-27T12:16:42.302Z"
   },
   {
    "duration": 14,
    "start_time": "2021-10-27T12:18:48.457Z"
   },
   {
    "duration": 19,
    "start_time": "2021-10-27T12:19:07.194Z"
   },
   {
    "duration": 14,
    "start_time": "2021-10-27T12:20:44.796Z"
   },
   {
    "duration": 4,
    "start_time": "2021-10-27T12:21:16.714Z"
   },
   {
    "duration": 426,
    "start_time": "2021-10-27T12:21:23.693Z"
   },
   {
    "duration": 621,
    "start_time": "2021-10-27T12:22:35.354Z"
   },
   {
    "duration": 430,
    "start_time": "2021-10-27T12:23:26.217Z"
   },
   {
    "duration": 351,
    "start_time": "2021-10-27T12:29:11.280Z"
   },
   {
    "duration": 358,
    "start_time": "2021-10-27T12:30:55.903Z"
   },
   {
    "duration": 361,
    "start_time": "2021-10-27T12:31:36.202Z"
   },
   {
    "duration": 64,
    "start_time": "2021-10-27T12:46:11.976Z"
   },
   {
    "duration": 4,
    "start_time": "2021-10-27T12:46:37.063Z"
   },
   {
    "duration": 4,
    "start_time": "2021-10-27T12:46:41.424Z"
   },
   {
    "duration": 14,
    "start_time": "2021-10-27T12:46:43.960Z"
   },
   {
    "duration": 23,
    "start_time": "2021-10-27T12:51:06.243Z"
   },
   {
    "duration": 15,
    "start_time": "2021-10-27T14:00:39.917Z"
   },
   {
    "duration": 206,
    "start_time": "2021-10-27T14:02:51.432Z"
   },
   {
    "duration": 9,
    "start_time": "2021-10-27T14:04:51.090Z"
   },
   {
    "duration": 11,
    "start_time": "2021-10-27T14:04:58.226Z"
   },
   {
    "duration": 3,
    "start_time": "2021-10-27T14:05:19.184Z"
   },
   {
    "duration": 11,
    "start_time": "2021-10-27T14:05:24.106Z"
   },
   {
    "duration": 15,
    "start_time": "2021-10-27T14:05:27.698Z"
   },
   {
    "duration": 12,
    "start_time": "2021-10-27T14:07:56.497Z"
   },
   {
    "duration": 4,
    "start_time": "2021-10-27T14:08:41.443Z"
   },
   {
    "duration": 16,
    "start_time": "2021-10-27T14:08:48.543Z"
   },
   {
    "duration": 12,
    "start_time": "2021-10-27T14:08:52.257Z"
   },
   {
    "duration": 4,
    "start_time": "2021-10-27T14:13:09.131Z"
   },
   {
    "duration": 358,
    "start_time": "2021-10-27T14:13:13.058Z"
   },
   {
    "duration": 4,
    "start_time": "2021-10-27T14:13:25.799Z"
   },
   {
    "duration": 15,
    "start_time": "2021-10-27T14:13:31.375Z"
   },
   {
    "duration": 4,
    "start_time": "2021-10-27T14:14:50.742Z"
   },
   {
    "duration": 14,
    "start_time": "2021-10-27T14:14:51.868Z"
   },
   {
    "duration": 4,
    "start_time": "2021-10-27T14:15:21.860Z"
   },
   {
    "duration": 15,
    "start_time": "2021-10-27T14:15:22.706Z"
   },
   {
    "duration": 106,
    "start_time": "2021-10-27T14:17:10.040Z"
   },
   {
    "duration": 14,
    "start_time": "2021-10-27T14:17:23.591Z"
   },
   {
    "duration": 15,
    "start_time": "2021-10-27T14:17:44.942Z"
   },
   {
    "duration": 17,
    "start_time": "2021-10-27T14:18:07.408Z"
   },
   {
    "duration": 17,
    "start_time": "2021-10-27T14:18:19.240Z"
   },
   {
    "duration": 11,
    "start_time": "2021-10-27T14:18:21.568Z"
   },
   {
    "duration": 4,
    "start_time": "2021-10-27T14:22:27.965Z"
   },
   {
    "duration": 16,
    "start_time": "2021-10-27T14:22:28.838Z"
   },
   {
    "duration": 12,
    "start_time": "2021-10-27T14:22:29.811Z"
   },
   {
    "duration": 18,
    "start_time": "2021-10-27T14:22:30.712Z"
   },
   {
    "duration": 13,
    "start_time": "2021-10-27T14:22:35.387Z"
   },
   {
    "duration": 4,
    "start_time": "2021-10-27T14:23:56.203Z"
   },
   {
    "duration": 14,
    "start_time": "2021-10-27T14:23:59.289Z"
   },
   {
    "duration": 11,
    "start_time": "2021-10-27T14:24:02.745Z"
   },
   {
    "duration": 17,
    "start_time": "2021-10-27T14:24:04.608Z"
   },
   {
    "duration": 13,
    "start_time": "2021-10-27T14:24:05.496Z"
   },
   {
    "duration": 172,
    "start_time": "2021-10-27T14:30:12.706Z"
   },
   {
    "duration": 179,
    "start_time": "2021-10-27T14:30:22.409Z"
   },
   {
    "duration": 174,
    "start_time": "2021-10-27T14:30:28.713Z"
   },
   {
    "duration": 175,
    "start_time": "2021-10-27T14:31:36.007Z"
   },
   {
    "duration": 7,
    "start_time": "2021-10-27T14:31:47.078Z"
   },
   {
    "duration": 5,
    "start_time": "2021-10-27T14:31:50.380Z"
   },
   {
    "duration": 190,
    "start_time": "2021-10-27T14:34:05.468Z"
   },
   {
    "duration": 5,
    "start_time": "2021-10-27T14:34:08.629Z"
   },
   {
    "duration": 5,
    "start_time": "2021-10-27T14:34:11.844Z"
   },
   {
    "duration": 8,
    "start_time": "2021-10-27T14:35:03.285Z"
   },
   {
    "duration": 10,
    "start_time": "2021-10-27T14:35:06.479Z"
   },
   {
    "duration": 11,
    "start_time": "2021-10-27T14:35:07.065Z"
   },
   {
    "duration": 4,
    "start_time": "2021-10-27T14:35:08.114Z"
   },
   {
    "duration": 16,
    "start_time": "2021-10-27T14:35:09.105Z"
   },
   {
    "duration": 12,
    "start_time": "2021-10-27T14:35:09.649Z"
   },
   {
    "duration": 18,
    "start_time": "2021-10-27T14:35:10.161Z"
   },
   {
    "duration": 12,
    "start_time": "2021-10-27T14:35:10.642Z"
   },
   {
    "duration": 8,
    "start_time": "2021-10-27T14:35:13.071Z"
   },
   {
    "duration": 6,
    "start_time": "2021-10-27T14:35:14.089Z"
   },
   {
    "duration": 5,
    "start_time": "2021-10-27T14:35:15.136Z"
   },
   {
    "duration": 4,
    "start_time": "2021-10-27T14:35:16.050Z"
   },
   {
    "duration": 14,
    "start_time": "2021-10-27T14:40:46.662Z"
   },
   {
    "duration": 4,
    "start_time": "2021-10-27T14:41:56.403Z"
   },
   {
    "duration": 342,
    "start_time": "2021-10-27T14:41:57.979Z"
   },
   {
    "duration": 4,
    "start_time": "2021-10-27T14:42:21.002Z"
   },
   {
    "duration": 14,
    "start_time": "2021-10-27T14:42:22.473Z"
   },
   {
    "duration": 11,
    "start_time": "2021-10-27T14:42:23.899Z"
   },
   {
    "duration": 17,
    "start_time": "2021-10-27T14:43:00.779Z"
   },
   {
    "duration": 13,
    "start_time": "2021-10-27T14:43:12.850Z"
   },
   {
    "duration": 90,
    "start_time": "2021-10-28T00:14:54.297Z"
   },
   {
    "duration": 4,
    "start_time": "2021-10-28T00:15:04.047Z"
   },
   {
    "duration": 498,
    "start_time": "2021-10-28T00:15:06.320Z"
   },
   {
    "duration": 483,
    "start_time": "2021-10-28T00:15:36.356Z"
   },
   {
    "duration": 3,
    "start_time": "2021-10-28T00:16:31.644Z"
   },
   {
    "duration": 516,
    "start_time": "2021-10-28T00:16:37.494Z"
   },
   {
    "duration": 467,
    "start_time": "2021-10-28T00:16:41.918Z"
   },
   {
    "duration": 3,
    "start_time": "2021-10-28T00:17:10.133Z"
   },
   {
    "duration": 497,
    "start_time": "2021-10-28T00:17:15.948Z"
   },
   {
    "duration": 303,
    "start_time": "2021-10-28T13:39:43.532Z"
   },
   {
    "duration": 683,
    "start_time": "2021-10-28T13:43:12.644Z"
   },
   {
    "duration": 173,
    "start_time": "2021-10-28T13:43:15.135Z"
   },
   {
    "duration": 21,
    "start_time": "2021-10-28T13:43:17.624Z"
   },
   {
    "duration": 28,
    "start_time": "2021-10-28T13:43:20.084Z"
   },
   {
    "duration": 4,
    "start_time": "2021-10-28T13:43:23.919Z"
   },
   {
    "duration": 17,
    "start_time": "2021-10-28T13:43:27.639Z"
   },
   {
    "duration": 5,
    "start_time": "2021-10-28T13:43:31.504Z"
   },
   {
    "duration": 26,
    "start_time": "2021-10-28T13:43:35.911Z"
   },
   {
    "duration": 31,
    "start_time": "2021-10-28T13:43:40.518Z"
   },
   {
    "duration": 23,
    "start_time": "2021-10-28T13:43:56.216Z"
   },
   {
    "duration": 63,
    "start_time": "2021-10-28T13:44:12.264Z"
   },
   {
    "duration": 113,
    "start_time": "2021-10-28T13:44:16.006Z"
   },
   {
    "duration": 61,
    "start_time": "2021-10-28T13:44:29.302Z"
   },
   {
    "duration": 7,
    "start_time": "2021-10-28T13:44:33.766Z"
   },
   {
    "duration": 3,
    "start_time": "2021-10-28T13:44:39.262Z"
   },
   {
    "duration": 11,
    "start_time": "2021-10-28T13:44:42.585Z"
   },
   {
    "duration": 7,
    "start_time": "2021-10-28T13:44:55.963Z"
   },
   {
    "duration": 12,
    "start_time": "2021-10-28T13:45:07.476Z"
   },
   {
    "duration": 11,
    "start_time": "2021-10-28T13:45:10.748Z"
   },
   {
    "duration": 5,
    "start_time": "2021-10-28T13:45:16.669Z"
   },
   {
    "duration": 534,
    "start_time": "2021-10-28T13:45:19.667Z"
   },
   {
    "duration": 3,
    "start_time": "2021-10-28T13:46:55.554Z"
   },
   {
    "duration": 482,
    "start_time": "2021-10-28T13:46:57.511Z"
   },
   {
    "duration": 4,
    "start_time": "2021-10-28T13:47:12.242Z"
   },
   {
    "duration": 20,
    "start_time": "2021-10-28T13:47:13.159Z"
   },
   {
    "duration": 18,
    "start_time": "2021-10-28T13:47:15.200Z"
   },
   {
    "duration": 17,
    "start_time": "2021-10-28T13:47:16.645Z"
   },
   {
    "duration": 18,
    "start_time": "2021-10-28T13:47:17.355Z"
   },
   {
    "duration": 19,
    "start_time": "2021-10-28T13:47:18.016Z"
   },
   {
    "duration": 16,
    "start_time": "2021-10-28T13:47:20.898Z"
   },
   {
    "duration": 10,
    "start_time": "2021-10-28T13:47:26.533Z"
   },
   {
    "duration": 13,
    "start_time": "2021-10-28T13:47:34.960Z"
   },
   {
    "duration": 10,
    "start_time": "2021-10-28T13:47:35.630Z"
   },
   {
    "duration": 4,
    "start_time": "2021-10-28T13:47:51.218Z"
   },
   {
    "duration": 19,
    "start_time": "2021-10-28T13:47:52.360Z"
   },
   {
    "duration": 13,
    "start_time": "2021-10-28T13:47:56.837Z"
   },
   {
    "duration": 19,
    "start_time": "2021-10-28T13:47:59.541Z"
   },
   {
    "duration": 24,
    "start_time": "2021-10-28T13:56:09.828Z"
   },
   {
    "duration": 13,
    "start_time": "2021-10-28T13:56:15.237Z"
   },
   {
    "duration": 6,
    "start_time": "2021-10-28T13:56:16.507Z"
   },
   {
    "duration": 285,
    "start_time": "2021-10-28T13:56:26.763Z"
   },
   {
    "duration": 9,
    "start_time": "2021-10-28T13:56:56.714Z"
   },
   {
    "duration": 7,
    "start_time": "2021-10-28T13:56:58.515Z"
   },
   {
    "duration": 6,
    "start_time": "2021-10-28T13:59:36.100Z"
   },
   {
    "duration": 18,
    "start_time": "2021-10-28T13:59:37.323Z"
   },
   {
    "duration": 17,
    "start_time": "2021-10-28T13:59:39.041Z"
   },
   {
    "duration": 25,
    "start_time": "2021-10-28T13:59:47.120Z"
   },
   {
    "duration": 13,
    "start_time": "2021-10-28T13:59:48.039Z"
   },
   {
    "duration": 27,
    "start_time": "2021-10-28T13:59:49.136Z"
   },
   {
    "duration": 22,
    "start_time": "2021-10-28T13:59:49.783Z"
   },
   {
    "duration": 20,
    "start_time": "2021-10-28T14:00:00.299Z"
   },
   {
    "duration": 16,
    "start_time": "2021-10-28T14:00:01.149Z"
   },
   {
    "duration": 79,
    "start_time": "2021-10-28T14:13:05.230Z"
   },
   {
    "duration": 253,
    "start_time": "2021-10-28T14:14:39.448Z"
   },
   {
    "duration": 22,
    "start_time": "2021-10-28T14:14:52.140Z"
   },
   {
    "duration": 16,
    "start_time": "2021-10-28T14:17:31.967Z"
   },
   {
    "duration": 3,
    "start_time": "2021-10-28T14:17:35.791Z"
   },
   {
    "duration": 16,
    "start_time": "2021-10-28T14:17:36.973Z"
   },
   {
    "duration": 13,
    "start_time": "2021-10-28T14:17:38.069Z"
   },
   {
    "duration": 20,
    "start_time": "2021-10-28T14:17:38.911Z"
   },
   {
    "duration": 13,
    "start_time": "2021-10-28T14:17:48.731Z"
   },
   {
    "duration": 17,
    "start_time": "2021-10-28T14:24:59.505Z"
   },
   {
    "duration": 25,
    "start_time": "2021-10-28T14:25:21.708Z"
   },
   {
    "duration": 17,
    "start_time": "2021-10-28T14:34:15.757Z"
   },
   {
    "duration": 19,
    "start_time": "2021-10-28T14:35:35.668Z"
   },
   {
    "duration": 3,
    "start_time": "2021-10-28T14:38:22.411Z"
   },
   {
    "duration": 20,
    "start_time": "2021-10-28T14:38:25.354Z"
   },
   {
    "duration": 4,
    "start_time": "2021-10-28T14:40:25.664Z"
   },
   {
    "duration": 584,
    "start_time": "2021-10-28T14:40:26.839Z"
   },
   {
    "duration": 4,
    "start_time": "2021-10-28T14:40:41.137Z"
   },
   {
    "duration": 23,
    "start_time": "2021-10-28T14:40:42.417Z"
   },
   {
    "duration": 4,
    "start_time": "2021-10-28T14:40:51.719Z"
   },
   {
    "duration": 26,
    "start_time": "2021-10-28T14:40:53.302Z"
   },
   {
    "duration": 5,
    "start_time": "2021-10-28T14:40:59.884Z"
   },
   {
    "duration": 20,
    "start_time": "2021-10-28T14:41:00.988Z"
   },
   {
    "duration": 12,
    "start_time": "2021-10-28T14:41:03.249Z"
   },
   {
    "duration": 19,
    "start_time": "2021-10-28T14:41:03.966Z"
   },
   {
    "duration": 4,
    "start_time": "2021-10-28T14:42:56.021Z"
   },
   {
    "duration": 457,
    "start_time": "2021-10-28T14:42:57.193Z"
   },
   {
    "duration": 4,
    "start_time": "2021-10-28T14:43:10.780Z"
   },
   {
    "duration": 17,
    "start_time": "2021-10-28T14:43:12.108Z"
   },
   {
    "duration": 16,
    "start_time": "2021-10-28T14:57:04.425Z"
   },
   {
    "duration": 26,
    "start_time": "2021-10-28T14:57:23.662Z"
   },
   {
    "duration": 6,
    "start_time": "2021-10-28T15:03:29.226Z"
   },
   {
    "duration": 5,
    "start_time": "2021-10-28T15:03:32.118Z"
   },
   {
    "duration": 9,
    "start_time": "2021-10-28T15:03:46.823Z"
   },
   {
    "duration": 10,
    "start_time": "2021-10-28T15:03:54.878Z"
   },
   {
    "duration": 270,
    "start_time": "2021-10-28T15:06:39.507Z"
   },
   {
    "duration": 45,
    "start_time": "2021-10-28T15:08:01.970Z"
   },
   {
    "duration": 41,
    "start_time": "2021-10-28T15:08:22.048Z"
   },
   {
    "duration": 41,
    "start_time": "2021-10-28T15:08:36.927Z"
   },
   {
    "duration": 64,
    "start_time": "2021-10-28T15:09:44.690Z"
   },
   {
    "duration": 44,
    "start_time": "2021-10-28T15:11:02.812Z"
   },
   {
    "duration": 3,
    "start_time": "2021-10-28T15:13:42.679Z"
   },
   {
    "duration": 10,
    "start_time": "2021-10-28T15:13:45.274Z"
   },
   {
    "duration": 3,
    "start_time": "2021-10-28T15:13:50.583Z"
   },
   {
    "duration": 10,
    "start_time": "2021-10-28T15:13:52.145Z"
   },
   {
    "duration": 43,
    "start_time": "2021-10-28T15:13:53.439Z"
   },
   {
    "duration": 784,
    "start_time": "2021-10-29T10:11:05.217Z"
   },
   {
    "duration": 201,
    "start_time": "2021-10-29T10:11:06.004Z"
   },
   {
    "duration": 26,
    "start_time": "2021-10-29T10:11:06.208Z"
   },
   {
    "duration": 36,
    "start_time": "2021-10-29T10:11:06.237Z"
   },
   {
    "duration": 6,
    "start_time": "2021-10-29T10:11:06.275Z"
   },
   {
    "duration": 50,
    "start_time": "2021-10-29T10:11:06.283Z"
   },
   {
    "duration": 17,
    "start_time": "2021-10-29T10:11:06.336Z"
   },
   {
    "duration": 33,
    "start_time": "2021-10-29T10:11:06.357Z"
   },
   {
    "duration": 45,
    "start_time": "2021-10-29T10:11:06.393Z"
   },
   {
    "duration": 35,
    "start_time": "2021-10-29T10:11:06.441Z"
   },
   {
    "duration": 111,
    "start_time": "2021-10-29T10:11:06.478Z"
   },
   {
    "duration": 117,
    "start_time": "2021-10-29T10:11:06.591Z"
   },
   {
    "duration": 93,
    "start_time": "2021-10-29T10:11:06.710Z"
   },
   {
    "duration": 65,
    "start_time": "2021-10-29T10:11:06.805Z"
   },
   {
    "duration": 4,
    "start_time": "2021-10-29T10:11:06.872Z"
   },
   {
    "duration": 23,
    "start_time": "2021-10-29T10:11:06.879Z"
   },
   {
    "duration": 80,
    "start_time": "2021-10-29T10:11:06.904Z"
   },
   {
    "duration": 43,
    "start_time": "2021-10-29T10:11:06.987Z"
   },
   {
    "duration": 17,
    "start_time": "2021-10-29T10:11:07.034Z"
   },
   {
    "duration": 6,
    "start_time": "2021-10-29T10:11:07.054Z"
   },
   {
    "duration": 25,
    "start_time": "2021-10-29T10:11:07.063Z"
   },
   {
    "duration": 58,
    "start_time": "2021-10-29T10:11:07.091Z"
   },
   {
    "duration": 21,
    "start_time": "2021-10-29T10:11:07.156Z"
   },
   {
    "duration": 54,
    "start_time": "2021-10-29T10:11:07.180Z"
   },
   {
    "duration": 24,
    "start_time": "2021-10-29T10:11:07.236Z"
   },
   {
    "duration": 20,
    "start_time": "2021-10-29T10:11:07.263Z"
   },
   {
    "duration": 48,
    "start_time": "2021-10-29T10:11:07.286Z"
   },
   {
    "duration": 19,
    "start_time": "2021-10-29T10:11:07.337Z"
   },
   {
    "duration": 15,
    "start_time": "2021-10-29T10:11:07.359Z"
   },
   {
    "duration": 6,
    "start_time": "2021-10-29T10:11:07.377Z"
   },
   {
    "duration": 68,
    "start_time": "2021-10-29T10:11:07.386Z"
   },
   {
    "duration": 19,
    "start_time": "2021-10-29T10:11:07.458Z"
   },
   {
    "duration": 69,
    "start_time": "2021-10-29T10:11:07.480Z"
   },
   {
    "duration": 18,
    "start_time": "2021-10-29T10:11:07.551Z"
   },
   {
    "duration": 10,
    "start_time": "2021-10-29T10:11:07.571Z"
   },
   {
    "duration": 7,
    "start_time": "2021-10-29T10:11:07.583Z"
   },
   {
    "duration": 10,
    "start_time": "2021-10-29T10:11:07.630Z"
   },
   {
    "duration": 9,
    "start_time": "2021-10-29T10:11:07.643Z"
   },
   {
    "duration": 21,
    "start_time": "2021-10-29T10:58:10.575Z"
   },
   {
    "duration": 372,
    "start_time": "2021-10-29T12:01:47.792Z"
   },
   {
    "duration": 796,
    "start_time": "2021-10-29T12:01:59.482Z"
   },
   {
    "duration": 196,
    "start_time": "2021-10-29T12:02:02.161Z"
   },
   {
    "duration": 27,
    "start_time": "2021-10-29T12:02:03.162Z"
   },
   {
    "duration": 5,
    "start_time": "2021-10-29T12:04:11.001Z"
   },
   {
    "duration": 6,
    "start_time": "2021-10-29T12:09:09.733Z"
   },
   {
    "duration": 15,
    "start_time": "2021-10-29T12:16:24.749Z"
   },
   {
    "duration": 7,
    "start_time": "2021-10-29T12:16:28.381Z"
   },
   {
    "duration": 32,
    "start_time": "2021-10-29T12:16:37.311Z"
   },
   {
    "duration": 128,
    "start_time": "2021-10-29T12:18:24.161Z"
   },
   {
    "duration": 84,
    "start_time": "2021-10-29T12:18:27.279Z"
   },
   {
    "duration": 372,
    "start_time": "2021-10-29T12:24:33.264Z"
   },
   {
    "duration": 304,
    "start_time": "2021-10-29T12:24:55.642Z"
   },
   {
    "duration": 3,
    "start_time": "2021-10-29T12:25:40.634Z"
   },
   {
    "duration": 206,
    "start_time": "2021-10-29T12:25:42.220Z"
   },
   {
    "duration": 17,
    "start_time": "2021-10-29T12:25:44.197Z"
   },
   {
    "duration": 35,
    "start_time": "2021-10-29T12:25:47.513Z"
   },
   {
    "duration": 6,
    "start_time": "2021-10-29T12:25:53.055Z"
   },
   {
    "duration": 14,
    "start_time": "2021-10-29T12:25:56.265Z"
   },
   {
    "duration": 6,
    "start_time": "2021-10-29T12:25:59.066Z"
   },
   {
    "duration": 34,
    "start_time": "2021-10-29T12:26:00.678Z"
   },
   {
    "duration": 24,
    "start_time": "2021-10-29T12:26:02.202Z"
   },
   {
    "duration": 31,
    "start_time": "2021-10-29T12:26:04.313Z"
   },
   {
    "duration": 94,
    "start_time": "2021-10-29T12:26:05.849Z"
   },
   {
    "duration": 102,
    "start_time": "2021-10-29T12:26:06.920Z"
   },
   {
    "duration": 83,
    "start_time": "2021-10-29T12:26:12.791Z"
   },
   {
    "duration": 65,
    "start_time": "2021-10-29T12:26:15.032Z"
   },
   {
    "duration": 11,
    "start_time": "2021-10-29T12:26:17.129Z"
   },
   {
    "duration": 16,
    "start_time": "2021-10-29T12:26:18.064Z"
   },
   {
    "duration": 60,
    "start_time": "2021-10-29T12:26:18.928Z"
   },
   {
    "duration": 344,
    "start_time": "2021-10-29T12:26:22.697Z"
   },
   {
    "duration": 16,
    "start_time": "2021-10-29T12:26:24.240Z"
   },
   {
    "duration": 5,
    "start_time": "2021-10-29T12:26:26.482Z"
   },
   {
    "duration": 8890,
    "start_time": "2021-10-29T12:26:28.104Z"
   },
   {
    "duration": -116,
    "start_time": "2021-10-29T12:26:37.112Z"
   },
   {
    "duration": -133,
    "start_time": "2021-10-29T12:26:37.131Z"
   },
   {
    "duration": -139,
    "start_time": "2021-10-29T12:26:37.138Z"
   },
   {
    "duration": -148,
    "start_time": "2021-10-29T12:26:37.149Z"
   },
   {
    "duration": -157,
    "start_time": "2021-10-29T12:26:37.159Z"
   },
   {
    "duration": 5,
    "start_time": "2021-10-29T12:26:39.921Z"
   },
   {
    "duration": 5,
    "start_time": "2021-10-29T12:26:53.136Z"
   },
   {
    "duration": 7583,
    "start_time": "2021-10-29T12:26:54.744Z"
   },
   {
    "duration": 7797,
    "start_time": "2021-10-29T12:27:02.499Z"
   },
   {
    "duration": -98,
    "start_time": "2021-10-29T12:27:10.397Z"
   },
   {
    "duration": 15,
    "start_time": "2021-10-29T12:27:11.505Z"
   },
   {
    "duration": 8053,
    "start_time": "2021-10-29T12:27:25.574Z"
   },
   {
    "duration": -739,
    "start_time": "2021-10-29T12:27:34.369Z"
   },
   {
    "duration": -742,
    "start_time": "2021-10-29T12:27:34.374Z"
   },
   {
    "duration": 296,
    "start_time": "2021-10-29T12:27:34.031Z"
   },
   {
    "duration": 291,
    "start_time": "2021-10-29T12:27:39.024Z"
   },
   {
    "duration": 751,
    "start_time": "2021-10-29T12:28:01.104Z"
   },
   {
    "duration": 221,
    "start_time": "2021-10-29T12:28:01.857Z"
   },
   {
    "duration": 30,
    "start_time": "2021-10-29T12:28:02.081Z"
   },
   {
    "duration": 67,
    "start_time": "2021-10-29T12:28:02.114Z"
   },
   {
    "duration": 21,
    "start_time": "2021-10-29T12:28:02.184Z"
   },
   {
    "duration": 17,
    "start_time": "2021-10-29T12:28:02.208Z"
   },
   {
    "duration": 11,
    "start_time": "2021-10-29T12:28:02.228Z"
   },
   {
    "duration": 50,
    "start_time": "2021-10-29T12:28:02.243Z"
   },
   {
    "duration": 29,
    "start_time": "2021-10-29T12:28:02.296Z"
   },
   {
    "duration": 68,
    "start_time": "2021-10-29T12:28:02.327Z"
   },
   {
    "duration": 115,
    "start_time": "2021-10-29T12:28:02.398Z"
   },
   {
    "duration": 138,
    "start_time": "2021-10-29T12:28:02.518Z"
   },
   {
    "duration": 99,
    "start_time": "2021-10-29T12:28:02.658Z"
   },
   {
    "duration": 62,
    "start_time": "2021-10-29T12:28:02.768Z"
   },
   {
    "duration": 5,
    "start_time": "2021-10-29T12:28:02.833Z"
   },
   {
    "duration": 15,
    "start_time": "2021-10-29T12:28:02.868Z"
   },
   {
    "duration": 87,
    "start_time": "2021-10-29T12:28:02.885Z"
   },
   {
    "duration": 402,
    "start_time": "2021-10-29T12:28:02.974Z"
   },
   {
    "duration": -100,
    "start_time": "2021-10-29T12:28:03.481Z"
   },
   {
    "duration": -107,
    "start_time": "2021-10-29T12:28:03.489Z"
   },
   {
    "duration": -126,
    "start_time": "2021-10-29T12:28:03.510Z"
   },
   {
    "duration": -131,
    "start_time": "2021-10-29T12:28:03.516Z"
   },
   {
    "duration": -138,
    "start_time": "2021-10-29T12:28:03.524Z"
   },
   {
    "duration": -139,
    "start_time": "2021-10-29T12:28:03.530Z"
   },
   {
    "duration": -142,
    "start_time": "2021-10-29T12:28:03.535Z"
   },
   {
    "duration": -162,
    "start_time": "2021-10-29T12:28:03.557Z"
   },
   {
    "duration": -170,
    "start_time": "2021-10-29T12:28:03.567Z"
   },
   {
    "duration": -190,
    "start_time": "2021-10-29T12:28:03.589Z"
   },
   {
    "duration": -192,
    "start_time": "2021-10-29T12:28:03.594Z"
   },
   {
    "duration": -194,
    "start_time": "2021-10-29T12:28:03.598Z"
   },
   {
    "duration": -210,
    "start_time": "2021-10-29T12:28:03.616Z"
   },
   {
    "duration": -218,
    "start_time": "2021-10-29T12:28:03.625Z"
   },
   {
    "duration": -221,
    "start_time": "2021-10-29T12:28:03.629Z"
   },
   {
    "duration": -226,
    "start_time": "2021-10-29T12:28:03.635Z"
   },
   {
    "duration": -233,
    "start_time": "2021-10-29T12:28:03.645Z"
   },
   {
    "duration": -240,
    "start_time": "2021-10-29T12:28:03.654Z"
   },
   {
    "duration": -246,
    "start_time": "2021-10-29T12:28:03.662Z"
   },
   {
    "duration": -251,
    "start_time": "2021-10-29T12:28:03.668Z"
   },
   {
    "duration": 282,
    "start_time": "2021-10-29T12:28:14.230Z"
   },
   {
    "duration": 356,
    "start_time": "2021-10-29T12:28:26.316Z"
   },
   {
    "duration": 851,
    "start_time": "2021-10-29T12:28:52.557Z"
   },
   {
    "duration": 214,
    "start_time": "2021-10-29T12:28:53.411Z"
   },
   {
    "duration": 39,
    "start_time": "2021-10-29T12:28:53.628Z"
   },
   {
    "duration": 33,
    "start_time": "2021-10-29T12:28:53.670Z"
   },
   {
    "duration": 5,
    "start_time": "2021-10-29T12:28:53.706Z"
   },
   {
    "duration": 54,
    "start_time": "2021-10-29T12:28:53.713Z"
   },
   {
    "duration": 7,
    "start_time": "2021-10-29T12:28:53.770Z"
   },
   {
    "duration": 30,
    "start_time": "2021-10-29T12:28:53.781Z"
   },
   {
    "duration": 57,
    "start_time": "2021-10-29T12:28:53.815Z"
   },
   {
    "duration": 31,
    "start_time": "2021-10-29T12:28:53.875Z"
   },
   {
    "duration": 125,
    "start_time": "2021-10-29T12:28:53.909Z"
   },
   {
    "duration": 130,
    "start_time": "2021-10-29T12:28:54.036Z"
   },
   {
    "duration": 99,
    "start_time": "2021-10-29T12:28:54.168Z"
   },
   {
    "duration": 64,
    "start_time": "2021-10-29T12:28:54.270Z"
   },
   {
    "duration": 31,
    "start_time": "2021-10-29T12:28:54.338Z"
   },
   {
    "duration": 15,
    "start_time": "2021-10-29T12:28:54.373Z"
   },
   {
    "duration": 88,
    "start_time": "2021-10-29T12:28:54.391Z"
   },
   {
    "duration": 411,
    "start_time": "2021-10-29T12:28:54.482Z"
   },
   {
    "duration": -62,
    "start_time": "2021-10-29T12:28:54.959Z"
   },
   {
    "duration": -106,
    "start_time": "2021-10-29T12:28:55.004Z"
   },
   {
    "duration": -110,
    "start_time": "2021-10-29T12:28:55.010Z"
   },
   {
    "duration": -115,
    "start_time": "2021-10-29T12:28:55.017Z"
   },
   {
    "duration": -120,
    "start_time": "2021-10-29T12:28:55.023Z"
   },
   {
    "duration": -124,
    "start_time": "2021-10-29T12:28:55.029Z"
   },
   {
    "duration": -131,
    "start_time": "2021-10-29T12:28:55.037Z"
   },
   {
    "duration": -135,
    "start_time": "2021-10-29T12:28:55.043Z"
   },
   {
    "duration": -144,
    "start_time": "2021-10-29T12:28:55.053Z"
   },
   {
    "duration": -147,
    "start_time": "2021-10-29T12:28:55.058Z"
   },
   {
    "duration": -153,
    "start_time": "2021-10-29T12:28:55.065Z"
   },
   {
    "duration": -157,
    "start_time": "2021-10-29T12:28:55.071Z"
   },
   {
    "duration": -159,
    "start_time": "2021-10-29T12:28:55.075Z"
   },
   {
    "duration": -164,
    "start_time": "2021-10-29T12:28:55.081Z"
   },
   {
    "duration": -169,
    "start_time": "2021-10-29T12:28:55.088Z"
   },
   {
    "duration": -172,
    "start_time": "2021-10-29T12:28:55.092Z"
   },
   {
    "duration": -178,
    "start_time": "2021-10-29T12:28:55.100Z"
   },
   {
    "duration": -181,
    "start_time": "2021-10-29T12:28:55.104Z"
   },
   {
    "duration": -200,
    "start_time": "2021-10-29T12:28:55.125Z"
   },
   {
    "duration": -205,
    "start_time": "2021-10-29T12:28:55.131Z"
   },
   {
    "duration": 302,
    "start_time": "2021-10-29T12:29:22.431Z"
   },
   {
    "duration": 407,
    "start_time": "2021-10-29T12:29:34.655Z"
   },
   {
    "duration": 378,
    "start_time": "2021-10-29T12:31:02.819Z"
   },
   {
    "duration": 4,
    "start_time": "2021-10-29T12:31:17.537Z"
   },
   {
    "duration": 888,
    "start_time": "2021-10-29T12:31:29.259Z"
   },
   {
    "duration": 211,
    "start_time": "2021-10-29T12:31:30.150Z"
   },
   {
    "duration": 31,
    "start_time": "2021-10-29T12:31:30.365Z"
   },
   {
    "duration": 63,
    "start_time": "2021-10-29T12:31:30.404Z"
   },
   {
    "duration": 7,
    "start_time": "2021-10-29T12:31:30.470Z"
   },
   {
    "duration": 34,
    "start_time": "2021-10-29T12:31:30.479Z"
   },
   {
    "duration": 18,
    "start_time": "2021-10-29T12:31:30.516Z"
   },
   {
    "duration": 53,
    "start_time": "2021-10-29T12:31:30.539Z"
   },
   {
    "duration": 45,
    "start_time": "2021-10-29T12:31:30.597Z"
   },
   {
    "duration": 49,
    "start_time": "2021-10-29T12:31:30.646Z"
   },
   {
    "duration": 120,
    "start_time": "2021-10-29T12:31:30.698Z"
   },
   {
    "duration": 135,
    "start_time": "2021-10-29T12:31:30.821Z"
   },
   {
    "duration": 88,
    "start_time": "2021-10-29T12:31:30.959Z"
   },
   {
    "duration": 71,
    "start_time": "2021-10-29T12:31:31.050Z"
   },
   {
    "duration": 4,
    "start_time": "2021-10-29T12:31:31.124Z"
   },
   {
    "duration": 39,
    "start_time": "2021-10-29T12:31:31.131Z"
   },
   {
    "duration": 59,
    "start_time": "2021-10-29T12:31:31.173Z"
   },
   {
    "duration": 446,
    "start_time": "2021-10-29T12:31:31.235Z"
   },
   {
    "duration": -105,
    "start_time": "2021-10-29T12:31:31.791Z"
   },
   {
    "duration": -108,
    "start_time": "2021-10-29T12:31:31.796Z"
   },
   {
    "duration": -111,
    "start_time": "2021-10-29T12:31:31.801Z"
   },
   {
    "duration": -116,
    "start_time": "2021-10-29T12:31:31.807Z"
   },
   {
    "duration": -119,
    "start_time": "2021-10-29T12:31:31.812Z"
   },
   {
    "duration": -122,
    "start_time": "2021-10-29T12:31:31.816Z"
   },
   {
    "duration": -125,
    "start_time": "2021-10-29T12:31:31.821Z"
   },
   {
    "duration": -130,
    "start_time": "2021-10-29T12:31:31.827Z"
   },
   {
    "duration": -133,
    "start_time": "2021-10-29T12:31:31.831Z"
   },
   {
    "duration": -137,
    "start_time": "2021-10-29T12:31:31.837Z"
   },
   {
    "duration": -138,
    "start_time": "2021-10-29T12:31:31.840Z"
   },
   {
    "duration": -141,
    "start_time": "2021-10-29T12:31:31.844Z"
   },
   {
    "duration": -144,
    "start_time": "2021-10-29T12:31:31.848Z"
   },
   {
    "duration": -153,
    "start_time": "2021-10-29T12:31:31.859Z"
   },
   {
    "duration": -157,
    "start_time": "2021-10-29T12:31:31.864Z"
   },
   {
    "duration": -161,
    "start_time": "2021-10-29T12:31:31.869Z"
   },
   {
    "duration": -163,
    "start_time": "2021-10-29T12:31:31.873Z"
   },
   {
    "duration": -168,
    "start_time": "2021-10-29T12:31:31.879Z"
   },
   {
    "duration": -170,
    "start_time": "2021-10-29T12:31:31.882Z"
   },
   {
    "duration": -174,
    "start_time": "2021-10-29T12:31:31.888Z"
   },
   {
    "duration": 3,
    "start_time": "2021-10-29T12:31:43.898Z"
   },
   {
    "duration": 192,
    "start_time": "2021-10-29T12:31:47.662Z"
   },
   {
    "duration": 17,
    "start_time": "2021-10-29T12:31:50.920Z"
   },
   {
    "duration": 382,
    "start_time": "2021-10-29T13:43:47.099Z"
   },
   {
    "duration": 723,
    "start_time": "2021-10-29T13:44:04.913Z"
   },
   {
    "duration": 197,
    "start_time": "2021-10-29T13:44:14.877Z"
   },
   {
    "duration": 31,
    "start_time": "2021-10-29T13:44:18.528Z"
   },
   {
    "duration": 34,
    "start_time": "2021-10-29T13:44:27.759Z"
   },
   {
    "duration": 6,
    "start_time": "2021-10-29T13:44:42.736Z"
   },
   {
    "duration": 14,
    "start_time": "2021-10-29T13:44:50.034Z"
   },
   {
    "duration": 6,
    "start_time": "2021-10-29T13:44:56.853Z"
   },
   {
    "duration": 33,
    "start_time": "2021-10-29T13:45:02.044Z"
   },
   {
    "duration": 26,
    "start_time": "2021-10-29T13:45:06.654Z"
   },
   {
    "duration": 30,
    "start_time": "2021-10-29T13:45:11.349Z"
   },
   {
    "duration": 91,
    "start_time": "2021-10-29T13:45:14.832Z"
   },
   {
    "duration": 109,
    "start_time": "2021-10-29T13:45:18.741Z"
   },
   {
    "duration": 80,
    "start_time": "2021-10-29T13:45:47.600Z"
   },
   {
    "duration": 60,
    "start_time": "2021-10-29T13:45:55.028Z"
   },
   {
    "duration": 4,
    "start_time": "2021-10-29T13:46:02.085Z"
   },
   {
    "duration": 15,
    "start_time": "2021-10-29T13:46:07.938Z"
   },
   {
    "duration": 59,
    "start_time": "2021-10-29T13:46:11.964Z"
   },
   {
    "duration": 15,
    "start_time": "2021-10-29T13:48:06.715Z"
   },
   {
    "duration": 14,
    "start_time": "2021-10-29T13:48:12.475Z"
   },
   {
    "duration": 5,
    "start_time": "2021-10-29T13:48:16.996Z"
   },
   {
    "duration": 24,
    "start_time": "2021-10-29T13:48:21.202Z"
   },
   {
    "duration": 19,
    "start_time": "2021-10-29T13:48:23.608Z"
   },
   {
    "duration": 20,
    "start_time": "2021-10-29T13:48:26.351Z"
   },
   {
    "duration": 18,
    "start_time": "2021-10-29T13:48:28.359Z"
   },
   {
    "duration": 21,
    "start_time": "2021-10-29T13:48:30.030Z"
   },
   {
    "duration": 19,
    "start_time": "2021-10-29T13:48:31.576Z"
   },
   {
    "duration": 12,
    "start_time": "2021-10-29T13:48:36.719Z"
   },
   {
    "duration": 16,
    "start_time": "2021-10-29T13:49:09.248Z"
   },
   {
    "duration": 15,
    "start_time": "2021-10-29T13:49:10.310Z"
   },
   {
    "duration": 6,
    "start_time": "2021-10-29T13:49:21.319Z"
   },
   {
    "duration": 24,
    "start_time": "2021-10-29T13:49:25.991Z"
   },
   {
    "duration": 18,
    "start_time": "2021-10-29T13:49:29.526Z"
   },
   {
    "duration": 25,
    "start_time": "2021-10-29T13:49:32.542Z"
   },
   {
    "duration": 19,
    "start_time": "2021-10-29T13:49:34.606Z"
   },
   {
    "duration": 12,
    "start_time": "2021-10-29T13:49:46.086Z"
   },
   {
    "duration": 6,
    "start_time": "2021-10-29T13:49:53.046Z"
   },
   {
    "duration": 9,
    "start_time": "2021-10-29T13:50:00.429Z"
   },
   {
    "duration": 6,
    "start_time": "2021-10-29T13:50:04.534Z"
   },
   {
    "duration": 777,
    "start_time": "2021-10-29T13:57:46.077Z"
   },
   {
    "duration": 195,
    "start_time": "2021-10-29T13:57:46.857Z"
   },
   {
    "duration": 31,
    "start_time": "2021-10-29T13:57:47.055Z"
   },
   {
    "duration": 36,
    "start_time": "2021-10-29T13:57:47.090Z"
   },
   {
    "duration": 38,
    "start_time": "2021-10-29T13:57:47.129Z"
   },
   {
    "duration": 14,
    "start_time": "2021-10-29T13:57:47.171Z"
   },
   {
    "duration": 13,
    "start_time": "2021-10-29T13:57:47.188Z"
   },
   {
    "duration": 65,
    "start_time": "2021-10-29T13:57:47.205Z"
   },
   {
    "duration": 25,
    "start_time": "2021-10-29T13:57:47.274Z"
   },
   {
    "duration": 33,
    "start_time": "2021-10-29T13:57:47.302Z"
   },
   {
    "duration": 130,
    "start_time": "2021-10-29T13:57:47.338Z"
   },
   {
    "duration": 124,
    "start_time": "2021-10-29T13:57:47.471Z"
   },
   {
    "duration": 93,
    "start_time": "2021-10-29T13:57:47.597Z"
   },
   {
    "duration": 77,
    "start_time": "2021-10-29T13:57:47.693Z"
   },
   {
    "duration": 4,
    "start_time": "2021-10-29T13:57:47.773Z"
   },
   {
    "duration": 24,
    "start_time": "2021-10-29T13:57:47.779Z"
   },
   {
    "duration": 81,
    "start_time": "2021-10-29T13:57:47.805Z"
   },
   {
    "duration": 17,
    "start_time": "2021-10-29T13:57:47.888Z"
   },
   {
    "duration": 16,
    "start_time": "2021-10-29T13:57:47.908Z"
   },
   {
    "duration": 41,
    "start_time": "2021-10-29T13:57:47.926Z"
   },
   {
    "duration": 30,
    "start_time": "2021-10-29T13:57:47.970Z"
   },
   {
    "duration": 19,
    "start_time": "2021-10-29T13:57:48.002Z"
   },
   {
    "duration": 40,
    "start_time": "2021-10-29T13:57:48.026Z"
   },
   {
    "duration": 20,
    "start_time": "2021-10-29T13:57:48.070Z"
   },
   {
    "duration": 22,
    "start_time": "2021-10-29T13:57:48.092Z"
   },
   {
    "duration": 18,
    "start_time": "2021-10-29T13:57:48.117Z"
   },
   {
    "duration": 12,
    "start_time": "2021-10-29T13:57:48.168Z"
   },
   {
    "duration": 17,
    "start_time": "2021-10-29T13:57:48.182Z"
   },
   {
    "duration": 12,
    "start_time": "2021-10-29T13:57:48.202Z"
   },
   {
    "duration": 5,
    "start_time": "2021-10-29T13:57:48.217Z"
   },
   {
    "duration": 60,
    "start_time": "2021-10-29T13:57:48.225Z"
   },
   {
    "duration": 18,
    "start_time": "2021-10-29T13:57:48.288Z"
   },
   {
    "duration": 65,
    "start_time": "2021-10-29T13:57:48.309Z"
   },
   {
    "duration": 25,
    "start_time": "2021-10-29T13:57:48.377Z"
   },
   {
    "duration": 13,
    "start_time": "2021-10-29T13:57:48.405Z"
   },
   {
    "duration": 46,
    "start_time": "2021-10-29T13:57:48.421Z"
   },
   {
    "duration": 10,
    "start_time": "2021-10-29T13:57:48.470Z"
   },
   {
    "duration": 11,
    "start_time": "2021-10-29T13:57:48.484Z"
   },
   {
    "duration": 10,
    "start_time": "2021-10-29T13:58:33.593Z"
   },
   {
    "duration": 9,
    "start_time": "2021-10-29T13:59:06.721Z"
   },
   {
    "duration": 10,
    "start_time": "2021-10-29T14:04:45.572Z"
   },
   {
    "duration": 60,
    "start_time": "2021-10-29T14:04:47.242Z"
   },
   {
    "duration": 92,
    "start_time": "2021-10-29T14:15:36.368Z"
   },
   {
    "duration": 772,
    "start_time": "2021-10-29T14:34:09.121Z"
   },
   {
    "duration": 200,
    "start_time": "2021-10-29T14:34:09.895Z"
   },
   {
    "duration": 25,
    "start_time": "2021-10-29T14:34:10.098Z"
   },
   {
    "duration": 52,
    "start_time": "2021-10-29T14:34:10.125Z"
   },
   {
    "duration": 6,
    "start_time": "2021-10-29T14:34:10.180Z"
   },
   {
    "duration": 14,
    "start_time": "2021-10-29T14:34:10.189Z"
   },
   {
    "duration": 8,
    "start_time": "2021-10-29T14:34:10.206Z"
   },
   {
    "duration": 64,
    "start_time": "2021-10-29T14:34:10.218Z"
   },
   {
    "duration": 25,
    "start_time": "2021-10-29T14:34:10.285Z"
   },
   {
    "duration": 32,
    "start_time": "2021-10-29T14:34:10.313Z"
   },
   {
    "duration": 84,
    "start_time": "2021-10-29T14:34:10.368Z"
   },
   {
    "duration": 110,
    "start_time": "2021-10-29T14:34:10.467Z"
   },
   {
    "duration": 92,
    "start_time": "2021-10-29T14:34:10.579Z"
   },
   {
    "duration": 62,
    "start_time": "2021-10-29T14:34:10.674Z"
   },
   {
    "duration": 5,
    "start_time": "2021-10-29T14:34:10.738Z"
   },
   {
    "duration": 32,
    "start_time": "2021-10-29T14:34:10.745Z"
   },
   {
    "duration": 62,
    "start_time": "2021-10-29T14:34:10.780Z"
   },
   {
    "duration": 17,
    "start_time": "2021-10-29T14:34:10.868Z"
   },
   {
    "duration": 16,
    "start_time": "2021-10-29T14:34:10.888Z"
   },
   {
    "duration": 13,
    "start_time": "2021-10-29T14:34:10.907Z"
   },
   {
    "duration": 55,
    "start_time": "2021-10-29T14:34:10.923Z"
   },
   {
    "duration": 23,
    "start_time": "2021-10-29T14:34:10.981Z"
   },
   {
    "duration": 20,
    "start_time": "2021-10-29T14:34:11.008Z"
   },
   {
    "duration": 44,
    "start_time": "2021-10-29T14:34:11.031Z"
   },
   {
    "duration": 21,
    "start_time": "2021-10-29T14:34:11.078Z"
   },
   {
    "duration": 18,
    "start_time": "2021-10-29T14:34:11.101Z"
   },
   {
    "duration": 46,
    "start_time": "2021-10-29T14:34:11.121Z"
   },
   {
    "duration": 15,
    "start_time": "2021-10-29T14:34:11.171Z"
   },
   {
    "duration": 11,
    "start_time": "2021-10-29T14:34:11.189Z"
   },
   {
    "duration": 6,
    "start_time": "2021-10-29T14:34:11.203Z"
   },
   {
    "duration": 57,
    "start_time": "2021-10-29T14:34:11.211Z"
   },
   {
    "duration": 19,
    "start_time": "2021-10-29T14:34:11.270Z"
   },
   {
    "duration": 26,
    "start_time": "2021-10-29T14:34:11.291Z"
   },
   {
    "duration": 50,
    "start_time": "2021-10-29T14:34:11.320Z"
   },
   {
    "duration": 13,
    "start_time": "2021-10-29T14:34:11.373Z"
   },
   {
    "duration": 9,
    "start_time": "2021-10-29T14:34:11.389Z"
   },
   {
    "duration": 9,
    "start_time": "2021-10-29T14:34:11.400Z"
   },
   {
    "duration": 10,
    "start_time": "2021-10-29T14:34:11.411Z"
   }
  ],
  "colab": {
   "collapsed_sections": [
    "E0vqbgi9ay0H",
    "VUC88oWjTJw2"
   ],
   "name": "yandex_music_project_2021.2.ipynb",
   "provenance": []
  },
  "kernelspec": {
   "display_name": "Python 3 (ipykernel)",
   "language": "python",
   "name": "python3"
  },
  "language_info": {
   "codemirror_mode": {
    "name": "ipython",
    "version": 3
   },
   "file_extension": ".py",
   "mimetype": "text/x-python",
   "name": "python",
   "nbconvert_exporter": "python",
   "pygments_lexer": "ipython3",
   "version": "3.9.5"
  },
  "toc": {
   "base_numbering": 1,
   "nav_menu": {},
   "number_sections": true,
   "sideBar": true,
   "skip_h1_title": true,
   "title_cell": "Table of Contents",
   "title_sidebar": "Contents",
   "toc_cell": true,
   "toc_position": {
    "height": "calc(100% - 180px)",
    "left": "10px",
    "top": "150px",
    "width": "274.797px"
   },
   "toc_section_display": true,
   "toc_window_display": false
  }
 },
 "nbformat": 4,
 "nbformat_minor": 1
}
