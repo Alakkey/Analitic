{
 "cells": [
  {
   "cell_type": "markdown",
   "metadata": {},
   "source": [
    "# Определение перспективного тарифа для телеком-компании"
   ]
  },
  {
   "cell_type": "markdown",
   "metadata": {},
   "source": [
    "Компания «Мегалайн» — федеральный оператор сотовой связи. Клиентам предлагают два тарифных плана: «Смарт» и «Ультра». Чтобы скорректировать рекламный бюджет, коммерческий департамент хочет понять, какой тариф приносит больше денег."
   ]
  },
  {
   "cell_type": "markdown",
   "metadata": {},
   "source": [
    "**Цель иследования** \n",
    "\n",
    "Сделать предварительный анализ тарифов на небольшой выборке клиентов. В вашем распоряжении данные 500 пользователей «Мегалайна»: кто они, откуда, каким тарифом пользуются, сколько звонков и сообщений каждый отправил за 2018 год. Нужно проанализировать поведение клиентов и сделать вывод — какой тариф лучше."
   ]
  },
  {
   "cell_type": "markdown",
   "metadata": {},
   "source": [
    "**Описание тарифов**\n",
    "* Тариф «Смарт»\n",
    "1. Ежемесячная плата: 550 рублей\n",
    "2. Включено 500 минут разговора, 50 сообщений и 15 Гб интернет-трафика\n",
    "3. Стоимость услуг сверх тарифного пакета: 1. минута разговора: 3 рубля («Мегалайн» всегда округляет вверх значения минут и мегабайтов. Если пользователь проговорил всего 1 секунду, в тарифе засчитывается целая минута); 2. сообщение: 3 рубля; 3. 1 Гб интернет-трафика: 200 рублей.\n",
    "\n",
    "* Тариф «Ультра»\n",
    "1. Ежемесячная плата: 1950 рублей\n",
    "2. Включено 3000 минут разговора, 1000 сообщений и 30 Гб интернет-трафика\n",
    "3. Стоимость услуг сверх тарифного пакета: 1. минута разговора: 1 рубль; 2. сообщение: 1 рубль; 3. 1 Гб интернет-трафика: 150 рублей."
   ]
  },
  {
   "cell_type": "markdown",
   "metadata": {},
   "source": [
    "**План иследования:**\n",
    "\n",
    "1. Открыть файлы.\n",
    "2. Подготовить данные.\n",
    "3. Проанализировать данные.\n",
    "4. Проверить гипотизы.\n",
    "5. Общий вывод."
   ]
  },
  {
   "cell_type": "markdown",
   "metadata": {},
   "source": [
    "## Открыть файлы."
   ]
  },
  {
   "cell_type": "code",
   "execution_count": 2,
   "metadata": {},
   "outputs": [],
   "source": [
    "import warnings\n",
    "warnings.filterwarnings('ignore')\n",
    "import pandas as pd\n",
    "import pylab as pl\n",
    "import matplotlib.pyplot as plt\n",
    "import math\n",
    "import numpy as np\n",
    "from scipy import stats as st\n",
    "import copy\n",
    "import datetime\n",
    "\n",
    "calls_df = pd.read_csv('/datasets/calls.csv')\n",
    "internet_df = pd.read_csv('/datasets/internet.csv')\n",
    "messages_df = pd.read_csv('/datasets/messages.csv')\n",
    "tariffs_df = pd.read_csv('/datasets/tariffs.csv')\n",
    "users_df = pd.read_csv('/datasets/users.csv')"
   ]
  },
  {
   "cell_type": "code",
   "execution_count": 3,
   "metadata": {},
   "outputs": [
    {
     "name": "stdout",
     "output_type": "stream",
     "text": [
      "<class 'pandas.core.frame.DataFrame'>\n",
      "RangeIndex: 202607 entries, 0 to 202606\n",
      "Data columns (total 4 columns):\n",
      "id           202607 non-null object\n",
      "call_date    202607 non-null object\n",
      "duration     202607 non-null float64\n",
      "user_id      202607 non-null int64\n",
      "dtypes: float64(1), int64(1), object(2)\n",
      "memory usage: 6.2+ MB\n"
     ]
    },
    {
     "data": {
      "text/plain": [
       "None"
      ]
     },
     "metadata": {},
     "output_type": "display_data"
    },
    {
     "data": {
      "text/html": [
       "<div>\n",
       "<style scoped>\n",
       "    .dataframe tbody tr th:only-of-type {\n",
       "        vertical-align: middle;\n",
       "    }\n",
       "\n",
       "    .dataframe tbody tr th {\n",
       "        vertical-align: top;\n",
       "    }\n",
       "\n",
       "    .dataframe thead th {\n",
       "        text-align: right;\n",
       "    }\n",
       "</style>\n",
       "<table border=\"1\" class=\"dataframe\">\n",
       "  <thead>\n",
       "    <tr style=\"text-align: right;\">\n",
       "      <th></th>\n",
       "      <th>id</th>\n",
       "      <th>call_date</th>\n",
       "      <th>duration</th>\n",
       "      <th>user_id</th>\n",
       "    </tr>\n",
       "  </thead>\n",
       "  <tbody>\n",
       "    <tr>\n",
       "      <td>0</td>\n",
       "      <td>1000_0</td>\n",
       "      <td>2018-07-25</td>\n",
       "      <td>0.00</td>\n",
       "      <td>1000</td>\n",
       "    </tr>\n",
       "    <tr>\n",
       "      <td>1</td>\n",
       "      <td>1000_1</td>\n",
       "      <td>2018-08-17</td>\n",
       "      <td>0.00</td>\n",
       "      <td>1000</td>\n",
       "    </tr>\n",
       "    <tr>\n",
       "      <td>2</td>\n",
       "      <td>1000_2</td>\n",
       "      <td>2018-06-11</td>\n",
       "      <td>2.85</td>\n",
       "      <td>1000</td>\n",
       "    </tr>\n",
       "    <tr>\n",
       "      <td>3</td>\n",
       "      <td>1000_3</td>\n",
       "      <td>2018-09-21</td>\n",
       "      <td>13.80</td>\n",
       "      <td>1000</td>\n",
       "    </tr>\n",
       "    <tr>\n",
       "      <td>4</td>\n",
       "      <td>1000_4</td>\n",
       "      <td>2018-12-15</td>\n",
       "      <td>5.18</td>\n",
       "      <td>1000</td>\n",
       "    </tr>\n",
       "  </tbody>\n",
       "</table>\n",
       "</div>"
      ],
      "text/plain": [
       "       id   call_date  duration  user_id\n",
       "0  1000_0  2018-07-25      0.00     1000\n",
       "1  1000_1  2018-08-17      0.00     1000\n",
       "2  1000_2  2018-06-11      2.85     1000\n",
       "3  1000_3  2018-09-21     13.80     1000\n",
       "4  1000_4  2018-12-15      5.18     1000"
      ]
     },
     "execution_count": 3,
     "metadata": {},
     "output_type": "execute_result"
    }
   ],
   "source": [
    "display(calls_df.info())\n",
    "calls_df.head()"
   ]
  },
  {
   "cell_type": "code",
   "execution_count": 4,
   "metadata": {},
   "outputs": [
    {
     "name": "stdout",
     "output_type": "stream",
     "text": [
      "<class 'pandas.core.frame.DataFrame'>\n",
      "RangeIndex: 149396 entries, 0 to 149395\n",
      "Data columns (total 5 columns):\n",
      "Unnamed: 0      149396 non-null int64\n",
      "id              149396 non-null object\n",
      "mb_used         149396 non-null float64\n",
      "session_date    149396 non-null object\n",
      "user_id         149396 non-null int64\n",
      "dtypes: float64(1), int64(2), object(2)\n",
      "memory usage: 5.7+ MB\n"
     ]
    },
    {
     "data": {
      "text/plain": [
       "None"
      ]
     },
     "metadata": {},
     "output_type": "display_data"
    },
    {
     "data": {
      "text/html": [
       "<div>\n",
       "<style scoped>\n",
       "    .dataframe tbody tr th:only-of-type {\n",
       "        vertical-align: middle;\n",
       "    }\n",
       "\n",
       "    .dataframe tbody tr th {\n",
       "        vertical-align: top;\n",
       "    }\n",
       "\n",
       "    .dataframe thead th {\n",
       "        text-align: right;\n",
       "    }\n",
       "</style>\n",
       "<table border=\"1\" class=\"dataframe\">\n",
       "  <thead>\n",
       "    <tr style=\"text-align: right;\">\n",
       "      <th></th>\n",
       "      <th>Unnamed: 0</th>\n",
       "      <th>id</th>\n",
       "      <th>mb_used</th>\n",
       "      <th>session_date</th>\n",
       "      <th>user_id</th>\n",
       "    </tr>\n",
       "  </thead>\n",
       "  <tbody>\n",
       "    <tr>\n",
       "      <td>0</td>\n",
       "      <td>0</td>\n",
       "      <td>1000_0</td>\n",
       "      <td>112.95</td>\n",
       "      <td>2018-11-25</td>\n",
       "      <td>1000</td>\n",
       "    </tr>\n",
       "    <tr>\n",
       "      <td>1</td>\n",
       "      <td>1</td>\n",
       "      <td>1000_1</td>\n",
       "      <td>1052.81</td>\n",
       "      <td>2018-09-07</td>\n",
       "      <td>1000</td>\n",
       "    </tr>\n",
       "    <tr>\n",
       "      <td>2</td>\n",
       "      <td>2</td>\n",
       "      <td>1000_2</td>\n",
       "      <td>1197.26</td>\n",
       "      <td>2018-06-25</td>\n",
       "      <td>1000</td>\n",
       "    </tr>\n",
       "    <tr>\n",
       "      <td>3</td>\n",
       "      <td>3</td>\n",
       "      <td>1000_3</td>\n",
       "      <td>550.27</td>\n",
       "      <td>2018-08-22</td>\n",
       "      <td>1000</td>\n",
       "    </tr>\n",
       "    <tr>\n",
       "      <td>4</td>\n",
       "      <td>4</td>\n",
       "      <td>1000_4</td>\n",
       "      <td>302.56</td>\n",
       "      <td>2018-09-24</td>\n",
       "      <td>1000</td>\n",
       "    </tr>\n",
       "  </tbody>\n",
       "</table>\n",
       "</div>"
      ],
      "text/plain": [
       "   Unnamed: 0      id  mb_used session_date  user_id\n",
       "0           0  1000_0   112.95   2018-11-25     1000\n",
       "1           1  1000_1  1052.81   2018-09-07     1000\n",
       "2           2  1000_2  1197.26   2018-06-25     1000\n",
       "3           3  1000_3   550.27   2018-08-22     1000\n",
       "4           4  1000_4   302.56   2018-09-24     1000"
      ]
     },
     "execution_count": 4,
     "metadata": {},
     "output_type": "execute_result"
    }
   ],
   "source": [
    "display(internet_df.info())\n",
    "internet_df.head()"
   ]
  },
  {
   "cell_type": "code",
   "execution_count": 5,
   "metadata": {},
   "outputs": [
    {
     "name": "stdout",
     "output_type": "stream",
     "text": [
      "<class 'pandas.core.frame.DataFrame'>\n",
      "RangeIndex: 123036 entries, 0 to 123035\n",
      "Data columns (total 3 columns):\n",
      "id              123036 non-null object\n",
      "message_date    123036 non-null object\n",
      "user_id         123036 non-null int64\n",
      "dtypes: int64(1), object(2)\n",
      "memory usage: 2.8+ MB\n"
     ]
    },
    {
     "data": {
      "text/plain": [
       "None"
      ]
     },
     "metadata": {},
     "output_type": "display_data"
    },
    {
     "data": {
      "text/html": [
       "<div>\n",
       "<style scoped>\n",
       "    .dataframe tbody tr th:only-of-type {\n",
       "        vertical-align: middle;\n",
       "    }\n",
       "\n",
       "    .dataframe tbody tr th {\n",
       "        vertical-align: top;\n",
       "    }\n",
       "\n",
       "    .dataframe thead th {\n",
       "        text-align: right;\n",
       "    }\n",
       "</style>\n",
       "<table border=\"1\" class=\"dataframe\">\n",
       "  <thead>\n",
       "    <tr style=\"text-align: right;\">\n",
       "      <th></th>\n",
       "      <th>id</th>\n",
       "      <th>message_date</th>\n",
       "      <th>user_id</th>\n",
       "    </tr>\n",
       "  </thead>\n",
       "  <tbody>\n",
       "    <tr>\n",
       "      <td>0</td>\n",
       "      <td>1000_0</td>\n",
       "      <td>2018-06-27</td>\n",
       "      <td>1000</td>\n",
       "    </tr>\n",
       "    <tr>\n",
       "      <td>1</td>\n",
       "      <td>1000_1</td>\n",
       "      <td>2018-10-08</td>\n",
       "      <td>1000</td>\n",
       "    </tr>\n",
       "    <tr>\n",
       "      <td>2</td>\n",
       "      <td>1000_2</td>\n",
       "      <td>2018-08-04</td>\n",
       "      <td>1000</td>\n",
       "    </tr>\n",
       "    <tr>\n",
       "      <td>3</td>\n",
       "      <td>1000_3</td>\n",
       "      <td>2018-06-16</td>\n",
       "      <td>1000</td>\n",
       "    </tr>\n",
       "    <tr>\n",
       "      <td>4</td>\n",
       "      <td>1000_4</td>\n",
       "      <td>2018-12-05</td>\n",
       "      <td>1000</td>\n",
       "    </tr>\n",
       "  </tbody>\n",
       "</table>\n",
       "</div>"
      ],
      "text/plain": [
       "       id message_date  user_id\n",
       "0  1000_0   2018-06-27     1000\n",
       "1  1000_1   2018-10-08     1000\n",
       "2  1000_2   2018-08-04     1000\n",
       "3  1000_3   2018-06-16     1000\n",
       "4  1000_4   2018-12-05     1000"
      ]
     },
     "execution_count": 5,
     "metadata": {},
     "output_type": "execute_result"
    }
   ],
   "source": [
    "display(messages_df.info())\n",
    "messages_df.head()"
   ]
  },
  {
   "cell_type": "code",
   "execution_count": 6,
   "metadata": {},
   "outputs": [
    {
     "name": "stdout",
     "output_type": "stream",
     "text": [
      "<class 'pandas.core.frame.DataFrame'>\n",
      "RangeIndex: 2 entries, 0 to 1\n",
      "Data columns (total 8 columns):\n",
      "messages_included        2 non-null int64\n",
      "mb_per_month_included    2 non-null int64\n",
      "minutes_included         2 non-null int64\n",
      "rub_monthly_fee          2 non-null int64\n",
      "rub_per_gb               2 non-null int64\n",
      "rub_per_message          2 non-null int64\n",
      "rub_per_minute           2 non-null int64\n",
      "tariff_name              2 non-null object\n",
      "dtypes: int64(7), object(1)\n",
      "memory usage: 256.0+ bytes\n"
     ]
    },
    {
     "data": {
      "text/plain": [
       "None"
      ]
     },
     "metadata": {},
     "output_type": "display_data"
    },
    {
     "data": {
      "text/html": [
       "<div>\n",
       "<style scoped>\n",
       "    .dataframe tbody tr th:only-of-type {\n",
       "        vertical-align: middle;\n",
       "    }\n",
       "\n",
       "    .dataframe tbody tr th {\n",
       "        vertical-align: top;\n",
       "    }\n",
       "\n",
       "    .dataframe thead th {\n",
       "        text-align: right;\n",
       "    }\n",
       "</style>\n",
       "<table border=\"1\" class=\"dataframe\">\n",
       "  <thead>\n",
       "    <tr style=\"text-align: right;\">\n",
       "      <th></th>\n",
       "      <th>messages_included</th>\n",
       "      <th>mb_per_month_included</th>\n",
       "      <th>minutes_included</th>\n",
       "      <th>rub_monthly_fee</th>\n",
       "      <th>rub_per_gb</th>\n",
       "      <th>rub_per_message</th>\n",
       "      <th>rub_per_minute</th>\n",
       "      <th>tariff_name</th>\n",
       "    </tr>\n",
       "  </thead>\n",
       "  <tbody>\n",
       "    <tr>\n",
       "      <td>0</td>\n",
       "      <td>50</td>\n",
       "      <td>15360</td>\n",
       "      <td>500</td>\n",
       "      <td>550</td>\n",
       "      <td>200</td>\n",
       "      <td>3</td>\n",
       "      <td>3</td>\n",
       "      <td>smart</td>\n",
       "    </tr>\n",
       "    <tr>\n",
       "      <td>1</td>\n",
       "      <td>1000</td>\n",
       "      <td>30720</td>\n",
       "      <td>3000</td>\n",
       "      <td>1950</td>\n",
       "      <td>150</td>\n",
       "      <td>1</td>\n",
       "      <td>1</td>\n",
       "      <td>ultra</td>\n",
       "    </tr>\n",
       "  </tbody>\n",
       "</table>\n",
       "</div>"
      ],
      "text/plain": [
       "   messages_included  mb_per_month_included  minutes_included  \\\n",
       "0                 50                  15360               500   \n",
       "1               1000                  30720              3000   \n",
       "\n",
       "   rub_monthly_fee  rub_per_gb  rub_per_message  rub_per_minute tariff_name  \n",
       "0              550         200                3               3       smart  \n",
       "1             1950         150                1               1       ultra  "
      ]
     },
     "execution_count": 6,
     "metadata": {},
     "output_type": "execute_result"
    }
   ],
   "source": [
    "display(tariffs_df.info())\n",
    "tariffs_df.head()"
   ]
  },
  {
   "cell_type": "code",
   "execution_count": 7,
   "metadata": {},
   "outputs": [
    {
     "name": "stdout",
     "output_type": "stream",
     "text": [
      "<class 'pandas.core.frame.DataFrame'>\n",
      "RangeIndex: 500 entries, 0 to 499\n",
      "Data columns (total 8 columns):\n",
      "user_id       500 non-null int64\n",
      "age           500 non-null int64\n",
      "churn_date    38 non-null object\n",
      "city          500 non-null object\n",
      "first_name    500 non-null object\n",
      "last_name     500 non-null object\n",
      "reg_date      500 non-null object\n",
      "tariff        500 non-null object\n",
      "dtypes: int64(2), object(6)\n",
      "memory usage: 31.4+ KB\n"
     ]
    },
    {
     "data": {
      "text/plain": [
       "None"
      ]
     },
     "metadata": {},
     "output_type": "display_data"
    },
    {
     "data": {
      "text/html": [
       "<div>\n",
       "<style scoped>\n",
       "    .dataframe tbody tr th:only-of-type {\n",
       "        vertical-align: middle;\n",
       "    }\n",
       "\n",
       "    .dataframe tbody tr th {\n",
       "        vertical-align: top;\n",
       "    }\n",
       "\n",
       "    .dataframe thead th {\n",
       "        text-align: right;\n",
       "    }\n",
       "</style>\n",
       "<table border=\"1\" class=\"dataframe\">\n",
       "  <thead>\n",
       "    <tr style=\"text-align: right;\">\n",
       "      <th></th>\n",
       "      <th>user_id</th>\n",
       "      <th>age</th>\n",
       "      <th>churn_date</th>\n",
       "      <th>city</th>\n",
       "      <th>first_name</th>\n",
       "      <th>last_name</th>\n",
       "      <th>reg_date</th>\n",
       "      <th>tariff</th>\n",
       "    </tr>\n",
       "  </thead>\n",
       "  <tbody>\n",
       "    <tr>\n",
       "      <td>0</td>\n",
       "      <td>1000</td>\n",
       "      <td>52</td>\n",
       "      <td>NaN</td>\n",
       "      <td>Краснодар</td>\n",
       "      <td>Рафаил</td>\n",
       "      <td>Верещагин</td>\n",
       "      <td>2018-05-25</td>\n",
       "      <td>ultra</td>\n",
       "    </tr>\n",
       "    <tr>\n",
       "      <td>1</td>\n",
       "      <td>1001</td>\n",
       "      <td>41</td>\n",
       "      <td>NaN</td>\n",
       "      <td>Москва</td>\n",
       "      <td>Иван</td>\n",
       "      <td>Ежов</td>\n",
       "      <td>2018-11-01</td>\n",
       "      <td>smart</td>\n",
       "    </tr>\n",
       "    <tr>\n",
       "      <td>2</td>\n",
       "      <td>1002</td>\n",
       "      <td>59</td>\n",
       "      <td>NaN</td>\n",
       "      <td>Стерлитамак</td>\n",
       "      <td>Евгений</td>\n",
       "      <td>Абрамович</td>\n",
       "      <td>2018-06-17</td>\n",
       "      <td>smart</td>\n",
       "    </tr>\n",
       "    <tr>\n",
       "      <td>3</td>\n",
       "      <td>1003</td>\n",
       "      <td>23</td>\n",
       "      <td>NaN</td>\n",
       "      <td>Москва</td>\n",
       "      <td>Белла</td>\n",
       "      <td>Белякова</td>\n",
       "      <td>2018-08-17</td>\n",
       "      <td>ultra</td>\n",
       "    </tr>\n",
       "    <tr>\n",
       "      <td>4</td>\n",
       "      <td>1004</td>\n",
       "      <td>68</td>\n",
       "      <td>NaN</td>\n",
       "      <td>Новокузнецк</td>\n",
       "      <td>Татьяна</td>\n",
       "      <td>Авдеенко</td>\n",
       "      <td>2018-05-14</td>\n",
       "      <td>ultra</td>\n",
       "    </tr>\n",
       "  </tbody>\n",
       "</table>\n",
       "</div>"
      ],
      "text/plain": [
       "   user_id  age churn_date         city first_name  last_name    reg_date  \\\n",
       "0     1000   52        NaN    Краснодар     Рафаил  Верещагин  2018-05-25   \n",
       "1     1001   41        NaN       Москва       Иван       Ежов  2018-11-01   \n",
       "2     1002   59        NaN  Стерлитамак    Евгений  Абрамович  2018-06-17   \n",
       "3     1003   23        NaN       Москва      Белла   Белякова  2018-08-17   \n",
       "4     1004   68        NaN  Новокузнецк    Татьяна   Авдеенко  2018-05-14   \n",
       "\n",
       "  tariff  \n",
       "0  ultra  \n",
       "1  smart  \n",
       "2  smart  \n",
       "3  ultra  \n",
       "4  ultra  "
      ]
     },
     "execution_count": 7,
     "metadata": {},
     "output_type": "execute_result"
    }
   ],
   "source": [
    "display(users_df.info())\n",
    "users_df.head()"
   ]
  },
  {
   "cell_type": "markdown",
   "metadata": {},
   "source": [
    "**Вывод**\n",
    "\n",
    "1. Во всех колонках с датами был обноружен неверный формат даты.\n",
    "2. Нужно округлить время звонков и мегабайты интернет-трафика в большую сторону.\n",
    "3. Проверить на наличие дубликатов."
   ]
  },
  {
   "cell_type": "markdown",
   "metadata": {},
   "source": [
    "## Подготовка данных"
   ]
  },
  {
   "cell_type": "markdown",
   "metadata": {},
   "source": [
    "### Приведём данные к нужным типам"
   ]
  },
  {
   "cell_type": "code",
   "execution_count": 8,
   "metadata": {},
   "outputs": [
    {
     "data": {
      "text/plain": [
       "0"
      ]
     },
     "execution_count": 8,
     "metadata": {},
     "output_type": "execute_result"
    }
   ],
   "source": [
    "# подсчёт явных дубликатов calls_df\n",
    "calls_df.duplicated().sum()"
   ]
  },
  {
   "cell_type": "code",
   "execution_count": 9,
   "metadata": {},
   "outputs": [
    {
     "data": {
      "text/plain": [
       "0"
      ]
     },
     "execution_count": 9,
     "metadata": {},
     "output_type": "execute_result"
    }
   ],
   "source": [
    "# подсчёт явных дубликатов internet_df\n",
    "internet_df.duplicated().sum()"
   ]
  },
  {
   "cell_type": "code",
   "execution_count": 10,
   "metadata": {},
   "outputs": [
    {
     "data": {
      "text/plain": [
       "0"
      ]
     },
     "execution_count": 10,
     "metadata": {},
     "output_type": "execute_result"
    }
   ],
   "source": [
    "# подсчёт явных дубликатов messages_df\n",
    "messages_df.duplicated().sum()"
   ]
  },
  {
   "cell_type": "code",
   "execution_count": 11,
   "metadata": {},
   "outputs": [
    {
     "data": {
      "text/plain": [
       "0"
      ]
     },
     "execution_count": 11,
     "metadata": {},
     "output_type": "execute_result"
    }
   ],
   "source": [
    "# подсчёт явных дубликатов tariff_df\n",
    "tariffs_df.duplicated().sum()"
   ]
  },
  {
   "cell_type": "code",
   "execution_count": 12,
   "metadata": {},
   "outputs": [
    {
     "data": {
      "text/plain": [
       "0"
      ]
     },
     "execution_count": 12,
     "metadata": {},
     "output_type": "execute_result"
    }
   ],
   "source": [
    "# подсчёт явных дубликатов users_df\n",
    "users_df.duplicated().sum()"
   ]
  },
  {
   "cell_type": "code",
   "execution_count": 13,
   "metadata": {},
   "outputs": [],
   "source": [
    "#приведём в формат datetime\n",
    "calls_df['call_date'] = pd.to_datetime(calls_df['call_date'], format='%Y-%m-%d')\n",
    "messages_df['message_date'] = pd.to_datetime(messages_df['message_date'], format='%Y-%m-%d')\n",
    "internet_df['session_date'] = pd.to_datetime(internet_df['session_date'], format='%Y-%m-%d')\n",
    "users_df['reg_date'] = pd.to_datetime(users_df['reg_date'], format='%Y-%m-%d')\n",
    "users_df['churn_date'] = pd.to_datetime(users_df['churn_date'], format='%Y-%m-%d')"
   ]
  },
  {
   "cell_type": "code",
   "execution_count": 14,
   "metadata": {},
   "outputs": [],
   "source": [
    "#добавим столбец month\n",
    "calls_df['month'] = pd.to_datetime(calls_df['call_date']).dt.month\n",
    "messages_df['month'] = pd.to_datetime(messages_df['message_date']).dt.month\n",
    "internet_df['month'] = pd.to_datetime(internet_df['session_date']).dt.month"
   ]
  },
  {
   "cell_type": "code",
   "execution_count": 15,
   "metadata": {},
   "outputs": [],
   "source": [
    "#изменим тип данных в `user_id` на int\n",
    "messages_df['user_id'] = messages_df['user_id'].astype('int')"
   ]
  },
  {
   "cell_type": "code",
   "execution_count": 16,
   "metadata": {},
   "outputs": [],
   "source": [
    "#округлим звонки и интернет-трафик в большую сторону\n",
    "calls_df['duration'] = calls_df['duration'].apply(np.ceil).replace(0, 1)\n",
    "internet_df['mb_used'] = internet_df['mb_used'].apply(np.ceil).replace(0, 1)"
   ]
  },
  {
   "cell_type": "code",
   "execution_count": 17,
   "metadata": {},
   "outputs": [],
   "source": [
    "#в столбце users_df заменим NaN на текущее время\n",
    "users_df['churn_date'] = users_df['churn_date'].fillna(value = datetime.datetime.now())"
   ]
  },
  {
   "cell_type": "code",
   "execution_count": 18,
   "metadata": {},
   "outputs": [],
   "source": [
    "#переименуем столбец tariff_name\n",
    "users_df.set_axis(['user_id', 'age', 'churn_date', 'city', 'first_name', 'last_name', \n",
    "                   'reg_date', 'tariff_name'], axis = 'columns', inplace = True)"
   ]
  },
  {
   "cell_type": "code",
   "execution_count": 19,
   "metadata": {},
   "outputs": [],
   "source": [
    "#обьеденим столбцы `tariffs_df` и `users_df`\n",
    "table_user_tar = tariffs_df\n",
    "for df in [users_df]:\n",
    "    table_user_tar = table_user_tar.merge(df, on = ['tariff_name'], how = 'left')"
   ]
  },
  {
   "cell_type": "code",
   "execution_count": 20,
   "metadata": {},
   "outputs": [
    {
     "name": "stdout",
     "output_type": "stream",
     "text": [
      "Количество пользователей тарифа Smart: 351\n",
      "Количество пользователей тарифа Ultra: 149\n"
     ]
    }
   ],
   "source": [
    "#запишем две переменные под каждый тариф\n",
    "table_user_tar_smart = table_user_tar.query('tariff_name == \"smart\"')\n",
    "table_user_tar_ultra = table_user_tar.query('tariff_name == \"ultra\"')\n",
    "print('Количество пользователей тарифа Smart:', len(table_user_tar_smart))\n",
    "print('Количество пользователей тарифа Ultra:', len(table_user_tar_ultra))"
   ]
  },
  {
   "cell_type": "code",
   "execution_count": 21,
   "metadata": {},
   "outputs": [
    {
     "data": {
      "text/html": [
       "<div>\n",
       "<style scoped>\n",
       "    .dataframe tbody tr th:only-of-type {\n",
       "        vertical-align: middle;\n",
       "    }\n",
       "\n",
       "    .dataframe tbody tr th {\n",
       "        vertical-align: top;\n",
       "    }\n",
       "\n",
       "    .dataframe thead th {\n",
       "        text-align: right;\n",
       "    }\n",
       "</style>\n",
       "<table border=\"1\" class=\"dataframe\">\n",
       "  <thead>\n",
       "    <tr style=\"text-align: right;\">\n",
       "      <th></th>\n",
       "      <th>messages_included</th>\n",
       "      <th>mb_per_month_included</th>\n",
       "      <th>minutes_included</th>\n",
       "      <th>rub_monthly_fee</th>\n",
       "      <th>rub_per_gb</th>\n",
       "      <th>rub_per_message</th>\n",
       "      <th>rub_per_minute</th>\n",
       "      <th>tariff_name</th>\n",
       "      <th>user_id</th>\n",
       "      <th>age</th>\n",
       "      <th>churn_date</th>\n",
       "      <th>city</th>\n",
       "      <th>first_name</th>\n",
       "      <th>last_name</th>\n",
       "      <th>reg_date</th>\n",
       "      <th>id</th>\n",
       "      <th>call_date</th>\n",
       "      <th>duration</th>\n",
       "      <th>month</th>\n",
       "    </tr>\n",
       "  </thead>\n",
       "  <tbody>\n",
       "    <tr>\n",
       "      <td>81504</td>\n",
       "      <td>50</td>\n",
       "      <td>15360</td>\n",
       "      <td>500</td>\n",
       "      <td>550</td>\n",
       "      <td>200</td>\n",
       "      <td>3</td>\n",
       "      <td>3</td>\n",
       "      <td>smart</td>\n",
       "      <td>1301</td>\n",
       "      <td>26</td>\n",
       "      <td>2021-12-12 05:20:17.782976</td>\n",
       "      <td>Махачкала</td>\n",
       "      <td>Наида</td>\n",
       "      <td>Авраменко</td>\n",
       "      <td>2018-09-27</td>\n",
       "      <td>1301_142</td>\n",
       "      <td>2018-11-10</td>\n",
       "      <td>12.0</td>\n",
       "      <td>11.0</td>\n",
       "    </tr>\n",
       "    <tr>\n",
       "      <td>36921</td>\n",
       "      <td>50</td>\n",
       "      <td>15360</td>\n",
       "      <td>500</td>\n",
       "      <td>550</td>\n",
       "      <td>200</td>\n",
       "      <td>3</td>\n",
       "      <td>3</td>\n",
       "      <td>smart</td>\n",
       "      <td>1135</td>\n",
       "      <td>64</td>\n",
       "      <td>2021-12-12 05:20:17.782976</td>\n",
       "      <td>Архангельск</td>\n",
       "      <td>Милена</td>\n",
       "      <td>Воронина</td>\n",
       "      <td>2018-01-29</td>\n",
       "      <td>1135_297</td>\n",
       "      <td>2018-03-26</td>\n",
       "      <td>1.0</td>\n",
       "      <td>3.0</td>\n",
       "    </tr>\n",
       "    <tr>\n",
       "      <td>178539</td>\n",
       "      <td>1000</td>\n",
       "      <td>30720</td>\n",
       "      <td>3000</td>\n",
       "      <td>1950</td>\n",
       "      <td>150</td>\n",
       "      <td>1</td>\n",
       "      <td>1</td>\n",
       "      <td>ultra</td>\n",
       "      <td>1363</td>\n",
       "      <td>69</td>\n",
       "      <td>2021-12-12 05:20:17.782976</td>\n",
       "      <td>Нижний Тагил</td>\n",
       "      <td>Оксана</td>\n",
       "      <td>Болдырева</td>\n",
       "      <td>2018-03-04</td>\n",
       "      <td>1363_66</td>\n",
       "      <td>2018-12-27</td>\n",
       "      <td>1.0</td>\n",
       "      <td>12.0</td>\n",
       "    </tr>\n",
       "    <tr>\n",
       "      <td>157431</td>\n",
       "      <td>1000</td>\n",
       "      <td>30720</td>\n",
       "      <td>3000</td>\n",
       "      <td>1950</td>\n",
       "      <td>150</td>\n",
       "      <td>1</td>\n",
       "      <td>1</td>\n",
       "      <td>ultra</td>\n",
       "      <td>1208</td>\n",
       "      <td>69</td>\n",
       "      <td>2021-12-12 05:20:17.782976</td>\n",
       "      <td>Пермь</td>\n",
       "      <td>Ева</td>\n",
       "      <td>Сахарова</td>\n",
       "      <td>2018-03-24</td>\n",
       "      <td>1208_549</td>\n",
       "      <td>2018-07-11</td>\n",
       "      <td>20.0</td>\n",
       "      <td>7.0</td>\n",
       "    </tr>\n",
       "    <tr>\n",
       "      <td>28187</td>\n",
       "      <td>50</td>\n",
       "      <td>15360</td>\n",
       "      <td>500</td>\n",
       "      <td>550</td>\n",
       "      <td>200</td>\n",
       "      <td>3</td>\n",
       "      <td>3</td>\n",
       "      <td>smart</td>\n",
       "      <td>1109</td>\n",
       "      <td>64</td>\n",
       "      <td>2021-12-12 05:20:17.782976</td>\n",
       "      <td>Санкт-Петербург</td>\n",
       "      <td>Екатерина</td>\n",
       "      <td>Андрющенко</td>\n",
       "      <td>2018-02-23</td>\n",
       "      <td>1109_291</td>\n",
       "      <td>2018-10-28</td>\n",
       "      <td>18.0</td>\n",
       "      <td>10.0</td>\n",
       "    </tr>\n",
       "  </tbody>\n",
       "</table>\n",
       "</div>"
      ],
      "text/plain": [
       "        messages_included  mb_per_month_included  minutes_included  \\\n",
       "81504                  50                  15360               500   \n",
       "36921                  50                  15360               500   \n",
       "178539               1000                  30720              3000   \n",
       "157431               1000                  30720              3000   \n",
       "28187                  50                  15360               500   \n",
       "\n",
       "        rub_monthly_fee  rub_per_gb  rub_per_message  rub_per_minute  \\\n",
       "81504               550         200                3               3   \n",
       "36921               550         200                3               3   \n",
       "178539             1950         150                1               1   \n",
       "157431             1950         150                1               1   \n",
       "28187               550         200                3               3   \n",
       "\n",
       "       tariff_name  user_id  age                 churn_date             city  \\\n",
       "81504        smart     1301   26 2021-12-12 05:20:17.782976        Махачкала   \n",
       "36921        smart     1135   64 2021-12-12 05:20:17.782976      Архангельск   \n",
       "178539       ultra     1363   69 2021-12-12 05:20:17.782976     Нижний Тагил   \n",
       "157431       ultra     1208   69 2021-12-12 05:20:17.782976            Пермь   \n",
       "28187        smart     1109   64 2021-12-12 05:20:17.782976  Санкт-Петербург   \n",
       "\n",
       "       first_name   last_name   reg_date        id  call_date  duration  month  \n",
       "81504       Наида   Авраменко 2018-09-27  1301_142 2018-11-10      12.0   11.0  \n",
       "36921      Милена    Воронина 2018-01-29  1135_297 2018-03-26       1.0    3.0  \n",
       "178539     Оксана   Болдырева 2018-03-04   1363_66 2018-12-27       1.0   12.0  \n",
       "157431        Ева    Сахарова 2018-03-24  1208_549 2018-07-11      20.0    7.0  \n",
       "28187   Екатерина  Андрющенко 2018-02-23  1109_291 2018-10-28      18.0   10.0  "
      ]
     },
     "execution_count": 21,
     "metadata": {},
     "output_type": "execute_result"
    }
   ],
   "source": [
    "#обьеденим таблицы table_user_tar и calls_df\n",
    "user_call = table_user_tar .merge(calls_df, on = ['user_id'], how = 'left')\n",
    "pd.set_option('display.max_columns', None)\n",
    "user_call.sample(5)"
   ]
  },
  {
   "cell_type": "markdown",
   "metadata": {},
   "source": [
    "### Сохраним сводную таблицу пользователей с количеством звонков и суммой минут за месяц"
   ]
  },
  {
   "cell_type": "code",
   "execution_count": 22,
   "metadata": {},
   "outputs": [],
   "source": [
    "user_call_sum = user_call.pivot_table(index=['user_id', 'month'], values='duration', \n",
    "                                      aggfunc=['count', 'sum'])"
   ]
  },
  {
   "cell_type": "markdown",
   "metadata": {},
   "source": [
    "Проверим результат"
   ]
  },
  {
   "cell_type": "code",
   "execution_count": 23,
   "metadata": {},
   "outputs": [
    {
     "data": {
      "text/html": [
       "<div>\n",
       "<style scoped>\n",
       "    .dataframe tbody tr th:only-of-type {\n",
       "        vertical-align: middle;\n",
       "    }\n",
       "\n",
       "    .dataframe tbody tr th {\n",
       "        vertical-align: top;\n",
       "    }\n",
       "\n",
       "    .dataframe thead tr th {\n",
       "        text-align: left;\n",
       "    }\n",
       "\n",
       "    .dataframe thead tr:last-of-type th {\n",
       "        text-align: right;\n",
       "    }\n",
       "</style>\n",
       "<table border=\"1\" class=\"dataframe\">\n",
       "  <thead>\n",
       "    <tr>\n",
       "      <th></th>\n",
       "      <th></th>\n",
       "      <th>count</th>\n",
       "      <th>sum</th>\n",
       "    </tr>\n",
       "    <tr>\n",
       "      <th></th>\n",
       "      <th></th>\n",
       "      <th>duration</th>\n",
       "      <th>duration</th>\n",
       "    </tr>\n",
       "    <tr>\n",
       "      <th>user_id</th>\n",
       "      <th>month</th>\n",
       "      <th></th>\n",
       "      <th></th>\n",
       "    </tr>\n",
       "  </thead>\n",
       "  <tbody>\n",
       "    <tr>\n",
       "      <td>1380</td>\n",
       "      <td>6.0</td>\n",
       "      <td>106</td>\n",
       "      <td>841.0</td>\n",
       "    </tr>\n",
       "    <tr>\n",
       "      <td>1246</td>\n",
       "      <td>12.0</td>\n",
       "      <td>57</td>\n",
       "      <td>368.0</td>\n",
       "    </tr>\n",
       "    <tr>\n",
       "      <td>1228</td>\n",
       "      <td>8.0</td>\n",
       "      <td>62</td>\n",
       "      <td>494.0</td>\n",
       "    </tr>\n",
       "    <tr>\n",
       "      <td>1071</td>\n",
       "      <td>6.0</td>\n",
       "      <td>46</td>\n",
       "      <td>324.0</td>\n",
       "    </tr>\n",
       "    <tr>\n",
       "      <td>1028</td>\n",
       "      <td>10.0</td>\n",
       "      <td>138</td>\n",
       "      <td>985.0</td>\n",
       "    </tr>\n",
       "    <tr>\n",
       "      <td>1391</td>\n",
       "      <td>9.0</td>\n",
       "      <td>111</td>\n",
       "      <td>865.0</td>\n",
       "    </tr>\n",
       "    <tr>\n",
       "      <td>1370</td>\n",
       "      <td>5.0</td>\n",
       "      <td>25</td>\n",
       "      <td>213.0</td>\n",
       "    </tr>\n",
       "    <tr>\n",
       "      <td>1253</td>\n",
       "      <td>9.0</td>\n",
       "      <td>27</td>\n",
       "      <td>214.0</td>\n",
       "    </tr>\n",
       "    <tr>\n",
       "      <td>1197</td>\n",
       "      <td>10.0</td>\n",
       "      <td>70</td>\n",
       "      <td>550.0</td>\n",
       "    </tr>\n",
       "    <tr>\n",
       "      <td>1318</td>\n",
       "      <td>4.0</td>\n",
       "      <td>81</td>\n",
       "      <td>602.0</td>\n",
       "    </tr>\n",
       "  </tbody>\n",
       "</table>\n",
       "</div>"
      ],
      "text/plain": [
       "                 count      sum\n",
       "              duration duration\n",
       "user_id month                  \n",
       "1380    6.0        106    841.0\n",
       "1246    12.0        57    368.0\n",
       "1228    8.0         62    494.0\n",
       "1071    6.0         46    324.0\n",
       "1028    10.0       138    985.0\n",
       "1391    9.0        111    865.0\n",
       "1370    5.0         25    213.0\n",
       "1253    9.0         27    214.0\n",
       "1197    10.0        70    550.0\n",
       "1318    4.0         81    602.0"
      ]
     },
     "execution_count": 23,
     "metadata": {},
     "output_type": "execute_result"
    }
   ],
   "source": [
    "user_call_sum.sample(10)"
   ]
  },
  {
   "cell_type": "code",
   "execution_count": 24,
   "metadata": {},
   "outputs": [
    {
     "data": {
      "text/html": [
       "<div>\n",
       "<style scoped>\n",
       "    .dataframe tbody tr th:only-of-type {\n",
       "        vertical-align: middle;\n",
       "    }\n",
       "\n",
       "    .dataframe tbody tr th {\n",
       "        vertical-align: top;\n",
       "    }\n",
       "\n",
       "    .dataframe thead th {\n",
       "        text-align: right;\n",
       "    }\n",
       "</style>\n",
       "<table border=\"1\" class=\"dataframe\">\n",
       "  <thead>\n",
       "    <tr style=\"text-align: right;\">\n",
       "      <th></th>\n",
       "      <th></th>\n",
       "      <th>calls</th>\n",
       "      <th>minutes</th>\n",
       "    </tr>\n",
       "    <tr>\n",
       "      <th>user_id</th>\n",
       "      <th>call_date</th>\n",
       "      <th></th>\n",
       "      <th></th>\n",
       "    </tr>\n",
       "  </thead>\n",
       "  <tbody>\n",
       "    <tr>\n",
       "      <td rowspan=\"5\" valign=\"top\">1000</td>\n",
       "      <td>2018-05-25</td>\n",
       "      <td>1</td>\n",
       "      <td>1.0</td>\n",
       "    </tr>\n",
       "    <tr>\n",
       "      <td>2018-05-26</td>\n",
       "      <td>6</td>\n",
       "      <td>50.0</td>\n",
       "    </tr>\n",
       "    <tr>\n",
       "      <td>2018-05-27</td>\n",
       "      <td>1</td>\n",
       "      <td>4.0</td>\n",
       "    </tr>\n",
       "    <tr>\n",
       "      <td>2018-05-28</td>\n",
       "      <td>4</td>\n",
       "      <td>30.0</td>\n",
       "    </tr>\n",
       "    <tr>\n",
       "      <td>2018-05-29</td>\n",
       "      <td>2</td>\n",
       "      <td>13.0</td>\n",
       "    </tr>\n",
       "  </tbody>\n",
       "</table>\n",
       "</div>"
      ],
      "text/plain": [
       "                    calls  minutes\n",
       "user_id call_date                 \n",
       "1000    2018-05-25      1      1.0\n",
       "        2018-05-26      6     50.0\n",
       "        2018-05-27      1      4.0\n",
       "        2018-05-28      4     30.0\n",
       "        2018-05-29      2     13.0"
      ]
     },
     "execution_count": 24,
     "metadata": {},
     "output_type": "execute_result"
    }
   ],
   "source": [
    "calls_per_month = calls_df.groupby(['user_id', 'call_date']).agg({'duration': ['count', 'sum']})\n",
    "calls_per_month.columns = ['calls', 'minutes']\n",
    "calls_per_month.head()"
   ]
  },
  {
   "cell_type": "markdown",
   "metadata": {},
   "source": [
    "Объеденим таблицу user_call_sum и user_call"
   ]
  },
  {
   "cell_type": "code",
   "execution_count": 25,
   "metadata": {},
   "outputs": [],
   "source": [
    "table_user_call = user_call_sum\n",
    "table_user_call = table_user_call.merge(user_call, on=['user_id', 'month'], how='outer')"
   ]
  },
  {
   "cell_type": "markdown",
   "metadata": {},
   "source": [
    "Проверим результат"
   ]
  },
  {
   "cell_type": "code",
   "execution_count": 26,
   "metadata": {},
   "outputs": [
    {
     "data": {
      "text/html": [
       "<div>\n",
       "<style scoped>\n",
       "    .dataframe tbody tr th:only-of-type {\n",
       "        vertical-align: middle;\n",
       "    }\n",
       "\n",
       "    .dataframe tbody tr th {\n",
       "        vertical-align: top;\n",
       "    }\n",
       "\n",
       "    .dataframe thead th {\n",
       "        text-align: right;\n",
       "    }\n",
       "</style>\n",
       "<table border=\"1\" class=\"dataframe\">\n",
       "  <thead>\n",
       "    <tr style=\"text-align: right;\">\n",
       "      <th></th>\n",
       "      <th>user_id</th>\n",
       "      <th>month</th>\n",
       "      <th>(count, duration)</th>\n",
       "      <th>(sum, duration)</th>\n",
       "      <th>messages_included</th>\n",
       "      <th>mb_per_month_included</th>\n",
       "      <th>minutes_included</th>\n",
       "      <th>rub_monthly_fee</th>\n",
       "      <th>rub_per_gb</th>\n",
       "      <th>rub_per_message</th>\n",
       "      <th>rub_per_minute</th>\n",
       "      <th>tariff_name</th>\n",
       "      <th>age</th>\n",
       "      <th>churn_date</th>\n",
       "      <th>city</th>\n",
       "      <th>first_name</th>\n",
       "      <th>last_name</th>\n",
       "      <th>reg_date</th>\n",
       "      <th>id</th>\n",
       "      <th>call_date</th>\n",
       "      <th>duration</th>\n",
       "    </tr>\n",
       "  </thead>\n",
       "  <tbody>\n",
       "    <tr>\n",
       "      <td>175643</td>\n",
       "      <td>1433</td>\n",
       "      <td>8.0</td>\n",
       "      <td>78.0</td>\n",
       "      <td>540.0</td>\n",
       "      <td>50</td>\n",
       "      <td>15360</td>\n",
       "      <td>500</td>\n",
       "      <td>550</td>\n",
       "      <td>200</td>\n",
       "      <td>3</td>\n",
       "      <td>3</td>\n",
       "      <td>smart</td>\n",
       "      <td>71</td>\n",
       "      <td>2021-12-12 05:20:17.782976</td>\n",
       "      <td>Подольск</td>\n",
       "      <td>Клариса</td>\n",
       "      <td>Алёшкова</td>\n",
       "      <td>2018-01-05</td>\n",
       "      <td>1433_426</td>\n",
       "      <td>2018-08-19</td>\n",
       "      <td>9.0</td>\n",
       "    </tr>\n",
       "    <tr>\n",
       "      <td>8729</td>\n",
       "      <td>1021</td>\n",
       "      <td>12.0</td>\n",
       "      <td>155.0</td>\n",
       "      <td>995.0</td>\n",
       "      <td>1000</td>\n",
       "      <td>30720</td>\n",
       "      <td>3000</td>\n",
       "      <td>1950</td>\n",
       "      <td>150</td>\n",
       "      <td>1</td>\n",
       "      <td>1</td>\n",
       "      <td>ultra</td>\n",
       "      <td>61</td>\n",
       "      <td>2021-12-12 05:20:17.782976</td>\n",
       "      <td>Краснодар</td>\n",
       "      <td>Святослав</td>\n",
       "      <td>Тихонов</td>\n",
       "      <td>2018-04-26</td>\n",
       "      <td>1021_1030</td>\n",
       "      <td>2018-12-31</td>\n",
       "      <td>1.0</td>\n",
       "    </tr>\n",
       "    <tr>\n",
       "      <td>88891</td>\n",
       "      <td>1222</td>\n",
       "      <td>12.0</td>\n",
       "      <td>184.0</td>\n",
       "      <td>1299.0</td>\n",
       "      <td>1000</td>\n",
       "      <td>30720</td>\n",
       "      <td>3000</td>\n",
       "      <td>1950</td>\n",
       "      <td>150</td>\n",
       "      <td>1</td>\n",
       "      <td>1</td>\n",
       "      <td>ultra</td>\n",
       "      <td>44</td>\n",
       "      <td>2021-12-12 05:20:17.782976</td>\n",
       "      <td>Уфа</td>\n",
       "      <td>Пётр</td>\n",
       "      <td>Булгаков</td>\n",
       "      <td>2018-08-30</td>\n",
       "      <td>1222_311</td>\n",
       "      <td>2018-12-28</td>\n",
       "      <td>5.0</td>\n",
       "    </tr>\n",
       "    <tr>\n",
       "      <td>79711</td>\n",
       "      <td>1198</td>\n",
       "      <td>12.0</td>\n",
       "      <td>66.0</td>\n",
       "      <td>486.0</td>\n",
       "      <td>50</td>\n",
       "      <td>15360</td>\n",
       "      <td>500</td>\n",
       "      <td>550</td>\n",
       "      <td>200</td>\n",
       "      <td>3</td>\n",
       "      <td>3</td>\n",
       "      <td>smart</td>\n",
       "      <td>26</td>\n",
       "      <td>2021-12-12 05:20:17.782976</td>\n",
       "      <td>Ярославль</td>\n",
       "      <td>Эдуард</td>\n",
       "      <td>Швецов</td>\n",
       "      <td>2018-08-15</td>\n",
       "      <td>1198_155</td>\n",
       "      <td>2018-12-27</td>\n",
       "      <td>11.0</td>\n",
       "    </tr>\n",
       "    <tr>\n",
       "      <td>27013</td>\n",
       "      <td>1066</td>\n",
       "      <td>11.0</td>\n",
       "      <td>90.0</td>\n",
       "      <td>696.0</td>\n",
       "      <td>50</td>\n",
       "      <td>15360</td>\n",
       "      <td>500</td>\n",
       "      <td>550</td>\n",
       "      <td>200</td>\n",
       "      <td>3</td>\n",
       "      <td>3</td>\n",
       "      <td>smart</td>\n",
       "      <td>47</td>\n",
       "      <td>2021-12-12 05:20:17.782976</td>\n",
       "      <td>Астрахань</td>\n",
       "      <td>Исак</td>\n",
       "      <td>Малахов</td>\n",
       "      <td>2018-06-24</td>\n",
       "      <td>1066_445</td>\n",
       "      <td>2018-11-25</td>\n",
       "      <td>10.0</td>\n",
       "    </tr>\n",
       "    <tr>\n",
       "      <td>40884</td>\n",
       "      <td>1100</td>\n",
       "      <td>11.0</td>\n",
       "      <td>75.0</td>\n",
       "      <td>544.0</td>\n",
       "      <td>50</td>\n",
       "      <td>15360</td>\n",
       "      <td>500</td>\n",
       "      <td>550</td>\n",
       "      <td>200</td>\n",
       "      <td>3</td>\n",
       "      <td>3</td>\n",
       "      <td>smart</td>\n",
       "      <td>58</td>\n",
       "      <td>2021-12-12 05:20:17.782976</td>\n",
       "      <td>Санкт-Петербург</td>\n",
       "      <td>Руслан</td>\n",
       "      <td>Красильников</td>\n",
       "      <td>2018-07-02</td>\n",
       "      <td>1100_454</td>\n",
       "      <td>2018-11-05</td>\n",
       "      <td>2.0</td>\n",
       "    </tr>\n",
       "    <tr>\n",
       "      <td>149721</td>\n",
       "      <td>1377</td>\n",
       "      <td>6.0</td>\n",
       "      <td>176.0</td>\n",
       "      <td>1325.0</td>\n",
       "      <td>1000</td>\n",
       "      <td>30720</td>\n",
       "      <td>3000</td>\n",
       "      <td>1950</td>\n",
       "      <td>150</td>\n",
       "      <td>1</td>\n",
       "      <td>1</td>\n",
       "      <td>ultra</td>\n",
       "      <td>59</td>\n",
       "      <td>2021-12-12 05:20:17.782976</td>\n",
       "      <td>Брянск</td>\n",
       "      <td>Альфред</td>\n",
       "      <td>Семин</td>\n",
       "      <td>2018-02-25</td>\n",
       "      <td>1377_357</td>\n",
       "      <td>2018-06-22</td>\n",
       "      <td>11.0</td>\n",
       "    </tr>\n",
       "    <tr>\n",
       "      <td>200120</td>\n",
       "      <td>1492</td>\n",
       "      <td>11.0</td>\n",
       "      <td>81.0</td>\n",
       "      <td>527.0</td>\n",
       "      <td>50</td>\n",
       "      <td>15360</td>\n",
       "      <td>500</td>\n",
       "      <td>550</td>\n",
       "      <td>200</td>\n",
       "      <td>3</td>\n",
       "      <td>3</td>\n",
       "      <td>smart</td>\n",
       "      <td>63</td>\n",
       "      <td>2021-12-12 05:20:17.782976</td>\n",
       "      <td>Санкт-Петербург</td>\n",
       "      <td>Руслана</td>\n",
       "      <td>Артёменко</td>\n",
       "      <td>2018-06-26</td>\n",
       "      <td>1492_498</td>\n",
       "      <td>2018-11-14</td>\n",
       "      <td>10.0</td>\n",
       "    </tr>\n",
       "    <tr>\n",
       "      <td>23499</td>\n",
       "      <td>1059</td>\n",
       "      <td>10.0</td>\n",
       "      <td>74.0</td>\n",
       "      <td>583.0</td>\n",
       "      <td>50</td>\n",
       "      <td>15360</td>\n",
       "      <td>500</td>\n",
       "      <td>550</td>\n",
       "      <td>200</td>\n",
       "      <td>3</td>\n",
       "      <td>3</td>\n",
       "      <td>smart</td>\n",
       "      <td>47</td>\n",
       "      <td>2021-12-12 05:20:17.782976</td>\n",
       "      <td>Курск</td>\n",
       "      <td>Глеб</td>\n",
       "      <td>Свиридов</td>\n",
       "      <td>2018-04-14</td>\n",
       "      <td>1059_587</td>\n",
       "      <td>2018-10-25</td>\n",
       "      <td>1.0</td>\n",
       "    </tr>\n",
       "    <tr>\n",
       "      <td>178237</td>\n",
       "      <td>1443</td>\n",
       "      <td>10.0</td>\n",
       "      <td>116.0</td>\n",
       "      <td>983.0</td>\n",
       "      <td>50</td>\n",
       "      <td>15360</td>\n",
       "      <td>500</td>\n",
       "      <td>550</td>\n",
       "      <td>200</td>\n",
       "      <td>3</td>\n",
       "      <td>3</td>\n",
       "      <td>smart</td>\n",
       "      <td>21</td>\n",
       "      <td>2021-12-12 05:20:17.782976</td>\n",
       "      <td>Казань</td>\n",
       "      <td>Иван</td>\n",
       "      <td>Афинин</td>\n",
       "      <td>2018-09-17</td>\n",
       "      <td>1443_238</td>\n",
       "      <td>2018-10-22</td>\n",
       "      <td>1.0</td>\n",
       "    </tr>\n",
       "  </tbody>\n",
       "</table>\n",
       "</div>"
      ],
      "text/plain": [
       "        user_id  month  (count, duration)  (sum, duration)  messages_included  \\\n",
       "175643     1433    8.0               78.0            540.0                 50   \n",
       "8729       1021   12.0              155.0            995.0               1000   \n",
       "88891      1222   12.0              184.0           1299.0               1000   \n",
       "79711      1198   12.0               66.0            486.0                 50   \n",
       "27013      1066   11.0               90.0            696.0                 50   \n",
       "40884      1100   11.0               75.0            544.0                 50   \n",
       "149721     1377    6.0              176.0           1325.0               1000   \n",
       "200120     1492   11.0               81.0            527.0                 50   \n",
       "23499      1059   10.0               74.0            583.0                 50   \n",
       "178237     1443   10.0              116.0            983.0                 50   \n",
       "\n",
       "        mb_per_month_included  minutes_included  rub_monthly_fee  rub_per_gb  \\\n",
       "175643                  15360               500              550         200   \n",
       "8729                    30720              3000             1950         150   \n",
       "88891                   30720              3000             1950         150   \n",
       "79711                   15360               500              550         200   \n",
       "27013                   15360               500              550         200   \n",
       "40884                   15360               500              550         200   \n",
       "149721                  30720              3000             1950         150   \n",
       "200120                  15360               500              550         200   \n",
       "23499                   15360               500              550         200   \n",
       "178237                  15360               500              550         200   \n",
       "\n",
       "        rub_per_message  rub_per_minute tariff_name  age  \\\n",
       "175643                3               3       smart   71   \n",
       "8729                  1               1       ultra   61   \n",
       "88891                 1               1       ultra   44   \n",
       "79711                 3               3       smart   26   \n",
       "27013                 3               3       smart   47   \n",
       "40884                 3               3       smart   58   \n",
       "149721                1               1       ultra   59   \n",
       "200120                3               3       smart   63   \n",
       "23499                 3               3       smart   47   \n",
       "178237                3               3       smart   21   \n",
       "\n",
       "                       churn_date             city first_name     last_name  \\\n",
       "175643 2021-12-12 05:20:17.782976         Подольск    Клариса      Алёшкова   \n",
       "8729   2021-12-12 05:20:17.782976        Краснодар  Святослав       Тихонов   \n",
       "88891  2021-12-12 05:20:17.782976              Уфа       Пётр      Булгаков   \n",
       "79711  2021-12-12 05:20:17.782976        Ярославль     Эдуард        Швецов   \n",
       "27013  2021-12-12 05:20:17.782976        Астрахань       Исак       Малахов   \n",
       "40884  2021-12-12 05:20:17.782976  Санкт-Петербург     Руслан  Красильников   \n",
       "149721 2021-12-12 05:20:17.782976           Брянск    Альфред         Семин   \n",
       "200120 2021-12-12 05:20:17.782976  Санкт-Петербург    Руслана     Артёменко   \n",
       "23499  2021-12-12 05:20:17.782976            Курск       Глеб      Свиридов   \n",
       "178237 2021-12-12 05:20:17.782976           Казань       Иван        Афинин   \n",
       "\n",
       "         reg_date         id  call_date  duration  \n",
       "175643 2018-01-05   1433_426 2018-08-19       9.0  \n",
       "8729   2018-04-26  1021_1030 2018-12-31       1.0  \n",
       "88891  2018-08-30   1222_311 2018-12-28       5.0  \n",
       "79711  2018-08-15   1198_155 2018-12-27      11.0  \n",
       "27013  2018-06-24   1066_445 2018-11-25      10.0  \n",
       "40884  2018-07-02   1100_454 2018-11-05       2.0  \n",
       "149721 2018-02-25   1377_357 2018-06-22      11.0  \n",
       "200120 2018-06-26   1492_498 2018-11-14      10.0  \n",
       "23499  2018-04-14   1059_587 2018-10-25       1.0  \n",
       "178237 2018-09-17   1443_238 2018-10-22       1.0  "
      ]
     },
     "execution_count": 26,
     "metadata": {},
     "output_type": "execute_result"
    }
   ],
   "source": [
    "table_user_call.sample(10)"
   ]
  },
  {
   "cell_type": "markdown",
   "metadata": {},
   "source": [
    "Создадим сводную таблицу `pivot_call` с данными о тарифах и статистике звонков"
   ]
  },
  {
   "cell_type": "code",
   "execution_count": 27,
   "metadata": {},
   "outputs": [
    {
     "data": {
      "text/html": [
       "<div>\n",
       "<style scoped>\n",
       "    .dataframe tbody tr th:only-of-type {\n",
       "        vertical-align: middle;\n",
       "    }\n",
       "\n",
       "    .dataframe tbody tr th {\n",
       "        vertical-align: top;\n",
       "    }\n",
       "\n",
       "    .dataframe thead tr th {\n",
       "        text-align: left;\n",
       "    }\n",
       "\n",
       "    .dataframe thead tr:last-of-type th {\n",
       "        text-align: right;\n",
       "    }\n",
       "</style>\n",
       "<table border=\"1\" class=\"dataframe\">\n",
       "  <thead>\n",
       "    <tr>\n",
       "      <th></th>\n",
       "      <th></th>\n",
       "      <th></th>\n",
       "      <th></th>\n",
       "      <th></th>\n",
       "      <th></th>\n",
       "      <th></th>\n",
       "      <th></th>\n",
       "      <th></th>\n",
       "      <th></th>\n",
       "      <th></th>\n",
       "      <th></th>\n",
       "      <th>count</th>\n",
       "      <th>sum</th>\n",
       "    </tr>\n",
       "    <tr>\n",
       "      <th></th>\n",
       "      <th></th>\n",
       "      <th></th>\n",
       "      <th></th>\n",
       "      <th></th>\n",
       "      <th></th>\n",
       "      <th></th>\n",
       "      <th></th>\n",
       "      <th></th>\n",
       "      <th></th>\n",
       "      <th></th>\n",
       "      <th></th>\n",
       "      <th>duration</th>\n",
       "      <th>duration</th>\n",
       "    </tr>\n",
       "    <tr>\n",
       "      <th>user_id</th>\n",
       "      <th>age</th>\n",
       "      <th>city</th>\n",
       "      <th>month</th>\n",
       "      <th>tariff_name</th>\n",
       "      <th>rub_monthly_fee</th>\n",
       "      <th>minutes_included</th>\n",
       "      <th>messages_included</th>\n",
       "      <th>rub_per_message</th>\n",
       "      <th>rub_per_gb</th>\n",
       "      <th>rub_per_minute</th>\n",
       "      <th>mb_per_month_included</th>\n",
       "      <th></th>\n",
       "      <th></th>\n",
       "    </tr>\n",
       "  </thead>\n",
       "  <tbody>\n",
       "    <tr>\n",
       "      <td rowspan=\"5\" valign=\"top\">1000</td>\n",
       "      <td rowspan=\"5\" valign=\"top\">52</td>\n",
       "      <td rowspan=\"5\" valign=\"top\">Краснодар</td>\n",
       "      <td>5.0</td>\n",
       "      <td>ultra</td>\n",
       "      <td>1950</td>\n",
       "      <td>3000</td>\n",
       "      <td>1000</td>\n",
       "      <td>1</td>\n",
       "      <td>150</td>\n",
       "      <td>1</td>\n",
       "      <td>30720</td>\n",
       "      <td>22</td>\n",
       "      <td>164.0</td>\n",
       "    </tr>\n",
       "    <tr>\n",
       "      <td>6.0</td>\n",
       "      <td>ultra</td>\n",
       "      <td>1950</td>\n",
       "      <td>3000</td>\n",
       "      <td>1000</td>\n",
       "      <td>1</td>\n",
       "      <td>150</td>\n",
       "      <td>1</td>\n",
       "      <td>30720</td>\n",
       "      <td>43</td>\n",
       "      <td>187.0</td>\n",
       "    </tr>\n",
       "    <tr>\n",
       "      <td>7.0</td>\n",
       "      <td>ultra</td>\n",
       "      <td>1950</td>\n",
       "      <td>3000</td>\n",
       "      <td>1000</td>\n",
       "      <td>1</td>\n",
       "      <td>150</td>\n",
       "      <td>1</td>\n",
       "      <td>30720</td>\n",
       "      <td>47</td>\n",
       "      <td>346.0</td>\n",
       "    </tr>\n",
       "    <tr>\n",
       "      <td>8.0</td>\n",
       "      <td>ultra</td>\n",
       "      <td>1950</td>\n",
       "      <td>3000</td>\n",
       "      <td>1000</td>\n",
       "      <td>1</td>\n",
       "      <td>150</td>\n",
       "      <td>1</td>\n",
       "      <td>30720</td>\n",
       "      <td>52</td>\n",
       "      <td>418.0</td>\n",
       "    </tr>\n",
       "    <tr>\n",
       "      <td>9.0</td>\n",
       "      <td>ultra</td>\n",
       "      <td>1950</td>\n",
       "      <td>3000</td>\n",
       "      <td>1000</td>\n",
       "      <td>1</td>\n",
       "      <td>150</td>\n",
       "      <td>1</td>\n",
       "      <td>30720</td>\n",
       "      <td>58</td>\n",
       "      <td>478.0</td>\n",
       "    </tr>\n",
       "    <tr>\n",
       "      <td>...</td>\n",
       "      <td>...</td>\n",
       "      <td>...</td>\n",
       "      <td>...</td>\n",
       "      <td>...</td>\n",
       "      <td>...</td>\n",
       "      <td>...</td>\n",
       "      <td>...</td>\n",
       "      <td>...</td>\n",
       "      <td>...</td>\n",
       "      <td>...</td>\n",
       "      <td>...</td>\n",
       "      <td>...</td>\n",
       "      <td>...</td>\n",
       "    </tr>\n",
       "    <tr>\n",
       "      <td>1498</td>\n",
       "      <td>68</td>\n",
       "      <td>Владикавказ</td>\n",
       "      <td>10.0</td>\n",
       "      <td>smart</td>\n",
       "      <td>550</td>\n",
       "      <td>500</td>\n",
       "      <td>50</td>\n",
       "      <td>3</td>\n",
       "      <td>200</td>\n",
       "      <td>3</td>\n",
       "      <td>15360</td>\n",
       "      <td>41</td>\n",
       "      <td>258.0</td>\n",
       "    </tr>\n",
       "    <tr>\n",
       "      <td rowspan=\"4\" valign=\"top\">1499</td>\n",
       "      <td rowspan=\"4\" valign=\"top\">35</td>\n",
       "      <td rowspan=\"4\" valign=\"top\">Пермь</td>\n",
       "      <td>9.0</td>\n",
       "      <td>smart</td>\n",
       "      <td>550</td>\n",
       "      <td>500</td>\n",
       "      <td>50</td>\n",
       "      <td>3</td>\n",
       "      <td>200</td>\n",
       "      <td>3</td>\n",
       "      <td>15360</td>\n",
       "      <td>9</td>\n",
       "      <td>71.0</td>\n",
       "    </tr>\n",
       "    <tr>\n",
       "      <td>10.0</td>\n",
       "      <td>smart</td>\n",
       "      <td>550</td>\n",
       "      <td>500</td>\n",
       "      <td>50</td>\n",
       "      <td>3</td>\n",
       "      <td>200</td>\n",
       "      <td>3</td>\n",
       "      <td>15360</td>\n",
       "      <td>68</td>\n",
       "      <td>473.0</td>\n",
       "    </tr>\n",
       "    <tr>\n",
       "      <td>11.0</td>\n",
       "      <td>smart</td>\n",
       "      <td>550</td>\n",
       "      <td>500</td>\n",
       "      <td>50</td>\n",
       "      <td>3</td>\n",
       "      <td>200</td>\n",
       "      <td>3</td>\n",
       "      <td>15360</td>\n",
       "      <td>74</td>\n",
       "      <td>624.0</td>\n",
       "    </tr>\n",
       "    <tr>\n",
       "      <td>12.0</td>\n",
       "      <td>smart</td>\n",
       "      <td>550</td>\n",
       "      <td>500</td>\n",
       "      <td>50</td>\n",
       "      <td>3</td>\n",
       "      <td>200</td>\n",
       "      <td>3</td>\n",
       "      <td>15360</td>\n",
       "      <td>69</td>\n",
       "      <td>505.0</td>\n",
       "    </tr>\n",
       "  </tbody>\n",
       "</table>\n",
       "<p>3174 rows × 2 columns</p>\n",
       "</div>"
      ],
      "text/plain": [
       "                                                                                                                                                                count  \\\n",
       "                                                                                                                                                             duration   \n",
       "user_id age city        month tariff_name rub_monthly_fee minutes_included messages_included rub_per_message rub_per_gb rub_per_minute mb_per_month_included            \n",
       "1000    52  Краснодар   5.0   ultra       1950            3000             1000              1               150        1              30720                       22   \n",
       "                        6.0   ultra       1950            3000             1000              1               150        1              30720                       43   \n",
       "                        7.0   ultra       1950            3000             1000              1               150        1              30720                       47   \n",
       "                        8.0   ultra       1950            3000             1000              1               150        1              30720                       52   \n",
       "                        9.0   ultra       1950            3000             1000              1               150        1              30720                       58   \n",
       "...                                                                                                                                                               ...   \n",
       "1498    68  Владикавказ 10.0  smart       550             500              50                3               200        3              15360                       41   \n",
       "1499    35  Пермь       9.0   smart       550             500              50                3               200        3              15360                        9   \n",
       "                        10.0  smart       550             500              50                3               200        3              15360                       68   \n",
       "                        11.0  smart       550             500              50                3               200        3              15360                       74   \n",
       "                        12.0  smart       550             500              50                3               200        3              15360                       69   \n",
       "\n",
       "                                                                                                                                                                  sum  \n",
       "                                                                                                                                                             duration  \n",
       "user_id age city        month tariff_name rub_monthly_fee minutes_included messages_included rub_per_message rub_per_gb rub_per_minute mb_per_month_included           \n",
       "1000    52  Краснодар   5.0   ultra       1950            3000             1000              1               150        1              30720                    164.0  \n",
       "                        6.0   ultra       1950            3000             1000              1               150        1              30720                    187.0  \n",
       "                        7.0   ultra       1950            3000             1000              1               150        1              30720                    346.0  \n",
       "                        8.0   ultra       1950            3000             1000              1               150        1              30720                    418.0  \n",
       "                        9.0   ultra       1950            3000             1000              1               150        1              30720                    478.0  \n",
       "...                                                                                                                                                               ...  \n",
       "1498    68  Владикавказ 10.0  smart       550             500              50                3               200        3              15360                    258.0  \n",
       "1499    35  Пермь       9.0   smart       550             500              50                3               200        3              15360                     71.0  \n",
       "                        10.0  smart       550             500              50                3               200        3              15360                    473.0  \n",
       "                        11.0  smart       550             500              50                3               200        3              15360                    624.0  \n",
       "                        12.0  smart       550             500              50                3               200        3              15360                    505.0  \n",
       "\n",
       "[3174 rows x 2 columns]"
      ]
     },
     "metadata": {},
     "output_type": "display_data"
    }
   ],
   "source": [
    "pivot_call = table_user_call.pivot_table(index = ['user_id', 'age', 'city', 'month', 'tariff_name', \n",
    "                                                  'rub_monthly_fee', 'minutes_included', \n",
    "                                                  'messages_included', 'rub_per_message', \n",
    "                                                  'rub_per_gb', 'rub_per_minute', 'mb_per_month_included'],\n",
    "                                         values = ['duration'], aggfunc=['count', 'sum'])\n",
    "display(pivot_call)"
   ]
  },
  {
   "cell_type": "markdown",
   "metadata": {},
   "source": [
    "Создадим таблицу `table_user_tar` из `df_messages`"
   ]
  },
  {
   "cell_type": "code",
   "execution_count": 28,
   "metadata": {},
   "outputs": [
    {
     "data": {
      "text/html": [
       "<div>\n",
       "<style scoped>\n",
       "    .dataframe tbody tr th:only-of-type {\n",
       "        vertical-align: middle;\n",
       "    }\n",
       "\n",
       "    .dataframe tbody tr th {\n",
       "        vertical-align: top;\n",
       "    }\n",
       "\n",
       "    .dataframe thead th {\n",
       "        text-align: right;\n",
       "    }\n",
       "</style>\n",
       "<table border=\"1\" class=\"dataframe\">\n",
       "  <thead>\n",
       "    <tr style=\"text-align: right;\">\n",
       "      <th></th>\n",
       "      <th></th>\n",
       "      <th>id</th>\n",
       "    </tr>\n",
       "    <tr>\n",
       "      <th>user_id</th>\n",
       "      <th>month</th>\n",
       "      <th></th>\n",
       "    </tr>\n",
       "  </thead>\n",
       "  <tbody>\n",
       "    <tr>\n",
       "      <td>1045</td>\n",
       "      <td>5.0</td>\n",
       "      <td>55</td>\n",
       "    </tr>\n",
       "    <tr>\n",
       "      <td>1046</td>\n",
       "      <td>8.0</td>\n",
       "      <td>13</td>\n",
       "    </tr>\n",
       "    <tr>\n",
       "      <td>1083</td>\n",
       "      <td>6.0</td>\n",
       "      <td>54</td>\n",
       "    </tr>\n",
       "    <tr>\n",
       "      <td>1227</td>\n",
       "      <td>5.0</td>\n",
       "      <td>38</td>\n",
       "    </tr>\n",
       "    <tr>\n",
       "      <td>1099</td>\n",
       "      <td>7.0</td>\n",
       "      <td>31</td>\n",
       "    </tr>\n",
       "    <tr>\n",
       "      <td>1251</td>\n",
       "      <td>8.0</td>\n",
       "      <td>75</td>\n",
       "    </tr>\n",
       "    <tr>\n",
       "      <td>1180</td>\n",
       "      <td>11.0</td>\n",
       "      <td>15</td>\n",
       "    </tr>\n",
       "    <tr>\n",
       "      <td>1056</td>\n",
       "      <td>7.0</td>\n",
       "      <td>39</td>\n",
       "    </tr>\n",
       "    <tr>\n",
       "      <td>1458</td>\n",
       "      <td>4.0</td>\n",
       "      <td>4</td>\n",
       "    </tr>\n",
       "    <tr>\n",
       "      <td>1113</td>\n",
       "      <td>9.0</td>\n",
       "      <td>37</td>\n",
       "    </tr>\n",
       "  </tbody>\n",
       "</table>\n",
       "</div>"
      ],
      "text/plain": [
       "               id\n",
       "user_id month    \n",
       "1045    5.0    55\n",
       "1046    8.0    13\n",
       "1083    6.0    54\n",
       "1227    5.0    38\n",
       "1099    7.0    31\n",
       "1251    8.0    75\n",
       "1180    11.0   15\n",
       "1056    7.0    39\n",
       "1458    4.0     4\n",
       "1113    9.0    37"
      ]
     },
     "execution_count": 28,
     "metadata": {},
     "output_type": "execute_result"
    }
   ],
   "source": [
    "user_messages = table_user_tar\n",
    "user_messages = user_messages.merge(messages_df, on=['user_id'], how='outer')\n",
    "    \n",
    "#Сохраним сводную таблицу user_messages_sum с данными о тарифах и статистике сообщений\n",
    "user_messages_sum = user_messages.pivot_table(index=['user_id', 'month'], values='id',\n",
    "                                             aggfunc='count')\n",
    "#вывудим таблицу\n",
    "user_messages_sum.sample(10)"
   ]
  },
  {
   "cell_type": "markdown",
   "metadata": {},
   "source": [
    "Создадим таблицу pivot_call и user_messages_sum, сохраним в одной таблице merge."
   ]
  },
  {
   "cell_type": "code",
   "execution_count": 29,
   "metadata": {},
   "outputs": [
    {
     "data": {
      "text/html": [
       "<div>\n",
       "<style scoped>\n",
       "    .dataframe tbody tr th:only-of-type {\n",
       "        vertical-align: middle;\n",
       "    }\n",
       "\n",
       "    .dataframe tbody tr th {\n",
       "        vertical-align: top;\n",
       "    }\n",
       "\n",
       "    .dataframe thead th {\n",
       "        text-align: right;\n",
       "    }\n",
       "</style>\n",
       "<table border=\"1\" class=\"dataframe\">\n",
       "  <thead>\n",
       "    <tr style=\"text-align: right;\">\n",
       "      <th></th>\n",
       "      <th></th>\n",
       "      <th></th>\n",
       "      <th></th>\n",
       "      <th></th>\n",
       "      <th></th>\n",
       "      <th></th>\n",
       "      <th></th>\n",
       "      <th></th>\n",
       "      <th></th>\n",
       "      <th></th>\n",
       "      <th></th>\n",
       "      <th>(count, duration)</th>\n",
       "      <th>(sum, duration)</th>\n",
       "      <th>id</th>\n",
       "    </tr>\n",
       "    <tr>\n",
       "      <th>user_id</th>\n",
       "      <th>month</th>\n",
       "      <th>minutes_included</th>\n",
       "      <th>age</th>\n",
       "      <th>mb_per_month_included</th>\n",
       "      <th>tariff_name</th>\n",
       "      <th>city</th>\n",
       "      <th>rub_per_message</th>\n",
       "      <th>messages_included</th>\n",
       "      <th>rub_per_minute</th>\n",
       "      <th>rub_per_gb</th>\n",
       "      <th>rub_monthly_fee</th>\n",
       "      <th></th>\n",
       "      <th></th>\n",
       "      <th></th>\n",
       "    </tr>\n",
       "  </thead>\n",
       "  <tbody>\n",
       "    <tr>\n",
       "      <td rowspan=\"5\" valign=\"top\">1000</td>\n",
       "      <td>5.0</td>\n",
       "      <td>3000</td>\n",
       "      <td>52</td>\n",
       "      <td>30720</td>\n",
       "      <td>ultra</td>\n",
       "      <td>Краснодар</td>\n",
       "      <td>1</td>\n",
       "      <td>1000</td>\n",
       "      <td>1</td>\n",
       "      <td>150</td>\n",
       "      <td>1950</td>\n",
       "      <td>22</td>\n",
       "      <td>164.0</td>\n",
       "      <td>22.0</td>\n",
       "    </tr>\n",
       "    <tr>\n",
       "      <td>6.0</td>\n",
       "      <td>3000</td>\n",
       "      <td>52</td>\n",
       "      <td>30720</td>\n",
       "      <td>ultra</td>\n",
       "      <td>Краснодар</td>\n",
       "      <td>1</td>\n",
       "      <td>1000</td>\n",
       "      <td>1</td>\n",
       "      <td>150</td>\n",
       "      <td>1950</td>\n",
       "      <td>43</td>\n",
       "      <td>187.0</td>\n",
       "      <td>60.0</td>\n",
       "    </tr>\n",
       "    <tr>\n",
       "      <td>7.0</td>\n",
       "      <td>3000</td>\n",
       "      <td>52</td>\n",
       "      <td>30720</td>\n",
       "      <td>ultra</td>\n",
       "      <td>Краснодар</td>\n",
       "      <td>1</td>\n",
       "      <td>1000</td>\n",
       "      <td>1</td>\n",
       "      <td>150</td>\n",
       "      <td>1950</td>\n",
       "      <td>47</td>\n",
       "      <td>346.0</td>\n",
       "      <td>75.0</td>\n",
       "    </tr>\n",
       "    <tr>\n",
       "      <td>8.0</td>\n",
       "      <td>3000</td>\n",
       "      <td>52</td>\n",
       "      <td>30720</td>\n",
       "      <td>ultra</td>\n",
       "      <td>Краснодар</td>\n",
       "      <td>1</td>\n",
       "      <td>1000</td>\n",
       "      <td>1</td>\n",
       "      <td>150</td>\n",
       "      <td>1950</td>\n",
       "      <td>52</td>\n",
       "      <td>418.0</td>\n",
       "      <td>81.0</td>\n",
       "    </tr>\n",
       "    <tr>\n",
       "      <td>9.0</td>\n",
       "      <td>3000</td>\n",
       "      <td>52</td>\n",
       "      <td>30720</td>\n",
       "      <td>ultra</td>\n",
       "      <td>Краснодар</td>\n",
       "      <td>1</td>\n",
       "      <td>1000</td>\n",
       "      <td>1</td>\n",
       "      <td>150</td>\n",
       "      <td>1950</td>\n",
       "      <td>58</td>\n",
       "      <td>478.0</td>\n",
       "      <td>57.0</td>\n",
       "    </tr>\n",
       "    <tr>\n",
       "      <td>...</td>\n",
       "      <td>...</td>\n",
       "      <td>...</td>\n",
       "      <td>...</td>\n",
       "      <td>...</td>\n",
       "      <td>...</td>\n",
       "      <td>...</td>\n",
       "      <td>...</td>\n",
       "      <td>...</td>\n",
       "      <td>...</td>\n",
       "      <td>...</td>\n",
       "      <td>...</td>\n",
       "      <td>...</td>\n",
       "      <td>...</td>\n",
       "      <td>...</td>\n",
       "    </tr>\n",
       "    <tr>\n",
       "      <td>1498</td>\n",
       "      <td>10.0</td>\n",
       "      <td>500</td>\n",
       "      <td>68</td>\n",
       "      <td>15360</td>\n",
       "      <td>smart</td>\n",
       "      <td>Владикавказ</td>\n",
       "      <td>3</td>\n",
       "      <td>50</td>\n",
       "      <td>3</td>\n",
       "      <td>200</td>\n",
       "      <td>550</td>\n",
       "      <td>41</td>\n",
       "      <td>258.0</td>\n",
       "      <td>42.0</td>\n",
       "    </tr>\n",
       "    <tr>\n",
       "      <td rowspan=\"4\" valign=\"top\">1499</td>\n",
       "      <td>9.0</td>\n",
       "      <td>500</td>\n",
       "      <td>35</td>\n",
       "      <td>15360</td>\n",
       "      <td>smart</td>\n",
       "      <td>Пермь</td>\n",
       "      <td>3</td>\n",
       "      <td>50</td>\n",
       "      <td>3</td>\n",
       "      <td>200</td>\n",
       "      <td>550</td>\n",
       "      <td>9</td>\n",
       "      <td>71.0</td>\n",
       "      <td>11.0</td>\n",
       "    </tr>\n",
       "    <tr>\n",
       "      <td>10.0</td>\n",
       "      <td>500</td>\n",
       "      <td>35</td>\n",
       "      <td>15360</td>\n",
       "      <td>smart</td>\n",
       "      <td>Пермь</td>\n",
       "      <td>3</td>\n",
       "      <td>50</td>\n",
       "      <td>3</td>\n",
       "      <td>200</td>\n",
       "      <td>550</td>\n",
       "      <td>68</td>\n",
       "      <td>473.0</td>\n",
       "      <td>48.0</td>\n",
       "    </tr>\n",
       "    <tr>\n",
       "      <td>11.0</td>\n",
       "      <td>500</td>\n",
       "      <td>35</td>\n",
       "      <td>15360</td>\n",
       "      <td>smart</td>\n",
       "      <td>Пермь</td>\n",
       "      <td>3</td>\n",
       "      <td>50</td>\n",
       "      <td>3</td>\n",
       "      <td>200</td>\n",
       "      <td>550</td>\n",
       "      <td>74</td>\n",
       "      <td>624.0</td>\n",
       "      <td>59.0</td>\n",
       "    </tr>\n",
       "    <tr>\n",
       "      <td>12.0</td>\n",
       "      <td>500</td>\n",
       "      <td>35</td>\n",
       "      <td>15360</td>\n",
       "      <td>smart</td>\n",
       "      <td>Пермь</td>\n",
       "      <td>3</td>\n",
       "      <td>50</td>\n",
       "      <td>3</td>\n",
       "      <td>200</td>\n",
       "      <td>550</td>\n",
       "      <td>69</td>\n",
       "      <td>505.0</td>\n",
       "      <td>66.0</td>\n",
       "    </tr>\n",
       "  </tbody>\n",
       "</table>\n",
       "<p>3174 rows × 3 columns</p>\n",
       "</div>"
      ],
      "text/plain": [
       "                                                                                                                                                              (count, duration)  \\\n",
       "user_id month minutes_included age mb_per_month_included tariff_name city        rub_per_message messages_included rub_per_minute rub_per_gb rub_monthly_fee                      \n",
       "1000    5.0   3000             52  30720                 ultra       Краснодар   1               1000              1              150        1950                            22   \n",
       "        6.0   3000             52  30720                 ultra       Краснодар   1               1000              1              150        1950                            43   \n",
       "        7.0   3000             52  30720                 ultra       Краснодар   1               1000              1              150        1950                            47   \n",
       "        8.0   3000             52  30720                 ultra       Краснодар   1               1000              1              150        1950                            52   \n",
       "        9.0   3000             52  30720                 ultra       Краснодар   1               1000              1              150        1950                            58   \n",
       "...                                                                                                                                                                         ...   \n",
       "1498    10.0  500              68  15360                 smart       Владикавказ 3               50                3              200        550                             41   \n",
       "1499    9.0   500              35  15360                 smart       Пермь       3               50                3              200        550                              9   \n",
       "        10.0  500              35  15360                 smart       Пермь       3               50                3              200        550                             68   \n",
       "        11.0  500              35  15360                 smart       Пермь       3               50                3              200        550                             74   \n",
       "        12.0  500              35  15360                 smart       Пермь       3               50                3              200        550                             69   \n",
       "\n",
       "                                                                                                                                                              (sum, duration)  \\\n",
       "user_id month minutes_included age mb_per_month_included tariff_name city        rub_per_message messages_included rub_per_minute rub_per_gb rub_monthly_fee                    \n",
       "1000    5.0   3000             52  30720                 ultra       Краснодар   1               1000              1              150        1950                       164.0   \n",
       "        6.0   3000             52  30720                 ultra       Краснодар   1               1000              1              150        1950                       187.0   \n",
       "        7.0   3000             52  30720                 ultra       Краснодар   1               1000              1              150        1950                       346.0   \n",
       "        8.0   3000             52  30720                 ultra       Краснодар   1               1000              1              150        1950                       418.0   \n",
       "        9.0   3000             52  30720                 ultra       Краснодар   1               1000              1              150        1950                       478.0   \n",
       "...                                                                                                                                                                       ...   \n",
       "1498    10.0  500              68  15360                 smart       Владикавказ 3               50                3              200        550                        258.0   \n",
       "1499    9.0   500              35  15360                 smart       Пермь       3               50                3              200        550                         71.0   \n",
       "        10.0  500              35  15360                 smart       Пермь       3               50                3              200        550                        473.0   \n",
       "        11.0  500              35  15360                 smart       Пермь       3               50                3              200        550                        624.0   \n",
       "        12.0  500              35  15360                 smart       Пермь       3               50                3              200        550                        505.0   \n",
       "\n",
       "                                                                                                                                                                id  \n",
       "user_id month minutes_included age mb_per_month_included tariff_name city        rub_per_message messages_included rub_per_minute rub_per_gb rub_monthly_fee        \n",
       "1000    5.0   3000             52  30720                 ultra       Краснодар   1               1000              1              150        1950             22.0  \n",
       "        6.0   3000             52  30720                 ultra       Краснодар   1               1000              1              150        1950             60.0  \n",
       "        7.0   3000             52  30720                 ultra       Краснодар   1               1000              1              150        1950             75.0  \n",
       "        8.0   3000             52  30720                 ultra       Краснодар   1               1000              1              150        1950             81.0  \n",
       "        9.0   3000             52  30720                 ultra       Краснодар   1               1000              1              150        1950             57.0  \n",
       "...                                                                                                                                                            ...  \n",
       "1498    10.0  500              68  15360                 smart       Владикавказ 3               50                3              200        550              42.0  \n",
       "1499    9.0   500              35  15360                 smart       Пермь       3               50                3              200        550              11.0  \n",
       "        10.0  500              35  15360                 smart       Пермь       3               50                3              200        550              48.0  \n",
       "        11.0  500              35  15360                 smart       Пермь       3               50                3              200        550              59.0  \n",
       "        12.0  500              35  15360                 smart       Пермь       3               50                3              200        550              66.0  \n",
       "\n",
       "[3174 rows x 3 columns]"
      ]
     },
     "execution_count": 29,
     "metadata": {},
     "output_type": "execute_result"
    }
   ],
   "source": [
    "merge = pivot_call.join(user_messages_sum)\n",
    "merge"
   ]
  },
  {
   "cell_type": "markdown",
   "metadata": {},
   "source": [
    "Объеденим таблицу table_user_tar из df_internet."
   ]
  },
  {
   "cell_type": "code",
   "execution_count": 30,
   "metadata": {},
   "outputs": [
    {
     "data": {
      "text/html": [
       "<div>\n",
       "<style scoped>\n",
       "    .dataframe tbody tr th:only-of-type {\n",
       "        vertical-align: middle;\n",
       "    }\n",
       "\n",
       "    .dataframe tbody tr th {\n",
       "        vertical-align: top;\n",
       "    }\n",
       "\n",
       "    .dataframe thead tr th {\n",
       "        text-align: left;\n",
       "    }\n",
       "\n",
       "    .dataframe thead tr:last-of-type th {\n",
       "        text-align: right;\n",
       "    }\n",
       "</style>\n",
       "<table border=\"1\" class=\"dataframe\">\n",
       "  <thead>\n",
       "    <tr>\n",
       "      <th></th>\n",
       "      <th></th>\n",
       "      <th>sum</th>\n",
       "    </tr>\n",
       "    <tr>\n",
       "      <th></th>\n",
       "      <th></th>\n",
       "      <th>mb_used</th>\n",
       "    </tr>\n",
       "    <tr>\n",
       "      <th>user_id</th>\n",
       "      <th>month</th>\n",
       "      <th></th>\n",
       "    </tr>\n",
       "  </thead>\n",
       "  <tbody>\n",
       "    <tr>\n",
       "      <td>1025</td>\n",
       "      <td>10.0</td>\n",
       "      <td>14462.0</td>\n",
       "    </tr>\n",
       "    <tr>\n",
       "      <td>1027</td>\n",
       "      <td>8.0</td>\n",
       "      <td>24909.0</td>\n",
       "    </tr>\n",
       "    <tr>\n",
       "      <td>1344</td>\n",
       "      <td>8.0</td>\n",
       "      <td>21124.0</td>\n",
       "    </tr>\n",
       "    <tr>\n",
       "      <td>1408</td>\n",
       "      <td>10.0</td>\n",
       "      <td>21524.0</td>\n",
       "    </tr>\n",
       "    <tr>\n",
       "      <td>1302</td>\n",
       "      <td>10.0</td>\n",
       "      <td>14643.0</td>\n",
       "    </tr>\n",
       "    <tr>\n",
       "      <td>1290</td>\n",
       "      <td>6.0</td>\n",
       "      <td>23136.0</td>\n",
       "    </tr>\n",
       "    <tr>\n",
       "      <td>1057</td>\n",
       "      <td>5.0</td>\n",
       "      <td>20414.0</td>\n",
       "    </tr>\n",
       "    <tr>\n",
       "      <td>1140</td>\n",
       "      <td>12.0</td>\n",
       "      <td>20075.0</td>\n",
       "    </tr>\n",
       "    <tr>\n",
       "      <td>1384</td>\n",
       "      <td>6.0</td>\n",
       "      <td>21711.0</td>\n",
       "    </tr>\n",
       "    <tr>\n",
       "      <td>1080</td>\n",
       "      <td>11.0</td>\n",
       "      <td>5447.0</td>\n",
       "    </tr>\n",
       "  </tbody>\n",
       "</table>\n",
       "</div>"
      ],
      "text/plain": [
       "                   sum\n",
       "               mb_used\n",
       "user_id month         \n",
       "1025    10.0   14462.0\n",
       "1027    8.0    24909.0\n",
       "1344    8.0    21124.0\n",
       "1408    10.0   21524.0\n",
       "1302    10.0   14643.0\n",
       "1290    6.0    23136.0\n",
       "1057    5.0    20414.0\n",
       "1140    12.0   20075.0\n",
       "1384    6.0    21711.0\n",
       "1080    11.0    5447.0"
      ]
     },
     "execution_count": 30,
     "metadata": {},
     "output_type": "execute_result"
    }
   ],
   "source": [
    "mb_used = table_user_tar\n",
    "mb_used = mb_used.merge(internet_df, on='user_id', how='outer')\n",
    "    \n",
    "#Сохраним сводную таблицу mb_used с данными о тарифах и статистике затрат интернета\n",
    "mb_used_sum = mb_used.pivot_table(index=['user_id', 'month'], values='mb_used', \n",
    "                                  aggfunc=['sum'])\n",
    "\n",
    "#выведим тбалицу\n",
    "mb_used_sum.sample(10)"
   ]
  },
  {
   "cell_type": "markdown",
   "metadata": {},
   "source": [
    "Соединим таблицы merge и mb_used_sum, сохраним в одной таблице full_table"
   ]
  },
  {
   "cell_type": "code",
   "execution_count": 31,
   "metadata": {},
   "outputs": [
    {
     "data": {
      "text/html": [
       "<div>\n",
       "<style scoped>\n",
       "    .dataframe tbody tr th:only-of-type {\n",
       "        vertical-align: middle;\n",
       "    }\n",
       "\n",
       "    .dataframe tbody tr th {\n",
       "        vertical-align: top;\n",
       "    }\n",
       "\n",
       "    .dataframe thead th {\n",
       "        text-align: right;\n",
       "    }\n",
       "</style>\n",
       "<table border=\"1\" class=\"dataframe\">\n",
       "  <thead>\n",
       "    <tr style=\"text-align: right;\">\n",
       "      <th></th>\n",
       "      <th></th>\n",
       "      <th></th>\n",
       "      <th></th>\n",
       "      <th></th>\n",
       "      <th></th>\n",
       "      <th></th>\n",
       "      <th></th>\n",
       "      <th></th>\n",
       "      <th></th>\n",
       "      <th></th>\n",
       "      <th></th>\n",
       "      <th>duration_count</th>\n",
       "      <th>duration_count_sum</th>\n",
       "      <th>messages</th>\n",
       "      <th>mb_used</th>\n",
       "    </tr>\n",
       "    <tr>\n",
       "      <th>user_id</th>\n",
       "      <th>month</th>\n",
       "      <th>minutes_included</th>\n",
       "      <th>age</th>\n",
       "      <th>mb_per_month_included</th>\n",
       "      <th>tariff_name</th>\n",
       "      <th>city</th>\n",
       "      <th>rub_per_message</th>\n",
       "      <th>messages_included</th>\n",
       "      <th>rub_per_minute</th>\n",
       "      <th>rub_per_gb</th>\n",
       "      <th>rub_monthly_fee</th>\n",
       "      <th></th>\n",
       "      <th></th>\n",
       "      <th></th>\n",
       "      <th></th>\n",
       "    </tr>\n",
       "  </thead>\n",
       "  <tbody>\n",
       "    <tr>\n",
       "      <td>1300</td>\n",
       "      <td>10.0</td>\n",
       "      <td>3000</td>\n",
       "      <td>40</td>\n",
       "      <td>30720</td>\n",
       "      <td>ultra</td>\n",
       "      <td>Москва</td>\n",
       "      <td>1</td>\n",
       "      <td>1000</td>\n",
       "      <td>1</td>\n",
       "      <td>150</td>\n",
       "      <td>1950</td>\n",
       "      <td>111</td>\n",
       "      <td>759.0</td>\n",
       "      <td>191.0</td>\n",
       "      <td>38328.0</td>\n",
       "    </tr>\n",
       "    <tr>\n",
       "      <td>1372</td>\n",
       "      <td>7.0</td>\n",
       "      <td>500</td>\n",
       "      <td>71</td>\n",
       "      <td>15360</td>\n",
       "      <td>smart</td>\n",
       "      <td>Магнитогорск</td>\n",
       "      <td>3</td>\n",
       "      <td>50</td>\n",
       "      <td>3</td>\n",
       "      <td>200</td>\n",
       "      <td>550</td>\n",
       "      <td>58</td>\n",
       "      <td>393.0</td>\n",
       "      <td>41.0</td>\n",
       "      <td>13683.0</td>\n",
       "    </tr>\n",
       "    <tr>\n",
       "      <td>1356</td>\n",
       "      <td>11.0</td>\n",
       "      <td>3000</td>\n",
       "      <td>75</td>\n",
       "      <td>30720</td>\n",
       "      <td>ultra</td>\n",
       "      <td>Москва</td>\n",
       "      <td>1</td>\n",
       "      <td>1000</td>\n",
       "      <td>1</td>\n",
       "      <td>150</td>\n",
       "      <td>1950</td>\n",
       "      <td>145</td>\n",
       "      <td>1053.0</td>\n",
       "      <td>162.0</td>\n",
       "      <td>23773.0</td>\n",
       "    </tr>\n",
       "    <tr>\n",
       "      <td>1373</td>\n",
       "      <td>5.0</td>\n",
       "      <td>500</td>\n",
       "      <td>34</td>\n",
       "      <td>15360</td>\n",
       "      <td>smart</td>\n",
       "      <td>Улан-Удэ</td>\n",
       "      <td>3</td>\n",
       "      <td>50</td>\n",
       "      <td>3</td>\n",
       "      <td>200</td>\n",
       "      <td>550</td>\n",
       "      <td>2</td>\n",
       "      <td>13.0</td>\n",
       "      <td>48.0</td>\n",
       "      <td>29775.0</td>\n",
       "    </tr>\n",
       "    <tr>\n",
       "      <td>1402</td>\n",
       "      <td>5.0</td>\n",
       "      <td>3000</td>\n",
       "      <td>23</td>\n",
       "      <td>30720</td>\n",
       "      <td>ultra</td>\n",
       "      <td>Пенза</td>\n",
       "      <td>1</td>\n",
       "      <td>1000</td>\n",
       "      <td>1</td>\n",
       "      <td>150</td>\n",
       "      <td>1950</td>\n",
       "      <td>92</td>\n",
       "      <td>701.0</td>\n",
       "      <td>32.0</td>\n",
       "      <td>27456.0</td>\n",
       "    </tr>\n",
       "    <tr>\n",
       "      <td>1086</td>\n",
       "      <td>12.0</td>\n",
       "      <td>500</td>\n",
       "      <td>73</td>\n",
       "      <td>15360</td>\n",
       "      <td>smart</td>\n",
       "      <td>Волгоград</td>\n",
       "      <td>3</td>\n",
       "      <td>50</td>\n",
       "      <td>3</td>\n",
       "      <td>200</td>\n",
       "      <td>550</td>\n",
       "      <td>68</td>\n",
       "      <td>523.0</td>\n",
       "      <td>29.0</td>\n",
       "      <td>20049.0</td>\n",
       "    </tr>\n",
       "    <tr>\n",
       "      <td>1093</td>\n",
       "      <td>10.0</td>\n",
       "      <td>500</td>\n",
       "      <td>73</td>\n",
       "      <td>15360</td>\n",
       "      <td>smart</td>\n",
       "      <td>Санкт-Петербург</td>\n",
       "      <td>3</td>\n",
       "      <td>50</td>\n",
       "      <td>3</td>\n",
       "      <td>200</td>\n",
       "      <td>550</td>\n",
       "      <td>106</td>\n",
       "      <td>809.0</td>\n",
       "      <td>79.0</td>\n",
       "      <td>20732.0</td>\n",
       "    </tr>\n",
       "    <tr>\n",
       "      <td>1089</td>\n",
       "      <td>4.0</td>\n",
       "      <td>3000</td>\n",
       "      <td>19</td>\n",
       "      <td>30720</td>\n",
       "      <td>ultra</td>\n",
       "      <td>Иркутск</td>\n",
       "      <td>1</td>\n",
       "      <td>1000</td>\n",
       "      <td>1</td>\n",
       "      <td>150</td>\n",
       "      <td>1950</td>\n",
       "      <td>59</td>\n",
       "      <td>395.0</td>\n",
       "      <td>130.0</td>\n",
       "      <td>16662.0</td>\n",
       "    </tr>\n",
       "    <tr>\n",
       "      <td>1468</td>\n",
       "      <td>5.0</td>\n",
       "      <td>500</td>\n",
       "      <td>29</td>\n",
       "      <td>15360</td>\n",
       "      <td>smart</td>\n",
       "      <td>Тамбов</td>\n",
       "      <td>3</td>\n",
       "      <td>50</td>\n",
       "      <td>3</td>\n",
       "      <td>200</td>\n",
       "      <td>550</td>\n",
       "      <td>24</td>\n",
       "      <td>145.0</td>\n",
       "      <td>11.0</td>\n",
       "      <td>15200.0</td>\n",
       "    </tr>\n",
       "    <tr>\n",
       "      <td>1376</td>\n",
       "      <td>5.0</td>\n",
       "      <td>500</td>\n",
       "      <td>46</td>\n",
       "      <td>15360</td>\n",
       "      <td>smart</td>\n",
       "      <td>Самара</td>\n",
       "      <td>3</td>\n",
       "      <td>50</td>\n",
       "      <td>3</td>\n",
       "      <td>200</td>\n",
       "      <td>550</td>\n",
       "      <td>1</td>\n",
       "      <td>2.0</td>\n",
       "      <td>NaN</td>\n",
       "      <td>670.0</td>\n",
       "    </tr>\n",
       "  </tbody>\n",
       "</table>\n",
       "</div>"
      ],
      "text/plain": [
       "                                                                                                                                                                  duration_count  \\\n",
       "user_id month minutes_included age mb_per_month_included tariff_name city            rub_per_message messages_included rub_per_minute rub_per_gb rub_monthly_fee                   \n",
       "1300    10.0  3000             40  30720                 ultra       Москва          1               1000              1              150        1950                        111   \n",
       "1372    7.0   500              71  15360                 smart       Магнитогорск    3               50                3              200        550                          58   \n",
       "1356    11.0  3000             75  30720                 ultra       Москва          1               1000              1              150        1950                        145   \n",
       "1373    5.0   500              34  15360                 smart       Улан-Удэ        3               50                3              200        550                           2   \n",
       "1402    5.0   3000             23  30720                 ultra       Пенза           1               1000              1              150        1950                         92   \n",
       "1086    12.0  500              73  15360                 smart       Волгоград       3               50                3              200        550                          68   \n",
       "1093    10.0  500              73  15360                 smart       Санкт-Петербург 3               50                3              200        550                         106   \n",
       "1089    4.0   3000             19  30720                 ultra       Иркутск         1               1000              1              150        1950                         59   \n",
       "1468    5.0   500              29  15360                 smart       Тамбов          3               50                3              200        550                          24   \n",
       "1376    5.0   500              46  15360                 smart       Самара          3               50                3              200        550                           1   \n",
       "\n",
       "                                                                                                                                                                  duration_count_sum  \\\n",
       "user_id month minutes_included age mb_per_month_included tariff_name city            rub_per_message messages_included rub_per_minute rub_per_gb rub_monthly_fee                       \n",
       "1300    10.0  3000             40  30720                 ultra       Москва          1               1000              1              150        1950                          759.0   \n",
       "1372    7.0   500              71  15360                 smart       Магнитогорск    3               50                3              200        550                           393.0   \n",
       "1356    11.0  3000             75  30720                 ultra       Москва          1               1000              1              150        1950                         1053.0   \n",
       "1373    5.0   500              34  15360                 smart       Улан-Удэ        3               50                3              200        550                            13.0   \n",
       "1402    5.0   3000             23  30720                 ultra       Пенза           1               1000              1              150        1950                          701.0   \n",
       "1086    12.0  500              73  15360                 smart       Волгоград       3               50                3              200        550                           523.0   \n",
       "1093    10.0  500              73  15360                 smart       Санкт-Петербург 3               50                3              200        550                           809.0   \n",
       "1089    4.0   3000             19  30720                 ultra       Иркутск         1               1000              1              150        1950                          395.0   \n",
       "1468    5.0   500              29  15360                 smart       Тамбов          3               50                3              200        550                           145.0   \n",
       "1376    5.0   500              46  15360                 smart       Самара          3               50                3              200        550                             2.0   \n",
       "\n",
       "                                                                                                                                                                  messages  \\\n",
       "user_id month minutes_included age mb_per_month_included tariff_name city            rub_per_message messages_included rub_per_minute rub_per_gb rub_monthly_fee             \n",
       "1300    10.0  3000             40  30720                 ultra       Москва          1               1000              1              150        1950                191.0   \n",
       "1372    7.0   500              71  15360                 smart       Магнитогорск    3               50                3              200        550                  41.0   \n",
       "1356    11.0  3000             75  30720                 ultra       Москва          1               1000              1              150        1950                162.0   \n",
       "1373    5.0   500              34  15360                 smart       Улан-Удэ        3               50                3              200        550                  48.0   \n",
       "1402    5.0   3000             23  30720                 ultra       Пенза           1               1000              1              150        1950                 32.0   \n",
       "1086    12.0  500              73  15360                 smart       Волгоград       3               50                3              200        550                  29.0   \n",
       "1093    10.0  500              73  15360                 smart       Санкт-Петербург 3               50                3              200        550                  79.0   \n",
       "1089    4.0   3000             19  30720                 ultra       Иркутск         1               1000              1              150        1950                130.0   \n",
       "1468    5.0   500              29  15360                 smart       Тамбов          3               50                3              200        550                  11.0   \n",
       "1376    5.0   500              46  15360                 smart       Самара          3               50                3              200        550                   NaN   \n",
       "\n",
       "                                                                                                                                                                  mb_used  \n",
       "user_id month minutes_included age mb_per_month_included tariff_name city            rub_per_message messages_included rub_per_minute rub_per_gb rub_monthly_fee           \n",
       "1300    10.0  3000             40  30720                 ultra       Москва          1               1000              1              150        1950             38328.0  \n",
       "1372    7.0   500              71  15360                 smart       Магнитогорск    3               50                3              200        550              13683.0  \n",
       "1356    11.0  3000             75  30720                 ultra       Москва          1               1000              1              150        1950             23773.0  \n",
       "1373    5.0   500              34  15360                 smart       Улан-Удэ        3               50                3              200        550              29775.0  \n",
       "1402    5.0   3000             23  30720                 ultra       Пенза           1               1000              1              150        1950             27456.0  \n",
       "1086    12.0  500              73  15360                 smart       Волгоград       3               50                3              200        550              20049.0  \n",
       "1093    10.0  500              73  15360                 smart       Санкт-Петербург 3               50                3              200        550              20732.0  \n",
       "1089    4.0   3000             19  30720                 ultra       Иркутск         1               1000              1              150        1950             16662.0  \n",
       "1468    5.0   500              29  15360                 smart       Тамбов          3               50                3              200        550              15200.0  \n",
       "1376    5.0   500              46  15360                 smart       Самара          3               50                3              200        550                670.0  "
      ]
     },
     "execution_count": 31,
     "metadata": {},
     "output_type": "execute_result"
    }
   ],
   "source": [
    "full_table = merge.join(mb_used_sum)\n",
    "\n",
    "#Переименуем столбцы со статистикой\n",
    "full_table.columns = ['duration_count', 'duration_count_sum', 'messages', 'mb_used']\n",
    "#виведем полученую таблицу\n",
    "full_table.sample(10)"
   ]
  },
  {
   "cell_type": "markdown",
   "metadata": {},
   "source": [
    "### Подгатовка данных в таблице `full_table`"
   ]
  },
  {
   "cell_type": "code",
   "execution_count": 32,
   "metadata": {},
   "outputs": [
    {
     "data": {
      "text/plain": [
       "duration_count          0\n",
       "duration_count_sum      0\n",
       "messages              496\n",
       "mb_used                11\n",
       "dtype: int64"
      ]
     },
     "execution_count": 32,
     "metadata": {},
     "output_type": "execute_result"
    }
   ],
   "source": [
    "#Посмотрим на пропущенные значения\n",
    "full_table.isnull().sum()"
   ]
  },
  {
   "cell_type": "markdown",
   "metadata": {},
   "source": [
    "В результате видим, что есть пропущенные значения в `messages` и `mb_used`. Возможно некоторые пользователи не пользовались интернетом и не отправляли сообщения некоторое время. Нужно заменить эти пропуски на ноль."
   ]
  },
  {
   "cell_type": "code",
   "execution_count": 33,
   "metadata": {},
   "outputs": [
    {
     "data": {
      "text/html": [
       "<div>\n",
       "<style scoped>\n",
       "    .dataframe tbody tr th:only-of-type {\n",
       "        vertical-align: middle;\n",
       "    }\n",
       "\n",
       "    .dataframe tbody tr th {\n",
       "        vertical-align: top;\n",
       "    }\n",
       "\n",
       "    .dataframe thead th {\n",
       "        text-align: right;\n",
       "    }\n",
       "</style>\n",
       "<table border=\"1\" class=\"dataframe\">\n",
       "  <thead>\n",
       "    <tr style=\"text-align: right;\">\n",
       "      <th></th>\n",
       "      <th>user_id</th>\n",
       "      <th>month</th>\n",
       "      <th>minutes_included</th>\n",
       "      <th>age</th>\n",
       "      <th>mb_per_month_included</th>\n",
       "      <th>tariff_name</th>\n",
       "      <th>city</th>\n",
       "      <th>rub_per_message</th>\n",
       "      <th>messages_included</th>\n",
       "      <th>rub_per_minute</th>\n",
       "      <th>rub_per_gb</th>\n",
       "      <th>rub_monthly_fee</th>\n",
       "      <th>duration_count</th>\n",
       "      <th>duration_count_sum</th>\n",
       "      <th>messages</th>\n",
       "      <th>mb_used</th>\n",
       "      <th>calls_revenue</th>\n",
       "      <th>messages_revenue</th>\n",
       "      <th>mg_revenue</th>\n",
       "    </tr>\n",
       "  </thead>\n",
       "  <tbody>\n",
       "    <tr>\n",
       "      <td>860</td>\n",
       "      <td>1138</td>\n",
       "      <td>12.0</td>\n",
       "      <td>500</td>\n",
       "      <td>23</td>\n",
       "      <td>15360</td>\n",
       "      <td>smart</td>\n",
       "      <td>Екатеринбург</td>\n",
       "      <td>3</td>\n",
       "      <td>50</td>\n",
       "      <td>3</td>\n",
       "      <td>200</td>\n",
       "      <td>550</td>\n",
       "      <td>100</td>\n",
       "      <td>552.0</td>\n",
       "      <td>8.0</td>\n",
       "      <td>25653.0</td>\n",
       "      <td>156.0</td>\n",
       "      <td>-126.0</td>\n",
       "      <td>2010.351562</td>\n",
       "    </tr>\n",
       "    <tr>\n",
       "      <td>1693</td>\n",
       "      <td>1272</td>\n",
       "      <td>9.0</td>\n",
       "      <td>3000</td>\n",
       "      <td>61</td>\n",
       "      <td>30720</td>\n",
       "      <td>ultra</td>\n",
       "      <td>Пенза</td>\n",
       "      <td>1</td>\n",
       "      <td>1000</td>\n",
       "      <td>1</td>\n",
       "      <td>150</td>\n",
       "      <td>1950</td>\n",
       "      <td>39</td>\n",
       "      <td>306.0</td>\n",
       "      <td>73.0</td>\n",
       "      <td>25543.0</td>\n",
       "      <td>-2694.0</td>\n",
       "      <td>-927.0</td>\n",
       "      <td>-758.349609</td>\n",
       "    </tr>\n",
       "    <tr>\n",
       "      <td>320</td>\n",
       "      <td>1051</td>\n",
       "      <td>10.0</td>\n",
       "      <td>500</td>\n",
       "      <td>37</td>\n",
       "      <td>15360</td>\n",
       "      <td>smart</td>\n",
       "      <td>Москва</td>\n",
       "      <td>3</td>\n",
       "      <td>50</td>\n",
       "      <td>3</td>\n",
       "      <td>200</td>\n",
       "      <td>550</td>\n",
       "      <td>16</td>\n",
       "      <td>124.0</td>\n",
       "      <td>0.0</td>\n",
       "      <td>10183.0</td>\n",
       "      <td>-1128.0</td>\n",
       "      <td>-150.0</td>\n",
       "      <td>-1011.132812</td>\n",
       "    </tr>\n",
       "    <tr>\n",
       "      <td>1130</td>\n",
       "      <td>1179</td>\n",
       "      <td>4.0</td>\n",
       "      <td>500</td>\n",
       "      <td>43</td>\n",
       "      <td>15360</td>\n",
       "      <td>smart</td>\n",
       "      <td>Вологда</td>\n",
       "      <td>3</td>\n",
       "      <td>50</td>\n",
       "      <td>3</td>\n",
       "      <td>200</td>\n",
       "      <td>550</td>\n",
       "      <td>28</td>\n",
       "      <td>228.0</td>\n",
       "      <td>0.0</td>\n",
       "      <td>6060.0</td>\n",
       "      <td>-816.0</td>\n",
       "      <td>-150.0</td>\n",
       "      <td>-1816.406250</td>\n",
       "    </tr>\n",
       "    <tr>\n",
       "      <td>1132</td>\n",
       "      <td>1179</td>\n",
       "      <td>6.0</td>\n",
       "      <td>500</td>\n",
       "      <td>43</td>\n",
       "      <td>15360</td>\n",
       "      <td>smart</td>\n",
       "      <td>Вологда</td>\n",
       "      <td>3</td>\n",
       "      <td>50</td>\n",
       "      <td>3</td>\n",
       "      <td>200</td>\n",
       "      <td>550</td>\n",
       "      <td>70</td>\n",
       "      <td>451.0</td>\n",
       "      <td>0.0</td>\n",
       "      <td>15842.0</td>\n",
       "      <td>-147.0</td>\n",
       "      <td>-150.0</td>\n",
       "      <td>94.140625</td>\n",
       "    </tr>\n",
       "  </tbody>\n",
       "</table>\n",
       "</div>"
      ],
      "text/plain": [
       "      user_id  month  minutes_included  age  mb_per_month_included  \\\n",
       "860      1138   12.0               500   23                  15360   \n",
       "1693     1272    9.0              3000   61                  30720   \n",
       "320      1051   10.0               500   37                  15360   \n",
       "1130     1179    4.0               500   43                  15360   \n",
       "1132     1179    6.0               500   43                  15360   \n",
       "\n",
       "     tariff_name          city  rub_per_message  messages_included  \\\n",
       "860        smart  Екатеринбург                3                 50   \n",
       "1693       ultra         Пенза                1               1000   \n",
       "320        smart        Москва                3                 50   \n",
       "1130       smart       Вологда                3                 50   \n",
       "1132       smart       Вологда                3                 50   \n",
       "\n",
       "      rub_per_minute  rub_per_gb  rub_monthly_fee  duration_count  \\\n",
       "860                3         200              550             100   \n",
       "1693               1         150             1950              39   \n",
       "320                3         200              550              16   \n",
       "1130               3         200              550              28   \n",
       "1132               3         200              550              70   \n",
       "\n",
       "      duration_count_sum  messages  mb_used  calls_revenue  messages_revenue  \\\n",
       "860                552.0       8.0  25653.0          156.0            -126.0   \n",
       "1693               306.0      73.0  25543.0        -2694.0            -927.0   \n",
       "320                124.0       0.0  10183.0        -1128.0            -150.0   \n",
       "1130               228.0       0.0   6060.0         -816.0            -150.0   \n",
       "1132               451.0       0.0  15842.0         -147.0            -150.0   \n",
       "\n",
       "       mg_revenue  \n",
       "860   2010.351562  \n",
       "1693  -758.349609  \n",
       "320  -1011.132812  \n",
       "1130 -1816.406250  \n",
       "1132    94.140625  "
      ]
     },
     "execution_count": 33,
     "metadata": {},
     "output_type": "execute_result"
    }
   ],
   "source": [
    "full_table['messages'] = full_table['messages'].fillna(0)\n",
    "full_table['mb_used'] = full_table['mb_used'].fillna(0)\n",
    "\n",
    "full_table.reset_index(inplace=True)\n",
    "\n",
    "#Напишем формулу и добавим столбцы с прибылью сверх тарифа по звонкам, сообщениям и интернету.\n",
    "full_table['calls_revenue'] = ((full_table['duration_count_sum'] - full_table['minutes_included']) * full_table['rub_per_minute'])\n",
    "full_table['messages_revenue'] = ((full_table['messages'] - full_table['messages_included']) * full_table['rub_per_message'])\n",
    "full_table['mg_revenue'] = ((full_table['mb_used'] - full_table['mb_per_month_included']) * full_table['rub_per_gb']/1024)\n",
    "\n",
    "#Проверим результат\n",
    "full_table.sample(5)"
   ]
  },
  {
   "cell_type": "markdown",
   "metadata": {},
   "source": [
    "Видим отрицательные значения. В этой ситуации, когда получается отрицательная разница между лимитлм звонков и реальной длительностью случается тогда, когда абонент не израсходовал весь лимит. В этом случае перерасхода не случается и отрицательный перерасход нужно обнулить."
   ]
  },
  {
   "cell_type": "code",
   "execution_count": 34,
   "metadata": {},
   "outputs": [
    {
     "data": {
      "text/html": [
       "<div>\n",
       "<style scoped>\n",
       "    .dataframe tbody tr th:only-of-type {\n",
       "        vertical-align: middle;\n",
       "    }\n",
       "\n",
       "    .dataframe tbody tr th {\n",
       "        vertical-align: top;\n",
       "    }\n",
       "\n",
       "    .dataframe thead th {\n",
       "        text-align: right;\n",
       "    }\n",
       "</style>\n",
       "<table border=\"1\" class=\"dataframe\">\n",
       "  <thead>\n",
       "    <tr style=\"text-align: right;\">\n",
       "      <th></th>\n",
       "      <th>user_id</th>\n",
       "      <th>month</th>\n",
       "      <th>minutes_included</th>\n",
       "      <th>age</th>\n",
       "      <th>mb_per_month_included</th>\n",
       "      <th>tariff_name</th>\n",
       "      <th>city</th>\n",
       "      <th>rub_per_message</th>\n",
       "      <th>messages_included</th>\n",
       "      <th>rub_per_minute</th>\n",
       "      <th>rub_per_gb</th>\n",
       "      <th>rub_monthly_fee</th>\n",
       "      <th>duration_count</th>\n",
       "      <th>duration_count_sum</th>\n",
       "      <th>messages</th>\n",
       "      <th>mb_used</th>\n",
       "      <th>calls_revenue</th>\n",
       "      <th>messages_revenue</th>\n",
       "      <th>mg_revenue</th>\n",
       "    </tr>\n",
       "  </thead>\n",
       "  <tbody>\n",
       "    <tr>\n",
       "      <td>157</td>\n",
       "      <td>1023</td>\n",
       "      <td>12</td>\n",
       "      <td>500</td>\n",
       "      <td>42</td>\n",
       "      <td>15360</td>\n",
       "      <td>smart</td>\n",
       "      <td>Томск</td>\n",
       "      <td>3</td>\n",
       "      <td>50</td>\n",
       "      <td>3</td>\n",
       "      <td>200</td>\n",
       "      <td>550</td>\n",
       "      <td>84</td>\n",
       "      <td>574.0</td>\n",
       "      <td>49</td>\n",
       "      <td>28442.0</td>\n",
       "      <td>222</td>\n",
       "      <td>0</td>\n",
       "      <td>2555</td>\n",
       "    </tr>\n",
       "    <tr>\n",
       "      <td>2634</td>\n",
       "      <td>1415</td>\n",
       "      <td>8</td>\n",
       "      <td>3000</td>\n",
       "      <td>41</td>\n",
       "      <td>30720</td>\n",
       "      <td>ultra</td>\n",
       "      <td>Москва</td>\n",
       "      <td>1</td>\n",
       "      <td>1000</td>\n",
       "      <td>1</td>\n",
       "      <td>150</td>\n",
       "      <td>1950</td>\n",
       "      <td>82</td>\n",
       "      <td>604.0</td>\n",
       "      <td>37</td>\n",
       "      <td>32746.0</td>\n",
       "      <td>0</td>\n",
       "      <td>0</td>\n",
       "      <td>296</td>\n",
       "    </tr>\n",
       "    <tr>\n",
       "      <td>433</td>\n",
       "      <td>1067</td>\n",
       "      <td>9</td>\n",
       "      <td>500</td>\n",
       "      <td>45</td>\n",
       "      <td>15360</td>\n",
       "      <td>smart</td>\n",
       "      <td>Москва</td>\n",
       "      <td>3</td>\n",
       "      <td>50</td>\n",
       "      <td>3</td>\n",
       "      <td>200</td>\n",
       "      <td>550</td>\n",
       "      <td>70</td>\n",
       "      <td>561.0</td>\n",
       "      <td>47</td>\n",
       "      <td>12783.0</td>\n",
       "      <td>183</td>\n",
       "      <td>0</td>\n",
       "      <td>0</td>\n",
       "    </tr>\n",
       "    <tr>\n",
       "      <td>3075</td>\n",
       "      <td>1481</td>\n",
       "      <td>10</td>\n",
       "      <td>500</td>\n",
       "      <td>70</td>\n",
       "      <td>15360</td>\n",
       "      <td>smart</td>\n",
       "      <td>Москва</td>\n",
       "      <td>3</td>\n",
       "      <td>50</td>\n",
       "      <td>3</td>\n",
       "      <td>200</td>\n",
       "      <td>550</td>\n",
       "      <td>35</td>\n",
       "      <td>283.0</td>\n",
       "      <td>25</td>\n",
       "      <td>18265.0</td>\n",
       "      <td>0</td>\n",
       "      <td>0</td>\n",
       "      <td>567</td>\n",
       "    </tr>\n",
       "    <tr>\n",
       "      <td>2249</td>\n",
       "      <td>1360</td>\n",
       "      <td>8</td>\n",
       "      <td>3000</td>\n",
       "      <td>46</td>\n",
       "      <td>30720</td>\n",
       "      <td>ultra</td>\n",
       "      <td>Санкт-Петербург</td>\n",
       "      <td>1</td>\n",
       "      <td>1000</td>\n",
       "      <td>1</td>\n",
       "      <td>150</td>\n",
       "      <td>1950</td>\n",
       "      <td>98</td>\n",
       "      <td>789.0</td>\n",
       "      <td>0</td>\n",
       "      <td>8643.0</td>\n",
       "      <td>0</td>\n",
       "      <td>0</td>\n",
       "      <td>0</td>\n",
       "    </tr>\n",
       "  </tbody>\n",
       "</table>\n",
       "</div>"
      ],
      "text/plain": [
       "      user_id  month  minutes_included  age  mb_per_month_included  \\\n",
       "157      1023     12               500   42                  15360   \n",
       "2634     1415      8              3000   41                  30720   \n",
       "433      1067      9               500   45                  15360   \n",
       "3075     1481     10               500   70                  15360   \n",
       "2249     1360      8              3000   46                  30720   \n",
       "\n",
       "     tariff_name             city  rub_per_message  messages_included  \\\n",
       "157        smart            Томск                3                 50   \n",
       "2634       ultra           Москва                1               1000   \n",
       "433        smart           Москва                3                 50   \n",
       "3075       smart           Москва                3                 50   \n",
       "2249       ultra  Санкт-Петербург                1               1000   \n",
       "\n",
       "      rub_per_minute  rub_per_gb  rub_monthly_fee  duration_count  \\\n",
       "157                3         200              550              84   \n",
       "2634               1         150             1950              82   \n",
       "433                3         200              550              70   \n",
       "3075               3         200              550              35   \n",
       "2249               1         150             1950              98   \n",
       "\n",
       "      duration_count_sum  messages  mb_used  calls_revenue  messages_revenue  \\\n",
       "157                574.0        49  28442.0            222                 0   \n",
       "2634               604.0        37  32746.0              0                 0   \n",
       "433                561.0        47  12783.0            183                 0   \n",
       "3075               283.0        25  18265.0              0                 0   \n",
       "2249               789.0         0   8643.0              0                 0   \n",
       "\n",
       "      mg_revenue  \n",
       "157         2555  \n",
       "2634         296  \n",
       "433            0  \n",
       "3075         567  \n",
       "2249           0  "
      ]
     },
     "execution_count": 34,
     "metadata": {},
     "output_type": "execute_result"
    }
   ],
   "source": [
    "full_table['messages_revenue'] = full_table['messages_revenue'].clip(lower=0)\n",
    "full_table['calls_revenue'] = full_table['calls_revenue'].clip(lower=0)\n",
    "full_table['mg_revenue'] = full_table['mg_revenue'].clip(lower=0)\n",
    "\n",
    "#Переведём нужные столбцы в тип int.\n",
    "full_table['calls_revenue'] = full_table['calls_revenue'].astype('int')\n",
    "full_table['messages_revenue'] = full_table['messages_revenue'].astype('int')\n",
    "full_table['messages'] = full_table['messages'].astype('int')\n",
    "full_table['mg_revenue'] = full_table['mg_revenue'].astype('int')\n",
    "full_table['month'] = full_table['month'].astype('int')\n",
    "\n",
    "#Проверим результат\n",
    "full_table.sample(5)"
   ]
  },
  {
   "cell_type": "markdown",
   "metadata": {},
   "source": [
    "Добавим новый столбец revenue, где подсуммируем прибыль с учетом стоимости тарифа и сверх тарифа."
   ]
  },
  {
   "cell_type": "code",
   "execution_count": 35,
   "metadata": {},
   "outputs": [
    {
     "data": {
      "text/html": [
       "<div>\n",
       "<style scoped>\n",
       "    .dataframe tbody tr th:only-of-type {\n",
       "        vertical-align: middle;\n",
       "    }\n",
       "\n",
       "    .dataframe tbody tr th {\n",
       "        vertical-align: top;\n",
       "    }\n",
       "\n",
       "    .dataframe thead th {\n",
       "        text-align: right;\n",
       "    }\n",
       "</style>\n",
       "<table border=\"1\" class=\"dataframe\">\n",
       "  <thead>\n",
       "    <tr style=\"text-align: right;\">\n",
       "      <th></th>\n",
       "      <th>user_id</th>\n",
       "      <th>month</th>\n",
       "      <th>minutes_included</th>\n",
       "      <th>age</th>\n",
       "      <th>mb_per_month_included</th>\n",
       "      <th>tariff_name</th>\n",
       "      <th>city</th>\n",
       "      <th>rub_per_message</th>\n",
       "      <th>messages_included</th>\n",
       "      <th>rub_per_minute</th>\n",
       "      <th>rub_per_gb</th>\n",
       "      <th>rub_monthly_fee</th>\n",
       "      <th>duration_count</th>\n",
       "      <th>duration_count_sum</th>\n",
       "      <th>messages</th>\n",
       "      <th>mb_used</th>\n",
       "      <th>calls_revenue</th>\n",
       "      <th>messages_revenue</th>\n",
       "      <th>mg_revenue</th>\n",
       "      <th>revenue</th>\n",
       "    </tr>\n",
       "  </thead>\n",
       "  <tbody>\n",
       "    <tr>\n",
       "      <td>954</td>\n",
       "      <td>1153</td>\n",
       "      <td>11</td>\n",
       "      <td>500</td>\n",
       "      <td>59</td>\n",
       "      <td>15360</td>\n",
       "      <td>smart</td>\n",
       "      <td>Ульяновск</td>\n",
       "      <td>3</td>\n",
       "      <td>50</td>\n",
       "      <td>3</td>\n",
       "      <td>200</td>\n",
       "      <td>550</td>\n",
       "      <td>86</td>\n",
       "      <td>642.0</td>\n",
       "      <td>0</td>\n",
       "      <td>16056.0</td>\n",
       "      <td>426</td>\n",
       "      <td>0</td>\n",
       "      <td>135</td>\n",
       "      <td>1111</td>\n",
       "    </tr>\n",
       "    <tr>\n",
       "      <td>639</td>\n",
       "      <td>1101</td>\n",
       "      <td>12</td>\n",
       "      <td>500</td>\n",
       "      <td>27</td>\n",
       "      <td>15360</td>\n",
       "      <td>smart</td>\n",
       "      <td>Казань</td>\n",
       "      <td>3</td>\n",
       "      <td>50</td>\n",
       "      <td>3</td>\n",
       "      <td>200</td>\n",
       "      <td>550</td>\n",
       "      <td>87</td>\n",
       "      <td>734.0</td>\n",
       "      <td>0</td>\n",
       "      <td>8351.0</td>\n",
       "      <td>702</td>\n",
       "      <td>0</td>\n",
       "      <td>0</td>\n",
       "      <td>1252</td>\n",
       "    </tr>\n",
       "    <tr>\n",
       "      <td>1390</td>\n",
       "      <td>1220</td>\n",
       "      <td>12</td>\n",
       "      <td>500</td>\n",
       "      <td>59</td>\n",
       "      <td>15360</td>\n",
       "      <td>smart</td>\n",
       "      <td>Ростов-на-Дону</td>\n",
       "      <td>3</td>\n",
       "      <td>50</td>\n",
       "      <td>3</td>\n",
       "      <td>200</td>\n",
       "      <td>550</td>\n",
       "      <td>102</td>\n",
       "      <td>787.0</td>\n",
       "      <td>0</td>\n",
       "      <td>21003.0</td>\n",
       "      <td>861</td>\n",
       "      <td>0</td>\n",
       "      <td>1102</td>\n",
       "      <td>2513</td>\n",
       "    </tr>\n",
       "    <tr>\n",
       "      <td>1564</td>\n",
       "      <td>1250</td>\n",
       "      <td>10</td>\n",
       "      <td>500</td>\n",
       "      <td>20</td>\n",
       "      <td>15360</td>\n",
       "      <td>smart</td>\n",
       "      <td>Смоленск</td>\n",
       "      <td>3</td>\n",
       "      <td>50</td>\n",
       "      <td>3</td>\n",
       "      <td>200</td>\n",
       "      <td>550</td>\n",
       "      <td>70</td>\n",
       "      <td>559.0</td>\n",
       "      <td>52</td>\n",
       "      <td>16159.0</td>\n",
       "      <td>177</td>\n",
       "      <td>6</td>\n",
       "      <td>156</td>\n",
       "      <td>889</td>\n",
       "    </tr>\n",
       "    <tr>\n",
       "      <td>1295</td>\n",
       "      <td>1204</td>\n",
       "      <td>8</td>\n",
       "      <td>500</td>\n",
       "      <td>18</td>\n",
       "      <td>15360</td>\n",
       "      <td>smart</td>\n",
       "      <td>Москва</td>\n",
       "      <td>3</td>\n",
       "      <td>50</td>\n",
       "      <td>3</td>\n",
       "      <td>200</td>\n",
       "      <td>550</td>\n",
       "      <td>64</td>\n",
       "      <td>499.0</td>\n",
       "      <td>0</td>\n",
       "      <td>20872.0</td>\n",
       "      <td>0</td>\n",
       "      <td>0</td>\n",
       "      <td>1076</td>\n",
       "      <td>1626</td>\n",
       "    </tr>\n",
       "  </tbody>\n",
       "</table>\n",
       "</div>"
      ],
      "text/plain": [
       "      user_id  month  minutes_included  age  mb_per_month_included  \\\n",
       "954      1153     11               500   59                  15360   \n",
       "639      1101     12               500   27                  15360   \n",
       "1390     1220     12               500   59                  15360   \n",
       "1564     1250     10               500   20                  15360   \n",
       "1295     1204      8               500   18                  15360   \n",
       "\n",
       "     tariff_name            city  rub_per_message  messages_included  \\\n",
       "954        smart       Ульяновск                3                 50   \n",
       "639        smart          Казань                3                 50   \n",
       "1390       smart  Ростов-на-Дону                3                 50   \n",
       "1564       smart        Смоленск                3                 50   \n",
       "1295       smart          Москва                3                 50   \n",
       "\n",
       "      rub_per_minute  rub_per_gb  rub_monthly_fee  duration_count  \\\n",
       "954                3         200              550              86   \n",
       "639                3         200              550              87   \n",
       "1390               3         200              550             102   \n",
       "1564               3         200              550              70   \n",
       "1295               3         200              550              64   \n",
       "\n",
       "      duration_count_sum  messages  mb_used  calls_revenue  messages_revenue  \\\n",
       "954                642.0         0  16056.0            426                 0   \n",
       "639                734.0         0   8351.0            702                 0   \n",
       "1390               787.0         0  21003.0            861                 0   \n",
       "1564               559.0        52  16159.0            177                 6   \n",
       "1295               499.0         0  20872.0              0                 0   \n",
       "\n",
       "      mg_revenue  revenue  \n",
       "954          135     1111  \n",
       "639            0     1252  \n",
       "1390        1102     2513  \n",
       "1564         156      889  \n",
       "1295        1076     1626  "
      ]
     },
     "execution_count": 35,
     "metadata": {},
     "output_type": "execute_result"
    }
   ],
   "source": [
    "full_table['revenue'] = full_table['rub_monthly_fee'] + full_table['calls_revenue'] + full_table['messages_revenue'] + full_table['mg_revenue']\n",
    "#Проверим результат\n",
    "full_table.sample(5)"
   ]
  },
  {
   "cell_type": "markdown",
   "metadata": {},
   "source": [
    "Сохраним в переменной total_revenue общую прибыль с каждого тарифа отдельно по звонкам/сообщениям/интернету и общую стоимость."
   ]
  },
  {
   "cell_type": "code",
   "execution_count": 36,
   "metadata": {},
   "outputs": [
    {
     "data": {
      "text/html": [
       "<div>\n",
       "<style scoped>\n",
       "    .dataframe tbody tr th:only-of-type {\n",
       "        vertical-align: middle;\n",
       "    }\n",
       "\n",
       "    .dataframe tbody tr th {\n",
       "        vertical-align: top;\n",
       "    }\n",
       "\n",
       "    .dataframe thead th {\n",
       "        text-align: right;\n",
       "    }\n",
       "</style>\n",
       "<table border=\"1\" class=\"dataframe\">\n",
       "  <thead>\n",
       "    <tr style=\"text-align: right;\">\n",
       "      <th></th>\n",
       "      <th>calls_revenue</th>\n",
       "      <th>messages_revenue</th>\n",
       "      <th>mg_revenue</th>\n",
       "      <th>revenue</th>\n",
       "    </tr>\n",
       "    <tr>\n",
       "      <th>tariff_name</th>\n",
       "      <th></th>\n",
       "      <th></th>\n",
       "      <th></th>\n",
       "      <th></th>\n",
       "    </tr>\n",
       "  </thead>\n",
       "  <tbody>\n",
       "    <tr>\n",
       "      <td>smart</td>\n",
       "      <td>316056</td>\n",
       "      <td>38784</td>\n",
       "      <td>1205941</td>\n",
       "      <td>2783431</td>\n",
       "    </tr>\n",
       "    <tr>\n",
       "      <td>ultra</td>\n",
       "      <td>0</td>\n",
       "      <td>0</td>\n",
       "      <td>106002</td>\n",
       "      <td>1960452</td>\n",
       "    </tr>\n",
       "  </tbody>\n",
       "</table>\n",
       "</div>"
      ],
      "text/plain": [
       "             calls_revenue  messages_revenue  mg_revenue  revenue\n",
       "tariff_name                                                      \n",
       "smart               316056             38784     1205941  2783431\n",
       "ultra                    0                 0      106002  1960452"
      ]
     },
     "execution_count": 36,
     "metadata": {},
     "output_type": "execute_result"
    }
   ],
   "source": [
    "total_revenue = full_table.pivot_table(index=['tariff_name'], \n",
    "                                       values=['calls_revenue', 'messages_revenue', \n",
    "                                               'mg_revenue', 'revenue'], aggfunc='sum')\n",
    "\n",
    "#Выведим таблицу total_revenue\n",
    "total_revenue"
   ]
  },
  {
   "cell_type": "markdown",
   "metadata": {},
   "source": [
    "**Вывод:**\n",
    "\n",
    "* Больше дополнительного дохода приносит тариф Smart\n",
    "* В тарифах Samrt и Ultra самым прибыльным сегментом является интернет\n",
    "* У тарифа Smart общая прибыль больше"
   ]
  },
  {
   "cell_type": "markdown",
   "metadata": {},
   "source": [
    "Сохраним в переменную sum_smart таблицу пользователей с тарифом Smart."
   ]
  },
  {
   "cell_type": "code",
   "execution_count": 37,
   "metadata": {},
   "outputs": [],
   "source": [
    "sum_smart = full_table[(full_table['tariff_name'] == 'smart')]"
   ]
  },
  {
   "cell_type": "markdown",
   "metadata": {},
   "source": [
    "Сохраним в переменную sum_ultra таблицу пользователей с тарифом Ultra.\n",
    "\n"
   ]
  },
  {
   "cell_type": "code",
   "execution_count": 38,
   "metadata": {},
   "outputs": [],
   "source": [
    "sum_ultra = full_table[(full_table['tariff_name'] == 'ultra')]"
   ]
  },
  {
   "cell_type": "markdown",
   "metadata": {},
   "source": [
    "## Анализ данных"
   ]
  },
  {
   "cell_type": "markdown",
   "metadata": {},
   "source": [
    "### Выведим гистограммы со статистикой пользователей Smart."
   ]
  },
  {
   "cell_type": "markdown",
   "metadata": {},
   "source": [
    "В тариф Smart включено 500 минут разговора, 50 сообщений и 15 Гб интернет-трафика.\n",
    "\n",
    "Построим гистограмму с кол-ством минут для тарифа."
   ]
  },
  {
   "cell_type": "code",
   "execution_count": 39,
   "metadata": {},
   "outputs": [
    {
     "data": {
      "text/plain": [
       "Text(0, 0.5, 'Количество пользователей')"
      ]
     },
     "execution_count": 39,
     "metadata": {},
     "output_type": "execute_result"
    },
    {
     "data": {
      "image/png": "[encoded data removed]",
      "text/plain": [
       "<Figure size 432x288 with 1 Axes>"
      ]
     },
     "metadata": {
      "needs_background": "light"
     },
     "output_type": "display_data"
    }
   ],
   "source": [
    "sum_smart['duration_count_sum'].hist(bins=35, range=(0, 2000))\n",
    "pl.title(\"Гистограмма с количеством минут для тарифа Smart\")\n",
    "pl.xlabel(\"Количество минут\")\n",
    "pl.ylabel(\"Количество пользователей\")"
   ]
  },
  {
   "cell_type": "markdown",
   "metadata": {},
   "source": [
    "**Вывод:**\n",
    "\n",
    "* Видим, что пик затрат минут как раз приходится на лимит тарифа: 250 - 500 минут, но довольно много пользователей тратят больше лимита, доходя до 600 - 750 минут, встречаются и около 1000. "
   ]
  },
  {
   "cell_type": "markdown",
   "metadata": {},
   "source": [
    "Построим гистограмму с кол-ством сообщений для тарифа."
   ]
  },
  {
   "cell_type": "code",
   "execution_count": 40,
   "metadata": {},
   "outputs": [
    {
     "data": {
      "text/plain": [
       "Text(0, 0.5, 'Количество пользователей')"
      ]
     },
     "execution_count": 40,
     "metadata": {},
     "output_type": "execute_result"
    },
    {
     "data": {
      "image/png": "[encoded data removed]",
      "text/plain": [
       "<Figure size 432x288 with 1 Axes>"
      ]
     },
     "metadata": {
      "needs_background": "light"
     },
     "output_type": "display_data"
    }
   ],
   "source": [
    "sum_smart['messages'].hist(bins=35, range=(0, 150))\n",
    "pl.title(\"Гистограмма с количеством сообщений для тарифа Smart\")\n",
    "pl.xlabel(\"Количество сообщений\")\n",
    "pl.ylabel(\"Количество пользователей\")"
   ]
  },
  {
   "cell_type": "markdown",
   "metadata": {},
   "source": [
    "**Вывод:**\n",
    "\n",
    "* Видим, что очень много пользователей не отправляют сообщения, либо отправляют не более 5-ти. Скорее всего такие пользователи пользуются мессенджерами.\n",
    "* Не мало пользователей превышают лимит в 50 сообщений и довольно много встречаются отправки 50-80 сообщений, есть выше 100 сообщений."
   ]
  },
  {
   "cell_type": "markdown",
   "metadata": {},
   "source": [
    "Построим гистограмму с количеством мегабайт для тарифа."
   ]
  },
  {
   "cell_type": "code",
   "execution_count": 41,
   "metadata": {},
   "outputs": [
    {
     "data": {
      "text/plain": [
       "Text(0, 0.5, 'Количество пользователей')"
      ]
     },
     "execution_count": 41,
     "metadata": {},
     "output_type": "execute_result"
    },
    {
     "data": {
      "image/png": "[encoded data removed]",
      "text/plain": [
       "<Figure size 432x288 with 1 Axes>"
      ]
     },
     "metadata": {
      "needs_background": "light"
     },
     "output_type": "display_data"
    }
   ],
   "source": [
    "sum_smart['mb_used'].hist(bins=35, range=(0, 50000))\n",
    "pl.title(\"Гистограмма с количеством мегабайт для тарифа Smart\")\n",
    "pl.xlabel(\"Количество мегабайт\")\n",
    "pl.ylabel(\"Количество пользователей\")"
   ]
  },
  {
   "cell_type": "markdown",
   "metadata": {},
   "source": [
    "**Вывод:**\n",
    "\n",
    "* Видим, что небольшая часть пользователей не пользуются интернетом, либо же используют не больше 5 гб.\n",
    "* Пик припадает на уровне 15 гб, но много пользователей превышают данный лимит и хвост доходит к 0 только ближе к 30 гб."
   ]
  },
  {
   "cell_type": "markdown",
   "metadata": {},
   "source": [
    "### Выведим гистограммы со статистикой пользователей Ultra."
   ]
  },
  {
   "cell_type": "markdown",
   "metadata": {},
   "source": [
    "В тариф Ultra включено 3000 минут разговора, 1000 сообщений и 30 Гб интернет-трафика.\n",
    "\n",
    "Построим гистограмму с кол-ством минут для тарифа."
   ]
  },
  {
   "cell_type": "code",
   "execution_count": 42,
   "metadata": {},
   "outputs": [
    {
     "data": {
      "text/plain": [
       "Text(0, 0.5, 'Количество пользователей')"
      ]
     },
     "execution_count": 42,
     "metadata": {},
     "output_type": "execute_result"
    },
    {
     "data": {
      "image/png": "[encoded data removed]",
      "text/plain": [
       "<Figure size 432x288 with 1 Axes>"
      ]
     },
     "metadata": {
      "needs_background": "light"
     },
     "output_type": "display_data"
    }
   ],
   "source": [
    "sum_ultra['duration_count_sum'].hist(bins=35, range=(0, 2000))\n",
    "pl.title(\"Гистограмма с количеством минут для тарифа Ultra\")\n",
    "pl.xlabel(\"Количество минут\")\n",
    "pl.ylabel(\"Количество пользователей\")"
   ]
  },
  {
   "cell_type": "markdown",
   "metadata": {},
   "source": [
    "**Вывод:**\n",
    "\n",
    "* Видим, что небольшая часть пользователей используют не больше 250 минут.\n",
    "* Пик количества минут находится около 500-600 минут и держится до 800 минут, далее резкий спад, хвост приближается к 0 после 1300 минут."
   ]
  },
  {
   "cell_type": "markdown",
   "metadata": {},
   "source": [
    "Построим гистограмму с количеством сообщения для тарифа.\n"
   ]
  },
  {
   "cell_type": "code",
   "execution_count": 43,
   "metadata": {},
   "outputs": [
    {
     "data": {
      "text/plain": [
       "Text(0, 0.5, 'Количество пользователей')"
      ]
     },
     "execution_count": 43,
     "metadata": {},
     "output_type": "execute_result"
    },
    {
     "data": {
      "image/png": "[encoded data removed]",
      "text/plain": [
       "<Figure size 432x288 with 1 Axes>"
      ]
     },
     "metadata": {
      "needs_background": "light"
     },
     "output_type": "display_data"
    }
   ],
   "source": [
    "sum_ultra['messages'].hist(bins=35, range=(0, 250))\n",
    "pl.title(\"Гистограмма с количеством сообщений для тарифа Ultra\")\n",
    "pl.xlabel(\"Количество сообщений\")\n",
    "pl.ylabel(\"Количество пользователей\")"
   ]
  },
  {
   "cell_type": "markdown",
   "metadata": {},
   "source": [
    "**Вывод:**\n",
    "\n",
    "* Видим, что очень много пользователей не отпрааляю сообщения, либо же отправляют не больше 5.\n",
    "* Те, кто пользуется отправкой сообщений отправляет около 20-100 сообщений, хвост приближается к 0 после 150 сообщений."
   ]
  },
  {
   "cell_type": "markdown",
   "metadata": {},
   "source": [
    "Построим гистограмму с количеством мегабайт для тарифа."
   ]
  },
  {
   "cell_type": "code",
   "execution_count": 44,
   "metadata": {},
   "outputs": [
    {
     "data": {
      "text/plain": [
       "Text(0, 0.5, 'Количество пользователей')"
      ]
     },
     "execution_count": 44,
     "metadata": {},
     "output_type": "execute_result"
    },
    {
     "data": {
      "image/png": "[encoded data removed]",
      "text/plain": [
       "<Figure size 432x288 with 1 Axes>"
      ]
     },
     "metadata": {
      "needs_background": "light"
     },
     "output_type": "display_data"
    }
   ],
   "source": [
    "sum_ultra['mb_used'].hist(bins=35, range=(0, 50000))\n",
    "pl.title(\"Гистограмма с количеством мегабайт для тарифа Ultra\")\n",
    "pl.xlabel(\"Количество мегабайт\")\n",
    "pl.ylabel(\"Количество пользователей\")"
   ]
  },
  {
   "cell_type": "markdown",
   "metadata": {},
   "source": [
    "**Вывод:**\n",
    "\n",
    "* Видим, что небольшая часть пользователей не использует интернет.\n",
    "* Пик мегабайт приходит на 20-23 гб, так же виден скачёк ближе к 30 гб, хвост приближается к 0 после 45 гб."
   ]
  },
  {
   "cell_type": "markdown",
   "metadata": {},
   "source": [
    "Посчитаем среднее количество, дисперсию и стандартное отклонение по каждому тарифу."
   ]
  },
  {
   "cell_type": "code",
   "execution_count": 45,
   "metadata": {},
   "outputs": [
    {
     "data": {
      "text/html": [
       "<div>\n",
       "<style scoped>\n",
       "    .dataframe tbody tr th:only-of-type {\n",
       "        vertical-align: middle;\n",
       "    }\n",
       "\n",
       "    .dataframe tbody tr th {\n",
       "        vertical-align: top;\n",
       "    }\n",
       "\n",
       "    .dataframe thead tr th {\n",
       "        text-align: left;\n",
       "    }\n",
       "\n",
       "    .dataframe thead tr:last-of-type th {\n",
       "        text-align: right;\n",
       "    }\n",
       "</style>\n",
       "<table border=\"1\" class=\"dataframe\">\n",
       "  <thead>\n",
       "    <tr>\n",
       "      <th></th>\n",
       "      <th colspan=\"3\" halign=\"left\">mean</th>\n",
       "      <th colspan=\"3\" halign=\"left\">var</th>\n",
       "      <th colspan=\"3\" halign=\"left\">std</th>\n",
       "    </tr>\n",
       "    <tr>\n",
       "      <th></th>\n",
       "      <th>duration_count_sum</th>\n",
       "      <th>mb_used</th>\n",
       "      <th>messages</th>\n",
       "      <th>duration_count_sum</th>\n",
       "      <th>mb_used</th>\n",
       "      <th>messages</th>\n",
       "      <th>duration_count_sum</th>\n",
       "      <th>mb_used</th>\n",
       "      <th>messages</th>\n",
       "    </tr>\n",
       "    <tr>\n",
       "      <th>tariff_name</th>\n",
       "      <th></th>\n",
       "      <th></th>\n",
       "      <th></th>\n",
       "      <th></th>\n",
       "      <th></th>\n",
       "      <th></th>\n",
       "      <th></th>\n",
       "      <th></th>\n",
       "      <th></th>\n",
       "    </tr>\n",
       "  </thead>\n",
       "  <tbody>\n",
       "    <tr>\n",
       "      <td>smart</td>\n",
       "      <td>430.609987</td>\n",
       "      <td>16238.160144</td>\n",
       "      <td>33.396311</td>\n",
       "      <td>37577.967083</td>\n",
       "      <td>3.464007e+07</td>\n",
       "      <td>798.595792</td>\n",
       "      <td>193.850373</td>\n",
       "      <td>5885.581942</td>\n",
       "      <td>28.259437</td>\n",
       "    </tr>\n",
       "    <tr>\n",
       "      <td>ultra</td>\n",
       "      <td>560.113565</td>\n",
       "      <td>19482.347003</td>\n",
       "      <td>49.033649</td>\n",
       "      <td>99062.633405</td>\n",
       "      <td>1.027540e+08</td>\n",
       "      <td>2198.733603</td>\n",
       "      <td>314.742170</td>\n",
       "      <td>10136.764424</td>\n",
       "      <td>46.890656</td>\n",
       "    </tr>\n",
       "  </tbody>\n",
       "</table>\n",
       "</div>"
      ],
      "text/plain": [
       "                          mean                                         var  \\\n",
       "            duration_count_sum       mb_used   messages duration_count_sum   \n",
       "tariff_name                                                                  \n",
       "smart               430.609987  16238.160144  33.396311       37577.967083   \n",
       "ultra               560.113565  19482.347003  49.033649       99062.633405   \n",
       "\n",
       "                                                      std                \\\n",
       "                  mb_used     messages duration_count_sum       mb_used   \n",
       "tariff_name                                                               \n",
       "smart        3.464007e+07   798.595792         193.850373   5885.581942   \n",
       "ultra        1.027540e+08  2198.733603         314.742170  10136.764424   \n",
       "\n",
       "                        \n",
       "              messages  \n",
       "tariff_name             \n",
       "smart        28.259437  \n",
       "ultra        46.890656  "
      ]
     },
     "execution_count": 45,
     "metadata": {},
     "output_type": "execute_result"
    }
   ],
   "source": [
    "variance = full_table.pivot_table(index=['tariff_name'], values=['duration_count_sum', \n",
    "                                                                 'messages', 'mb_used'],\n",
    "                                 aggfunc=['mean', 'var', 'std'])\n",
    "#Проверим результат\n",
    "variance"
   ]
  },
  {
   "cell_type": "markdown",
   "metadata": {},
   "source": [
    "**Общий:**\n",
    "\n",
    "* Пользователи тарифа Smart часто привышают лимиты, чаще всего по количеству минут и очень много по лимиту интернета.\n",
    "* Пользователи тарифа Ultra практически не превышают лимитов, кроме интернета.\n",
    "* Пользователи двух тарифов используют примерно одинаковые объемы интернета, особенно на пиках графиков.\n",
    "* В двух тарифак довольно много либо не пользуются отправкой сообщений, либо же используют в небольших количествах около 5-10 сообщений.\n",
    "* Пользователи тарифа Ultra чаще всего не используют весь лимит по звонкам и сообщениям."
   ]
  },
  {
   "cell_type": "markdown",
   "metadata": {},
   "source": [
    "## Проверка гипотез"
   ]
  },
  {
   "cell_type": "markdown",
   "metadata": {},
   "source": [
    "### Проверка гипотезы, что средняя выручка пользователей тарифов «Ультра» и «Смарт» различается"
   ]
  },
  {
   "cell_type": "markdown",
   "metadata": {},
   "source": [
    "Начнём с формулировки нулевой гипотезы. H₀ всегда формулируется так, чтобы использовать знак равенства. H₀ - среднее рассматриваемой генеральной совокупности равно второй. Исходя из H₀ формулируется альтернативная гипотеза H₁. Для этой H₀ - среднее генеральной совокупности не равно второй.\n",
    "\n",
    "**Нулевой гипотезой будет гипотеза о том, что средние наших выборок равны. Альтернативной гипотезой будет наша гипотеза \"Средняя выручка пользователей тарифов «Ультра» и «Смарт» различается\".**\n",
    "\n",
    "Критический уровень статистической значимости присвоим значением 0.05.\n",
    "\n",
    "Чтобы проверить гипотезу о равенстве среднего двух генеральных совокупностей по взятым из них выборкам, примените метод scipy.stats.ttest_ind.\n"
   ]
  },
  {
   "cell_type": "code",
   "execution_count": 46,
   "metadata": {},
   "outputs": [
    {
     "name": "stdout",
     "output_type": "stream",
     "text": [
      "Среднее Smart: 1252.10571300045\n",
      "Среднее Ultra: 2061.4637223974764\n",
      "p-значение: 3.3828237671576783e-174\n",
      "Отвергаем нулевую гипотизу\n"
     ]
    }
   ],
   "source": [
    "smart = sum_smart['revenue']\n",
    "ultra = sum_ultra['revenue']\n",
    "\n",
    "print('Среднее Smart:', pd.Series(smart).mean())\n",
    "print('Среднее Ultra:', pd.Series(ultra).mean())\n",
    "alpha = 0.05\n",
    "\n",
    "result = st.ttest_ind(smart, ultra)\n",
    "\n",
    "print('p-значение:', result.pvalue)\n",
    "\n",
    "if (result.pvalue < alpha):\n",
    "    print('Отвергаем нулевую гипотизу')\n",
    "else:\n",
    "    print('Не получилось отвергнуть нулевую гипотезу')"
   ]
  },
  {
   "cell_type": "markdown",
   "metadata": {},
   "source": [
    "**Вывод:**\n",
    "\n",
    "Можем сказать, что выручка по двум тарифам сильно различается. Вернее, только исходя из проверки гипотезы мы не можем сказать, что больше, — только то что количество выручки отличается. Потому что гипотеза двухсторонняя: мы не знаем, в какую сторону оно отличается. Однако посчитав среднее количество выручки для обоих тарифов, с уверенностью можем сказать: cредняя выручка из тарифа Ultra выше."
   ]
  },
  {
   "cell_type": "markdown",
   "metadata": {},
   "source": [
    "### Проверка гипотезы, что средняя выручка пользователей из Москвы отличается от выручки пользователей из других регионов"
   ]
  },
  {
   "cell_type": "code",
   "execution_count": 47,
   "metadata": {},
   "outputs": [],
   "source": [
    "#Сохраним moscow_tariff список пользователей из Москвы\n",
    "moscow_tariff = full_table[(full_table['city'] == 'Москва')]\n",
    "\n",
    "#Сохраним other_tariff список пользователей из других регионов\n",
    "other_tariff = full_table[(full_table['city'] != 'Москва')]"
   ]
  },
  {
   "cell_type": "markdown",
   "metadata": {},
   "source": [
    "Проверим, отличается ли среднняя выручка по пользователям Москвы и других регионов."
   ]
  },
  {
   "cell_type": "code",
   "execution_count": 48,
   "metadata": {},
   "outputs": [
    {
     "name": "stdout",
     "output_type": "stream",
     "text": [
      "Выручка по Москве: 1516.8262295081968\n",
      "Выручка в других регионах 1489.3209828393135\n",
      "p-значение: 0.4390714153457218\n",
      "Не получилось отвергнуть нулевую гипотезу\n"
     ]
    }
   ],
   "source": [
    "moscow = moscow_tariff['revenue']\n",
    "other = other_tariff['revenue']\n",
    "\n",
    "print('Выручка по Москве:', pd.Series(moscow).mean())\n",
    "print('Выручка в других регионах', pd.Series(other).mean())\n",
    "alpha = 0.05\n",
    "\n",
    "result = st.ttest_ind(moscow, other)\n",
    "\n",
    "print('p-значение:', result.pvalue)\n",
    "\n",
    "if (result.pvalue < alpha):\n",
    "    print('Отвергаем нулевую гипотезу')\n",
    "else:\n",
    "    print('Не получилось отвергнуть нулевую гипотезу')"
   ]
  },
  {
   "cell_type": "markdown",
   "metadata": {},
   "source": [
    "**Вывод:**\n",
    "\n",
    "Можем сказать, что выручка по Москве и других регионам почти не различается. Вернее, только исходя из проверки гипотезы мы не можем сказать, что больше, — только что количество выручки почти одинаково и входит в диапазон статистической значимости. Посчитав среднее количество выручки для Москвы и других регионов, с уверенностью можем сказать: выручка не отличается существенно."
   ]
  },
  {
   "cell_type": "markdown",
   "metadata": {},
   "source": [
    "#### Проверим, отличается ли среднняя выручка по тарифу Смарт пользователей Москвы и других регионов."
   ]
  },
  {
   "cell_type": "code",
   "execution_count": 49,
   "metadata": {},
   "outputs": [],
   "source": [
    "#Сохраним moscow_tariff_smart список пользователей из Москвы с тарифом Смарт\n",
    "moscow_tariff_smart = full_table[(full_table['city'] == 'Москва') & \n",
    "                                 (full_table['tariff_name'] == 'smart')]\n",
    "\n",
    "#Сохраним other_tariff_smart список пользователей из других регионов с тарифом Смарт\n",
    "other_tariff_smart = full_table[(full_table['city'] != 'Москва') &\n",
    "                               (full_table['tariff_name'] == 'smart')]"
   ]
  },
  {
   "cell_type": "code",
   "execution_count": 50,
   "metadata": {},
   "outputs": [
    {
     "name": "stdout",
     "output_type": "stream",
     "text": [
      "Выручка по Москве тарифа Smart: 1199.2227979274612\n",
      "Выручка в других регионах тарифа Smart 1263.2177463255307\n",
      "p-значение: 0.15225169223911475\n",
      "Не получилось отвергнуть нулевуюгипотезу\n"
     ]
    }
   ],
   "source": [
    "moscow = moscow_tariff_smart['revenue']\n",
    "other = other_tariff_smart['revenue']\n",
    "\n",
    "print('Выручка по Москве тарифа Smart:', pd.Series(moscow).mean())\n",
    "print('Выручка в других регионах тарифа Smart', pd.Series(other).mean())\n",
    "alpha = 0.05\n",
    "\n",
    "result = st.ttest_ind(moscow, other)\n",
    "\n",
    "print('p-значение:', result.pvalue)\n",
    "\n",
    "if (result.pvalue < alpha):\n",
    "    print('Отвергаем нулевую гипотезу')\n",
    "else:\n",
    "    print('Не получилось отвергнуть нулевуюгипотезу')"
   ]
  },
  {
   "cell_type": "markdown",
   "metadata": {},
   "source": [
    "#### Проверим, отличается ли среднняя выручка по тарифу Ультра пользователей Москвы и других регионов."
   ]
  },
  {
   "cell_type": "code",
   "execution_count": 51,
   "metadata": {},
   "outputs": [],
   "source": [
    "#Сохраним moscow_tariff_smart список пользователей из Москвы с тарифом Ultra\n",
    "moscow_tariff_ultra = full_table[(full_table['city'] == 'Москва') &\n",
    "                                (full_table['tariff_name'] == 'ultra')]\n",
    "\n",
    "#Сохраним other_tariff_smart список пользователей из других регионов с тарифом Смарт\n",
    "other_tariff_ultra = full_table[(full_table['city'] != 'Москва') &\n",
    "                               (full_table['tariff_name'] == 'ultra')]"
   ]
  },
  {
   "cell_type": "code",
   "execution_count": 52,
   "metadata": {},
   "outputs": [
    {
     "name": "stdout",
     "output_type": "stream",
     "text": [
      "Выручка по Москве тарифа ультра: 2064.125\n",
      "Выручка по другим регионам: 2060.643741403026\n",
      "p-значение: 0.15225169223911475\n",
      "Не получилось отвергнуть нулевую гепотизу\n"
     ]
    }
   ],
   "source": [
    "moscow = moscow_tariff_ultra['revenue']\n",
    "other = other_tariff_ultra['revenue']\n",
    "\n",
    "print('Выручка по Москве тарифа ультра:', pd.Series(moscow).mean())\n",
    "print('Выручка по другим регионам:', pd.Series(other).mean())\n",
    "alpha = 0.05\n",
    "\n",
    "results = st.ttest_ind(moscow, other)\n",
    "print('p-значение:', result.pvalue)\n",
    "\n",
    "if (result.pvalue < alpha):\n",
    "    print('Отвергаем нулевую гипотезу')\n",
    "else:\n",
    "    print('Не получилось отвергнуть нулевую гепотизу')"
   ]
  },
  {
   "cell_type": "markdown",
   "metadata": {},
   "source": [
    "**Вывод:**\n",
    "\n",
    "Видим, что выручка по Москве и других регионам, по тарифам почти не различается. Вернее, только исходя из проверки гипотезы мы не можем сказать, что больше, — только что количество выручки почти одинаково и входит в диапазон статистической значимости. "
   ]
  },
  {
   "cell_type": "markdown",
   "metadata": {},
   "source": [
    "## Общие выводы с анализа перспективного тарифа для телеком компании"
   ]
  },
  {
   "cell_type": "markdown",
   "metadata": {},
   "source": [
    "* Пользователи больше предпочитают тариф Smart.\n",
    "* Больше всего приносит дополнительного дохода тариф Smart.\n",
    "* Самым прибильным сегментом является - интернет, при том в двух тарифах.\n",
    "* Общая прибыль больше всего у тарифа Smart.\n",
    "* Пользователи тарифа Smart часто не вклиниваются в лимиты, чаще всего по количеству минут и очень много по лимиту итернета.\n",
    "* Пользователи тарифа Ultra практически не превышают лимитов, кроме интернета.\n",
    "* Пользователи двух тарифов используют примерно одинаковые объемы интернета, особенно на пиках графиков.\n",
    "* В двух тарифак довольно много либо не пользуются отправкой сообщений, либо же используют в небольших количествах до 5-10 сообщений.\n",
    "* Пользователи тарифа Ultra чаще всего не используют весь лимит по звонкам и сообщениям.\n",
    "* Несмотря на то, что больше прибыли приносит тариф Smart, среднняя выручка выше у Ultra.\n",
    "* Разница в средней вырчки из Москвы и других регонов - незначительная, это относится и к сравнению тарифов по Москве и регионам."
   ]
  }
 ],
 "metadata": {
  "ExecuteTimeLog": [
   {
    "duration": 1019,
    "start_time": "2021-12-04T04:08:29.990Z"
   },
   {
    "duration": 624,
    "start_time": "2021-12-04T04:08:58.495Z"
   },
   {
    "duration": 426,
    "start_time": "2021-12-04T04:09:55.636Z"
   },
   {
    "duration": 381,
    "start_time": "2021-12-04T04:10:50.419Z"
   },
   {
    "duration": 386,
    "start_time": "2021-12-04T04:11:51.682Z"
   },
   {
    "duration": 415,
    "start_time": "2021-12-04T04:12:31.767Z"
   },
   {
    "duration": 420,
    "start_time": "2021-12-04T04:15:40.930Z"
   },
   {
    "duration": 445,
    "start_time": "2021-12-04T04:16:33.769Z"
   },
   {
    "duration": 441,
    "start_time": "2021-12-04T04:18:06.524Z"
   },
   {
    "duration": 26,
    "start_time": "2021-12-04T04:18:41.531Z"
   },
   {
    "duration": 23,
    "start_time": "2021-12-04T04:18:55.514Z"
   },
   {
    "duration": 417,
    "start_time": "2021-12-04T04:19:13.232Z"
   },
   {
    "duration": 271,
    "start_time": "2021-12-04T04:20:25.026Z"
   },
   {
    "duration": 21,
    "start_time": "2021-12-04T04:20:31.798Z"
   },
   {
    "duration": 13,
    "start_time": "2021-12-04T04:21:16.087Z"
   },
   {
    "duration": 14,
    "start_time": "2021-12-04T04:21:44.301Z"
   },
   {
    "duration": 6106,
    "start_time": "2021-12-04T04:41:13.195Z"
   },
   {
    "duration": 38,
    "start_time": "2021-12-04T04:41:50.158Z"
   },
   {
    "duration": 317,
    "start_time": "2021-12-04T04:45:27.147Z"
   },
   {
    "duration": 23,
    "start_time": "2021-12-04T04:45:39.640Z"
   },
   {
    "duration": 19,
    "start_time": "2021-12-04T04:46:00.544Z"
   },
   {
    "duration": 14,
    "start_time": "2021-12-04T04:46:11.695Z"
   },
   {
    "duration": 267,
    "start_time": "2021-12-04T04:48:51.696Z"
   },
   {
    "duration": 33,
    "start_time": "2021-12-04T04:49:13.966Z"
   },
   {
    "duration": 48,
    "start_time": "2021-12-04T04:50:34.236Z"
   },
   {
    "duration": 64,
    "start_time": "2021-12-04T04:52:12.266Z"
   },
   {
    "duration": 60,
    "start_time": "2021-12-04T04:52:22.832Z"
   },
   {
    "duration": 239,
    "start_time": "2021-12-04T04:57:58.965Z"
   },
   {
    "duration": 14,
    "start_time": "2021-12-04T04:58:13.311Z"
   },
   {
    "duration": 15,
    "start_time": "2021-12-04T05:02:06.471Z"
   },
   {
    "duration": 8,
    "start_time": "2021-12-04T05:03:47.585Z"
   },
   {
    "duration": 15,
    "start_time": "2021-12-04T05:07:45.375Z"
   },
   {
    "duration": 4,
    "start_time": "2021-12-04T05:13:58.212Z"
   },
   {
    "duration": 238,
    "start_time": "2021-12-04T05:18:31.389Z"
   },
   {
    "duration": 1022,
    "start_time": "2021-12-04T05:18:49.010Z"
   },
   {
    "duration": 46,
    "start_time": "2021-12-04T05:25:14.511Z"
   },
   {
    "duration": 63,
    "start_time": "2021-12-04T05:30:07.467Z"
   },
   {
    "duration": 61,
    "start_time": "2021-12-04T05:32:11.087Z"
   },
   {
    "duration": 84,
    "start_time": "2021-12-04T05:37:19.091Z"
   },
   {
    "duration": 325,
    "start_time": "2021-12-04T05:40:53.497Z"
   },
   {
    "duration": 95,
    "start_time": "2021-12-04T05:41:03.527Z"
   },
   {
    "duration": 101,
    "start_time": "2021-12-04T05:43:51.155Z"
   },
   {
    "duration": 106,
    "start_time": "2021-12-04T05:46:56.302Z"
   },
   {
    "duration": 5,
    "start_time": "2021-12-04T06:01:29.778Z"
   },
   {
    "duration": 10,
    "start_time": "2021-12-04T06:01:37.445Z"
   },
   {
    "duration": 4,
    "start_time": "2021-12-04T06:01:38.114Z"
   },
   {
    "duration": 931,
    "start_time": "2021-12-04T06:01:39.590Z"
   },
   {
    "duration": 105,
    "start_time": "2021-12-04T06:01:42.906Z"
   },
   {
    "duration": 108,
    "start_time": "2021-12-04T06:24:50.009Z"
   },
   {
    "duration": 354,
    "start_time": "2021-12-04T06:29:51.402Z"
   },
   {
    "duration": 305,
    "start_time": "2021-12-04T06:30:18.073Z"
   },
   {
    "duration": 311,
    "start_time": "2021-12-04T06:30:47.609Z"
   },
   {
    "duration": 280,
    "start_time": "2021-12-04T06:31:10.320Z"
   },
   {
    "duration": 52,
    "start_time": "2021-12-04T06:31:24.711Z"
   },
   {
    "duration": 6,
    "start_time": "2021-12-05T12:26:28.295Z"
   },
   {
    "duration": 6,
    "start_time": "2021-12-05T12:26:33.478Z"
   },
   {
    "duration": 6,
    "start_time": "2021-12-05T12:26:47.455Z"
   },
   {
    "duration": 1502,
    "start_time": "2021-12-05T12:26:54.655Z"
   },
   {
    "duration": 29,
    "start_time": "2021-12-05T12:26:56.159Z"
   },
   {
    "duration": 24,
    "start_time": "2021-12-05T12:26:56.190Z"
   },
   {
    "duration": 19,
    "start_time": "2021-12-05T12:26:56.216Z"
   },
   {
    "duration": 35,
    "start_time": "2021-12-05T12:26:56.236Z"
   },
   {
    "duration": 47,
    "start_time": "2021-12-05T12:26:56.273Z"
   },
   {
    "duration": 91,
    "start_time": "2021-12-05T12:26:56.322Z"
   },
   {
    "duration": 65,
    "start_time": "2021-12-05T12:26:56.415Z"
   },
   {
    "duration": 332,
    "start_time": "2021-12-05T12:26:56.481Z"
   },
   {
    "duration": -41,
    "start_time": "2021-12-05T12:26:56.856Z"
   },
   {
    "duration": -46,
    "start_time": "2021-12-05T12:26:56.862Z"
   },
   {
    "duration": -50,
    "start_time": "2021-12-05T12:26:56.866Z"
   },
   {
    "duration": -71,
    "start_time": "2021-12-05T12:26:56.888Z"
   },
   {
    "duration": -72,
    "start_time": "2021-12-05T12:26:56.890Z"
   },
   {
    "duration": -73,
    "start_time": "2021-12-05T12:26:56.892Z"
   },
   {
    "duration": 241,
    "start_time": "2021-12-05T12:27:48.850Z"
   },
   {
    "duration": 1485,
    "start_time": "2021-12-05T12:28:02.071Z"
   },
   {
    "duration": 30,
    "start_time": "2021-12-05T12:28:03.557Z"
   },
   {
    "duration": 23,
    "start_time": "2021-12-05T12:28:03.589Z"
   },
   {
    "duration": 37,
    "start_time": "2021-12-05T12:28:03.614Z"
   },
   {
    "duration": 12,
    "start_time": "2021-12-05T12:28:03.653Z"
   },
   {
    "duration": 22,
    "start_time": "2021-12-05T12:28:03.666Z"
   },
   {
    "duration": 76,
    "start_time": "2021-12-05T12:28:03.690Z"
   },
   {
    "duration": 64,
    "start_time": "2021-12-05T12:28:03.767Z"
   },
   {
    "duration": 335,
    "start_time": "2021-12-05T12:28:03.834Z"
   },
   {
    "duration": -97,
    "start_time": "2021-12-05T12:28:04.268Z"
   },
   {
    "duration": -99,
    "start_time": "2021-12-05T12:28:04.271Z"
   },
   {
    "duration": -102,
    "start_time": "2021-12-05T12:28:04.274Z"
   },
   {
    "duration": -107,
    "start_time": "2021-12-05T12:28:04.280Z"
   },
   {
    "duration": -109,
    "start_time": "2021-12-05T12:28:04.283Z"
   },
   {
    "duration": -114,
    "start_time": "2021-12-05T12:28:04.289Z"
   },
   {
    "duration": 1486,
    "start_time": "2021-12-05T12:31:08.980Z"
   },
   {
    "duration": 30,
    "start_time": "2021-12-05T12:31:14.600Z"
   },
   {
    "duration": 24,
    "start_time": "2021-12-05T12:31:14.632Z"
   },
   {
    "duration": 21,
    "start_time": "2021-12-05T12:31:14.659Z"
   },
   {
    "duration": 13,
    "start_time": "2021-12-05T12:31:14.682Z"
   },
   {
    "duration": 13,
    "start_time": "2021-12-05T12:31:14.741Z"
   },
   {
    "duration": 67,
    "start_time": "2021-12-05T12:31:15.589Z"
   },
   {
    "duration": 63,
    "start_time": "2021-12-05T12:31:15.726Z"
   },
   {
    "duration": 10,
    "start_time": "2021-12-05T12:31:16.603Z"
   },
   {
    "duration": 10,
    "start_time": "2021-12-05T12:31:17.256Z"
   },
   {
    "duration": 986,
    "start_time": "2021-12-05T12:31:17.319Z"
   },
   {
    "duration": 123,
    "start_time": "2021-12-05T12:31:18.307Z"
   },
   {
    "duration": 49,
    "start_time": "2021-12-05T12:31:18.432Z"
   },
   {
    "duration": 7,
    "start_time": "2021-12-05T12:31:18.483Z"
   },
   {
    "duration": 7,
    "start_time": "2021-12-05T12:31:35.739Z"
   },
   {
    "duration": 6,
    "start_time": "2021-12-05T12:31:43.346Z"
   },
   {
    "duration": 7,
    "start_time": "2021-12-05T12:33:16.362Z"
   },
   {
    "duration": 514,
    "start_time": "2021-12-05T12:33:34.687Z"
   },
   {
    "duration": 170,
    "start_time": "2021-12-05T12:34:32.716Z"
   },
   {
    "duration": 171,
    "start_time": "2021-12-05T12:34:44.779Z"
   },
   {
    "duration": 171,
    "start_time": "2021-12-05T12:37:55.584Z"
   },
   {
    "duration": 87,
    "start_time": "2021-12-05T12:38:54.408Z"
   },
   {
    "duration": 168,
    "start_time": "2021-12-05T12:39:23.078Z"
   },
   {
    "duration": 319,
    "start_time": "2021-12-05T12:48:30.330Z"
   },
   {
    "duration": 232,
    "start_time": "2021-12-05T12:48:48.762Z"
   },
   {
    "duration": 2,
    "start_time": "2021-12-05T13:05:10.361Z"
   },
   {
    "duration": 241,
    "start_time": "2021-12-05T13:08:52.275Z"
   },
   {
    "duration": 8,
    "start_time": "2021-12-05T13:09:04.540Z"
   },
   {
    "duration": 4,
    "start_time": "2021-12-05T13:13:31.306Z"
   },
   {
    "duration": 4,
    "start_time": "2021-12-05T13:22:18.903Z"
   },
   {
    "duration": 673,
    "start_time": "2021-12-05T13:36:35.266Z"
   },
   {
    "duration": 648,
    "start_time": "2021-12-05T13:39:20.938Z"
   },
   {
    "duration": 107,
    "start_time": "2021-12-05T13:41:11.397Z"
   },
   {
    "duration": 1601,
    "start_time": "2021-12-05T13:41:39.514Z"
   },
   {
    "duration": 40,
    "start_time": "2021-12-05T13:41:41.119Z"
   },
   {
    "duration": 24,
    "start_time": "2021-12-05T13:41:41.161Z"
   },
   {
    "duration": 20,
    "start_time": "2021-12-05T13:41:41.187Z"
   },
   {
    "duration": 32,
    "start_time": "2021-12-05T13:41:41.209Z"
   },
   {
    "duration": 33,
    "start_time": "2021-12-05T13:41:41.242Z"
   },
   {
    "duration": 474,
    "start_time": "2021-12-05T13:41:41.277Z"
   },
   {
    "duration": -56,
    "start_time": "2021-12-05T13:41:41.809Z"
   },
   {
    "duration": -59,
    "start_time": "2021-12-05T13:41:41.813Z"
   },
   {
    "duration": -61,
    "start_time": "2021-12-05T13:41:41.816Z"
   },
   {
    "duration": -61,
    "start_time": "2021-12-05T13:41:41.817Z"
   },
   {
    "duration": -66,
    "start_time": "2021-12-05T13:41:41.823Z"
   },
   {
    "duration": -69,
    "start_time": "2021-12-05T13:41:41.827Z"
   },
   {
    "duration": -89,
    "start_time": "2021-12-05T13:41:41.849Z"
   },
   {
    "duration": -89,
    "start_time": "2021-12-05T13:41:41.850Z"
   },
   {
    "duration": 20,
    "start_time": "2021-12-05T13:42:18.889Z"
   },
   {
    "duration": 66,
    "start_time": "2021-12-05T13:42:24.392Z"
   },
   {
    "duration": 5,
    "start_time": "2021-12-05T13:42:27.552Z"
   },
   {
    "duration": 12,
    "start_time": "2021-12-05T13:42:28.980Z"
   },
   {
    "duration": 46,
    "start_time": "2021-12-05T13:42:29.865Z"
   },
   {
    "duration": 79,
    "start_time": "2021-12-05T13:42:32.019Z"
   },
   {
    "duration": 83,
    "start_time": "2021-12-05T13:43:20.055Z"
   },
   {
    "duration": 5,
    "start_time": "2021-12-05T13:44:18.901Z"
   },
   {
    "duration": 8,
    "start_time": "2021-12-05T13:44:22.314Z"
   },
   {
    "duration": 4,
    "start_time": "2021-12-05T13:44:26.522Z"
   },
   {
    "duration": 490,
    "start_time": "2021-12-05T13:44:27.270Z"
   },
   {
    "duration": 3,
    "start_time": "2021-12-05T13:45:50.568Z"
   },
   {
    "duration": 496,
    "start_time": "2021-12-05T13:45:51.424Z"
   },
   {
    "duration": 4,
    "start_time": "2021-12-05T13:46:31.554Z"
   },
   {
    "duration": 122,
    "start_time": "2021-12-05T13:46:32.288Z"
   },
   {
    "duration": 363,
    "start_time": "2021-12-06T12:31:45.271Z"
   },
   {
    "duration": 1891,
    "start_time": "2021-12-06T12:32:10.375Z"
   },
   {
    "duration": 37,
    "start_time": "2021-12-06T12:32:12.269Z"
   },
   {
    "duration": 38,
    "start_time": "2021-12-06T12:32:12.309Z"
   },
   {
    "duration": 28,
    "start_time": "2021-12-06T12:32:12.351Z"
   },
   {
    "duration": 50,
    "start_time": "2021-12-06T12:32:12.381Z"
   },
   {
    "duration": 22,
    "start_time": "2021-12-06T12:32:12.435Z"
   },
   {
    "duration": 120,
    "start_time": "2021-12-06T12:32:12.459Z"
   },
   {
    "duration": 97,
    "start_time": "2021-12-06T12:32:12.582Z"
   },
   {
    "duration": 6,
    "start_time": "2021-12-06T12:32:12.681Z"
   },
   {
    "duration": 42,
    "start_time": "2021-12-06T12:32:12.689Z"
   },
   {
    "duration": 11,
    "start_time": "2021-12-06T12:32:12.734Z"
   },
   {
    "duration": 9,
    "start_time": "2021-12-06T12:32:12.747Z"
   },
   {
    "duration": 15,
    "start_time": "2021-12-06T12:32:12.758Z"
   },
   {
    "duration": 7,
    "start_time": "2021-12-06T12:32:12.775Z"
   },
   {
    "duration": 182,
    "start_time": "2021-12-06T12:32:12.784Z"
   },
   {
    "duration": 4,
    "start_time": "2021-12-06T12:32:12.968Z"
   },
   {
    "duration": 4,
    "start_time": "2021-12-06T12:38:39.071Z"
   },
   {
    "duration": 786,
    "start_time": "2021-12-06T12:45:06.271Z"
   },
   {
    "duration": 4,
    "start_time": "2021-12-06T12:48:57.610Z"
   },
   {
    "duration": 843,
    "start_time": "2021-12-06T12:49:00.319Z"
   },
   {
    "duration": 5,
    "start_time": "2021-12-06T12:51:40.284Z"
   },
   {
    "duration": 4,
    "start_time": "2021-12-06T12:51:41.167Z"
   },
   {
    "duration": 675,
    "start_time": "2021-12-06T12:51:42.091Z"
   },
   {
    "duration": 7,
    "start_time": "2021-12-06T12:53:15.867Z"
   },
   {
    "duration": 482,
    "start_time": "2021-12-06T12:53:24.975Z"
   },
   {
    "duration": 8,
    "start_time": "2021-12-06T12:53:32.835Z"
   },
   {
    "duration": 4,
    "start_time": "2021-12-06T12:53:44.854Z"
   },
   {
    "duration": 288,
    "start_time": "2021-12-06T13:02:55.705Z"
   },
   {
    "duration": 5,
    "start_time": "2021-12-06T13:03:37.427Z"
   },
   {
    "duration": 610,
    "start_time": "2021-12-06T13:03:40.820Z"
   },
   {
    "duration": 575,
    "start_time": "2021-12-06T13:04:49.937Z"
   },
   {
    "duration": 6,
    "start_time": "2021-12-06T13:19:24.769Z"
   },
   {
    "duration": 1940,
    "start_time": "2021-12-06T13:19:35.539Z"
   },
   {
    "duration": 40,
    "start_time": "2021-12-06T13:19:37.482Z"
   },
   {
    "duration": 34,
    "start_time": "2021-12-06T13:19:37.525Z"
   },
   {
    "duration": 28,
    "start_time": "2021-12-06T13:19:37.562Z"
   },
   {
    "duration": 43,
    "start_time": "2021-12-06T13:19:37.592Z"
   },
   {
    "duration": 33,
    "start_time": "2021-12-06T13:19:37.638Z"
   },
   {
    "duration": 120,
    "start_time": "2021-12-06T13:19:37.673Z"
   },
   {
    "duration": 87,
    "start_time": "2021-12-06T13:19:37.797Z"
   },
   {
    "duration": 6,
    "start_time": "2021-12-06T13:19:37.886Z"
   },
   {
    "duration": 35,
    "start_time": "2021-12-06T13:19:37.895Z"
   },
   {
    "duration": 21,
    "start_time": "2021-12-06T13:19:37.933Z"
   },
   {
    "duration": 33,
    "start_time": "2021-12-06T13:19:37.956Z"
   },
   {
    "duration": 57,
    "start_time": "2021-12-06T13:19:37.991Z"
   },
   {
    "duration": 37,
    "start_time": "2021-12-06T13:19:38.050Z"
   },
   {
    "duration": 186,
    "start_time": "2021-12-06T13:19:38.089Z"
   },
   {
    "duration": 5,
    "start_time": "2021-12-06T13:19:38.277Z"
   },
   {
    "duration": 23,
    "start_time": "2021-12-06T13:19:38.284Z"
   },
   {
    "duration": 746,
    "start_time": "2021-12-06T13:19:38.309Z"
   },
   {
    "duration": 38,
    "start_time": "2021-12-06T13:21:55.263Z"
   },
   {
    "duration": 5,
    "start_time": "2021-12-06T13:33:36.059Z"
   },
   {
    "duration": 14,
    "start_time": "2021-12-06T13:45:00.724Z"
   },
   {
    "duration": 4,
    "start_time": "2021-12-06T13:46:01.336Z"
   },
   {
    "duration": 302,
    "start_time": "2021-12-06T13:49:27.161Z"
   },
   {
    "duration": 1837,
    "start_time": "2021-12-06T13:49:36.021Z"
   },
   {
    "duration": 42,
    "start_time": "2021-12-06T13:49:37.861Z"
   },
   {
    "duration": 32,
    "start_time": "2021-12-06T13:49:37.907Z"
   },
   {
    "duration": 28,
    "start_time": "2021-12-06T13:49:37.945Z"
   },
   {
    "duration": 20,
    "start_time": "2021-12-06T13:49:37.975Z"
   },
   {
    "duration": 61,
    "start_time": "2021-12-06T13:49:37.997Z"
   },
   {
    "duration": 113,
    "start_time": "2021-12-06T13:49:38.060Z"
   },
   {
    "duration": 90,
    "start_time": "2021-12-06T13:49:38.178Z"
   },
   {
    "duration": 5,
    "start_time": "2021-12-06T13:49:38.270Z"
   },
   {
    "duration": 36,
    "start_time": "2021-12-06T13:49:38.277Z"
   },
   {
    "duration": 11,
    "start_time": "2021-12-06T13:49:38.316Z"
   },
   {
    "duration": 28,
    "start_time": "2021-12-06T13:49:38.336Z"
   },
   {
    "duration": 27,
    "start_time": "2021-12-06T13:49:38.366Z"
   },
   {
    "duration": 785,
    "start_time": "2021-12-06T13:49:38.395Z"
   },
   {
    "duration": 300,
    "start_time": "2021-12-06T13:50:32.337Z"
   },
   {
    "duration": 294,
    "start_time": "2021-12-06T13:51:34.469Z"
   },
   {
    "duration": 306,
    "start_time": "2021-12-06T13:52:13.079Z"
   },
   {
    "duration": 327,
    "start_time": "2021-12-06T13:52:30.032Z"
   },
   {
    "duration": 1190,
    "start_time": "2021-12-06T13:55:28.385Z"
   },
   {
    "duration": -98,
    "start_time": "2021-12-06T13:55:29.676Z"
   },
   {
    "duration": 349,
    "start_time": "2021-12-06T13:57:58.131Z"
   },
   {
    "duration": 1940,
    "start_time": "2021-12-06T13:58:03.301Z"
   },
   {
    "duration": 53,
    "start_time": "2021-12-06T13:58:05.244Z"
   },
   {
    "duration": 54,
    "start_time": "2021-12-06T13:58:05.301Z"
   },
   {
    "duration": 30,
    "start_time": "2021-12-06T13:58:05.357Z"
   },
   {
    "duration": 57,
    "start_time": "2021-12-06T13:58:05.389Z"
   },
   {
    "duration": 25,
    "start_time": "2021-12-06T13:58:05.451Z"
   },
   {
    "duration": 139,
    "start_time": "2021-12-06T13:58:05.479Z"
   },
   {
    "duration": 93,
    "start_time": "2021-12-06T13:58:05.622Z"
   },
   {
    "duration": 8,
    "start_time": "2021-12-06T13:58:05.717Z"
   },
   {
    "duration": 25,
    "start_time": "2021-12-06T13:58:05.728Z"
   },
   {
    "duration": 10,
    "start_time": "2021-12-06T13:58:05.756Z"
   },
   {
    "duration": 410,
    "start_time": "2021-12-06T13:58:05.768Z"
   },
   {
    "duration": -67,
    "start_time": "2021-12-06T13:58:06.248Z"
   },
   {
    "duration": -69,
    "start_time": "2021-12-06T13:58:06.252Z"
   },
   {
    "duration": -79,
    "start_time": "2021-12-06T13:58:06.264Z"
   },
   {
    "duration": -81,
    "start_time": "2021-12-06T13:58:06.268Z"
   },
   {
    "duration": 511,
    "start_time": "2021-12-06T13:58:45.038Z"
   },
   {
    "duration": 6,
    "start_time": "2021-12-06T13:58:50.645Z"
   },
   {
    "duration": 305,
    "start_time": "2021-12-06T13:58:57.157Z"
   },
   {
    "duration": 7,
    "start_time": "2021-12-06T13:58:59.398Z"
   },
   {
    "duration": 11,
    "start_time": "2021-12-06T13:59:02.537Z"
   },
   {
    "duration": 1800,
    "start_time": "2021-12-06T13:59:13.884Z"
   },
   {
    "duration": 37,
    "start_time": "2021-12-06T13:59:15.687Z"
   },
   {
    "duration": 42,
    "start_time": "2021-12-06T13:59:15.727Z"
   },
   {
    "duration": 36,
    "start_time": "2021-12-06T13:59:15.772Z"
   },
   {
    "duration": 47,
    "start_time": "2021-12-06T13:59:15.810Z"
   },
   {
    "duration": 50,
    "start_time": "2021-12-06T13:59:15.860Z"
   },
   {
    "duration": 125,
    "start_time": "2021-12-06T13:59:15.913Z"
   },
   {
    "duration": 90,
    "start_time": "2021-12-06T13:59:16.042Z"
   },
   {
    "duration": 5,
    "start_time": "2021-12-06T13:59:16.135Z"
   },
   {
    "duration": 19,
    "start_time": "2021-12-06T13:59:16.142Z"
   },
   {
    "duration": 27,
    "start_time": "2021-12-06T13:59:16.163Z"
   },
   {
    "duration": 47,
    "start_time": "2021-12-06T13:59:16.192Z"
   },
   {
    "duration": 21,
    "start_time": "2021-12-06T13:59:16.241Z"
   },
   {
    "duration": 8346,
    "start_time": "2021-12-06T13:59:16.264Z"
   },
   {
    "duration": -108,
    "start_time": "2021-12-06T13:59:24.722Z"
   },
   {
    "duration": -108,
    "start_time": "2021-12-06T13:59:24.724Z"
   },
   {
    "duration": 7,
    "start_time": "2021-12-06T13:59:39.980Z"
   },
   {
    "duration": 18,
    "start_time": "2021-12-06T13:59:41.820Z"
   },
   {
    "duration": 382,
    "start_time": "2021-12-06T13:59:45.096Z"
   },
   {
    "duration": 27,
    "start_time": "2021-12-06T13:59:58.554Z"
   },
   {
    "duration": 329,
    "start_time": "2021-12-06T14:07:07.417Z"
   },
   {
    "duration": 422,
    "start_time": "2021-12-06T14:07:43.075Z"
   },
   {
    "duration": 13,
    "start_time": "2021-12-06T14:08:27.871Z"
   },
   {
    "duration": 11,
    "start_time": "2021-12-06T14:09:15.048Z"
   },
   {
    "duration": 288,
    "start_time": "2021-12-06T14:14:32.311Z"
   },
   {
    "duration": 299,
    "start_time": "2021-12-06T14:14:52.197Z"
   },
   {
    "duration": 186,
    "start_time": "2021-12-06T14:15:52.049Z"
   },
   {
    "duration": 193,
    "start_time": "2021-12-06T14:15:58.020Z"
   },
   {
    "duration": 1868,
    "start_time": "2021-12-07T13:49:22.558Z"
   },
   {
    "duration": 43,
    "start_time": "2021-12-07T13:49:24.429Z"
   },
   {
    "duration": 52,
    "start_time": "2021-12-07T13:49:24.476Z"
   },
   {
    "duration": 38,
    "start_time": "2021-12-07T13:49:24.530Z"
   },
   {
    "duration": 18,
    "start_time": "2021-12-07T13:49:24.570Z"
   },
   {
    "duration": 20,
    "start_time": "2021-12-07T13:49:24.591Z"
   },
   {
    "duration": 155,
    "start_time": "2021-12-07T13:49:24.613Z"
   },
   {
    "duration": 106,
    "start_time": "2021-12-07T13:49:24.772Z"
   },
   {
    "duration": 7,
    "start_time": "2021-12-07T13:49:24.882Z"
   },
   {
    "duration": 19,
    "start_time": "2021-12-07T13:49:24.891Z"
   },
   {
    "duration": 14,
    "start_time": "2021-12-07T13:49:24.912Z"
   },
   {
    "duration": 5,
    "start_time": "2021-12-07T13:49:24.929Z"
   },
   {
    "duration": 8,
    "start_time": "2021-12-07T13:49:24.960Z"
   },
   {
    "duration": 13,
    "start_time": "2021-12-07T13:49:24.970Z"
   },
   {
    "duration": 16,
    "start_time": "2021-12-07T13:49:24.986Z"
   },
   {
    "duration": 57,
    "start_time": "2021-12-07T13:49:25.004Z"
   },
   {
    "duration": 14,
    "start_time": "2021-12-07T13:49:25.063Z"
   },
   {
    "duration": 212,
    "start_time": "2021-12-07T13:49:25.079Z"
   },
   {
    "duration": 484,
    "start_time": "2021-12-07T13:56:33.057Z"
   },
   {
    "duration": 57,
    "start_time": "2021-12-07T13:58:24.969Z"
   },
   {
    "duration": 14,
    "start_time": "2021-12-07T13:59:10.526Z"
   },
   {
    "duration": 369,
    "start_time": "2021-12-07T13:59:28.769Z"
   },
   {
    "duration": 15,
    "start_time": "2021-12-07T13:59:37.674Z"
   },
   {
    "duration": 593,
    "start_time": "2021-12-07T14:07:34.491Z"
   },
   {
    "duration": 55,
    "start_time": "2021-12-07T14:11:09.161Z"
   },
   {
    "duration": 240,
    "start_time": "2021-12-07T14:20:11.119Z"
   },
   {
    "duration": 81,
    "start_time": "2021-12-07T14:21:26.093Z"
   },
   {
    "duration": 395,
    "start_time": "2021-12-07T14:26:59.116Z"
   },
   {
    "duration": 1046,
    "start_time": "2021-12-07T14:31:32.908Z"
   },
   {
    "duration": 571,
    "start_time": "2021-12-07T14:32:02.327Z"
   },
   {
    "duration": 559,
    "start_time": "2021-12-07T14:32:33.097Z"
   },
   {
    "duration": 262,
    "start_time": "2021-12-07T14:34:07.570Z"
   },
   {
    "duration": 242,
    "start_time": "2021-12-07T14:35:01.117Z"
   },
   {
    "duration": 222,
    "start_time": "2021-12-07T14:35:40.943Z"
   },
   {
    "duration": 379,
    "start_time": "2021-12-07T14:43:09.298Z"
   },
   {
    "duration": 382,
    "start_time": "2021-12-07T14:43:37.974Z"
   },
   {
    "duration": 144,
    "start_time": "2021-12-07T14:44:13.814Z"
   },
   {
    "duration": 113,
    "start_time": "2021-12-07T14:44:50.571Z"
   },
   {
    "duration": 116,
    "start_time": "2021-12-07T14:45:03.768Z"
   },
   {
    "duration": 103,
    "start_time": "2021-12-07T14:48:00.182Z"
   },
   {
    "duration": 121,
    "start_time": "2021-12-07T14:54:13.270Z"
   },
   {
    "duration": 133,
    "start_time": "2021-12-07T14:54:36.547Z"
   },
   {
    "duration": 506,
    "start_time": "2021-12-07T14:56:03.210Z"
   },
   {
    "duration": 546,
    "start_time": "2021-12-07T14:56:15.696Z"
   },
   {
    "duration": 151,
    "start_time": "2021-12-07T14:56:43.743Z"
   },
   {
    "duration": 415,
    "start_time": "2021-12-07T15:04:58.728Z"
   },
   {
    "duration": 58,
    "start_time": "2021-12-07T15:05:16.514Z"
   },
   {
    "duration": 415,
    "start_time": "2021-12-07T15:10:30.233Z"
   },
   {
    "duration": 413,
    "start_time": "2021-12-07T15:10:38.622Z"
   },
   {
    "duration": 8,
    "start_time": "2021-12-07T15:10:48.522Z"
   },
   {
    "duration": 11,
    "start_time": "2021-12-07T15:16:47.089Z"
   },
   {
    "duration": 10467,
    "start_time": "2021-12-07T15:29:32.658Z"
   },
   {
    "duration": 11355,
    "start_time": "2021-12-07T15:30:07.649Z"
   },
   {
    "duration": 12,
    "start_time": "2021-12-07T15:31:17.179Z"
   },
   {
    "duration": 376,
    "start_time": "2021-12-07T15:31:52.981Z"
   },
   {
    "duration": 402,
    "start_time": "2021-12-07T15:32:15.118Z"
   },
   {
    "duration": 384,
    "start_time": "2021-12-07T15:32:51.783Z"
   },
   {
    "duration": 379,
    "start_time": "2021-12-07T15:33:34.707Z"
   },
   {
    "duration": 34,
    "start_time": "2021-12-07T15:35:54.085Z"
   },
   {
    "duration": 435,
    "start_time": "2021-12-07T15:36:22.194Z"
   },
   {
    "duration": 32,
    "start_time": "2021-12-07T15:36:55.800Z"
   },
   {
    "duration": 404,
    "start_time": "2021-12-07T15:38:40.588Z"
   },
   {
    "duration": 32,
    "start_time": "2021-12-07T15:39:25.426Z"
   },
   {
    "duration": 10253,
    "start_time": "2021-12-07T15:55:15.729Z"
   },
   {
    "duration": 35,
    "start_time": "2021-12-07T15:55:41.250Z"
   },
   {
    "duration": 28,
    "start_time": "2021-12-07T16:03:17.234Z"
   },
   {
    "duration": 1592,
    "start_time": "2021-12-07T16:07:24.116Z"
   },
   {
    "duration": 21,
    "start_time": "2021-12-07T16:07:46.315Z"
   },
   {
    "duration": 1973,
    "start_time": "2021-12-08T11:19:23.837Z"
   },
   {
    "duration": 42,
    "start_time": "2021-12-08T11:19:25.813Z"
   },
   {
    "duration": 32,
    "start_time": "2021-12-08T11:19:25.858Z"
   },
   {
    "duration": 47,
    "start_time": "2021-12-08T11:19:25.893Z"
   },
   {
    "duration": 17,
    "start_time": "2021-12-08T11:19:25.943Z"
   },
   {
    "duration": 58,
    "start_time": "2021-12-08T11:19:25.962Z"
   },
   {
    "duration": 111,
    "start_time": "2021-12-08T11:19:26.022Z"
   },
   {
    "duration": 96,
    "start_time": "2021-12-08T11:19:26.136Z"
   },
   {
    "duration": 5,
    "start_time": "2021-12-08T11:19:26.235Z"
   },
   {
    "duration": 24,
    "start_time": "2021-12-08T11:19:26.242Z"
   },
   {
    "duration": 12,
    "start_time": "2021-12-08T11:19:26.268Z"
   },
   {
    "duration": 5,
    "start_time": "2021-12-08T11:19:26.283Z"
   },
   {
    "duration": 27,
    "start_time": "2021-12-08T11:19:26.290Z"
   },
   {
    "duration": 6,
    "start_time": "2021-12-08T11:19:26.320Z"
   },
   {
    "duration": 16,
    "start_time": "2021-12-08T11:19:26.329Z"
   },
   {
    "duration": 32,
    "start_time": "2021-12-08T11:19:26.347Z"
   },
   {
    "duration": 43,
    "start_time": "2021-12-08T11:19:26.382Z"
   },
   {
    "duration": 213,
    "start_time": "2021-12-08T11:19:26.428Z"
   },
   {
    "duration": 53,
    "start_time": "2021-12-08T11:19:26.643Z"
   },
   {
    "duration": 30,
    "start_time": "2021-12-08T11:19:26.698Z"
   },
   {
    "duration": 53,
    "start_time": "2021-12-08T11:19:26.730Z"
   },
   {
    "duration": 316,
    "start_time": "2021-12-08T11:19:26.786Z"
   },
   {
    "duration": 111,
    "start_time": "2021-12-08T11:19:27.109Z"
   },
   {
    "duration": 338,
    "start_time": "2021-12-08T11:19:27.223Z"
   },
   {
    "duration": 162,
    "start_time": "2021-12-08T11:19:27.564Z"
   },
   {
    "duration": 106,
    "start_time": "2021-12-08T11:19:27.729Z"
   },
   {
    "duration": 202,
    "start_time": "2021-12-08T11:19:27.837Z"
   },
   {
    "duration": 52,
    "start_time": "2021-12-08T11:19:28.042Z"
   },
   {
    "duration": 27,
    "start_time": "2021-12-08T11:19:28.097Z"
   },
   {
    "duration": 8248,
    "start_time": "2021-12-08T11:19:28.127Z"
   },
   {
    "duration": -88,
    "start_time": "2021-12-08T11:19:36.466Z"
   },
   {
    "duration": -89,
    "start_time": "2021-12-08T11:19:36.468Z"
   },
   {
    "duration": -89,
    "start_time": "2021-12-08T11:19:36.470Z"
   },
   {
    "duration": 1996,
    "start_time": "2021-12-08T11:22:08.928Z"
   },
   {
    "duration": 42,
    "start_time": "2021-12-08T11:22:10.927Z"
   },
   {
    "duration": 55,
    "start_time": "2021-12-08T11:22:10.972Z"
   },
   {
    "duration": 25,
    "start_time": "2021-12-08T11:22:11.030Z"
   },
   {
    "duration": 36,
    "start_time": "2021-12-08T11:22:11.057Z"
   },
   {
    "duration": 22,
    "start_time": "2021-12-08T11:22:11.117Z"
   },
   {
    "duration": 127,
    "start_time": "2021-12-08T11:22:11.141Z"
   },
   {
    "duration": 97,
    "start_time": "2021-12-08T11:22:11.272Z"
   },
   {
    "duration": 5,
    "start_time": "2021-12-08T11:22:11.372Z"
   },
   {
    "duration": 40,
    "start_time": "2021-12-08T11:22:11.379Z"
   },
   {
    "duration": 25,
    "start_time": "2021-12-08T11:22:11.422Z"
   },
   {
    "duration": 33,
    "start_time": "2021-12-08T11:22:11.449Z"
   },
   {
    "duration": 28,
    "start_time": "2021-12-08T11:22:11.485Z"
   },
   {
    "duration": 26,
    "start_time": "2021-12-08T11:22:11.515Z"
   },
   {
    "duration": 37,
    "start_time": "2021-12-08T11:22:11.543Z"
   },
   {
    "duration": 52,
    "start_time": "2021-12-08T11:22:11.583Z"
   },
   {
    "duration": 25,
    "start_time": "2021-12-08T11:22:11.637Z"
   },
   {
    "duration": 229,
    "start_time": "2021-12-08T11:22:11.664Z"
   },
   {
    "duration": 63,
    "start_time": "2021-12-08T11:22:11.895Z"
   },
   {
    "duration": 16,
    "start_time": "2021-12-08T11:22:11.960Z"
   },
   {
    "duration": 77,
    "start_time": "2021-12-08T11:22:11.979Z"
   },
   {
    "duration": 238,
    "start_time": "2021-12-08T11:22:12.058Z"
   },
   {
    "duration": 86,
    "start_time": "2021-12-08T11:22:12.300Z"
   },
   {
    "duration": 247,
    "start_time": "2021-12-08T11:22:12.389Z"
   },
   {
    "duration": 142,
    "start_time": "2021-12-08T11:22:12.639Z"
   },
   {
    "duration": 79,
    "start_time": "2021-12-08T11:22:12.784Z"
   },
   {
    "duration": 163,
    "start_time": "2021-12-08T11:22:12.865Z"
   },
   {
    "duration": 45,
    "start_time": "2021-12-08T11:22:13.030Z"
   },
   {
    "duration": 7,
    "start_time": "2021-12-08T11:22:13.078Z"
   },
   {
    "duration": 8598,
    "start_time": "2021-12-08T11:22:13.087Z"
   },
   {
    "duration": -85,
    "start_time": "2021-12-08T11:22:21.772Z"
   },
   {
    "duration": -86,
    "start_time": "2021-12-08T11:22:21.775Z"
   },
   {
    "duration": -87,
    "start_time": "2021-12-08T11:22:21.777Z"
   },
   {
    "duration": 8030,
    "start_time": "2021-12-08T11:22:58.787Z"
   },
   {
    "duration": 7973,
    "start_time": "2021-12-08T11:23:41.392Z"
   },
   {
    "duration": 7894,
    "start_time": "2021-12-08T11:24:03.934Z"
   },
   {
    "duration": 2041,
    "start_time": "2021-12-08T11:24:37.870Z"
   },
   {
    "duration": 39,
    "start_time": "2021-12-08T11:24:39.914Z"
   },
   {
    "duration": 32,
    "start_time": "2021-12-08T11:24:39.956Z"
   },
   {
    "duration": 52,
    "start_time": "2021-12-08T11:24:39.991Z"
   },
   {
    "duration": 16,
    "start_time": "2021-12-08T11:24:40.045Z"
   },
   {
    "duration": 55,
    "start_time": "2021-12-08T11:24:40.064Z"
   },
   {
    "duration": 112,
    "start_time": "2021-12-08T11:24:40.122Z"
   },
   {
    "duration": 97,
    "start_time": "2021-12-08T11:24:40.237Z"
   },
   {
    "duration": 5,
    "start_time": "2021-12-08T11:24:40.337Z"
   },
   {
    "duration": 15,
    "start_time": "2021-12-08T11:24:40.344Z"
   },
   {
    "duration": 12,
    "start_time": "2021-12-08T11:24:40.362Z"
   },
   {
    "duration": 4,
    "start_time": "2021-12-08T11:24:40.377Z"
   },
   {
    "duration": 35,
    "start_time": "2021-12-08T11:24:40.384Z"
   },
   {
    "duration": 10,
    "start_time": "2021-12-08T11:24:40.421Z"
   },
   {
    "duration": 15,
    "start_time": "2021-12-08T11:24:40.433Z"
   },
   {
    "duration": 68,
    "start_time": "2021-12-08T11:24:40.451Z"
   },
   {
    "duration": 18,
    "start_time": "2021-12-08T11:24:40.522Z"
   },
   {
    "duration": 259,
    "start_time": "2021-12-08T11:24:40.543Z"
   },
   {
    "duration": 84,
    "start_time": "2021-12-08T11:24:40.805Z"
   },
   {
    "duration": 36,
    "start_time": "2021-12-08T11:24:40.892Z"
   },
   {
    "duration": 86,
    "start_time": "2021-12-08T11:24:40.931Z"
   },
   {
    "duration": 311,
    "start_time": "2021-12-08T11:24:41.020Z"
   },
   {
    "duration": 112,
    "start_time": "2021-12-08T11:24:41.338Z"
   },
   {
    "duration": 335,
    "start_time": "2021-12-08T11:24:41.454Z"
   },
   {
    "duration": 157,
    "start_time": "2021-12-08T11:24:41.791Z"
   },
   {
    "duration": 113,
    "start_time": "2021-12-08T11:24:41.950Z"
   },
   {
    "duration": 190,
    "start_time": "2021-12-08T11:24:42.065Z"
   },
   {
    "duration": 76,
    "start_time": "2021-12-08T11:24:42.258Z"
   },
   {
    "duration": 9,
    "start_time": "2021-12-08T11:24:42.337Z"
   },
   {
    "duration": 8100,
    "start_time": "2021-12-08T11:24:42.348Z"
   },
   {
    "duration": -68,
    "start_time": "2021-12-08T11:24:50.518Z"
   },
   {
    "duration": -69,
    "start_time": "2021-12-08T11:24:50.521Z"
   },
   {
    "duration": -70,
    "start_time": "2021-12-08T11:24:50.523Z"
   },
   {
    "duration": 7939,
    "start_time": "2021-12-08T11:26:42.777Z"
   },
   {
    "duration": 41,
    "start_time": "2021-12-08T11:27:08.107Z"
   },
   {
    "duration": 8,
    "start_time": "2021-12-08T11:27:16.543Z"
   },
   {
    "duration": 8880,
    "start_time": "2021-12-08T11:27:19.760Z"
   },
   {
    "duration": 8647,
    "start_time": "2021-12-08T11:28:02.542Z"
   },
   {
    "duration": 7942,
    "start_time": "2021-12-08T11:28:28.781Z"
   },
   {
    "duration": 1902,
    "start_time": "2021-12-08T11:29:00.221Z"
   },
   {
    "duration": 41,
    "start_time": "2021-12-08T11:29:02.125Z"
   },
   {
    "duration": 60,
    "start_time": "2021-12-08T11:29:02.169Z"
   },
   {
    "duration": 36,
    "start_time": "2021-12-08T11:29:02.232Z"
   },
   {
    "duration": 46,
    "start_time": "2021-12-08T11:29:02.271Z"
   },
   {
    "duration": 33,
    "start_time": "2021-12-08T11:29:02.320Z"
   },
   {
    "duration": 136,
    "start_time": "2021-12-08T11:29:02.356Z"
   },
   {
    "duration": 97,
    "start_time": "2021-12-08T11:29:02.495Z"
   },
   {
    "duration": 4,
    "start_time": "2021-12-08T11:29:02.596Z"
   },
   {
    "duration": 25,
    "start_time": "2021-12-08T11:29:02.603Z"
   },
   {
    "duration": 37,
    "start_time": "2021-12-08T11:29:02.630Z"
   },
   {
    "duration": 4,
    "start_time": "2021-12-08T11:29:02.670Z"
   },
   {
    "duration": 9,
    "start_time": "2021-12-08T11:29:02.677Z"
   },
   {
    "duration": 8,
    "start_time": "2021-12-08T11:29:02.689Z"
   },
   {
    "duration": 29,
    "start_time": "2021-12-08T11:29:02.699Z"
   },
   {
    "duration": 34,
    "start_time": "2021-12-08T11:29:02.731Z"
   },
   {
    "duration": 16,
    "start_time": "2021-12-08T11:29:02.768Z"
   },
   {
    "duration": 230,
    "start_time": "2021-12-08T11:29:02.787Z"
   },
   {
    "duration": 61,
    "start_time": "2021-12-08T11:29:03.019Z"
   },
   {
    "duration": 35,
    "start_time": "2021-12-08T11:29:03.083Z"
   },
   {
    "duration": 54,
    "start_time": "2021-12-08T11:29:03.121Z"
   },
   {
    "duration": 257,
    "start_time": "2021-12-08T11:29:03.177Z"
   },
   {
    "duration": 88,
    "start_time": "2021-12-08T11:29:03.439Z"
   },
   {
    "duration": 239,
    "start_time": "2021-12-08T11:29:03.530Z"
   },
   {
    "duration": 131,
    "start_time": "2021-12-08T11:29:03.772Z"
   },
   {
    "duration": 72,
    "start_time": "2021-12-08T11:29:03.906Z"
   },
   {
    "duration": 170,
    "start_time": "2021-12-08T11:29:03.980Z"
   },
   {
    "duration": 48,
    "start_time": "2021-12-08T11:29:04.153Z"
   },
   {
    "duration": 23,
    "start_time": "2021-12-08T11:29:04.203Z"
   },
   {
    "duration": 7757,
    "start_time": "2021-12-08T11:29:04.228Z"
   },
   {
    "duration": -104,
    "start_time": "2021-12-08T11:29:12.091Z"
   },
   {
    "duration": -105,
    "start_time": "2021-12-08T11:29:12.094Z"
   },
   {
    "duration": -107,
    "start_time": "2021-12-08T11:29:12.097Z"
   },
   {
    "duration": 13,
    "start_time": "2021-12-08T11:29:56.854Z"
   },
   {
    "duration": 10,
    "start_time": "2021-12-08T11:30:02.502Z"
   },
   {
    "duration": 8767,
    "start_time": "2021-12-08T11:30:16.970Z"
   },
   {
    "duration": 1963,
    "start_time": "2021-12-08T11:31:31.937Z"
   },
   {
    "duration": 41,
    "start_time": "2021-12-08T11:31:33.903Z"
   },
   {
    "duration": 34,
    "start_time": "2021-12-08T11:31:33.948Z"
   },
   {
    "duration": 46,
    "start_time": "2021-12-08T11:31:33.986Z"
   },
   {
    "duration": 17,
    "start_time": "2021-12-08T11:31:34.035Z"
   },
   {
    "duration": 62,
    "start_time": "2021-12-08T11:31:34.055Z"
   },
   {
    "duration": 117,
    "start_time": "2021-12-08T11:31:34.119Z"
   },
   {
    "duration": 96,
    "start_time": "2021-12-08T11:31:34.239Z"
   },
   {
    "duration": 6,
    "start_time": "2021-12-08T11:31:34.337Z"
   },
   {
    "duration": 15,
    "start_time": "2021-12-08T11:31:34.346Z"
   },
   {
    "duration": 12,
    "start_time": "2021-12-08T11:31:34.364Z"
   },
   {
    "duration": 38,
    "start_time": "2021-12-08T11:31:34.379Z"
   },
   {
    "duration": 4,
    "start_time": "2021-12-08T11:31:34.420Z"
   },
   {
    "duration": 8,
    "start_time": "2021-12-08T11:31:34.426Z"
   },
   {
    "duration": 15,
    "start_time": "2021-12-08T11:31:34.436Z"
   },
   {
    "duration": 28,
    "start_time": "2021-12-08T11:31:34.453Z"
   },
   {
    "duration": 42,
    "start_time": "2021-12-08T11:31:34.483Z"
   },
   {
    "duration": 204,
    "start_time": "2021-12-08T11:31:34.527Z"
   },
   {
    "duration": 54,
    "start_time": "2021-12-08T11:31:34.733Z"
   },
   {
    "duration": 31,
    "start_time": "2021-12-08T11:31:34.789Z"
   },
   {
    "duration": 51,
    "start_time": "2021-12-08T11:31:34.822Z"
   },
   {
    "duration": 245,
    "start_time": "2021-12-08T11:31:34.875Z"
   },
   {
    "duration": 94,
    "start_time": "2021-12-08T11:31:35.125Z"
   },
   {
    "duration": 241,
    "start_time": "2021-12-08T11:31:35.221Z"
   },
   {
    "duration": 131,
    "start_time": "2021-12-08T11:31:35.465Z"
   },
   {
    "duration": 80,
    "start_time": "2021-12-08T11:31:35.598Z"
   },
   {
    "duration": 164,
    "start_time": "2021-12-08T11:31:35.681Z"
   },
   {
    "duration": 43,
    "start_time": "2021-12-08T11:31:35.848Z"
   },
   {
    "duration": 33,
    "start_time": "2021-12-08T11:31:35.894Z"
   },
   {
    "duration": 9,
    "start_time": "2021-12-08T11:31:35.929Z"
   },
   {
    "duration": 8432,
    "start_time": "2021-12-08T11:31:35.940Z"
   },
   {
    "duration": -70,
    "start_time": "2021-12-08T11:31:44.445Z"
   },
   {
    "duration": -74,
    "start_time": "2021-12-08T11:31:44.450Z"
   },
   {
    "duration": -86,
    "start_time": "2021-12-08T11:31:44.464Z"
   },
   {
    "duration": 8780,
    "start_time": "2021-12-08T11:32:16.578Z"
   },
   {
    "duration": 35,
    "start_time": "2021-12-08T11:32:58.921Z"
   },
   {
    "duration": 41,
    "start_time": "2021-12-08T11:33:04.657Z"
   },
   {
    "duration": 26,
    "start_time": "2021-12-08T11:33:09.774Z"
   },
   {
    "duration": 23,
    "start_time": "2021-12-08T11:33:23.473Z"
   },
   {
    "duration": 8451,
    "start_time": "2021-12-08T11:36:14.747Z"
   },
   {
    "duration": 7783,
    "start_time": "2021-12-08T11:36:45.993Z"
   },
   {
    "duration": 7,
    "start_time": "2021-12-08T11:37:06.247Z"
   },
   {
    "duration": 7809,
    "start_time": "2021-12-08T11:37:51.387Z"
   },
   {
    "duration": 7,
    "start_time": "2021-12-08T11:38:13.866Z"
   },
   {
    "duration": 365,
    "start_time": "2021-12-08T11:41:33.831Z"
   },
   {
    "duration": 387,
    "start_time": "2021-12-08T11:45:14.011Z"
   },
   {
    "duration": 366,
    "start_time": "2021-12-08T11:51:28.968Z"
   },
   {
    "duration": 314,
    "start_time": "2021-12-08T11:55:08.335Z"
   },
   {
    "duration": 450,
    "start_time": "2021-12-08T11:55:51.133Z"
   },
   {
    "duration": -138,
    "start_time": "2021-12-08T12:01:23.418Z"
   },
   {
    "duration": 355,
    "start_time": "2021-12-08T12:01:26.873Z"
   },
   {
    "duration": 349,
    "start_time": "2021-12-08T12:04:05.228Z"
   },
   {
    "duration": 53,
    "start_time": "2021-12-08T12:12:57.607Z"
   },
   {
    "duration": 3,
    "start_time": "2021-12-08T12:16:32.378Z"
   },
   {
    "duration": 106,
    "start_time": "2021-12-08T12:27:53.680Z"
   },
   {
    "duration": 303,
    "start_time": "2021-12-08T12:28:29.565Z"
   },
   {
    "duration": 11,
    "start_time": "2021-12-08T12:28:46.045Z"
   },
   {
    "duration": 8,
    "start_time": "2021-12-08T12:35:21.326Z"
   },
   {
    "duration": 346,
    "start_time": "2021-12-08T12:49:22.982Z"
   },
   {
    "duration": 10,
    "start_time": "2021-12-08T12:49:44.837Z"
   },
   {
    "duration": 11,
    "start_time": "2021-12-08T13:03:10.661Z"
   },
   {
    "duration": 10,
    "start_time": "2021-12-08T13:32:11.391Z"
   },
   {
    "duration": 1886,
    "start_time": "2021-12-09T13:50:13.993Z"
   },
   {
    "duration": 38,
    "start_time": "2021-12-09T13:50:15.882Z"
   },
   {
    "duration": 35,
    "start_time": "2021-12-09T13:50:15.923Z"
   },
   {
    "duration": 26,
    "start_time": "2021-12-09T13:50:15.961Z"
   },
   {
    "duration": 37,
    "start_time": "2021-12-09T13:50:15.989Z"
   },
   {
    "duration": 20,
    "start_time": "2021-12-09T13:50:16.030Z"
   },
   {
    "duration": 139,
    "start_time": "2021-12-09T13:50:16.054Z"
   },
   {
    "duration": 92,
    "start_time": "2021-12-09T13:50:16.196Z"
   },
   {
    "duration": 5,
    "start_time": "2021-12-09T13:50:16.291Z"
   },
   {
    "duration": 29,
    "start_time": "2021-12-09T13:50:16.298Z"
   },
   {
    "duration": 11,
    "start_time": "2021-12-09T13:50:16.329Z"
   },
   {
    "duration": 5,
    "start_time": "2021-12-09T13:50:16.342Z"
   },
   {
    "duration": 10,
    "start_time": "2021-12-09T13:50:16.349Z"
   },
   {
    "duration": 7,
    "start_time": "2021-12-09T13:50:16.361Z"
   },
   {
    "duration": 14,
    "start_time": "2021-12-09T13:50:16.370Z"
   },
   {
    "duration": 57,
    "start_time": "2021-12-09T13:50:16.386Z"
   },
   {
    "duration": 14,
    "start_time": "2021-12-09T13:50:16.445Z"
   },
   {
    "duration": 222,
    "start_time": "2021-12-09T13:50:16.461Z"
   },
   {
    "duration": 68,
    "start_time": "2021-12-09T13:50:16.686Z"
   },
   {
    "duration": 14,
    "start_time": "2021-12-09T13:50:16.756Z"
   },
   {
    "duration": 69,
    "start_time": "2021-12-09T13:50:16.772Z"
   },
   {
    "duration": 234,
    "start_time": "2021-12-09T13:50:16.843Z"
   },
   {
    "duration": 92,
    "start_time": "2021-12-09T13:50:17.082Z"
   },
   {
    "duration": 236,
    "start_time": "2021-12-09T13:50:17.176Z"
   },
   {
    "duration": 124,
    "start_time": "2021-12-09T13:50:17.414Z"
   },
   {
    "duration": 78,
    "start_time": "2021-12-09T13:50:17.540Z"
   },
   {
    "duration": 155,
    "start_time": "2021-12-09T13:50:17.620Z"
   },
   {
    "duration": 57,
    "start_time": "2021-12-09T13:50:17.777Z"
   },
   {
    "duration": 7,
    "start_time": "2021-12-09T13:50:17.836Z"
   },
   {
    "duration": 46,
    "start_time": "2021-12-09T13:50:17.845Z"
   },
   {
    "duration": 53,
    "start_time": "2021-12-09T13:50:17.894Z"
   },
   {
    "duration": 26,
    "start_time": "2021-12-09T13:50:17.949Z"
   },
   {
    "duration": 44,
    "start_time": "2021-12-09T13:50:17.977Z"
   },
   {
    "duration": 6,
    "start_time": "2021-12-09T13:50:18.024Z"
   },
   {
    "duration": 14,
    "start_time": "2021-12-09T13:50:18.032Z"
   },
   {
    "duration": 391,
    "start_time": "2021-12-09T13:50:18.049Z"
   },
   {
    "duration": 400,
    "start_time": "2021-12-09T13:50:18.443Z"
   },
   {
    "duration": 347,
    "start_time": "2021-12-09T13:50:18.845Z"
   },
   {
    "duration": 406,
    "start_time": "2021-12-09T13:50:19.195Z"
   },
   {
    "duration": 357,
    "start_time": "2021-12-09T13:50:19.603Z"
   },
   {
    "duration": 370,
    "start_time": "2021-12-09T13:50:19.962Z"
   },
   {
    "duration": 54,
    "start_time": "2021-12-09T13:50:20.334Z"
   },
   {
    "duration": 30,
    "start_time": "2021-12-09T13:50:20.390Z"
   },
   {
    "duration": 19,
    "start_time": "2021-12-09T13:50:20.423Z"
   },
   {
    "duration": 15,
    "start_time": "2021-12-09T13:50:20.444Z"
   },
   {
    "duration": 25,
    "start_time": "2021-12-09T13:50:20.462Z"
   },
   {
    "duration": 19,
    "start_time": "2021-12-09T13:50:20.490Z"
   },
   {
    "duration": 8075,
    "start_time": "2021-12-09T13:54:29.864Z"
   },
   {
    "duration": 8320,
    "start_time": "2021-12-09T13:56:06.235Z"
   },
   {
    "duration": 15,
    "start_time": "2021-12-09T13:56:29.416Z"
   },
   {
    "duration": 8158,
    "start_time": "2021-12-09T14:03:06.174Z"
   },
   {
    "duration": -109,
    "start_time": "2021-12-09T14:04:04.962Z"
   },
   {
    "duration": 9,
    "start_time": "2021-12-09T14:04:12.597Z"
   },
   {
    "duration": 108,
    "start_time": "2021-12-09T14:26:31.752Z"
   },
   {
    "duration": 30,
    "start_time": "2021-12-09T14:31:19.615Z"
   },
   {
    "duration": 14,
    "start_time": "2021-12-09T14:31:23.528Z"
   },
   {
    "duration": 168,
    "start_time": "2021-12-09T14:31:28.105Z"
   },
   {
    "duration": 2210,
    "start_time": "2021-12-09T14:31:46.606Z"
   },
   {
    "duration": 45,
    "start_time": "2021-12-09T14:31:48.820Z"
   },
   {
    "duration": 57,
    "start_time": "2021-12-09T14:31:48.869Z"
   },
   {
    "duration": 25,
    "start_time": "2021-12-09T14:31:48.931Z"
   },
   {
    "duration": 16,
    "start_time": "2021-12-09T14:31:48.959Z"
   },
   {
    "duration": 58,
    "start_time": "2021-12-09T14:31:48.978Z"
   },
   {
    "duration": 132,
    "start_time": "2021-12-09T14:31:49.039Z"
   },
   {
    "duration": 105,
    "start_time": "2021-12-09T14:31:49.175Z"
   },
   {
    "duration": 4,
    "start_time": "2021-12-09T14:31:49.284Z"
   },
   {
    "duration": 40,
    "start_time": "2021-12-09T14:31:49.291Z"
   },
   {
    "duration": 15,
    "start_time": "2021-12-09T14:31:49.335Z"
   },
   {
    "duration": 8,
    "start_time": "2021-12-09T14:31:49.353Z"
   },
   {
    "duration": 5,
    "start_time": "2021-12-09T14:31:49.365Z"
   },
   {
    "duration": 71,
    "start_time": "2021-12-09T14:31:49.375Z"
   },
   {
    "duration": 14,
    "start_time": "2021-12-09T14:31:49.448Z"
   },
   {
    "duration": 237,
    "start_time": "2021-12-09T14:31:49.464Z"
   },
   {
    "duration": 67,
    "start_time": "2021-12-09T14:31:49.704Z"
   },
   {
    "duration": 15,
    "start_time": "2021-12-09T14:31:49.774Z"
   },
   {
    "duration": 83,
    "start_time": "2021-12-09T14:31:49.792Z"
   },
   {
    "duration": 233,
    "start_time": "2021-12-09T14:31:49.878Z"
   },
   {
    "duration": 106,
    "start_time": "2021-12-09T14:31:50.118Z"
   },
   {
    "duration": 246,
    "start_time": "2021-12-09T14:31:50.227Z"
   },
   {
    "duration": 124,
    "start_time": "2021-12-09T14:31:50.478Z"
   },
   {
    "duration": 72,
    "start_time": "2021-12-09T14:31:50.605Z"
   },
   {
    "duration": 184,
    "start_time": "2021-12-09T14:31:50.679Z"
   },
   {
    "duration": 64,
    "start_time": "2021-12-09T14:31:50.866Z"
   },
   {
    "duration": 8,
    "start_time": "2021-12-09T14:31:50.933Z"
   },
   {
    "duration": 41,
    "start_time": "2021-12-09T14:31:50.943Z"
   },
   {
    "duration": 68,
    "start_time": "2021-12-09T14:31:50.986Z"
   },
   {
    "duration": 25,
    "start_time": "2021-12-09T14:31:51.058Z"
   },
   {
    "duration": 25,
    "start_time": "2021-12-09T14:31:51.119Z"
   },
   {
    "duration": 5,
    "start_time": "2021-12-09T14:31:51.147Z"
   },
   {
    "duration": 10,
    "start_time": "2021-12-09T14:31:51.155Z"
   },
   {
    "duration": 441,
    "start_time": "2021-12-09T14:31:51.167Z"
   },
   {
    "duration": 528,
    "start_time": "2021-12-09T14:31:51.610Z"
   },
   {
    "duration": 391,
    "start_time": "2021-12-09T14:31:52.141Z"
   },
   {
    "duration": 410,
    "start_time": "2021-12-09T14:31:52.535Z"
   },
   {
    "duration": 414,
    "start_time": "2021-12-09T14:31:52.947Z"
   },
   {
    "duration": 398,
    "start_time": "2021-12-09T14:31:53.363Z"
   },
   {
    "duration": 74,
    "start_time": "2021-12-09T14:31:53.763Z"
   },
   {
    "duration": 10,
    "start_time": "2021-12-09T14:31:53.840Z"
   },
   {
    "duration": 21,
    "start_time": "2021-12-09T14:31:53.852Z"
   },
   {
    "duration": 10,
    "start_time": "2021-12-09T14:31:53.876Z"
   },
   {
    "duration": 38,
    "start_time": "2021-12-09T14:31:53.889Z"
   },
   {
    "duration": 10,
    "start_time": "2021-12-09T14:31:53.931Z"
   },
   {
    "duration": 11,
    "start_time": "2021-12-09T14:31:53.943Z"
   },
   {
    "duration": 12,
    "start_time": "2021-12-09T14:31:53.957Z"
   },
   {
    "duration": 2027,
    "start_time": "2021-12-09T14:32:36.610Z"
   },
   {
    "duration": 38,
    "start_time": "2021-12-09T14:32:38.639Z"
   },
   {
    "duration": 36,
    "start_time": "2021-12-09T14:32:38.680Z"
   },
   {
    "duration": 34,
    "start_time": "2021-12-09T14:32:38.720Z"
   },
   {
    "duration": 17,
    "start_time": "2021-12-09T14:32:38.756Z"
   },
   {
    "duration": 53,
    "start_time": "2021-12-09T14:32:38.775Z"
   },
   {
    "duration": 131,
    "start_time": "2021-12-09T14:32:38.831Z"
   },
   {
    "duration": 97,
    "start_time": "2021-12-09T14:32:38.966Z"
   },
   {
    "duration": 6,
    "start_time": "2021-12-09T14:32:39.067Z"
   },
   {
    "duration": 15,
    "start_time": "2021-12-09T14:32:39.076Z"
   },
   {
    "duration": 9,
    "start_time": "2021-12-09T14:32:39.116Z"
   },
   {
    "duration": 7,
    "start_time": "2021-12-09T14:32:39.129Z"
   },
   {
    "duration": 40,
    "start_time": "2021-12-09T14:32:39.139Z"
   },
   {
    "duration": 49,
    "start_time": "2021-12-09T14:32:39.181Z"
   },
   {
    "duration": 236,
    "start_time": "2021-12-09T14:32:39.233Z"
   },
   {
    "duration": 69,
    "start_time": "2021-12-09T14:32:39.472Z"
   },
   {
    "duration": 17,
    "start_time": "2021-12-09T14:32:39.543Z"
   },
   {
    "duration": 87,
    "start_time": "2021-12-09T14:32:39.562Z"
   },
   {
    "duration": 236,
    "start_time": "2021-12-09T14:32:39.651Z"
   },
   {
    "duration": 102,
    "start_time": "2021-12-09T14:32:39.889Z"
   },
   {
    "duration": 251,
    "start_time": "2021-12-09T14:32:39.994Z"
   },
   {
    "duration": 124,
    "start_time": "2021-12-09T14:32:40.248Z"
   },
   {
    "duration": 85,
    "start_time": "2021-12-09T14:32:40.376Z"
   },
   {
    "duration": 163,
    "start_time": "2021-12-09T14:32:40.464Z"
   },
   {
    "duration": 46,
    "start_time": "2021-12-09T14:32:40.629Z"
   },
   {
    "duration": 39,
    "start_time": "2021-12-09T14:32:40.677Z"
   },
   {
    "duration": 48,
    "start_time": "2021-12-09T14:32:40.719Z"
   },
   {
    "duration": 80,
    "start_time": "2021-12-09T14:32:40.770Z"
   },
   {
    "duration": 26,
    "start_time": "2021-12-09T14:32:40.853Z"
   },
   {
    "duration": 57,
    "start_time": "2021-12-09T14:32:40.883Z"
   },
   {
    "duration": 7,
    "start_time": "2021-12-09T14:32:40.942Z"
   },
   {
    "duration": 8,
    "start_time": "2021-12-09T14:32:40.951Z"
   },
   {
    "duration": 423,
    "start_time": "2021-12-09T14:32:40.962Z"
   },
   {
    "duration": 430,
    "start_time": "2021-12-09T14:32:41.388Z"
   },
   {
    "duration": 376,
    "start_time": "2021-12-09T14:32:41.822Z"
   },
   {
    "duration": 432,
    "start_time": "2021-12-09T14:32:42.201Z"
   },
   {
    "duration": 391,
    "start_time": "2021-12-09T14:32:42.635Z"
   },
   {
    "duration": 405,
    "start_time": "2021-12-09T14:32:43.030Z"
   },
   {
    "duration": 52,
    "start_time": "2021-12-09T14:32:43.439Z"
   },
   {
    "duration": 28,
    "start_time": "2021-12-09T14:32:43.494Z"
   },
   {
    "duration": 11,
    "start_time": "2021-12-09T14:32:43.525Z"
   },
   {
    "duration": 10,
    "start_time": "2021-12-09T14:32:43.539Z"
   },
   {
    "duration": 14,
    "start_time": "2021-12-09T14:32:43.551Z"
   },
   {
    "duration": 10,
    "start_time": "2021-12-09T14:32:43.567Z"
   },
   {
    "duration": 15,
    "start_time": "2021-12-09T14:32:43.620Z"
   },
   {
    "duration": 13,
    "start_time": "2021-12-09T14:32:43.638Z"
   },
   {
    "duration": 487,
    "start_time": "2021-12-09T14:37:10.978Z"
   },
   {
    "duration": 113,
    "start_time": "2021-12-09T14:37:26.046Z"
   },
   {
    "duration": 366,
    "start_time": "2021-12-09T14:38:48.384Z"
   },
   {
    "duration": 1844,
    "start_time": "2021-12-10T11:39:24.939Z"
   },
   {
    "duration": 40,
    "start_time": "2021-12-10T11:39:26.786Z"
   },
   {
    "duration": 32,
    "start_time": "2021-12-10T11:39:26.829Z"
   },
   {
    "duration": 53,
    "start_time": "2021-12-10T11:39:26.863Z"
   },
   {
    "duration": 17,
    "start_time": "2021-12-10T11:39:26.919Z"
   },
   {
    "duration": 20,
    "start_time": "2021-12-10T11:39:26.939Z"
   },
   {
    "duration": 139,
    "start_time": "2021-12-10T11:39:26.961Z"
   },
   {
    "duration": 92,
    "start_time": "2021-12-10T11:39:27.104Z"
   },
   {
    "duration": 18,
    "start_time": "2021-12-10T11:39:27.199Z"
   },
   {
    "duration": 14,
    "start_time": "2021-12-10T11:39:27.220Z"
   },
   {
    "duration": 5,
    "start_time": "2021-12-10T11:39:27.236Z"
   },
   {
    "duration": 5,
    "start_time": "2021-12-10T11:39:27.243Z"
   },
   {
    "duration": 34,
    "start_time": "2021-12-10T11:39:27.251Z"
   },
   {
    "duration": 45,
    "start_time": "2021-12-10T11:39:27.287Z"
   },
   {
    "duration": 228,
    "start_time": "2021-12-10T11:39:27.334Z"
   },
   {
    "duration": 71,
    "start_time": "2021-12-10T11:39:27.564Z"
   },
   {
    "duration": 15,
    "start_time": "2021-12-10T11:39:27.637Z"
   },
   {
    "duration": 70,
    "start_time": "2021-12-10T11:39:27.655Z"
   },
   {
    "duration": 223,
    "start_time": "2021-12-10T11:39:27.727Z"
   },
   {
    "duration": 95,
    "start_time": "2021-12-10T11:39:27.952Z"
   },
   {
    "duration": 241,
    "start_time": "2021-12-10T11:39:28.050Z"
   },
   {
    "duration": 126,
    "start_time": "2021-12-10T11:39:28.293Z"
   },
   {
    "duration": 69,
    "start_time": "2021-12-10T11:39:28.424Z"
   },
   {
    "duration": 169,
    "start_time": "2021-12-10T11:39:28.496Z"
   },
   {
    "duration": 58,
    "start_time": "2021-12-10T11:39:28.668Z"
   },
   {
    "duration": 7,
    "start_time": "2021-12-10T11:39:28.728Z"
   },
   {
    "duration": 42,
    "start_time": "2021-12-10T11:39:28.738Z"
   },
   {
    "duration": 63,
    "start_time": "2021-12-10T11:39:28.782Z"
   },
   {
    "duration": 23,
    "start_time": "2021-12-10T11:39:28.847Z"
   },
   {
    "duration": 49,
    "start_time": "2021-12-10T11:39:28.873Z"
   },
   {
    "duration": 6,
    "start_time": "2021-12-10T11:39:28.924Z"
   },
   {
    "duration": 8,
    "start_time": "2021-12-10T11:39:28.933Z"
   },
   {
    "duration": 401,
    "start_time": "2021-12-10T11:39:28.943Z"
   },
   {
    "duration": 386,
    "start_time": "2021-12-10T11:39:29.347Z"
   },
   {
    "duration": 382,
    "start_time": "2021-12-10T11:39:29.735Z"
   },
   {
    "duration": 407,
    "start_time": "2021-12-10T11:39:30.119Z"
   },
   {
    "duration": 392,
    "start_time": "2021-12-10T11:39:30.528Z"
   },
   {
    "duration": 373,
    "start_time": "2021-12-10T11:39:30.922Z"
   },
   {
    "duration": 60,
    "start_time": "2021-12-10T11:39:31.298Z"
   },
   {
    "duration": 10,
    "start_time": "2021-12-10T11:39:31.361Z"
   },
   {
    "duration": 8,
    "start_time": "2021-12-10T11:39:31.374Z"
   },
   {
    "duration": 39,
    "start_time": "2021-12-10T11:39:31.384Z"
   },
   {
    "duration": 16,
    "start_time": "2021-12-10T11:39:31.426Z"
   },
   {
    "duration": 18,
    "start_time": "2021-12-10T11:39:31.444Z"
   },
   {
    "duration": 11,
    "start_time": "2021-12-10T11:39:31.464Z"
   },
   {
    "duration": 12,
    "start_time": "2021-12-10T11:39:31.478Z"
   },
   {
    "duration": 1794,
    "start_time": "2021-12-11T06:19:39.549Z"
   },
   {
    "duration": 38,
    "start_time": "2021-12-11T06:19:46.560Z"
   },
   {
    "duration": 31,
    "start_time": "2021-12-11T06:19:46.651Z"
   },
   {
    "duration": 25,
    "start_time": "2021-12-11T06:19:48.183Z"
   },
   {
    "duration": 17,
    "start_time": "2021-12-11T06:19:48.211Z"
   },
   {
    "duration": 22,
    "start_time": "2021-12-11T06:19:48.231Z"
   },
   {
    "duration": 91,
    "start_time": "2021-12-11T06:20:08.006Z"
   },
   {
    "duration": 79,
    "start_time": "2021-12-11T06:20:08.524Z"
   },
   {
    "duration": 6,
    "start_time": "2021-12-11T06:20:08.877Z"
   },
   {
    "duration": 12,
    "start_time": "2021-12-11T06:20:09.068Z"
   },
   {
    "duration": 6,
    "start_time": "2021-12-11T06:20:09.794Z"
   },
   {
    "duration": 5,
    "start_time": "2021-12-11T06:20:10.107Z"
   },
   {
    "duration": 27,
    "start_time": "2021-12-11T06:20:10.596Z"
   },
   {
    "duration": 19,
    "start_time": "2021-12-11T06:20:10.835Z"
   },
   {
    "duration": 187,
    "start_time": "2021-12-11T06:20:11.268Z"
   },
   {
    "duration": 52,
    "start_time": "2021-12-11T06:20:12.258Z"
   },
   {
    "duration": 15,
    "start_time": "2021-12-11T06:20:12.722Z"
   },
   {
    "duration": 55,
    "start_time": "2021-12-11T06:20:12.939Z"
   },
   {
    "duration": 203,
    "start_time": "2021-12-11T06:20:13.331Z"
   },
   {
    "duration": 79,
    "start_time": "2021-12-11T06:20:14.050Z"
   },
   {
    "duration": 222,
    "start_time": "2021-12-11T06:20:14.603Z"
   },
   {
    "duration": 100,
    "start_time": "2021-12-11T06:20:15.460Z"
   },
   {
    "duration": 66,
    "start_time": "2021-12-11T06:20:15.996Z"
   },
   {
    "duration": 132,
    "start_time": "2021-12-11T06:20:16.355Z"
   },
   {
    "duration": 43,
    "start_time": "2021-12-11T06:20:16.710Z"
   },
   {
    "duration": 7,
    "start_time": "2021-12-11T06:20:18.107Z"
   },
   {
    "duration": 41,
    "start_time": "2021-12-11T06:20:18.451Z"
   },
   {
    "duration": 30,
    "start_time": "2021-12-11T06:20:18.811Z"
   },
   {
    "duration": 25,
    "start_time": "2021-12-11T06:20:19.426Z"
   },
   {
    "duration": 21,
    "start_time": "2021-12-11T06:20:19.803Z"
   },
   {
    "duration": 34,
    "start_time": "2021-12-11T06:20:31.523Z"
   },
   {
    "duration": 467,
    "start_time": "2021-12-11T14:14:31.328Z"
   },
   {
    "duration": 1954,
    "start_time": "2021-12-11T14:14:41.716Z"
   },
   {
    "duration": 46,
    "start_time": "2021-12-11T14:14:43.672Z"
   },
   {
    "duration": 36,
    "start_time": "2021-12-11T14:14:43.721Z"
   },
   {
    "duration": 30,
    "start_time": "2021-12-11T14:14:43.760Z"
   },
   {
    "duration": 15,
    "start_time": "2021-12-11T14:14:43.792Z"
   },
   {
    "duration": 44,
    "start_time": "2021-12-11T14:14:43.809Z"
   },
   {
    "duration": 114,
    "start_time": "2021-12-11T14:14:43.855Z"
   },
   {
    "duration": 90,
    "start_time": "2021-12-11T14:14:43.973Z"
   },
   {
    "duration": 5,
    "start_time": "2021-12-11T14:14:44.066Z"
   },
   {
    "duration": 14,
    "start_time": "2021-12-11T14:14:44.073Z"
   },
   {
    "duration": 4,
    "start_time": "2021-12-11T14:14:44.090Z"
   },
   {
    "duration": 6,
    "start_time": "2021-12-11T14:14:44.096Z"
   },
   {
    "duration": 44,
    "start_time": "2021-12-11T14:14:44.104Z"
   },
   {
    "duration": 15,
    "start_time": "2021-12-11T14:14:44.150Z"
   },
   {
    "duration": 511,
    "start_time": "2021-12-11T14:14:44.167Z"
   },
   {
    "duration": -63,
    "start_time": "2021-12-11T14:14:44.745Z"
   },
   {
    "duration": -66,
    "start_time": "2021-12-11T14:14:44.749Z"
   },
   {
    "duration": -69,
    "start_time": "2021-12-11T14:14:44.753Z"
   },
   {
    "duration": -97,
    "start_time": "2021-12-11T14:14:44.783Z"
   },
   {
    "duration": -105,
    "start_time": "2021-12-11T14:14:44.793Z"
   },
   {
    "duration": -110,
    "start_time": "2021-12-11T14:14:44.799Z"
   },
   {
    "duration": -115,
    "start_time": "2021-12-11T14:14:44.805Z"
   },
   {
    "duration": -119,
    "start_time": "2021-12-11T14:14:44.811Z"
   },
   {
    "duration": -124,
    "start_time": "2021-12-11T14:14:44.817Z"
   },
   {
    "duration": -127,
    "start_time": "2021-12-11T14:14:44.821Z"
   },
   {
    "duration": -131,
    "start_time": "2021-12-11T14:14:44.827Z"
   },
   {
    "duration": -133,
    "start_time": "2021-12-11T14:14:44.830Z"
   },
   {
    "duration": -137,
    "start_time": "2021-12-11T14:14:44.835Z"
   },
   {
    "duration": -139,
    "start_time": "2021-12-11T14:14:44.839Z"
   },
   {
    "duration": -142,
    "start_time": "2021-12-11T14:14:44.843Z"
   },
   {
    "duration": -146,
    "start_time": "2021-12-11T14:14:44.848Z"
   },
   {
    "duration": -148,
    "start_time": "2021-12-11T14:14:44.852Z"
   },
   {
    "duration": -152,
    "start_time": "2021-12-11T14:14:44.857Z"
   },
   {
    "duration": -155,
    "start_time": "2021-12-11T14:14:44.861Z"
   },
   {
    "duration": -158,
    "start_time": "2021-12-11T14:14:44.866Z"
   },
   {
    "duration": -161,
    "start_time": "2021-12-11T14:14:44.870Z"
   },
   {
    "duration": -165,
    "start_time": "2021-12-11T14:14:44.875Z"
   },
   {
    "duration": -169,
    "start_time": "2021-12-11T14:14:44.880Z"
   },
   {
    "duration": -172,
    "start_time": "2021-12-11T14:14:44.885Z"
   },
   {
    "duration": -185,
    "start_time": "2021-12-11T14:14:44.899Z"
   },
   {
    "duration": -188,
    "start_time": "2021-12-11T14:14:44.904Z"
   },
   {
    "duration": -192,
    "start_time": "2021-12-11T14:14:44.909Z"
   },
   {
    "duration": -196,
    "start_time": "2021-12-11T14:14:44.915Z"
   },
   {
    "duration": -202,
    "start_time": "2021-12-11T14:14:44.922Z"
   },
   {
    "duration": -182,
    "start_time": "2021-12-11T14:14:44.926Z"
   },
   {
    "duration": -186,
    "start_time": "2021-12-11T14:14:44.932Z"
   },
   {
    "duration": 131,
    "start_time": "2021-12-11T14:15:49.528Z"
   },
   {
    "duration": 303,
    "start_time": "2021-12-11T14:16:50.815Z"
   },
   {
    "duration": 323,
    "start_time": "2021-12-11T14:17:23.963Z"
   },
   {
    "duration": 471,
    "start_time": "2021-12-11T14:18:44.104Z"
   },
   {
    "duration": 352,
    "start_time": "2021-12-11T14:19:13.746Z"
   },
   {
    "duration": 350,
    "start_time": "2021-12-11T14:21:22.855Z"
   },
   {
    "duration": 1481,
    "start_time": "2021-12-11T14:21:39.541Z"
   },
   {
    "duration": 37,
    "start_time": "2021-12-11T14:21:41.024Z"
   },
   {
    "duration": 22,
    "start_time": "2021-12-11T14:21:41.063Z"
   },
   {
    "duration": 18,
    "start_time": "2021-12-11T14:21:41.087Z"
   },
   {
    "duration": 10,
    "start_time": "2021-12-11T14:21:41.107Z"
   },
   {
    "duration": 37,
    "start_time": "2021-12-11T14:21:41.119Z"
   },
   {
    "duration": 87,
    "start_time": "2021-12-11T14:21:41.158Z"
   },
   {
    "duration": 62,
    "start_time": "2021-12-11T14:21:41.248Z"
   },
   {
    "duration": 4,
    "start_time": "2021-12-11T14:21:41.312Z"
   },
   {
    "duration": 26,
    "start_time": "2021-12-11T14:21:41.318Z"
   },
   {
    "duration": 4,
    "start_time": "2021-12-11T14:21:41.346Z"
   },
   {
    "duration": 5,
    "start_time": "2021-12-11T14:21:41.351Z"
   },
   {
    "duration": 20,
    "start_time": "2021-12-11T14:21:41.357Z"
   },
   {
    "duration": 31,
    "start_time": "2021-12-11T14:21:41.379Z"
   },
   {
    "duration": 142,
    "start_time": "2021-12-11T14:21:41.411Z"
   },
   {
    "duration": 37,
    "start_time": "2021-12-11T14:21:41.555Z"
   },
   {
    "duration": 10,
    "start_time": "2021-12-11T14:21:41.594Z"
   },
   {
    "duration": 57,
    "start_time": "2021-12-11T14:21:41.606Z"
   },
   {
    "duration": 148,
    "start_time": "2021-12-11T14:21:41.665Z"
   },
   {
    "duration": 71,
    "start_time": "2021-12-11T14:21:41.814Z"
   },
   {
    "duration": 176,
    "start_time": "2021-12-11T14:21:41.887Z"
   },
   {
    "duration": 83,
    "start_time": "2021-12-11T14:21:42.065Z"
   },
   {
    "duration": 41,
    "start_time": "2021-12-11T14:21:42.152Z"
   },
   {
    "duration": 127,
    "start_time": "2021-12-11T14:21:42.196Z"
   },
   {
    "duration": 40,
    "start_time": "2021-12-11T14:21:42.325Z"
   },
   {
    "duration": 6,
    "start_time": "2021-12-11T14:21:42.367Z"
   },
   {
    "duration": 27,
    "start_time": "2021-12-11T14:21:42.375Z"
   },
   {
    "duration": 52,
    "start_time": "2021-12-11T14:21:42.404Z"
   },
   {
    "duration": 15,
    "start_time": "2021-12-11T14:21:42.458Z"
   },
   {
    "duration": 16,
    "start_time": "2021-12-11T14:21:42.475Z"
   },
   {
    "duration": 9,
    "start_time": "2021-12-11T14:21:42.493Z"
   },
   {
    "duration": 5,
    "start_time": "2021-12-11T14:21:42.504Z"
   },
   {
    "duration": 253,
    "start_time": "2021-12-11T14:21:42.511Z"
   },
   {
    "duration": 236,
    "start_time": "2021-12-11T14:21:42.766Z"
   },
   {
    "duration": 224,
    "start_time": "2021-12-11T14:21:43.004Z"
   },
   {
    "duration": 251,
    "start_time": "2021-12-11T14:21:43.230Z"
   },
   {
    "duration": 240,
    "start_time": "2021-12-11T14:21:43.483Z"
   },
   {
    "duration": 226,
    "start_time": "2021-12-11T14:21:43.725Z"
   },
   {
    "duration": 33,
    "start_time": "2021-12-11T14:21:43.953Z"
   },
   {
    "duration": 7,
    "start_time": "2021-12-11T14:21:43.988Z"
   },
   {
    "duration": 6,
    "start_time": "2021-12-11T14:21:43.996Z"
   },
   {
    "duration": 8,
    "start_time": "2021-12-11T14:21:44.003Z"
   },
   {
    "duration": 40,
    "start_time": "2021-12-11T14:21:44.012Z"
   },
   {
    "duration": 25,
    "start_time": "2021-12-11T14:21:44.055Z"
   },
   {
    "duration": 8,
    "start_time": "2021-12-11T14:21:44.083Z"
   },
   {
    "duration": 29,
    "start_time": "2021-12-11T14:21:44.092Z"
   },
   {
    "duration": 357,
    "start_time": "2021-12-11T14:22:43.136Z"
   },
   {
    "duration": 395,
    "start_time": "2021-12-11T14:23:06.206Z"
   },
   {
    "duration": 289,
    "start_time": "2021-12-11T14:23:21.816Z"
   },
   {
    "duration": 1536,
    "start_time": "2021-12-11T14:23:29.944Z"
   },
   {
    "duration": 30,
    "start_time": "2021-12-11T14:23:31.482Z"
   },
   {
    "duration": 22,
    "start_time": "2021-12-11T14:23:31.517Z"
   },
   {
    "duration": 19,
    "start_time": "2021-12-11T14:23:31.544Z"
   },
   {
    "duration": 12,
    "start_time": "2021-12-11T14:23:31.565Z"
   },
   {
    "duration": 15,
    "start_time": "2021-12-11T14:23:31.578Z"
   },
   {
    "duration": 101,
    "start_time": "2021-12-11T14:23:31.595Z"
   },
   {
    "duration": 70,
    "start_time": "2021-12-11T14:23:31.699Z"
   },
   {
    "duration": 6,
    "start_time": "2021-12-11T14:23:31.772Z"
   },
   {
    "duration": 13,
    "start_time": "2021-12-11T14:23:31.779Z"
   },
   {
    "duration": 5,
    "start_time": "2021-12-11T14:23:31.794Z"
   },
   {
    "duration": 14,
    "start_time": "2021-12-11T14:23:31.801Z"
   },
   {
    "duration": 48,
    "start_time": "2021-12-11T14:23:31.817Z"
   },
   {
    "duration": 19,
    "start_time": "2021-12-11T14:23:31.867Z"
   },
   {
    "duration": 191,
    "start_time": "2021-12-11T14:23:31.888Z"
   },
   {
    "duration": 67,
    "start_time": "2021-12-11T14:23:32.082Z"
   },
   {
    "duration": 15,
    "start_time": "2021-12-11T14:23:32.152Z"
   },
   {
    "duration": 54,
    "start_time": "2021-12-11T14:23:32.169Z"
   },
   {
    "duration": 227,
    "start_time": "2021-12-11T14:23:32.225Z"
   },
   {
    "duration": 90,
    "start_time": "2021-12-11T14:23:32.454Z"
   },
   {
    "duration": 257,
    "start_time": "2021-12-11T14:23:32.546Z"
   },
   {
    "duration": 120,
    "start_time": "2021-12-11T14:23:32.808Z"
   },
   {
    "duration": 77,
    "start_time": "2021-12-11T14:23:32.931Z"
   },
   {
    "duration": 137,
    "start_time": "2021-12-11T14:23:33.010Z"
   },
   {
    "duration": 48,
    "start_time": "2021-12-11T14:23:33.149Z"
   },
   {
    "duration": 6,
    "start_time": "2021-12-11T14:23:33.199Z"
   },
   {
    "duration": 67,
    "start_time": "2021-12-11T14:23:33.208Z"
   },
   {
    "duration": 25,
    "start_time": "2021-12-11T14:23:33.277Z"
   },
   {
    "duration": 17,
    "start_time": "2021-12-11T14:23:33.304Z"
   },
   {
    "duration": 14,
    "start_time": "2021-12-11T14:23:33.345Z"
   },
   {
    "duration": 4,
    "start_time": "2021-12-11T14:23:33.362Z"
   },
   {
    "duration": 6,
    "start_time": "2021-12-11T14:23:33.368Z"
   },
   {
    "duration": 259,
    "start_time": "2021-12-11T14:23:33.375Z"
   },
   {
    "duration": 260,
    "start_time": "2021-12-11T14:23:33.636Z"
   },
   {
    "duration": 232,
    "start_time": "2021-12-11T14:23:33.898Z"
   },
   {
    "duration": 250,
    "start_time": "2021-12-11T14:23:34.132Z"
   },
   {
    "duration": 241,
    "start_time": "2021-12-11T14:23:34.384Z"
   },
   {
    "duration": 229,
    "start_time": "2021-12-11T14:23:34.627Z"
   },
   {
    "duration": 35,
    "start_time": "2021-12-11T14:23:34.858Z"
   },
   {
    "duration": 7,
    "start_time": "2021-12-11T14:23:34.895Z"
   },
   {
    "duration": 26,
    "start_time": "2021-12-11T14:23:34.903Z"
   },
   {
    "duration": 18,
    "start_time": "2021-12-11T14:23:34.931Z"
   },
   {
    "duration": 31,
    "start_time": "2021-12-11T14:23:34.951Z"
   },
   {
    "duration": 45,
    "start_time": "2021-12-11T14:23:34.984Z"
   },
   {
    "duration": 26,
    "start_time": "2021-12-11T14:23:35.030Z"
   },
   {
    "duration": 17,
    "start_time": "2021-12-11T14:23:35.058Z"
   },
   {
    "duration": 2000,
    "start_time": "2021-12-11T14:24:56.139Z"
   },
   {
    "duration": 27,
    "start_time": "2021-12-11T14:24:58.141Z"
   },
   {
    "duration": 22,
    "start_time": "2021-12-11T14:24:58.170Z"
   },
   {
    "duration": 19,
    "start_time": "2021-12-11T14:24:58.194Z"
   },
   {
    "duration": 33,
    "start_time": "2021-12-11T14:24:58.215Z"
   },
   {
    "duration": 33,
    "start_time": "2021-12-11T14:24:58.250Z"
   },
   {
    "duration": 82,
    "start_time": "2021-12-11T14:24:58.285Z"
   },
   {
    "duration": 67,
    "start_time": "2021-12-11T14:24:58.371Z"
   },
   {
    "duration": 4,
    "start_time": "2021-12-11T14:24:58.445Z"
   },
   {
    "duration": 23,
    "start_time": "2021-12-11T14:24:58.451Z"
   },
   {
    "duration": 3,
    "start_time": "2021-12-11T14:24:58.476Z"
   },
   {
    "duration": 10,
    "start_time": "2021-12-11T14:24:58.481Z"
   },
   {
    "duration": 27,
    "start_time": "2021-12-11T14:24:58.493Z"
   },
   {
    "duration": 22,
    "start_time": "2021-12-11T14:24:58.522Z"
   },
   {
    "duration": 145,
    "start_time": "2021-12-11T14:24:58.546Z"
   },
   {
    "duration": 34,
    "start_time": "2021-12-11T14:24:58.693Z"
   },
   {
    "duration": 23,
    "start_time": "2021-12-11T14:24:58.728Z"
   },
   {
    "duration": 39,
    "start_time": "2021-12-11T14:24:58.753Z"
   },
   {
    "duration": 157,
    "start_time": "2021-12-11T14:24:58.794Z"
   },
   {
    "duration": 61,
    "start_time": "2021-12-11T14:24:58.952Z"
   },
   {
    "duration": 169,
    "start_time": "2021-12-11T14:24:59.014Z"
   },
   {
    "duration": 86,
    "start_time": "2021-12-11T14:24:59.185Z"
   },
   {
    "duration": 40,
    "start_time": "2021-12-11T14:24:59.274Z"
   },
   {
    "duration": 117,
    "start_time": "2021-12-11T14:24:59.316Z"
   },
   {
    "duration": 40,
    "start_time": "2021-12-11T14:24:59.434Z"
   },
   {
    "duration": 7,
    "start_time": "2021-12-11T14:24:59.476Z"
   },
   {
    "duration": 42,
    "start_time": "2021-12-11T14:24:59.485Z"
   },
   {
    "duration": 37,
    "start_time": "2021-12-11T14:24:59.529Z"
   },
   {
    "duration": 20,
    "start_time": "2021-12-11T14:24:59.568Z"
   },
   {
    "duration": 20,
    "start_time": "2021-12-11T14:24:59.590Z"
   },
   {
    "duration": 19,
    "start_time": "2021-12-11T14:24:59.612Z"
   },
   {
    "duration": 11,
    "start_time": "2021-12-11T14:24:59.633Z"
   },
   {
    "duration": 238,
    "start_time": "2021-12-11T14:24:59.646Z"
   },
   {
    "duration": 255,
    "start_time": "2021-12-11T14:24:59.886Z"
   },
   {
    "duration": 227,
    "start_time": "2021-12-11T14:25:00.144Z"
   },
   {
    "duration": 248,
    "start_time": "2021-12-11T14:25:00.373Z"
   },
   {
    "duration": 231,
    "start_time": "2021-12-11T14:25:00.623Z"
   },
   {
    "duration": 242,
    "start_time": "2021-12-11T14:25:00.856Z"
   },
   {
    "duration": 45,
    "start_time": "2021-12-11T14:25:01.100Z"
   },
   {
    "duration": 6,
    "start_time": "2021-12-11T14:25:01.147Z"
   },
   {
    "duration": 12,
    "start_time": "2021-12-11T14:25:01.155Z"
   },
   {
    "duration": 7,
    "start_time": "2021-12-11T14:25:01.168Z"
   },
   {
    "duration": 18,
    "start_time": "2021-12-11T14:25:01.177Z"
   },
   {
    "duration": 13,
    "start_time": "2021-12-11T14:25:01.197Z"
   },
   {
    "duration": 29,
    "start_time": "2021-12-11T14:25:01.212Z"
   },
   {
    "duration": 34,
    "start_time": "2021-12-11T14:25:01.243Z"
   },
   {
    "duration": 389,
    "start_time": "2021-12-11T14:31:09.415Z"
   },
   {
    "duration": 610,
    "start_time": "2021-12-11T14:33:49.352Z"
   },
   {
    "duration": 290,
    "start_time": "2021-12-11T14:34:29.094Z"
   },
   {
    "duration": 29,
    "start_time": "2021-12-11T14:34:46.679Z"
   },
   {
    "duration": 35,
    "start_time": "2021-12-11T14:35:18.094Z"
   },
   {
    "duration": 16,
    "start_time": "2021-12-11T14:44:40.413Z"
   },
   {
    "duration": 14,
    "start_time": "2021-12-11T14:44:53.986Z"
   },
   {
    "duration": 17,
    "start_time": "2021-12-11T14:45:08.298Z"
   },
   {
    "duration": 20,
    "start_time": "2021-12-11T14:45:18.819Z"
   },
   {
    "duration": 21,
    "start_time": "2021-12-11T14:45:31.228Z"
   },
   {
    "duration": 187,
    "start_time": "2021-12-11T14:52:59.707Z"
   },
   {
    "duration": 48,
    "start_time": "2021-12-11T14:53:27.784Z"
   },
   {
    "duration": 39,
    "start_time": "2021-12-11T14:55:05.573Z"
   },
   {
    "duration": 6,
    "start_time": "2021-12-11T14:55:27.098Z"
   },
   {
    "duration": 6,
    "start_time": "2021-12-11T14:55:52.533Z"
   },
   {
    "duration": 275,
    "start_time": "2021-12-11T15:03:38.800Z"
   },
   {
    "duration": 1477,
    "start_time": "2021-12-11T15:03:49.043Z"
   },
   {
    "duration": 28,
    "start_time": "2021-12-11T15:03:50.522Z"
   },
   {
    "duration": 22,
    "start_time": "2021-12-11T15:03:50.552Z"
   },
   {
    "duration": 19,
    "start_time": "2021-12-11T15:03:50.575Z"
   },
   {
    "duration": 11,
    "start_time": "2021-12-11T15:03:50.596Z"
   },
   {
    "duration": 47,
    "start_time": "2021-12-11T15:03:50.609Z"
   },
   {
    "duration": 103,
    "start_time": "2021-12-11T15:03:50.657Z"
   },
   {
    "duration": 59,
    "start_time": "2021-12-11T15:03:50.763Z"
   },
   {
    "duration": 48,
    "start_time": "2021-12-11T15:03:50.824Z"
   },
   {
    "duration": 5,
    "start_time": "2021-12-11T15:03:50.874Z"
   },
   {
    "duration": 19,
    "start_time": "2021-12-11T15:03:50.881Z"
   },
   {
    "duration": 69,
    "start_time": "2021-12-11T15:03:50.902Z"
   },
   {
    "duration": 59,
    "start_time": "2021-12-11T15:03:50.972Z"
   },
   {
    "duration": 11,
    "start_time": "2021-12-11T15:03:51.033Z"
   },
   {
    "duration": 14,
    "start_time": "2021-12-11T15:03:51.046Z"
   },
   {
    "duration": 30,
    "start_time": "2021-12-11T15:03:51.062Z"
   },
   {
    "duration": 25,
    "start_time": "2021-12-11T15:03:51.093Z"
   },
   {
    "duration": 344,
    "start_time": "2021-12-11T15:03:51.119Z"
   },
   {
    "duration": -75,
    "start_time": "2021-12-11T15:03:51.540Z"
   },
   {
    "duration": -79,
    "start_time": "2021-12-11T15:03:51.545Z"
   },
   {
    "duration": -82,
    "start_time": "2021-12-11T15:03:51.549Z"
   },
   {
    "duration": -86,
    "start_time": "2021-12-11T15:03:51.554Z"
   },
   {
    "duration": -89,
    "start_time": "2021-12-11T15:03:51.558Z"
   },
   {
    "duration": -98,
    "start_time": "2021-12-11T15:03:51.568Z"
   },
   {
    "duration": -102,
    "start_time": "2021-12-11T15:03:51.573Z"
   },
   {
    "duration": -108,
    "start_time": "2021-12-11T15:03:51.580Z"
   },
   {
    "duration": -120,
    "start_time": "2021-12-11T15:03:51.593Z"
   },
   {
    "duration": -125,
    "start_time": "2021-12-11T15:03:51.598Z"
   },
   {
    "duration": -129,
    "start_time": "2021-12-11T15:03:51.603Z"
   },
   {
    "duration": -133,
    "start_time": "2021-12-11T15:03:51.608Z"
   },
   {
    "duration": -138,
    "start_time": "2021-12-11T15:03:51.614Z"
   },
   {
    "duration": -149,
    "start_time": "2021-12-11T15:03:51.626Z"
   },
   {
    "duration": -155,
    "start_time": "2021-12-11T15:03:51.632Z"
   },
   {
    "duration": -168,
    "start_time": "2021-12-11T15:03:51.646Z"
   },
   {
    "duration": -178,
    "start_time": "2021-12-11T15:03:51.657Z"
   },
   {
    "duration": -184,
    "start_time": "2021-12-11T15:03:51.664Z"
   },
   {
    "duration": -193,
    "start_time": "2021-12-11T15:03:51.674Z"
   },
   {
    "duration": -199,
    "start_time": "2021-12-11T15:03:51.681Z"
   },
   {
    "duration": -207,
    "start_time": "2021-12-11T15:03:51.690Z"
   },
   {
    "duration": -213,
    "start_time": "2021-12-11T15:03:51.697Z"
   },
   {
    "duration": -226,
    "start_time": "2021-12-11T15:03:51.711Z"
   },
   {
    "duration": -231,
    "start_time": "2021-12-11T15:03:51.717Z"
   },
   {
    "duration": -235,
    "start_time": "2021-12-11T15:03:51.722Z"
   },
   {
    "duration": -242,
    "start_time": "2021-12-11T15:03:51.730Z"
   },
   {
    "duration": -245,
    "start_time": "2021-12-11T15:03:51.734Z"
   },
   {
    "duration": -248,
    "start_time": "2021-12-11T15:03:51.738Z"
   },
   {
    "duration": -252,
    "start_time": "2021-12-11T15:03:51.743Z"
   },
   {
    "duration": -255,
    "start_time": "2021-12-11T15:03:51.747Z"
   },
   {
    "duration": -258,
    "start_time": "2021-12-11T15:03:51.751Z"
   },
   {
    "duration": -261,
    "start_time": "2021-12-11T15:03:51.755Z"
   },
   {
    "duration": -264,
    "start_time": "2021-12-11T15:03:51.759Z"
   },
   {
    "duration": 274,
    "start_time": "2021-12-11T15:06:03.983Z"
   },
   {
    "duration": 327,
    "start_time": "2021-12-11T15:06:21.127Z"
   },
   {
    "duration": 8,
    "start_time": "2021-12-11T15:06:33.798Z"
   },
   {
    "duration": 16,
    "start_time": "2021-12-11T15:06:49.371Z"
   },
   {
    "duration": 135,
    "start_time": "2021-12-11T15:06:51.600Z"
   },
   {
    "duration": 1458,
    "start_time": "2021-12-11T15:08:01.780Z"
   },
   {
    "duration": 36,
    "start_time": "2021-12-11T15:08:03.241Z"
   },
   {
    "duration": 24,
    "start_time": "2021-12-11T15:08:03.279Z"
   },
   {
    "duration": 46,
    "start_time": "2021-12-11T15:08:03.305Z"
   },
   {
    "duration": 13,
    "start_time": "2021-12-11T15:08:03.353Z"
   },
   {
    "duration": 14,
    "start_time": "2021-12-11T15:08:03.368Z"
   },
   {
    "duration": 136,
    "start_time": "2021-12-11T15:08:03.384Z"
   },
   {
    "duration": 77,
    "start_time": "2021-12-11T15:08:03.524Z"
   },
   {
    "duration": 51,
    "start_time": "2021-12-11T15:08:03.604Z"
   },
   {
    "duration": 6,
    "start_time": "2021-12-11T15:08:03.657Z"
   },
   {
    "duration": 10,
    "start_time": "2021-12-11T15:08:03.666Z"
   },
   {
    "duration": 81,
    "start_time": "2021-12-11T15:08:03.678Z"
   },
   {
    "duration": 60,
    "start_time": "2021-12-11T15:08:03.761Z"
   },
   {
    "duration": 3,
    "start_time": "2021-12-11T15:08:03.823Z"
   },
   {
    "duration": 20,
    "start_time": "2021-12-11T15:08:03.828Z"
   },
   {
    "duration": 3,
    "start_time": "2021-12-11T15:08:03.850Z"
   },
   {
    "duration": 5,
    "start_time": "2021-12-11T15:08:03.855Z"
   },
   {
    "duration": 9,
    "start_time": "2021-12-11T15:08:03.862Z"
   },
   {
    "duration": 15,
    "start_time": "2021-12-11T15:08:03.872Z"
   },
   {
    "duration": 157,
    "start_time": "2021-12-11T15:08:03.888Z"
   },
   {
    "duration": 37,
    "start_time": "2021-12-11T15:08:04.047Z"
   },
   {
    "duration": 10,
    "start_time": "2021-12-11T15:08:04.086Z"
   },
   {
    "duration": 57,
    "start_time": "2021-12-11T15:08:04.099Z"
   },
   {
    "duration": 87,
    "start_time": "2021-12-11T15:08:04.158Z"
   },
   {
    "duration": -84,
    "start_time": "2021-12-11T15:08:04.330Z"
   },
   {
    "duration": -87,
    "start_time": "2021-12-11T15:08:04.334Z"
   },
   {
    "duration": -89,
    "start_time": "2021-12-11T15:08:04.337Z"
   },
   {
    "duration": -95,
    "start_time": "2021-12-11T15:08:04.344Z"
   },
   {
    "duration": -99,
    "start_time": "2021-12-11T15:08:04.349Z"
   },
   {
    "duration": -112,
    "start_time": "2021-12-11T15:08:04.363Z"
   },
   {
    "duration": -115,
    "start_time": "2021-12-11T15:08:04.367Z"
   },
   {
    "duration": -118,
    "start_time": "2021-12-11T15:08:04.372Z"
   },
   {
    "duration": -123,
    "start_time": "2021-12-11T15:08:04.378Z"
   },
   {
    "duration": -127,
    "start_time": "2021-12-11T15:08:04.382Z"
   },
   {
    "duration": -130,
    "start_time": "2021-12-11T15:08:04.386Z"
   },
   {
    "duration": -133,
    "start_time": "2021-12-11T15:08:04.390Z"
   },
   {
    "duration": -137,
    "start_time": "2021-12-11T15:08:04.395Z"
   },
   {
    "duration": -139,
    "start_time": "2021-12-11T15:08:04.398Z"
   },
   {
    "duration": -143,
    "start_time": "2021-12-11T15:08:04.402Z"
   },
   {
    "duration": -145,
    "start_time": "2021-12-11T15:08:04.405Z"
   },
   {
    "duration": -148,
    "start_time": "2021-12-11T15:08:04.409Z"
   },
   {
    "duration": -150,
    "start_time": "2021-12-11T15:08:04.412Z"
   },
   {
    "duration": -152,
    "start_time": "2021-12-11T15:08:04.415Z"
   },
   {
    "duration": -162,
    "start_time": "2021-12-11T15:08:04.426Z"
   },
   {
    "duration": -165,
    "start_time": "2021-12-11T15:08:04.429Z"
   },
   {
    "duration": -168,
    "start_time": "2021-12-11T15:08:04.433Z"
   },
   {
    "duration": -171,
    "start_time": "2021-12-11T15:08:04.437Z"
   },
   {
    "duration": -175,
    "start_time": "2021-12-11T15:08:04.442Z"
   },
   {
    "duration": -177,
    "start_time": "2021-12-11T15:08:04.445Z"
   },
   {
    "duration": -180,
    "start_time": "2021-12-11T15:08:04.449Z"
   },
   {
    "duration": -183,
    "start_time": "2021-12-11T15:08:04.453Z"
   },
   {
    "duration": 143,
    "start_time": "2021-12-11T15:08:27.932Z"
   },
   {
    "duration": 72,
    "start_time": "2021-12-11T15:08:31.590Z"
   },
   {
    "duration": 401,
    "start_time": "2021-12-11T15:09:58.228Z"
   },
   {
    "duration": 708,
    "start_time": "2021-12-11T15:10:34.571Z"
   },
   {
    "duration": 151,
    "start_time": "2021-12-11T15:10:44.180Z"
   },
   {
    "duration": 74,
    "start_time": "2021-12-11T15:10:48.261Z"
   },
   {
    "duration": 79,
    "start_time": "2021-12-11T15:11:50.900Z"
   },
   {
    "duration": 100,
    "start_time": "2021-12-11T15:12:19.064Z"
   },
   {
    "duration": 76,
    "start_time": "2021-12-11T15:12:40.264Z"
   },
   {
    "duration": 137,
    "start_time": "2021-12-11T15:12:51.853Z"
   },
   {
    "duration": 54,
    "start_time": "2021-12-11T15:12:55.150Z"
   },
   {
    "duration": 1451,
    "start_time": "2021-12-11T15:19:07.551Z"
   },
   {
    "duration": 29,
    "start_time": "2021-12-11T15:19:09.005Z"
   },
   {
    "duration": 21,
    "start_time": "2021-12-11T15:19:09.036Z"
   },
   {
    "duration": 17,
    "start_time": "2021-12-11T15:19:09.059Z"
   },
   {
    "duration": 10,
    "start_time": "2021-12-11T15:19:09.078Z"
   },
   {
    "duration": 13,
    "start_time": "2021-12-11T15:19:09.089Z"
   },
   {
    "duration": 123,
    "start_time": "2021-12-11T15:19:09.104Z"
   },
   {
    "duration": 67,
    "start_time": "2021-12-11T15:19:09.228Z"
   },
   {
    "duration": 48,
    "start_time": "2021-12-11T15:19:09.298Z"
   },
   {
    "duration": 5,
    "start_time": "2021-12-11T15:19:09.348Z"
   },
   {
    "duration": 6,
    "start_time": "2021-12-11T15:19:09.355Z"
   },
   {
    "duration": 82,
    "start_time": "2021-12-11T15:19:09.363Z"
   },
   {
    "duration": 61,
    "start_time": "2021-12-11T15:19:09.447Z"
   },
   {
    "duration": 4,
    "start_time": "2021-12-11T15:19:09.509Z"
   },
   {
    "duration": 30,
    "start_time": "2021-12-11T15:19:09.514Z"
   },
   {
    "duration": 18,
    "start_time": "2021-12-11T15:19:09.545Z"
   },
   {
    "duration": 19,
    "start_time": "2021-12-11T15:19:09.565Z"
   },
   {
    "duration": 31,
    "start_time": "2021-12-11T15:19:09.585Z"
   },
   {
    "duration": 32,
    "start_time": "2021-12-11T15:19:09.618Z"
   },
   {
    "duration": 140,
    "start_time": "2021-12-11T15:19:09.651Z"
   },
   {
    "duration": 35,
    "start_time": "2021-12-11T15:19:09.792Z"
   },
   {
    "duration": 19,
    "start_time": "2021-12-11T15:19:09.829Z"
   },
   {
    "duration": 35,
    "start_time": "2021-12-11T15:19:09.849Z"
   },
   {
    "duration": 161,
    "start_time": "2021-12-11T15:19:09.886Z"
   },
   {
    "duration": 63,
    "start_time": "2021-12-11T15:19:10.049Z"
   },
   {
    "duration": 161,
    "start_time": "2021-12-11T15:19:10.114Z"
   },
   {
    "duration": 83,
    "start_time": "2021-12-11T15:19:10.279Z"
   },
   {
    "duration": 40,
    "start_time": "2021-12-11T15:19:10.364Z"
   },
   {
    "duration": 103,
    "start_time": "2021-12-11T15:19:10.406Z"
   },
   {
    "duration": 34,
    "start_time": "2021-12-11T15:19:10.511Z"
   },
   {
    "duration": 5,
    "start_time": "2021-12-11T15:19:10.547Z"
   },
   {
    "duration": 27,
    "start_time": "2021-12-11T15:19:10.554Z"
   },
   {
    "duration": 21,
    "start_time": "2021-12-11T15:19:10.583Z"
   },
   {
    "duration": 43,
    "start_time": "2021-12-11T15:19:10.605Z"
   },
   {
    "duration": 13,
    "start_time": "2021-12-11T15:19:10.650Z"
   },
   {
    "duration": 4,
    "start_time": "2021-12-11T15:19:10.665Z"
   },
   {
    "duration": 6,
    "start_time": "2021-12-11T15:19:10.670Z"
   },
   {
    "duration": 231,
    "start_time": "2021-12-11T15:19:10.678Z"
   },
   {
    "duration": 230,
    "start_time": "2021-12-11T15:19:10.911Z"
   },
   {
    "duration": 203,
    "start_time": "2021-12-11T15:19:11.143Z"
   },
   {
    "duration": 231,
    "start_time": "2021-12-11T15:19:11.347Z"
   },
   {
    "duration": 201,
    "start_time": "2021-12-11T15:19:11.580Z"
   },
   {
    "duration": 221,
    "start_time": "2021-12-11T15:19:11.783Z"
   },
   {
    "duration": 42,
    "start_time": "2021-12-11T15:19:12.005Z"
   },
   {
    "duration": 6,
    "start_time": "2021-12-11T15:19:12.049Z"
   },
   {
    "duration": 6,
    "start_time": "2021-12-11T15:19:12.057Z"
   },
   {
    "duration": 6,
    "start_time": "2021-12-11T15:19:12.065Z"
   },
   {
    "duration": 11,
    "start_time": "2021-12-11T15:19:12.073Z"
   },
   {
    "duration": 7,
    "start_time": "2021-12-11T15:19:12.085Z"
   },
   {
    "duration": 9,
    "start_time": "2021-12-11T15:19:12.094Z"
   },
   {
    "duration": 42,
    "start_time": "2021-12-11T15:19:12.105Z"
   },
   {
    "duration": 205,
    "start_time": "2021-12-11T15:25:41.419Z"
   },
   {
    "duration": 619,
    "start_time": "2021-12-11T15:27:23.445Z"
   },
   {
    "duration": 230,
    "start_time": "2021-12-11T15:31:52.818Z"
   },
   {
    "duration": 265,
    "start_time": "2021-12-11T15:34:10.698Z"
   },
   {
    "duration": 493,
    "start_time": "2021-12-11T15:35:33.944Z"
   },
   {
    "duration": 289,
    "start_time": "2021-12-11T15:35:44.022Z"
   },
   {
    "duration": 289,
    "start_time": "2021-12-11T15:36:50.694Z"
   },
   {
    "duration": 216,
    "start_time": "2021-12-11T15:37:26.374Z"
   },
   {
    "duration": 215,
    "start_time": "2021-12-11T15:38:04.372Z"
   },
   {
    "duration": 223,
    "start_time": "2021-12-11T15:38:13.384Z"
   },
   {
    "duration": 243,
    "start_time": "2021-12-11T15:38:44.068Z"
   },
   {
    "duration": 273,
    "start_time": "2021-12-11T15:38:48.150Z"
   },
   {
    "duration": 242,
    "start_time": "2021-12-11T15:38:51.451Z"
   },
   {
    "duration": 320,
    "start_time": "2021-12-11T15:38:55.127Z"
   },
   {
    "duration": 228,
    "start_time": "2021-12-11T15:38:57.938Z"
   },
   {
    "duration": 662,
    "start_time": "2021-12-11T15:42:53.029Z"
   },
   {
    "duration": 499,
    "start_time": "2021-12-11T15:46:07.453Z"
   },
   {
    "duration": 872,
    "start_time": "2021-12-11T15:46:54.235Z"
   },
   {
    "duration": 517,
    "start_time": "2021-12-11T15:47:07.461Z"
   },
   {
    "duration": 487,
    "start_time": "2021-12-11T15:47:52.988Z"
   },
   {
    "duration": 410,
    "start_time": "2021-12-11T15:48:01.105Z"
   },
   {
    "duration": 217,
    "start_time": "2021-12-11T15:48:08.414Z"
   },
   {
    "duration": 227,
    "start_time": "2021-12-11T15:48:50.582Z"
   },
   {
    "duration": 388,
    "start_time": "2021-12-11T15:49:37.106Z"
   },
   {
    "duration": 249,
    "start_time": "2021-12-11T15:50:58.164Z"
   },
   {
    "duration": 344,
    "start_time": "2021-12-11T15:51:38.373Z"
   },
   {
    "duration": 265,
    "start_time": "2021-12-11T15:52:18.027Z"
   },
   {
    "duration": 239,
    "start_time": "2021-12-11T15:53:02.325Z"
   },
   {
    "duration": 276,
    "start_time": "2021-12-11T15:53:39.868Z"
   },
   {
    "duration": 390,
    "start_time": "2021-12-11T15:54:26.086Z"
   },
   {
    "duration": 235,
    "start_time": "2021-12-11T15:54:50.080Z"
   },
   {
    "duration": 236,
    "start_time": "2021-12-11T15:55:01.510Z"
   },
   {
    "duration": 1524,
    "start_time": "2021-12-11T15:56:44.393Z"
   },
   {
    "duration": 32,
    "start_time": "2021-12-11T15:56:45.919Z"
   },
   {
    "duration": 40,
    "start_time": "2021-12-11T15:56:45.954Z"
   },
   {
    "duration": 29,
    "start_time": "2021-12-11T15:56:45.997Z"
   },
   {
    "duration": 14,
    "start_time": "2021-12-11T15:56:46.045Z"
   },
   {
    "duration": 17,
    "start_time": "2021-12-11T15:56:46.062Z"
   },
   {
    "duration": 128,
    "start_time": "2021-12-11T15:56:46.081Z"
   },
   {
    "duration": 99,
    "start_time": "2021-12-11T15:56:46.213Z"
   },
   {
    "duration": 68,
    "start_time": "2021-12-11T15:56:46.315Z"
   },
   {
    "duration": 7,
    "start_time": "2021-12-11T15:56:46.385Z"
   },
   {
    "duration": 14,
    "start_time": "2021-12-11T15:56:46.395Z"
   },
   {
    "duration": 79,
    "start_time": "2021-12-11T15:56:46.411Z"
   },
   {
    "duration": 77,
    "start_time": "2021-12-11T15:56:46.492Z"
   },
   {
    "duration": 4,
    "start_time": "2021-12-11T15:56:46.571Z"
   },
   {
    "duration": 11,
    "start_time": "2021-12-11T15:56:46.577Z"
   },
   {
    "duration": 4,
    "start_time": "2021-12-11T15:56:46.590Z"
   },
   {
    "duration": 5,
    "start_time": "2021-12-11T15:56:46.597Z"
   },
   {
    "duration": 40,
    "start_time": "2021-12-11T15:56:46.604Z"
   },
   {
    "duration": 17,
    "start_time": "2021-12-11T15:56:46.647Z"
   },
   {
    "duration": 154,
    "start_time": "2021-12-11T15:56:46.666Z"
   },
   {
    "duration": 54,
    "start_time": "2021-12-11T15:56:46.822Z"
   },
   {
    "duration": 11,
    "start_time": "2021-12-11T15:56:46.878Z"
   },
   {
    "duration": 54,
    "start_time": "2021-12-11T15:56:46.894Z"
   },
   {
    "duration": 147,
    "start_time": "2021-12-11T15:56:46.952Z"
   },
   {
    "duration": 74,
    "start_time": "2021-12-11T15:56:47.101Z"
   },
   {
    "duration": 171,
    "start_time": "2021-12-11T15:56:47.177Z"
   },
   {
    "duration": 77,
    "start_time": "2021-12-11T15:56:47.349Z"
   },
   {
    "duration": 64,
    "start_time": "2021-12-11T15:56:47.428Z"
   },
   {
    "duration": 110,
    "start_time": "2021-12-11T15:56:47.494Z"
   },
   {
    "duration": 40,
    "start_time": "2021-12-11T15:56:47.606Z"
   },
   {
    "duration": 8,
    "start_time": "2021-12-11T15:56:47.648Z"
   },
   {
    "duration": 43,
    "start_time": "2021-12-11T15:56:47.658Z"
   },
   {
    "duration": 65,
    "start_time": "2021-12-11T15:56:47.703Z"
   },
   {
    "duration": 16,
    "start_time": "2021-12-11T15:56:47.770Z"
   },
   {
    "duration": 17,
    "start_time": "2021-12-11T15:56:47.788Z"
   },
   {
    "duration": 7,
    "start_time": "2021-12-11T15:56:47.807Z"
   },
   {
    "duration": 7,
    "start_time": "2021-12-11T15:56:47.816Z"
   },
   {
    "duration": 300,
    "start_time": "2021-12-11T15:56:47.845Z"
   },
   {
    "duration": 290,
    "start_time": "2021-12-11T15:56:48.147Z"
   },
   {
    "duration": 335,
    "start_time": "2021-12-11T15:56:48.440Z"
   },
   {
    "duration": 310,
    "start_time": "2021-12-11T15:56:48.778Z"
   },
   {
    "duration": 271,
    "start_time": "2021-12-11T15:56:49.092Z"
   },
   {
    "duration": 302,
    "start_time": "2021-12-11T15:56:49.365Z"
   },
   {
    "duration": 45,
    "start_time": "2021-12-11T15:56:49.669Z"
   },
   {
    "duration": 7,
    "start_time": "2021-12-11T15:56:49.716Z"
   },
   {
    "duration": 7,
    "start_time": "2021-12-11T15:56:49.745Z"
   },
   {
    "duration": 10,
    "start_time": "2021-12-11T15:56:49.754Z"
   },
   {
    "duration": 9,
    "start_time": "2021-12-11T15:56:49.766Z"
   },
   {
    "duration": 10,
    "start_time": "2021-12-11T15:56:49.777Z"
   },
   {
    "duration": 10,
    "start_time": "2021-12-11T15:56:49.789Z"
   },
   {
    "duration": 43,
    "start_time": "2021-12-11T15:56:49.801Z"
   },
   {
    "duration": 1461,
    "start_time": "2021-12-12T05:18:08.900Z"
   },
   {
    "duration": 269,
    "start_time": "2021-12-12T05:20:15.199Z"
   },
   {
    "duration": 265,
    "start_time": "2021-12-12T05:20:15.204Z"
   },
   {
    "duration": 1510,
    "start_time": "2021-12-12T05:20:15.616Z"
   },
   {
    "duration": 33,
    "start_time": "2021-12-12T05:20:17.129Z"
   },
   {
    "duration": 25,
    "start_time": "2021-12-12T05:20:17.164Z"
   },
   {
    "duration": 21,
    "start_time": "2021-12-12T05:20:17.192Z"
   },
   {
    "duration": 39,
    "start_time": "2021-12-12T05:20:17.216Z"
   },
   {
    "duration": 31,
    "start_time": "2021-12-12T05:20:17.258Z"
   },
   {
    "duration": 109,
    "start_time": "2021-12-12T05:20:17.291Z"
   },
   {
    "duration": 77,
    "start_time": "2021-12-12T05:20:17.404Z"
   },
   {
    "duration": 41,
    "start_time": "2021-12-12T05:20:17.484Z"
   },
   {
    "duration": 19,
    "start_time": "2021-12-12T05:20:17.527Z"
   },
   {
    "duration": 29,
    "start_time": "2021-12-12T05:20:17.548Z"
   },
   {
    "duration": 84,
    "start_time": "2021-12-12T05:20:17.579Z"
   },
   {
    "duration": 61,
    "start_time": "2021-12-12T05:20:17.664Z"
   },
   {
    "duration": 5,
    "start_time": "2021-12-12T05:20:17.726Z"
   },
   {
    "duration": 33,
    "start_time": "2021-12-12T05:20:17.732Z"
   },
   {
    "duration": 18,
    "start_time": "2021-12-12T05:20:17.767Z"
   },
   {
    "duration": 31,
    "start_time": "2021-12-12T05:20:17.787Z"
   },
   {
    "duration": 20,
    "start_time": "2021-12-12T05:20:17.820Z"
   },
   {
    "duration": 32,
    "start_time": "2021-12-12T05:20:17.842Z"
   },
   {
    "duration": 164,
    "start_time": "2021-12-12T05:20:17.876Z"
   },
   {
    "duration": 39,
    "start_time": "2021-12-12T05:20:18.042Z"
   },
   {
    "duration": 11,
    "start_time": "2021-12-12T05:20:18.082Z"
   },
   {
    "duration": 56,
    "start_time": "2021-12-12T05:20:18.099Z"
   },
   {
    "duration": 167,
    "start_time": "2021-12-12T05:20:18.158Z"
   },
   {
    "duration": 66,
    "start_time": "2021-12-12T05:20:18.327Z"
   },
   {
    "duration": 160,
    "start_time": "2021-12-12T05:20:18.395Z"
   },
   {
    "duration": 71,
    "start_time": "2021-12-12T05:20:18.557Z"
   },
   {
    "duration": 52,
    "start_time": "2021-12-12T05:20:18.629Z"
   },
   {
    "duration": 95,
    "start_time": "2021-12-12T05:20:18.683Z"
   },
   {
    "duration": 26,
    "start_time": "2021-12-12T05:20:18.780Z"
   },
   {
    "duration": 5,
    "start_time": "2021-12-12T05:20:18.807Z"
   },
   {
    "duration": 50,
    "start_time": "2021-12-12T05:20:18.813Z"
   },
   {
    "duration": 35,
    "start_time": "2021-12-12T05:20:18.865Z"
   },
   {
    "duration": 15,
    "start_time": "2021-12-12T05:20:18.902Z"
   },
   {
    "duration": 25,
    "start_time": "2021-12-12T05:20:18.918Z"
   },
   {
    "duration": 7,
    "start_time": "2021-12-12T05:20:18.944Z"
   },
   {
    "duration": 24,
    "start_time": "2021-12-12T05:20:18.953Z"
   },
   {
    "duration": 260,
    "start_time": "2021-12-12T05:20:18.979Z"
   },
   {
    "duration": 254,
    "start_time": "2021-12-12T05:20:19.240Z"
   },
   {
    "duration": 229,
    "start_time": "2021-12-12T05:20:19.496Z"
   },
   {
    "duration": 243,
    "start_time": "2021-12-12T05:20:19.727Z"
   },
   {
    "duration": 248,
    "start_time": "2021-12-12T05:20:19.971Z"
   },
   {
    "duration": 234,
    "start_time": "2021-12-12T05:20:20.221Z"
   },
   {
    "duration": 32,
    "start_time": "2021-12-12T05:20:20.457Z"
   },
   {
    "duration": 7,
    "start_time": "2021-12-12T05:20:20.490Z"
   },
   {
    "duration": 11,
    "start_time": "2021-12-12T05:20:20.498Z"
   },
   {
    "duration": 11,
    "start_time": "2021-12-12T05:20:20.510Z"
   },
   {
    "duration": 29,
    "start_time": "2021-12-12T05:20:20.522Z"
   },
   {
    "duration": 8,
    "start_time": "2021-12-12T05:20:20.553Z"
   },
   {
    "duration": 10,
    "start_time": "2021-12-12T05:20:20.562Z"
   },
   {
    "duration": 7,
    "start_time": "2021-12-12T05:20:20.574Z"
   }
  ],
  "kernelspec": {
   "display_name": "Python 3 (ipykernel)",
   "language": "python",
   "name": "python3"
  },
  "language_info": {
   "codemirror_mode": {
    "name": "ipython",
    "version": 3
   },
   "file_extension": ".py",
   "mimetype": "text/x-python",
   "name": "python",
   "nbconvert_exporter": "python",
   "pygments_lexer": "ipython3",
   "version": "3.9.5"
  },
  "toc": {
   "base_numbering": 1,
   "nav_menu": {},
   "number_sections": true,
   "sideBar": true,
   "skip_h1_title": true,
   "title_cell": "Table of Contents",
   "title_sidebar": "Contents",
   "toc_cell": false,
   "toc_position": {},
   "toc_section_display": true,
   "toc_window_display": true
  }
 },
 "nbformat": 4,
 "nbformat_minor": 2
}
