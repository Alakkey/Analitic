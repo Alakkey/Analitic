{
 "cells": [
  {
   "cell_type": "markdown",
   "metadata": {},
   "source": [
    "**Инструкция по выполнению проекта:**\n",
    "    \n",
    "   Вы — аналитик крупного интернет-магазина. Вместе с отделом маркетинга вы подготовили список гипотез для увеличения выручки.\n",
    "Приоритизируйте гипотезы, запустите A/B-тест и проанализируйте результаты.\n",
    "\n",
    "    Часть 1. Приоритизация гипотез.\n",
    "    В файле /datasets/hypothesis.csv 9 гипотез по увеличению выручки интернет-магазина с указанными параметрами Reach, Impact, Confidence, Effort.\n",
    "\n",
    "**Задача**\n",
    "\n",
    "1. Примените фреймворк ICE для приоритизации гипотез. Отсортируйте их по убыванию приоритета.\n",
    "2. Примените фреймворк RICE для приоритизации гипотез. Отсортируйте их по убыванию приоритета.\n",
    "3. Укажите, как изменилась приоритизация гипотез при применении RICE вместо ICE. Объясните, почему так произошло.\n",
    "\n",
    "**Часть 2. Анализ A/B-теста**\n",
    "\n",
    "Вы провели A/B-тест и получили результаты, которые описаны в файлах /datasets/orders.csv и /datasets/visitors.csv.\n",
    "\n",
    "**Задача**\n",
    " Проанализируйте A/B-тест:\n",
    "\n",
    "1. Постройте график кумулятивной выручки по группам. Сделайте выводы и предположения.\n",
    "2. Постройте график кумулятивного среднего чека по группам. Сделайте выводы и предположения.\n",
    "3. Постройте график относительного изменения кумулятивного среднего чека группы B к группе A. Сделайте выводы и предположения.\n",
    "4. Постройте график кумулятивной конверсии по группам. Сделайте выводы и предположения.\n",
    "5. Постройте график относительного изменения кумулятивной конверсии группы B к группе A. Сделайте выводы и предположения.\n",
    "6. Постройте точечный график количества заказов по пользователям. Сделайте выводы и предположения.\n",
    "7. Посчитайте 95-й и 99-й перцентили количества заказов на пользователя. Выберите границу для определения аномальных пользователей.\n",
    "8. Постройте точечный график стоимостей заказов. Сделайте выводы и предположения.\n",
    "9. Посчитайте 95-й и 99-й перцентили стоимости заказов. Выберите границу для определения аномальных заказов.\n",
    "10. Посчитайте статистическую значимость различий в конверсии между группами по «сырым» данным. Сделайте выводы и предположения.\n",
    "11. Посчитайте статистическую значимость различий в среднем чеке заказа между группами по «сырым» данным. Сделайте выводы и предположения.\n",
    "12. Посчитайте статистическую значимость различий в конверсии между группами по «очищенным» данным. Сделайте выводы и предположения.\n",
    "13. Посчитайте статистическую значимость различий в среднем чеке заказа между группами по «очищенным» данным. Сделайте выводы и предположения.\n",
    "14. Примите решение по результатам теста и объясните его. Варианты решений: 1. Остановить тест, зафиксировать победу одной из групп. 2. Остановить тест, зафиксировать отсутствие различий между группами. 3. Продолжить тест."
   ]
  },
  {
   "cell_type": "markdown",
   "metadata": {},
   "source": [
    "## Шаг 1. Загрузим данные и подготовьте их к анализу"
   ]
  },
  {
   "cell_type": "code",
   "execution_count": 1,
   "metadata": {},
   "outputs": [],
   "source": [
    "import pandas as pd\n",
    "import datetime as dt\n",
    "import scipy.stats as stats\n",
    "import numpy as np\n",
    "import matplotlib.pyplot as plt\n",
    "from pandas.plotting import register_matplotlib_converters\n",
    "%config InlineBackend.figure_format='retina'\n",
    "import warnings\n",
    "warnings.filterwarnings('ignore')\n",
    "\n",
    "\n",
    "hypothesis = pd.read_csv('/datasets/hypothesis.csv')\n",
    "pd.set_option('display.max_colwidth', 1000)\n",
    "\n",
    "orders = pd.read_csv('/datasets/orders.csv', sep=',')\n",
    "\n",
    "visitors = pd.read_csv('/datasets/visitors.csv', sep=',')"
   ]
  },
  {
   "cell_type": "markdown",
   "metadata": {},
   "source": [
    "<div class=\"alert alert-success\">\n",
    "\n",
    "<b>✔️ Комментарий ревьюера:</b> Круто, что умеешь настраивать вывод!\n",
    "\n",
    "</div>"
   ]
  },
  {
   "cell_type": "markdown",
   "metadata": {},
   "source": [
    "### Подготовим данные к анальзу"
   ]
  },
  {
   "cell_type": "code",
   "execution_count": 2,
   "metadata": {},
   "outputs": [
    {
     "data": {
      "text/plain": [
       "'Датасет hypothesis'"
      ]
     },
     "metadata": {},
     "output_type": "display_data"
    },
    {
     "data": {
      "text/html": [
       "<div>\n",
       "<style scoped>\n",
       "    .dataframe tbody tr th:only-of-type {\n",
       "        vertical-align: middle;\n",
       "    }\n",
       "\n",
       "    .dataframe tbody tr th {\n",
       "        vertical-align: top;\n",
       "    }\n",
       "\n",
       "    .dataframe thead th {\n",
       "        text-align: right;\n",
       "    }\n",
       "</style>\n",
       "<table border=\"1\" class=\"dataframe\">\n",
       "  <thead>\n",
       "    <tr style=\"text-align: right;\">\n",
       "      <th></th>\n",
       "      <th>Hypothesis</th>\n",
       "      <th>Reach</th>\n",
       "      <th>Impact</th>\n",
       "      <th>Confidence</th>\n",
       "      <th>Efforts</th>\n",
       "    </tr>\n",
       "  </thead>\n",
       "  <tbody>\n",
       "    <tr>\n",
       "      <td>0</td>\n",
       "      <td>Добавить два новых канала привлечения трафика, что позволит привлекать на 30% больше пользователей</td>\n",
       "      <td>3</td>\n",
       "      <td>10</td>\n",
       "      <td>8</td>\n",
       "      <td>6</td>\n",
       "    </tr>\n",
       "    <tr>\n",
       "      <td>1</td>\n",
       "      <td>Запустить собственную службу доставки, что сократит срок доставки заказов</td>\n",
       "      <td>2</td>\n",
       "      <td>5</td>\n",
       "      <td>4</td>\n",
       "      <td>10</td>\n",
       "    </tr>\n",
       "    <tr>\n",
       "      <td>2</td>\n",
       "      <td>Добавить блоки рекомендаций товаров на сайт интернет магазина, чтобы повысить конверсию и средний чек заказа</td>\n",
       "      <td>8</td>\n",
       "      <td>3</td>\n",
       "      <td>7</td>\n",
       "      <td>3</td>\n",
       "    </tr>\n",
       "    <tr>\n",
       "      <td>3</td>\n",
       "      <td>Изменить структура категорий, что увеличит конверсию, т.к. пользователи быстрее найдут нужный товар</td>\n",
       "      <td>8</td>\n",
       "      <td>3</td>\n",
       "      <td>3</td>\n",
       "      <td>8</td>\n",
       "    </tr>\n",
       "    <tr>\n",
       "      <td>4</td>\n",
       "      <td>Изменить цвет фона главной страницы, чтобы увеличить вовлеченность пользователей</td>\n",
       "      <td>3</td>\n",
       "      <td>1</td>\n",
       "      <td>1</td>\n",
       "      <td>1</td>\n",
       "    </tr>\n",
       "    <tr>\n",
       "      <td>5</td>\n",
       "      <td>Добавить страницу отзывов клиентов о магазине, что позволит увеличить количество заказов</td>\n",
       "      <td>3</td>\n",
       "      <td>2</td>\n",
       "      <td>2</td>\n",
       "      <td>3</td>\n",
       "    </tr>\n",
       "    <tr>\n",
       "      <td>6</td>\n",
       "      <td>Показать на главной странице баннеры с актуальными акциями и распродажами, чтобы увеличить конверсию</td>\n",
       "      <td>5</td>\n",
       "      <td>3</td>\n",
       "      <td>8</td>\n",
       "      <td>3</td>\n",
       "    </tr>\n",
       "    <tr>\n",
       "      <td>7</td>\n",
       "      <td>Добавить форму подписки на все основные страницы, чтобы собрать базу клиентов для email-рассылок</td>\n",
       "      <td>10</td>\n",
       "      <td>7</td>\n",
       "      <td>8</td>\n",
       "      <td>5</td>\n",
       "    </tr>\n",
       "    <tr>\n",
       "      <td>8</td>\n",
       "      <td>Запустить акцию, дающую скидку на товар в день рождения</td>\n",
       "      <td>1</td>\n",
       "      <td>9</td>\n",
       "      <td>9</td>\n",
       "      <td>5</td>\n",
       "    </tr>\n",
       "  </tbody>\n",
       "</table>\n",
       "</div>"
      ],
      "text/plain": [
       "                                                                                                     Hypothesis  \\\n",
       "0            Добавить два новых канала привлечения трафика, что позволит привлекать на 30% больше пользователей   \n",
       "1                                     Запустить собственную службу доставки, что сократит срок доставки заказов   \n",
       "2  Добавить блоки рекомендаций товаров на сайт интернет магазина, чтобы повысить конверсию и средний чек заказа   \n",
       "3           Изменить структура категорий, что увеличит конверсию, т.к. пользователи быстрее найдут нужный товар   \n",
       "4                              Изменить цвет фона главной страницы, чтобы увеличить вовлеченность пользователей   \n",
       "5                      Добавить страницу отзывов клиентов о магазине, что позволит увеличить количество заказов   \n",
       "6          Показать на главной странице баннеры с актуальными акциями и распродажами, чтобы увеличить конверсию   \n",
       "7              Добавить форму подписки на все основные страницы, чтобы собрать базу клиентов для email-рассылок   \n",
       "8                                                       Запустить акцию, дающую скидку на товар в день рождения   \n",
       "\n",
       "   Reach  Impact  Confidence  Efforts  \n",
       "0      3      10           8        6  \n",
       "1      2       5           4       10  \n",
       "2      8       3           7        3  \n",
       "3      8       3           3        8  \n",
       "4      3       1           1        1  \n",
       "5      3       2           2        3  \n",
       "6      5       3           8        3  \n",
       "7     10       7           8        5  \n",
       "8      1       9           9        5  "
      ]
     },
     "metadata": {},
     "output_type": "display_data"
    },
    {
     "data": {
      "text/plain": [
       "'Столбцы'"
      ]
     },
     "metadata": {},
     "output_type": "display_data"
    },
    {
     "data": {
      "text/plain": [
       "Index(['Hypothesis', 'Reach', 'Impact', 'Confidence', 'Efforts'], dtype='object')"
      ]
     },
     "metadata": {},
     "output_type": "display_data"
    },
    {
     "name": "stdout",
     "output_type": "stream",
     "text": [
      "<class 'pandas.core.frame.DataFrame'>\n",
      "RangeIndex: 9 entries, 0 to 8\n",
      "Data columns (total 5 columns):\n",
      "Hypothesis    9 non-null object\n",
      "Reach         9 non-null int64\n",
      "Impact        9 non-null int64\n",
      "Confidence    9 non-null int64\n",
      "Efforts       9 non-null int64\n",
      "dtypes: int64(4), object(1)\n",
      "memory usage: 488.0+ bytes\n"
     ]
    },
    {
     "data": {
      "text/plain": [
       "'Иформация по типу данных'"
      ]
     },
     "metadata": {},
     "output_type": "display_data"
    },
    {
     "data": {
      "text/plain": [
       "None"
      ]
     },
     "metadata": {},
     "output_type": "display_data"
    },
    {
     "data": {
      "text/plain": [
       "'Сумма дубликатов'"
      ]
     },
     "metadata": {},
     "output_type": "display_data"
    },
    {
     "data": {
      "text/plain": [
       "0"
      ]
     },
     "metadata": {},
     "output_type": "display_data"
    }
   ],
   "source": [
    "#Рассмотрим датасет `hypothesis`\n",
    "display('Датасет hypothesis', hypothesis)\n",
    "display('Столбцы', hypothesis.columns)\n",
    "display('Иформация по типу данных', hypothesis.info())\n",
    "display('Сумма дубликатов', hypothesis.duplicated().sum())"
   ]
  },
  {
   "cell_type": "markdown",
   "metadata": {},
   "source": [
    "**Вывод:**\n",
    "\n",
    "Датасет hypothesis хранит информацию о гипотезах.\n",
    "\n",
    "Содержит информацию в столбцах:\n",
    "\n",
    "* Hypothesis — краткое описание гипотезы;\n",
    "* Reach — охват пользователей по 10-балльной шкале;\n",
    "* Impact — влияние на пользователей по 10-балльной шкале;\n",
    "* Confidence — уверенность в гипотезе по 10-балльной шкале;\n",
    "* Efforts — затраты ресурсов на проверку гипотезы по 10-балльной шкале. Чем больше значение Efforts, тем дороже проверка гипотезы.\n",
    "\n",
    "Дубликатов и пропусков нет."
   ]
  },
  {
   "cell_type": "code",
   "execution_count": 3,
   "metadata": {},
   "outputs": [
    {
     "name": "stdout",
     "output_type": "stream",
     "text": [
      "<class 'pandas.core.frame.DataFrame'>\n",
      "RangeIndex: 9 entries, 0 to 8\n",
      "Data columns (total 5 columns):\n",
      "hypothesis    9 non-null object\n",
      "reach         9 non-null int64\n",
      "impact        9 non-null int64\n",
      "confidence    9 non-null int64\n",
      "efforts       9 non-null int64\n",
      "dtypes: int64(4), object(1)\n",
      "memory usage: 488.0+ bytes\n"
     ]
    }
   ],
   "source": [
    "# Для удобства пиведем к нижнему регистр название столбцов\n",
    "hypothesis.columns = hypothesis.columns.str.lower()\n",
    "hypothesis.info()"
   ]
  },
  {
   "cell_type": "code",
   "execution_count": 4,
   "metadata": {},
   "outputs": [
    {
     "data": {
      "text/plain": [
       "'Датасет visitors'"
      ]
     },
     "metadata": {},
     "output_type": "display_data"
    },
    {
     "data": {
      "text/html": [
       "<div>\n",
       "<style scoped>\n",
       "    .dataframe tbody tr th:only-of-type {\n",
       "        vertical-align: middle;\n",
       "    }\n",
       "\n",
       "    .dataframe tbody tr th {\n",
       "        vertical-align: top;\n",
       "    }\n",
       "\n",
       "    .dataframe thead th {\n",
       "        text-align: right;\n",
       "    }\n",
       "</style>\n",
       "<table border=\"1\" class=\"dataframe\">\n",
       "  <thead>\n",
       "    <tr style=\"text-align: right;\">\n",
       "      <th></th>\n",
       "      <th>date</th>\n",
       "      <th>group</th>\n",
       "      <th>visitors</th>\n",
       "    </tr>\n",
       "  </thead>\n",
       "  <tbody>\n",
       "    <tr>\n",
       "      <td>0</td>\n",
       "      <td>2019-08-01</td>\n",
       "      <td>A</td>\n",
       "      <td>719</td>\n",
       "    </tr>\n",
       "    <tr>\n",
       "      <td>1</td>\n",
       "      <td>2019-08-02</td>\n",
       "      <td>A</td>\n",
       "      <td>619</td>\n",
       "    </tr>\n",
       "    <tr>\n",
       "      <td>2</td>\n",
       "      <td>2019-08-03</td>\n",
       "      <td>A</td>\n",
       "      <td>507</td>\n",
       "    </tr>\n",
       "    <tr>\n",
       "      <td>3</td>\n",
       "      <td>2019-08-04</td>\n",
       "      <td>A</td>\n",
       "      <td>717</td>\n",
       "    </tr>\n",
       "    <tr>\n",
       "      <td>4</td>\n",
       "      <td>2019-08-05</td>\n",
       "      <td>A</td>\n",
       "      <td>756</td>\n",
       "    </tr>\n",
       "    <tr>\n",
       "      <td>...</td>\n",
       "      <td>...</td>\n",
       "      <td>...</td>\n",
       "      <td>...</td>\n",
       "    </tr>\n",
       "    <tr>\n",
       "      <td>57</td>\n",
       "      <td>2019-08-27</td>\n",
       "      <td>B</td>\n",
       "      <td>720</td>\n",
       "    </tr>\n",
       "    <tr>\n",
       "      <td>58</td>\n",
       "      <td>2019-08-28</td>\n",
       "      <td>B</td>\n",
       "      <td>654</td>\n",
       "    </tr>\n",
       "    <tr>\n",
       "      <td>59</td>\n",
       "      <td>2019-08-29</td>\n",
       "      <td>B</td>\n",
       "      <td>531</td>\n",
       "    </tr>\n",
       "    <tr>\n",
       "      <td>60</td>\n",
       "      <td>2019-08-30</td>\n",
       "      <td>B</td>\n",
       "      <td>490</td>\n",
       "    </tr>\n",
       "    <tr>\n",
       "      <td>61</td>\n",
       "      <td>2019-08-31</td>\n",
       "      <td>B</td>\n",
       "      <td>718</td>\n",
       "    </tr>\n",
       "  </tbody>\n",
       "</table>\n",
       "<p>62 rows × 3 columns</p>\n",
       "</div>"
      ],
      "text/plain": [
       "          date group  visitors\n",
       "0   2019-08-01     A       719\n",
       "1   2019-08-02     A       619\n",
       "2   2019-08-03     A       507\n",
       "3   2019-08-04     A       717\n",
       "4   2019-08-05     A       756\n",
       "..         ...   ...       ...\n",
       "57  2019-08-27     B       720\n",
       "58  2019-08-28     B       654\n",
       "59  2019-08-29     B       531\n",
       "60  2019-08-30     B       490\n",
       "61  2019-08-31     B       718\n",
       "\n",
       "[62 rows x 3 columns]"
      ]
     },
     "metadata": {},
     "output_type": "display_data"
    },
    {
     "data": {
      "text/plain": [
       "'Столбцы'"
      ]
     },
     "metadata": {},
     "output_type": "display_data"
    },
    {
     "data": {
      "text/plain": [
       "Index(['date', 'group', 'visitors'], dtype='object')"
      ]
     },
     "metadata": {},
     "output_type": "display_data"
    },
    {
     "name": "stdout",
     "output_type": "stream",
     "text": [
      "<class 'pandas.core.frame.DataFrame'>\n",
      "RangeIndex: 62 entries, 0 to 61\n",
      "Data columns (total 3 columns):\n",
      "date        62 non-null object\n",
      "group       62 non-null object\n",
      "visitors    62 non-null int64\n",
      "dtypes: int64(1), object(2)\n",
      "memory usage: 1.6+ KB\n"
     ]
    },
    {
     "data": {
      "text/plain": [
       "'Иформация по типу данных'"
      ]
     },
     "metadata": {},
     "output_type": "display_data"
    },
    {
     "data": {
      "text/plain": [
       "None"
      ]
     },
     "metadata": {},
     "output_type": "display_data"
    },
    {
     "data": {
      "text/plain": [
       "'Сумма дубликатов'"
      ]
     },
     "metadata": {},
     "output_type": "display_data"
    },
    {
     "data": {
      "text/plain": [
       "0"
      ]
     },
     "metadata": {},
     "output_type": "display_data"
    }
   ],
   "source": [
    "#Рассмотрим датасет `visits`\n",
    "display('Датасет visitors', visitors)\n",
    "display('Столбцы', visitors.columns)\n",
    "display('Иформация по типу данных', visitors.info())\n",
    "display('Сумма дубликатов', visitors.duplicated().sum())"
   ]
  },
  {
   "cell_type": "code",
   "execution_count": 5,
   "metadata": {},
   "outputs": [
    {
     "name": "stdout",
     "output_type": "stream",
     "text": [
      "<class 'pandas.core.frame.DataFrame'>\n",
      "RangeIndex: 62 entries, 0 to 61\n",
      "Data columns (total 3 columns):\n",
      "date        62 non-null datetime64[ns]\n",
      "group       62 non-null object\n",
      "visitors    62 non-null int64\n",
      "dtypes: datetime64[ns](1), int64(1), object(1)\n",
      "memory usage: 1.6+ KB\n"
     ]
    }
   ],
   "source": [
    "visitors['date'] = pd.to_datetime(visitors['date'])\n",
    "visitors.info()"
   ]
  },
  {
   "cell_type": "markdown",
   "metadata": {},
   "source": [
    "**Вывод:**\n",
    "\n",
    "Датасет `visitors` содержит информацию о группах пользователей. \n",
    "\n",
    "Содержит информацию в сталбцах:\n",
    "\n",
    "* date — дата;\n",
    "* group — группа A/B-теста;\n",
    "* visitors — количество пользователей в указанную дату в указанной группе A/B-теста\n",
    "\n",
    "Дубликатов нет, пропусков нет. Столбец `data` имеет не верный тип данных (object), нужно исправить."
   ]
  },
  {
   "cell_type": "code",
   "execution_count": 6,
   "metadata": {},
   "outputs": [
    {
     "data": {
      "text/plain": [
       "'Датасет orders'"
      ]
     },
     "metadata": {},
     "output_type": "display_data"
    },
    {
     "data": {
      "text/html": [
       "<div>\n",
       "<style scoped>\n",
       "    .dataframe tbody tr th:only-of-type {\n",
       "        vertical-align: middle;\n",
       "    }\n",
       "\n",
       "    .dataframe tbody tr th {\n",
       "        vertical-align: top;\n",
       "    }\n",
       "\n",
       "    .dataframe thead th {\n",
       "        text-align: right;\n",
       "    }\n",
       "</style>\n",
       "<table border=\"1\" class=\"dataframe\">\n",
       "  <thead>\n",
       "    <tr style=\"text-align: right;\">\n",
       "      <th></th>\n",
       "      <th>transactionId</th>\n",
       "      <th>visitorId</th>\n",
       "      <th>date</th>\n",
       "      <th>revenue</th>\n",
       "      <th>group</th>\n",
       "    </tr>\n",
       "  </thead>\n",
       "  <tbody>\n",
       "    <tr>\n",
       "      <td>0</td>\n",
       "      <td>3667963787</td>\n",
       "      <td>3312258926</td>\n",
       "      <td>2019-08-15</td>\n",
       "      <td>1650</td>\n",
       "      <td>B</td>\n",
       "    </tr>\n",
       "    <tr>\n",
       "      <td>1</td>\n",
       "      <td>2804400009</td>\n",
       "      <td>3642806036</td>\n",
       "      <td>2019-08-15</td>\n",
       "      <td>730</td>\n",
       "      <td>B</td>\n",
       "    </tr>\n",
       "    <tr>\n",
       "      <td>2</td>\n",
       "      <td>2961555356</td>\n",
       "      <td>4069496402</td>\n",
       "      <td>2019-08-15</td>\n",
       "      <td>400</td>\n",
       "      <td>A</td>\n",
       "    </tr>\n",
       "    <tr>\n",
       "      <td>3</td>\n",
       "      <td>3797467345</td>\n",
       "      <td>1196621759</td>\n",
       "      <td>2019-08-15</td>\n",
       "      <td>9759</td>\n",
       "      <td>B</td>\n",
       "    </tr>\n",
       "    <tr>\n",
       "      <td>4</td>\n",
       "      <td>2282983706</td>\n",
       "      <td>2322279887</td>\n",
       "      <td>2019-08-15</td>\n",
       "      <td>2308</td>\n",
       "      <td>B</td>\n",
       "    </tr>\n",
       "    <tr>\n",
       "      <td>...</td>\n",
       "      <td>...</td>\n",
       "      <td>...</td>\n",
       "      <td>...</td>\n",
       "      <td>...</td>\n",
       "      <td>...</td>\n",
       "    </tr>\n",
       "    <tr>\n",
       "      <td>1192</td>\n",
       "      <td>2662137336</td>\n",
       "      <td>3733762160</td>\n",
       "      <td>2019-08-14</td>\n",
       "      <td>6490</td>\n",
       "      <td>B</td>\n",
       "    </tr>\n",
       "    <tr>\n",
       "      <td>1193</td>\n",
       "      <td>2203539145</td>\n",
       "      <td>370388673</td>\n",
       "      <td>2019-08-14</td>\n",
       "      <td>3190</td>\n",
       "      <td>A</td>\n",
       "    </tr>\n",
       "    <tr>\n",
       "      <td>1194</td>\n",
       "      <td>1807773912</td>\n",
       "      <td>573423106</td>\n",
       "      <td>2019-08-14</td>\n",
       "      <td>10550</td>\n",
       "      <td>A</td>\n",
       "    </tr>\n",
       "    <tr>\n",
       "      <td>1195</td>\n",
       "      <td>1947021204</td>\n",
       "      <td>1614305549</td>\n",
       "      <td>2019-08-14</td>\n",
       "      <td>100</td>\n",
       "      <td>A</td>\n",
       "    </tr>\n",
       "    <tr>\n",
       "      <td>1196</td>\n",
       "      <td>3936777065</td>\n",
       "      <td>2108080724</td>\n",
       "      <td>2019-08-15</td>\n",
       "      <td>202740</td>\n",
       "      <td>B</td>\n",
       "    </tr>\n",
       "  </tbody>\n",
       "</table>\n",
       "<p>1197 rows × 5 columns</p>\n",
       "</div>"
      ],
      "text/plain": [
       "      transactionId   visitorId        date  revenue group\n",
       "0        3667963787  3312258926  2019-08-15     1650     B\n",
       "1        2804400009  3642806036  2019-08-15      730     B\n",
       "2        2961555356  4069496402  2019-08-15      400     A\n",
       "3        3797467345  1196621759  2019-08-15     9759     B\n",
       "4        2282983706  2322279887  2019-08-15     2308     B\n",
       "...             ...         ...         ...      ...   ...\n",
       "1192     2662137336  3733762160  2019-08-14     6490     B\n",
       "1193     2203539145   370388673  2019-08-14     3190     A\n",
       "1194     1807773912   573423106  2019-08-14    10550     A\n",
       "1195     1947021204  1614305549  2019-08-14      100     A\n",
       "1196     3936777065  2108080724  2019-08-15   202740     B\n",
       "\n",
       "[1197 rows x 5 columns]"
      ]
     },
     "metadata": {},
     "output_type": "display_data"
    },
    {
     "data": {
      "text/plain": [
       "'Столбцы'"
      ]
     },
     "metadata": {},
     "output_type": "display_data"
    },
    {
     "data": {
      "text/plain": [
       "Index(['transactionId', 'visitorId', 'date', 'revenue', 'group'], dtype='object')"
      ]
     },
     "metadata": {},
     "output_type": "display_data"
    },
    {
     "name": "stdout",
     "output_type": "stream",
     "text": [
      "<class 'pandas.core.frame.DataFrame'>\n",
      "RangeIndex: 1197 entries, 0 to 1196\n",
      "Data columns (total 5 columns):\n",
      "transactionId    1197 non-null int64\n",
      "visitorId        1197 non-null int64\n",
      "date             1197 non-null object\n",
      "revenue          1197 non-null int64\n",
      "group            1197 non-null object\n",
      "dtypes: int64(3), object(2)\n",
      "memory usage: 46.9+ KB\n"
     ]
    },
    {
     "data": {
      "text/plain": [
       "'Иформация по типу данных'"
      ]
     },
     "metadata": {},
     "output_type": "display_data"
    },
    {
     "data": {
      "text/plain": [
       "None"
      ]
     },
     "metadata": {},
     "output_type": "display_data"
    },
    {
     "data": {
      "text/plain": [
       "'Сумма дубликатов'"
      ]
     },
     "metadata": {},
     "output_type": "display_data"
    },
    {
     "data": {
      "text/plain": [
       "0"
      ]
     },
     "metadata": {},
     "output_type": "display_data"
    }
   ],
   "source": [
    "#Рассмотрим датасет `orders`\n",
    "display('Датасет orders', orders)\n",
    "display('Столбцы', orders.columns)\n",
    "display('Иформация по типу данных', orders.info())\n",
    "display('Сумма дубликатов', orders.duplicated().sum())"
   ]
  },
  {
   "cell_type": "code",
   "execution_count": 7,
   "metadata": {},
   "outputs": [
    {
     "name": "stdout",
     "output_type": "stream",
     "text": [
      "<class 'pandas.core.frame.DataFrame'>\n",
      "RangeIndex: 1197 entries, 0 to 1196\n",
      "Data columns (total 5 columns):\n",
      "transaction_id    1197 non-null int64\n",
      "visitor_id        1197 non-null int64\n",
      "date              1197 non-null datetime64[ns]\n",
      "revenue           1197 non-null int64\n",
      "group             1197 non-null object\n",
      "dtypes: datetime64[ns](1), int64(3), object(1)\n",
      "memory usage: 46.9+ KB\n"
     ]
    }
   ],
   "source": [
    "# Для удобства пиведем к нижнему регистр название столбцов\n",
    "orders.columns = orders.columns.str.lower()\n",
    "# Переименуем столбцы\n",
    "orders = orders.rename(columns={'transactionid': 'transaction_id', 'visitorid': 'visitor_id'})\n",
    "# Изменим тип данных в столбце `date` \n",
    "orders['date'] = pd.to_datetime(orders['date'])\n",
    "# Проверим результат\n",
    "orders.info()"
   ]
  },
  {
   "cell_type": "markdown",
   "metadata": {},
   "source": [
    "**Вывод:**\n",
    "\n",
    "Датасет `orders` содержит информацию о заказах. \n",
    "\n",
    "Содержит информацию в столбцах:\n",
    "\n",
    "* transaction_id — идентификатор заказа;\n",
    "* visitor_id — идентификатор пользователя, совершившего заказ;\n",
    "* date — дата, когда был совершён заказ;\n",
    "* revenue — выручка заказа;\n",
    "* group — группа A/Bтеста, в которую попал заказ.\n",
    "\n",
    "Пропусков нет, дубликатов тоже нет."
   ]
  },
  {
   "cell_type": "markdown",
   "metadata": {},
   "source": [
    "### Проверим есть ли пользователи, которые попали в обе группы теста"
   ]
  },
  {
   "cell_type": "code",
   "execution_count": 8,
   "metadata": {},
   "outputs": [
    {
     "data": {
      "text/plain": [
       "58"
      ]
     },
     "execution_count": 8,
     "metadata": {},
     "output_type": "execute_result"
    }
   ],
   "source": [
    "# Проверим есть ли пользватели, которые попали в обе группы одновременно.\n",
    "visitor_two_group = orders.groupby('visitor_id').agg({'group': 'nunique'}).reset_index()\n",
    "visitor_two_group = visitor_two_group.query('group > 1')\n",
    "visitor_two_group['visitor_id'].count()"
   ]
  },
  {
   "cell_type": "markdown",
   "metadata": {},
   "source": [
    "Выходит, что у нас 58 пользователей, который попали в группы А и В."
   ]
  },
  {
   "cell_type": "markdown",
   "metadata": {},
   "source": [
    "### Проверим баланс между группами"
   ]
  },
  {
   "cell_type": "code",
   "execution_count": 9,
   "metadata": {},
   "outputs": [
    {
     "data": {
      "text/html": [
       "<div>\n",
       "<style scoped>\n",
       "    .dataframe tbody tr th:only-of-type {\n",
       "        vertical-align: middle;\n",
       "    }\n",
       "\n",
       "    .dataframe tbody tr th {\n",
       "        vertical-align: top;\n",
       "    }\n",
       "\n",
       "    .dataframe thead th {\n",
       "        text-align: right;\n",
       "    }\n",
       "</style>\n",
       "<table border=\"1\" class=\"dataframe\">\n",
       "  <thead>\n",
       "    <tr style=\"text-align: right;\">\n",
       "      <th></th>\n",
       "      <th>group</th>\n",
       "      <th>visitor_id</th>\n",
       "    </tr>\n",
       "  </thead>\n",
       "  <tbody>\n",
       "    <tr>\n",
       "      <td>0</td>\n",
       "      <td>A</td>\n",
       "      <td>557</td>\n",
       "    </tr>\n",
       "    <tr>\n",
       "      <td>1</td>\n",
       "      <td>B</td>\n",
       "      <td>640</td>\n",
       "    </tr>\n",
       "  </tbody>\n",
       "</table>\n",
       "</div>"
      ],
      "text/plain": [
       "  group  visitor_id\n",
       "0     A         557\n",
       "1     B         640"
      ]
     },
     "execution_count": 9,
     "metadata": {},
     "output_type": "execute_result"
    }
   ],
   "source": [
    "# Посмотрим баланс между группами\n",
    "ab_total = orders.groupby('group', as_index=False)['visitor_id'].count()\n",
    "ab_total"
   ]
  },
  {
   "cell_type": "markdown",
   "metadata": {},
   "source": [
    "Видим, что количество пользователей в группе В боьше чем в группе А на 83 человека."
   ]
  },
  {
   "cell_type": "markdown",
   "metadata": {},
   "source": [
    "### Посмотрим на начальную и конечную дату теста"
   ]
  },
  {
   "cell_type": "code",
   "execution_count": 10,
   "metadata": {},
   "outputs": [
    {
     "data": {
      "text/plain": [
       "Timestamp('2019-08-01 00:00:00')"
      ]
     },
     "execution_count": 10,
     "metadata": {},
     "output_type": "execute_result"
    }
   ],
   "source": [
    "# Посмотрим какая была начальная дата теста\n",
    "orders['date'].min()"
   ]
  },
  {
   "cell_type": "code",
   "execution_count": 11,
   "metadata": {},
   "outputs": [
    {
     "data": {
      "text/plain": [
       "Timestamp('2019-08-31 00:00:00')"
      ]
     },
     "execution_count": 11,
     "metadata": {},
     "output_type": "execute_result"
    }
   ],
   "source": [
    "# Посмотрим на конечную дату теста\n",
    "orders['date'].max()"
   ]
  },
  {
   "cell_type": "markdown",
   "metadata": {},
   "source": [
    "Тест начался 2019-08-01 и закончился 2019-08-31. На тест было отведено времено ровно месяц."
   ]
  },
  {
   "cell_type": "markdown",
   "metadata": {},
   "source": [
    "## Шаг 2. Часть 1. Приоритизация гипотез"
   ]
  },
  {
   "cell_type": "markdown",
   "metadata": {},
   "source": [
    "### Применим фреймворк ICE для приоритизации гипотез. Отсортируем их по убыванию приоритета."
   ]
  },
  {
   "cell_type": "code",
   "execution_count": 12,
   "metadata": {},
   "outputs": [
    {
     "data": {
      "text/html": [
       "<div>\n",
       "<style scoped>\n",
       "    .dataframe tbody tr th:only-of-type {\n",
       "        vertical-align: middle;\n",
       "    }\n",
       "\n",
       "    .dataframe tbody tr th {\n",
       "        vertical-align: top;\n",
       "    }\n",
       "\n",
       "    .dataframe thead th {\n",
       "        text-align: right;\n",
       "    }\n",
       "</style>\n",
       "<table border=\"1\" class=\"dataframe\">\n",
       "  <thead>\n",
       "    <tr style=\"text-align: right;\">\n",
       "      <th></th>\n",
       "      <th>hypothesis</th>\n",
       "      <th>reach</th>\n",
       "      <th>impact</th>\n",
       "      <th>confidence</th>\n",
       "      <th>efforts</th>\n",
       "    </tr>\n",
       "  </thead>\n",
       "  <tbody>\n",
       "    <tr>\n",
       "      <td>0</td>\n",
       "      <td>Добавить два новых канала привлечения трафика, что позволит привлекать на 30% больше пользователей</td>\n",
       "      <td>3</td>\n",
       "      <td>10</td>\n",
       "      <td>8</td>\n",
       "      <td>6</td>\n",
       "    </tr>\n",
       "    <tr>\n",
       "      <td>1</td>\n",
       "      <td>Запустить собственную службу доставки, что сократит срок доставки заказов</td>\n",
       "      <td>2</td>\n",
       "      <td>5</td>\n",
       "      <td>4</td>\n",
       "      <td>10</td>\n",
       "    </tr>\n",
       "    <tr>\n",
       "      <td>2</td>\n",
       "      <td>Добавить блоки рекомендаций товаров на сайт интернет магазина, чтобы повысить конверсию и средний чек заказа</td>\n",
       "      <td>8</td>\n",
       "      <td>3</td>\n",
       "      <td>7</td>\n",
       "      <td>3</td>\n",
       "    </tr>\n",
       "    <tr>\n",
       "      <td>3</td>\n",
       "      <td>Изменить структура категорий, что увеличит конверсию, т.к. пользователи быстрее найдут нужный товар</td>\n",
       "      <td>8</td>\n",
       "      <td>3</td>\n",
       "      <td>3</td>\n",
       "      <td>8</td>\n",
       "    </tr>\n",
       "    <tr>\n",
       "      <td>4</td>\n",
       "      <td>Изменить цвет фона главной страницы, чтобы увеличить вовлеченность пользователей</td>\n",
       "      <td>3</td>\n",
       "      <td>1</td>\n",
       "      <td>1</td>\n",
       "      <td>1</td>\n",
       "    </tr>\n",
       "    <tr>\n",
       "      <td>5</td>\n",
       "      <td>Добавить страницу отзывов клиентов о магазине, что позволит увеличить количество заказов</td>\n",
       "      <td>3</td>\n",
       "      <td>2</td>\n",
       "      <td>2</td>\n",
       "      <td>3</td>\n",
       "    </tr>\n",
       "    <tr>\n",
       "      <td>6</td>\n",
       "      <td>Показать на главной странице баннеры с актуальными акциями и распродажами, чтобы увеличить конверсию</td>\n",
       "      <td>5</td>\n",
       "      <td>3</td>\n",
       "      <td>8</td>\n",
       "      <td>3</td>\n",
       "    </tr>\n",
       "    <tr>\n",
       "      <td>7</td>\n",
       "      <td>Добавить форму подписки на все основные страницы, чтобы собрать базу клиентов для email-рассылок</td>\n",
       "      <td>10</td>\n",
       "      <td>7</td>\n",
       "      <td>8</td>\n",
       "      <td>5</td>\n",
       "    </tr>\n",
       "    <tr>\n",
       "      <td>8</td>\n",
       "      <td>Запустить акцию, дающую скидку на товар в день рождения</td>\n",
       "      <td>1</td>\n",
       "      <td>9</td>\n",
       "      <td>9</td>\n",
       "      <td>5</td>\n",
       "    </tr>\n",
       "  </tbody>\n",
       "</table>\n",
       "</div>"
      ],
      "text/plain": [
       "                                                                                                     hypothesis  \\\n",
       "0            Добавить два новых канала привлечения трафика, что позволит привлекать на 30% больше пользователей   \n",
       "1                                     Запустить собственную службу доставки, что сократит срок доставки заказов   \n",
       "2  Добавить блоки рекомендаций товаров на сайт интернет магазина, чтобы повысить конверсию и средний чек заказа   \n",
       "3           Изменить структура категорий, что увеличит конверсию, т.к. пользователи быстрее найдут нужный товар   \n",
       "4                              Изменить цвет фона главной страницы, чтобы увеличить вовлеченность пользователей   \n",
       "5                      Добавить страницу отзывов клиентов о магазине, что позволит увеличить количество заказов   \n",
       "6          Показать на главной странице баннеры с актуальными акциями и распродажами, чтобы увеличить конверсию   \n",
       "7              Добавить форму подписки на все основные страницы, чтобы собрать базу клиентов для email-рассылок   \n",
       "8                                                       Запустить акцию, дающую скидку на товар в день рождения   \n",
       "\n",
       "   reach  impact  confidence  efforts  \n",
       "0      3      10           8        6  \n",
       "1      2       5           4       10  \n",
       "2      8       3           7        3  \n",
       "3      8       3           3        8  \n",
       "4      3       1           1        1  \n",
       "5      3       2           2        3  \n",
       "6      5       3           8        3  \n",
       "7     10       7           8        5  \n",
       "8      1       9           9        5  "
      ]
     },
     "execution_count": 12,
     "metadata": {},
     "output_type": "execute_result"
    }
   ],
   "source": [
    "# Выведим hypothesis на экран\n",
    "hypothesis"
   ]
  },
  {
   "cell_type": "code",
   "execution_count": 13,
   "metadata": {},
   "outputs": [
    {
     "data": {
      "text/html": [
       "<div>\n",
       "<style scoped>\n",
       "    .dataframe tbody tr th:only-of-type {\n",
       "        vertical-align: middle;\n",
       "    }\n",
       "\n",
       "    .dataframe tbody tr th {\n",
       "        vertical-align: top;\n",
       "    }\n",
       "\n",
       "    .dataframe thead th {\n",
       "        text-align: right;\n",
       "    }\n",
       "</style>\n",
       "<table border=\"1\" class=\"dataframe\">\n",
       "  <thead>\n",
       "    <tr style=\"text-align: right;\">\n",
       "      <th></th>\n",
       "      <th>hypothesis</th>\n",
       "      <th>ICE</th>\n",
       "    </tr>\n",
       "  </thead>\n",
       "  <tbody>\n",
       "    <tr>\n",
       "      <td>8</td>\n",
       "      <td>Запустить акцию, дающую скидку на товар в день рождения</td>\n",
       "      <td>16.0</td>\n",
       "    </tr>\n",
       "    <tr>\n",
       "      <td>0</td>\n",
       "      <td>Добавить два новых канала привлечения трафика, что позволит привлекать на 30% больше пользователей</td>\n",
       "      <td>13.0</td>\n",
       "    </tr>\n",
       "    <tr>\n",
       "      <td>7</td>\n",
       "      <td>Добавить форму подписки на все основные страницы, чтобы собрать базу клиентов для email-рассылок</td>\n",
       "      <td>11.0</td>\n",
       "    </tr>\n",
       "    <tr>\n",
       "      <td>6</td>\n",
       "      <td>Показать на главной странице баннеры с актуальными акциями и распродажами, чтобы увеличить конверсию</td>\n",
       "      <td>8.0</td>\n",
       "    </tr>\n",
       "    <tr>\n",
       "      <td>2</td>\n",
       "      <td>Добавить блоки рекомендаций товаров на сайт интернет магазина, чтобы повысить конверсию и средний чек заказа</td>\n",
       "      <td>7.0</td>\n",
       "    </tr>\n",
       "    <tr>\n",
       "      <td>1</td>\n",
       "      <td>Запустить собственную службу доставки, что сократит срок доставки заказов</td>\n",
       "      <td>2.0</td>\n",
       "    </tr>\n",
       "    <tr>\n",
       "      <td>5</td>\n",
       "      <td>Добавить страницу отзывов клиентов о магазине, что позволит увеличить количество заказов</td>\n",
       "      <td>1.0</td>\n",
       "    </tr>\n",
       "    <tr>\n",
       "      <td>3</td>\n",
       "      <td>Изменить структура категорий, что увеличит конверсию, т.к. пользователи быстрее найдут нужный товар</td>\n",
       "      <td>1.0</td>\n",
       "    </tr>\n",
       "    <tr>\n",
       "      <td>4</td>\n",
       "      <td>Изменить цвет фона главной страницы, чтобы увеличить вовлеченность пользователей</td>\n",
       "      <td>1.0</td>\n",
       "    </tr>\n",
       "  </tbody>\n",
       "</table>\n",
       "</div>"
      ],
      "text/plain": [
       "                                                                                                     hypothesis  \\\n",
       "8                                                       Запустить акцию, дающую скидку на товар в день рождения   \n",
       "0            Добавить два новых канала привлечения трафика, что позволит привлекать на 30% больше пользователей   \n",
       "7              Добавить форму подписки на все основные страницы, чтобы собрать базу клиентов для email-рассылок   \n",
       "6          Показать на главной странице баннеры с актуальными акциями и распродажами, чтобы увеличить конверсию   \n",
       "2  Добавить блоки рекомендаций товаров на сайт интернет магазина, чтобы повысить конверсию и средний чек заказа   \n",
       "1                                     Запустить собственную службу доставки, что сократит срок доставки заказов   \n",
       "5                      Добавить страницу отзывов клиентов о магазине, что позволит увеличить количество заказов   \n",
       "3           Изменить структура категорий, что увеличит конверсию, т.к. пользователи быстрее найдут нужный товар   \n",
       "4                              Изменить цвет фона главной страницы, чтобы увеличить вовлеченность пользователей   \n",
       "\n",
       "    ICE  \n",
       "8  16.0  \n",
       "0  13.0  \n",
       "7  11.0  \n",
       "6   8.0  \n",
       "2   7.0  \n",
       "1   2.0  \n",
       "5   1.0  \n",
       "3   1.0  \n",
       "4   1.0  "
      ]
     },
     "metadata": {},
     "output_type": "display_data"
    }
   ],
   "source": [
    "# Применим фреймворк ICE для приоритизации гипотез. Отсортируем их по убыванию приоритета.\n",
    "hypothesis['ICE'] = (hypothesis['impact']\n",
    "                     * hypothesis['confidence'] \n",
    "                     / hypothesis['efforts'])\n",
    "display(round(hypothesis[['hypothesis', 'ICE']].sort_values(by='ICE', ascending=False)))"
   ]
  },
  {
   "cell_type": "markdown",
   "metadata": {},
   "source": [
    "Наиболее перспективные гипотизы по ICE: \n",
    "\n",
    "    1. Добавить два новых канала привлечения трафика, что позволит привлекать на 30% больше пользователей.\n",
    "    8. Добавить форму подписки на все основные страницы, чтобы собрать базу клиентов для email-рассылок.\n",
    "    9. Запустить акцию, дающую скидку на товар в день рождения. \n",
    "    \n",
    "Наиболее перспективная, гипотеза из этих трёх, гипотеза №9.    "
   ]
  },
  {
   "cell_type": "markdown",
   "metadata": {},
   "source": [
    "### Применим фреймворк RICE для приоритизации гипотез. Отсортируем их по убыванию приоритета."
   ]
  },
  {
   "cell_type": "code",
   "execution_count": 14,
   "metadata": {},
   "outputs": [
    {
     "data": {
      "text/html": [
       "<div>\n",
       "<style scoped>\n",
       "    .dataframe tbody tr th:only-of-type {\n",
       "        vertical-align: middle;\n",
       "    }\n",
       "\n",
       "    .dataframe tbody tr th {\n",
       "        vertical-align: top;\n",
       "    }\n",
       "\n",
       "    .dataframe thead th {\n",
       "        text-align: right;\n",
       "    }\n",
       "</style>\n",
       "<table border=\"1\" class=\"dataframe\">\n",
       "  <thead>\n",
       "    <tr style=\"text-align: right;\">\n",
       "      <th></th>\n",
       "      <th>hypothesis</th>\n",
       "      <th>RICE</th>\n",
       "    </tr>\n",
       "  </thead>\n",
       "  <tbody>\n",
       "    <tr>\n",
       "      <td>7</td>\n",
       "      <td>Добавить форму подписки на все основные страницы, чтобы собрать базу клиентов для email-рассылок</td>\n",
       "      <td>112.0</td>\n",
       "    </tr>\n",
       "    <tr>\n",
       "      <td>2</td>\n",
       "      <td>Добавить блоки рекомендаций товаров на сайт интернет магазина, чтобы повысить конверсию и средний чек заказа</td>\n",
       "      <td>56.0</td>\n",
       "    </tr>\n",
       "    <tr>\n",
       "      <td>0</td>\n",
       "      <td>Добавить два новых канала привлечения трафика, что позволит привлекать на 30% больше пользователей</td>\n",
       "      <td>40.0</td>\n",
       "    </tr>\n",
       "    <tr>\n",
       "      <td>6</td>\n",
       "      <td>Показать на главной странице баннеры с актуальными акциями и распродажами, чтобы увеличить конверсию</td>\n",
       "      <td>40.0</td>\n",
       "    </tr>\n",
       "    <tr>\n",
       "      <td>8</td>\n",
       "      <td>Запустить акцию, дающую скидку на товар в день рождения</td>\n",
       "      <td>16.2</td>\n",
       "    </tr>\n",
       "    <tr>\n",
       "      <td>3</td>\n",
       "      <td>Изменить структура категорий, что увеличит конверсию, т.к. пользователи быстрее найдут нужный товар</td>\n",
       "      <td>9.0</td>\n",
       "    </tr>\n",
       "    <tr>\n",
       "      <td>1</td>\n",
       "      <td>Запустить собственную службу доставки, что сократит срок доставки заказов</td>\n",
       "      <td>4.0</td>\n",
       "    </tr>\n",
       "    <tr>\n",
       "      <td>5</td>\n",
       "      <td>Добавить страницу отзывов клиентов о магазине, что позволит увеличить количество заказов</td>\n",
       "      <td>4.0</td>\n",
       "    </tr>\n",
       "    <tr>\n",
       "      <td>4</td>\n",
       "      <td>Изменить цвет фона главной страницы, чтобы увеличить вовлеченность пользователей</td>\n",
       "      <td>3.0</td>\n",
       "    </tr>\n",
       "  </tbody>\n",
       "</table>\n",
       "</div>"
      ],
      "text/plain": [
       "                                                                                                     hypothesis  \\\n",
       "7              Добавить форму подписки на все основные страницы, чтобы собрать базу клиентов для email-рассылок   \n",
       "2  Добавить блоки рекомендаций товаров на сайт интернет магазина, чтобы повысить конверсию и средний чек заказа   \n",
       "0            Добавить два новых канала привлечения трафика, что позволит привлекать на 30% больше пользователей   \n",
       "6          Показать на главной странице баннеры с актуальными акциями и распродажами, чтобы увеличить конверсию   \n",
       "8                                                       Запустить акцию, дающую скидку на товар в день рождения   \n",
       "3           Изменить структура категорий, что увеличит конверсию, т.к. пользователи быстрее найдут нужный товар   \n",
       "1                                     Запустить собственную службу доставки, что сократит срок доставки заказов   \n",
       "5                      Добавить страницу отзывов клиентов о магазине, что позволит увеличить количество заказов   \n",
       "4                              Изменить цвет фона главной страницы, чтобы увеличить вовлеченность пользователей   \n",
       "\n",
       "    RICE  \n",
       "7  112.0  \n",
       "2   56.0  \n",
       "0   40.0  \n",
       "6   40.0  \n",
       "8   16.2  \n",
       "3    9.0  \n",
       "1    4.0  \n",
       "5    4.0  \n",
       "4    3.0  "
      ]
     },
     "metadata": {},
     "output_type": "display_data"
    }
   ],
   "source": [
    "# Применим фреймворк RICE для приоритизации гипотез. Отсортируем их по убыванию приоритета.\n",
    "hypothesis['RICE'] = ((hypothesis['reach'] \n",
    "                       * hypothesis['impact'] \n",
    "                       * hypothesis['confidence']) \n",
    "                      / hypothesis['efforts'] )\n",
    "display(hypothesis[['hypothesis', 'RICE']]\n",
    "              .sort_values(by='RICE', ascending=False))"
   ]
  },
  {
   "cell_type": "markdown",
   "metadata": {},
   "source": [
    "Наиболее перспективные гипотизы по RICE: \n",
    "\n",
    "    1. Добавить два новых канала привлечения трафика, что позволит привлекать на 30% больше пользователей.\n",
    "    3. Добавить блоки рекомендаций товаров на сайт интернет магазина, чтобы повысить конверсию и средний чек заказа.\n",
    "    7. Показать на главной странице баннеры с актуальными акциями и распродажами, чтобы увеличить конверсию.\n",
    "    8. Добавить форму подписки на все основные страницы, чтобы собрать базу клиентов для email-рассылок."
   ]
  },
  {
   "cell_type": "markdown",
   "metadata": {},
   "source": [
    "**Вывод:**\n",
    "\n",
    "Между ICE и RICE совпали две гипотизы 1 и 8, но в RICE на первом месте уже гипотеза №8, так получилось потому что её параматр `reach` равен 10, а это больше чем у всех остальных гипотиз."
   ]
  },
  {
   "cell_type": "markdown",
   "metadata": {},
   "source": [
    "## Шаг 3. Часть 2. Анализ A/B-теста"
   ]
  },
  {
   "cell_type": "markdown",
   "metadata": {},
   "source": [
    "### Соберем нужные кумулятивные данные"
   ]
  },
  {
   "cell_type": "code",
   "execution_count": 15,
   "metadata": {},
   "outputs": [
    {
     "data": {
      "text/html": [
       "<div>\n",
       "<style scoped>\n",
       "    .dataframe tbody tr th:only-of-type {\n",
       "        vertical-align: middle;\n",
       "    }\n",
       "\n",
       "    .dataframe tbody tr th {\n",
       "        vertical-align: top;\n",
       "    }\n",
       "\n",
       "    .dataframe thead th {\n",
       "        text-align: right;\n",
       "    }\n",
       "</style>\n",
       "<table border=\"1\" class=\"dataframe\">\n",
       "  <thead>\n",
       "    <tr style=\"text-align: right;\">\n",
       "      <th></th>\n",
       "      <th>date</th>\n",
       "      <th>group</th>\n",
       "      <th>orders</th>\n",
       "      <th>buyers</th>\n",
       "      <th>revenue</th>\n",
       "      <th>visitors</th>\n",
       "    </tr>\n",
       "  </thead>\n",
       "  <tbody>\n",
       "    <tr>\n",
       "      <td>0</td>\n",
       "      <td>2019-08-01</td>\n",
       "      <td>A</td>\n",
       "      <td>24</td>\n",
       "      <td>20</td>\n",
       "      <td>148579</td>\n",
       "      <td>719</td>\n",
       "    </tr>\n",
       "    <tr>\n",
       "      <td>1</td>\n",
       "      <td>2019-08-01</td>\n",
       "      <td>B</td>\n",
       "      <td>21</td>\n",
       "      <td>20</td>\n",
       "      <td>101217</td>\n",
       "      <td>713</td>\n",
       "    </tr>\n",
       "    <tr>\n",
       "      <td>2</td>\n",
       "      <td>2019-08-02</td>\n",
       "      <td>A</td>\n",
       "      <td>44</td>\n",
       "      <td>38</td>\n",
       "      <td>242401</td>\n",
       "      <td>1338</td>\n",
       "    </tr>\n",
       "    <tr>\n",
       "      <td>3</td>\n",
       "      <td>2019-08-02</td>\n",
       "      <td>B</td>\n",
       "      <td>45</td>\n",
       "      <td>43</td>\n",
       "      <td>266748</td>\n",
       "      <td>1294</td>\n",
       "    </tr>\n",
       "    <tr>\n",
       "      <td>4</td>\n",
       "      <td>2019-08-03</td>\n",
       "      <td>A</td>\n",
       "      <td>68</td>\n",
       "      <td>62</td>\n",
       "      <td>354874</td>\n",
       "      <td>1845</td>\n",
       "    </tr>\n",
       "  </tbody>\n",
       "</table>\n",
       "</div>"
      ],
      "text/plain": [
       "        date group  orders  buyers  revenue  visitors\n",
       "0 2019-08-01     A      24      20   148579       719\n",
       "1 2019-08-01     B      21      20   101217       713\n",
       "2 2019-08-02     A      44      38   242401      1338\n",
       "3 2019-08-02     B      45      43   266748      1294\n",
       "4 2019-08-03     A      68      62   354874      1845"
      ]
     },
     "metadata": {},
     "output_type": "display_data"
    }
   ],
   "source": [
    "# Соберем нужные кумулятивные данные\n",
    "datesGroups = orders[['date', 'group']].drop_duplicates()\n",
    "\n",
    "ordersAggregated = datesGroups.apply(\n",
    "    lambda x: orders[np.logical_and(orders['date'] <= x['date'],\n",
    "                                   orders['group'] == x['group'])].agg({\n",
    "        'date': 'max',\n",
    "        'group': 'max',\n",
    "        'transaction_id': pd.Series.nunique,\n",
    "        'visitor_id': pd.Series.nunique,\n",
    "        'revenue': 'sum'\n",
    "    }), axis=1).sort_values(by=['date', 'group'])\n",
    "\n",
    "visitorsAggregated = datesGroups.apply(\n",
    "    lambda x: visitors[np.logical_and(visitors['date'] <= x['date'],\n",
    "                                     visitors['group'] == x['group'])].agg({\n",
    "        'date': 'max',\n",
    "        'group': 'max',\n",
    "        'visitors': 'sum'}), axis=1).sort_values(by=['date', 'group'])\n",
    "\n",
    "cumulativeData = ordersAggregated.merge(visitorsAggregated, left_on=['date', 'group'], \n",
    "                                        right_on=['date', 'group'])\n",
    "\n",
    "cumulativeData.columns = ['date', 'group', 'orders', 'buyers', 'revenue', 'visitors']\n",
    "# Выведим результат на экран\n",
    "display(cumulativeData.head(5))"
   ]
  },
  {
   "cell_type": "markdown",
   "metadata": {},
   "source": [
    "### Построим график кумулятивной выручки по группам. Сделаем выводы и предположения."
   ]
  },
  {
   "cell_type": "code",
   "execution_count": 16,
   "metadata": {},
   "outputs": [
    {
     "data": {
      "image/png": "[encoded data removed]",
      "text/plain": [
       "<Figure size 1080x576 with 1 Axes>"
      ]
     },
     "metadata": {
      "image/png": {
       "height": 494,
       "width": 933
      },
      "needs_background": "light"
     },
     "output_type": "display_data"
    }
   ],
   "source": [
    "cumulativeData = ordersAggregated.merge(\n",
    "    visitorsAggregated, left_on=['date', 'group'], right_on=['date', 'group']\n",
    ")\n",
    "cumulativeData.columns = [\n",
    "    'date',\n",
    "    'group',\n",
    "    'orders',\n",
    "    'buyers',\n",
    "    'revenue',\n",
    "    'visitors',\n",
    "]\n",
    "\n",
    "# Датафрейм с кумуляитивным количеством заказов и кумулятивной выручкой по дням группе А\n",
    "cumulativeRevenueA = cumulativeData[cumulativeData['group'] == 'A'][['date', 'revenue', 'orders']]\n",
    "# Датафрейм с кумуляитивным количеством заказов и кумулятивной выручкой по дням группе B \n",
    "cumulativeRevenueB = cumulativeData[cumulativeData['group'] == 'B'][['date', 'revenue', 'orders']]\n",
    "\n",
    "# Построим график кумулятивной выручки по группам\n",
    "plt.figure(figsize=(15,8))\n",
    "plt.grid()\n",
    "\n",
    "plt.plot(cumulativeRevenueA['date'], cumulativeRevenueA['revenue'], label='A')\n",
    "plt.plot(cumulativeRevenueB['date'], cumulativeRevenueB['revenue'], label='B')\n",
    "\n",
    "plt.legend()\n",
    "plt.xlabel('Дата')\n",
    "plt.ylabel('Выручка')\n",
    "plt.title('График кумулятивной выручки по группам')\n",
    "plt.show()"
   ]
  },
  {
   "cell_type": "markdown",
   "metadata": {},
   "source": [
    "На графике видно, что группа В лидирует на протяжении всего времени, видимо аномально большие заказы влияют на результаты. "
   ]
  },
  {
   "cell_type": "markdown",
   "metadata": {},
   "source": [
    "### Постром график кумулятивного среднего чека по группам. Сделаем выводы и предположения.\n"
   ]
  },
  {
   "cell_type": "code",
   "execution_count": 17,
   "metadata": {},
   "outputs": [
    {
     "data": {
      "image/png": "[encoded data removed]",
      "text/plain": [
       "<Figure size 1080x576 with 1 Axes>"
      ]
     },
     "metadata": {
      "image/png": {
       "height": 494,
       "width": 920
      },
      "needs_background": "light"
     },
     "output_type": "display_data"
    }
   ],
   "source": [
    "# Датафрейм с кумуляитивным средним чеком и кумулятивной выручкой по дням группе А\n",
    "cumulativeRevenueA = cumulativeData[cumulativeData['group'] == 'A'][\n",
    "    ['date', 'revenue', 'orders']\n",
    "]\n",
    "\n",
    "# Датафрейм с кумуляитивным средним чеком и кумулятивной выручкой по дням группе В\n",
    "cumulativeRevenueB = cumulativeData[cumulativeData['group'] == 'B'][\n",
    "    ['date', 'revenue', 'orders']\n",
    "]\n",
    "\n",
    "# Посторим график кумулятивного среднего чека по группам\n",
    "plt.figure(figsize=(15,8))\n",
    "plt.grid()\n",
    "\n",
    "plt.plot(cumulativeRevenueA['date'], \n",
    "         cumulativeRevenueA['revenue']/cumulativeRevenueA['orders'], label='A')\n",
    "plt.plot(cumulativeRevenueB['date'], \n",
    "         cumulativeRevenueB['revenue']/cumulativeRevenueB['orders'], label='B')\n",
    "\n",
    "plt.legend()\n",
    "plt.xlabel('Дата')\n",
    "plt.ylabel('Выручка')\n",
    "plt.title('График кумулятивного среднего чека по группам')\n",
    "plt.show()"
   ]
  },
  {
   "cell_type": "markdown",
   "metadata": {},
   "source": [
    "Кумулятивные значения среднего чека колеблются на протяжении всего времени. Принимать решение по этой метрике рано. Скорее всего требуется дополнительный анализ выбросов, которые сильно искажают результаты."
   ]
  },
  {
   "cell_type": "markdown",
   "metadata": {},
   "source": [
    "### Постром график относительного изменения кумулятивного среднего чека группы B к группе A. Сделам выводы и предположения."
   ]
  },
  {
   "cell_type": "code",
   "execution_count": 18,
   "metadata": {},
   "outputs": [
    {
     "data": {
      "image/png": "[encoded data removed]",
      "text/plain": [
       "<Figure size 1080x576 with 1 Axes>"
      ]
     },
     "metadata": {
      "image/png": {
       "height": 494,
       "width": 912
      },
      "needs_background": "light"
     },
     "output_type": "display_data"
    }
   ],
   "source": [
    "mergedCumulativeRevenue = (cumulativeRevenueA.merge(cumulativeRevenueB, left_on='date', \n",
    "                                                    right_on='date', how='left', \n",
    "                                                    suffixes=['A', 'B']))\n",
    "mergedCumulativeRevenue.columns = ['date', 'revenueA', 'revenueB', 'ordersA', 'ordersB']\n",
    "\n",
    "# Постром график относительного изменения кумулятивного среднего чека\n",
    "plt.figure(figsize=(15,8))\n",
    "plt.grid()\n",
    "\n",
    "plt.plot(mergedCumulativeRevenue['date'], \n",
    "         (mergedCumulativeRevenue['revenueB']/mergedCumulativeRevenue['ordersB'])\n",
    "         /(mergedCumulativeRevenue['revenueA']/mergedCumulativeRevenue['ordersA'])-1)\n",
    "\n",
    "plt.axhline(y=0, color='black', linestyle='--')\n",
    "\n",
    "plt.xlabel('Дата')\n",
    "plt.ylabel('Выручка')\n",
    "plt.title('График относительного изменения кумулятивного среднего чека')\n",
    "plt.show()"
   ]
  },
  {
   "cell_type": "markdown",
   "metadata": {},
   "source": [
    "По графику относительного изменения кумулятивного среднего чека группы B к группе A, видим что, результаты, в несколько дат, резко менялись. Видимо в эти даты и были совершены аномальные заказы."
   ]
  },
  {
   "cell_type": "markdown",
   "metadata": {},
   "source": [
    "### Построим график кумулятивной конверсии по группам. Сделаем выводы и предположения."
   ]
  },
  {
   "cell_type": "code",
   "execution_count": 19,
   "metadata": {},
   "outputs": [
    {
     "data": {
      "image/png": "[encoded data removed]",
      "text/plain": [
       "<Figure size 1080x576 with 1 Axes>"
      ]
     },
     "metadata": {
      "image/png": {
       "height": 494,
       "width": 917
      },
      "needs_background": "light"
     },
     "output_type": "display_data"
    }
   ],
   "source": [
    "cumulativeData['conversion'] = cumulativeData['orders'] / cumulativeData['visitors']\n",
    "\n",
    "cumulativeDataA = cumulativeData[cumulativeData['group'] == 'A']\n",
    "cumulativeDataB = cumulativeData[cumulativeData['group'] == 'B']\n",
    "\n",
    "# Построим график кумулятивной конверсии по группам\n",
    "plt.figure(figsize=(15,8))\n",
    "plt.grid()\n",
    "\n",
    "plt.plot(cumulativeDataA['date'], cumulativeDataA['conversion'], label='A')\n",
    "plt.plot(cumulativeDataB['date'], cumulativeDataB['conversion'], label='B')\n",
    "\n",
    "plt.legend()\n",
    "plt.xlabel('Дата')\n",
    "plt.ylabel('Выручка')\n",
    "plt.title('График кумулятивной конверсии по группам')\n",
    "plt.show()"
   ]
  },
  {
   "cell_type": "markdown",
   "metadata": {},
   "source": [
    "По графику кумулятивной конверсии по группам, видим, что в начале конверсии у группы А была выше чем у группы В, затем видим резкий спад у группы А, а угруппы В на оборот резкий скачёк вверх. Обе группы не выровнелись, напротяжении всего времрени. "
   ]
  },
  {
   "cell_type": "markdown",
   "metadata": {},
   "source": [
    "### Построим график относительного изменения кумулятивной конверсии группы B к группе A. Сделаем выводы и предположения.\n"
   ]
  },
  {
   "cell_type": "code",
   "execution_count": 20,
   "metadata": {},
   "outputs": [
    {
     "data": {
      "image/png": "[encoded data removed]",
      "text/plain": [
       "<Figure size 1080x576 with 1 Axes>"
      ]
     },
     "metadata": {
      "image/png": {
       "height": 494,
       "width": 919
      },
      "needs_background": "light"
     },
     "output_type": "display_data"
    }
   ],
   "source": [
    "mergedCumulativeConversions = (cumulativeDataA[['date', 'conversion']]\n",
    "                               .merge(cumulativeDataB[['date', 'conversion']], \n",
    "                                      left_on='date', right_on='date', how='left', \n",
    "                                      suffixes=['A', 'B']))\n",
    "\n",
    "# Постром график относительного изменения кумулятивной конверсии группы B к группе A\n",
    "plt.figure(figsize=(15,8))\n",
    "plt.grid()\n",
    "\n",
    "plt.plot(mergedCumulativeConversions['date'], \n",
    "         mergedCumulativeConversions['conversionB'] \n",
    "         / mergedCumulativeConversions['conversionA']-1, \n",
    "         label='Относительно прирост конверсии групп B относительно группы A')\n",
    "\n",
    "plt.axhline(y=0, color='black', linestyle='--')\n",
    "plt.axhline(y=0.2, color='grey', linestyle='--')\n",
    "\n",
    "plt.legend()\n",
    "plt.xlabel('Дата')\n",
    "plt.ylabel('Выручка')\n",
    "plt.title('График относительного изменения кумулятивной конверсии')\n",
    "plt.show()"
   ]
  },
  {
   "cell_type": "markdown",
   "metadata": {},
   "source": [
    "По графику относительного изменения кумулятивной конверсии группы B к группе A видим, что группа В лидирует по конверсии, 5 числа виден резкий скачок вверх, но ведёт себя не стабильно и медленно снижается."
   ]
  },
  {
   "cell_type": "markdown",
   "metadata": {},
   "source": [
    "### Построим точечный график количества заказов по пользователям. Сделаем выводы и предположения.\n"
   ]
  },
  {
   "cell_type": "code",
   "execution_count": 21,
   "metadata": {},
   "outputs": [
    {
     "name": "stdout",
     "output_type": "stream",
     "text": [
      "         visitor  orders\n",
      "1023  4256040402      11\n",
      "591   2458001652      11\n",
      "569   2378935119       9\n",
      "487   2038680547       8\n",
      "44     199603092       5\n",
      "744   3062433592       5\n",
      "55     237748145       5\n",
      "917   3803269165       5\n",
      "299   1230306981       5\n",
      "897   3717692402       5\n"
     ]
    }
   ],
   "source": [
    "# Найдём число заказов по пользователям\n",
    "\n",
    "ordersByUsers = (orders.groupby('visitor_id', as_index=False )\n",
    "                .agg({'transaction_id': pd.Series.nunique}))\n",
    "ordersByUsers.columns = ['visitor', 'orders']\n",
    "print(ordersByUsers.sort_values(by='orders', ascending=False).head(10))"
   ]
  },
  {
   "cell_type": "code",
   "execution_count": 22,
   "metadata": {},
   "outputs": [
    {
     "data": {
      "image/png": "[encoded data removed]",
      "text/plain": [
       "<Figure size 1080x576 with 1 Axes>"
      ]
     },
     "metadata": {
      "image/png": {
       "height": 494,
       "width": 884
      },
      "needs_background": "light"
     },
     "output_type": "display_data"
    }
   ],
   "source": [
    "x_values = pd.Series(range(0, len(ordersByUsers['orders'])))\n",
    "plt.figure(figsize=(15, 8))\n",
    "plt.grid()\n",
    "plt.scatter(x_values, ordersByUsers['orders'])\n",
    "plt.xlabel('Количество пользователей')\n",
    "plt.ylabel('Число покупок')\n",
    "plt.title('Точечный график количества заказов по пользователям')\n",
    "# серия из чисел от 0 до количества наблюдений в ordersByUsers\n",
    "x_values = pd.Series(range(0, len(ordersByUsers)))"
   ]
  },
  {
   "cell_type": "markdown",
   "metadata": {},
   "source": [
    "По графику количества заказов по пользователям, большая часть пользователей сделала по одному заказу. Пользователей, которые зделали 2 и более заказов гораздо меньше. Они могут быть аномальными. "
   ]
  },
  {
   "cell_type": "markdown",
   "metadata": {},
   "source": [
    "### Посчитаем 95-й и 99-й перцентили количества заказов на пользователя. Выберим границу для определения аномальных пользователей"
   ]
  },
  {
   "cell_type": "code",
   "execution_count": 23,
   "metadata": {},
   "outputs": [
    {
     "name": "stdout",
     "output_type": "stream",
     "text": [
      "      visitor_id  orders\n",
      "1023  4256040402      11\n",
      "591   2458001652      11\n",
      "569   2378935119       9\n",
      "487   2038680547       8\n",
      "44     199603092       5\n",
      "744   3062433592       5\n",
      "55     237748145       5\n",
      "917   3803269165       5\n",
      "299   1230306981       5\n",
      "897   3717692402       5\n"
     ]
    }
   ],
   "source": [
    "# Найдём число заказов по пользователям\n",
    "ordersByUsers = (orders.groupby('visitor_id', as_index=False )\n",
    "                .agg({'transaction_id': pd.Series.nunique}))\n",
    "ordersByUsers.columns = ['visitor_id', 'orders']\n",
    "print(ordersByUsers.sort_values(by='orders', ascending=False).head(10))"
   ]
  },
  {
   "cell_type": "code",
   "execution_count": 24,
   "metadata": {},
   "outputs": [
    {
     "name": "stdout",
     "output_type": "stream",
     "text": [
      "[2. 4.]\n"
     ]
    }
   ],
   "source": [
    "# Посчитаем 95-й и 99-й перцентили количества заказов на пользователя.\n",
    "print(np.percentile(ordersByUsers['orders'], [95, 99]))"
   ]
  },
  {
   "cell_type": "markdown",
   "metadata": {},
   "source": [
    "Около 5-ти процентов пользователей совершили 2 покупки и не более 1-го процента пользователей около 4 покупок. \n",
    "\n",
    "Выберим границу для определения аномальных пользователей, которые сделали не более 2-х покупок"
   ]
  },
  {
   "cell_type": "markdown",
   "metadata": {},
   "source": [
    "### Построим точечный график стоимостей заказов."
   ]
  },
  {
   "cell_type": "code",
   "execution_count": 25,
   "metadata": {},
   "outputs": [
    {
     "data": {
      "image/png": "[encoded data removed]",
      "text/plain": [
       "<Figure size 1080x576 with 1 Axes>"
      ]
     },
     "metadata": {
      "image/png": {
       "height": 494,
       "width": 916
      },
      "needs_background": "light"
     },
     "output_type": "display_data"
    }
   ],
   "source": [
    "# Постройте гистограмму распределения числа заказов по пользователям\n",
    "#x_values = pd.Series(range(0, len(ordersByUsers['orders'])))\n",
    "x_values = pd.Series(range(0, len(orders['revenue'])))\n",
    "plt.figure(figsize=(15, 8))\n",
    "plt.grid()\n",
    "plt.scatter(x_values, orders['revenue'])\n",
    "plt.xlabel('Количество пользователей')\n",
    "plt.ylabel('Цена покупок')\n",
    "plt.title('Точечный график стоимостей заказов')\n",
    "plt.show()\n",
    "#plt.scatter(x_values, orders['revenue'])\n",
    "# серия из чисел от 0 до количества наблюдений в ordersByUsers\n",
    "#x_values = pd.Series(range(0, len(orders)))"
   ]
  },
  {
   "cell_type": "markdown",
   "metadata": {},
   "source": [
    "По графику видим, что большенство заказов были совершены до 200 000. Есть так же выбросы в районе 200 и более 1 200 000, которые могут быть анамальными."
   ]
  },
  {
   "cell_type": "markdown",
   "metadata": {},
   "source": [
    "**Построим точечный график стоимостей заказов без бывросов**"
   ]
  },
  {
   "cell_type": "code",
   "execution_count": 26,
   "metadata": {},
   "outputs": [
    {
     "data": {
      "image/png": "[encoded data removed]",
      "text/plain": [
       "<Figure size 1080x576 with 1 Axes>"
      ]
     },
     "metadata": {
      "image/png": {
       "height": 494,
       "width": 904
      },
      "needs_background": "light"
     },
     "output_type": "display_data"
    }
   ],
   "source": [
    "new_orders = orders[orders['revenue'] < 200000]\n",
    "x_values = pd.Series(range(0, len(new_orders['revenue'])))\n",
    "plt.figure(figsize=(15, 8))\n",
    "plt.grid()\n",
    "plt.scatter(x_values, new_orders['revenue'])\n",
    "plt.xlabel('Количество пользователей')\n",
    "plt.ylabel('Цена покупок')\n",
    "plt.title('Точечный график стоимостей заказов')\n",
    "plt.show()"
   ]
  },
  {
   "cell_type": "markdown",
   "metadata": {},
   "source": [
    "По графику видим очень много мелких заказов, которые меньше 20000 и гораздо меньше больше 60000."
   ]
  },
  {
   "cell_type": "markdown",
   "metadata": {},
   "source": [
    "### Посчитайте 95-й и 99-й перцентили стоимости заказов."
   ]
  },
  {
   "cell_type": "code",
   "execution_count": 27,
   "metadata": {},
   "outputs": [
    {
     "name": "stdout",
     "output_type": "stream",
     "text": [
      "[28000.  58233.2]\n"
     ]
    }
   ],
   "source": [
    "print(np.percentile(orders['revenue'], [95, 99]))"
   ]
  },
  {
   "cell_type": "markdown",
   "metadata": {},
   "source": [
    "5% пользователей совершили покупки на сумму 28000 и 1% пользователй на сумму 58233.\n",
    "\n",
    "Выберим границу для определения аномальных пользователей, цена покпок которых не привешает 28000."
   ]
  },
  {
   "cell_type": "markdown",
   "metadata": {},
   "source": [
    "### Посчитаем статистическую значимость различий в конверсии между группами по «сырым» данным."
   ]
  },
  {
   "cell_type": "markdown",
   "metadata": {},
   "source": [
    "Составим нулевую и альтернативную гипотезы.\n",
    "\n",
    "H₀(нулевая гипотеза) всегда используется так, что использовать знак равенства.\n",
    "\n",
    "    H₀: данные в выборках взяты из одной и той же генеральной совокупности\n",
    "    H₁: данные в выборках взяты из разных генеральных совокупностей."
   ]
  },
  {
   "cell_type": "markdown",
   "metadata": {},
   "source": [
    "**Начнём с подготовки данных. Постороим таблицу data**"
   ]
  },
  {
   "cell_type": "code",
   "execution_count": 28,
   "metadata": {},
   "outputs": [
    {
     "data": {
      "text/html": [
       "<div>\n",
       "<style scoped>\n",
       "    .dataframe tbody tr th:only-of-type {\n",
       "        vertical-align: middle;\n",
       "    }\n",
       "\n",
       "    .dataframe tbody tr th {\n",
       "        vertical-align: top;\n",
       "    }\n",
       "\n",
       "    .dataframe thead th {\n",
       "        text-align: right;\n",
       "    }\n",
       "</style>\n",
       "<table border=\"1\" class=\"dataframe\">\n",
       "  <thead>\n",
       "    <tr style=\"text-align: right;\">\n",
       "      <th></th>\n",
       "      <th>date</th>\n",
       "      <th>ordersPerDateA</th>\n",
       "      <th>revenuePerDateA</th>\n",
       "      <th>ordersPerDateB</th>\n",
       "      <th>revenuePerDateB</th>\n",
       "      <th>ordersCummulativeA</th>\n",
       "      <th>revenueCummulativeA</th>\n",
       "      <th>ordersCummulativeB</th>\n",
       "      <th>revenueCummulativeB</th>\n",
       "      <th>visitorsPerDateA</th>\n",
       "      <th>visitorsPerDateB</th>\n",
       "      <th>visitorsCummulativeA</th>\n",
       "      <th>visitorsCummulativeB</th>\n",
       "    </tr>\n",
       "  </thead>\n",
       "  <tbody>\n",
       "    <tr>\n",
       "      <td>0</td>\n",
       "      <td>2019-08-01</td>\n",
       "      <td>24</td>\n",
       "      <td>148579</td>\n",
       "      <td>21</td>\n",
       "      <td>101217</td>\n",
       "      <td>24</td>\n",
       "      <td>148579</td>\n",
       "      <td>21</td>\n",
       "      <td>101217</td>\n",
       "      <td>719</td>\n",
       "      <td>713</td>\n",
       "      <td>719</td>\n",
       "      <td>713</td>\n",
       "    </tr>\n",
       "    <tr>\n",
       "      <td>1</td>\n",
       "      <td>2019-08-02</td>\n",
       "      <td>20</td>\n",
       "      <td>93822</td>\n",
       "      <td>24</td>\n",
       "      <td>165531</td>\n",
       "      <td>44</td>\n",
       "      <td>242401</td>\n",
       "      <td>45</td>\n",
       "      <td>266748</td>\n",
       "      <td>619</td>\n",
       "      <td>581</td>\n",
       "      <td>1338</td>\n",
       "      <td>1294</td>\n",
       "    </tr>\n",
       "    <tr>\n",
       "      <td>2</td>\n",
       "      <td>2019-08-03</td>\n",
       "      <td>24</td>\n",
       "      <td>112473</td>\n",
       "      <td>16</td>\n",
       "      <td>114248</td>\n",
       "      <td>68</td>\n",
       "      <td>354874</td>\n",
       "      <td>61</td>\n",
       "      <td>380996</td>\n",
       "      <td>507</td>\n",
       "      <td>509</td>\n",
       "      <td>1845</td>\n",
       "      <td>1803</td>\n",
       "    </tr>\n",
       "    <tr>\n",
       "      <td>3</td>\n",
       "      <td>2019-08-04</td>\n",
       "      <td>16</td>\n",
       "      <td>70825</td>\n",
       "      <td>17</td>\n",
       "      <td>108571</td>\n",
       "      <td>84</td>\n",
       "      <td>425699</td>\n",
       "      <td>78</td>\n",
       "      <td>489567</td>\n",
       "      <td>717</td>\n",
       "      <td>770</td>\n",
       "      <td>2562</td>\n",
       "      <td>2573</td>\n",
       "    </tr>\n",
       "    <tr>\n",
       "      <td>4</td>\n",
       "      <td>2019-08-05</td>\n",
       "      <td>25</td>\n",
       "      <td>124218</td>\n",
       "      <td>23</td>\n",
       "      <td>92428</td>\n",
       "      <td>109</td>\n",
       "      <td>549917</td>\n",
       "      <td>101</td>\n",
       "      <td>581995</td>\n",
       "      <td>756</td>\n",
       "      <td>707</td>\n",
       "      <td>3318</td>\n",
       "      <td>3280</td>\n",
       "    </tr>\n",
       "  </tbody>\n",
       "</table>\n",
       "</div>"
      ],
      "text/plain": [
       "        date  ordersPerDateA  revenuePerDateA  ordersPerDateB  \\\n",
       "0 2019-08-01              24           148579              21   \n",
       "1 2019-08-02              20            93822              24   \n",
       "2 2019-08-03              24           112473              16   \n",
       "3 2019-08-04              16            70825              17   \n",
       "4 2019-08-05              25           124218              23   \n",
       "\n",
       "   revenuePerDateB  ordersCummulativeA  revenueCummulativeA  \\\n",
       "0           101217                  24               148579   \n",
       "1           165531                  44               242401   \n",
       "2           114248                  68               354874   \n",
       "3           108571                  84               425699   \n",
       "4            92428                 109               549917   \n",
       "\n",
       "   ordersCummulativeB  revenueCummulativeB  visitorsPerDateA  \\\n",
       "0                  21               101217               719   \n",
       "1                  45               266748               619   \n",
       "2                  61               380996               507   \n",
       "3                  78               489567               717   \n",
       "4                 101               581995               756   \n",
       "\n",
       "   visitorsPerDateB  visitorsCummulativeA  visitorsCummulativeB  \n",
       "0               713                   719                   713  \n",
       "1               581                  1338                  1294  \n",
       "2               509                  1845                  1803  \n",
       "3               770                  2562                  2573  \n",
       "4               707                  3318                  3280  "
      ]
     },
     "metadata": {},
     "output_type": "display_data"
    }
   ],
   "source": [
    "visitorsADaily = visitors[visitors['group'] == 'A'][['date', 'visitors']]\n",
    "visitorsADaily.columns = ['date', 'visitorsPerDateA']\n",
    "\n",
    "visitorsACummulative = visitorsADaily.apply(\n",
    "    lambda x: visitorsADaily[visitorsADaily['date'] <= x['date']].agg(\n",
    "        {'date': 'max', 'visitorsPerDateA': 'sum'}\n",
    "    ),\n",
    "    axis=1,\n",
    ")\n",
    "visitorsACummulative.columns = ['date', 'visitorsCummulativeA']\n",
    "\n",
    "visitorsBDaily = visitors[visitors['group'] == 'B'][['date', 'visitors']]\n",
    "visitorsBDaily.columns = ['date', 'visitorsPerDateB']\n",
    "\n",
    "visitorsBCummulative = visitorsBDaily.apply(\n",
    "    lambda x: visitorsBDaily[visitorsBDaily['date'] <= x['date']].agg(\n",
    "        {'date': 'max', 'visitorsPerDateB': 'sum'}\n",
    "    ),\n",
    "    axis=1,\n",
    ")\n",
    "visitorsBCummulative.columns = ['date', 'visitorsCummulativeB']\n",
    "\n",
    "ordersADaily = (\n",
    "    orders[orders['group'] == 'A'][['date', 'transaction_id', 'visitor_id', 'revenue']]\n",
    "    .groupby('date', as_index=False)\n",
    "    .agg({'transaction_id': pd.Series.nunique, 'revenue': 'sum'})\n",
    ")\n",
    "ordersADaily.columns = ['date', 'ordersPerDateA', 'revenuePerDateA']\n",
    "\n",
    "ordersACummulative = ordersADaily.apply(\n",
    "    lambda x: ordersADaily[ordersADaily['date'] <= x['date']].agg(\n",
    "        {'date': 'max', 'ordersPerDateA': 'sum', 'revenuePerDateA': 'sum'}\n",
    "    ),\n",
    "    axis=1,\n",
    ").sort_values(by=['date'])\n",
    "ordersACummulative.columns = [\n",
    "    'date',\n",
    "    'ordersCummulativeA',\n",
    "    'revenueCummulativeA',\n",
    "]\n",
    "\n",
    "ordersBDaily = (\n",
    "    orders[orders['group'] == 'B'][['date', 'transaction_id', 'visitor_id', 'revenue']]\n",
    "    .groupby('date', as_index=False)\n",
    "    .agg({'transaction_id': pd.Series.nunique, 'revenue': 'sum'})\n",
    ")\n",
    "ordersBDaily.columns = ['date', 'ordersPerDateB', 'revenuePerDateB']\n",
    "\n",
    "ordersBCummulative = ordersBDaily.apply(\n",
    "    lambda x: ordersBDaily[ordersBDaily['date'] <= x['date']].agg(\n",
    "        {'date': 'max', 'ordersPerDateB': 'sum', 'revenuePerDateB': 'sum'}\n",
    "    ),\n",
    "    axis=1,\n",
    ").sort_values(by=['date'])\n",
    "ordersBCummulative.columns = [\n",
    "    'date',\n",
    "    'ordersCummulativeB',\n",
    "    'revenueCummulativeB',\n",
    "]\n",
    "\n",
    "data = (\n",
    "    ordersADaily.merge(\n",
    "        ordersBDaily, left_on='date', right_on='date', how='left'\n",
    "    )\n",
    "    .merge(ordersACummulative, left_on='date', right_on='date', how='left')\n",
    "    .merge(ordersBCummulative, left_on='date', right_on='date', how='left')\n",
    "    .merge(visitorsADaily, left_on='date', right_on='date', how='left')\n",
    "    .merge(visitorsBDaily, left_on='date', right_on='date', how='left')\n",
    "    .merge(visitorsACummulative, left_on='date', right_on='date', how='left')\n",
    "    .merge(visitorsBCummulative, left_on='date', right_on='date', how='left')\n",
    ")\n",
    "#Проверим результат\n",
    "display(data.head(5))"
   ]
  },
  {
   "cell_type": "markdown",
   "metadata": {},
   "source": [
    "Названия столбцов таблицы `data`:\n",
    "    \n",
    "    date — дата;\n",
    "    ordersPerDateA — количество заказов в выбранную дату в группе A;\n",
    "    revenuePerDateA — суммарная выручка в выбранную дату в группе A;\n",
    "    ordersPerDateB — количество заказов в выбранную дату в группе B;\n",
    "    revenuePerDateB — суммарная выручка в выбранную дату в группе B;\n",
    "    ordersCummulativeA — суммарное число заказов до выбранной даты включительно в группе A;\n",
    "    revenueCummulativeA — суммарная выручка до выбранной даты включительно в группе A;\n",
    "    ordersCummulativeB — суммарное количество заказов до выбранной даты включительно в группе B;\n",
    "    revenueCummulativeB — суммарная выручка до выбранной даты включительно в группе B;\n",
    "    visitorsPerDateA — количество пользователей в выбранную дату в группе A;\n",
    "    visitorsPerDateB — количество пользователей в выбранную дату в группе B;\n",
    "    visitorsCummulativeA — количество пользователей до выбранной даты включительно в группе A;\n",
    "    visitorsCummulativeB — количество пользователей до выбранной даты включительно в группе B."
   ]
  },
  {
   "cell_type": "markdown",
   "metadata": {},
   "source": [
    "**Посчитаем статистическую значимость различия в конверсии между группами.**"
   ]
  },
  {
   "cell_type": "code",
   "execution_count": 29,
   "metadata": {},
   "outputs": [
    {
     "name": "stdout",
     "output_type": "stream",
     "text": [
      "Значение p-value = 0.008\n",
      "Относительное различие в конверсии = 0.138\n"
     ]
    }
   ],
   "source": [
    "ordersByUsersA = (\n",
    "    orders[orders['group'] == 'A']\n",
    "    .groupby('visitor_id', as_index=False)\n",
    "    .agg({'transaction_id': pd.Series.nunique})\n",
    ")\n",
    "ordersByUsersA.columns = ['visitor_id', 'orders']\n",
    "\n",
    "ordersByUsersB = (\n",
    "    orders[orders['group'] == 'B']\n",
    "    .groupby('visitor_id', as_index=False)\n",
    "    .agg({'transaction_id': pd.Series.nunique})\n",
    ")\n",
    "ordersByUsersB.columns = ['visitor_id', 'orders']\n",
    "\n",
    "sampleA = pd.concat(\n",
    "    [\n",
    "        ordersByUsersA['orders'],\n",
    "        pd.Series(\n",
    "            0,\n",
    "            index=np.arange(\n",
    "                data['visitorsPerDateA'].sum() - len(ordersByUsersA['orders'])\n",
    "            ),\n",
    "            name='orders',\n",
    "        ),\n",
    "    ],\n",
    "    axis=0,\n",
    ")\n",
    "\n",
    "sampleB = pd.concat(\n",
    "    [\n",
    "        ordersByUsersB['orders'],\n",
    "        pd.Series(\n",
    "            0,\n",
    "            index=np.arange(\n",
    "                data['visitorsPerDateB'].sum() - len(ordersByUsersB['orders'])\n",
    "            ),\n",
    "            name='orders',\n",
    "        ),\n",
    "    ],\n",
    "    axis=0,\n",
    ")\n",
    "# Округлим до трёх знаков после запятой\n",
    "print('Значение p-value =', \"{0:.3f}\".format(stats.mannwhitneyu(sampleA, sampleB)[1]))\n",
    "\n",
    "print('Относительное различие в конверсии =', \"{0:.3f}\".format(sampleB.mean() / sampleA.mean() - 1))\n"
   ]
  },
  {
   "cell_type": "markdown",
   "metadata": {},
   "source": [
    "P-value горазадо меньше чем 0.05, по этому нулевою гипотезу отвергаем. Анализ сырых данных сообщает, что в конверсии между группами есть статистические значемые различия. Относительный прирост конверсии группы В к конверсии группы А равна 13,8%"
   ]
  },
  {
   "cell_type": "markdown",
   "metadata": {},
   "source": [
    "### Посчитаем статистическую значимость различий в среднем чеке заказа между группами по «сырым» данным. "
   ]
  },
  {
   "cell_type": "code",
   "execution_count": 30,
   "metadata": {},
   "outputs": [
    {
     "name": "stdout",
     "output_type": "stream",
     "text": [
      "Значение p-value = 0.365\n",
      "Относительное различие в среднем чеке = 0.259\n"
     ]
    }
   ],
   "source": [
    "print('Значение p-value =', '{0:.3f}'.format(stats.mannwhitneyu(orders[orders['group']=='A']['revenue'],\n",
    "                                          orders[orders['group']=='B']['revenue'])[1]))\n",
    "print('Относительное различие в среднем чеке =', '{0:.3f}'.format(orders[orders['group']=='B']['revenue']\n",
    "                       .mean()/orders[orders['group']=='A']['revenue'].mean()-1))"
   ]
  },
  {
   "cell_type": "markdown",
   "metadata": {},
   "source": [
    "P-value значительно больше 0.05. Значит, причин отвергать нулевую гипотезу и считать, что в среднем чеке есть различия, нет. Но так же, средний чек группы B значительно выше среднего чека группы A, почти на 26%. А это значит, что большие выбросы повлияли на средний чек в группах и искозили результат. "
   ]
  },
  {
   "cell_type": "markdown",
   "metadata": {},
   "source": [
    "### Посчитаем статистическую значимость различий в конверсии между группами по «очищенным» данным."
   ]
  },
  {
   "cell_type": "markdown",
   "metadata": {},
   "source": [
    "**Узнаем, сколько всего аномальных пользователей методом shape()**"
   ]
  },
  {
   "cell_type": "code",
   "execution_count": 31,
   "metadata": {},
   "outputs": [
    {
     "data": {
      "text/plain": [
       "(74,)"
      ]
     },
     "metadata": {},
     "output_type": "display_data"
    }
   ],
   "source": [
    "usersWithManyOrders = pd.concat(\n",
    "    [\n",
    "        ordersByUsersA[ordersByUsersA['orders'] > 2]['visitor_id'],\n",
    "        ordersByUsersB[ordersByUsersB['orders'] > 2]['visitor_id'],\n",
    "    ],\n",
    "    axis=0,\n",
    ")\n",
    "usersWithExpensiveOrders = orders[orders['revenue'] > 28000]['visitor_id']\n",
    "abnormalUsers = (\n",
    "    pd.concat([usersWithManyOrders, usersWithExpensiveOrders], axis=0)\n",
    "    .drop_duplicates()\n",
    "    .sort_values()\n",
    ")\n",
    "\n",
    "display(abnormalUsers.shape)"
   ]
  },
  {
   "cell_type": "markdown",
   "metadata": {},
   "source": [
    "Всего 74 аномальных пользователей.\n",
    "Узнаем, как их действия повлияли на результаты теста."
   ]
  },
  {
   "cell_type": "markdown",
   "metadata": {},
   "source": [
    "**Подготовим выборки количества заказов по пользователям по группам теста**"
   ]
  },
  {
   "cell_type": "code",
   "execution_count": 32,
   "metadata": {},
   "outputs": [],
   "source": [
    "sampleAFiltered = pd.concat(\n",
    "    [\n",
    "        ordersByUsersA[\n",
    "            np.logical_not(ordersByUsersA['visitor_id'].isin(abnormalUsers))\n",
    "        ]['orders'],\n",
    "        pd.Series(\n",
    "            0,\n",
    "            index=np.arange(\n",
    "                data['visitorsPerDateA'].sum() - len(ordersByUsersA['orders'])\n",
    "            ),\n",
    "            name='orders',\n",
    "        ),\n",
    "    ],\n",
    "    axis=0,\n",
    ")\n",
    "\n",
    "sampleBFiltered = pd.concat(\n",
    "    [\n",
    "        ordersByUsersB[\n",
    "            np.logical_not(ordersByUsersB['visitor_id'].isin(abnormalUsers))\n",
    "        ]['orders'],\n",
    "        pd.Series(\n",
    "            0,\n",
    "            index=np.arange(\n",
    "                data['visitorsPerDateB'].sum() - len(ordersByUsersB['orders'])\n",
    "            ),\n",
    "            name='orders',\n",
    "        ),\n",
    "    ],\n",
    "    axis=0,\n",
    ")\n"
   ]
  },
  {
   "cell_type": "code",
   "execution_count": 33,
   "metadata": {},
   "outputs": [
    {
     "name": "stdout",
     "output_type": "stream",
     "text": [
      "Значение p-value = 0.007\n",
      "Относительное различие в конверсии = 0.173\n"
     ]
    }
   ],
   "source": [
    "# Посчитаем статистическую значимость различий в конверсии между группами по «очищенным» данным\n",
    "print('Значение p-value =', '{0:.3f}'.format(stats.mannwhitneyu(sampleAFiltered, sampleBFiltered)[1]))\n",
    "print('Относительное различие в конверсии =', '{0:.3f}'.format(sampleBFiltered.mean()/sampleAFiltered.mean()-1))"
   ]
  },
  {
   "cell_type": "markdown",
   "metadata": {},
   "source": [
    "Результаты по конверсии практически не изменились. Как и в случае с \"сырыми\" данными, в конверсии между группами есть статистические значемые различия. Относительный прирост конверсии группы В к конверсии группы А равна 17,3%. В тоже время p-value = 0.007, что значительно меньше чем 0.05."
   ]
  },
  {
   "cell_type": "markdown",
   "metadata": {},
   "source": [
    "### Посчитаем статистическую значимость различий в среднем чеке заказа между группами по «очищенным» данным. "
   ]
  },
  {
   "cell_type": "code",
   "execution_count": 34,
   "metadata": {},
   "outputs": [
    {
     "name": "stdout",
     "output_type": "stream",
     "text": [
      "0.369\n",
      "-0.020\n"
     ]
    }
   ],
   "source": [
    "print(\n",
    "    '{0:.3f}'.format(\n",
    "        stats.mannwhitneyu(\n",
    "            orders[\n",
    "                np.logical_and(\n",
    "                    orders['group'] == 'A',\n",
    "                    np.logical_not(orders['visitor_id'].isin(abnormalUsers)),\n",
    "                )\n",
    "            ]['revenue'],\n",
    "            orders[\n",
    "                np.logical_and(\n",
    "                    orders['group'] == 'B',\n",
    "                    np.logical_not(orders['visitor_id'].isin(abnormalUsers)),\n",
    "                )\n",
    "            ]['revenue'],\n",
    "        )[1], alternative = 'two-sided'\n",
    "    )\n",
    ")\n",
    "\n",
    "print(\n",
    "    \"{0:.3f}\".format(\n",
    "        orders[\n",
    "            np.logical_and(\n",
    "                orders['group'] == 'B',\n",
    "                np.logical_not(orders['visitor_id'].isin(abnormalUsers)),\n",
    "            )\n",
    "        ]['revenue'].mean()\n",
    "        / orders[\n",
    "            np.logical_and(\n",
    "                orders['group'] == 'A',\n",
    "                np.logical_not(orders['visitor_id'].isin(abnormalUsers)),\n",
    "            )\n",
    "        ]['revenue'].mean()\n",
    "        - 1\n",
    "    )\n",
    ")"
   ]
  },
  {
   "cell_type": "markdown",
   "metadata": {},
   "source": [
    "P-value больше уровня значимости, это значит, что отличий между группами нет. Выигрыш группы А в данном случае случайность или просто шум."
   ]
  },
  {
   "cell_type": "markdown",
   "metadata": {},
   "source": [
    "## Шаг 4. Вывод"
   ]
  },
  {
   "cell_type": "markdown",
   "metadata": {},
   "source": [
    "**Вывод:**\n",
    "\n",
    "Есть статистически значимое различие по конверсии между группами как по сырым данным, так и после фильтрации аномалий. По сырым данным нет статистически значимого различия по среднему чеку между группами. И после удаления аномалий статистически значимого различия нет. По графику относительного изменения кумулятивной конверсии группы B к группе A видим, что группа В лидирует по конверсии, 5 числа виден резкий скачок вверх, но ведёт себя не стабильно. Графику относительного изменения кумулятивного среднего чека группы B к группе A, видим что, результаты, колеблются. \n",
    "\n",
    "Исходя из этих фактов, в группе В пользователи стали делать больше покупок, т.е покупать чаще, но средний чек не вырос. Видимо пользователи делают больше мелких(незначительных) покупок. В таком случае, если ожидалось повышение среднего чека - тогда нужно продолжить тест или перезапустить с корректировками. \n",
    "\n",
    "Если было важнее увеличить число покупателей продукта, то можно остановить тест, зафиксировать победу группы В.\n",
    "\n",
    "Если было важно чтобы прокрасились обе метрики, можно сделать вывод что повысилась конверсия и выросла прибыль, так как средний чек на большем числе пользоватлей дает прирост, но улучшения не повлияли на желание тратить больше. В таком случае нужно остановить тест и зафиксировать отсутствие различий между группами."
   ]
  }
 ],
 "metadata": {
  "ExecuteTimeLog": [
   {
    "duration": 96,
    "start_time": "2022-02-03T03:09:26.706Z"
   },
   {
    "duration": 1118,
    "start_time": "2022-02-03T03:09:53.166Z"
   },
   {
    "duration": 9,
    "start_time": "2022-02-03T03:11:47.313Z"
   },
   {
    "duration": 84,
    "start_time": "2022-02-03T04:12:10.192Z"
   },
   {
    "duration": 1534,
    "start_time": "2022-02-03T04:14:36.624Z"
   },
   {
    "duration": 9,
    "start_time": "2022-02-03T04:15:30.478Z"
   },
   {
    "duration": 728,
    "start_time": "2022-02-03T04:23:52.452Z"
   },
   {
    "duration": 2166,
    "start_time": "2022-02-03T04:23:58.770Z"
   },
   {
    "duration": -115,
    "start_time": "2022-02-03T04:24:01.055Z"
   },
   {
    "duration": 342,
    "start_time": "2022-02-03T04:24:18.553Z"
   },
   {
    "duration": 1532,
    "start_time": "2022-02-03T04:24:24.135Z"
   },
   {
    "duration": 288,
    "start_time": "2022-02-03T04:24:26.439Z"
   },
   {
    "duration": 33,
    "start_time": "2022-02-03T04:24:49.478Z"
   },
   {
    "duration": 7160,
    "start_time": "2022-02-03T04:32:04.211Z"
   },
   {
    "duration": 1275,
    "start_time": "2022-02-03T04:37:03.772Z"
   },
   {
    "duration": 1778,
    "start_time": "2022-02-03T04:37:13.527Z"
   },
   {
    "duration": 6,
    "start_time": "2022-02-03T04:37:41.436Z"
   },
   {
    "duration": 1270,
    "start_time": "2022-02-03T04:37:45.362Z"
   },
   {
    "duration": 5,
    "start_time": "2022-02-03T04:40:00.437Z"
   },
   {
    "duration": 11,
    "start_time": "2022-02-03T04:40:11.833Z"
   },
   {
    "duration": 11,
    "start_time": "2022-02-03T04:40:51.459Z"
   },
   {
    "duration": 1251,
    "start_time": "2022-02-03T04:40:58.632Z"
   },
   {
    "duration": 13,
    "start_time": "2022-02-03T04:43:19.742Z"
   },
   {
    "duration": 13,
    "start_time": "2022-02-03T04:43:28.636Z"
   },
   {
    "duration": 42,
    "start_time": "2022-02-03T04:44:36.625Z"
   },
   {
    "duration": 74,
    "start_time": "2022-02-03T04:51:11.225Z"
   },
   {
    "duration": 30,
    "start_time": "2022-02-03T04:51:41.272Z"
   },
   {
    "duration": 28,
    "start_time": "2022-02-03T04:51:51.083Z"
   },
   {
    "duration": 4,
    "start_time": "2022-02-03T04:52:59.163Z"
   },
   {
    "duration": 9,
    "start_time": "2022-02-03T04:53:11.212Z"
   },
   {
    "duration": 13,
    "start_time": "2022-02-03T04:57:05.358Z"
   },
   {
    "duration": 1130,
    "start_time": "2022-02-03T05:00:55.797Z"
   },
   {
    "duration": 39,
    "start_time": "2022-02-03T05:00:56.929Z"
   },
   {
    "duration": 9,
    "start_time": "2022-02-03T05:00:56.971Z"
   },
   {
    "duration": 74,
    "start_time": "2022-02-03T05:00:56.983Z"
   },
   {
    "duration": 11,
    "start_time": "2022-02-03T05:00:57.060Z"
   },
   {
    "duration": 78,
    "start_time": "2022-02-03T05:00:57.074Z"
   },
   {
    "duration": 19,
    "start_time": "2022-02-03T05:00:57.155Z"
   },
   {
    "duration": 11,
    "start_time": "2022-02-03T05:06:03.810Z"
   },
   {
    "duration": 20,
    "start_time": "2022-02-03T05:06:55.090Z"
   },
   {
    "duration": 118,
    "start_time": "2022-02-03T05:09:00.629Z"
   },
   {
    "duration": 374,
    "start_time": "2022-02-03T05:09:06.346Z"
   },
   {
    "duration": 17,
    "start_time": "2022-02-03T05:09:13.576Z"
   },
   {
    "duration": 18,
    "start_time": "2022-02-03T05:10:42.432Z"
   },
   {
    "duration": 332,
    "start_time": "2022-02-03T05:13:56.561Z"
   },
   {
    "duration": 18,
    "start_time": "2022-02-03T05:14:12.023Z"
   },
   {
    "duration": 32,
    "start_time": "2022-02-03T05:17:44.652Z"
   },
   {
    "duration": 21,
    "start_time": "2022-02-03T05:23:49.038Z"
   },
   {
    "duration": 16,
    "start_time": "2022-02-03T05:28:14.672Z"
   },
   {
    "duration": 14,
    "start_time": "2022-02-03T05:28:23.670Z"
   },
   {
    "duration": 15,
    "start_time": "2022-02-03T05:28:29.478Z"
   },
   {
    "duration": 17,
    "start_time": "2022-02-03T05:29:02.196Z"
   },
   {
    "duration": 291,
    "start_time": "2022-02-03T05:30:55.155Z"
   },
   {
    "duration": 16,
    "start_time": "2022-02-03T05:32:40.801Z"
   },
   {
    "duration": 15,
    "start_time": "2022-02-03T05:36:12.011Z"
   },
   {
    "duration": 12,
    "start_time": "2022-02-03T05:36:51.528Z"
   },
   {
    "duration": 14,
    "start_time": "2022-02-03T05:37:06.067Z"
   },
   {
    "duration": 16,
    "start_time": "2022-02-03T05:37:21.457Z"
   },
   {
    "duration": 16,
    "start_time": "2022-02-03T05:37:37.554Z"
   },
   {
    "duration": 16,
    "start_time": "2022-02-03T05:38:09.158Z"
   },
   {
    "duration": 15,
    "start_time": "2022-02-03T05:38:20.192Z"
   },
   {
    "duration": 14,
    "start_time": "2022-02-03T05:38:24.064Z"
   },
   {
    "duration": 15,
    "start_time": "2022-02-03T05:38:33.068Z"
   },
   {
    "duration": 15,
    "start_time": "2022-02-03T05:48:05.529Z"
   },
   {
    "duration": 8006,
    "start_time": "2022-02-03T06:12:29.588Z"
   },
   {
    "duration": 7322,
    "start_time": "2022-02-03T06:13:17.174Z"
   },
   {
    "duration": 8223,
    "start_time": "2022-02-03T06:14:01.722Z"
   },
   {
    "duration": 7653,
    "start_time": "2022-02-03T06:14:42.092Z"
   },
   {
    "duration": 7273,
    "start_time": "2022-02-03T06:14:52.955Z"
   },
   {
    "duration": 559,
    "start_time": "2022-02-03T06:15:10.089Z"
   },
   {
    "duration": 556,
    "start_time": "2022-02-03T06:15:20.544Z"
   },
   {
    "duration": 309,
    "start_time": "2022-02-03T06:17:17.559Z"
   },
   {
    "duration": 229,
    "start_time": "2022-02-03T06:17:37.936Z"
   },
   {
    "duration": 323,
    "start_time": "2022-02-03T06:17:43.015Z"
   },
   {
    "duration": 84,
    "start_time": "2022-02-03T06:18:20.412Z"
   },
   {
    "duration": 550,
    "start_time": "2022-02-03T06:18:23.742Z"
   },
   {
    "duration": 709,
    "start_time": "2022-02-03T06:19:08.370Z"
   },
   {
    "duration": 430,
    "start_time": "2022-02-03T06:19:23.607Z"
   },
   {
    "duration": 412,
    "start_time": "2022-02-03T06:19:55.013Z"
   },
   {
    "duration": 399,
    "start_time": "2022-02-03T06:22:34.022Z"
   },
   {
    "duration": 799,
    "start_time": "2022-02-03T06:22:47.516Z"
   },
   {
    "duration": 444,
    "start_time": "2022-02-03T06:22:57.782Z"
   },
   {
    "duration": 543,
    "start_time": "2022-02-03T06:23:24.270Z"
   },
   {
    "duration": 479,
    "start_time": "2022-02-03T06:24:13.756Z"
   },
   {
    "duration": 107,
    "start_time": "2022-02-03T06:24:53.905Z"
   },
   {
    "duration": 464,
    "start_time": "2022-02-03T06:25:05.737Z"
   },
   {
    "duration": 545,
    "start_time": "2022-02-03T06:27:09.279Z"
   },
   {
    "duration": 713,
    "start_time": "2022-02-03T06:27:20.587Z"
   },
   {
    "duration": 624,
    "start_time": "2022-02-03T06:27:40.169Z"
   },
   {
    "duration": 476,
    "start_time": "2022-02-03T06:27:56.386Z"
   },
   {
    "duration": 180,
    "start_time": "2022-02-03T06:28:24.067Z"
   },
   {
    "duration": 496,
    "start_time": "2022-02-03T06:30:18.460Z"
   },
   {
    "duration": 449,
    "start_time": "2022-02-03T06:30:34.424Z"
   },
   {
    "duration": 486,
    "start_time": "2022-02-03T06:32:07.259Z"
   },
   {
    "duration": 902,
    "start_time": "2022-02-03T06:33:30.956Z"
   },
   {
    "duration": 846,
    "start_time": "2022-02-03T06:33:54.925Z"
   },
   {
    "duration": 920,
    "start_time": "2022-02-03T06:34:20.421Z"
   },
   {
    "duration": 554,
    "start_time": "2022-02-03T06:34:45.124Z"
   },
   {
    "duration": 487,
    "start_time": "2022-02-03T06:35:01.361Z"
   },
   {
    "duration": 1013,
    "start_time": "2022-02-03T06:35:25.747Z"
   },
   {
    "duration": 471,
    "start_time": "2022-02-03T06:35:40.463Z"
   },
   {
    "duration": 899,
    "start_time": "2022-02-03T06:36:06.999Z"
   },
   {
    "duration": 899,
    "start_time": "2022-02-03T06:36:34.201Z"
   },
   {
    "duration": 488,
    "start_time": "2022-02-03T06:37:01.349Z"
   },
   {
    "duration": 684,
    "start_time": "2022-02-03T06:38:44.149Z"
   },
   {
    "duration": 1426,
    "start_time": "2022-02-03T06:39:25.946Z"
   },
   {
    "duration": 1072,
    "start_time": "2022-02-03T06:39:50.641Z"
   },
   {
    "duration": 1223,
    "start_time": "2022-02-03T06:45:11.584Z"
   },
   {
    "duration": 423,
    "start_time": "2022-02-03T06:49:40.366Z"
   },
   {
    "duration": 452,
    "start_time": "2022-02-03T06:50:31.500Z"
   },
   {
    "duration": 1035,
    "start_time": "2022-02-03T06:50:54.021Z"
   },
   {
    "duration": 542,
    "start_time": "2022-02-03T06:56:46.814Z"
   },
   {
    "duration": 1133,
    "start_time": "2022-02-03T06:57:08.998Z"
   },
   {
    "duration": 1129,
    "start_time": "2022-02-03T06:57:38.956Z"
   },
   {
    "duration": 1117,
    "start_time": "2022-02-03T06:57:51.155Z"
   },
   {
    "duration": 1252,
    "start_time": "2022-02-03T06:58:21.730Z"
   },
   {
    "duration": 1150,
    "start_time": "2022-02-03T06:59:46.760Z"
   },
   {
    "duration": 394,
    "start_time": "2022-02-03T07:09:58.525Z"
   },
   {
    "duration": 544,
    "start_time": "2022-02-03T07:11:06.582Z"
   },
   {
    "duration": 472,
    "start_time": "2022-02-03T07:11:42.967Z"
   },
   {
    "duration": 1066,
    "start_time": "2022-02-03T07:12:16.003Z"
   },
   {
    "duration": 1235,
    "start_time": "2022-02-03T07:12:58.813Z"
   },
   {
    "duration": 336,
    "start_time": "2022-02-03T07:38:26.929Z"
   },
   {
    "duration": 1405,
    "start_time": "2022-02-03T07:39:28.836Z"
   },
   {
    "duration": 1189,
    "start_time": "2022-02-03T07:39:55.204Z"
   },
   {
    "duration": 1192,
    "start_time": "2022-02-03T07:47:22.827Z"
   },
   {
    "duration": 278,
    "start_time": "2022-02-03T08:04:31.216Z"
   },
   {
    "duration": 282,
    "start_time": "2022-02-03T08:04:47.146Z"
   },
   {
    "duration": 293,
    "start_time": "2022-02-03T08:05:38.913Z"
   },
   {
    "duration": 387,
    "start_time": "2022-02-03T08:05:54.045Z"
   },
   {
    "duration": 273,
    "start_time": "2022-02-03T08:09:36.707Z"
   },
   {
    "duration": 281,
    "start_time": "2022-02-03T08:10:15.594Z"
   },
   {
    "duration": 912,
    "start_time": "2022-02-03T08:11:52.417Z"
   },
   {
    "duration": 33,
    "start_time": "2022-02-03T08:11:53.332Z"
   },
   {
    "duration": 9,
    "start_time": "2022-02-03T08:11:53.368Z"
   },
   {
    "duration": 72,
    "start_time": "2022-02-03T08:11:53.380Z"
   },
   {
    "duration": 11,
    "start_time": "2022-02-03T08:11:53.454Z"
   },
   {
    "duration": 84,
    "start_time": "2022-02-03T08:11:53.468Z"
   },
   {
    "duration": 14,
    "start_time": "2022-02-03T08:11:53.555Z"
   },
   {
    "duration": 14,
    "start_time": "2022-02-03T08:11:53.574Z"
   },
   {
    "duration": 59,
    "start_time": "2022-02-03T08:11:53.590Z"
   },
   {
    "duration": 16,
    "start_time": "2022-02-03T08:11:53.651Z"
   },
   {
    "duration": 575,
    "start_time": "2022-02-03T08:11:53.669Z"
   },
   {
    "duration": 1081,
    "start_time": "2022-02-03T08:11:54.249Z"
   },
   {
    "duration": 1031,
    "start_time": "2022-02-03T08:11:55.332Z"
   },
   {
    "duration": 1233,
    "start_time": "2022-02-03T08:11:56.366Z"
   },
   {
    "duration": 1097,
    "start_time": "2022-02-03T08:11:57.602Z"
   },
   {
    "duration": 1293,
    "start_time": "2022-02-03T08:11:58.701Z"
   },
   {
    "duration": 206,
    "start_time": "2022-02-03T08:11:59.996Z"
   },
   {
    "duration": 380,
    "start_time": "2022-02-03T08:12:45.769Z"
   },
   {
    "duration": 481,
    "start_time": "2022-02-03T08:13:09.767Z"
   },
   {
    "duration": 1242,
    "start_time": "2022-02-03T08:13:48.812Z"
   },
   {
    "duration": 1067,
    "start_time": "2022-02-03T08:16:41.768Z"
   },
   {
    "duration": 1309,
    "start_time": "2022-02-03T08:16:56.620Z"
   },
   {
    "duration": 279,
    "start_time": "2022-02-03T08:17:15.894Z"
   },
   {
    "duration": 383,
    "start_time": "2022-02-03T08:17:25.996Z"
   },
   {
    "duration": 522,
    "start_time": "2022-02-03T08:17:53.029Z"
   },
   {
    "duration": 378,
    "start_time": "2022-02-03T08:18:15.547Z"
   },
   {
    "duration": 1058,
    "start_time": "2022-02-03T08:18:23.683Z"
   },
   {
    "duration": 1067,
    "start_time": "2022-02-03T08:18:31.272Z"
   },
   {
    "duration": 1044,
    "start_time": "2022-02-03T08:18:43.891Z"
   },
   {
    "duration": 1161,
    "start_time": "2022-02-03T08:20:40.316Z"
   },
   {
    "duration": 207,
    "start_time": "2022-02-04T11:23:39.494Z"
   },
   {
    "duration": 679,
    "start_time": "2022-02-04T11:23:50.703Z"
   },
   {
    "duration": 22,
    "start_time": "2022-02-04T11:23:51.384Z"
   },
   {
    "duration": 5,
    "start_time": "2022-02-04T11:23:51.408Z"
   },
   {
    "duration": 22,
    "start_time": "2022-02-04T11:23:51.414Z"
   },
   {
    "duration": 25,
    "start_time": "2022-02-04T11:23:51.437Z"
   },
   {
    "duration": 30,
    "start_time": "2022-02-04T11:23:51.464Z"
   },
   {
    "duration": 9,
    "start_time": "2022-02-04T11:23:51.495Z"
   },
   {
    "duration": 16,
    "start_time": "2022-02-04T11:23:51.507Z"
   },
   {
    "duration": 45,
    "start_time": "2022-02-04T11:23:51.526Z"
   },
   {
    "duration": 10,
    "start_time": "2022-02-04T11:23:51.573Z"
   },
   {
    "duration": 354,
    "start_time": "2022-02-04T11:23:51.585Z"
   },
   {
    "duration": 691,
    "start_time": "2022-02-04T11:23:51.941Z"
   },
   {
    "duration": 676,
    "start_time": "2022-02-04T11:23:52.634Z"
   },
   {
    "duration": 991,
    "start_time": "2022-02-04T11:23:53.312Z"
   },
   {
    "duration": 979,
    "start_time": "2022-02-04T11:23:54.305Z"
   },
   {
    "duration": 834,
    "start_time": "2022-02-04T11:23:55.287Z"
   },
   {
    "duration": 131,
    "start_time": "2022-02-04T11:23:56.123Z"
   },
   {
    "duration": 884,
    "start_time": "2022-02-04T11:23:56.260Z"
   },
   {
    "duration": 10,
    "start_time": "2022-02-04T11:28:50.572Z"
   },
   {
    "duration": 703,
    "start_time": "2022-02-04T11:31:26.317Z"
   },
   {
    "duration": 29,
    "start_time": "2022-02-04T11:31:27.023Z"
   },
   {
    "duration": 190,
    "start_time": "2022-02-04T11:31:27.055Z"
   },
   {
    "duration": 33,
    "start_time": "2022-02-04T11:31:27.248Z"
   },
   {
    "duration": 7,
    "start_time": "2022-02-04T11:31:27.283Z"
   },
   {
    "duration": 67,
    "start_time": "2022-02-04T11:31:27.292Z"
   },
   {
    "duration": 13,
    "start_time": "2022-02-04T11:31:27.361Z"
   },
   {
    "duration": 16,
    "start_time": "2022-02-04T11:31:27.377Z"
   },
   {
    "duration": 22,
    "start_time": "2022-02-04T11:31:27.396Z"
   },
   {
    "duration": 14,
    "start_time": "2022-02-04T11:31:27.420Z"
   },
   {
    "duration": 354,
    "start_time": "2022-02-04T11:31:27.459Z"
   },
   {
    "duration": 685,
    "start_time": "2022-02-04T11:31:27.815Z"
   },
   {
    "duration": 671,
    "start_time": "2022-02-04T11:31:28.502Z"
   },
   {
    "duration": 760,
    "start_time": "2022-02-04T11:31:29.175Z"
   },
   {
    "duration": 722,
    "start_time": "2022-02-04T11:31:29.937Z"
   },
   {
    "duration": 804,
    "start_time": "2022-02-04T11:31:30.660Z"
   },
   {
    "duration": 124,
    "start_time": "2022-02-04T11:31:31.465Z"
   },
   {
    "duration": 726,
    "start_time": "2022-02-04T11:31:31.591Z"
   },
   {
    "duration": 283,
    "start_time": "2022-02-04T11:39:50.978Z"
   },
   {
    "duration": 182,
    "start_time": "2022-02-04T11:40:32.160Z"
   },
   {
    "duration": 201,
    "start_time": "2022-02-04T11:40:42.649Z"
   },
   {
    "duration": 448,
    "start_time": "2022-02-05T06:32:18.358Z"
   },
   {
    "duration": 407,
    "start_time": "2022-02-05T06:36:22.359Z"
   },
   {
    "duration": 79,
    "start_time": "2022-02-05T06:36:29.540Z"
   },
   {
    "duration": 24,
    "start_time": "2022-02-05T06:36:29.620Z"
   },
   {
    "duration": 7,
    "start_time": "2022-02-05T06:36:29.647Z"
   },
   {
    "duration": 53,
    "start_time": "2022-02-05T06:36:29.658Z"
   },
   {
    "duration": 8,
    "start_time": "2022-02-05T06:36:29.713Z"
   },
   {
    "duration": 30,
    "start_time": "2022-02-05T06:36:29.723Z"
   },
   {
    "duration": 54,
    "start_time": "2022-02-05T06:36:29.755Z"
   },
   {
    "duration": 19,
    "start_time": "2022-02-05T06:36:29.811Z"
   },
   {
    "duration": 21,
    "start_time": "2022-02-05T06:36:29.832Z"
   },
   {
    "duration": 16,
    "start_time": "2022-02-05T06:36:29.855Z"
   },
   {
    "duration": 423,
    "start_time": "2022-02-05T06:36:29.873Z"
   },
   {
    "duration": 776,
    "start_time": "2022-02-05T06:36:30.298Z"
   },
   {
    "duration": 834,
    "start_time": "2022-02-05T06:36:31.077Z"
   },
   {
    "duration": 874,
    "start_time": "2022-02-05T06:36:31.913Z"
   },
   {
    "duration": 753,
    "start_time": "2022-02-05T06:36:32.789Z"
   },
   {
    "duration": 840,
    "start_time": "2022-02-05T06:36:33.544Z"
   },
   {
    "duration": 140,
    "start_time": "2022-02-05T06:36:34.386Z"
   },
   {
    "duration": 913,
    "start_time": "2022-02-05T06:36:34.528Z"
   },
   {
    "duration": 128,
    "start_time": "2022-02-05T06:36:35.443Z"
   },
   {
    "duration": 289,
    "start_time": "2022-02-05T06:41:18.221Z"
   },
   {
    "duration": 265,
    "start_time": "2022-02-05T06:41:29.380Z"
   },
   {
    "duration": 15,
    "start_time": "2022-02-05T06:41:48.337Z"
   },
   {
    "duration": 6618,
    "start_time": "2022-02-05T06:45:49.791Z"
   },
   {
    "duration": 5,
    "start_time": "2022-02-05T06:46:25.020Z"
   },
   {
    "duration": 5,
    "start_time": "2022-02-05T06:47:11.154Z"
   },
   {
    "duration": 6,
    "start_time": "2022-02-05T06:47:22.371Z"
   },
   {
    "duration": 5,
    "start_time": "2022-02-05T06:47:38.888Z"
   },
   {
    "duration": 5,
    "start_time": "2022-02-05T06:47:42.178Z"
   },
   {
    "duration": 289,
    "start_time": "2022-02-05T06:52:41.939Z"
   },
   {
    "duration": 10,
    "start_time": "2022-02-05T06:58:58.449Z"
   },
   {
    "duration": 370,
    "start_time": "2022-02-05T07:09:13.352Z"
   },
   {
    "duration": 11,
    "start_time": "2022-02-05T07:09:48.934Z"
   },
   {
    "duration": 256,
    "start_time": "2022-02-05T07:13:44.156Z"
   },
   {
    "duration": 10,
    "start_time": "2022-02-05T07:13:56.635Z"
   },
   {
    "duration": 246,
    "start_time": "2022-02-05T07:20:42.174Z"
   },
   {
    "duration": 241,
    "start_time": "2022-02-05T07:21:21.757Z"
   },
   {
    "duration": 160,
    "start_time": "2022-02-05T07:22:03.561Z"
   },
   {
    "duration": 451,
    "start_time": "2022-02-05T07:23:23.124Z"
   },
   {
    "duration": 372,
    "start_time": "2022-02-05T07:23:56.984Z"
   },
   {
    "duration": 5,
    "start_time": "2022-02-05T07:28:04.552Z"
   },
   {
    "duration": 5,
    "start_time": "2022-02-05T07:28:30.815Z"
   },
   {
    "duration": 6,
    "start_time": "2022-02-05T07:35:03.695Z"
   },
   {
    "duration": 299,
    "start_time": "2022-02-05T07:38:17.435Z"
   },
   {
    "duration": 5,
    "start_time": "2022-02-05T07:38:43.715Z"
   },
   {
    "duration": 4,
    "start_time": "2022-02-05T07:39:07.191Z"
   },
   {
    "duration": 5,
    "start_time": "2022-02-05T07:40:52.660Z"
   },
   {
    "duration": 5,
    "start_time": "2022-02-05T07:46:34.373Z"
   },
   {
    "duration": 246,
    "start_time": "2022-02-05T07:51:49.187Z"
   },
   {
    "duration": 266,
    "start_time": "2022-02-05T07:52:48.937Z"
   },
   {
    "duration": 256,
    "start_time": "2022-02-05T07:56:24.571Z"
   },
   {
    "duration": 6614,
    "start_time": "2022-02-05T07:56:36.592Z"
   },
   {
    "duration": 520,
    "start_time": "2022-02-05T07:58:08.467Z"
   },
   {
    "duration": 6676,
    "start_time": "2022-02-05T07:58:57.179Z"
   },
   {
    "duration": 395,
    "start_time": "2022-02-05T08:01:34.558Z"
   },
   {
    "duration": 10350,
    "start_time": "2022-02-05T08:05:56.231Z"
   },
   {
    "duration": 6489,
    "start_time": "2022-02-05T08:06:37.301Z"
   },
   {
    "duration": 862,
    "start_time": "2022-02-05T08:07:13.117Z"
   },
   {
    "duration": 494,
    "start_time": "2022-02-05T08:07:50.312Z"
   },
   {
    "duration": 490,
    "start_time": "2022-02-05T08:07:55.443Z"
   },
   {
    "duration": 1226,
    "start_time": "2022-02-05T08:08:18.229Z"
   },
   {
    "duration": 27,
    "start_time": "2022-02-05T08:08:19.457Z"
   },
   {
    "duration": 7,
    "start_time": "2022-02-05T08:08:19.486Z"
   },
   {
    "duration": 26,
    "start_time": "2022-02-05T08:08:19.495Z"
   },
   {
    "duration": 8,
    "start_time": "2022-02-05T08:08:19.522Z"
   },
   {
    "duration": 41,
    "start_time": "2022-02-05T08:08:19.532Z"
   },
   {
    "duration": 40,
    "start_time": "2022-02-05T08:08:19.574Z"
   },
   {
    "duration": 12,
    "start_time": "2022-02-05T08:08:19.617Z"
   },
   {
    "duration": 9,
    "start_time": "2022-02-05T08:08:19.632Z"
   },
   {
    "duration": 8,
    "start_time": "2022-02-05T08:08:19.643Z"
   },
   {
    "duration": 7,
    "start_time": "2022-02-05T08:08:19.653Z"
   },
   {
    "duration": 10,
    "start_time": "2022-02-05T08:08:19.662Z"
   },
   {
    "duration": 46,
    "start_time": "2022-02-05T08:08:19.674Z"
   },
   {
    "duration": 14,
    "start_time": "2022-02-05T08:08:19.722Z"
   },
   {
    "duration": 413,
    "start_time": "2022-02-05T08:08:19.738Z"
   },
   {
    "duration": 759,
    "start_time": "2022-02-05T08:08:20.153Z"
   },
   {
    "duration": 742,
    "start_time": "2022-02-05T08:08:20.914Z"
   },
   {
    "duration": 805,
    "start_time": "2022-02-05T08:08:21.658Z"
   },
   {
    "duration": 737,
    "start_time": "2022-02-05T08:08:22.465Z"
   },
   {
    "duration": 867,
    "start_time": "2022-02-05T08:08:23.204Z"
   },
   {
    "duration": 117,
    "start_time": "2022-02-05T08:08:24.073Z"
   },
   {
    "duration": 828,
    "start_time": "2022-02-05T08:08:24.192Z"
   },
   {
    "duration": 130,
    "start_time": "2022-02-05T08:08:25.024Z"
   },
   {
    "duration": 5,
    "start_time": "2022-02-05T08:08:25.156Z"
   },
   {
    "duration": 431,
    "start_time": "2022-02-05T08:08:25.163Z"
   },
   {
    "duration": 14,
    "start_time": "2022-02-05T08:08:25.597Z"
   },
   {
    "duration": 596,
    "start_time": "2022-02-05T08:08:25.613Z"
   },
   {
    "duration": 641,
    "start_time": "2022-02-05T08:08:40.752Z"
   },
   {
    "duration": 666,
    "start_time": "2022-02-05T08:09:08.421Z"
   },
   {
    "duration": 570,
    "start_time": "2022-02-05T08:10:03.507Z"
   },
   {
    "duration": 1168,
    "start_time": "2022-02-05T11:16:59.442Z"
   },
   {
    "duration": 1070,
    "start_time": "2022-02-05T11:17:27.781Z"
   },
   {
    "duration": 382,
    "start_time": "2022-02-05T11:17:54.773Z"
   },
   {
    "duration": 851,
    "start_time": "2022-02-05T11:18:24.267Z"
   },
   {
    "duration": 816,
    "start_time": "2022-02-05T11:19:23.858Z"
   },
   {
    "duration": 779,
    "start_time": "2022-02-05T11:26:14.936Z"
   },
   {
    "duration": 738,
    "start_time": "2022-02-05T11:26:41.121Z"
   },
   {
    "duration": 899,
    "start_time": "2022-02-05T11:26:54.113Z"
   },
   {
    "duration": 781,
    "start_time": "2022-02-05T11:27:05.264Z"
   },
   {
    "duration": 945,
    "start_time": "2022-02-05T11:27:18.546Z"
   },
   {
    "duration": 938,
    "start_time": "2022-02-05T11:27:31.208Z"
   },
   {
    "duration": 859,
    "start_time": "2022-02-05T11:27:46.880Z"
   },
   {
    "duration": 6681,
    "start_time": "2022-02-05T11:34:25.957Z"
   },
   {
    "duration": 8499,
    "start_time": "2022-02-05T11:35:18.450Z"
   },
   {
    "duration": 7429,
    "start_time": "2022-02-05T11:36:09.588Z"
   },
   {
    "duration": 403,
    "start_time": "2022-02-05T11:36:49.084Z"
   },
   {
    "duration": 430,
    "start_time": "2022-02-05T11:37:03.794Z"
   },
   {
    "duration": 12,
    "start_time": "2022-02-05T11:40:28.735Z"
   },
   {
    "duration": 13,
    "start_time": "2022-02-05T11:40:45.856Z"
   },
   {
    "duration": 272,
    "start_time": "2022-02-05T11:42:36.641Z"
   },
   {
    "duration": 21,
    "start_time": "2022-02-05T11:44:38.960Z"
   },
   {
    "duration": 8353,
    "start_time": "2022-02-05T11:45:59.904Z"
   },
   {
    "duration": 17,
    "start_time": "2022-02-05T11:46:55.923Z"
   },
   {
    "duration": 313,
    "start_time": "2022-02-06T05:06:04.087Z"
   },
   {
    "duration": 1439,
    "start_time": "2022-02-06T05:06:12.908Z"
   },
   {
    "duration": 31,
    "start_time": "2022-02-06T05:06:14.350Z"
   },
   {
    "duration": 7,
    "start_time": "2022-02-06T05:06:14.387Z"
   },
   {
    "duration": 54,
    "start_time": "2022-02-06T05:06:14.397Z"
   },
   {
    "duration": 9,
    "start_time": "2022-02-06T05:06:14.453Z"
   },
   {
    "duration": 83,
    "start_time": "2022-02-06T05:06:14.464Z"
   },
   {
    "duration": 14,
    "start_time": "2022-02-06T05:06:14.551Z"
   },
   {
    "duration": 17,
    "start_time": "2022-02-06T05:06:14.568Z"
   },
   {
    "duration": 48,
    "start_time": "2022-02-06T05:06:14.587Z"
   },
   {
    "duration": 12,
    "start_time": "2022-02-06T05:06:14.638Z"
   },
   {
    "duration": 9,
    "start_time": "2022-02-06T05:06:14.653Z"
   },
   {
    "duration": 8,
    "start_time": "2022-02-06T05:06:14.665Z"
   },
   {
    "duration": 16,
    "start_time": "2022-02-06T05:06:14.675Z"
   },
   {
    "duration": 52,
    "start_time": "2022-02-06T05:06:14.693Z"
   },
   {
    "duration": 14,
    "start_time": "2022-02-06T05:06:14.747Z"
   },
   {
    "duration": 599,
    "start_time": "2022-02-06T05:06:14.763Z"
   },
   {
    "duration": 1169,
    "start_time": "2022-02-06T05:06:15.364Z"
   },
   {
    "duration": 1609,
    "start_time": "2022-02-06T05:06:16.535Z"
   },
   {
    "duration": 1261,
    "start_time": "2022-02-06T05:06:18.147Z"
   },
   {
    "duration": 1123,
    "start_time": "2022-02-06T05:06:19.410Z"
   },
   {
    "duration": 1252,
    "start_time": "2022-02-06T05:06:20.536Z"
   },
   {
    "duration": 195,
    "start_time": "2022-02-06T05:06:21.793Z"
   },
   {
    "duration": 1231,
    "start_time": "2022-02-06T05:06:21.991Z"
   },
   {
    "duration": 215,
    "start_time": "2022-02-06T05:06:23.224Z"
   },
   {
    "duration": 5,
    "start_time": "2022-02-06T05:06:23.442Z"
   },
   {
    "duration": 1288,
    "start_time": "2022-02-06T05:06:23.449Z"
   },
   {
    "duration": 6,
    "start_time": "2022-02-06T05:06:24.740Z"
   },
   {
    "duration": 991,
    "start_time": "2022-02-06T05:06:24.749Z"
   },
   {
    "duration": 739,
    "start_time": "2022-02-06T05:06:25.743Z"
   },
   {
    "duration": 15,
    "start_time": "2022-02-06T05:06:26.484Z"
   },
   {
    "duration": 38,
    "start_time": "2022-02-06T05:06:26.501Z"
   },
   {
    "duration": 18,
    "start_time": "2022-02-06T05:06:26.541Z"
   },
   {
    "duration": 12,
    "start_time": "2022-02-06T08:28:10.378Z"
   },
   {
    "duration": 14,
    "start_time": "2022-02-06T08:28:21.909Z"
   },
   {
    "duration": 17,
    "start_time": "2022-02-06T08:29:46.421Z"
   },
   {
    "duration": 84,
    "start_time": "2022-02-06T08:30:05.683Z"
   },
   {
    "duration": 17,
    "start_time": "2022-02-06T08:30:16.457Z"
   },
   {
    "duration": 13,
    "start_time": "2022-02-06T08:32:07.215Z"
   },
   {
    "duration": 12,
    "start_time": "2022-02-06T08:35:07.920Z"
   },
   {
    "duration": 18,
    "start_time": "2022-02-06T08:37:11.166Z"
   },
   {
    "duration": 13,
    "start_time": "2022-02-06T08:38:29.407Z"
   },
   {
    "duration": 17,
    "start_time": "2022-02-06T08:38:39.912Z"
   },
   {
    "duration": 17,
    "start_time": "2022-02-06T08:39:58.037Z"
   },
   {
    "duration": 18,
    "start_time": "2022-02-06T08:40:19.746Z"
   },
   {
    "duration": 18,
    "start_time": "2022-02-06T08:40:51.827Z"
   },
   {
    "duration": 12,
    "start_time": "2022-02-06T08:42:35.467Z"
   },
   {
    "duration": 5707,
    "start_time": "2022-02-06T08:42:45.877Z"
   },
   {
    "duration": 6704,
    "start_time": "2022-02-06T08:43:58.211Z"
   },
   {
    "duration": 14,
    "start_time": "2022-02-06T08:44:16.741Z"
   },
   {
    "duration": 13,
    "start_time": "2022-02-06T08:46:08.070Z"
   },
   {
    "duration": 284,
    "start_time": "2022-02-07T12:34:06.681Z"
   },
   {
    "duration": 1193,
    "start_time": "2022-02-07T12:34:18.470Z"
   },
   {
    "duration": 25,
    "start_time": "2022-02-07T12:34:19.664Z"
   },
   {
    "duration": 7,
    "start_time": "2022-02-07T12:34:19.691Z"
   },
   {
    "duration": 28,
    "start_time": "2022-02-07T12:34:19.700Z"
   },
   {
    "duration": 8,
    "start_time": "2022-02-07T12:34:19.730Z"
   },
   {
    "duration": 70,
    "start_time": "2022-02-07T12:34:19.740Z"
   },
   {
    "duration": 11,
    "start_time": "2022-02-07T12:34:19.812Z"
   },
   {
    "duration": 369,
    "start_time": "2022-02-07T12:34:19.825Z"
   },
   {
    "duration": -77,
    "start_time": "2022-02-07T12:34:20.273Z"
   },
   {
    "duration": -83,
    "start_time": "2022-02-07T12:34:20.280Z"
   },
   {
    "duration": -88,
    "start_time": "2022-02-07T12:34:20.286Z"
   },
   {
    "duration": -93,
    "start_time": "2022-02-07T12:34:20.292Z"
   },
   {
    "duration": -96,
    "start_time": "2022-02-07T12:34:20.296Z"
   },
   {
    "duration": -98,
    "start_time": "2022-02-07T12:34:20.299Z"
   },
   {
    "duration": -100,
    "start_time": "2022-02-07T12:34:20.303Z"
   },
   {
    "duration": -109,
    "start_time": "2022-02-07T12:34:20.313Z"
   },
   {
    "duration": -113,
    "start_time": "2022-02-07T12:34:20.318Z"
   },
   {
    "duration": -114,
    "start_time": "2022-02-07T12:34:20.321Z"
   },
   {
    "duration": -116,
    "start_time": "2022-02-07T12:34:20.324Z"
   },
   {
    "duration": -121,
    "start_time": "2022-02-07T12:34:20.330Z"
   },
   {
    "duration": -123,
    "start_time": "2022-02-07T12:34:20.333Z"
   },
   {
    "duration": -126,
    "start_time": "2022-02-07T12:34:20.337Z"
   },
   {
    "duration": -128,
    "start_time": "2022-02-07T12:34:20.340Z"
   },
   {
    "duration": -131,
    "start_time": "2022-02-07T12:34:20.344Z"
   },
   {
    "duration": -133,
    "start_time": "2022-02-07T12:34:20.347Z"
   },
   {
    "duration": -134,
    "start_time": "2022-02-07T12:34:20.350Z"
   },
   {
    "duration": -136,
    "start_time": "2022-02-07T12:34:20.353Z"
   },
   {
    "duration": -138,
    "start_time": "2022-02-07T12:34:20.357Z"
   },
   {
    "duration": -140,
    "start_time": "2022-02-07T12:34:20.361Z"
   },
   {
    "duration": -141,
    "start_time": "2022-02-07T12:34:20.364Z"
   },
   {
    "duration": -143,
    "start_time": "2022-02-07T12:34:20.367Z"
   },
   {
    "duration": -144,
    "start_time": "2022-02-07T12:34:20.370Z"
   },
   {
    "duration": 17,
    "start_time": "2022-02-07T12:35:16.923Z"
   },
   {
    "duration": 1177,
    "start_time": "2022-02-07T12:35:24.879Z"
   },
   {
    "duration": 25,
    "start_time": "2022-02-07T12:35:26.058Z"
   },
   {
    "duration": 6,
    "start_time": "2022-02-07T12:35:26.085Z"
   },
   {
    "duration": 33,
    "start_time": "2022-02-07T12:35:26.093Z"
   },
   {
    "duration": 8,
    "start_time": "2022-02-07T12:35:26.128Z"
   },
   {
    "duration": 30,
    "start_time": "2022-02-07T12:35:26.138Z"
   },
   {
    "duration": 12,
    "start_time": "2022-02-07T12:35:26.206Z"
   },
   {
    "duration": 14,
    "start_time": "2022-02-07T12:35:26.221Z"
   },
   {
    "duration": 10,
    "start_time": "2022-02-07T12:35:26.237Z"
   },
   {
    "duration": 11,
    "start_time": "2022-02-07T12:35:26.249Z"
   },
   {
    "duration": 11,
    "start_time": "2022-02-07T12:35:26.262Z"
   },
   {
    "duration": 36,
    "start_time": "2022-02-07T12:35:26.275Z"
   },
   {
    "duration": 15,
    "start_time": "2022-02-07T12:35:26.313Z"
   },
   {
    "duration": 17,
    "start_time": "2022-02-07T12:35:26.330Z"
   },
   {
    "duration": 413,
    "start_time": "2022-02-07T12:35:26.349Z"
   },
   {
    "duration": 782,
    "start_time": "2022-02-07T12:35:26.764Z"
   },
   {
    "duration": 753,
    "start_time": "2022-02-07T12:35:27.548Z"
   },
   {
    "duration": 820,
    "start_time": "2022-02-07T12:35:28.309Z"
   },
   {
    "duration": 1013,
    "start_time": "2022-02-07T12:35:29.131Z"
   },
   {
    "duration": 839,
    "start_time": "2022-02-07T12:35:30.146Z"
   },
   {
    "duration": 145,
    "start_time": "2022-02-07T12:35:30.987Z"
   },
   {
    "duration": 844,
    "start_time": "2022-02-07T12:35:31.134Z"
   },
   {
    "duration": 135,
    "start_time": "2022-02-07T12:35:31.981Z"
   },
   {
    "duration": 6,
    "start_time": "2022-02-07T12:35:32.119Z"
   },
   {
    "duration": 406,
    "start_time": "2022-02-07T12:35:32.127Z"
   },
   {
    "duration": 818,
    "start_time": "2022-02-07T12:35:32.535Z"
   },
   {
    "duration": 5,
    "start_time": "2022-02-07T12:35:33.356Z"
   },
   {
    "duration": 674,
    "start_time": "2022-02-07T12:35:33.363Z"
   },
   {
    "duration": 446,
    "start_time": "2022-02-07T12:35:34.039Z"
   },
   {
    "duration": 25,
    "start_time": "2022-02-07T12:35:34.487Z"
   },
   {
    "duration": 66,
    "start_time": "2022-02-07T12:35:34.515Z"
   },
   {
    "duration": 31,
    "start_time": "2022-02-07T12:35:34.584Z"
   },
   {
    "duration": 86,
    "start_time": "2022-02-07T12:36:31.032Z"
   },
   {
    "duration": 83,
    "start_time": "2022-02-07T12:36:37.151Z"
   },
   {
    "duration": 1160,
    "start_time": "2022-02-07T12:37:03.894Z"
   },
   {
    "duration": 92,
    "start_time": "2022-02-07T12:37:56.849Z"
   },
   {
    "duration": 987,
    "start_time": "2022-02-07T12:38:01.013Z"
   },
   {
    "duration": 288,
    "start_time": "2022-02-07T12:40:09.993Z"
   },
   {
    "duration": 823,
    "start_time": "2022-02-07T12:40:54.728Z"
   },
   {
    "duration": 935,
    "start_time": "2022-02-07T12:41:31.691Z"
   },
   {
    "duration": 830,
    "start_time": "2022-02-07T12:42:40.345Z"
   },
   {
    "duration": 544,
    "start_time": "2022-02-07T13:01:34.091Z"
   },
   {
    "duration": 133,
    "start_time": "2022-02-07T13:04:23.196Z"
   },
   {
    "duration": 137,
    "start_time": "2022-02-07T13:31:56.242Z"
   },
   {
    "duration": 146,
    "start_time": "2022-02-07T13:32:03.473Z"
   },
   {
    "duration": 138,
    "start_time": "2022-02-07T13:44:42.687Z"
   },
   {
    "duration": 11,
    "start_time": "2022-02-07T13:46:59.904Z"
   },
   {
    "duration": 11,
    "start_time": "2022-02-07T13:48:19.786Z"
   },
   {
    "duration": 16,
    "start_time": "2022-02-07T13:48:45.449Z"
   },
   {
    "duration": 6395,
    "start_time": "2022-02-07T14:08:40.694Z"
   },
   {
    "duration": 10,
    "start_time": "2022-02-07T14:09:09.103Z"
   },
   {
    "duration": 13,
    "start_time": "2022-02-07T14:09:42.680Z"
   },
   {
    "duration": 10,
    "start_time": "2022-02-07T14:11:05.699Z"
   },
   {
    "duration": 8,
    "start_time": "2022-02-07T14:14:26.158Z"
   },
   {
    "duration": 9,
    "start_time": "2022-02-07T14:16:37.613Z"
   },
   {
    "duration": 9,
    "start_time": "2022-02-07T14:19:32.835Z"
   },
   {
    "duration": 8,
    "start_time": "2022-02-07T14:19:33.929Z"
   },
   {
    "duration": 19,
    "start_time": "2022-02-07T14:25:07.525Z"
   },
   {
    "duration": 120,
    "start_time": "2022-02-07T14:29:47.951Z"
   },
   {
    "duration": 91,
    "start_time": "2022-02-07T14:30:04.421Z"
   },
   {
    "duration": 16,
    "start_time": "2022-02-07T14:30:12.442Z"
   },
   {
    "duration": 389,
    "start_time": "2022-02-08T11:38:48.852Z"
   },
   {
    "duration": 1082,
    "start_time": "2022-02-08T11:39:03.172Z"
   },
   {
    "duration": 23,
    "start_time": "2022-02-08T11:39:04.256Z"
   },
   {
    "duration": 6,
    "start_time": "2022-02-08T11:39:04.281Z"
   },
   {
    "duration": 21,
    "start_time": "2022-02-08T11:39:04.288Z"
   },
   {
    "duration": 21,
    "start_time": "2022-02-08T11:39:04.310Z"
   },
   {
    "duration": 33,
    "start_time": "2022-02-08T11:39:04.332Z"
   },
   {
    "duration": 8,
    "start_time": "2022-02-08T11:39:04.366Z"
   },
   {
    "duration": 10,
    "start_time": "2022-02-08T11:39:04.377Z"
   },
   {
    "duration": 8,
    "start_time": "2022-02-08T11:39:04.389Z"
   },
   {
    "duration": 44,
    "start_time": "2022-02-08T11:39:04.399Z"
   },
   {
    "duration": 5,
    "start_time": "2022-02-08T11:39:04.445Z"
   },
   {
    "duration": 9,
    "start_time": "2022-02-08T11:39:04.452Z"
   },
   {
    "duration": 11,
    "start_time": "2022-02-08T11:39:04.462Z"
   },
   {
    "duration": 10,
    "start_time": "2022-02-08T11:39:04.475Z"
   },
   {
    "duration": 367,
    "start_time": "2022-02-08T11:39:04.487Z"
   },
   {
    "duration": 686,
    "start_time": "2022-02-08T11:39:04.855Z"
   },
   {
    "duration": 658,
    "start_time": "2022-02-08T11:39:05.544Z"
   },
   {
    "duration": 781,
    "start_time": "2022-02-08T11:39:06.204Z"
   },
   {
    "duration": 657,
    "start_time": "2022-02-08T11:39:06.986Z"
   },
   {
    "duration": 767,
    "start_time": "2022-02-08T11:39:07.645Z"
   },
   {
    "duration": 121,
    "start_time": "2022-02-08T11:39:08.413Z"
   },
   {
    "duration": 789,
    "start_time": "2022-02-08T11:39:08.536Z"
   },
   {
    "duration": 168,
    "start_time": "2022-02-08T11:39:09.331Z"
   },
   {
    "duration": 4,
    "start_time": "2022-02-08T11:39:09.502Z"
   },
   {
    "duration": 1007,
    "start_time": "2022-02-08T11:39:09.507Z"
   },
   {
    "duration": 12,
    "start_time": "2022-02-08T11:39:10.516Z"
   },
   {
    "duration": 654,
    "start_time": "2022-02-08T11:39:10.530Z"
   },
   {
    "duration": -60,
    "start_time": "2022-02-08T11:39:11.246Z"
   },
   {
    "duration": -62,
    "start_time": "2022-02-08T11:39:11.250Z"
   },
   {
    "duration": -64,
    "start_time": "2022-02-08T11:39:11.253Z"
   },
   {
    "duration": -67,
    "start_time": "2022-02-08T11:39:11.257Z"
   },
   {
    "duration": -100,
    "start_time": "2022-02-08T11:39:11.292Z"
   },
   {
    "duration": 533,
    "start_time": "2022-02-08T11:40:58.972Z"
   },
   {
    "duration": 9,
    "start_time": "2022-02-08T11:46:34.697Z"
   },
   {
    "duration": 9,
    "start_time": "2022-02-08T11:46:42.218Z"
   },
   {
    "duration": 359,
    "start_time": "2022-02-08T11:46:46.767Z"
   },
   {
    "duration": 331,
    "start_time": "2022-02-08T11:47:14.296Z"
   },
   {
    "duration": 358,
    "start_time": "2022-02-08T11:47:17.895Z"
   },
   {
    "duration": 10104,
    "start_time": "2022-02-08T11:48:03.765Z"
   },
   {
    "duration": -85,
    "start_time": "2022-02-08T11:48:13.956Z"
   },
   {
    "duration": 322,
    "start_time": "2022-02-08T11:55:22.114Z"
   },
   {
    "duration": 334,
    "start_time": "2022-02-08T11:55:38.437Z"
   },
   {
    "duration": 242,
    "start_time": "2022-02-08T12:02:38.850Z"
   },
   {
    "duration": 541,
    "start_time": "2022-02-08T12:03:10.152Z"
   },
   {
    "duration": 231,
    "start_time": "2022-02-08T12:03:47.951Z"
   },
   {
    "duration": 129,
    "start_time": "2022-02-08T12:03:48.965Z"
   },
   {
    "duration": 11,
    "start_time": "2022-02-08T12:04:33.736Z"
   },
   {
    "duration": 7,
    "start_time": "2022-02-08T12:04:37.852Z"
   },
   {
    "duration": 12,
    "start_time": "2022-02-08T12:04:45.429Z"
   },
   {
    "duration": 266,
    "start_time": "2022-02-08T12:05:20.509Z"
   },
   {
    "duration": 288,
    "start_time": "2022-02-08T12:10:33.613Z"
   },
   {
    "duration": 1089,
    "start_time": "2022-02-08T12:11:15.354Z"
   },
   {
    "duration": 21,
    "start_time": "2022-02-08T12:11:16.445Z"
   },
   {
    "duration": 4,
    "start_time": "2022-02-08T12:11:16.468Z"
   },
   {
    "duration": 20,
    "start_time": "2022-02-08T12:11:16.474Z"
   },
   {
    "duration": 6,
    "start_time": "2022-02-08T12:11:16.495Z"
   },
   {
    "duration": 44,
    "start_time": "2022-02-08T12:11:16.502Z"
   },
   {
    "duration": 8,
    "start_time": "2022-02-08T12:11:16.548Z"
   },
   {
    "duration": 14,
    "start_time": "2022-02-08T12:11:16.558Z"
   },
   {
    "duration": 8,
    "start_time": "2022-02-08T12:11:16.574Z"
   },
   {
    "duration": 6,
    "start_time": "2022-02-08T12:11:16.583Z"
   },
   {
    "duration": 35,
    "start_time": "2022-02-08T12:11:16.591Z"
   },
   {
    "duration": 8,
    "start_time": "2022-02-08T12:11:16.628Z"
   },
   {
    "duration": 11,
    "start_time": "2022-02-08T12:11:16.638Z"
   },
   {
    "duration": 10,
    "start_time": "2022-02-08T12:11:16.651Z"
   },
   {
    "duration": 344,
    "start_time": "2022-02-08T12:11:16.663Z"
   },
   {
    "duration": 913,
    "start_time": "2022-02-08T12:11:17.009Z"
   },
   {
    "duration": 919,
    "start_time": "2022-02-08T12:11:17.924Z"
   },
   {
    "duration": 977,
    "start_time": "2022-02-08T12:11:18.844Z"
   },
   {
    "duration": 672,
    "start_time": "2022-02-08T12:11:19.823Z"
   },
   {
    "duration": 934,
    "start_time": "2022-02-08T12:11:20.496Z"
   },
   {
    "duration": 121,
    "start_time": "2022-02-08T12:11:21.432Z"
   },
   {
    "duration": 773,
    "start_time": "2022-02-08T12:11:21.555Z"
   },
   {
    "duration": 111,
    "start_time": "2022-02-08T12:11:22.331Z"
   },
   {
    "duration": 3,
    "start_time": "2022-02-08T12:11:22.444Z"
   },
   {
    "duration": 739,
    "start_time": "2022-02-08T12:11:22.448Z"
   },
   {
    "duration": 4,
    "start_time": "2022-02-08T12:11:23.188Z"
   },
   {
    "duration": 378,
    "start_time": "2022-02-08T12:11:23.194Z"
   },
   {
    "duration": 124,
    "start_time": "2022-02-08T12:11:23.574Z"
   },
   {
    "duration": 27,
    "start_time": "2022-02-08T12:11:23.700Z"
   },
   {
    "duration": 8,
    "start_time": "2022-02-08T12:11:23.729Z"
   },
   {
    "duration": 13,
    "start_time": "2022-02-08T12:11:23.739Z"
   },
   {
    "duration": 7,
    "start_time": "2022-02-08T12:11:23.754Z"
   },
   {
    "duration": 13,
    "start_time": "2022-02-08T12:11:23.763Z"
   },
   {
    "duration": 1200,
    "start_time": "2022-02-08T14:32:04.189Z"
   },
   {
    "duration": 20,
    "start_time": "2022-02-08T14:32:05.390Z"
   },
   {
    "duration": 5,
    "start_time": "2022-02-08T14:32:05.412Z"
   },
   {
    "duration": 20,
    "start_time": "2022-02-08T14:32:05.418Z"
   },
   {
    "duration": 6,
    "start_time": "2022-02-08T14:32:05.440Z"
   },
   {
    "duration": 24,
    "start_time": "2022-02-08T14:32:05.447Z"
   },
   {
    "duration": 8,
    "start_time": "2022-02-08T14:32:05.472Z"
   },
   {
    "duration": 8,
    "start_time": "2022-02-08T14:32:05.527Z"
   },
   {
    "duration": 7,
    "start_time": "2022-02-08T14:32:05.537Z"
   },
   {
    "duration": 5,
    "start_time": "2022-02-08T14:32:05.546Z"
   },
   {
    "duration": 6,
    "start_time": "2022-02-08T14:32:05.552Z"
   },
   {
    "duration": 8,
    "start_time": "2022-02-08T14:32:05.559Z"
   },
   {
    "duration": 12,
    "start_time": "2022-02-08T14:32:05.568Z"
   },
   {
    "duration": 11,
    "start_time": "2022-02-08T14:32:05.581Z"
   },
   {
    "duration": 362,
    "start_time": "2022-02-08T14:32:05.593Z"
   },
   {
    "duration": 651,
    "start_time": "2022-02-08T14:32:05.956Z"
   },
   {
    "duration": 633,
    "start_time": "2022-02-08T14:32:06.608Z"
   },
   {
    "duration": 727,
    "start_time": "2022-02-08T14:32:07.242Z"
   },
   {
    "duration": 628,
    "start_time": "2022-02-08T14:32:07.970Z"
   },
   {
    "duration": 790,
    "start_time": "2022-02-08T14:32:08.599Z"
   },
   {
    "duration": 99,
    "start_time": "2022-02-08T14:32:09.390Z"
   },
   {
    "duration": 705,
    "start_time": "2022-02-08T14:32:09.490Z"
   },
   {
    "duration": 108,
    "start_time": "2022-02-08T14:32:10.198Z"
   },
   {
    "duration": 21,
    "start_time": "2022-02-08T14:32:10.308Z"
   },
   {
    "duration": 743,
    "start_time": "2022-02-08T14:32:10.330Z"
   },
   {
    "duration": 4,
    "start_time": "2022-02-08T14:32:11.074Z"
   },
   {
    "duration": 264,
    "start_time": "2022-02-08T14:32:11.080Z"
   },
   {
    "duration": 133,
    "start_time": "2022-02-08T14:32:11.345Z"
   },
   {
    "duration": 10,
    "start_time": "2022-02-08T14:32:11.479Z"
   },
   {
    "duration": 8,
    "start_time": "2022-02-08T14:32:11.490Z"
   },
   {
    "duration": 32,
    "start_time": "2022-02-08T14:32:11.500Z"
   },
   {
    "duration": 7,
    "start_time": "2022-02-08T14:32:11.534Z"
   },
   {
    "duration": 12,
    "start_time": "2022-02-08T14:32:11.543Z"
   },
   {
    "duration": 1429,
    "start_time": "2022-02-08T15:22:01.913Z"
   },
   {
    "duration": 32,
    "start_time": "2022-02-08T15:22:03.344Z"
   },
   {
    "duration": 8,
    "start_time": "2022-02-08T15:22:03.382Z"
   },
   {
    "duration": 57,
    "start_time": "2022-02-08T15:22:03.392Z"
   },
   {
    "duration": 10,
    "start_time": "2022-02-08T15:22:03.451Z"
   },
   {
    "duration": 76,
    "start_time": "2022-02-08T15:22:03.463Z"
   },
   {
    "duration": 14,
    "start_time": "2022-02-08T15:22:03.543Z"
   },
   {
    "duration": 17,
    "start_time": "2022-02-08T15:22:03.561Z"
   },
   {
    "duration": 50,
    "start_time": "2022-02-08T15:22:03.580Z"
   },
   {
    "duration": 7,
    "start_time": "2022-02-08T15:22:03.632Z"
   },
   {
    "duration": 6,
    "start_time": "2022-02-08T15:22:03.641Z"
   },
   {
    "duration": 11,
    "start_time": "2022-02-08T15:22:03.649Z"
   },
   {
    "duration": 18,
    "start_time": "2022-02-08T15:22:03.662Z"
   },
   {
    "duration": 16,
    "start_time": "2022-02-08T15:22:03.723Z"
   },
   {
    "duration": 639,
    "start_time": "2022-02-08T15:22:03.742Z"
   },
   {
    "duration": 1196,
    "start_time": "2022-02-08T15:22:04.384Z"
   },
   {
    "duration": 1096,
    "start_time": "2022-02-08T15:22:05.582Z"
   },
   {
    "duration": 1200,
    "start_time": "2022-02-08T15:22:06.681Z"
   },
   {
    "duration": 1088,
    "start_time": "2022-02-08T15:22:07.883Z"
   },
   {
    "duration": 1316,
    "start_time": "2022-02-08T15:22:08.973Z"
   },
   {
    "duration": 192,
    "start_time": "2022-02-08T15:22:10.292Z"
   },
   {
    "duration": 1185,
    "start_time": "2022-02-08T15:22:10.489Z"
   },
   {
    "duration": 207,
    "start_time": "2022-02-08T15:22:11.677Z"
   },
   {
    "duration": 6,
    "start_time": "2022-02-08T15:22:11.888Z"
   },
   {
    "duration": 1226,
    "start_time": "2022-02-08T15:22:11.897Z"
   },
   {
    "duration": 7,
    "start_time": "2022-02-08T15:22:13.125Z"
   },
   {
    "duration": 459,
    "start_time": "2022-02-08T15:22:13.134Z"
   },
   {
    "duration": 210,
    "start_time": "2022-02-08T15:22:13.595Z"
   },
   {
    "duration": 23,
    "start_time": "2022-02-08T15:22:13.807Z"
   },
   {
    "duration": 13,
    "start_time": "2022-02-08T15:22:13.833Z"
   },
   {
    "duration": 12,
    "start_time": "2022-02-08T15:22:13.849Z"
   },
   {
    "duration": 9,
    "start_time": "2022-02-08T15:22:13.863Z"
   },
   {
    "duration": 61,
    "start_time": "2022-02-08T15:22:13.875Z"
   },
   {
    "duration": 367,
    "start_time": "2022-02-09T11:50:29.516Z"
   },
   {
    "duration": 1124,
    "start_time": "2022-02-09T11:50:37.487Z"
   },
   {
    "duration": 20,
    "start_time": "2022-02-09T11:50:38.613Z"
   },
   {
    "duration": 5,
    "start_time": "2022-02-09T11:50:38.635Z"
   },
   {
    "duration": 21,
    "start_time": "2022-02-09T11:50:38.642Z"
   },
   {
    "duration": 6,
    "start_time": "2022-02-09T11:50:38.665Z"
   },
   {
    "duration": 66,
    "start_time": "2022-02-09T11:50:38.672Z"
   },
   {
    "duration": 9,
    "start_time": "2022-02-09T11:50:38.740Z"
   },
   {
    "duration": 14,
    "start_time": "2022-02-09T11:50:38.751Z"
   },
   {
    "duration": 46,
    "start_time": "2022-02-09T11:50:38.767Z"
   },
   {
    "duration": 4,
    "start_time": "2022-02-09T11:50:38.814Z"
   },
   {
    "duration": 13,
    "start_time": "2022-02-09T11:50:38.820Z"
   },
   {
    "duration": 9,
    "start_time": "2022-02-09T11:50:38.834Z"
   },
   {
    "duration": 11,
    "start_time": "2022-02-09T11:50:38.845Z"
   },
   {
    "duration": 10,
    "start_time": "2022-02-09T11:50:38.857Z"
   },
   {
    "duration": 372,
    "start_time": "2022-02-09T11:50:38.869Z"
   },
   {
    "duration": 754,
    "start_time": "2022-02-09T11:50:39.243Z"
   },
   {
    "duration": 709,
    "start_time": "2022-02-09T11:50:39.999Z"
   },
   {
    "duration": 815,
    "start_time": "2022-02-09T11:50:40.712Z"
   },
   {
    "duration": 718,
    "start_time": "2022-02-09T11:50:41.529Z"
   },
   {
    "duration": 811,
    "start_time": "2022-02-09T11:50:42.248Z"
   },
   {
    "duration": 113,
    "start_time": "2022-02-09T11:50:43.060Z"
   },
   {
    "duration": 775,
    "start_time": "2022-02-09T11:50:43.174Z"
   },
   {
    "duration": 125,
    "start_time": "2022-02-09T11:50:43.953Z"
   },
   {
    "duration": 4,
    "start_time": "2022-02-09T11:50:44.080Z"
   },
   {
    "duration": 839,
    "start_time": "2022-02-09T11:50:44.086Z"
   },
   {
    "duration": 813,
    "start_time": "2022-02-09T11:50:44.927Z"
   },
   {
    "duration": 4,
    "start_time": "2022-02-09T11:50:45.742Z"
   },
   {
    "duration": 337,
    "start_time": "2022-02-09T11:50:45.748Z"
   },
   {
    "duration": 131,
    "start_time": "2022-02-09T11:50:46.086Z"
   },
   {
    "duration": 10,
    "start_time": "2022-02-09T11:50:46.219Z"
   },
   {
    "duration": 9,
    "start_time": "2022-02-09T11:50:46.231Z"
   },
   {
    "duration": 13,
    "start_time": "2022-02-09T11:50:46.241Z"
   },
   {
    "duration": 7,
    "start_time": "2022-02-09T11:50:46.255Z"
   },
   {
    "duration": 13,
    "start_time": "2022-02-09T11:50:46.263Z"
   },
   {
    "duration": 59,
    "start_time": "2022-02-09T11:57:55.637Z"
   },
   {
    "duration": 1100,
    "start_time": "2022-02-09T12:31:56.897Z"
   },
   {
    "duration": 22,
    "start_time": "2022-02-09T12:31:58.002Z"
   },
   {
    "duration": 6,
    "start_time": "2022-02-09T12:31:58.026Z"
   },
   {
    "duration": 22,
    "start_time": "2022-02-09T12:31:58.033Z"
   },
   {
    "duration": 6,
    "start_time": "2022-02-09T12:31:58.057Z"
   },
   {
    "duration": 65,
    "start_time": "2022-02-09T12:31:58.065Z"
   },
   {
    "duration": 9,
    "start_time": "2022-02-09T12:31:58.132Z"
   },
   {
    "duration": 10,
    "start_time": "2022-02-09T12:31:58.143Z"
   },
   {
    "duration": 8,
    "start_time": "2022-02-09T12:31:58.155Z"
   },
   {
    "duration": 4,
    "start_time": "2022-02-09T12:31:58.165Z"
   },
   {
    "duration": 44,
    "start_time": "2022-02-09T12:31:58.170Z"
   },
   {
    "duration": 7,
    "start_time": "2022-02-09T12:31:58.216Z"
   },
   {
    "duration": 11,
    "start_time": "2022-02-09T12:31:58.225Z"
   },
   {
    "duration": 14,
    "start_time": "2022-02-09T12:31:58.237Z"
   },
   {
    "duration": 362,
    "start_time": "2022-02-09T12:31:58.252Z"
   },
   {
    "duration": 727,
    "start_time": "2022-02-09T12:31:58.615Z"
   },
   {
    "duration": 699,
    "start_time": "2022-02-09T12:31:59.343Z"
   },
   {
    "duration": 769,
    "start_time": "2022-02-09T12:32:00.043Z"
   },
   {
    "duration": 711,
    "start_time": "2022-02-09T12:32:00.814Z"
   },
   {
    "duration": 793,
    "start_time": "2022-02-09T12:32:01.527Z"
   },
   {
    "duration": 128,
    "start_time": "2022-02-09T12:32:02.321Z"
   },
   {
    "duration": 752,
    "start_time": "2022-02-09T12:32:02.452Z"
   },
   {
    "duration": 122,
    "start_time": "2022-02-09T12:32:03.206Z"
   },
   {
    "duration": 4,
    "start_time": "2022-02-09T12:32:03.330Z"
   },
   {
    "duration": 791,
    "start_time": "2022-02-09T12:32:03.335Z"
   },
   {
    "duration": 807,
    "start_time": "2022-02-09T12:32:04.127Z"
   },
   {
    "duration": 5,
    "start_time": "2022-02-09T12:32:04.936Z"
   },
   {
    "duration": 339,
    "start_time": "2022-02-09T12:32:04.943Z"
   },
   {
    "duration": 118,
    "start_time": "2022-02-09T12:32:05.283Z"
   },
   {
    "duration": 16,
    "start_time": "2022-02-09T12:32:05.403Z"
   },
   {
    "duration": 8,
    "start_time": "2022-02-09T12:32:05.420Z"
   },
   {
    "duration": 14,
    "start_time": "2022-02-09T12:32:05.430Z"
   },
   {
    "duration": 8,
    "start_time": "2022-02-09T12:32:05.445Z"
   },
   {
    "duration": 12,
    "start_time": "2022-02-09T12:32:05.455Z"
   }
  ],
  "kernelspec": {
   "display_name": "Python 3 (ipykernel)",
   "language": "python",
   "name": "python3"
  },
  "language_info": {
   "codemirror_mode": {
    "name": "ipython",
    "version": 3
   },
   "file_extension": ".py",
   "mimetype": "text/x-python",
   "name": "python",
   "nbconvert_exporter": "python",
   "pygments_lexer": "ipython3",
   "version": "3.9.5"
  },
  "toc": {
   "base_numbering": 1,
   "nav_menu": {},
   "number_sections": true,
   "sideBar": true,
   "skip_h1_title": true,
   "title_cell": "Table of Contents",
   "title_sidebar": "Contents",
   "toc_cell": false,
   "toc_position": {
    "height": "calc(100% - 180px)",
    "left": "10px",
    "top": "150px",
    "width": "268.391px"
   },
   "toc_section_display": true,
   "toc_window_display": true
  }
 },
 "nbformat": 4,
 "nbformat_minor": 2
}
