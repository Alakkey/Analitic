{
 "cells": [
  {
   "cell_type": "markdown",
   "metadata": {
    "toc": true
   },
   "source": [
    "<h1>Table of Contents<span class=\"tocSkip\"></span></h1>\n",
    "<div class=\"toc\"><ul class=\"toc-item\"><li><span><a href=\"#1.-Обзор-данных\" data-toc-modified-id=\"1.-Обзор-данных-1\"><span class=\"toc-item-num\">1&nbsp;&nbsp;</span>1. Обзор данных</a></span></li><li><span><a href=\"#2.-Предобработка-данных\" data-toc-modified-id=\"2.-Предобработка-данных-2\"><span class=\"toc-item-num\">2&nbsp;&nbsp;</span>2. Предобработка данных</a></span><ul class=\"toc-item\"><li><span><a href=\"#Обработка-пропусков\" data-toc-modified-id=\"Обработка-пропусков-2.1\"><span class=\"toc-item-num\">2.1&nbsp;&nbsp;</span>Обработка пропусков</a></span></li><li><span><a href=\"#Замена-типа-данных\" data-toc-modified-id=\"Замена-типа-данных-2.2\"><span class=\"toc-item-num\">2.2&nbsp;&nbsp;</span>Замена типа данных</a></span></li><li><span><a href=\"#Обработка-дубликатов\" data-toc-modified-id=\"Обработка-дубликатов-2.3\"><span class=\"toc-item-num\">2.3&nbsp;&nbsp;</span>Обработка дубликатов</a></span></li><li><span><a href=\"#Лемматизация\" data-toc-modified-id=\"Лемматизация-2.4\"><span class=\"toc-item-num\">2.4&nbsp;&nbsp;</span>Лемматизация</a></span></li><li><span><a href=\"#Категоризация-данных\" data-toc-modified-id=\"Категоризация-данных-2.5\"><span class=\"toc-item-num\">2.5&nbsp;&nbsp;</span>Категоризация данных</a></span></li></ul></li><li><span><a href=\"#3.-Ответить-на-поставленые-вопросы\" data-toc-modified-id=\"3.-Ответить-на-поставленые-вопросы-3\"><span class=\"toc-item-num\">3&nbsp;&nbsp;</span>3. Ответить на поставленые вопросы</a></span></li><li><span><a href=\"#4.-Общий-вывод\" data-toc-modified-id=\"4.-Общий-вывод-4\"><span class=\"toc-item-num\">4&nbsp;&nbsp;</span>4. Общий вывод</a></span></li><li><span><a href=\"#Чек-лист-готовности-проекта\" data-toc-modified-id=\"Чек-лист-готовности-проекта-5\"><span class=\"toc-item-num\">5&nbsp;&nbsp;</span>Чек-лист готовности проекта</a></span></li></ul></div>"
   ]
  },
  {
   "cell_type": "markdown",
   "metadata": {},
   "source": [
    "# Исследование надёжности заёмщиков\n",
    "\n",
    "Заказчик — кредитный отдел банка. Нужно разобраться, влияет ли семейное положение и количество детей клиента на факт погашения кредита в срок. Входные данные от банка — статистика о платёжеспособности клиентов.\n",
    "\n",
    "Результаты исследования будут учтены при построении модели **кредитного скоринга** — специальной системы, которая оценивает способность потенциального заёмщика вернуть кредит банку.\n",
    "\n",
    "**Цель иследования** - ответить на вопросы:\n",
    "\n",
    "1. Есть ли зависимость между наличием детей и возвратом кредита в срок?\n",
    "2. Есть ли зависимость между семейным положением и возвратом кредита в срок?\n",
    "3. Есть ли зависимость между уровнем дохода и возвратом кредита в срок?\n",
    "4. Как разные цели кредита влияют на его возврат в срок?\n",
    "\n",
    "**Ход иследования**\n",
    "\n",
    "Входные данные от банка получаем из файла /datasets/data.csv. О качестве данных ничего не известно. Поэтому перед проверкой гепотиз понадобится обзор данных.\n",
    "\n",
    "Таким образом иследование пройдет в четыре этапа:\n",
    "\n",
    "1. Обзор данных.\n",
    "2. Предобработка данных.\n",
    "3. Ответить на поставленые вопросы.\n",
    "4. Написать общий вывод."
   ]
  },
  {
   "cell_type": "markdown",
   "metadata": {},
   "source": [
    "## 1. Обзор данных"
   ]
  },
  {
   "cell_type": "markdown",
   "metadata": {},
   "source": [
    "Импортируем библиотеку `pandas`"
   ]
  },
  {
   "cell_type": "code",
   "execution_count": 1,
   "metadata": {},
   "outputs": [],
   "source": [
    "import pandas as pd # импорт библиотеки pandas"
   ]
  },
  {
   "cell_type": "markdown",
   "metadata": {},
   "source": [
    "Читаем файл data.csv из папки /datasets и сохраните его в переменной df:"
   ]
  },
  {
   "cell_type": "code",
   "execution_count": 2,
   "metadata": {},
   "outputs": [],
   "source": [
    "df = pd.read_csv('/datasets/data.csv') # чтение файла с данными и сохранение в df"
   ]
  },
  {
   "cell_type": "markdown",
   "metadata": {},
   "source": [
    "Выводим на экран первые десять строк таблицы:"
   ]
  },
  {
   "cell_type": "code",
   "execution_count": 3,
   "metadata": {},
   "outputs": [
    {
     "data": {
      "text/html": [
       "<div>\n",
       "<style scoped>\n",
       "    .dataframe tbody tr th:only-of-type {\n",
       "        vertical-align: middle;\n",
       "    }\n",
       "\n",
       "    .dataframe tbody tr th {\n",
       "        vertical-align: top;\n",
       "    }\n",
       "\n",
       "    .dataframe thead th {\n",
       "        text-align: right;\n",
       "    }\n",
       "</style>\n",
       "<table border=\"1\" class=\"dataframe\">\n",
       "  <thead>\n",
       "    <tr style=\"text-align: right;\">\n",
       "      <th></th>\n",
       "      <th>children</th>\n",
       "      <th>days_employed</th>\n",
       "      <th>dob_years</th>\n",
       "      <th>education</th>\n",
       "      <th>education_id</th>\n",
       "      <th>family_status</th>\n",
       "      <th>family_status_id</th>\n",
       "      <th>gender</th>\n",
       "      <th>income_type</th>\n",
       "      <th>debt</th>\n",
       "      <th>total_income</th>\n",
       "      <th>purpose</th>\n",
       "    </tr>\n",
       "  </thead>\n",
       "  <tbody>\n",
       "    <tr>\n",
       "      <td>0</td>\n",
       "      <td>1</td>\n",
       "      <td>-8437.673028</td>\n",
       "      <td>42</td>\n",
       "      <td>высшее</td>\n",
       "      <td>0</td>\n",
       "      <td>женат / замужем</td>\n",
       "      <td>0</td>\n",
       "      <td>F</td>\n",
       "      <td>сотрудник</td>\n",
       "      <td>0</td>\n",
       "      <td>253875.639453</td>\n",
       "      <td>покупка жилья</td>\n",
       "    </tr>\n",
       "    <tr>\n",
       "      <td>1</td>\n",
       "      <td>1</td>\n",
       "      <td>-4024.803754</td>\n",
       "      <td>36</td>\n",
       "      <td>среднее</td>\n",
       "      <td>1</td>\n",
       "      <td>женат / замужем</td>\n",
       "      <td>0</td>\n",
       "      <td>F</td>\n",
       "      <td>сотрудник</td>\n",
       "      <td>0</td>\n",
       "      <td>112080.014102</td>\n",
       "      <td>приобретение автомобиля</td>\n",
       "    </tr>\n",
       "    <tr>\n",
       "      <td>2</td>\n",
       "      <td>0</td>\n",
       "      <td>-5623.422610</td>\n",
       "      <td>33</td>\n",
       "      <td>Среднее</td>\n",
       "      <td>1</td>\n",
       "      <td>женат / замужем</td>\n",
       "      <td>0</td>\n",
       "      <td>M</td>\n",
       "      <td>сотрудник</td>\n",
       "      <td>0</td>\n",
       "      <td>145885.952297</td>\n",
       "      <td>покупка жилья</td>\n",
       "    </tr>\n",
       "    <tr>\n",
       "      <td>3</td>\n",
       "      <td>3</td>\n",
       "      <td>-4124.747207</td>\n",
       "      <td>32</td>\n",
       "      <td>среднее</td>\n",
       "      <td>1</td>\n",
       "      <td>женат / замужем</td>\n",
       "      <td>0</td>\n",
       "      <td>M</td>\n",
       "      <td>сотрудник</td>\n",
       "      <td>0</td>\n",
       "      <td>267628.550329</td>\n",
       "      <td>дополнительное образование</td>\n",
       "    </tr>\n",
       "    <tr>\n",
       "      <td>4</td>\n",
       "      <td>0</td>\n",
       "      <td>340266.072047</td>\n",
       "      <td>53</td>\n",
       "      <td>среднее</td>\n",
       "      <td>1</td>\n",
       "      <td>гражданский брак</td>\n",
       "      <td>1</td>\n",
       "      <td>F</td>\n",
       "      <td>пенсионер</td>\n",
       "      <td>0</td>\n",
       "      <td>158616.077870</td>\n",
       "      <td>сыграть свадьбу</td>\n",
       "    </tr>\n",
       "    <tr>\n",
       "      <td>...</td>\n",
       "      <td>...</td>\n",
       "      <td>...</td>\n",
       "      <td>...</td>\n",
       "      <td>...</td>\n",
       "      <td>...</td>\n",
       "      <td>...</td>\n",
       "      <td>...</td>\n",
       "      <td>...</td>\n",
       "      <td>...</td>\n",
       "      <td>...</td>\n",
       "      <td>...</td>\n",
       "      <td>...</td>\n",
       "    </tr>\n",
       "    <tr>\n",
       "      <td>21520</td>\n",
       "      <td>1</td>\n",
       "      <td>-4529.316663</td>\n",
       "      <td>43</td>\n",
       "      <td>среднее</td>\n",
       "      <td>1</td>\n",
       "      <td>гражданский брак</td>\n",
       "      <td>1</td>\n",
       "      <td>F</td>\n",
       "      <td>компаньон</td>\n",
       "      <td>0</td>\n",
       "      <td>224791.862382</td>\n",
       "      <td>операции с жильем</td>\n",
       "    </tr>\n",
       "    <tr>\n",
       "      <td>21521</td>\n",
       "      <td>0</td>\n",
       "      <td>343937.404131</td>\n",
       "      <td>67</td>\n",
       "      <td>среднее</td>\n",
       "      <td>1</td>\n",
       "      <td>женат / замужем</td>\n",
       "      <td>0</td>\n",
       "      <td>F</td>\n",
       "      <td>пенсионер</td>\n",
       "      <td>0</td>\n",
       "      <td>155999.806512</td>\n",
       "      <td>сделка с автомобилем</td>\n",
       "    </tr>\n",
       "    <tr>\n",
       "      <td>21522</td>\n",
       "      <td>1</td>\n",
       "      <td>-2113.346888</td>\n",
       "      <td>38</td>\n",
       "      <td>среднее</td>\n",
       "      <td>1</td>\n",
       "      <td>гражданский брак</td>\n",
       "      <td>1</td>\n",
       "      <td>M</td>\n",
       "      <td>сотрудник</td>\n",
       "      <td>1</td>\n",
       "      <td>89672.561153</td>\n",
       "      <td>недвижимость</td>\n",
       "    </tr>\n",
       "    <tr>\n",
       "      <td>21523</td>\n",
       "      <td>3</td>\n",
       "      <td>-3112.481705</td>\n",
       "      <td>38</td>\n",
       "      <td>среднее</td>\n",
       "      <td>1</td>\n",
       "      <td>женат / замужем</td>\n",
       "      <td>0</td>\n",
       "      <td>M</td>\n",
       "      <td>сотрудник</td>\n",
       "      <td>1</td>\n",
       "      <td>244093.050500</td>\n",
       "      <td>на покупку своего автомобиля</td>\n",
       "    </tr>\n",
       "    <tr>\n",
       "      <td>21524</td>\n",
       "      <td>2</td>\n",
       "      <td>-1984.507589</td>\n",
       "      <td>40</td>\n",
       "      <td>среднее</td>\n",
       "      <td>1</td>\n",
       "      <td>женат / замужем</td>\n",
       "      <td>0</td>\n",
       "      <td>F</td>\n",
       "      <td>сотрудник</td>\n",
       "      <td>0</td>\n",
       "      <td>82047.418899</td>\n",
       "      <td>на покупку автомобиля</td>\n",
       "    </tr>\n",
       "  </tbody>\n",
       "</table>\n",
       "<p>21525 rows × 12 columns</p>\n",
       "</div>"
      ],
      "text/plain": [
       "       children  days_employed  dob_years education  education_id  \\\n",
       "0             1   -8437.673028         42    высшее             0   \n",
       "1             1   -4024.803754         36   среднее             1   \n",
       "2             0   -5623.422610         33   Среднее             1   \n",
       "3             3   -4124.747207         32   среднее             1   \n",
       "4             0  340266.072047         53   среднее             1   \n",
       "...         ...            ...        ...       ...           ...   \n",
       "21520         1   -4529.316663         43   среднее             1   \n",
       "21521         0  343937.404131         67   среднее             1   \n",
       "21522         1   -2113.346888         38   среднее             1   \n",
       "21523         3   -3112.481705         38   среднее             1   \n",
       "21524         2   -1984.507589         40   среднее             1   \n",
       "\n",
       "          family_status  family_status_id gender income_type  debt  \\\n",
       "0       женат / замужем                 0      F   сотрудник     0   \n",
       "1       женат / замужем                 0      F   сотрудник     0   \n",
       "2       женат / замужем                 0      M   сотрудник     0   \n",
       "3       женат / замужем                 0      M   сотрудник     0   \n",
       "4      гражданский брак                 1      F   пенсионер     0   \n",
       "...                 ...               ...    ...         ...   ...   \n",
       "21520  гражданский брак                 1      F   компаньон     0   \n",
       "21521   женат / замужем                 0      F   пенсионер     0   \n",
       "21522  гражданский брак                 1      M   сотрудник     1   \n",
       "21523   женат / замужем                 0      M   сотрудник     1   \n",
       "21524   женат / замужем                 0      F   сотрудник     0   \n",
       "\n",
       "        total_income                       purpose  \n",
       "0      253875.639453                 покупка жилья  \n",
       "1      112080.014102       приобретение автомобиля  \n",
       "2      145885.952297                 покупка жилья  \n",
       "3      267628.550329    дополнительное образование  \n",
       "4      158616.077870               сыграть свадьбу  \n",
       "...              ...                           ...  \n",
       "21520  224791.862382             операции с жильем  \n",
       "21521  155999.806512          сделка с автомобилем  \n",
       "21522   89672.561153                  недвижимость  \n",
       "21523  244093.050500  на покупку своего автомобиля  \n",
       "21524   82047.418899         на покупку автомобиля  \n",
       "\n",
       "[21525 rows x 12 columns]"
      ]
     },
     "metadata": {},
     "output_type": "display_data"
    }
   ],
   "source": [
    "display(df) # получение первых 10 строк таблицы df"
   ]
  },
  {
   "cell_type": "markdown",
   "metadata": {},
   "source": [
    "Получаем общую информацию о таблице:"
   ]
  },
  {
   "cell_type": "code",
   "execution_count": 4,
   "metadata": {},
   "outputs": [
    {
     "name": "stdout",
     "output_type": "stream",
     "text": [
      "<class 'pandas.core.frame.DataFrame'>\n",
      "RangeIndex: 21525 entries, 0 to 21524\n",
      "Data columns (total 12 columns):\n",
      "children            21525 non-null int64\n",
      "days_employed       19351 non-null float64\n",
      "dob_years           21525 non-null int64\n",
      "education           21525 non-null object\n",
      "education_id        21525 non-null int64\n",
      "family_status       21525 non-null object\n",
      "family_status_id    21525 non-null int64\n",
      "gender              21525 non-null object\n",
      "income_type         21525 non-null object\n",
      "debt                21525 non-null int64\n",
      "total_income        19351 non-null float64\n",
      "purpose             21525 non-null object\n",
      "dtypes: float64(2), int64(5), object(5)\n",
      "memory usage: 2.0+ MB\n"
     ]
    }
   ],
   "source": [
    "df.info() #получение общей информации о таблице"
   ]
  },
  {
   "cell_type": "markdown",
   "metadata": {},
   "source": [
    "Итак, в таблице двенадцать столбцов.\n",
    "\n",
    "Согласно документации к данным:\n",
    "\n",
    "* `children` — количество детей в семье\n",
    "* `days_employed` — общий трудовой стаж в днях\n",
    "* `dob_years` — возраст клиента в годах\n",
    "* `education` — уровень образования клиента\n",
    "* `education_id` — идентификатор уровня образования\n",
    "* `family_status` — семейное положение\n",
    "* `family_status_id` — идентификатор семейного положения\n",
    "* `gender` — пол клиента\n",
    "* `income_type` — тип занятости\n",
    "* `debt` — имел ли задолженность по возврату кредитов\n",
    "* `total_income` — ежемесячный доход\n",
    "* `purpose` — цель получения кредита\n",
    "\n",
    "Количество значений в столбцах различаются. Значит, в данных есть пропущенные значения."
   ]
  },
  {
   "cell_type": "markdown",
   "metadata": {},
   "source": [
    "**Вывод**\n",
    "\n",
    "В каждой строке таблицы - данные о заёмщике.\n",
    "Предварительно можно утверждать, что, данных достаточно для проверки гипотез. Но встречаются пропуски в данных.\n",
    "\n",
    "Чтобы двигаться дальше, нужно устранить проблемы в данных."
   ]
  },
  {
   "cell_type": "markdown",
   "metadata": {},
   "source": [
    "## 2. Предобработка данных"
   ]
  },
  {
   "cell_type": "markdown",
   "metadata": {},
   "source": [
    "### Обработка пропусков"
   ]
  },
  {
   "cell_type": "markdown",
   "metadata": {},
   "source": [
    "Сначало подсчитаем сколько в таблице пропущенных значений. Для этого достаточно двух методов `pandas`:"
   ]
  },
  {
   "cell_type": "code",
   "execution_count": 5,
   "metadata": {},
   "outputs": [
    {
     "data": {
      "text/plain": [
       "'Пропуски до:'"
      ]
     },
     "metadata": {},
     "output_type": "display_data"
    },
    {
     "data": {
      "text/plain": [
       "children               0\n",
       "days_employed       2174\n",
       "dob_years              0\n",
       "education              0\n",
       "education_id           0\n",
       "family_status          0\n",
       "family_status_id       0\n",
       "gender                 0\n",
       "income_type            0\n",
       "debt                   0\n",
       "total_income        2174\n",
       "purpose                0\n",
       "dtype: int64"
      ]
     },
     "metadata": {},
     "output_type": "display_data"
    }
   ],
   "source": [
    "display('Пропуски до:', df.isna().sum()) # подсчёт пропусков"
   ]
  },
  {
   "cell_type": "markdown",
   "metadata": {},
   "source": [
    "В столбце `days_employed` и `total_income` были обноружены пропуски.\n",
    "Видимо информация по этим столбцам не предоставлялась."
   ]
  },
  {
   "cell_type": "code",
   "execution_count": 6,
   "metadata": {},
   "outputs": [],
   "source": [
    "df.loc[df['days_employed'].isna(), 'days_employed'] = df['days_employed'].median() # применим метод .median()\n",
    "df.loc[df['total_income'].isna(), 'total_income'] = df['total_income'].median()"
   ]
  },
  {
   "cell_type": "markdown",
   "metadata": {},
   "source": [
    "Убедимся, что в таблицу не осталось пропусков. Для этого ещё раз подсчитаем пропущенные значения."
   ]
  },
  {
   "cell_type": "code",
   "execution_count": 7,
   "metadata": {},
   "outputs": [
    {
     "data": {
      "text/plain": [
       "'Пропуски после:'"
      ]
     },
     "metadata": {},
     "output_type": "display_data"
    },
    {
     "data": {
      "text/plain": [
       "children            0\n",
       "days_employed       0\n",
       "dob_years           0\n",
       "education           0\n",
       "education_id        0\n",
       "family_status       0\n",
       "family_status_id    0\n",
       "gender              0\n",
       "income_type         0\n",
       "debt                0\n",
       "total_income        0\n",
       "purpose             0\n",
       "dtype: int64"
      ]
     },
     "metadata": {},
     "output_type": "display_data"
    }
   ],
   "source": [
    "display('Пропуски после:', df.isna().sum()) # посчёт пропусков"
   ]
  },
  {
   "cell_type": "markdown",
   "metadata": {},
   "source": [
    "**Вывод**"
   ]
  },
  {
   "cell_type": "markdown",
   "metadata": {},
   "source": [
    "В нашем случае, для корректных подсчётов, будет правельней заполнить их средними значениями методом `median()`"
   ]
  },
  {
   "cell_type": "markdown",
   "metadata": {},
   "source": [
    "### Замена типа данных"
   ]
  },
  {
   "cell_type": "markdown",
   "metadata": {},
   "source": [
    "Вызовим общую информацию о данных в таблице."
   ]
  },
  {
   "cell_type": "code",
   "execution_count": 8,
   "metadata": {},
   "outputs": [
    {
     "name": "stdout",
     "output_type": "stream",
     "text": [
      "<class 'pandas.core.frame.DataFrame'>\n",
      "RangeIndex: 21525 entries, 0 to 21524\n",
      "Data columns (total 12 columns):\n",
      "children            21525 non-null int64\n",
      "days_employed       21525 non-null float64\n",
      "dob_years           21525 non-null int64\n",
      "education           21525 non-null object\n",
      "education_id        21525 non-null int64\n",
      "family_status       21525 non-null object\n",
      "family_status_id    21525 non-null int64\n",
      "gender              21525 non-null object\n",
      "income_type         21525 non-null object\n",
      "debt                21525 non-null int64\n",
      "total_income        21525 non-null float64\n",
      "purpose             21525 non-null object\n",
      "dtypes: float64(2), int64(5), object(5)\n",
      "memory usage: 2.0+ MB\n"
     ]
    }
   ],
   "source": [
    "df.info() # получение информаци о данных в таблице"
   ]
  },
  {
   "cell_type": "markdown",
   "metadata": {},
   "source": [
    "В столбцах `days_employed` и `total_income` стоят типы данных `float64`\n",
    "\n",
    "Нужно перевести их в целые числа (int)\n"
   ]
  },
  {
   "cell_type": "code",
   "execution_count": 9,
   "metadata": {},
   "outputs": [],
   "source": [
    "df['days_employed'] = df['days_employed'].astype('int') # вызовим метод astype для получения нужного типа значений\n",
    "df['total_income'] = df['total_income'].astype('int') # вызовим метод astype для получения нужного типа значений"
   ]
  },
  {
   "cell_type": "markdown",
   "metadata": {},
   "source": [
    "Проверим изменения."
   ]
  },
  {
   "cell_type": "code",
   "execution_count": 10,
   "metadata": {},
   "outputs": [
    {
     "name": "stdout",
     "output_type": "stream",
     "text": [
      "<class 'pandas.core.frame.DataFrame'>\n",
      "RangeIndex: 21525 entries, 0 to 21524\n",
      "Data columns (total 12 columns):\n",
      "children            21525 non-null int64\n",
      "days_employed       21525 non-null int64\n",
      "dob_years           21525 non-null int64\n",
      "education           21525 non-null object\n",
      "education_id        21525 non-null int64\n",
      "family_status       21525 non-null object\n",
      "family_status_id    21525 non-null int64\n",
      "gender              21525 non-null object\n",
      "income_type         21525 non-null object\n",
      "debt                21525 non-null int64\n",
      "total_income        21525 non-null int64\n",
      "purpose             21525 non-null object\n",
      "dtypes: int64(7), object(5)\n",
      "memory usage: 2.0+ MB\n"
     ]
    }
   ],
   "source": [
    "df.info() "
   ]
  },
  {
   "cell_type": "markdown",
   "metadata": {},
   "source": [
    "Так же в столбце `days_employed` были замечены две аномалии:\n",
    "* отрицательные числа \n",
    "* очень большие значения\n",
    "\n",
    "Решение:\n",
    "* привести все значения к положительным значениям.\n",
    "\n",
    "* числа, которые больще 200000, разделить на 24. Так как они указаны в часах, а не в днях."
   ]
  },
  {
   "cell_type": "code",
   "execution_count": 11,
   "metadata": {},
   "outputs": [],
   "source": [
    "df['days_employed'] = df['days_employed'].apply(abs) # вызовим метод apply(abs)  \n",
    "def days_in_ags(i): # напишим функцию, котрая будет делить все числа больше 200000 на 24 \n",
    "    if i > 200000:\n",
    "        i = i/24\n",
    "        return i\n",
    "    \n",
    "    return i\n",
    "df['days_employed'] = df['days_employed'].apply(days_in_ags) # применим функцию к столбцу"
   ]
  },
  {
   "cell_type": "code",
   "execution_count": 36,
   "metadata": {},
   "outputs": [
    {
     "data": {
      "text/plain": [
       "0         8437.000000\n",
       "1         4024.000000\n",
       "2         5623.000000\n",
       "3         4124.000000\n",
       "4        14177.750000\n",
       "             ...     \n",
       "21466     4529.000000\n",
       "21467    14330.708333\n",
       "21468     2113.000000\n",
       "21469     3112.000000\n",
       "21470     1984.000000\n",
       "Name: days_employed, Length: 21471, dtype: float64"
      ]
     },
     "execution_count": 36,
     "metadata": {},
     "output_type": "execute_result"
    }
   ],
   "source": [
    "df['days_employed'].abs()"
   ]
  },
  {
   "cell_type": "markdown",
   "metadata": {},
   "source": [
    "Проверим результат"
   ]
  },
  {
   "cell_type": "code",
   "execution_count": 12,
   "metadata": {
    "scrolled": true
   },
   "outputs": [
    {
     "data": {
      "text/html": [
       "<div>\n",
       "<style scoped>\n",
       "    .dataframe tbody tr th:only-of-type {\n",
       "        vertical-align: middle;\n",
       "    }\n",
       "\n",
       "    .dataframe tbody tr th {\n",
       "        vertical-align: top;\n",
       "    }\n",
       "\n",
       "    .dataframe thead th {\n",
       "        text-align: right;\n",
       "    }\n",
       "</style>\n",
       "<table border=\"1\" class=\"dataframe\">\n",
       "  <thead>\n",
       "    <tr style=\"text-align: right;\">\n",
       "      <th></th>\n",
       "      <th>children</th>\n",
       "      <th>days_employed</th>\n",
       "      <th>dob_years</th>\n",
       "      <th>education</th>\n",
       "      <th>education_id</th>\n",
       "      <th>family_status</th>\n",
       "      <th>family_status_id</th>\n",
       "      <th>gender</th>\n",
       "      <th>income_type</th>\n",
       "      <th>debt</th>\n",
       "      <th>total_income</th>\n",
       "      <th>purpose</th>\n",
       "    </tr>\n",
       "  </thead>\n",
       "  <tbody>\n",
       "    <tr>\n",
       "      <td>0</td>\n",
       "      <td>1</td>\n",
       "      <td>8437.00</td>\n",
       "      <td>42</td>\n",
       "      <td>высшее</td>\n",
       "      <td>0</td>\n",
       "      <td>женат / замужем</td>\n",
       "      <td>0</td>\n",
       "      <td>F</td>\n",
       "      <td>сотрудник</td>\n",
       "      <td>0</td>\n",
       "      <td>253875</td>\n",
       "      <td>покупка жилья</td>\n",
       "    </tr>\n",
       "    <tr>\n",
       "      <td>1</td>\n",
       "      <td>1</td>\n",
       "      <td>4024.00</td>\n",
       "      <td>36</td>\n",
       "      <td>среднее</td>\n",
       "      <td>1</td>\n",
       "      <td>женат / замужем</td>\n",
       "      <td>0</td>\n",
       "      <td>F</td>\n",
       "      <td>сотрудник</td>\n",
       "      <td>0</td>\n",
       "      <td>112080</td>\n",
       "      <td>приобретение автомобиля</td>\n",
       "    </tr>\n",
       "    <tr>\n",
       "      <td>2</td>\n",
       "      <td>0</td>\n",
       "      <td>5623.00</td>\n",
       "      <td>33</td>\n",
       "      <td>Среднее</td>\n",
       "      <td>1</td>\n",
       "      <td>женат / замужем</td>\n",
       "      <td>0</td>\n",
       "      <td>M</td>\n",
       "      <td>сотрудник</td>\n",
       "      <td>0</td>\n",
       "      <td>145885</td>\n",
       "      <td>покупка жилья</td>\n",
       "    </tr>\n",
       "    <tr>\n",
       "      <td>3</td>\n",
       "      <td>3</td>\n",
       "      <td>4124.00</td>\n",
       "      <td>32</td>\n",
       "      <td>среднее</td>\n",
       "      <td>1</td>\n",
       "      <td>женат / замужем</td>\n",
       "      <td>0</td>\n",
       "      <td>M</td>\n",
       "      <td>сотрудник</td>\n",
       "      <td>0</td>\n",
       "      <td>267628</td>\n",
       "      <td>дополнительное образование</td>\n",
       "    </tr>\n",
       "    <tr>\n",
       "      <td>4</td>\n",
       "      <td>0</td>\n",
       "      <td>14177.75</td>\n",
       "      <td>53</td>\n",
       "      <td>среднее</td>\n",
       "      <td>1</td>\n",
       "      <td>гражданский брак</td>\n",
       "      <td>1</td>\n",
       "      <td>F</td>\n",
       "      <td>пенсионер</td>\n",
       "      <td>0</td>\n",
       "      <td>158616</td>\n",
       "      <td>сыграть свадьбу</td>\n",
       "    </tr>\n",
       "    <tr>\n",
       "      <td>5</td>\n",
       "      <td>0</td>\n",
       "      <td>926.00</td>\n",
       "      <td>27</td>\n",
       "      <td>высшее</td>\n",
       "      <td>0</td>\n",
       "      <td>гражданский брак</td>\n",
       "      <td>1</td>\n",
       "      <td>M</td>\n",
       "      <td>компаньон</td>\n",
       "      <td>0</td>\n",
       "      <td>255763</td>\n",
       "      <td>покупка жилья</td>\n",
       "    </tr>\n",
       "    <tr>\n",
       "      <td>6</td>\n",
       "      <td>0</td>\n",
       "      <td>2879.00</td>\n",
       "      <td>43</td>\n",
       "      <td>высшее</td>\n",
       "      <td>0</td>\n",
       "      <td>женат / замужем</td>\n",
       "      <td>0</td>\n",
       "      <td>F</td>\n",
       "      <td>компаньон</td>\n",
       "      <td>0</td>\n",
       "      <td>240525</td>\n",
       "      <td>операции с жильем</td>\n",
       "    </tr>\n",
       "    <tr>\n",
       "      <td>7</td>\n",
       "      <td>0</td>\n",
       "      <td>152.00</td>\n",
       "      <td>50</td>\n",
       "      <td>СРЕДНЕЕ</td>\n",
       "      <td>1</td>\n",
       "      <td>женат / замужем</td>\n",
       "      <td>0</td>\n",
       "      <td>M</td>\n",
       "      <td>сотрудник</td>\n",
       "      <td>0</td>\n",
       "      <td>135823</td>\n",
       "      <td>образование</td>\n",
       "    </tr>\n",
       "    <tr>\n",
       "      <td>8</td>\n",
       "      <td>2</td>\n",
       "      <td>6929.00</td>\n",
       "      <td>35</td>\n",
       "      <td>ВЫСШЕЕ</td>\n",
       "      <td>0</td>\n",
       "      <td>гражданский брак</td>\n",
       "      <td>1</td>\n",
       "      <td>F</td>\n",
       "      <td>сотрудник</td>\n",
       "      <td>0</td>\n",
       "      <td>95856</td>\n",
       "      <td>на проведение свадьбы</td>\n",
       "    </tr>\n",
       "    <tr>\n",
       "      <td>9</td>\n",
       "      <td>0</td>\n",
       "      <td>2188.00</td>\n",
       "      <td>41</td>\n",
       "      <td>среднее</td>\n",
       "      <td>1</td>\n",
       "      <td>женат / замужем</td>\n",
       "      <td>0</td>\n",
       "      <td>M</td>\n",
       "      <td>сотрудник</td>\n",
       "      <td>0</td>\n",
       "      <td>144425</td>\n",
       "      <td>покупка жилья для семьи</td>\n",
       "    </tr>\n",
       "  </tbody>\n",
       "</table>\n",
       "</div>"
      ],
      "text/plain": [
       "   children  days_employed  dob_years education  education_id  \\\n",
       "0         1        8437.00         42    высшее             0   \n",
       "1         1        4024.00         36   среднее             1   \n",
       "2         0        5623.00         33   Среднее             1   \n",
       "3         3        4124.00         32   среднее             1   \n",
       "4         0       14177.75         53   среднее             1   \n",
       "5         0         926.00         27    высшее             0   \n",
       "6         0        2879.00         43    высшее             0   \n",
       "7         0         152.00         50   СРЕДНЕЕ             1   \n",
       "8         2        6929.00         35    ВЫСШЕЕ             0   \n",
       "9         0        2188.00         41   среднее             1   \n",
       "\n",
       "      family_status  family_status_id gender income_type  debt  total_income  \\\n",
       "0   женат / замужем                 0      F   сотрудник     0        253875   \n",
       "1   женат / замужем                 0      F   сотрудник     0        112080   \n",
       "2   женат / замужем                 0      M   сотрудник     0        145885   \n",
       "3   женат / замужем                 0      M   сотрудник     0        267628   \n",
       "4  гражданский брак                 1      F   пенсионер     0        158616   \n",
       "5  гражданский брак                 1      M   компаньон     0        255763   \n",
       "6   женат / замужем                 0      F   компаньон     0        240525   \n",
       "7   женат / замужем                 0      M   сотрудник     0        135823   \n",
       "8  гражданский брак                 1      F   сотрудник     0         95856   \n",
       "9   женат / замужем                 0      M   сотрудник     0        144425   \n",
       "\n",
       "                      purpose  \n",
       "0               покупка жилья  \n",
       "1     приобретение автомобиля  \n",
       "2               покупка жилья  \n",
       "3  дополнительное образование  \n",
       "4             сыграть свадьбу  \n",
       "5               покупка жилья  \n",
       "6           операции с жильем  \n",
       "7                 образование  \n",
       "8       на проведение свадьбы  \n",
       "9     покупка жилья для семьи  "
      ]
     },
     "metadata": {},
     "output_type": "display_data"
    }
   ],
   "source": [
    "display(df.head(10)) # ввызовим первые 10 строк нашей таблицы"
   ]
  },
  {
   "cell_type": "markdown",
   "metadata": {},
   "source": [
    "**Вывод**"
   ]
  },
  {
   "cell_type": "markdown",
   "metadata": {},
   "source": [
    "К столбцам `days_employed` и `total_income` применили метода astype() - С помошью этого метода, можно перевести в нужный тип значения."
   ]
  },
  {
   "cell_type": "markdown",
   "metadata": {},
   "source": [
    "### Обработка дубликатов"
   ]
  },
  {
   "cell_type": "markdown",
   "metadata": {},
   "source": [
    "Подсчитаем явные дубликаты в таблице."
   ]
  },
  {
   "cell_type": "code",
   "execution_count": 13,
   "metadata": {},
   "outputs": [
    {
     "data": {
      "text/plain": [
       "54"
      ]
     },
     "execution_count": 13,
     "metadata": {},
     "output_type": "execute_result"
    }
   ],
   "source": [
    "df.duplicated().sum() # подсчёт явных дубликатов"
   ]
  },
  {
   "cell_type": "markdown",
   "metadata": {},
   "source": [
    "Вызовите специальный метод `pandas`, чтобы удалить явные дубликаты:"
   ]
  },
  {
   "cell_type": "code",
   "execution_count": 14,
   "metadata": {},
   "outputs": [],
   "source": [
    "df = df.drop_duplicates().reset_index(drop=True) # удаление явных дубликатов"
   ]
  },
  {
   "cell_type": "markdown",
   "metadata": {},
   "source": [
    "Проверим результат"
   ]
  },
  {
   "cell_type": "code",
   "execution_count": 15,
   "metadata": {},
   "outputs": [
    {
     "data": {
      "text/plain": [
       "0"
      ]
     },
     "execution_count": 15,
     "metadata": {},
     "output_type": "execute_result"
    }
   ],
   "source": [
    "df.duplicated().sum() # подсчёт явных дубликатов"
   ]
  },
  {
   "cell_type": "markdown",
   "metadata": {},
   "source": [
    "**Вывод**"
   ]
  },
  {
   "cell_type": "markdown",
   "metadata": {},
   "source": [
    "Для удаления явных дубликатов был выбран метод `.drop_duplicates().reset_index(drop=True)` так как он удаляет старые индексы и формирует новые."
   ]
  },
  {
   "cell_type": "markdown",
   "metadata": {},
   "source": [
    "### Лемматизация"
   ]
  },
  {
   "cell_type": "markdown",
   "metadata": {},
   "source": [
    "Импотрируем библиотеку `PyMystem` и сохраним в переменную `m` для удобства"
   ]
  },
  {
   "cell_type": "code",
   "execution_count": 16,
   "metadata": {},
   "outputs": [],
   "source": [
    "from pymystem3 import Mystem \n",
    "m = Mystem()\n",
    "from collections import Counter"
   ]
  },
  {
   "cell_type": "markdown",
   "metadata": {},
   "source": [
    "Получим уникальные значения столбца `purpose`"
   ]
  },
  {
   "cell_type": "code",
   "execution_count": 17,
   "metadata": {},
   "outputs": [],
   "source": [
    "purpose_list = df['purpose'].unique()"
   ]
  },
  {
   "cell_type": "markdown",
   "metadata": {},
   "source": [
    "Объеденим их в одну строку с помощью `join` и лемматизируем"
   ]
  },
  {
   "cell_type": "code",
   "execution_count": 18,
   "metadata": {},
   "outputs": [],
   "source": [
    "purpose_str = m.lemmatize(''.join(df['purpose']))"
   ]
  },
  {
   "cell_type": "markdown",
   "metadata": {},
   "source": [
    "Для подсчёта числа упоминаний в тексте лемматизированых слов, вызовем контейнер `Couter` из модуля `colletions` "
   ]
  },
  {
   "cell_type": "code",
   "execution_count": 19,
   "metadata": {},
   "outputs": [
    {
     "data": {
      "text/plain": [
       "Counter({'покупка': 1456,\n",
       "         ' ': 33596,\n",
       "         'жильяприобретение': 24,\n",
       "         'автомобиляпокупка': 414,\n",
       "         'жильядополнительный': 23,\n",
       "         'образованиесыграть': 58,\n",
       "         'свадьбупокупка': 173,\n",
       "         'жильяоперация': 151,\n",
       "         'с': 2918,\n",
       "         'жильемобразованиен': 7,\n",
       "         'проведение': 773,\n",
       "         'свадьбыпокупка': 167,\n",
       "         'жилье': 1290,\n",
       "         'для': 1290,\n",
       "         'семьипокупка': 128,\n",
       "         'недвижимостипокупка': 799,\n",
       "         'коммерческий': 1312,\n",
       "         'недвижимостисыграть': 129,\n",
       "         'свадьбуприобретение': 15,\n",
       "         'жилой': 1231,\n",
       "         'недвижимостистроительство': 311,\n",
       "         'собственный': 635,\n",
       "         'недвижимостинедвижимостьстроительство': 12,\n",
       "         'недвижимостина': 396,\n",
       "         'подержать': 896,\n",
       "         'автомобиляна': 183,\n",
       "         'свой': 1705,\n",
       "         'автомобилянедвижимостьприобретение': 2,\n",
       "         'подержанный': 68,\n",
       "         'автомобилясыграть': 73,\n",
       "         'свадьбуоперация': 102,\n",
       "         'недвижимостьюпокупка': 390,\n",
       "         'недвижимостиобразованиестроительство': 9,\n",
       "         'недвижимостиоперация': 462,\n",
       "         'недвижимостьюжильен': 8,\n",
       "         'со': 627,\n",
       "         'недвижимостьюн': 198,\n",
       "         'свадьбыавтомобилиприобретение': 2,\n",
       "         'автомобиляобразованиезаняться': 3,\n",
       "         'образованиемпокупка': 210,\n",
       "         'недвижимостисделка': 161,\n",
       "         'автомобилемполучение': 61,\n",
       "         'образованияприобретение': 30,\n",
       "         'свое': 47,\n",
       "         'автомобилязаняться': 77,\n",
       "         'образованиемсделка': 30,\n",
       "         'автомобилемный': 101,\n",
       "         'свадьбыстроительство': 68,\n",
       "         'недвижимостиавтомобильавтомобилисвадьбаполучение': 1,\n",
       "         'дополнительный': 447,\n",
       "         'образованияпокупка': 263,\n",
       "         'жильяавтомобилисыграть': 4,\n",
       "         'свадьбуобразованиеобразованиенедвижимостьоперация': 1,\n",
       "         'недвижимостьюзаняться': 85,\n",
       "         'недвижимостиполучение': 219,\n",
       "         'высокий': 922,\n",
       "         'образованияоперация': 157,\n",
       "         'жильемсделка': 27,\n",
       "         'автомобилемоперация': 123,\n",
       "         'семьиоперация': 75,\n",
       "         'жильяпокупка': 263,\n",
       "         'недвижимостиавтомобилиоперация': 15,\n",
       "         'автомобилясва': 43,\n",
       "         'автомобильсделка': 25,\n",
       "         'автомобилемавтомобилисделка': 2,\n",
       "         'автомобилемпрофильный': 12,\n",
       "         'образованиежильежильеоперация': 1,\n",
       "         'недвижимостьювысший': 48,\n",
       "         'образованиесвадьбапокупка': 16,\n",
       "         'сдачина': 66,\n",
       "         'свадьбысделка': 18,\n",
       "         'жильемпокупка': 131,\n",
       "         'свадьбусделка': 49,\n",
       "         'свадьбыавтомобильпокупка': 7,\n",
       "         'недвижимостипрофильный': 76,\n",
       "         'образованиепокупка': 271,\n",
       "         'сдачиавтомобильоперация': 1,\n",
       "         'автомобилястроительство': 187,\n",
       "         'сдачистроительство': 63,\n",
       "         'автомобилемобразованиепокупка': 2,\n",
       "         'жильянедвижимостьнедвижимостьобразованиеоперация': 1,\n",
       "         'недвижимостьюоперация': 253,\n",
       "         'недвижимостивысший': 82,\n",
       "         'образованиеавтомобильавтомобилипокупка': 1,\n",
       "         'сдачиоперация': 76,\n",
       "         'недвижимостьюсвадьбастроительство': 10,\n",
       "         'автомобилемавтомобильоперация': 4,\n",
       "         'недвижимостьюполучение': 122,\n",
       "         'образованияавтомобильобразованиепокупка': 2,\n",
       "         'недвижимостижильеоперация': 16,\n",
       "         'недвижимостьюсыграть': 79,\n",
       "         'жильяремонт': 33,\n",
       "         'жильюпокупка': 130,\n",
       "         'недвижимостисвадьбасделка': 9,\n",
       "         'автомобилемстроительство': 83,\n",
       "         'недвижимостисваивать': 80,\n",
       "         'автомобильстроительство': 48,\n",
       "         'автомобиляоперация': 222,\n",
       "         'жильемсыграть': 27,\n",
       "         'свадьбусыграть': 25,\n",
       "         'жильяжильеоперация': 9,\n",
       "         'недвижимостьюдополнительный': 41,\n",
       "         'образованиеполучение': 90,\n",
       "         'образованиясделка': 65,\n",
       "         'автомобилемобразованиен': 3,\n",
       "         'сдачиприобретение': 16,\n",
       "         'автомобиляполучение': 112,\n",
       "         'образованияремонт': 35,\n",
       "         'жильюн': 53,\n",
       "         'жильемный': 68,\n",
       "         'автомобиляжильен': 9,\n",
       "         'недвижимостизаняться': 171,\n",
       "         'автомобилемприобретение': 17,\n",
       "         'жильясыграть': 42,\n",
       "         'семьисвадьбаполучение': 1,\n",
       "         'сдачиполучение': 32,\n",
       "         'жильясва': 28,\n",
       "         'автомобильный': 55,\n",
       "         'свадьбывысший': 20,\n",
       "         'образованиесва': 34,\n",
       "         'образованиядополнительный': 31,\n",
       "         'автомобилясделка': 87,\n",
       "         'жильяпрофильный': 25,\n",
       "         'образованиеоперация': 164,\n",
       "         'недвижимостьюстроительство': 164,\n",
       "         'недвижимостьюобразованиестроительство': 9,\n",
       "         'свадьбуавтомобилипокупка': 3,\n",
       "         'жильястроительство': 128,\n",
       "         'образованияжильеремонт': 4,\n",
       "         'жильюсделка': 34,\n",
       "         'автомобилемсвадьбапокупка': 7,\n",
       "         'семьисвадьбан': 2,\n",
       "         'автомобиляпрофильный': 40,\n",
       "         'образованиежильен': 1,\n",
       "         'свадьбыоперация': 90,\n",
       "         'жильясвадьбавысший': 4,\n",
       "         'автомобилемпокупка': 185,\n",
       "         'жильяполучение': 87,\n",
       "         'образованияжильепокупка': 8,\n",
       "         'жильемсвадьбасвадьбапокупка': 2,\n",
       "         'недвижимостинедвижимостьоперация': 18,\n",
       "         'жильяна': 140,\n",
       "         'автомобиляремонт': 39,\n",
       "         'жильюавтомобильзаняться': 1,\n",
       "         'образованиемзаняться': 39,\n",
       "         'образованиемсыграть': 26,\n",
       "         'недвижимостиремонт': 106,\n",
       "         'жильюсыграть': 20,\n",
       "         'свадьбуавтомобильоперация': 3,\n",
       "         'жильемремонт': 16,\n",
       "         'автомобиляавтомобилизаняться': 4,\n",
       "         'образованиемный': 96,\n",
       "         'жильюполучение': 28,\n",
       "         'образованияпрофильный': 25,\n",
       "         'образованиенедвижимостьнедвижимостьсвадьбан': 1,\n",
       "         'недвижимостидополнительный': 76,\n",
       "         'недвижимостьюнедвижимостьстроительство': 9,\n",
       "         'недвижимостьюремонт': 57,\n",
       "         'жильюнедвижимостьпокупка': 6,\n",
       "         'сдачидополнительный': 12,\n",
       "         'недвижимостиобразованиепокупка': 17,\n",
       "         'семьисделка': 30,\n",
       "         'автомобилемсва': 22,\n",
       "         'свадьбысыграть': 22,\n",
       "         'недвижимостиприобретение': 74,\n",
       "         'автомобильвысший': 14,\n",
       "         'образованиен': 125,\n",
       "         'автомобильоперация': 69,\n",
       "         'недвижимостьюсделка': 61,\n",
       "         'автомобилемсделка': 47,\n",
       "         'образованиязаняться': 59,\n",
       "         'недвижимостиавтомобильстроительство': 9,\n",
       "         'недвижимостисвадьбажильепокупка': 1,\n",
       "         'сдачипокупка': 154,\n",
       "         'сдачижильепокупка': 2,\n",
       "         'недвижимостисвадьбан': 23,\n",
       "         'автомобилянедвижимостьоперация': 7,\n",
       "         'недвижимостьюавтомобильнедвижимостьполучение': 2,\n",
       "         'жильюжильен': 2,\n",
       "         'жильясделка': 44,\n",
       "         'автомобилемсыграть': 42,\n",
       "         'свадьбунедвижимостьполучение': 4,\n",
       "         'жильемавтомобилидополнительный': 2,\n",
       "         'образованиявысший': 19,\n",
       "         'автомобилянедвижимостьжильеобразованиеремонт': 1,\n",
       "         'жильюоперация': 86,\n",
       "         'свадьбын': 78,\n",
       "         'свадьбыполучение': 47,\n",
       "         'образованиесделка': 61,\n",
       "         'недвижимостьюсвадьбаоперация': 7,\n",
       "         'недвижимостьюсвадьбасыграть': 5,\n",
       "         'свадьбуавтомобильремонт': 1,\n",
       "         'жильюжильепрофильный': 2,\n",
       "         'сдачиремонт': 23,\n",
       "         'жильюсвадьбаприобретение': 2,\n",
       "         'образованиястроительство': 117,\n",
       "         'жильемоперация': 87,\n",
       "         'семьисыграть': 22,\n",
       "         'свадьбудополнительный': 13,\n",
       "         'автомобилемзаняться': 35,\n",
       "         'образованиемжильен': 3,\n",
       "         'недвижимостьюсва': 50,\n",
       "         'автомобильсвадьбапрофильный': 1,\n",
       "         'жильяавтомобильный': 4,\n",
       "         'жильянедвижимостьжильестроительство': 1,\n",
       "         'свадьбыавтомобилисвадьбаоперация': 1,\n",
       "         'свадьбувысший': 15,\n",
       "         'семьин': 68,\n",
       "         'свадьбыдополнительный': 14,\n",
       "         'образованиестроительство': 118,\n",
       "         'автомобилявысший': 40,\n",
       "         'образованиян': 131,\n",
       "         'автомобилянедвижимостьнедвижимостьсвадьбажильесва': 1,\n",
       "         'автомобильжильенедвижимостьсделка': 1,\n",
       "         'автомобиляавтомобилистроительство': 4,\n",
       "         'жильюобразованиен': 2,\n",
       "         'свадьбусвадьбаприобретение': 2,\n",
       "         'свадьбустроительство': 50,\n",
       "         'недвижимостьюавтомобильоперация': 7,\n",
       "         'жильемстроительство': 60,\n",
       "         'свадьбыавтомобилиоперация': 1,\n",
       "         'недвижимостиавтомобилисыграть': 7,\n",
       "         'жильемавтомобилипокупка': 2,\n",
       "         'недвижимостинедвижимостьсвадьбасыграть': 1,\n",
       "         'свадьбуобразованиеобразованиен': 1,\n",
       "         'жильемприобретение': 12,\n",
       "         'свадьбун': 89,\n",
       "         'жильюнедвижимостьжильепокупка': 1,\n",
       "         'свадьбыпрофильный': 13,\n",
       "         'автомобилемобразованиестроительство': 3,\n",
       "         'недвижимостиобразованиедополнительный': 3,\n",
       "         'семьиремонт': 25,\n",
       "         'жильюстроительство': 45,\n",
       "         'недвижимостижильевысший': 3,\n",
       "         'сдачизаняться': 29,\n",
       "         'автомобилясвадьбадополнительный': 1,\n",
       "         'автомобиляприобретение': 46,\n",
       "         'свадьбупрофильный': 9,\n",
       "         'свадьбыремонт': 30,\n",
       "         'жильяавтомобильпрофильный': 2,\n",
       "         'образованиезаняться': 49,\n",
       "         'семьистроительство': 51,\n",
       "         'жильемнедвижимостьсыграть': 1,\n",
       "         'свадьбуполучение': 46,\n",
       "         'образованиемнедвижимостьпокупка': 7,\n",
       "         'семьизаняться': 21,\n",
       "         'жильявысший': 21,\n",
       "         'жильюсва': 9,\n",
       "         'автомобильремонт': 12,\n",
       "         'сдачисваивать': 14,\n",
       "         'сдачивысший': 10,\n",
       "         'недвижимостьюавтомобильпокупка': 13,\n",
       "         'недвижимостинедвижимостьсделка': 3,\n",
       "         'автомобилемавтомобильзаняться': 1,\n",
       "         'недвижимостисвадьбаремонт': 3,\n",
       "         'жильюзаняться': 25,\n",
       "         'образованиемполучение': 63,\n",
       "         'образованиемнедвижимостьоперация': 3,\n",
       "         'жильяобразованиен': 3,\n",
       "         'свадьбыавтомобилидополнительный': 2,\n",
       "         'образованиемоперация': 92,\n",
       "         'недвижимостьюсвадьбадополнительный': 4,\n",
       "         'свадьбусвадьбапокупка': 7,\n",
       "         'жильязаняться': 51,\n",
       "         'сдачижильеремонт': 2,\n",
       "         'образованиясва': 28,\n",
       "         'автомобильпрофильный': 6,\n",
       "         'образованиенедвижимостьпокупка': 8,\n",
       "         'автомобиляавтомобильпокупка': 12,\n",
       "         'образованиемвысший': 22,\n",
       "         'образованиясвадьбадополнительный': 2,\n",
       "         'образованиедополнительный': 30,\n",
       "         'недвижимостьюжильеавтомобильпокупка': 1,\n",
       "         'недвижимостиавтомобилиавтомобилин': 2,\n",
       "         'свадьбуремонт': 18,\n",
       "         'жильюремонт': 20,\n",
       "         'образованияавтомобилин': 1,\n",
       "         'образованиесвадьбастроительство': 7,\n",
       "         'образованияавтомобилипокупка': 7,\n",
       "         'свадьбыжильенедвижимостьн': 1,\n",
       "         'свадьбужильен': 2,\n",
       "         'автомобилясвадьбастроительство': 4,\n",
       "         'жильемнедвижимостьремонт': 1,\n",
       "         'жильювысший': 11,\n",
       "         'образованиемжильестроительство': 4,\n",
       "         'недвижимостиавтомобилин': 8,\n",
       "         'автомобилясвадьбаполучение': 2,\n",
       "         'образованиясыграть': 47,\n",
       "         'жильюавтомобилистроительство': 2,\n",
       "         'жильемполучение': 40,\n",
       "         'недвижимостисвадьбазаняться': 5,\n",
       "         'свадьбуобразованиедополнительный': 1,\n",
       "         'жильемнедвижимостьзаняться': 3,\n",
       "         'образованиемсвадьбаполучение': 1,\n",
       "         'семьиавтомобильоперация': 2,\n",
       "         'недвижимостьюприобретение': 40,\n",
       "         'образованиевысший': 29,\n",
       "         'образованиесвадьбаавтомобилистроительство': 1,\n",
       "         'жильюприобретение': 13,\n",
       "         'автомобиляжильепокупка': 14,\n",
       "         'недвижимостиобразованиеполучение': 2,\n",
       "         'жильемавтомобильсделка': 1,\n",
       "         'жильемвысший': 14,\n",
       "         'автомобильзаняться': 23,\n",
       "         'образованияжильен': 3,\n",
       "         'жильюпрофильный': 16,\n",
       "         'образованиепрофильный': 28,\n",
       "         'свадьбузаняться': 36,\n",
       "         'семьисваивать': 16,\n",
       "         'жильемжильепокупка': 3,\n",
       "         'недвижимостисвадьбапокупка': 28,\n",
       "         'семьиавтомобилиполучение': 1,\n",
       "         'недвижимостиавтомобильжильевысший': 1,\n",
       "         'семьинедвижимостьсыграть': 1,\n",
       "         'недвижимостисвадьбаоперация': 18,\n",
       "         'жильюнедвижимостьнедвижимостьн': 1,\n",
       "         'недвижимостьюпрофильный': 40,\n",
       "         'автомобилемавтомобилиавтомобильоперация': 1,\n",
       "         'образованиемстроительство': 58,\n",
       "         'сдачиавтомобильполучение': 1,\n",
       "         'свадьбынедвижимостьсыграть': 2,\n",
       "         'недвижимостьюжильестроительство': 7,\n",
       "         'недвижимостисвадьбасыграть': 7,\n",
       "         'свадьбусваивать': 15,\n",
       "         'свадьбыприобретение': 29,\n",
       "         'образованиемсвадьбапокупка': 6,\n",
       "         'семьиавтомобильсделка': 2,\n",
       "         'семьипрофильный': 12,\n",
       "         'недвижимостьюсвадьбасва': 4,\n",
       "         'автомобильприобретение': 12,\n",
       "         'автомобилемдополнительный': 23,\n",
       "         'жильемсва': 10,\n",
       "         'автомобилемсвадьбасва': 3,\n",
       "         'автомобильсвадьбан': 1,\n",
       "         'автомобильжильен': 3,\n",
       "         'автомобиляжильеприобретение': 1,\n",
       "         'образованиеавтомобильный': 2,\n",
       "         'недвижимостьюжильепокупка': 13,\n",
       "         'автомобилемнедвижимостьполучение': 1,\n",
       "         'образованиеприобретение': 32,\n",
       "         'недвижимостинедвижимостьнедвижимостьпрофильный': 1,\n",
       "         'недвижимостижильестроительство': 13,\n",
       "         'образованиежильеавтомобильпокупка': 1,\n",
       "         'жильясвадьбаоперация': 4,\n",
       "         'недвижимостьюсвадьбан': 12,\n",
       "         'жильемзаняться': 21,\n",
       "         'недвижимостьюжильежильезаняться': 1,\n",
       "         'автомобильпокупка': 84,\n",
       "         'автомобильполучение': 33,\n",
       "         'недвижимостьюобразованиежильевысший': 1,\n",
       "         'жильянедвижимостьсвадьбапокупка': 1,\n",
       "         'свадьбусвадьбадополнительный': 1,\n",
       "         'недвижимостьюсвадьбапрофильный': 3,\n",
       "         'образованиенедвижимостьавтомобилин': 1,\n",
       "         'жильюнедвижимостьн': 3,\n",
       "         'образованиемпрофильный': 25,\n",
       "         'образованиесвадьбанедвижимостьстроительство': 1,\n",
       "         'образованиемнедвижимостьсвадьбасвадьбан': 1,\n",
       "         'жильяавтомобилин': 2,\n",
       "         'автомобилемжильедополнительный': 1,\n",
       "         'автомобилясвадьбаобразованиеоперация': 1,\n",
       "         'сдачисыграть': 17,\n",
       "         'образованиянедвижимостьполучение': 4,\n",
       "         'образованиеобразованиевысший': 1,\n",
       "         'семьиполучение': 35,\n",
       "         'недвижимостьюавтомобильнедвижимостьавтомобилипокупка': 1,\n",
       "         'автомобилясвадьбаприобретение': 1,\n",
       "         'автомобилядополнительный': 46,\n",
       "         'автомобиляавтомобильполучение': 4,\n",
       "         'недвижимостиавтомобилистроительство': 12,\n",
       "         'семьисвадьбаприобретение': 2,\n",
       "         'недвижимостиавтомобилижильепокупка': 1,\n",
       "         'автомобильдополнительный': 10,\n",
       "         'образованиемавтомобильоперация': 3,\n",
       "         'образованияполучение': 98,\n",
       "         'образованияобразованиепокупка': 11,\n",
       "         'жильемобразованиестроительство': 3,\n",
       "         'автомобильнедвижимостьоперация': 2,\n",
       "         'сдачисвадьбаремонт': 1,\n",
       "         'свадьбыжильезаняться': 3,\n",
       "         'жильемобразованиепокупка': 1,\n",
       "         'жильемжильеприобретение': 1,\n",
       "         'свадьбыавтомобильприобретение': 1,\n",
       "         'недвижимостьюсвадьбапокупка': 14,\n",
       "         'автомобиляобразованиестроительство': 5,\n",
       "         'образованияавтомобилинедвижимостьн': 1,\n",
       "         'свадьбызаняться': 31,\n",
       "         'свадьбыобразованиедополнительный': 1,\n",
       "         'образованияжильеоперация': 3,\n",
       "         'семьиавтомобилижильесвадьбаавтомобилидополнительный': 1,\n",
       "         'автомобилянедвижимостьвысший': 1,\n",
       "         'недвижимостисвадьбапрофильный': 4,\n",
       "         'сдачисвадьбасвадьбажильепокупка': 1,\n",
       "         'свадьбужильепокупка': 2,\n",
       "         'свадьбысвадьбапокупка': 6,\n",
       "         'свадьбыавтомобилин': 3,\n",
       "         'недвижимостьюнедвижимостьпрофильный': 3,\n",
       "         'образованиянедвижимостьсвадьбан': 1,\n",
       "         'образованияжильеприобретение': 2,\n",
       "         'семьинедвижимостьпрофильный': 2,\n",
       "         'образованиеавтомобильпокупка': 8,\n",
       "         'недвижимостиобразованиеавтомобильоперация': 1,\n",
       "         'автомобилемнедвижимостьн': 6,\n",
       "         'сдачисвадьбапокупка': 4,\n",
       "         'свадьбысвадьбан': 2,\n",
       "         'автомобилемжильеавтомобильсвадьбаполучение': 1,\n",
       "         'недвижимостижильезаняться': 6,\n",
       "         'образованиемремонт': 31,\n",
       "         'жильяобразованиеоперация': 4,\n",
       "         'недвижимостьюавтомобильный': 5,\n",
       "         'образованиеремонт': 32,\n",
       "         'свадьбысва': 18,\n",
       "         'жильемсвадьбасвадьбасвадьбасва': 1,\n",
       "         'свадьбыобразованиеавтомобилипокупка': 1,\n",
       "         'автомобилясвадьбапокупка': 18,\n",
       "         'автомобиляавтомобильавтомобильный': 1,\n",
       "         'автомобиляжильеоперация': 5,\n",
       "         'жильюсвадьбадополнительный': 2,\n",
       "         'автомобилянедвижимостьстроительство': 7,\n",
       "         'свадьбуавтомобилисвадьбапрофильный': 1,\n",
       "         'автомобилянедвижимостьобразованиевысший': 1,\n",
       "         'автомобиляавтомобильоперация': 7,\n",
       "         'сдачисделка': 33,\n",
       "         'автомобилянедвижимостьпокупка': 19,\n",
       "         'недвижимостиавтомобильполучение': 5,\n",
       "         'недвижимостьюжильеполучение': 7,\n",
       "         'жильюавтомобильпокупка': 4,\n",
       "         'автомобильсыграть': 15,\n",
       "         'семьидополнительный': 12,\n",
       "         'семьивысший': 19,\n",
       "         'образованиенедвижимостьоперация': 2,\n",
       "         'недвижимостисвадьбастроительство': 12,\n",
       "         'недвижимостьюсвадьбажильесыграть': 1,\n",
       "         'свадьбуавтомобилисвадьбасделка': 1,\n",
       "         'свадьбыжильеприобретение': 1,\n",
       "         'свадьбуобразованиестроительство': 1,\n",
       "         'недвижимостисвадьбасвадьбапокупка': 1,\n",
       "         'недвижимостиобразованиесделка': 5,\n",
       "         'недвижимостиавтомобилисделка': 5,\n",
       "         'автомобилемсвадьбапрофильный': 3,\n",
       "         'жильемсвадьбаполучение': 1,\n",
       "         'образованияжильенедвижимостьпрофильный': 1,\n",
       "         'недвижимостиобразованиесва': 5,\n",
       "         'автомобилемнедвижимостьоперация': 7,\n",
       "         'автомобилемжильесделка': 3,\n",
       "         'автомобилемсвадьбаремонт': 1,\n",
       "         'жильюдополнительный': 12,\n",
       "         'образованиемсвадьбанедвижимостьн': 1,\n",
       "         'автомобильсвадьбастроительство': 2,\n",
       "         'образованиемжильепокупка': 7,\n",
       "         'жильяавтомобильполучение': 3,\n",
       "         'образованиежильепрофильный': 2,\n",
       "         'недвижимостинедвижимостьсвадьбастроительство': 1,\n",
       "         'жильюобразованиестроительство': 2,\n",
       "         'жильянедвижимостьпокупка': 6,\n",
       "         'семьиобразованиепокупка': 4,\n",
       "         'недвижимостьюсвадьбазаняться': 4,\n",
       "         'образованиеобразованиеполучение': 2,\n",
       "         'недвижимостисвадьбаприобретение': 3,\n",
       "         'образованияавтомобилизаняться': 2,\n",
       "         'автомобилясвадьбан': 7,\n",
       "         'автомобиляжильежильеприобретение': 1,\n",
       "         'жильемсвадьбасделка': 4,\n",
       "         'недвижимостиобразованиезаняться': 5,\n",
       "         'недвижимостиавтомобилиавтомобилистроительство': 1,\n",
       "         'автомобилемавтомобильполучение': 2,\n",
       "         'образованияавтомобилисыграть': 3,\n",
       "         'автомобиляавтомобилинедвижимостьоперация': 1,\n",
       "         'свадьбуавтомобилипрофильный': 1,\n",
       "         'жильянедвижимостьнедвижимостьсыграть': 1,\n",
       "         'автомобилянедвижимостьнедвижимостьприобретение': 1,\n",
       "         'жильянедвижимостьсделка': 1,\n",
       "         'недвижимостиавтомобилинедвижимостьзаняться': 1,\n",
       "         'семьисвадьбаоперация': 4,\n",
       "         'жильюавтомобильсвадьбанедвижимостьн': 1,\n",
       "         'образованиемавтомобилиоперация': 5,\n",
       "         'образованиясвадьбаоперация': 7,\n",
       "         'недвижимостьюавтомобильстроительство': 6,\n",
       "         'свадьбусвадьбасвадьбазаняться': 1,\n",
       "         'автомобиляжильесвадьбастроительство': 1,\n",
       "         'образованиянедвижимостьоперация': 3,\n",
       "         'недвижимостьюнедвижимостьжильепокупка': 2,\n",
       "         'автомобилемавтомобильпокупка': 4,\n",
       "         'жильемсвадьбавысший': 2,\n",
       "         'автомобилясвадьбазаняться': 2,\n",
       "         'семьижильеоперация': 3,\n",
       "         'свадьбунедвижимостьнедвижимостьжильеполучение': 1,\n",
       "         'недвижимостьюавтомобильсыграть': 2,\n",
       "         'свадьбуобразованиеоперация': 3,\n",
       "         'свадьбыавтомобилиобразованиепокупка': 1,\n",
       "         'образованиемдополнительный': 18,\n",
       "         'жильяавтомобилипокупка': 4,\n",
       "         'автомобильсвадьбапокупка': 3,\n",
       "         'недвижимостиобразованиесыграть': 5,\n",
       "         'недвижимостинедвижимостьобразованиезаняться': 1,\n",
       "         'жильяжильедополнительный': 2,\n",
       "         'недвижимостиавтомобильпокупка': 19,\n",
       "         'образованияобразованиесва': 2,\n",
       "         'автомобильжильепокупка': 5,\n",
       "         'недвижимостижильеполучение': 7,\n",
       "         'жильемсвадьбаавтомобильсделка': 1,\n",
       "         'недвижимостисвадьбажильезаняться': 2,\n",
       "         'свадьбусвадьбажильеремонт': 1,\n",
       "         'образованиемобразованиеремонт': 1,\n",
       "         'жильяжильеавтомобильполучение': 1,\n",
       "         'образованиясвадьбапокупка': 9,\n",
       "         'автомобилемнедвижимостьпокупка': 3,\n",
       "         'автомобиляавтомобилиоперация': 5,\n",
       "         'жильюавтомобильпрофильный': 1,\n",
       "         'жильяжильепокупка': 8,\n",
       "         'автомобильобразованиеавтомобильавтомобилин': 1,\n",
       "         'свадьбыобразованиен': 2,\n",
       "         'жильянедвижимостьсва': 2,\n",
       "         'недвижимостисвадьбаполучение': 8,\n",
       "         'недвижимостьюавтомобильсва': 2,\n",
       "         'автомобилемремонт': 26,\n",
       "         'семьинедвижимостьн': 3,\n",
       "         'недвижимостиобразованиен': 9,\n",
       "         'автомобилемнедвижимостьжильеавтомобилисваивать': 1,\n",
       "         'автомобилемавтомобилистроительство': 1,\n",
       "         'недвижимостинедвижимостьн': 15,\n",
       "         'недвижимостьюобразованиеоперация': 7,\n",
       "         'семьиавтомобильнедвижимостьпокупка': 1,\n",
       "         'семьисвадьбазаняться': 5,\n",
       "         'автомобилясвадьбаоперация': 7,\n",
       "         'жильюсвадьбапокупка': 2,\n",
       "         'образованиемавтомобильзаняться': 3,\n",
       "         'жильяавтомобильсва': 1,\n",
       "         'образованиеобразованиеоперация': 5,\n",
       "         'образованиянедвижимостьсделка': 2,\n",
       "         'семьиавтомобилисыграть': 2,\n",
       "         'жильемнедвижимостьсва': 1,\n",
       "         'автомобилемжильеоперация': 3,\n",
       "         'жильемдополнительный': 14,\n",
       "         'автомобиляавтомобилипокупка': 8,\n",
       "         'сдачижильежильезаняться': 1,\n",
       "         'недвижимостьюнедвижимостьпокупка': 8,\n",
       "         'жильянедвижимостьобразованиепокупка': 1,\n",
       "         'недвижимостиавтомобилипрофильный': 2,\n",
       "         'образованиежильедополнительный': 3,\n",
       "         'недвижимостиавтомобильнедвижимостьзаняться': 1,\n",
       "         'свадьбынедвижимостьоперация': 3,\n",
       "         'автомобиляавтомобильсделка': 3,\n",
       "         'свадьбусвадьбазаняться': 2,\n",
       "         'жильюнедвижимостьремонт': 1,\n",
       "         'сдачиавтомобилистроительство': 2,\n",
       "         'автомобильсвадьбажильеоперация': 1,\n",
       "         'недвижимостьюобразованиеполучение': 7,\n",
       "         'свадьбысвадьбасделка': 4,\n",
       "         'автомобилясвадьбаремонт': 4,\n",
       "         'образованиежильеоперация': 5,\n",
       "         'образованиежильесва': 2,\n",
       "         'свадьбыавтомобилизаняться': 1,\n",
       "         'образованиянедвижимостьремонт': 2,\n",
       "         'жильясвадьбасвадьбаполучение': 1,\n",
       "         'недвижимостиавтомобильзаняться': 4,\n",
       "         'свадьбыавтомобилипокупка': 4,\n",
       "         'образованиеавтомобильсделка': 4,\n",
       "         'жильяобразованиесделка': 1,\n",
       "         'образованиемнедвижимостьсва': 2,\n",
       "         'образованиянедвижимостьжильесыграть': 1,\n",
       "         'образованиемавтомобилиполучение': 2,\n",
       "         'семьиприобретение': 12,\n",
       "         'недвижимостьюжильеавтомобильоперация': 1,\n",
       "         'семьижильесвадьбазаняться': 1,\n",
       "         'недвижимостиавтомобилинедвижимостьремонт': 1,\n",
       "         'недвижимостьюавтомобилиавтомобильный': 1,\n",
       "         'автомобилемвысший': 14,\n",
       "         'свадьбуавтомобильполучение': 1,\n",
       "         'автомобилясвадьбаавтомобильпрофильный': 1,\n",
       "         'недвижимостинедвижимостьавтомобильжильеполучение': 1,\n",
       "         'недвижимостиавтомобилипокупка': 17,\n",
       "         'образованиеавтомобильзаняться': 2,\n",
       "         'жильяжильен': 4,\n",
       "         'образованиежильепокупка': 14,\n",
       "         'образованиясвадьбаполучение': 7,\n",
       "         'образованиеавтомобильпрофильный': 1,\n",
       "         'автомобиляжильезаняться': 2,\n",
       "         'жильюнедвижимостьоперация': 4,\n",
       "         'образованиемприобретение': 17,\n",
       "         'семьижильесделка': 2,\n",
       "         'семьиавтомобильремонт': 1,\n",
       "         'автомобиляавтомобильный': 5,\n",
       "         'образованиенедвижимостьжильен': 1,\n",
       "         'образованиеавтомобилисваивать': 2,\n",
       "         'образованиеобразованиепокупка': 7,\n",
       "         'недвижимостьюобразованиесыграть': 3,\n",
       "         'жильемсвадьбанедвижимостьпрофильный': 1,\n",
       "         'автомобиляавтомобильнедвижимостьавтомобилисыграть': 1,\n",
       "         'свадьбынедвижимостьпокупка': 5,\n",
       "         'образованиеавтомобилидополнительный': 1,\n",
       "         'жильяжильенедвижимостьвысший': 1,\n",
       "         'автомобилемобразованиедополнительный': 2,\n",
       "         'жильемавтомобилисвадьбан': 1,\n",
       "         'автомобиляавтомобильремонт': 2,\n",
       "         'образованиесвадьбаоперация': 5,\n",
       "         'недвижимостисвадьбанедвижимостьн': 1,\n",
       "         'свадьбыжильеполучение': 2,\n",
       "         'недвижимостижильесва': 1,\n",
       "         'образованиянедвижимостьзаняться': 3,\n",
       "         'образованиемсвадьбасыграть': 2,\n",
       "         'образованиеавтомобильоперация': 5,\n",
       "         'свадьбынедвижимостьпрофильный': 1,\n",
       "         'сдачисвадьбажильепокупка': 1,\n",
       "         'автомобилемнедвижимостьремонт': 1,\n",
       "         'свадьбыавтомобилистроительство': 3,\n",
       "         'автомобилемавтомобильный': 5,\n",
       "         'автомобилемсвадьбан': 2,\n",
       "         'семьижильеполучение': 1,\n",
       "         'сдачиавтомобильпокупка': 2,\n",
       "         'автомобильсва': 7,\n",
       "         'автомобиляавтомобильсва': 1,\n",
       "         'образованиемжильевысший': 1,\n",
       "         'образованиеавтомобильстроительство': 2,\n",
       "         'недвижимостижильесделка': 4,\n",
       "         'жильемсвадьбан': 3,\n",
       "         'образованиемнедвижимостьвысший': 1,\n",
       "         'образованиемсвадьбасва': 4,\n",
       "         'образованиеавтомобилиполучение': 8,\n",
       "         'образованиемжильеавтомобилипокупка': 1,\n",
       "         'сдачинедвижимостьпокупка': 5,\n",
       "         'сдачиавтомобильпрофильный': 1,\n",
       "         'образованиеобразованиеавтомобилиоперация': 1,\n",
       "         'жильюжильеремонт': 4,\n",
       "         'свадьбусвадьбасва': 1,\n",
       "         'автомобилянедвижимостьн': 2,\n",
       "         'автомобилянедвижимостьремонт': 2,\n",
       "         'недвижимостьюнедвижимостьполучение': 1,\n",
       "         'образованиенедвижимостьполучение': 2,\n",
       "         'автомобилемсвадьбасвадьбаоперация': 1,\n",
       "         'образованияобразованиестроительство': 2,\n",
       "         'свадьбуобразованиепокупка': 6,\n",
       "         'жильемсвадьбасва': 1,\n",
       "         'недвижимостиавтомобильремонт': 4,\n",
       "         'сдачиавтомобилиоперация': 3,\n",
       "         'свадьбыжильен': 1,\n",
       "         'образованиемобразованиеобразованиеоперация': 1,\n",
       "         'недвижимостижильеавтомобилистроительство': 1,\n",
       "         'недвижимостьюжильеавтомобильавтомобильный': 1,\n",
       "         'жильянедвижимостьремонт': 1,\n",
       "         'недвижимостиобразованиесвадьбаприобретение': 1,\n",
       "         'образованиенедвижимостьстроительство': 4,\n",
       "         'недвижимостьюжильевысший': 1,\n",
       "         'жильясвадьбазаняться': 2,\n",
       "         'свадьбуавтомобильпокупка': 2,\n",
       "         'жильяобразованиежильестроительство': 1,\n",
       "         'недвижимостижильесыграть': 6,\n",
       "         'образованиемнедвижимостьавтомобильсделка': 1,\n",
       "         'жильясвадьбаавтомобилиоперация': 1,\n",
       "         'жильюнедвижимостьсделка': 2,\n",
       "         'недвижимостьюнедвижимостьн': 4,\n",
       "         'жильюавтомобилиоперация': 2,\n",
       "         'жильемобразованиеоперация': 1,\n",
       "         'жильянедвижимостьзаняться': 2,\n",
       "         'автомобилемавтомобильжильен': 1,\n",
       "         'недвижимостижильепокупка': 24,\n",
       "         'свадьбыжильесыграть': 2,\n",
       "         'жильемавтомобильобразованиен': 1,\n",
       "         'жильемсвадьбапокупка': 7,\n",
       "         'жильюобразованиесвадьбаоперация': 1,\n",
       "         'жильясвадьбажильестроительство': 2,\n",
       "         'автомобилясвадьбаобразованиесделка': 1,\n",
       "         'жильемпрофильный': 10,\n",
       "         'автомобилемжильестроительство': 4,\n",
       "         'жильяавтомобилистроительство': 1,\n",
       "         'недвижимостиавтомобильный': 8,\n",
       "         'жильяавтомобиливысший': 1,\n",
       "         'автомобиляавтомобильдополнительный': 1,\n",
       "         'автомобилясвадьбасыграть': 3,\n",
       "         'недвижимостьюжильедополнительный': 1,\n",
       "         'образованиесвадьбан': 6,\n",
       "         'автомобилемавтомобильсва': 2,\n",
       "         'недвижимостинедвижимостьпокупка': 13,\n",
       "         'автомобилясвадьбасва': 2,\n",
       "         'жильемжильеоперация': 1,\n",
       "         'образованиемсвадьбапрофильный': 2,\n",
       "         'жильемнедвижимостьоперация': 3,\n",
       "         'семьиавтомобильпокупка': 2,\n",
       "         'сдачисвадьбасделка': 1,\n",
       "         'образованиясвадьбан': 3,\n",
       "         'недвижимостьюавтомобилисделка': 2,\n",
       "         'образованиеобразованиеприобретение': 1,\n",
       "         'жильянедвижимостьн': 5,\n",
       "         'автомобилянедвижимостьзаняться': 1,\n",
       "         'автомобилемжильепокупка': 9,\n",
       "         'недвижимостьюобразованиепокупка': 8,\n",
       "         'свадьбынедвижимостьн': 2,\n",
       "         'недвижимостинедвижимостьсыграть': 3,\n",
       "         'образованиесвадьбасыграть': 1,\n",
       "         'свадьбуавтомобилизаняться': 4,\n",
       "         'образованиенедвижимостьсделка': 2,\n",
       "         'автомобилемнедвижимостьстроительство': 2,\n",
       "         'автомобиляжильеобразованиеоперация': 1,\n",
       "         'автомобильжильеремонт': 1,\n",
       "         'недвижимостьюавтомобилин': 2,\n",
       "         'автомобилемсвадьбасыграть': 1,\n",
       "         'образованиемавтомобильвысший': 2,\n",
       "         'автомобильсвадьбасделка': 3,\n",
       "         'образованиемавтомобилисыграть': 2,\n",
       "         'автомобильобразованиеавтомобилиприобретение': 1,\n",
       "         'сдачиобразованиепокупка': 5,\n",
       "         'образованияавтомобильнедвижимостьпокупка': 2,\n",
       "         'образованиежильесделка': 5,\n",
       "         'образованиемсва': 26,\n",
       "         'автомобилемобразованиеполучение': 2,\n",
       "         'свадьбыавтомобилисвадьбанедвижимостьзаняться': 1,\n",
       "         'семьисвадьбасвадьбанедвижимостьремонт': 1,\n",
       "         'свадьбуавтомобилиполучение': 1,\n",
       "         'сдачисвадьбан': 3,\n",
       "         'автомобилянедвижимостьсвадьбастроительство': 1,\n",
       "         'свадьбыавтомобильный': 3,\n",
       "         'жильемжильен': 4,\n",
       "         'недвижимостинедвижимостьавтомобилиприобретение': 1,\n",
       "         'автомобиляавтомобилижильестроительство': 1,\n",
       "         'недвижимостиобразованиеоперация': 8,\n",
       "         'жильемавтомобильсва': 1,\n",
       "         'жильюжильеоперация': 6,\n",
       "         'автомобилемсвадьбазаняться': 1,\n",
       "         'семьинедвижимостьсва': 1,\n",
       "         'автомобильнедвижимостьстроительство': 3,\n",
       "         'жильюсвадьбан': 3,\n",
       "         'семьиавтомобилиоперация': 1,\n",
       "         'образованиенедвижимостьзаняться': 3,\n",
       "         'недвижимостинедвижимостьдополнительный': 2,\n",
       "         'свадьбынедвижимостьжильепокупка': 1,\n",
       "         'автомобиляавтомобилисделка': 2,\n",
       "         'недвижимостьюавтомобилиоперация': 6,\n",
       "         'образованияавтомобилиобразованиенедвижимостьпрофильный': 1,\n",
       "         'образованиеавтомобильполучение': 4,\n",
       "         'образованияавтомобильзаняться': 3,\n",
       "         'недвижимостиавтомобилиприобретение': 1,\n",
       "         'автомобильавтомобилизаняться': 1,\n",
       "         'жильянедвижимостьобразованиестроительство': 1,\n",
       "         'образованиеавтомобильсвадьбан': 1,\n",
       "         'семьижильестроительство': 4,\n",
       "         'жильемжильепрофильный': 1,\n",
       "         'жильясвадьбасвадьбасвадьбаоперация': 1,\n",
       "         'образованиясвадьбастроительство': 8,\n",
       "         'образованиеавтомобилистроительство': 1,\n",
       "         'жильяобразованиестроительство': 2,\n",
       "         'недвижимостинедвижимостьпрофильный': 2,\n",
       "         'сдачипрофильный': 17,\n",
       "         'образованиемсвадьбасвадьбапокупка': 1,\n",
       "         'недвижимостьюобразованиезаняться': 3,\n",
       "         'автомобилясвадьбаавтомобильнедвижимостьсыграть': 1,\n",
       "         'жильюобразованиеавтомобилиполучение': 1,\n",
       "         'недвижимостижильеремонт': 5,\n",
       "         'жильюнедвижимостьполучение': 1,\n",
       "         'жильемавтомобильпокупка': 1,\n",
       "         'недвижимостиавтомобильоперация': 6,\n",
       "         'семьисвадьбастроительство': 2,\n",
       "         'образованиесвадьбапрофильный': 2,\n",
       "         'автомобиляавтомобилин': 2,\n",
       "         'автомобилянедвижимостьавтомобильный': 1,\n",
       "         'недвижимостьюавтомобильпрофильный': 2,\n",
       "         'образованиесвадьбаобразованиен': 1,\n",
       "         'свадьбыавтомобилиавтомобильный': 1,\n",
       "         'образованиеавтомобилисвадьбасыграть': 1,\n",
       "         'свадьбусвадьбажильеавтомобилизаняться': 1,\n",
       "         'недвижимостижильеобразованиеоперация': 1,\n",
       "         'автомобиляобразованиесделка': 1,\n",
       "         'недвижимостижильеобразованиепокупка': 1,\n",
       "         'свадьбынедвижимостьвысший': 2,\n",
       "         'семьиобразованиевысший': 2,\n",
       "         'недвижимостижильен': 10,\n",
       "         'свадьбыжильедополнительный': 1,\n",
       "         'недвижимостьюнедвижимостьсвадьбаполучение': 1,\n",
       "         'образованияжильезаняться': 2,\n",
       "         'образованиянедвижимостьнедвижимостьн': 1,\n",
       "         'свадьбусвадьбан': 2,\n",
       "         'жильянедвижимостьнедвижимостьпокупка': 1,\n",
       "         'жильемнедвижимостьпокупка': 5,\n",
       "         'сдачижильесделка': 2,\n",
       "         'недвижимостьюжильеавтомобильсвадьбан': 1,\n",
       "         'автомобиляобразованиепокупка': 5,\n",
       "         'недвижимостьюобразованиесвадьбаприобретение': 1,\n",
       "         'образованияжильестроительство': 4,\n",
       "         'семьиавтомобилин': 3,\n",
       "         'сдачижильен': 1,\n",
       "         'автомобилясвадьбавысший': 3,\n",
       "         'образованиемавтомобилипокупка': 6,\n",
       "         'автомобилемнедвижимостьприобретение': 1,\n",
       "         'автомобиляобразованиеполучение': 1,\n",
       "         'недвижимостьюавтомобилипокупка': 6,\n",
       "         'семьижильедополнительный': 3,\n",
       "         'образованиеавтомобилисвадьбастроительство': 1,\n",
       "         'автомобиляжильеполучение': 3,\n",
       "         'свадьбунедвижимостьсделка': 1,\n",
       "         'семьижильеремонт': 1,\n",
       "         'сдачиавтомобилиполучение': 2,\n",
       "         'свадьбынедвижимостьсделка': 4,\n",
       "         'сдачижильестроительство': 4,\n",
       "         'недвижимостиобразованиеприобретение': 3,\n",
       "         'жильяавтомобилиобразованиен': 1,\n",
       "         'свадьбысвадьбастроительство': 5,\n",
       "         'автомобилемсвадьбастроительство': 4,\n",
       "         'недвижимостьюавтомобилижильепокупка': 1,\n",
       "         'жильясвадьбан': 2,\n",
       "         'недвижимостиавтомобилисвадьбапокупка': 2,\n",
       "         'автомобилянедвижимостьавтомобилизаняться': 1,\n",
       "         'образованияобразованиезаняться': 1,\n",
       "         'недвижимостьюавтомобилисвадьбан': 1,\n",
       "         'образованияавтомобильпокупка': 5,\n",
       "         'жильяавтомобильстроительство': 5,\n",
       "         'автомобилемсвадьбаавтомобилистроительство': 1,\n",
       "         'свадьбыжильесва': 1,\n",
       "         'жильянедвижимостьжильепрофильный': 1,\n",
       "         'семьисвадьбапокупка': 3,\n",
       "         'жильяавтомобильоперация': 2,\n",
       "         'недвижимостьюсвадьбасделка': 3,\n",
       "         'семьиавтомобильжильен': 1,\n",
       "         'автомобиляжильежильеполучение': 1,\n",
       "         'жильяобразованиепокупка': 5,\n",
       "         'недвижимостиавтомобильвысший': 1,\n",
       "         'недвижимостиобразованиеавтомобильпокупка': 1,\n",
       "         'автомобильсвадьбаремонт': 1,\n",
       "         'образованиесвадьбасвадьбасделка': 1,\n",
       "         'автомобилемжильен': 3,\n",
       "         'автомобилясвадьбажильеоперация': 1,\n",
       "         'недвижимостьюнедвижимостьзаняться': 1,\n",
       "         'автомобильавтомобильоперация': 2,\n",
       "         'жильемавтомобильзаняться': 2,\n",
       "         'образованияавтомобильсделка': 1,\n",
       "         'недвижимостьюсвадьбавысший': 3,\n",
       "         'семьиавтомобилипокупка': 4,\n",
       "         'свадьбужильеприобретение': 1,\n",
       "         'недвижимостьюавтомобильполучение': 2,\n",
       "         'недвижимостижильенедвижимостьприобретение': 2,\n",
       "         'автомобилянедвижимостьнедвижимостьзаняться': 1,\n",
       "         'жильемсвадьбанедвижимостьоперация': 1,\n",
       "         'недвижимостьюнедвижимостьоперация': 5,\n",
       "         'недвижимостинедвижимостьавтомобильстроительство': 1,\n",
       "         'семьижильеавтомобилизаняться': 1,\n",
       "         'образованиемжильеоперация': 3,\n",
       "         'образованиемавтомобилидополнительный': 1,\n",
       "         'образованиесвадьбасделка': 2,\n",
       "         'образованиемавтомобильсыграть': 2,\n",
       "         'автомобилемсвадьбаоперация': 8,\n",
       "         'образованиясвадьбасвадьбасделка': 1,\n",
       "         'образованиянедвижимостьстроительство': 1,\n",
       "         'жильюавтомобилиполучение': 1,\n",
       "         'жильяавтомобилиоперация': 6,\n",
       "         'свадьбыжильеоперация': 4,\n",
       "         'автомобилемавтомобилизаняться': 2,\n",
       "         'автомобилясвадьбасвадьбасделка': 2,\n",
       "         'образованиемнедвижимостьсделка': 1,\n",
       "         'образованиемавтомобильремонт': 2,\n",
       "         'образованиемнедвижимостьнедвижимостьремонт': 1,\n",
       "         'сдачинедвижимостьн': 3,\n",
       "         'образованияжильесыграть': 4,\n",
       "         'автомобиляавтомобильсвадьбан': 1,\n",
       "         'свадьбысвадьбавысший': 1,\n",
       "         'автомобильнедвижимостьпокупка': 2,\n",
       "         'недвижимостиобразованиежильепокупка': 1,\n",
       "         'автомобилянедвижимостьсвадьбан': 1,\n",
       "         'автомобилемсвадьбаполучение': 1,\n",
       "         'семьинедвижимостьавтомобилипокупка': 1,\n",
       "         'жильяобразованиежильепокупка': 1,\n",
       "         'недвижимостиобразованиежильеполучение': 1,\n",
       "         'свадьбыавтомобилиполучение': 3,\n",
       "         'недвижимостиавтомобильавтомобиливысший': 1,\n",
       "         'жильемавтомобильприобретение': 1,\n",
       "         'недвижимостьюобразованиежильеприобретение': 1,\n",
       "         'автомобиляавтомобилидополнительный': 1,\n",
       "         'автомобилянедвижимостьавтомобильвысший': 3,\n",
       "         'свадьбыавтомобилипрофильный': 1,\n",
       "         'образованиемнедвижимостьн': 3,\n",
       "         'автомобильавтомобилиполучение': 1,\n",
       "         'автомобилясвадьбасвадьбапокупка': 3,\n",
       "         'автомобилянедвижимостьполучение': 2,\n",
       "         'образованиянедвижимостьн': 2,\n",
       "         'автомобиляобразованиеавтомобилиполучение': 2,\n",
       "         'жильяобразованиеавтомобилистроительство': 1,\n",
       "         'образованияавтомобильстроительство': 2,\n",
       "         'недвижимостиавтомобильсыграть': 3,\n",
       "         'автомобилемавтомобильавтомобильпокупка': 1,\n",
       "         'недвижимостьюавтомобилинедвижимостьпокупка': 1,\n",
       "         'семьижильепокупка': 4,\n",
       "         'недвижимостиавтомобильсделка': 2,\n",
       "         'недвижимостиавтомобильобразованиен': 1,\n",
       "         'образованиежильестроительство': 3,\n",
       "         'образованиемавтомобильный': 2,\n",
       "         'жильясвадьбаполучение': 3,\n",
       "         'жильяавтомобильпокупка': 5,\n",
       "         'жильясвадьбапокупка': 9,\n",
       "         'жильяжильеприобретение': 2,\n",
       "         'автомобиляавтомобилисвадьбасыграть': 1,\n",
       "         'образованияобразованиедополнительный': 2,\n",
       "         'недвижимостисвадьбасва': 4,\n",
       "         'автомобиляавтомобильсвадьбаоперация': 1,\n",
       "         'свадьбунедвижимостьстроительство': 4,\n",
       "         'жильюнедвижимостьвысший': 1,\n",
       "         'жильюсвадьбаремонт': 2,\n",
       "         'автомобилемобразованиесделка': 3,\n",
       "         'жильянедвижимостьоперация': 3,\n",
       "         'сдачиавтомобильный': 1,\n",
       "         'жильюавтомобилиавтомобильоперация': 1,\n",
       "         'недвижимостижильесвадьбазаняться': 1,\n",
       "         'недвижимостижильесвадьбапокупка': 1,\n",
       "         'свадьбужильесделка': 3,\n",
       "         'недвижимостиавтомобилисвадьбасвадьбаприобретение': 1,\n",
       "         'недвижимостьюсвадьбаавтомобилиавтомобильремонт': 1,\n",
       "         'автомобилемжильенедвижимостьпокупка': 1,\n",
       "         'семьиобразованиен': 3,\n",
       "         'автомобиляавтомобилиприобретение': 1,\n",
       "         'автомобилемобразованиезаняться': 1,\n",
       "         'автомобиляобразованиеприобретение': 1,\n",
       "         'жильюобразованиеобразованиесыграть': 1,\n",
       "         'недвижимостинедвижимостьсвадьбасделка': 1,\n",
       "         'образованиемсвадьбаприобретение': 1,\n",
       "         'автомобилемсвадьбанедвижимостьдополнительный': 1,\n",
       "         'образованиемсвадьбасвадьбаавтомобилин': 1,\n",
       "         'сдачиавтомобильзаняться': 1,\n",
       "         'автомобильавтомобилистроительство': 1,\n",
       "         'недвижимостьюавтомобилистроительство': 2,\n",
       "         'недвижимостинедвижимостьремонт': 7,\n",
       "         'жильюавтомобильсва': 2,\n",
       "         'недвижимостижильенедвижимостьн': 1,\n",
       "         'недвижимостиавтомобилинедвижимостьн': 1,\n",
       "         'сдачижильеполучение': 2,\n",
       "         'образованиясвадьбаавтомобильнедвижимостьпокупка': 1,\n",
       "         'недвижимостьюобразованиеавтомобильсделка': 1,\n",
       "         'недвижимостижильепрофильный': 3,\n",
       "         'семьиобразованиежильеполучение': 1,\n",
       "         'сдачисвадьбаобразованиесыграть': 1,\n",
       "         'жильяобразованиесыграть': 1,\n",
       "         'автомобильнедвижимостьн': 2,\n",
       "         'автомобильобразованиепокупка': 4,\n",
       "         'семьиобразованиеоперация': 2,\n",
       "         'автомобильнедвижимостьсвадьбан': 1,\n",
       "         'жильясвадьбаобразованиенедвижимостьстроительство': 1,\n",
       "         'жильемавтомобильный': 3,\n",
       "         'жильясвадьбасделка': 3,\n",
       "         'недвижимостинедвижимостьжильепокупка': 3,\n",
       "         'образованиянедвижимостьпокупка': 8,\n",
       "         'жильяжильеремонт': 2,\n",
       "         'жильюсвадьбазаняться': 2,\n",
       "         'сдачисвадьбанедвижимостьоперация': 1,\n",
       "         'образованиеобразованиесделка': 2,\n",
       "         'образованиенедвижимостьавтомобильстроительство': 1,\n",
       "         'жильюавтомобильремонт': 1,\n",
       "         'недвижимостьюжильесва': 3,\n",
       "         'образованиемсвадьбаоперация': 2,\n",
       "         'образованиесвадьбаавтомобилипрофильный': 1,\n",
       "         'автомобильнедвижимостьремонт': 2,\n",
       "         'жильемавтомобилисваивать': 1,\n",
       "         'недвижимостижильенедвижимостьавтомобильпокупка': 1,\n",
       "         'семьиавтомобилиавтомобильоперация': 1,\n",
       "         'жильяобразованиеполучение': 2,\n",
       "         'образованиеобразованиен': 3,\n",
       "         'свадьбуавтомобилисваивать': 2,\n",
       "         'недвижимостисвадьбаавтомобилиполучение': 1,\n",
       "         'образованиеобразованиеавтомобилидополнительный': 1,\n",
       "         'образованиежильесыграть': 1,\n",
       "         'свадьбунедвижимостьжильеобразованиеобразованиезаняться': 1,\n",
       "         'недвижимостьюобразованиесделка': 1,\n",
       "         'образованиемсвадьбастроительство': 1,\n",
       "         'недвижимостиавтомобильпрофильный': 2,\n",
       "         'недвижимостьюжильезаняться': 3,\n",
       "         'жильянедвижимостьполучение': 3,\n",
       "         'образованияавтомобилисвадьбажильен': 1,\n",
       "         'свадьбынедвижимостьсвадьбасделка': 1,\n",
       "         'свадьбуавтомобилин': 3,\n",
       "         'недвижимостиавтомобильсва': 2,\n",
       "         'автомобилясвадьбапрофильный': 1,\n",
       "         'свадьбужильесыграть': 1,\n",
       "         'образованияобразованиесыграть': 1,\n",
       "         'образованияавтомобилидополнительный': 1,\n",
       "         'свадьбужильесва': 1,\n",
       "         'свадьбыжильепокупка': 1,\n",
       "         'автомобилемобразованиевысший': 1,\n",
       "         'недвижимостижильесвадьбаоперация': 1,\n",
       "         'автомобиляавтомобильобразованиеполучение': 1,\n",
       "         'образованиесвадьбаприобретение': 1,\n",
       "         'автомобиляавтомобилиавтомобильпокупка': 3,\n",
       "         'свадьбыжильепрофильный': 1,\n",
       "         'свадьбыавтомобильсва': 1,\n",
       "         'автомобильжильезаняться': 1,\n",
       "         'семьиавтомобильвысший': 1,\n",
       "         'сдачиобразованиедополнительный': 1,\n",
       "         'недвижимостисвадьбаобразованиестроительство': 1,\n",
       "         'автомобиляобразованиеоперация': 4,\n",
       "         'жильюнедвижимостьпрофильный': 1,\n",
       "         'недвижимостиавтомобилизаняться': 4,\n",
       "         'жильемсвадьбадополнительный': 2,\n",
       "         'образованиемавтомобильсделка': 1,\n",
       "         'недвижимостисвадьбаавтомобилизаняться': 1,\n",
       "         'недвижимостижильеобразованиестроительство': 1,\n",
       "         'жильяавтомобилиавтомобилиполучение': 1,\n",
       "         'семьиавтомобильзаняться': 2,\n",
       "         'свадьбысвадьбаобразованиевысший': 1,\n",
       "         'образованиеобразованиежильестроительство': 1,\n",
       "         'образованиеавтомобилипокупка': 5,\n",
       "         'недвижимостьюобразованиеприобретение': 2,\n",
       "         'недвижимостинедвижимостьжильенедвижимостьсвадьбаремонт': 1,\n",
       "         'недвижимостинедвижимостьприобретение': 4,\n",
       "         'жильемсвадьбастроительство': 4,\n",
       "         'образованиясвадьбаавтомобильпокупка': 1,\n",
       "         'жильясвадьбанедвижимостьсделка': 1,\n",
       "         'автомобильавтомобильный': 1,\n",
       "         ...})"
      ]
     },
     "metadata": {},
     "output_type": "display_data"
    }
   ],
   "source": [
    "display(Counter(purpose_str))"
   ]
  },
  {
   "cell_type": "markdown",
   "metadata": {},
   "source": [
    "На основе полученных лемм создадим категории в новом столбце. \n",
    "\n",
    "Для этого напишем функцию, а затем применим её с помощью `apply`"
   ]
  },
  {
   "cell_type": "code",
   "execution_count": 20,
   "metadata": {},
   "outputs": [],
   "source": [
    "def purpose_cat(word):\n",
    "        if 'авто' in word:\n",
    "            return 'автомобиль'\n",
    "        elif 'жил' in word or 'недвиж' in word:\n",
    "            return 'недвижимость'\n",
    "        elif 'образов' in word:\n",
    "            return 'образование'\n",
    "        elif 'свадьб' in word:\n",
    "            return 'свадьба'\n",
    "        return 'прочее'\n",
    "df['purpose_category'] = df['purpose'].apply(purpose_cat)"
   ]
  },
  {
   "cell_type": "markdown",
   "metadata": {},
   "source": [
    "Выведим первые 10 строк нашей таблицы на экран"
   ]
  },
  {
   "cell_type": "code",
   "execution_count": 21,
   "metadata": {},
   "outputs": [
    {
     "data": {
      "text/html": [
       "<div>\n",
       "<style scoped>\n",
       "    .dataframe tbody tr th:only-of-type {\n",
       "        vertical-align: middle;\n",
       "    }\n",
       "\n",
       "    .dataframe tbody tr th {\n",
       "        vertical-align: top;\n",
       "    }\n",
       "\n",
       "    .dataframe thead th {\n",
       "        text-align: right;\n",
       "    }\n",
       "</style>\n",
       "<table border=\"1\" class=\"dataframe\">\n",
       "  <thead>\n",
       "    <tr style=\"text-align: right;\">\n",
       "      <th></th>\n",
       "      <th>children</th>\n",
       "      <th>days_employed</th>\n",
       "      <th>dob_years</th>\n",
       "      <th>education</th>\n",
       "      <th>education_id</th>\n",
       "      <th>family_status</th>\n",
       "      <th>family_status_id</th>\n",
       "      <th>gender</th>\n",
       "      <th>income_type</th>\n",
       "      <th>debt</th>\n",
       "      <th>total_income</th>\n",
       "      <th>purpose</th>\n",
       "      <th>purpose_category</th>\n",
       "    </tr>\n",
       "  </thead>\n",
       "  <tbody>\n",
       "    <tr>\n",
       "      <td>0</td>\n",
       "      <td>1</td>\n",
       "      <td>8437.00</td>\n",
       "      <td>42</td>\n",
       "      <td>высшее</td>\n",
       "      <td>0</td>\n",
       "      <td>женат / замужем</td>\n",
       "      <td>0</td>\n",
       "      <td>F</td>\n",
       "      <td>сотрудник</td>\n",
       "      <td>0</td>\n",
       "      <td>253875</td>\n",
       "      <td>покупка жилья</td>\n",
       "      <td>недвижимость</td>\n",
       "    </tr>\n",
       "    <tr>\n",
       "      <td>1</td>\n",
       "      <td>1</td>\n",
       "      <td>4024.00</td>\n",
       "      <td>36</td>\n",
       "      <td>среднее</td>\n",
       "      <td>1</td>\n",
       "      <td>женат / замужем</td>\n",
       "      <td>0</td>\n",
       "      <td>F</td>\n",
       "      <td>сотрудник</td>\n",
       "      <td>0</td>\n",
       "      <td>112080</td>\n",
       "      <td>приобретение автомобиля</td>\n",
       "      <td>автомобиль</td>\n",
       "    </tr>\n",
       "    <tr>\n",
       "      <td>2</td>\n",
       "      <td>0</td>\n",
       "      <td>5623.00</td>\n",
       "      <td>33</td>\n",
       "      <td>Среднее</td>\n",
       "      <td>1</td>\n",
       "      <td>женат / замужем</td>\n",
       "      <td>0</td>\n",
       "      <td>M</td>\n",
       "      <td>сотрудник</td>\n",
       "      <td>0</td>\n",
       "      <td>145885</td>\n",
       "      <td>покупка жилья</td>\n",
       "      <td>недвижимость</td>\n",
       "    </tr>\n",
       "    <tr>\n",
       "      <td>3</td>\n",
       "      <td>3</td>\n",
       "      <td>4124.00</td>\n",
       "      <td>32</td>\n",
       "      <td>среднее</td>\n",
       "      <td>1</td>\n",
       "      <td>женат / замужем</td>\n",
       "      <td>0</td>\n",
       "      <td>M</td>\n",
       "      <td>сотрудник</td>\n",
       "      <td>0</td>\n",
       "      <td>267628</td>\n",
       "      <td>дополнительное образование</td>\n",
       "      <td>образование</td>\n",
       "    </tr>\n",
       "    <tr>\n",
       "      <td>4</td>\n",
       "      <td>0</td>\n",
       "      <td>14177.75</td>\n",
       "      <td>53</td>\n",
       "      <td>среднее</td>\n",
       "      <td>1</td>\n",
       "      <td>гражданский брак</td>\n",
       "      <td>1</td>\n",
       "      <td>F</td>\n",
       "      <td>пенсионер</td>\n",
       "      <td>0</td>\n",
       "      <td>158616</td>\n",
       "      <td>сыграть свадьбу</td>\n",
       "      <td>свадьба</td>\n",
       "    </tr>\n",
       "    <tr>\n",
       "      <td>5</td>\n",
       "      <td>0</td>\n",
       "      <td>926.00</td>\n",
       "      <td>27</td>\n",
       "      <td>высшее</td>\n",
       "      <td>0</td>\n",
       "      <td>гражданский брак</td>\n",
       "      <td>1</td>\n",
       "      <td>M</td>\n",
       "      <td>компаньон</td>\n",
       "      <td>0</td>\n",
       "      <td>255763</td>\n",
       "      <td>покупка жилья</td>\n",
       "      <td>недвижимость</td>\n",
       "    </tr>\n",
       "    <tr>\n",
       "      <td>6</td>\n",
       "      <td>0</td>\n",
       "      <td>2879.00</td>\n",
       "      <td>43</td>\n",
       "      <td>высшее</td>\n",
       "      <td>0</td>\n",
       "      <td>женат / замужем</td>\n",
       "      <td>0</td>\n",
       "      <td>F</td>\n",
       "      <td>компаньон</td>\n",
       "      <td>0</td>\n",
       "      <td>240525</td>\n",
       "      <td>операции с жильем</td>\n",
       "      <td>недвижимость</td>\n",
       "    </tr>\n",
       "    <tr>\n",
       "      <td>7</td>\n",
       "      <td>0</td>\n",
       "      <td>152.00</td>\n",
       "      <td>50</td>\n",
       "      <td>СРЕДНЕЕ</td>\n",
       "      <td>1</td>\n",
       "      <td>женат / замужем</td>\n",
       "      <td>0</td>\n",
       "      <td>M</td>\n",
       "      <td>сотрудник</td>\n",
       "      <td>0</td>\n",
       "      <td>135823</td>\n",
       "      <td>образование</td>\n",
       "      <td>образование</td>\n",
       "    </tr>\n",
       "    <tr>\n",
       "      <td>8</td>\n",
       "      <td>2</td>\n",
       "      <td>6929.00</td>\n",
       "      <td>35</td>\n",
       "      <td>ВЫСШЕЕ</td>\n",
       "      <td>0</td>\n",
       "      <td>гражданский брак</td>\n",
       "      <td>1</td>\n",
       "      <td>F</td>\n",
       "      <td>сотрудник</td>\n",
       "      <td>0</td>\n",
       "      <td>95856</td>\n",
       "      <td>на проведение свадьбы</td>\n",
       "      <td>свадьба</td>\n",
       "    </tr>\n",
       "    <tr>\n",
       "      <td>9</td>\n",
       "      <td>0</td>\n",
       "      <td>2188.00</td>\n",
       "      <td>41</td>\n",
       "      <td>среднее</td>\n",
       "      <td>1</td>\n",
       "      <td>женат / замужем</td>\n",
       "      <td>0</td>\n",
       "      <td>M</td>\n",
       "      <td>сотрудник</td>\n",
       "      <td>0</td>\n",
       "      <td>144425</td>\n",
       "      <td>покупка жилья для семьи</td>\n",
       "      <td>недвижимость</td>\n",
       "    </tr>\n",
       "  </tbody>\n",
       "</table>\n",
       "</div>"
      ],
      "text/plain": [
       "   children  days_employed  dob_years education  education_id  \\\n",
       "0         1        8437.00         42    высшее             0   \n",
       "1         1        4024.00         36   среднее             1   \n",
       "2         0        5623.00         33   Среднее             1   \n",
       "3         3        4124.00         32   среднее             1   \n",
       "4         0       14177.75         53   среднее             1   \n",
       "5         0         926.00         27    высшее             0   \n",
       "6         0        2879.00         43    высшее             0   \n",
       "7         0         152.00         50   СРЕДНЕЕ             1   \n",
       "8         2        6929.00         35    ВЫСШЕЕ             0   \n",
       "9         0        2188.00         41   среднее             1   \n",
       "\n",
       "      family_status  family_status_id gender income_type  debt  total_income  \\\n",
       "0   женат / замужем                 0      F   сотрудник     0        253875   \n",
       "1   женат / замужем                 0      F   сотрудник     0        112080   \n",
       "2   женат / замужем                 0      M   сотрудник     0        145885   \n",
       "3   женат / замужем                 0      M   сотрудник     0        267628   \n",
       "4  гражданский брак                 1      F   пенсионер     0        158616   \n",
       "5  гражданский брак                 1      M   компаньон     0        255763   \n",
       "6   женат / замужем                 0      F   компаньон     0        240525   \n",
       "7   женат / замужем                 0      M   сотрудник     0        135823   \n",
       "8  гражданский брак                 1      F   сотрудник     0         95856   \n",
       "9   женат / замужем                 0      M   сотрудник     0        144425   \n",
       "\n",
       "                      purpose purpose_category  \n",
       "0               покупка жилья     недвижимость  \n",
       "1     приобретение автомобиля       автомобиль  \n",
       "2               покупка жилья     недвижимость  \n",
       "3  дополнительное образование      образование  \n",
       "4             сыграть свадьбу          свадьба  \n",
       "5               покупка жилья     недвижимость  \n",
       "6           операции с жильем     недвижимость  \n",
       "7                 образование      образование  \n",
       "8       на проведение свадьбы          свадьба  \n",
       "9     покупка жилья для семьи     недвижимость  "
      ]
     },
     "metadata": {},
     "output_type": "display_data"
    }
   ],
   "source": [
    "display(df.head(10))"
   ]
  },
  {
   "cell_type": "markdown",
   "metadata": {},
   "source": [
    "**Вывод**"
   ]
  },
  {
   "cell_type": "markdown",
   "metadata": {},
   "source": [
    "Для лемматизаци целей кредита был выполнен ряд шагов:\n",
    "* Шаг.1 Импотрировали библиотеку PyMystem и сохранили в переменную m.\n",
    "* Шаг.2 Для подсчёта числа упоминаний в тексте лемматизированых слов, вызвали контейнер `Couter` из модуля `colletions`.\n",
    "* Шаг.3 Получили уникальные значения столбца `purpose`.\n",
    "* Шаг.4 Объеденили полученные уникальные значения в одну строку с помощью `join` и лемматизировали.\n",
    "* Шаг.5 На основье полученных лемм создадали категории в новом столбце. Для этого была написана функцию, а затем применили её с помощью apply\n"
   ]
  },
  {
   "cell_type": "markdown",
   "metadata": {},
   "source": [
    "### Категоризация данных"
   ]
  },
  {
   "cell_type": "markdown",
   "metadata": {},
   "source": [
    "Категоризация столбца `children`"
   ]
  },
  {
   "cell_type": "markdown",
   "metadata": {},
   "source": [
    "Посмотрим уникальные значения столбца `childrebn` с помощью метода `unique` "
   ]
  },
  {
   "cell_type": "code",
   "execution_count": 22,
   "metadata": {},
   "outputs": [
    {
     "data": {
      "text/plain": [
       "array([ 1,  0,  3,  2, -1,  4, 20,  5])"
      ]
     },
     "execution_count": 22,
     "metadata": {},
     "output_type": "execute_result"
    }
   ],
   "source": [
    "df['children'].unique() # просмотр уникальных значений"
   ]
  },
  {
   "cell_type": "markdown",
   "metadata": {},
   "source": [
    "Было замеченно два артифакта:\n",
    "* Отрицательное число детей (-1)\n",
    "* Не тепичное большое количество детей (20)\n",
    "\n",
    "Решение:\n",
    "\n",
    "* Привести все значения к положительному результату\n",
    "* Написать фукцию, которая будет делить любые значения больше 10 на 10."
   ]
  },
  {
   "cell_type": "code",
   "execution_count": 23,
   "metadata": {},
   "outputs": [],
   "source": [
    "df['children'] = df['children'].apply(abs)\n",
    "\n",
    "def removing_the_children(i):\n",
    "    if i > 10:\n",
    "        i = i/10\n",
    "        return i\n",
    "    return i\n",
    "df['children'] = df['children'].apply(removing_the_children)"
   ]
  },
  {
   "cell_type": "markdown",
   "metadata": {},
   "source": [
    "Проверим результат"
   ]
  },
  {
   "cell_type": "code",
   "execution_count": 24,
   "metadata": {},
   "outputs": [
    {
     "data": {
      "text/plain": [
       "array([1., 0., 3., 2., 4., 5.])"
      ]
     },
     "execution_count": 24,
     "metadata": {},
     "output_type": "execute_result"
    }
   ],
   "source": [
    "df['children'].unique()"
   ]
  },
  {
   "cell_type": "markdown",
   "metadata": {},
   "source": [
    "Разобьем столбец `children` на три категории"
   ]
  },
  {
   "cell_type": "code",
   "execution_count": 25,
   "metadata": {},
   "outputs": [],
   "source": [
    "children_category = df[['debt', 'children']]\n",
    "children_category = children_category.drop_duplicates().reset_index(drop=True)\n",
    "children_category\n",
    "def children_category(children):\n",
    "    if children <= 1:\n",
    "        return 'нет детей'\n",
    "    if 0 < children <= 2:\n",
    "        return '1-2 рёбенка'\n",
    "    return 'много детей'\n",
    "\n",
    "df['children_category'] = df['children'].apply(children_category)"
   ]
  },
  {
   "cell_type": "markdown",
   "metadata": {},
   "source": [
    "Проверим результат. Выведим первые 10 сторк нашей таблицы."
   ]
  },
  {
   "cell_type": "code",
   "execution_count": 26,
   "metadata": {},
   "outputs": [
    {
     "data": {
      "text/html": [
       "<div>\n",
       "<style scoped>\n",
       "    .dataframe tbody tr th:only-of-type {\n",
       "        vertical-align: middle;\n",
       "    }\n",
       "\n",
       "    .dataframe tbody tr th {\n",
       "        vertical-align: top;\n",
       "    }\n",
       "\n",
       "    .dataframe thead th {\n",
       "        text-align: right;\n",
       "    }\n",
       "</style>\n",
       "<table border=\"1\" class=\"dataframe\">\n",
       "  <thead>\n",
       "    <tr style=\"text-align: right;\">\n",
       "      <th></th>\n",
       "      <th>children</th>\n",
       "      <th>days_employed</th>\n",
       "      <th>dob_years</th>\n",
       "      <th>education</th>\n",
       "      <th>education_id</th>\n",
       "      <th>family_status</th>\n",
       "      <th>family_status_id</th>\n",
       "      <th>gender</th>\n",
       "      <th>income_type</th>\n",
       "      <th>debt</th>\n",
       "      <th>total_income</th>\n",
       "      <th>purpose</th>\n",
       "      <th>purpose_category</th>\n",
       "      <th>children_category</th>\n",
       "    </tr>\n",
       "  </thead>\n",
       "  <tbody>\n",
       "    <tr>\n",
       "      <td>0</td>\n",
       "      <td>1.0</td>\n",
       "      <td>8437.00</td>\n",
       "      <td>42</td>\n",
       "      <td>высшее</td>\n",
       "      <td>0</td>\n",
       "      <td>женат / замужем</td>\n",
       "      <td>0</td>\n",
       "      <td>F</td>\n",
       "      <td>сотрудник</td>\n",
       "      <td>0</td>\n",
       "      <td>253875</td>\n",
       "      <td>покупка жилья</td>\n",
       "      <td>недвижимость</td>\n",
       "      <td>нет детей</td>\n",
       "    </tr>\n",
       "    <tr>\n",
       "      <td>1</td>\n",
       "      <td>1.0</td>\n",
       "      <td>4024.00</td>\n",
       "      <td>36</td>\n",
       "      <td>среднее</td>\n",
       "      <td>1</td>\n",
       "      <td>женат / замужем</td>\n",
       "      <td>0</td>\n",
       "      <td>F</td>\n",
       "      <td>сотрудник</td>\n",
       "      <td>0</td>\n",
       "      <td>112080</td>\n",
       "      <td>приобретение автомобиля</td>\n",
       "      <td>автомобиль</td>\n",
       "      <td>нет детей</td>\n",
       "    </tr>\n",
       "    <tr>\n",
       "      <td>2</td>\n",
       "      <td>0.0</td>\n",
       "      <td>5623.00</td>\n",
       "      <td>33</td>\n",
       "      <td>Среднее</td>\n",
       "      <td>1</td>\n",
       "      <td>женат / замужем</td>\n",
       "      <td>0</td>\n",
       "      <td>M</td>\n",
       "      <td>сотрудник</td>\n",
       "      <td>0</td>\n",
       "      <td>145885</td>\n",
       "      <td>покупка жилья</td>\n",
       "      <td>недвижимость</td>\n",
       "      <td>нет детей</td>\n",
       "    </tr>\n",
       "    <tr>\n",
       "      <td>3</td>\n",
       "      <td>3.0</td>\n",
       "      <td>4124.00</td>\n",
       "      <td>32</td>\n",
       "      <td>среднее</td>\n",
       "      <td>1</td>\n",
       "      <td>женат / замужем</td>\n",
       "      <td>0</td>\n",
       "      <td>M</td>\n",
       "      <td>сотрудник</td>\n",
       "      <td>0</td>\n",
       "      <td>267628</td>\n",
       "      <td>дополнительное образование</td>\n",
       "      <td>образование</td>\n",
       "      <td>много детей</td>\n",
       "    </tr>\n",
       "    <tr>\n",
       "      <td>4</td>\n",
       "      <td>0.0</td>\n",
       "      <td>14177.75</td>\n",
       "      <td>53</td>\n",
       "      <td>среднее</td>\n",
       "      <td>1</td>\n",
       "      <td>гражданский брак</td>\n",
       "      <td>1</td>\n",
       "      <td>F</td>\n",
       "      <td>пенсионер</td>\n",
       "      <td>0</td>\n",
       "      <td>158616</td>\n",
       "      <td>сыграть свадьбу</td>\n",
       "      <td>свадьба</td>\n",
       "      <td>нет детей</td>\n",
       "    </tr>\n",
       "    <tr>\n",
       "      <td>5</td>\n",
       "      <td>0.0</td>\n",
       "      <td>926.00</td>\n",
       "      <td>27</td>\n",
       "      <td>высшее</td>\n",
       "      <td>0</td>\n",
       "      <td>гражданский брак</td>\n",
       "      <td>1</td>\n",
       "      <td>M</td>\n",
       "      <td>компаньон</td>\n",
       "      <td>0</td>\n",
       "      <td>255763</td>\n",
       "      <td>покупка жилья</td>\n",
       "      <td>недвижимость</td>\n",
       "      <td>нет детей</td>\n",
       "    </tr>\n",
       "    <tr>\n",
       "      <td>6</td>\n",
       "      <td>0.0</td>\n",
       "      <td>2879.00</td>\n",
       "      <td>43</td>\n",
       "      <td>высшее</td>\n",
       "      <td>0</td>\n",
       "      <td>женат / замужем</td>\n",
       "      <td>0</td>\n",
       "      <td>F</td>\n",
       "      <td>компаньон</td>\n",
       "      <td>0</td>\n",
       "      <td>240525</td>\n",
       "      <td>операции с жильем</td>\n",
       "      <td>недвижимость</td>\n",
       "      <td>нет детей</td>\n",
       "    </tr>\n",
       "    <tr>\n",
       "      <td>7</td>\n",
       "      <td>0.0</td>\n",
       "      <td>152.00</td>\n",
       "      <td>50</td>\n",
       "      <td>СРЕДНЕЕ</td>\n",
       "      <td>1</td>\n",
       "      <td>женат / замужем</td>\n",
       "      <td>0</td>\n",
       "      <td>M</td>\n",
       "      <td>сотрудник</td>\n",
       "      <td>0</td>\n",
       "      <td>135823</td>\n",
       "      <td>образование</td>\n",
       "      <td>образование</td>\n",
       "      <td>нет детей</td>\n",
       "    </tr>\n",
       "    <tr>\n",
       "      <td>8</td>\n",
       "      <td>2.0</td>\n",
       "      <td>6929.00</td>\n",
       "      <td>35</td>\n",
       "      <td>ВЫСШЕЕ</td>\n",
       "      <td>0</td>\n",
       "      <td>гражданский брак</td>\n",
       "      <td>1</td>\n",
       "      <td>F</td>\n",
       "      <td>сотрудник</td>\n",
       "      <td>0</td>\n",
       "      <td>95856</td>\n",
       "      <td>на проведение свадьбы</td>\n",
       "      <td>свадьба</td>\n",
       "      <td>1-2 рёбенка</td>\n",
       "    </tr>\n",
       "    <tr>\n",
       "      <td>9</td>\n",
       "      <td>0.0</td>\n",
       "      <td>2188.00</td>\n",
       "      <td>41</td>\n",
       "      <td>среднее</td>\n",
       "      <td>1</td>\n",
       "      <td>женат / замужем</td>\n",
       "      <td>0</td>\n",
       "      <td>M</td>\n",
       "      <td>сотрудник</td>\n",
       "      <td>0</td>\n",
       "      <td>144425</td>\n",
       "      <td>покупка жилья для семьи</td>\n",
       "      <td>недвижимость</td>\n",
       "      <td>нет детей</td>\n",
       "    </tr>\n",
       "  </tbody>\n",
       "</table>\n",
       "</div>"
      ],
      "text/plain": [
       "   children  days_employed  dob_years education  education_id  \\\n",
       "0       1.0        8437.00         42    высшее             0   \n",
       "1       1.0        4024.00         36   среднее             1   \n",
       "2       0.0        5623.00         33   Среднее             1   \n",
       "3       3.0        4124.00         32   среднее             1   \n",
       "4       0.0       14177.75         53   среднее             1   \n",
       "5       0.0         926.00         27    высшее             0   \n",
       "6       0.0        2879.00         43    высшее             0   \n",
       "7       0.0         152.00         50   СРЕДНЕЕ             1   \n",
       "8       2.0        6929.00         35    ВЫСШЕЕ             0   \n",
       "9       0.0        2188.00         41   среднее             1   \n",
       "\n",
       "      family_status  family_status_id gender income_type  debt  total_income  \\\n",
       "0   женат / замужем                 0      F   сотрудник     0        253875   \n",
       "1   женат / замужем                 0      F   сотрудник     0        112080   \n",
       "2   женат / замужем                 0      M   сотрудник     0        145885   \n",
       "3   женат / замужем                 0      M   сотрудник     0        267628   \n",
       "4  гражданский брак                 1      F   пенсионер     0        158616   \n",
       "5  гражданский брак                 1      M   компаньон     0        255763   \n",
       "6   женат / замужем                 0      F   компаньон     0        240525   \n",
       "7   женат / замужем                 0      M   сотрудник     0        135823   \n",
       "8  гражданский брак                 1      F   сотрудник     0         95856   \n",
       "9   женат / замужем                 0      M   сотрудник     0        144425   \n",
       "\n",
       "                      purpose purpose_category children_category  \n",
       "0               покупка жилья     недвижимость         нет детей  \n",
       "1     приобретение автомобиля       автомобиль         нет детей  \n",
       "2               покупка жилья     недвижимость         нет детей  \n",
       "3  дополнительное образование      образование       много детей  \n",
       "4             сыграть свадьбу          свадьба         нет детей  \n",
       "5               покупка жилья     недвижимость         нет детей  \n",
       "6           операции с жильем     недвижимость         нет детей  \n",
       "7                 образование      образование         нет детей  \n",
       "8       на проведение свадьбы          свадьба       1-2 рёбенка  \n",
       "9     покупка жилья для семьи     недвижимость         нет детей  "
      ]
     },
     "metadata": {},
     "output_type": "display_data"
    }
   ],
   "source": [
    "display(df.head(10))"
   ]
  },
  {
   "cell_type": "markdown",
   "metadata": {},
   "source": [
    "Разобьем на категории столбцы `family_status_id` и `family_status`"
   ]
  },
  {
   "cell_type": "markdown",
   "metadata": {},
   "source": [
    "Посмотрим уникальные значения столбца `family_status`"
   ]
  },
  {
   "cell_type": "code",
   "execution_count": 27,
   "metadata": {},
   "outputs": [
    {
     "data": {
      "text/plain": [
       "array(['женат / замужем', 'гражданский брак', 'вдовец / вдова',\n",
       "       'в разводе', 'Не женат / не замужем'], dtype=object)"
      ]
     },
     "execution_count": 27,
     "metadata": {},
     "output_type": "execute_result"
    }
   ],
   "source": [
    "df['family_status'].unique()"
   ]
  },
  {
   "cell_type": "code",
   "execution_count": 28,
   "metadata": {},
   "outputs": [
    {
     "data": {
      "text/html": [
       "<div>\n",
       "<style scoped>\n",
       "    .dataframe tbody tr th:only-of-type {\n",
       "        vertical-align: middle;\n",
       "    }\n",
       "\n",
       "    .dataframe tbody tr th {\n",
       "        vertical-align: top;\n",
       "    }\n",
       "\n",
       "    .dataframe thead th {\n",
       "        text-align: right;\n",
       "    }\n",
       "</style>\n",
       "<table border=\"1\" class=\"dataframe\">\n",
       "  <thead>\n",
       "    <tr style=\"text-align: right;\">\n",
       "      <th></th>\n",
       "      <th>family_status_id</th>\n",
       "      <th>family_status</th>\n",
       "    </tr>\n",
       "  </thead>\n",
       "  <tbody>\n",
       "    <tr>\n",
       "      <td>0</td>\n",
       "      <td>0</td>\n",
       "      <td>женат / замужем</td>\n",
       "    </tr>\n",
       "    <tr>\n",
       "      <td>1</td>\n",
       "      <td>1</td>\n",
       "      <td>гражданский брак</td>\n",
       "    </tr>\n",
       "    <tr>\n",
       "      <td>2</td>\n",
       "      <td>2</td>\n",
       "      <td>вдовец / вдова</td>\n",
       "    </tr>\n",
       "    <tr>\n",
       "      <td>3</td>\n",
       "      <td>3</td>\n",
       "      <td>в разводе</td>\n",
       "    </tr>\n",
       "    <tr>\n",
       "      <td>4</td>\n",
       "      <td>4</td>\n",
       "      <td>Не женат / не замужем</td>\n",
       "    </tr>\n",
       "  </tbody>\n",
       "</table>\n",
       "</div>"
      ],
      "text/plain": [
       "   family_status_id          family_status\n",
       "0                 0        женат / замужем\n",
       "1                 1       гражданский брак\n",
       "2                 2         вдовец / вдова\n",
       "3                 3              в разводе\n",
       "4                 4  Не женат / не замужем"
      ]
     },
     "execution_count": 28,
     "metadata": {},
     "output_type": "execute_result"
    }
   ],
   "source": [
    "category_marial_status = df[['family_status_id', 'family_status']]\n",
    "category_marial_status = category_marial_status.drop_duplicates().reset_index(drop=True)\n",
    "category_marial_status"
   ]
  },
  {
   "cell_type": "markdown",
   "metadata": {},
   "source": [
    "Найдём минимальный, средний и максимальный уровень дохода"
   ]
  },
  {
   "cell_type": "code",
   "execution_count": 29,
   "metadata": {},
   "outputs": [
    {
     "name": "stdout",
     "output_type": "stream",
     "text": [
      "20667\n",
      "145017.0\n",
      "2265604\n"
     ]
    }
   ],
   "source": [
    "print(df['total_income'].min())\n",
    "print(df['total_income'].median())\n",
    "print(df['total_income'].max())"
   ]
  },
  {
   "cell_type": "markdown",
   "metadata": {},
   "source": [
    "Разобьем на категории:\n",
    "* низкий доход - если доход меньше 50000\n",
    "* средний доход - если доход больше 50000 и меньше 200000\n",
    "* высокий доход - если доход больше 200000"
   ]
  },
  {
   "cell_type": "code",
   "execution_count": 30,
   "metadata": {},
   "outputs": [],
   "source": [
    "income_category = df[['debt', 'total_income']]\n",
    "income_category = income_category.drop_duplicates().reset_index(drop=True)\n",
    "income_category\n",
    "def money(total_income):\n",
    "    if total_income <= 50000:\n",
    "        return 'низкий доход'\n",
    "    if total_income <=200000:\n",
    "        return 'средний доход'\n",
    "    return 'высокий доход'\n",
    "\n",
    "df['income_category'] = df['total_income'].apply(money)"
   ]
  },
  {
   "cell_type": "markdown",
   "metadata": {},
   "source": [
    "Проверим результат"
   ]
  },
  {
   "cell_type": "code",
   "execution_count": 31,
   "metadata": {},
   "outputs": [
    {
     "data": {
      "text/html": [
       "<div>\n",
       "<style scoped>\n",
       "    .dataframe tbody tr th:only-of-type {\n",
       "        vertical-align: middle;\n",
       "    }\n",
       "\n",
       "    .dataframe tbody tr th {\n",
       "        vertical-align: top;\n",
       "    }\n",
       "\n",
       "    .dataframe thead th {\n",
       "        text-align: right;\n",
       "    }\n",
       "</style>\n",
       "<table border=\"1\" class=\"dataframe\">\n",
       "  <thead>\n",
       "    <tr style=\"text-align: right;\">\n",
       "      <th></th>\n",
       "      <th>children</th>\n",
       "      <th>days_employed</th>\n",
       "      <th>dob_years</th>\n",
       "      <th>education</th>\n",
       "      <th>education_id</th>\n",
       "      <th>family_status</th>\n",
       "      <th>family_status_id</th>\n",
       "      <th>gender</th>\n",
       "      <th>income_type</th>\n",
       "      <th>debt</th>\n",
       "      <th>total_income</th>\n",
       "      <th>purpose</th>\n",
       "      <th>purpose_category</th>\n",
       "      <th>children_category</th>\n",
       "      <th>income_category</th>\n",
       "    </tr>\n",
       "  </thead>\n",
       "  <tbody>\n",
       "    <tr>\n",
       "      <td>0</td>\n",
       "      <td>1.0</td>\n",
       "      <td>8437.00</td>\n",
       "      <td>42</td>\n",
       "      <td>высшее</td>\n",
       "      <td>0</td>\n",
       "      <td>женат / замужем</td>\n",
       "      <td>0</td>\n",
       "      <td>F</td>\n",
       "      <td>сотрудник</td>\n",
       "      <td>0</td>\n",
       "      <td>253875</td>\n",
       "      <td>покупка жилья</td>\n",
       "      <td>недвижимость</td>\n",
       "      <td>нет детей</td>\n",
       "      <td>высокий доход</td>\n",
       "    </tr>\n",
       "    <tr>\n",
       "      <td>1</td>\n",
       "      <td>1.0</td>\n",
       "      <td>4024.00</td>\n",
       "      <td>36</td>\n",
       "      <td>среднее</td>\n",
       "      <td>1</td>\n",
       "      <td>женат / замужем</td>\n",
       "      <td>0</td>\n",
       "      <td>F</td>\n",
       "      <td>сотрудник</td>\n",
       "      <td>0</td>\n",
       "      <td>112080</td>\n",
       "      <td>приобретение автомобиля</td>\n",
       "      <td>автомобиль</td>\n",
       "      <td>нет детей</td>\n",
       "      <td>средний доход</td>\n",
       "    </tr>\n",
       "    <tr>\n",
       "      <td>2</td>\n",
       "      <td>0.0</td>\n",
       "      <td>5623.00</td>\n",
       "      <td>33</td>\n",
       "      <td>Среднее</td>\n",
       "      <td>1</td>\n",
       "      <td>женат / замужем</td>\n",
       "      <td>0</td>\n",
       "      <td>M</td>\n",
       "      <td>сотрудник</td>\n",
       "      <td>0</td>\n",
       "      <td>145885</td>\n",
       "      <td>покупка жилья</td>\n",
       "      <td>недвижимость</td>\n",
       "      <td>нет детей</td>\n",
       "      <td>средний доход</td>\n",
       "    </tr>\n",
       "    <tr>\n",
       "      <td>3</td>\n",
       "      <td>3.0</td>\n",
       "      <td>4124.00</td>\n",
       "      <td>32</td>\n",
       "      <td>среднее</td>\n",
       "      <td>1</td>\n",
       "      <td>женат / замужем</td>\n",
       "      <td>0</td>\n",
       "      <td>M</td>\n",
       "      <td>сотрудник</td>\n",
       "      <td>0</td>\n",
       "      <td>267628</td>\n",
       "      <td>дополнительное образование</td>\n",
       "      <td>образование</td>\n",
       "      <td>много детей</td>\n",
       "      <td>высокий доход</td>\n",
       "    </tr>\n",
       "    <tr>\n",
       "      <td>4</td>\n",
       "      <td>0.0</td>\n",
       "      <td>14177.75</td>\n",
       "      <td>53</td>\n",
       "      <td>среднее</td>\n",
       "      <td>1</td>\n",
       "      <td>гражданский брак</td>\n",
       "      <td>1</td>\n",
       "      <td>F</td>\n",
       "      <td>пенсионер</td>\n",
       "      <td>0</td>\n",
       "      <td>158616</td>\n",
       "      <td>сыграть свадьбу</td>\n",
       "      <td>свадьба</td>\n",
       "      <td>нет детей</td>\n",
       "      <td>средний доход</td>\n",
       "    </tr>\n",
       "    <tr>\n",
       "      <td>5</td>\n",
       "      <td>0.0</td>\n",
       "      <td>926.00</td>\n",
       "      <td>27</td>\n",
       "      <td>высшее</td>\n",
       "      <td>0</td>\n",
       "      <td>гражданский брак</td>\n",
       "      <td>1</td>\n",
       "      <td>M</td>\n",
       "      <td>компаньон</td>\n",
       "      <td>0</td>\n",
       "      <td>255763</td>\n",
       "      <td>покупка жилья</td>\n",
       "      <td>недвижимость</td>\n",
       "      <td>нет детей</td>\n",
       "      <td>высокий доход</td>\n",
       "    </tr>\n",
       "    <tr>\n",
       "      <td>6</td>\n",
       "      <td>0.0</td>\n",
       "      <td>2879.00</td>\n",
       "      <td>43</td>\n",
       "      <td>высшее</td>\n",
       "      <td>0</td>\n",
       "      <td>женат / замужем</td>\n",
       "      <td>0</td>\n",
       "      <td>F</td>\n",
       "      <td>компаньон</td>\n",
       "      <td>0</td>\n",
       "      <td>240525</td>\n",
       "      <td>операции с жильем</td>\n",
       "      <td>недвижимость</td>\n",
       "      <td>нет детей</td>\n",
       "      <td>высокий доход</td>\n",
       "    </tr>\n",
       "    <tr>\n",
       "      <td>7</td>\n",
       "      <td>0.0</td>\n",
       "      <td>152.00</td>\n",
       "      <td>50</td>\n",
       "      <td>СРЕДНЕЕ</td>\n",
       "      <td>1</td>\n",
       "      <td>женат / замужем</td>\n",
       "      <td>0</td>\n",
       "      <td>M</td>\n",
       "      <td>сотрудник</td>\n",
       "      <td>0</td>\n",
       "      <td>135823</td>\n",
       "      <td>образование</td>\n",
       "      <td>образование</td>\n",
       "      <td>нет детей</td>\n",
       "      <td>средний доход</td>\n",
       "    </tr>\n",
       "    <tr>\n",
       "      <td>8</td>\n",
       "      <td>2.0</td>\n",
       "      <td>6929.00</td>\n",
       "      <td>35</td>\n",
       "      <td>ВЫСШЕЕ</td>\n",
       "      <td>0</td>\n",
       "      <td>гражданский брак</td>\n",
       "      <td>1</td>\n",
       "      <td>F</td>\n",
       "      <td>сотрудник</td>\n",
       "      <td>0</td>\n",
       "      <td>95856</td>\n",
       "      <td>на проведение свадьбы</td>\n",
       "      <td>свадьба</td>\n",
       "      <td>1-2 рёбенка</td>\n",
       "      <td>средний доход</td>\n",
       "    </tr>\n",
       "    <tr>\n",
       "      <td>9</td>\n",
       "      <td>0.0</td>\n",
       "      <td>2188.00</td>\n",
       "      <td>41</td>\n",
       "      <td>среднее</td>\n",
       "      <td>1</td>\n",
       "      <td>женат / замужем</td>\n",
       "      <td>0</td>\n",
       "      <td>M</td>\n",
       "      <td>сотрудник</td>\n",
       "      <td>0</td>\n",
       "      <td>144425</td>\n",
       "      <td>покупка жилья для семьи</td>\n",
       "      <td>недвижимость</td>\n",
       "      <td>нет детей</td>\n",
       "      <td>средний доход</td>\n",
       "    </tr>\n",
       "  </tbody>\n",
       "</table>\n",
       "</div>"
      ],
      "text/plain": [
       "   children  days_employed  dob_years education  education_id  \\\n",
       "0       1.0        8437.00         42    высшее             0   \n",
       "1       1.0        4024.00         36   среднее             1   \n",
       "2       0.0        5623.00         33   Среднее             1   \n",
       "3       3.0        4124.00         32   среднее             1   \n",
       "4       0.0       14177.75         53   среднее             1   \n",
       "5       0.0         926.00         27    высшее             0   \n",
       "6       0.0        2879.00         43    высшее             0   \n",
       "7       0.0         152.00         50   СРЕДНЕЕ             1   \n",
       "8       2.0        6929.00         35    ВЫСШЕЕ             0   \n",
       "9       0.0        2188.00         41   среднее             1   \n",
       "\n",
       "      family_status  family_status_id gender income_type  debt  total_income  \\\n",
       "0   женат / замужем                 0      F   сотрудник     0        253875   \n",
       "1   женат / замужем                 0      F   сотрудник     0        112080   \n",
       "2   женат / замужем                 0      M   сотрудник     0        145885   \n",
       "3   женат / замужем                 0      M   сотрудник     0        267628   \n",
       "4  гражданский брак                 1      F   пенсионер     0        158616   \n",
       "5  гражданский брак                 1      M   компаньон     0        255763   \n",
       "6   женат / замужем                 0      F   компаньон     0        240525   \n",
       "7   женат / замужем                 0      M   сотрудник     0        135823   \n",
       "8  гражданский брак                 1      F   сотрудник     0         95856   \n",
       "9   женат / замужем                 0      M   сотрудник     0        144425   \n",
       "\n",
       "                      purpose purpose_category children_category  \\\n",
       "0               покупка жилья     недвижимость         нет детей   \n",
       "1     приобретение автомобиля       автомобиль         нет детей   \n",
       "2               покупка жилья     недвижимость         нет детей   \n",
       "3  дополнительное образование      образование       много детей   \n",
       "4             сыграть свадьбу          свадьба         нет детей   \n",
       "5               покупка жилья     недвижимость         нет детей   \n",
       "6           операции с жильем     недвижимость         нет детей   \n",
       "7                 образование      образование         нет детей   \n",
       "8       на проведение свадьбы          свадьба       1-2 рёбенка   \n",
       "9     покупка жилья для семьи     недвижимость         нет детей   \n",
       "\n",
       "  income_category  \n",
       "0   высокий доход  \n",
       "1   средний доход  \n",
       "2   средний доход  \n",
       "3   высокий доход  \n",
       "4   средний доход  \n",
       "5   высокий доход  \n",
       "6   высокий доход  \n",
       "7   средний доход  \n",
       "8   средний доход  \n",
       "9   средний доход  "
      ]
     },
     "metadata": {},
     "output_type": "display_data"
    }
   ],
   "source": [
    "display(df.head(10))"
   ]
  },
  {
   "cell_type": "markdown",
   "metadata": {},
   "source": [
    "**Вывод**\n",
    "\n",
    "Были созданны словари по количеству детей, по семейному положению доходу заёмщика. Для того чтобы ответить на поставленные вопросы. "
   ]
  },
  {
   "cell_type": "markdown",
   "metadata": {},
   "source": [
    "## 3. Ответить на поставленые вопросы"
   ]
  },
  {
   "cell_type": "markdown",
   "metadata": {},
   "source": [
    "- Есть ли зависимость между наличием детей и возвратом кредита в срок?"
   ]
  },
  {
   "cell_type": "code",
   "execution_count": 32,
   "metadata": {},
   "outputs": [
    {
     "data": {
      "text/html": [
       "<style  type=\"text/css\" >\n",
       "</style><table id=\"T_830fae28_4450_11ec_a932_02420a399b69\" ><thead>    <tr>        <th class=\"blank level0\" ></th>        <th class=\"col_heading level0 col0\" colspan=2>Зависимость между наличием детей и возвратом кредита в срок</th>    </tr>    <tr>        <th class=\"blank level1\" ></th>        <th class=\"col_heading level1 col0\" >%невозврата</th>        <th class=\"col_heading level1 col1\" >кол-во заемщиков</th>    </tr>    <tr>        <th class=\"index_name level0\" >кол-во детей</th>        <th class=\"blank\" ></th>        <th class=\"blank\" ></th>    </tr></thead><tbody>\n",
       "                <tr>\n",
       "                        <th id=\"T_830fae28_4450_11ec_a932_02420a399b69level0_row0\" class=\"row_heading level0 row0\" >0.0</th>\n",
       "                        <td id=\"T_830fae28_4450_11ec_a932_02420a399b69row0_col0\" class=\"data row0 col0\" >7.54%</td>\n",
       "                        <td id=\"T_830fae28_4450_11ec_a932_02420a399b69row0_col1\" class=\"data row0 col1\" >14107</td>\n",
       "            </tr>\n",
       "            <tr>\n",
       "                        <th id=\"T_830fae28_4450_11ec_a932_02420a399b69level0_row1\" class=\"row_heading level0 row1\" >1.0</th>\n",
       "                        <td id=\"T_830fae28_4450_11ec_a932_02420a399b69row1_col0\" class=\"data row1 col0\" >9.16%</td>\n",
       "                        <td id=\"T_830fae28_4450_11ec_a932_02420a399b69row1_col1\" class=\"data row1 col1\" >4856</td>\n",
       "            </tr>\n",
       "            <tr>\n",
       "                        <th id=\"T_830fae28_4450_11ec_a932_02420a399b69level0_row2\" class=\"row_heading level0 row2\" >2.0</th>\n",
       "                        <td id=\"T_830fae28_4450_11ec_a932_02420a399b69row2_col0\" class=\"data row2 col0\" >9.49%</td>\n",
       "                        <td id=\"T_830fae28_4450_11ec_a932_02420a399b69row2_col1\" class=\"data row2 col1\" >2128</td>\n",
       "            </tr>\n",
       "            <tr>\n",
       "                        <th id=\"T_830fae28_4450_11ec_a932_02420a399b69level0_row3\" class=\"row_heading level0 row3\" >3.0</th>\n",
       "                        <td id=\"T_830fae28_4450_11ec_a932_02420a399b69row3_col0\" class=\"data row3 col0\" >8.18%</td>\n",
       "                        <td id=\"T_830fae28_4450_11ec_a932_02420a399b69row3_col1\" class=\"data row3 col1\" >330</td>\n",
       "            </tr>\n",
       "            <tr>\n",
       "                        <th id=\"T_830fae28_4450_11ec_a932_02420a399b69level0_row4\" class=\"row_heading level0 row4\" >4.0</th>\n",
       "                        <td id=\"T_830fae28_4450_11ec_a932_02420a399b69row4_col0\" class=\"data row4 col0\" >9.76%</td>\n",
       "                        <td id=\"T_830fae28_4450_11ec_a932_02420a399b69row4_col1\" class=\"data row4 col1\" >41</td>\n",
       "            </tr>\n",
       "            <tr>\n",
       "                        <th id=\"T_830fae28_4450_11ec_a932_02420a399b69level0_row5\" class=\"row_heading level0 row5\" >5.0</th>\n",
       "                        <td id=\"T_830fae28_4450_11ec_a932_02420a399b69row5_col0\" class=\"data row5 col0\" >0.00%</td>\n",
       "                        <td id=\"T_830fae28_4450_11ec_a932_02420a399b69row5_col1\" class=\"data row5 col1\" >9</td>\n",
       "            </tr>\n",
       "    </tbody></table>"
      ],
      "text/plain": [
       "<pandas.io.formats.style.Styler at 0x7f17f0bf2290>"
      ]
     },
     "execution_count": 32,
     "metadata": {},
     "output_type": "execute_result"
    }
   ],
   "source": [
    "report = df.groupby('children').agg({'debt':['mean','count']})\n",
    "report = report.rename(columns = {'debt':'Зависимость между наличием детей и возвратом кредита в срок'}, level=0)\n",
    "report = report.rename(columns = {'mean':'%невозврата', 'count':'кол-во заемщиков'}, level=1)\n",
    "report.index = report.index.rename('кол-во детей')\n",
    "report.style.format({('Зависимость между наличием детей и возвратом кредита в срок','%невозврата'):'{:.2%}',('Зависимость между наличием детей и возвратом кредита в срок','кол-во заемщиков'):'{:.0f}'})"
   ]
  },
  {
   "cell_type": "markdown",
   "metadata": {},
   "source": [
    "**Вывод**"
   ]
  },
  {
   "cell_type": "markdown",
   "metadata": {},
   "source": [
    "Возврат кредита в срок зависит от количество детей. У заемщиков, у которых нет детей, процент не возврата меньше чем у заёмщиков с одним и более детей. Но у клиентов, у которых пять детей, процент невозврата кредита нулевой. "
   ]
  },
  {
   "cell_type": "markdown",
   "metadata": {},
   "source": [
    "- Есть ли зависимость между семейным положением и возвратом кредита в срок?"
   ]
  },
  {
   "cell_type": "code",
   "execution_count": 33,
   "metadata": {},
   "outputs": [
    {
     "data": {
      "text/html": [
       "<style  type=\"text/css\" >\n",
       "</style><table id=\"T_83141a8a_4450_11ec_a932_02420a399b69\" ><thead>    <tr>        <th class=\"blank level0\" ></th>        <th class=\"col_heading level0 col0\" colspan=2>Зависимость между семейным положением и возвратом кредита в срок?</th>    </tr>    <tr>        <th class=\"blank level1\" ></th>        <th class=\"col_heading level1 col0\" >%невозврата</th>        <th class=\"col_heading level1 col1\" >кол-во заемщиков</th>    </tr>    <tr>        <th class=\"index_name level0\" >семейное положение</th>        <th class=\"blank\" ></th>        <th class=\"blank\" ></th>    </tr></thead><tbody>\n",
       "                <tr>\n",
       "                        <th id=\"T_83141a8a_4450_11ec_a932_02420a399b69level0_row0\" class=\"row_heading level0 row0\" >Не женат / не замужем</th>\n",
       "                        <td id=\"T_83141a8a_4450_11ec_a932_02420a399b69row0_col0\" class=\"data row0 col0\" >9.75%</td>\n",
       "                        <td id=\"T_83141a8a_4450_11ec_a932_02420a399b69row0_col1\" class=\"data row0 col1\" >2810</td>\n",
       "            </tr>\n",
       "            <tr>\n",
       "                        <th id=\"T_83141a8a_4450_11ec_a932_02420a399b69level0_row1\" class=\"row_heading level0 row1\" >в разводе</th>\n",
       "                        <td id=\"T_83141a8a_4450_11ec_a932_02420a399b69row1_col0\" class=\"data row1 col0\" >7.11%</td>\n",
       "                        <td id=\"T_83141a8a_4450_11ec_a932_02420a399b69row1_col1\" class=\"data row1 col1\" >1195</td>\n",
       "            </tr>\n",
       "            <tr>\n",
       "                        <th id=\"T_83141a8a_4450_11ec_a932_02420a399b69level0_row2\" class=\"row_heading level0 row2\" >вдовец / вдова</th>\n",
       "                        <td id=\"T_83141a8a_4450_11ec_a932_02420a399b69row2_col0\" class=\"data row2 col0\" >6.57%</td>\n",
       "                        <td id=\"T_83141a8a_4450_11ec_a932_02420a399b69row2_col1\" class=\"data row2 col1\" >959</td>\n",
       "            </tr>\n",
       "            <tr>\n",
       "                        <th id=\"T_83141a8a_4450_11ec_a932_02420a399b69level0_row3\" class=\"row_heading level0 row3\" >гражданский брак</th>\n",
       "                        <td id=\"T_83141a8a_4450_11ec_a932_02420a399b69row3_col0\" class=\"data row3 col0\" >9.32%</td>\n",
       "                        <td id=\"T_83141a8a_4450_11ec_a932_02420a399b69row3_col1\" class=\"data row3 col1\" >4163</td>\n",
       "            </tr>\n",
       "            <tr>\n",
       "                        <th id=\"T_83141a8a_4450_11ec_a932_02420a399b69level0_row4\" class=\"row_heading level0 row4\" >женат / замужем</th>\n",
       "                        <td id=\"T_83141a8a_4450_11ec_a932_02420a399b69row4_col0\" class=\"data row4 col0\" >7.54%</td>\n",
       "                        <td id=\"T_83141a8a_4450_11ec_a932_02420a399b69row4_col1\" class=\"data row4 col1\" >12344</td>\n",
       "            </tr>\n",
       "    </tbody></table>"
      ],
      "text/plain": [
       "<pandas.io.formats.style.Styler at 0x7f17d4d343d0>"
      ]
     },
     "execution_count": 33,
     "metadata": {},
     "output_type": "execute_result"
    }
   ],
   "source": [
    "report = df.groupby('family_status').agg({'debt':['mean','count']})\n",
    "report = report.rename(columns = {'debt':'Зависимость между семейным положением и возвратом кредита в срок?'}, level=0)\n",
    "report = report.rename(columns = {'mean':'%невозврата', 'count':'кол-во заемщиков'}, level=1)\n",
    "report.index = report.index.rename('семейное положение')\n",
    "report.style.format({('Зависимость между семейным положением и возвратом кредита в срок?','%невозврата'):'{:.2%}',('Зависимость между семейным положением и возвратом кредита в срок?','кол-во заемщиков'):'{:.0f}'})"
   ]
  },
  {
   "cell_type": "markdown",
   "metadata": {},
   "source": [
    "**Вывод**"
   ]
  },
  {
   "cell_type": "markdown",
   "metadata": {},
   "source": [
    "Возврат кредита в срок зависит от семейного положения заёмщика. Самый высокий процент невозврата кредита в срок у заёмщиков, которые `не женаты/не замужем` и у тех, которые живут в `гражданском браке`. Самый низкий процент невозврата кредита у `вдовцов/вдов` и у людей в разводе.  "
   ]
  },
  {
   "cell_type": "markdown",
   "metadata": {},
   "source": [
    "- Есть ли зависимость между уровнем дохода и возвратом кредита в срок?"
   ]
  },
  {
   "cell_type": "code",
   "execution_count": 34,
   "metadata": {},
   "outputs": [
    {
     "data": {
      "text/html": [
       "<style  type=\"text/css\" >\n",
       "</style><table id=\"T_831760b4_4450_11ec_a932_02420a399b69\" ><thead>    <tr>        <th class=\"blank level0\" ></th>        <th class=\"col_heading level0 col0\" colspan=2>Зависимость между уровнем дохода и возвратом кредита в срок</th>    </tr>    <tr>        <th class=\"blank level1\" ></th>        <th class=\"col_heading level1 col0\" >%невозврата</th>        <th class=\"col_heading level1 col1\" >кол-во заемщиков</th>    </tr>    <tr>        <th class=\"index_name level0\" >уровень дохода</th>        <th class=\"blank\" ></th>        <th class=\"blank\" ></th>    </tr></thead><tbody>\n",
       "                <tr>\n",
       "                        <th id=\"T_831760b4_4450_11ec_a932_02420a399b69level0_row0\" class=\"row_heading level0 row0\" >высокий доход</th>\n",
       "                        <td id=\"T_831760b4_4450_11ec_a932_02420a399b69row0_col0\" class=\"data row0 col0\" >7.07%</td>\n",
       "                        <td id=\"T_831760b4_4450_11ec_a932_02420a399b69row0_col1\" class=\"data row0 col1\" >5066</td>\n",
       "            </tr>\n",
       "            <tr>\n",
       "                        <th id=\"T_831760b4_4450_11ec_a932_02420a399b69level0_row1\" class=\"row_heading level0 row1\" >низкий доход</th>\n",
       "                        <td id=\"T_831760b4_4450_11ec_a932_02420a399b69row1_col0\" class=\"data row1 col0\" >6.18%</td>\n",
       "                        <td id=\"T_831760b4_4450_11ec_a932_02420a399b69row1_col1\" class=\"data row1 col1\" >372</td>\n",
       "            </tr>\n",
       "            <tr>\n",
       "                        <th id=\"T_831760b4_4450_11ec_a932_02420a399b69level0_row2\" class=\"row_heading level0 row2\" >средний доход</th>\n",
       "                        <td id=\"T_831760b4_4450_11ec_a932_02420a399b69row2_col0\" class=\"data row2 col0\" >8.48%</td>\n",
       "                        <td id=\"T_831760b4_4450_11ec_a932_02420a399b69row2_col1\" class=\"data row2 col1\" >16033</td>\n",
       "            </tr>\n",
       "    </tbody></table>"
      ],
      "text/plain": [
       "<pandas.io.formats.style.Styler at 0x7f17d4d0e350>"
      ]
     },
     "execution_count": 34,
     "metadata": {},
     "output_type": "execute_result"
    }
   ],
   "source": [
    "report = df.groupby('income_category').agg({'debt':['mean','count']})\n",
    "report = report.rename(columns = {'debt':'Зависимость между уровнем дохода и возвратом кредита в срок'}, level=0)\n",
    "report = report.rename(columns = {'mean':'%невозврата', 'count':'кол-во заемщиков'}, level=1)\n",
    "report.index = report.index.rename('уровень дохода')\n",
    "report.style.format({('Зависимость между уровнем дохода и возвратом кредита в срок','%невозврата'):'{:.2%}',('Зависимость между уровнем дохода и возвратом кредита в срок','кол-во заемщиков'):'{:.0f}'})"
   ]
  },
  {
   "cell_type": "markdown",
   "metadata": {},
   "source": [
    "**Вывод**"
   ]
  },
  {
   "cell_type": "markdown",
   "metadata": {},
   "source": [
    "Люди со средним доходом берут кредыты чаще, тем самым процент невозврта кредита в срок больше, чем у людей с высоким доходом. Низкий процент не возврата у людей с низким доходом."
   ]
  },
  {
   "cell_type": "markdown",
   "metadata": {},
   "source": [
    "- Как разные цели кредита влияют на его возврат в срок?"
   ]
  },
  {
   "cell_type": "code",
   "execution_count": 35,
   "metadata": {},
   "outputs": [
    {
     "data": {
      "text/html": [
       "<style  type=\"text/css\" >\n",
       "</style><table id=\"T_831adcc6_4450_11ec_a932_02420a399b69\" ><thead>    <tr>        <th class=\"blank level0\" ></th>        <th class=\"col_heading level0 col0\" colspan=2>Цели кредита и взвратом кредита в срок</th>    </tr>    <tr>        <th class=\"blank level1\" ></th>        <th class=\"col_heading level1 col0\" >%невозврата</th>        <th class=\"col_heading level1 col1\" >кол-во заемщиков</th>    </tr>    <tr>        <th class=\"index_name level0\" >цель кредита</th>        <th class=\"blank\" ></th>        <th class=\"blank\" ></th>    </tr></thead><tbody>\n",
       "                <tr>\n",
       "                        <th id=\"T_831adcc6_4450_11ec_a932_02420a399b69level0_row0\" class=\"row_heading level0 row0\" >автомобиль</th>\n",
       "                        <td id=\"T_831adcc6_4450_11ec_a932_02420a399b69row0_col0\" class=\"data row0 col0\" >9.35%</td>\n",
       "                        <td id=\"T_831adcc6_4450_11ec_a932_02420a399b69row0_col1\" class=\"data row0 col1\" >4308</td>\n",
       "            </tr>\n",
       "            <tr>\n",
       "                        <th id=\"T_831adcc6_4450_11ec_a932_02420a399b69level0_row1\" class=\"row_heading level0 row1\" >недвижимость</th>\n",
       "                        <td id=\"T_831adcc6_4450_11ec_a932_02420a399b69row1_col0\" class=\"data row1 col0\" >7.23%</td>\n",
       "                        <td id=\"T_831adcc6_4450_11ec_a932_02420a399b69row1_col1\" class=\"data row1 col1\" >10814</td>\n",
       "            </tr>\n",
       "            <tr>\n",
       "                        <th id=\"T_831adcc6_4450_11ec_a932_02420a399b69level0_row2\" class=\"row_heading level0 row2\" >образование</th>\n",
       "                        <td id=\"T_831adcc6_4450_11ec_a932_02420a399b69row2_col0\" class=\"data row2 col0\" >9.22%</td>\n",
       "                        <td id=\"T_831adcc6_4450_11ec_a932_02420a399b69row2_col1\" class=\"data row2 col1\" >4014</td>\n",
       "            </tr>\n",
       "            <tr>\n",
       "                        <th id=\"T_831adcc6_4450_11ec_a932_02420a399b69level0_row3\" class=\"row_heading level0 row3\" >свадьба</th>\n",
       "                        <td id=\"T_831adcc6_4450_11ec_a932_02420a399b69row3_col0\" class=\"data row3 col0\" >7.97%</td>\n",
       "                        <td id=\"T_831adcc6_4450_11ec_a932_02420a399b69row3_col1\" class=\"data row3 col1\" >2335</td>\n",
       "            </tr>\n",
       "    </tbody></table>"
      ],
      "text/plain": [
       "<pandas.io.formats.style.Styler at 0x7f17d4d3d9d0>"
      ]
     },
     "execution_count": 35,
     "metadata": {},
     "output_type": "execute_result"
    }
   ],
   "source": [
    "report = df.groupby('purpose_category').agg({'debt':['mean','count']})\n",
    "report = report.rename(columns = {'debt':'Цели кредита и взвратом кредита в срок'}, level=0)\n",
    "report = report.rename(columns = {'mean':'%невозврата', 'count':'кол-во заемщиков'}, level=1)\n",
    "report.index = report.index.rename('цель кредита')\n",
    "report.style.format({('Цели кредита и взвратом кредита в срок','%невозврата'):'{:.2%}',('Цели кредита и взвратом кредита в срок','кол-во заемщиков'):'{:.0f}'})"
   ]
  },
  {
   "cell_type": "markdown",
   "metadata": {},
   "source": [
    "**Вывод**"
   ]
  },
  {
   "cell_type": "markdown",
   "metadata": {},
   "source": [
    "Самый низкий процент невозврата кредита в срок у заёмщиков, которые взяли кредит с целью на приобретения недвижимости. Выше просрочка у тех, которые брали кредит на автомобиль и образование. Процент невозврата по кредиту с целью свадьбы примерно такой же как и на недвижимость"
   ]
  },
  {
   "cell_type": "markdown",
   "metadata": {},
   "source": [
    "## 4. Общий вывод"
   ]
  },
  {
   "cell_type": "markdown",
   "metadata": {},
   "source": [
    "Общий вывод - чем больше детей, тем меньше платят в срок кредит, но у заёмщиков, у которых пять детей, процент невозврата кредита в срок равен нулю. Семейный статус влияет на оплату кредита в срок, люди, которые не были в браке реже платят в срок, чем те, которые были, причем овдовевшие и разведенные люди платят чаще, чем люди в браке.  "
   ]
  },
  {
   "cell_type": "markdown",
   "metadata": {},
   "source": [
    "## Чек-лист готовности проекта\n",
    "\n",
    "Поставьте 'x' в выполненных пунктах. Далее нажмите Shift+Enter."
   ]
  },
  {
   "cell_type": "markdown",
   "metadata": {},
   "source": [
    "- [x]  открыт файл;\n",
    "- [x]  файл изучен;\n",
    "- [x]  определены пропущенные значения;\n",
    "- [x]  заполнены пропущенные значения;\n",
    "- [x]  есть пояснение, какие пропущенные значения обнаружены;\n",
    "- [x]  описаны возможные причины появления пропусков в данных;\n",
    "- [x]  объяснено, по какому принципу заполнены пропуски;\n",
    "- [x]  заменен вещественный тип данных на целочисленный;\n",
    "- [x]  есть пояснение, какой метод используется для изменения типа данных и почему;\n",
    "- [x]  удалены дубликаты;\n",
    "- [x]  есть пояснение, какой метод используется для поиска и удаления дубликатов;\n",
    "- [x]  описаны возможные причины появления дубликатов в данных;\n",
    "- [x]  выделены леммы в значениях столбца с целями получения кредита;\n",
    "- [x]  описан процесс лемматизации;\n",
    "- [x]  данные категоризированы;\n",
    "- [x]  есть объяснение принципа категоризации данных;\n",
    "- [x]  есть ответ на вопрос: \"Есть ли зависимость между наличием детей и возвратом кредита в срок?\";\n",
    "- [x]  есть ответ на вопрос: \"Есть ли зависимость между семейным положением и возвратом кредита в срок?\";\n",
    "- [x]  есть ответ на вопрос: \"Есть ли зависимость между уровнем дохода и возвратом кредита в срок?\";\n",
    "- [x]  есть ответ на вопрос: \"Как разные цели кредита влияют на его возврат в срок?\";\n",
    "- [x]  в каждом этапе есть выводы;\n",
    "- [x]  есть общий вывод."
   ]
  }
 ],
 "metadata": {
  "ExecuteTimeLog": [
   {
    "duration": 606,
    "start_time": "2021-11-05T11:33:52.693Z"
   },
   {
    "duration": 55,
    "start_time": "2021-11-05T11:34:45.640Z"
   },
   {
    "duration": 10,
    "start_time": "2021-11-05T11:36:03.122Z"
   },
   {
    "duration": 243,
    "start_time": "2021-11-05T11:44:22.392Z"
   },
   {
    "duration": 194,
    "start_time": "2021-11-05T11:44:47.637Z"
   },
   {
    "duration": 190,
    "start_time": "2021-11-05T11:51:24.769Z"
   },
   {
    "duration": 20,
    "start_time": "2021-11-05T11:51:38.947Z"
   },
   {
    "duration": 25,
    "start_time": "2021-11-05T11:52:00.123Z"
   },
   {
    "duration": 21,
    "start_time": "2021-11-05T11:58:03.972Z"
   },
   {
    "duration": 15,
    "start_time": "2021-11-05T12:59:31.229Z"
   },
   {
    "duration": 205,
    "start_time": "2021-11-05T13:01:55.584Z"
   },
   {
    "duration": 185,
    "start_time": "2021-11-05T13:02:19.703Z"
   },
   {
    "duration": 38,
    "start_time": "2021-11-05T13:02:35.671Z"
   },
   {
    "duration": 880,
    "start_time": "2021-11-06T05:13:39.982Z"
   },
   {
    "duration": 101,
    "start_time": "2021-11-06T05:19:54.092Z"
   },
   {
    "duration": 1128,
    "start_time": "2021-11-06T05:20:00.802Z"
   },
   {
    "duration": 293,
    "start_time": "2021-11-06T14:46:11.952Z"
   },
   {
    "duration": 255,
    "start_time": "2021-11-06T14:46:37.246Z"
   },
   {
    "duration": 691,
    "start_time": "2021-11-06T14:46:44.234Z"
   },
   {
    "duration": 7423,
    "start_time": "2021-11-06T14:46:48.333Z"
   },
   {
    "duration": 6845,
    "start_time": "2021-11-06T14:47:59.700Z"
   },
   {
    "duration": 7802,
    "start_time": "2021-11-06T14:49:01.972Z"
   },
   {
    "duration": 8,
    "start_time": "2021-11-06T14:49:36.267Z"
   },
   {
    "duration": 13,
    "start_time": "2021-11-06T14:49:51.734Z"
   },
   {
    "duration": 13,
    "start_time": "2021-11-06T14:50:57.365Z"
   },
   {
    "duration": 16,
    "start_time": "2021-11-06T14:51:07.954Z"
   },
   {
    "duration": 6514,
    "start_time": "2021-11-06T14:52:23.018Z"
   },
   {
    "duration": 248,
    "start_time": "2021-11-07T14:06:15.174Z"
   },
   {
    "duration": 181,
    "start_time": "2021-11-07T14:07:14.462Z"
   },
   {
    "duration": 182,
    "start_time": "2021-11-07T14:07:47.699Z"
   },
   {
    "duration": 180,
    "start_time": "2021-11-07T14:08:10.190Z"
   },
   {
    "duration": 593,
    "start_time": "2021-11-07T14:08:16.631Z"
   },
   {
    "duration": 19,
    "start_time": "2021-11-07T14:08:20.418Z"
   },
   {
    "duration": 21,
    "start_time": "2021-11-07T14:09:00.436Z"
   },
   {
    "duration": 20,
    "start_time": "2021-11-07T14:09:16.363Z"
   },
   {
    "duration": 68,
    "start_time": "2021-11-07T14:09:38.953Z"
   },
   {
    "duration": 21,
    "start_time": "2021-11-07T14:09:43.375Z"
   },
   {
    "duration": 12,
    "start_time": "2021-11-07T14:12:46.956Z"
   },
   {
    "duration": 37,
    "start_time": "2021-11-07T14:13:12.775Z"
   },
   {
    "duration": 836,
    "start_time": "2021-11-07T14:14:26.553Z"
   },
   {
    "duration": 858,
    "start_time": "2021-11-07T14:14:35.552Z"
   },
   {
    "duration": 673,
    "start_time": "2021-11-07T14:14:47.288Z"
   },
   {
    "duration": 187,
    "start_time": "2021-11-07T14:46:02.349Z"
   },
   {
    "duration": 181,
    "start_time": "2021-11-07T14:47:14.415Z"
   },
   {
    "duration": 13,
    "start_time": "2021-11-07T14:48:33.500Z"
   },
   {
    "duration": 5,
    "start_time": "2021-11-07T14:51:49.782Z"
   },
   {
    "duration": 11,
    "start_time": "2021-11-07T15:01:19.385Z"
   },
   {
    "duration": 174,
    "start_time": "2021-11-07T15:08:18.612Z"
   },
   {
    "duration": 12,
    "start_time": "2021-11-07T15:08:20.676Z"
   },
   {
    "duration": 178,
    "start_time": "2021-11-07T15:08:56.834Z"
   },
   {
    "duration": 11,
    "start_time": "2021-11-07T15:08:58.450Z"
   },
   {
    "duration": 13,
    "start_time": "2021-11-07T15:09:13.808Z"
   },
   {
    "duration": 12,
    "start_time": "2021-11-07T15:09:14.728Z"
   },
   {
    "duration": 12,
    "start_time": "2021-11-07T15:20:03.315Z"
   },
   {
    "duration": 177,
    "start_time": "2021-11-07T15:20:27.882Z"
   },
   {
    "duration": 12,
    "start_time": "2021-11-07T15:20:28.827Z"
   },
   {
    "duration": 10,
    "start_time": "2021-11-07T15:20:50.422Z"
   },
   {
    "duration": 15,
    "start_time": "2021-11-07T15:20:52.056Z"
   },
   {
    "duration": 65,
    "start_time": "2021-11-07T15:23:06.922Z"
   },
   {
    "duration": 173,
    "start_time": "2021-11-07T15:23:15.672Z"
   },
   {
    "duration": 629,
    "start_time": "2021-11-07T15:23:28.023Z"
   },
   {
    "duration": 230,
    "start_time": "2021-11-07T15:47:41.328Z"
   },
   {
    "duration": 562,
    "start_time": "2021-11-07T15:48:38.734Z"
   },
   {
    "duration": 25871,
    "start_time": "2021-11-07T15:49:17.404Z"
   },
   {
    "duration": 56,
    "start_time": "2021-11-07T15:53:38.279Z"
   },
   {
    "duration": 60,
    "start_time": "2021-11-07T15:53:43.149Z"
   },
   {
    "duration": 12,
    "start_time": "2021-11-07T15:53:57.308Z"
   },
   {
    "duration": 18,
    "start_time": "2021-11-07T15:54:11.261Z"
   },
   {
    "duration": 17,
    "start_time": "2021-11-07T15:55:21.744Z"
   },
   {
    "duration": 465,
    "start_time": "2021-11-08T12:20:26.048Z"
   },
   {
    "duration": 729,
    "start_time": "2021-11-08T12:21:05.371Z"
   },
   {
    "duration": 27,
    "start_time": "2021-11-08T12:21:06.102Z"
   },
   {
    "duration": 30,
    "start_time": "2021-11-08T12:21:06.131Z"
   },
   {
    "duration": 9345,
    "start_time": "2021-11-08T12:21:06.163Z"
   },
   {
    "duration": -105,
    "start_time": "2021-11-08T12:21:15.616Z"
   },
   {
    "duration": -107,
    "start_time": "2021-11-08T12:21:15.619Z"
   },
   {
    "duration": -108,
    "start_time": "2021-11-08T12:21:15.622Z"
   },
   {
    "duration": -108,
    "start_time": "2021-11-08T12:21:15.624Z"
   },
   {
    "duration": -111,
    "start_time": "2021-11-08T12:21:15.628Z"
   },
   {
    "duration": -112,
    "start_time": "2021-11-08T12:21:15.631Z"
   },
   {
    "duration": -113,
    "start_time": "2021-11-08T12:21:15.633Z"
   },
   {
    "duration": -114,
    "start_time": "2021-11-08T12:21:15.636Z"
   },
   {
    "duration": 28,
    "start_time": "2021-11-08T12:21:59.207Z"
   },
   {
    "duration": 11,
    "start_time": "2021-11-08T12:31:14.768Z"
   },
   {
    "duration": 14,
    "start_time": "2021-11-08T12:31:16.165Z"
   },
   {
    "duration": 358,
    "start_time": "2021-11-08T12:49:00.126Z"
   },
   {
    "duration": 497,
    "start_time": "2021-11-08T12:50:57.179Z"
   },
   {
    "duration": 1806,
    "start_time": "2021-11-08T12:51:22.189Z"
   },
   {
    "duration": 1826,
    "start_time": "2021-11-08T12:51:44.946Z"
   },
   {
    "duration": 39,
    "start_time": "2021-11-08T13:07:52.768Z"
   },
   {
    "duration": 728,
    "start_time": "2021-11-08T13:08:13.716Z"
   },
   {
    "duration": 25,
    "start_time": "2021-11-08T13:08:14.446Z"
   },
   {
    "duration": 15,
    "start_time": "2021-11-08T13:08:14.473Z"
   },
   {
    "duration": 54,
    "start_time": "2021-11-08T13:08:14.490Z"
   },
   {
    "duration": 43,
    "start_time": "2021-11-08T13:08:14.546Z"
   },
   {
    "duration": 686,
    "start_time": "2021-11-08T13:08:14.590Z"
   },
   {
    "duration": 28,
    "start_time": "2021-11-08T13:08:15.279Z"
   },
   {
    "duration": 34,
    "start_time": "2021-11-08T13:08:15.314Z"
   },
   {
    "duration": 27,
    "start_time": "2021-11-08T13:08:15.351Z"
   },
   {
    "duration": 14,
    "start_time": "2021-11-08T13:08:15.380Z"
   },
   {
    "duration": 33,
    "start_time": "2021-11-08T13:08:15.397Z"
   },
   {
    "duration": 28,
    "start_time": "2021-11-08T13:08:15.436Z"
   },
   {
    "duration": 2250,
    "start_time": "2021-11-08T13:08:15.467Z"
   },
   {
    "duration": 36,
    "start_time": "2021-11-08T13:08:25.771Z"
   },
   {
    "duration": 124,
    "start_time": "2021-11-08T13:16:41.233Z"
   },
   {
    "duration": 440,
    "start_time": "2021-11-08T13:16:52.212Z"
   },
   {
    "duration": 691,
    "start_time": "2021-11-08T13:18:27.348Z"
   },
   {
    "duration": 2442,
    "start_time": "2021-11-08T13:18:58.799Z"
   },
   {
    "duration": 2549,
    "start_time": "2021-11-08T13:20:50.724Z"
   },
   {
    "duration": 2636,
    "start_time": "2021-11-08T13:22:07.463Z"
   },
   {
    "duration": 2511,
    "start_time": "2021-11-08T13:25:17.307Z"
   },
   {
    "duration": 129,
    "start_time": "2021-11-08T13:41:01.804Z"
   },
   {
    "duration": 2551,
    "start_time": "2021-11-08T13:41:16.457Z"
   },
   {
    "duration": 2643,
    "start_time": "2021-11-08T13:44:35.922Z"
   },
   {
    "duration": 4431,
    "start_time": "2021-11-08T13:45:39.834Z"
   },
   {
    "duration": 4093,
    "start_time": "2021-11-08T13:46:35.963Z"
   },
   {
    "duration": 4211,
    "start_time": "2021-11-08T13:48:46.905Z"
   },
   {
    "duration": 4259,
    "start_time": "2021-11-08T13:49:23.207Z"
   },
   {
    "duration": 4257,
    "start_time": "2021-11-08T13:50:41.599Z"
   },
   {
    "duration": 2650,
    "start_time": "2021-11-08T13:51:46.651Z"
   },
   {
    "duration": 2690,
    "start_time": "2021-11-08T13:53:56.678Z"
   },
   {
    "duration": 2715,
    "start_time": "2021-11-08T13:55:04.545Z"
   },
   {
    "duration": 32,
    "start_time": "2021-11-08T13:57:57.640Z"
   },
   {
    "duration": 169,
    "start_time": "2021-11-08T14:07:59.271Z"
   },
   {
    "duration": 23,
    "start_time": "2021-11-08T14:08:05.871Z"
   },
   {
    "duration": 6,
    "start_time": "2021-11-08T14:09:25.316Z"
   },
   {
    "duration": 15,
    "start_time": "2021-11-08T14:09:55.946Z"
   },
   {
    "duration": 5,
    "start_time": "2021-11-08T14:10:14.106Z"
   },
   {
    "duration": 10,
    "start_time": "2021-11-08T14:11:13.069Z"
   },
   {
    "duration": 1759,
    "start_time": "2021-11-08T14:16:33.633Z"
   },
   {
    "duration": 720,
    "start_time": "2021-11-08T14:16:52.636Z"
   },
   {
    "duration": 13,
    "start_time": "2021-11-08T14:18:53.481Z"
   },
   {
    "duration": 394,
    "start_time": "2021-11-08T14:19:48.547Z"
   },
   {
    "duration": 787,
    "start_time": "2021-11-08T14:20:14.825Z"
   },
   {
    "duration": 4832,
    "start_time": "2021-11-08T14:20:39.817Z"
   },
   {
    "duration": 739,
    "start_time": "2021-11-08T14:20:57.813Z"
   },
   {
    "duration": 26,
    "start_time": "2021-11-08T14:20:58.554Z"
   },
   {
    "duration": 34,
    "start_time": "2021-11-08T14:20:58.583Z"
   },
   {
    "duration": 23,
    "start_time": "2021-11-08T14:20:58.620Z"
   },
   {
    "duration": 65,
    "start_time": "2021-11-08T14:20:58.645Z"
   },
   {
    "duration": 2571,
    "start_time": "2021-11-08T14:20:58.712Z"
   },
   {
    "duration": 35,
    "start_time": "2021-11-08T14:21:01.286Z"
   },
   {
    "duration": 25,
    "start_time": "2021-11-08T14:21:01.324Z"
   },
   {
    "duration": 37,
    "start_time": "2021-11-08T14:21:01.351Z"
   },
   {
    "duration": 7,
    "start_time": "2021-11-08T14:21:01.390Z"
   },
   {
    "duration": 18,
    "start_time": "2021-11-08T14:21:01.407Z"
   },
   {
    "duration": 15,
    "start_time": "2021-11-08T14:21:01.427Z"
   },
   {
    "duration": 812,
    "start_time": "2021-11-08T14:21:01.444Z"
   },
   {
    "duration": 365,
    "start_time": "2021-11-08T14:25:05.557Z"
   },
   {
    "duration": 26,
    "start_time": "2021-11-08T14:25:52.006Z"
   },
   {
    "duration": 22,
    "start_time": "2021-11-08T14:26:06.710Z"
   },
   {
    "duration": 15,
    "start_time": "2021-11-08T14:26:42.325Z"
   },
   {
    "duration": 30,
    "start_time": "2021-11-08T14:36:53.799Z"
   },
   {
    "duration": 28,
    "start_time": "2021-11-08T14:39:53.639Z"
   },
   {
    "duration": 31,
    "start_time": "2021-11-08T14:40:43.720Z"
   },
   {
    "duration": 26,
    "start_time": "2021-11-08T14:42:54.623Z"
   },
   {
    "duration": 28,
    "start_time": "2021-11-08T14:43:35.269Z"
   },
   {
    "duration": 28,
    "start_time": "2021-11-08T14:43:44.243Z"
   },
   {
    "duration": 15,
    "start_time": "2021-11-08T14:51:05.017Z"
   },
   {
    "duration": 13,
    "start_time": "2021-11-08T14:51:05.968Z"
   },
   {
    "duration": 737,
    "start_time": "2021-11-08T14:51:31.516Z"
   },
   {
    "duration": 17,
    "start_time": "2021-11-08T14:52:16.221Z"
   },
   {
    "duration": 783,
    "start_time": "2021-11-08T14:52:28.820Z"
   },
   {
    "duration": 2606,
    "start_time": "2021-11-08T15:03:07.527Z"
   },
   {
    "duration": 28,
    "start_time": "2021-11-08T15:03:51.451Z"
   },
   {
    "duration": 62,
    "start_time": "2021-11-08T15:04:21.977Z"
   },
   {
    "duration": 27,
    "start_time": "2021-11-08T15:05:51.025Z"
   },
   {
    "duration": 553,
    "start_time": "2021-11-09T13:59:12.137Z"
   },
   {
    "duration": 924,
    "start_time": "2021-11-09T13:59:21.829Z"
   },
   {
    "duration": 68,
    "start_time": "2021-11-09T13:59:22.757Z"
   },
   {
    "duration": 29,
    "start_time": "2021-11-09T13:59:22.829Z"
   },
   {
    "duration": 93,
    "start_time": "2021-11-09T13:59:22.862Z"
   },
   {
    "duration": 121,
    "start_time": "2021-11-09T13:59:22.958Z"
   },
   {
    "duration": 3432,
    "start_time": "2021-11-09T13:59:23.082Z"
   },
   {
    "duration": 28,
    "start_time": "2021-11-09T13:59:26.517Z"
   },
   {
    "duration": 51,
    "start_time": "2021-11-09T13:59:26.550Z"
   },
   {
    "duration": 25,
    "start_time": "2021-11-09T13:59:26.604Z"
   },
   {
    "duration": 23,
    "start_time": "2021-11-09T13:59:26.631Z"
   },
   {
    "duration": 7,
    "start_time": "2021-11-09T13:59:26.656Z"
   },
   {
    "duration": 20,
    "start_time": "2021-11-09T13:59:26.700Z"
   },
   {
    "duration": 39,
    "start_time": "2021-11-09T13:59:26.723Z"
   },
   {
    "duration": 945,
    "start_time": "2021-11-09T13:59:26.768Z"
   },
   {
    "duration": 34,
    "start_time": "2021-11-09T13:59:50.209Z"
   },
   {
    "duration": 31,
    "start_time": "2021-11-09T14:02:19.248Z"
   },
   {
    "duration": 31,
    "start_time": "2021-11-09T14:02:44.350Z"
   },
   {
    "duration": 141,
    "start_time": "2021-11-09T14:06:50.635Z"
   },
   {
    "duration": 535,
    "start_time": "2021-11-09T14:07:15.776Z"
   },
   {
    "duration": 32,
    "start_time": "2021-11-09T14:11:06.772Z"
   },
   {
    "duration": 30,
    "start_time": "2021-11-09T14:14:05.183Z"
   },
   {
    "duration": 47,
    "start_time": "2021-11-09T14:31:48.537Z"
   },
   {
    "duration": 29,
    "start_time": "2021-11-09T14:32:56.886Z"
   },
   {
    "duration": 858,
    "start_time": "2021-11-10T12:06:58.518Z"
   },
   {
    "duration": 3,
    "start_time": "2021-11-10T12:08:15.123Z"
   },
   {
    "duration": 69,
    "start_time": "2021-11-10T12:08:15.160Z"
   },
   {
    "duration": 33,
    "start_time": "2021-11-10T12:08:15.231Z"
   },
   {
    "duration": 15,
    "start_time": "2021-11-10T12:08:15.266Z"
   },
   {
    "duration": 13,
    "start_time": "2021-11-10T12:08:15.284Z"
   },
   {
    "duration": 23,
    "start_time": "2021-11-10T12:08:15.299Z"
   },
   {
    "duration": 17,
    "start_time": "2021-11-10T12:08:15.360Z"
   },
   {
    "duration": 43,
    "start_time": "2021-11-10T12:08:15.379Z"
   },
   {
    "duration": 84,
    "start_time": "2021-11-10T12:08:15.425Z"
   },
   {
    "duration": 3137,
    "start_time": "2021-11-10T12:08:15.511Z"
   },
   {
    "duration": 27,
    "start_time": "2021-11-10T12:08:18.659Z"
   },
   {
    "duration": 21,
    "start_time": "2021-11-10T12:08:18.689Z"
   },
   {
    "duration": 22,
    "start_time": "2021-11-10T12:08:18.713Z"
   },
   {
    "duration": 18,
    "start_time": "2021-11-10T12:08:18.760Z"
   },
   {
    "duration": 9,
    "start_time": "2021-11-10T12:08:18.780Z"
   },
   {
    "duration": 29,
    "start_time": "2021-11-10T12:08:18.792Z"
   },
   {
    "duration": 55,
    "start_time": "2021-11-10T12:08:18.824Z"
   },
   {
    "duration": 56,
    "start_time": "2021-11-10T12:08:18.881Z"
   },
   {
    "duration": 41,
    "start_time": "2021-11-10T12:08:18.940Z"
   },
   {
    "duration": 27,
    "start_time": "2021-11-10T12:08:18.983Z"
   },
   {
    "duration": 50,
    "start_time": "2021-11-10T12:08:19.012Z"
   },
   {
    "duration": 17,
    "start_time": "2021-11-10T12:40:18.728Z"
   },
   {
    "duration": 17,
    "start_time": "2021-11-10T12:44:00.243Z"
   },
   {
    "duration": 6,
    "start_time": "2021-11-10T12:48:44.561Z"
   },
   {
    "duration": 19,
    "start_time": "2021-11-10T12:53:25.472Z"
   },
   {
    "duration": 31,
    "start_time": "2021-11-10T13:10:41.223Z"
   },
   {
    "duration": 26,
    "start_time": "2021-11-10T13:16:02.121Z"
   },
   {
    "duration": 28,
    "start_time": "2021-11-10T13:17:20.385Z"
   },
   {
    "duration": 390,
    "start_time": "2021-11-10T13:39:53.576Z"
   },
   {
    "duration": 55,
    "start_time": "2021-11-10T13:40:15.171Z"
   },
   {
    "duration": 39,
    "start_time": "2021-11-10T13:42:21.444Z"
   },
   {
    "duration": 23,
    "start_time": "2021-11-10T13:43:27.037Z"
   },
   {
    "duration": 6,
    "start_time": "2021-11-10T14:06:54.261Z"
   },
   {
    "duration": 7,
    "start_time": "2021-11-10T14:13:06.001Z"
   },
   {
    "duration": 16,
    "start_time": "2021-11-10T14:19:08.070Z"
   },
   {
    "duration": 120,
    "start_time": "2021-11-10T14:22:07.732Z"
   },
   {
    "duration": 22,
    "start_time": "2021-11-10T14:22:09.309Z"
   },
   {
    "duration": 22,
    "start_time": "2021-11-10T14:22:22.799Z"
   },
   {
    "duration": 374,
    "start_time": "2021-11-11T13:50:10.912Z"
   },
   {
    "duration": 3,
    "start_time": "2021-11-11T13:50:54.370Z"
   },
   {
    "duration": 85,
    "start_time": "2021-11-11T13:50:54.376Z"
   },
   {
    "duration": 35,
    "start_time": "2021-11-11T13:50:54.463Z"
   },
   {
    "duration": 37,
    "start_time": "2021-11-11T13:50:54.501Z"
   },
   {
    "duration": 16,
    "start_time": "2021-11-11T13:50:54.541Z"
   },
   {
    "duration": 13,
    "start_time": "2021-11-11T13:50:54.559Z"
   },
   {
    "duration": 13,
    "start_time": "2021-11-11T13:50:54.574Z"
   },
   {
    "duration": 46,
    "start_time": "2021-11-11T13:50:54.590Z"
   },
   {
    "duration": 6,
    "start_time": "2021-11-11T13:50:54.638Z"
   },
   {
    "duration": 19,
    "start_time": "2021-11-11T13:50:54.647Z"
   },
   {
    "duration": 53,
    "start_time": "2021-11-11T13:50:54.676Z"
   },
   {
    "duration": 19,
    "start_time": "2021-11-11T13:50:54.733Z"
   },
   {
    "duration": 27,
    "start_time": "2021-11-11T13:50:54.755Z"
   },
   {
    "duration": 56,
    "start_time": "2021-11-11T13:50:54.785Z"
   },
   {
    "duration": 24,
    "start_time": "2021-11-11T13:50:54.844Z"
   },
   {
    "duration": 67,
    "start_time": "2021-11-11T13:50:54.870Z"
   },
   {
    "duration": 6,
    "start_time": "2021-11-11T13:50:54.939Z"
   },
   {
    "duration": 4911,
    "start_time": "2021-11-11T13:50:54.947Z"
   },
   {
    "duration": 52,
    "start_time": "2021-11-11T13:50:59.861Z"
   },
   {
    "duration": 15,
    "start_time": "2021-11-11T13:50:59.930Z"
   },
   {
    "duration": 36,
    "start_time": "2021-11-11T13:50:59.947Z"
   },
   {
    "duration": 7,
    "start_time": "2021-11-11T13:50:59.986Z"
   },
   {
    "duration": 47,
    "start_time": "2021-11-11T13:50:59.996Z"
   },
   {
    "duration": 9,
    "start_time": "2021-11-11T13:51:00.046Z"
   },
   {
    "duration": 30,
    "start_time": "2021-11-11T13:51:00.057Z"
   },
   {
    "duration": 50,
    "start_time": "2021-11-11T13:51:00.090Z"
   },
   {
    "duration": 10,
    "start_time": "2021-11-11T13:51:00.142Z"
   },
   {
    "duration": 31,
    "start_time": "2021-11-11T13:51:00.154Z"
   },
   {
    "duration": 12,
    "start_time": "2021-11-11T13:51:00.188Z"
   },
   {
    "duration": 45,
    "start_time": "2021-11-11T13:51:00.202Z"
   },
   {
    "duration": 35,
    "start_time": "2021-11-11T13:51:00.250Z"
   },
   {
    "duration": 64,
    "start_time": "2021-11-11T13:51:00.288Z"
   },
   {
    "duration": 34,
    "start_time": "2021-11-11T13:51:00.355Z"
   },
   {
    "duration": 59,
    "start_time": "2021-11-11T13:51:00.391Z"
   },
   {
    "duration": 31,
    "start_time": "2021-11-11T13:51:00.452Z"
   },
   {
    "duration": 8,
    "start_time": "2021-11-11T13:51:31.999Z"
   },
   {
    "duration": 29,
    "start_time": "2021-11-11T14:49:54.331Z"
   },
   {
    "duration": 405,
    "start_time": "2021-11-11T15:11:37.112Z"
   },
   {
    "duration": 36,
    "start_time": "2021-11-11T15:13:00.868Z"
   },
   {
    "duration": 29,
    "start_time": "2021-11-11T15:13:30.426Z"
   },
   {
    "duration": 19,
    "start_time": "2021-11-11T15:16:16.986Z"
   },
   {
    "duration": 37,
    "start_time": "2021-11-11T15:16:28.436Z"
   },
   {
    "duration": 21,
    "start_time": "2021-11-11T15:18:50.047Z"
   },
   {
    "duration": 30,
    "start_time": "2021-11-11T15:18:56.660Z"
   },
   {
    "duration": 30,
    "start_time": "2021-11-11T15:23:35.469Z"
   },
   {
    "duration": 29,
    "start_time": "2021-11-11T15:23:59.644Z"
   },
   {
    "duration": 765,
    "start_time": "2021-11-12T15:37:11.958Z"
   },
   {
    "duration": 68,
    "start_time": "2021-11-12T15:37:12.726Z"
   },
   {
    "duration": 44,
    "start_time": "2021-11-12T15:37:12.797Z"
   },
   {
    "duration": 40,
    "start_time": "2021-11-12T15:37:12.845Z"
   },
   {
    "duration": 15,
    "start_time": "2021-11-12T15:37:12.887Z"
   },
   {
    "duration": 12,
    "start_time": "2021-11-12T15:37:12.904Z"
   },
   {
    "duration": 25,
    "start_time": "2021-11-12T15:37:12.919Z"
   },
   {
    "duration": 44,
    "start_time": "2021-11-12T15:37:12.948Z"
   },
   {
    "duration": 6,
    "start_time": "2021-11-12T15:37:12.996Z"
   },
   {
    "duration": 25,
    "start_time": "2021-11-12T15:37:13.005Z"
   },
   {
    "duration": 50,
    "start_time": "2021-11-12T15:37:13.032Z"
   },
   {
    "duration": 20,
    "start_time": "2021-11-12T15:37:13.085Z"
   },
   {
    "duration": 26,
    "start_time": "2021-11-12T15:37:13.108Z"
   },
   {
    "duration": 61,
    "start_time": "2021-11-12T15:37:13.137Z"
   },
   {
    "duration": 24,
    "start_time": "2021-11-12T15:37:13.201Z"
   },
   {
    "duration": 11,
    "start_time": "2021-11-12T15:37:13.228Z"
   },
   {
    "duration": 5,
    "start_time": "2021-11-12T15:37:13.241Z"
   },
   {
    "duration": 3067,
    "start_time": "2021-11-12T15:37:13.248Z"
   },
   {
    "duration": 64,
    "start_time": "2021-11-12T15:37:16.318Z"
   },
   {
    "duration": 14,
    "start_time": "2021-11-12T15:37:16.384Z"
   },
   {
    "duration": 24,
    "start_time": "2021-11-12T15:37:16.401Z"
   },
   {
    "duration": 9,
    "start_time": "2021-11-12T15:37:16.427Z"
   },
   {
    "duration": 55,
    "start_time": "2021-11-12T15:37:16.441Z"
   },
   {
    "duration": 6,
    "start_time": "2021-11-12T15:37:16.499Z"
   },
   {
    "duration": 21,
    "start_time": "2021-11-12T15:37:16.508Z"
   },
   {
    "duration": 51,
    "start_time": "2021-11-12T15:37:16.532Z"
   },
   {
    "duration": 8,
    "start_time": "2021-11-12T15:37:16.585Z"
   },
   {
    "duration": 25,
    "start_time": "2021-11-12T15:37:16.596Z"
   },
   {
    "duration": 10,
    "start_time": "2021-11-12T15:37:16.623Z"
   },
   {
    "duration": 56,
    "start_time": "2021-11-12T15:37:16.635Z"
   },
   {
    "duration": 24,
    "start_time": "2021-11-12T15:37:16.693Z"
   },
   {
    "duration": 878,
    "start_time": "2021-11-12T15:37:16.719Z"
   },
   {
    "duration": 36,
    "start_time": "2021-11-12T15:37:17.599Z"
   },
   {
    "duration": 55,
    "start_time": "2021-11-12T15:37:17.638Z"
   },
   {
    "duration": 29,
    "start_time": "2021-11-12T15:37:17.695Z"
   },
   {
    "duration": 768,
    "start_time": "2021-11-12T15:45:15.985Z"
   },
   {
    "duration": 66,
    "start_time": "2021-11-12T15:45:16.755Z"
   },
   {
    "duration": 61,
    "start_time": "2021-11-12T15:45:16.824Z"
   },
   {
    "duration": 15,
    "start_time": "2021-11-12T15:45:16.888Z"
   },
   {
    "duration": 14,
    "start_time": "2021-11-12T15:45:16.906Z"
   },
   {
    "duration": 13,
    "start_time": "2021-11-12T15:45:16.923Z"
   },
   {
    "duration": 51,
    "start_time": "2021-11-12T15:45:16.938Z"
   },
   {
    "duration": 15,
    "start_time": "2021-11-12T15:45:16.992Z"
   },
   {
    "duration": 6,
    "start_time": "2021-11-12T15:45:17.010Z"
   },
   {
    "duration": 23,
    "start_time": "2021-11-12T15:45:17.019Z"
   },
   {
    "duration": 62,
    "start_time": "2021-11-12T15:45:17.044Z"
   },
   {
    "duration": 23,
    "start_time": "2021-11-12T15:45:17.108Z"
   },
   {
    "duration": 27,
    "start_time": "2021-11-12T15:45:17.134Z"
   },
   {
    "duration": 29,
    "start_time": "2021-11-12T15:45:17.183Z"
   },
   {
    "duration": 23,
    "start_time": "2021-11-12T15:45:17.214Z"
   },
   {
    "duration": 10,
    "start_time": "2021-11-12T15:45:17.240Z"
   },
   {
    "duration": 5,
    "start_time": "2021-11-12T15:45:17.282Z"
   },
   {
    "duration": 3272,
    "start_time": "2021-11-12T15:45:17.290Z"
   },
   {
    "duration": 54,
    "start_time": "2021-11-12T15:45:20.565Z"
   },
   {
    "duration": 15,
    "start_time": "2021-11-12T15:45:20.621Z"
   },
   {
    "duration": 47,
    "start_time": "2021-11-12T15:45:20.639Z"
   },
   {
    "duration": 15,
    "start_time": "2021-11-12T15:45:20.689Z"
   },
   {
    "duration": 29,
    "start_time": "2021-11-12T15:45:20.709Z"
   },
   {
    "duration": 6,
    "start_time": "2021-11-12T15:45:20.742Z"
   },
   {
    "duration": 43,
    "start_time": "2021-11-12T15:45:20.750Z"
   },
   {
    "duration": 23,
    "start_time": "2021-11-12T15:45:20.795Z"
   },
   {
    "duration": 10,
    "start_time": "2021-11-12T15:45:20.820Z"
   },
   {
    "duration": 50,
    "start_time": "2021-11-12T15:45:20.832Z"
   },
   {
    "duration": 11,
    "start_time": "2021-11-12T15:45:20.884Z"
   },
   {
    "duration": 31,
    "start_time": "2021-11-12T15:45:20.898Z"
   },
   {
    "duration": 24,
    "start_time": "2021-11-12T15:45:20.931Z"
   },
   {
    "duration": 851,
    "start_time": "2021-11-12T15:45:20.958Z"
   },
   {
    "duration": 34,
    "start_time": "2021-11-12T15:45:21.813Z"
   },
   {
    "duration": 50,
    "start_time": "2021-11-12T15:45:21.850Z"
   },
   {
    "duration": 31,
    "start_time": "2021-11-12T15:45:21.902Z"
   },
   {
    "duration": 627,
    "start_time": "2021-11-13T07:06:16.488Z"
   },
   {
    "duration": 57,
    "start_time": "2021-11-13T07:06:17.117Z"
   },
   {
    "duration": 29,
    "start_time": "2021-11-13T07:06:17.176Z"
   },
   {
    "duration": 13,
    "start_time": "2021-11-13T07:06:17.207Z"
   },
   {
    "duration": 12,
    "start_time": "2021-11-13T07:06:17.221Z"
   },
   {
    "duration": 37,
    "start_time": "2021-11-13T07:06:17.235Z"
   },
   {
    "duration": 12,
    "start_time": "2021-11-13T07:06:17.274Z"
   },
   {
    "duration": 11,
    "start_time": "2021-11-13T07:06:17.289Z"
   },
   {
    "duration": 5,
    "start_time": "2021-11-13T07:06:17.303Z"
   },
   {
    "duration": 12,
    "start_time": "2021-11-13T07:06:17.310Z"
   },
   {
    "duration": 56,
    "start_time": "2021-11-13T07:06:17.324Z"
   },
   {
    "duration": 14,
    "start_time": "2021-11-13T07:06:17.382Z"
   },
   {
    "duration": 18,
    "start_time": "2021-11-13T07:06:17.399Z"
   },
   {
    "duration": 47,
    "start_time": "2021-11-13T07:06:17.419Z"
   },
   {
    "duration": 17,
    "start_time": "2021-11-13T07:06:17.468Z"
   },
   {
    "duration": 6,
    "start_time": "2021-11-13T07:06:17.487Z"
   },
   {
    "duration": 7,
    "start_time": "2021-11-13T07:06:17.495Z"
   },
   {
    "duration": 2659,
    "start_time": "2021-11-13T07:06:17.504Z"
   },
   {
    "duration": 34,
    "start_time": "2021-11-13T07:06:20.165Z"
   },
   {
    "duration": 9,
    "start_time": "2021-11-13T07:06:20.201Z"
   },
   {
    "duration": 18,
    "start_time": "2021-11-13T07:06:20.212Z"
   },
   {
    "duration": 10,
    "start_time": "2021-11-13T07:06:20.232Z"
   },
   {
    "duration": 15,
    "start_time": "2021-11-13T07:06:20.264Z"
   },
   {
    "duration": 9,
    "start_time": "2021-11-13T07:06:20.281Z"
   },
   {
    "duration": 19,
    "start_time": "2021-11-13T07:06:20.292Z"
   },
   {
    "duration": 14,
    "start_time": "2021-11-13T07:06:20.313Z"
   },
   {
    "duration": 8,
    "start_time": "2021-11-13T07:06:20.328Z"
   },
   {
    "duration": 34,
    "start_time": "2021-11-13T07:06:20.337Z"
   },
   {
    "duration": 11,
    "start_time": "2021-11-13T07:06:20.374Z"
   },
   {
    "duration": 21,
    "start_time": "2021-11-13T07:06:20.387Z"
   },
   {
    "duration": 22,
    "start_time": "2021-11-13T07:06:20.409Z"
   },
   {
    "duration": 132431,
    "start_time": "2021-11-13T07:06:20.432Z"
   },
   {
    "duration": 24,
    "start_time": "2021-11-13T07:08:32.865Z"
   },
   {
    "duration": 19,
    "start_time": "2021-11-13T07:08:32.891Z"
   },
   {
    "duration": 21,
    "start_time": "2021-11-13T07:08:32.912Z"
   },
   {
    "duration": 6,
    "start_time": "2021-11-13T07:08:32.935Z"
   }
  ],
  "kernelspec": {
   "display_name": "Python 3 (ipykernel)",
   "language": "python",
   "name": "python3"
  },
  "language_info": {
   "codemirror_mode": {
    "name": "ipython",
    "version": 3
   },
   "file_extension": ".py",
   "mimetype": "text/x-python",
   "name": "python",
   "nbconvert_exporter": "python",
   "pygments_lexer": "ipython3",
   "version": "3.9.7"
  },
  "toc": {
   "base_numbering": 1,
   "nav_menu": {},
   "number_sections": true,
   "sideBar": true,
   "skip_h1_title": true,
   "title_cell": "Table of Contents",
   "title_sidebar": "Contents",
   "toc_cell": true,
   "toc_position": {
    "height": "calc(100% - 180px)",
    "left": "10px",
    "top": "150px",
    "width": "335px"
   },
   "toc_section_display": true,
   "toc_window_display": true
  }
 },
 "nbformat": 4,
 "nbformat_minor": 2
}
