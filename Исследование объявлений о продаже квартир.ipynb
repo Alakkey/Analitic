{
 "cells": [
  {
   "cell_type": "markdown",
   "metadata": {
    "toc": true
   },
   "source": [
    "<h1>Содержание<span class=\"tocSkip\"></span></h1>\n",
    "<div class=\"toc\"><ul class=\"toc-item\"><li><span><a href=\"#Шаг-1.-Изучение-данных-из-файла\" data-toc-modified-id=\"Шаг-1.-Изучение-данных-из-файла-1\"><span class=\"toc-item-num\">1&nbsp;&nbsp;</span>Шаг 1. Изучение данных из файла</a></span><ul class=\"toc-item\"><li><span><a href=\"#Вывод\" data-toc-modified-id=\"Вывод-1.1\"><span class=\"toc-item-num\">1.1&nbsp;&nbsp;</span>Вывод</a></span></li></ul></li><li><span><a href=\"#Шаг-2.-Предобработка-данных\" data-toc-modified-id=\"Шаг-2.-Предобработка-данных-2\"><span class=\"toc-item-num\">2&nbsp;&nbsp;</span>Шаг 2. Предобработка данных</a></span></li><li><span><a href=\"#Шаг-3.--Подсчитаем-и-добавим-результаты-в-таблицу\" data-toc-modified-id=\"Шаг-3.--Подсчитаем-и-добавим-результаты-в-таблицу-3\"><span class=\"toc-item-num\">3&nbsp;&nbsp;</span>Шаг 3.  Подсчитаем и добавим результаты в таблицу</a></span><ul class=\"toc-item\"><li><span><a href=\"#Подсчитаем-цену-квадратного-метра-и-приведем-к-типу-int\" data-toc-modified-id=\"Подсчитаем-цену-квадратного-метра-и-приведем-к-типу-int-3.1\"><span class=\"toc-item-num\">3.1&nbsp;&nbsp;</span>Подсчитаем цену квадратного метра и приведем к типу int</a></span></li><li><span><a href=\"#Создадим-столбец-дня-недели\" data-toc-modified-id=\"Создадим-столбец-дня-недели-3.2\"><span class=\"toc-item-num\">3.2&nbsp;&nbsp;</span>Создадим столбец дня недели</a></span></li><li><span><a href=\"#Напишем-функцию-категоризации-по-этажам\" data-toc-modified-id=\"Напишем-функцию-категоризации-по-этажам-3.3\"><span class=\"toc-item-num\">3.3&nbsp;&nbsp;</span>Напишем функцию категоризации по этажам</a></span></li><li><span><a href=\"#Добавим-столбцы-соотношение-жилой-и-общей-площади,-а-также-площади-кухни-к-общей\" data-toc-modified-id=\"Добавим-столбцы-соотношение-жилой-и-общей-площади,-а-также-площади-кухни-к-общей-3.4\"><span class=\"toc-item-num\">3.4&nbsp;&nbsp;</span>Добавим столбцы соотношение жилой и общей площади, а также площади кухни к общей</a></span></li></ul></li><li><span><a href=\"#Шаг-4.-Исследовательский-анализ-данных\" data-toc-modified-id=\"Шаг-4.-Исследовательский-анализ-данных-4\"><span class=\"toc-item-num\">4&nbsp;&nbsp;</span>Шаг 4. Исследовательский анализ данных</a></span><ul class=\"toc-item\"><li><span><a href=\"#Площадь,-цена,-число-комнат,-высота-потолков.\" data-toc-modified-id=\"Площадь,-цена,-число-комнат,-высота-потолков.-4.1\"><span class=\"toc-item-num\">4.1&nbsp;&nbsp;</span>Площадь, цена, число комнат, высота потолков.</a></span></li><li><span><a href=\"#Время-продажи-квартир\" data-toc-modified-id=\"Время-продажи-квартир-4.2\"><span class=\"toc-item-num\">4.2&nbsp;&nbsp;</span>Время продажи квартир</a></span></li><li><span><a href=\"#Убирем-редкие-и-выбивающиеся-значения\" data-toc-modified-id=\"Убирем-редкие-и-выбивающиеся-значения-4.3\"><span class=\"toc-item-num\">4.3&nbsp;&nbsp;</span>Убирем редкие и выбивающиеся значения</a></span></li><li><span><a href=\"#Какие-факторы-больше-всего-влияют-на-стоимость-квартиры?\" data-toc-modified-id=\"Какие-факторы-больше-всего-влияют-на-стоимость-квартиры?-4.4\"><span class=\"toc-item-num\">4.4&nbsp;&nbsp;</span>Какие факторы больше всего влияют на стоимость квартиры?</a></span></li><li><span><a href=\"#10-населённых-пунктов-с-наибольшим-числом-объявлений.\" data-toc-modified-id=\"10-населённых-пунктов-с-наибольшим-числом-объявлений.-4.5\"><span class=\"toc-item-num\">4.5&nbsp;&nbsp;</span>10 населённых пунктов с наибольшим числом объявлений.</a></span></li><li><span><a href=\"#Изучим-предложения-квартир:-для-каждой-квартиры-есть-информация-о-расстоянии-до-центра.\" data-toc-modified-id=\"Изучим-предложения-квартир:-для-каждой-квартиры-есть-информация-о-расстоянии-до-центра.-4.6\"><span class=\"toc-item-num\">4.6&nbsp;&nbsp;</span>Изучим предложения квартир: для каждой квартиры есть информация о расстоянии до центра.</a></span></li><li><span><a href=\"#Выделим-сегмент-квартир-в-центре.\" data-toc-modified-id=\"Выделим-сегмент-квартир-в-центре.-4.7\"><span class=\"toc-item-num\">4.7&nbsp;&nbsp;</span>Выделим сегмент квартир в центре.</a></span></li></ul></li><li><span><a href=\"#Общий-вывод\" data-toc-modified-id=\"Общий-вывод-5\"><span class=\"toc-item-num\">5&nbsp;&nbsp;</span>Общий вывод</a></span></li><li><span><a href=\"#Чек-лист-готовности-проекта\" data-toc-modified-id=\"Чек-лист-готовности-проекта-6\"><span class=\"toc-item-num\">6&nbsp;&nbsp;</span>Чек-лист готовности проекта</a></span></li></ul></div>"
   ]
  },
  {
   "cell_type": "markdown",
   "metadata": {},
   "source": [
    "# Исследование объявлений о продаже квартир\n",
    "\n",
    "В вашем распоряжении данные сервиса Яндекс.Недвижимость — архив объявлений о продаже квартир в Санкт-Петербурге и соседних населённых пунктах за несколько лет. Нужно научиться определять рыночную стоимость объектов недвижимости. Ваша задача — установить параметры. Это позволит построить автоматизированную систему: она отследит аномалии и мошенническую деятельность. \n",
    "\n",
    "По каждой квартире на продажу доступны два вида данных. Первые вписаны пользователем, вторые получены автоматически на основе картографических данных. Например, расстояние до центра, аэропорта, ближайшего парка и водоёма. "
   ]
  },
  {
   "cell_type": "markdown",
   "metadata": {},
   "source": [
    "**План по выполнению проекта**\n",
    "\n",
    "Шаг 1. Откройть файл с данными и изучите общую информацию\n",
    "\n",
    "Шаг 2. Предобработать данные\n",
    "\n",
    "Шаг 3. Посчитать и добавить в таблицу\n",
    "цену квадратного метра;\n",
    "день недели, месяц и год публикации объявления;\n",
    "этаж квартиры; варианты — первый, последний, другой;\n",
    "соотношение жилой и общей площади, а также отношение площади кухни к общей.\n",
    "\n",
    "Шаг 4. Провести исследовательский анализ данных и выполнить инструкции.\n",
    "\n",
    "Шаг 5. Написать общий вывод."
   ]
  },
  {
   "cell_type": "markdown",
   "metadata": {},
   "source": [
    "## Шаг 1. Изучение данных из файла"
   ]
  },
  {
   "cell_type": "code",
   "execution_count": 1,
   "metadata": {},
   "outputs": [
    {
     "name": "stdout",
     "output_type": "stream",
     "text": [
      "<class 'pandas.core.frame.DataFrame'>\n",
      "RangeIndex: 23699 entries, 0 to 23698\n",
      "Data columns (total 22 columns):\n",
      "total_images            23699 non-null int64\n",
      "last_price              23699 non-null float64\n",
      "total_area              23699 non-null float64\n",
      "first_day_exposition    23699 non-null object\n",
      "rooms                   23699 non-null int64\n",
      "ceiling_height          14504 non-null float64\n",
      "floors_total            23613 non-null float64\n",
      "living_area             21796 non-null float64\n",
      "floor                   23699 non-null int64\n",
      "is_apartment            2775 non-null object\n",
      "studio                  23699 non-null bool\n",
      "open_plan               23699 non-null bool\n",
      "kitchen_area            21421 non-null float64\n",
      "balcony                 12180 non-null float64\n",
      "locality_name           23650 non-null object\n",
      "airports_nearest        18157 non-null float64\n",
      "cityCenters_nearest     18180 non-null float64\n",
      "parks_around3000        18181 non-null float64\n",
      "parks_nearest           8079 non-null float64\n",
      "ponds_around3000        18181 non-null float64\n",
      "ponds_nearest           9110 non-null float64\n",
      "days_exposition         20518 non-null float64\n",
      "dtypes: bool(2), float64(14), int64(3), object(3)\n",
      "memory usage: 3.7+ MB\n"
     ]
    }
   ],
   "source": [
    "import pandas as pd\n",
    "pd.set_option('display.float_format', '{:,.2f}'.format)\n",
    "df = pd.read_csv('/datasets/real_estate_data.csv', sep = '\\t')\n",
    "df.info()"
   ]
  },
  {
   "cell_type": "code",
   "execution_count": 2,
   "metadata": {},
   "outputs": [
    {
     "data": {
      "text/html": [
       "<div>\n",
       "<style scoped>\n",
       "    .dataframe tbody tr th:only-of-type {\n",
       "        vertical-align: middle;\n",
       "    }\n",
       "\n",
       "    .dataframe tbody tr th {\n",
       "        vertical-align: top;\n",
       "    }\n",
       "\n",
       "    .dataframe thead th {\n",
       "        text-align: right;\n",
       "    }\n",
       "</style>\n",
       "<table border=\"1\" class=\"dataframe\">\n",
       "  <thead>\n",
       "    <tr style=\"text-align: right;\">\n",
       "      <th></th>\n",
       "      <th>total_images</th>\n",
       "      <th>last_price</th>\n",
       "      <th>total_area</th>\n",
       "      <th>first_day_exposition</th>\n",
       "      <th>rooms</th>\n",
       "      <th>ceiling_height</th>\n",
       "      <th>floors_total</th>\n",
       "      <th>living_area</th>\n",
       "      <th>floor</th>\n",
       "      <th>is_apartment</th>\n",
       "      <th>...</th>\n",
       "      <th>kitchen_area</th>\n",
       "      <th>balcony</th>\n",
       "      <th>locality_name</th>\n",
       "      <th>airports_nearest</th>\n",
       "      <th>cityCenters_nearest</th>\n",
       "      <th>parks_around3000</th>\n",
       "      <th>parks_nearest</th>\n",
       "      <th>ponds_around3000</th>\n",
       "      <th>ponds_nearest</th>\n",
       "      <th>days_exposition</th>\n",
       "    </tr>\n",
       "  </thead>\n",
       "  <tbody>\n",
       "    <tr>\n",
       "      <td>0</td>\n",
       "      <td>20</td>\n",
       "      <td>13,000,000.00</td>\n",
       "      <td>108.00</td>\n",
       "      <td>2019-03-07T00:00:00</td>\n",
       "      <td>3</td>\n",
       "      <td>2.70</td>\n",
       "      <td>16.00</td>\n",
       "      <td>51.00</td>\n",
       "      <td>8</td>\n",
       "      <td>NaN</td>\n",
       "      <td>...</td>\n",
       "      <td>25.00</td>\n",
       "      <td>nan</td>\n",
       "      <td>Санкт-Петербург</td>\n",
       "      <td>18,863.00</td>\n",
       "      <td>16,028.00</td>\n",
       "      <td>1.00</td>\n",
       "      <td>482.00</td>\n",
       "      <td>2.00</td>\n",
       "      <td>755.00</td>\n",
       "      <td>nan</td>\n",
       "    </tr>\n",
       "    <tr>\n",
       "      <td>1</td>\n",
       "      <td>7</td>\n",
       "      <td>3,350,000.00</td>\n",
       "      <td>40.40</td>\n",
       "      <td>2018-12-04T00:00:00</td>\n",
       "      <td>1</td>\n",
       "      <td>nan</td>\n",
       "      <td>11.00</td>\n",
       "      <td>18.60</td>\n",
       "      <td>1</td>\n",
       "      <td>NaN</td>\n",
       "      <td>...</td>\n",
       "      <td>11.00</td>\n",
       "      <td>2.00</td>\n",
       "      <td>посёлок Шушары</td>\n",
       "      <td>12,817.00</td>\n",
       "      <td>18,603.00</td>\n",
       "      <td>0.00</td>\n",
       "      <td>nan</td>\n",
       "      <td>0.00</td>\n",
       "      <td>nan</td>\n",
       "      <td>81.00</td>\n",
       "    </tr>\n",
       "    <tr>\n",
       "      <td>2</td>\n",
       "      <td>10</td>\n",
       "      <td>5,196,000.00</td>\n",
       "      <td>56.00</td>\n",
       "      <td>2015-08-20T00:00:00</td>\n",
       "      <td>2</td>\n",
       "      <td>nan</td>\n",
       "      <td>5.00</td>\n",
       "      <td>34.30</td>\n",
       "      <td>4</td>\n",
       "      <td>NaN</td>\n",
       "      <td>...</td>\n",
       "      <td>8.30</td>\n",
       "      <td>0.00</td>\n",
       "      <td>Санкт-Петербург</td>\n",
       "      <td>21,741.00</td>\n",
       "      <td>13,933.00</td>\n",
       "      <td>1.00</td>\n",
       "      <td>90.00</td>\n",
       "      <td>2.00</td>\n",
       "      <td>574.00</td>\n",
       "      <td>558.00</td>\n",
       "    </tr>\n",
       "    <tr>\n",
       "      <td>3</td>\n",
       "      <td>0</td>\n",
       "      <td>64,900,000.00</td>\n",
       "      <td>159.00</td>\n",
       "      <td>2015-07-24T00:00:00</td>\n",
       "      <td>3</td>\n",
       "      <td>nan</td>\n",
       "      <td>14.00</td>\n",
       "      <td>nan</td>\n",
       "      <td>9</td>\n",
       "      <td>NaN</td>\n",
       "      <td>...</td>\n",
       "      <td>nan</td>\n",
       "      <td>0.00</td>\n",
       "      <td>Санкт-Петербург</td>\n",
       "      <td>28,098.00</td>\n",
       "      <td>6,800.00</td>\n",
       "      <td>2.00</td>\n",
       "      <td>84.00</td>\n",
       "      <td>3.00</td>\n",
       "      <td>234.00</td>\n",
       "      <td>424.00</td>\n",
       "    </tr>\n",
       "    <tr>\n",
       "      <td>4</td>\n",
       "      <td>2</td>\n",
       "      <td>10,000,000.00</td>\n",
       "      <td>100.00</td>\n",
       "      <td>2018-06-19T00:00:00</td>\n",
       "      <td>2</td>\n",
       "      <td>3.03</td>\n",
       "      <td>14.00</td>\n",
       "      <td>32.00</td>\n",
       "      <td>13</td>\n",
       "      <td>NaN</td>\n",
       "      <td>...</td>\n",
       "      <td>41.00</td>\n",
       "      <td>nan</td>\n",
       "      <td>Санкт-Петербург</td>\n",
       "      <td>31,856.00</td>\n",
       "      <td>8,098.00</td>\n",
       "      <td>2.00</td>\n",
       "      <td>112.00</td>\n",
       "      <td>1.00</td>\n",
       "      <td>48.00</td>\n",
       "      <td>121.00</td>\n",
       "    </tr>\n",
       "    <tr>\n",
       "      <td>...</td>\n",
       "      <td>...</td>\n",
       "      <td>...</td>\n",
       "      <td>...</td>\n",
       "      <td>...</td>\n",
       "      <td>...</td>\n",
       "      <td>...</td>\n",
       "      <td>...</td>\n",
       "      <td>...</td>\n",
       "      <td>...</td>\n",
       "      <td>...</td>\n",
       "      <td>...</td>\n",
       "      <td>...</td>\n",
       "      <td>...</td>\n",
       "      <td>...</td>\n",
       "      <td>...</td>\n",
       "      <td>...</td>\n",
       "      <td>...</td>\n",
       "      <td>...</td>\n",
       "      <td>...</td>\n",
       "      <td>...</td>\n",
       "      <td>...</td>\n",
       "    </tr>\n",
       "    <tr>\n",
       "      <td>23694</td>\n",
       "      <td>9</td>\n",
       "      <td>9,700,000.00</td>\n",
       "      <td>133.81</td>\n",
       "      <td>2017-03-21T00:00:00</td>\n",
       "      <td>3</td>\n",
       "      <td>3.70</td>\n",
       "      <td>5.00</td>\n",
       "      <td>73.30</td>\n",
       "      <td>3</td>\n",
       "      <td>NaN</td>\n",
       "      <td>...</td>\n",
       "      <td>13.83</td>\n",
       "      <td>nan</td>\n",
       "      <td>Санкт-Петербург</td>\n",
       "      <td>24,665.00</td>\n",
       "      <td>4,232.00</td>\n",
       "      <td>1.00</td>\n",
       "      <td>796.00</td>\n",
       "      <td>3.00</td>\n",
       "      <td>381.00</td>\n",
       "      <td>nan</td>\n",
       "    </tr>\n",
       "    <tr>\n",
       "      <td>23695</td>\n",
       "      <td>14</td>\n",
       "      <td>3,100,000.00</td>\n",
       "      <td>59.00</td>\n",
       "      <td>2018-01-15T00:00:00</td>\n",
       "      <td>3</td>\n",
       "      <td>nan</td>\n",
       "      <td>5.00</td>\n",
       "      <td>38.00</td>\n",
       "      <td>4</td>\n",
       "      <td>NaN</td>\n",
       "      <td>...</td>\n",
       "      <td>8.50</td>\n",
       "      <td>nan</td>\n",
       "      <td>Тосно</td>\n",
       "      <td>nan</td>\n",
       "      <td>nan</td>\n",
       "      <td>nan</td>\n",
       "      <td>nan</td>\n",
       "      <td>nan</td>\n",
       "      <td>nan</td>\n",
       "      <td>45.00</td>\n",
       "    </tr>\n",
       "    <tr>\n",
       "      <td>23696</td>\n",
       "      <td>18</td>\n",
       "      <td>2,500,000.00</td>\n",
       "      <td>56.70</td>\n",
       "      <td>2018-02-11T00:00:00</td>\n",
       "      <td>2</td>\n",
       "      <td>nan</td>\n",
       "      <td>3.00</td>\n",
       "      <td>29.70</td>\n",
       "      <td>1</td>\n",
       "      <td>NaN</td>\n",
       "      <td>...</td>\n",
       "      <td>nan</td>\n",
       "      <td>nan</td>\n",
       "      <td>село Рождествено</td>\n",
       "      <td>nan</td>\n",
       "      <td>nan</td>\n",
       "      <td>nan</td>\n",
       "      <td>nan</td>\n",
       "      <td>nan</td>\n",
       "      <td>nan</td>\n",
       "      <td>nan</td>\n",
       "    </tr>\n",
       "    <tr>\n",
       "      <td>23697</td>\n",
       "      <td>13</td>\n",
       "      <td>11,475,000.00</td>\n",
       "      <td>76.75</td>\n",
       "      <td>2017-03-28T00:00:00</td>\n",
       "      <td>2</td>\n",
       "      <td>3.00</td>\n",
       "      <td>17.00</td>\n",
       "      <td>nan</td>\n",
       "      <td>12</td>\n",
       "      <td>NaN</td>\n",
       "      <td>...</td>\n",
       "      <td>23.30</td>\n",
       "      <td>2.00</td>\n",
       "      <td>Санкт-Петербург</td>\n",
       "      <td>39,140.00</td>\n",
       "      <td>10,364.00</td>\n",
       "      <td>2.00</td>\n",
       "      <td>173.00</td>\n",
       "      <td>3.00</td>\n",
       "      <td>196.00</td>\n",
       "      <td>602.00</td>\n",
       "    </tr>\n",
       "    <tr>\n",
       "      <td>23698</td>\n",
       "      <td>4</td>\n",
       "      <td>1,350,000.00</td>\n",
       "      <td>32.30</td>\n",
       "      <td>2017-07-21T00:00:00</td>\n",
       "      <td>1</td>\n",
       "      <td>2.50</td>\n",
       "      <td>5.00</td>\n",
       "      <td>12.30</td>\n",
       "      <td>1</td>\n",
       "      <td>NaN</td>\n",
       "      <td>...</td>\n",
       "      <td>9.00</td>\n",
       "      <td>nan</td>\n",
       "      <td>поселок Новый Учхоз</td>\n",
       "      <td>nan</td>\n",
       "      <td>nan</td>\n",
       "      <td>nan</td>\n",
       "      <td>nan</td>\n",
       "      <td>nan</td>\n",
       "      <td>nan</td>\n",
       "      <td>nan</td>\n",
       "    </tr>\n",
       "  </tbody>\n",
       "</table>\n",
       "<p>23699 rows × 22 columns</p>\n",
       "</div>"
      ],
      "text/plain": [
       "       total_images    last_price  total_area first_day_exposition  rooms  \\\n",
       "0                20 13,000,000.00      108.00  2019-03-07T00:00:00      3   \n",
       "1                 7  3,350,000.00       40.40  2018-12-04T00:00:00      1   \n",
       "2                10  5,196,000.00       56.00  2015-08-20T00:00:00      2   \n",
       "3                 0 64,900,000.00      159.00  2015-07-24T00:00:00      3   \n",
       "4                 2 10,000,000.00      100.00  2018-06-19T00:00:00      2   \n",
       "...             ...           ...         ...                  ...    ...   \n",
       "23694             9  9,700,000.00      133.81  2017-03-21T00:00:00      3   \n",
       "23695            14  3,100,000.00       59.00  2018-01-15T00:00:00      3   \n",
       "23696            18  2,500,000.00       56.70  2018-02-11T00:00:00      2   \n",
       "23697            13 11,475,000.00       76.75  2017-03-28T00:00:00      2   \n",
       "23698             4  1,350,000.00       32.30  2017-07-21T00:00:00      1   \n",
       "\n",
       "       ceiling_height  floors_total  living_area  floor is_apartment  ...  \\\n",
       "0                2.70         16.00        51.00      8          NaN  ...   \n",
       "1                 nan         11.00        18.60      1          NaN  ...   \n",
       "2                 nan          5.00        34.30      4          NaN  ...   \n",
       "3                 nan         14.00          nan      9          NaN  ...   \n",
       "4                3.03         14.00        32.00     13          NaN  ...   \n",
       "...               ...           ...          ...    ...          ...  ...   \n",
       "23694            3.70          5.00        73.30      3          NaN  ...   \n",
       "23695             nan          5.00        38.00      4          NaN  ...   \n",
       "23696             nan          3.00        29.70      1          NaN  ...   \n",
       "23697            3.00         17.00          nan     12          NaN  ...   \n",
       "23698            2.50          5.00        12.30      1          NaN  ...   \n",
       "\n",
       "       kitchen_area  balcony        locality_name  airports_nearest  \\\n",
       "0             25.00      nan      Санкт-Петербург         18,863.00   \n",
       "1             11.00     2.00       посёлок Шушары         12,817.00   \n",
       "2              8.30     0.00      Санкт-Петербург         21,741.00   \n",
       "3               nan     0.00      Санкт-Петербург         28,098.00   \n",
       "4             41.00      nan      Санкт-Петербург         31,856.00   \n",
       "...             ...      ...                  ...               ...   \n",
       "23694         13.83      nan      Санкт-Петербург         24,665.00   \n",
       "23695          8.50      nan                Тосно               nan   \n",
       "23696           nan      nan     село Рождествено               nan   \n",
       "23697         23.30     2.00      Санкт-Петербург         39,140.00   \n",
       "23698          9.00      nan  поселок Новый Учхоз               nan   \n",
       "\n",
       "      cityCenters_nearest  parks_around3000  parks_nearest  ponds_around3000  \\\n",
       "0               16,028.00              1.00         482.00              2.00   \n",
       "1               18,603.00              0.00            nan              0.00   \n",
       "2               13,933.00              1.00          90.00              2.00   \n",
       "3                6,800.00              2.00          84.00              3.00   \n",
       "4                8,098.00              2.00         112.00              1.00   \n",
       "...                   ...               ...            ...               ...   \n",
       "23694            4,232.00              1.00         796.00              3.00   \n",
       "23695                 nan               nan            nan               nan   \n",
       "23696                 nan               nan            nan               nan   \n",
       "23697           10,364.00              2.00         173.00              3.00   \n",
       "23698                 nan               nan            nan               nan   \n",
       "\n",
       "       ponds_nearest  days_exposition  \n",
       "0             755.00              nan  \n",
       "1                nan            81.00  \n",
       "2             574.00           558.00  \n",
       "3             234.00           424.00  \n",
       "4              48.00           121.00  \n",
       "...              ...              ...  \n",
       "23694         381.00              nan  \n",
       "23695            nan            45.00  \n",
       "23696            nan              nan  \n",
       "23697         196.00           602.00  \n",
       "23698            nan              nan  \n",
       "\n",
       "[23699 rows x 22 columns]"
      ]
     },
     "metadata": {},
     "output_type": "display_data"
    }
   ],
   "source": [
    "display(df)"
   ]
  },
  {
   "cell_type": "markdown",
   "metadata": {},
   "source": [
    "### Вывод"
   ]
  },
  {
   "cell_type": "markdown",
   "metadata": {},
   "source": [
    "Было получены следующее столбцы:\n",
    "\n",
    "* `first_day_exposition` - тип `object`, нужно заменить на `datetime`\n",
    "* `ceiling_height` - нулевые значения\n",
    "* `floor_total` - тип `float64`, нужно заменить на `int`\n",
    "* `is_apartment` - тип `object`, нужно заменить на `bool` + нулевые значения\n",
    "* `living_area` - нулевые значения\n",
    "* `kitchen_area` - нулевые значения\n",
    "* `balcony` - нулевые значения\n",
    "* `locality_name` - нулевые значения\n",
    "* `airports_nearest` - нулевые значения\n",
    "* `cityCenters_nearest` - нулевые значения\n",
    "* `parks_around3000` - тип `float64`, нужно заменить на `int` + нулевые значения\n",
    "* `parks_nearest` - нулевые значения\n",
    "* `ponds_around3000` - тип `float64`, нужно заменить на `int` + нулевые значения\n",
    "* `ponds_nearest` - нулевые значения\n",
    "* `days_exposition` - тип `float64`, нужно заменить на `int` + нулевые значения\n"
   ]
  },
  {
   "cell_type": "markdown",
   "metadata": {},
   "source": [
    "## Шаг 2. Предобработка данных"
   ]
  },
  {
   "cell_type": "code",
   "execution_count": 3,
   "metadata": {},
   "outputs": [
    {
     "data": {
      "text/plain": [
       "Index(['total_images', 'last_price', 'total_area', 'first_day_exposition',\n",
       "       'rooms', 'ceiling_height', 'floors_total', 'living_area', 'floor',\n",
       "       'is_apartment', 'studio', 'open_plan', 'kitchen_area', 'balcony',\n",
       "       'locality_name', 'airports_nearest', 'cityCenters_nearest',\n",
       "       'parks_around3000', 'parks_nearest', 'ponds_around3000',\n",
       "       'ponds_nearest', 'days_exposition'],\n",
       "      dtype='object')"
      ]
     },
     "metadata": {},
     "output_type": "display_data"
    }
   ],
   "source": [
    "display(df.columns) #посмтрим значения в столбцах"
   ]
  },
  {
   "cell_type": "code",
   "execution_count": 4,
   "metadata": {},
   "outputs": [
    {
     "name": "stdout",
     "output_type": "stream",
     "text": [
      "Пропуски до: total_images                0\n",
      "last_price                  0\n",
      "total_area                  0\n",
      "first_day_exposition        0\n",
      "rooms                       0\n",
      "ceiling_height           9195\n",
      "floors_total               86\n",
      "living_area              1903\n",
      "floor                       0\n",
      "is_apartment            20924\n",
      "studio                      0\n",
      "open_plan                   0\n",
      "kitchen_area             2278\n",
      "balcony                 11519\n",
      "locality_name              49\n",
      "airports_nearest         5542\n",
      "cityCenters_nearest      5519\n",
      "parks_around3000         5518\n",
      "parks_nearest           15620\n",
      "ponds_around3000         5518\n",
      "ponds_nearest           14589\n",
      "days_exposition          3181\n",
      "dtype: int64\n"
     ]
    }
   ],
   "source": [
    "print('Пропуски до:', df.isna().sum()) #посмотрим на пропуски"
   ]
  },
  {
   "cell_type": "code",
   "execution_count": 5,
   "metadata": {},
   "outputs": [
    {
     "data": {
      "text/plain": [
       "0.00    9071\n",
       "1.00    5717\n",
       "2.00    1892\n",
       "3.00    1501\n",
       "Name: ponds_around3000, dtype: int64"
      ]
     },
     "execution_count": 5,
     "metadata": {},
     "output_type": "execute_result"
    }
   ],
   "source": [
    "#посмотрим значения в столбцах для выявления нестандартных значений на первый взгляд и ошибок, \n",
    "#все эти столбца оставляем как есть\n",
    "df['total_images'].value_counts()\n",
    "df['ceiling_height'].value_counts()\n",
    "df['floor'].value_counts()\n",
    "df['is_apartment'].value_counts()\n",
    "df['total_area'].value_counts()\n",
    "df['rooms'].value_counts()\n",
    "df['airports_nearest'].value_counts()\n",
    "df['cityCenters_nearest'].value_counts()\n",
    "df['parks_around3000'].value_counts()\n",
    "df['parks_nearest'].value_counts()\n",
    "df['ponds_around3000'].value_counts()"
   ]
  },
  {
   "cell_type": "code",
   "execution_count": 6,
   "metadata": {},
   "outputs": [
    {
     "data": {
      "text/plain": [
       "kitchen_area    197\n",
       "living_area      14\n",
       "dtype: int64"
      ]
     },
     "execution_count": 6,
     "metadata": {},
     "output_type": "execute_result"
    },
    {
     "data": {
      "image/png": "[encoded data removed]",
      "text/plain": [
       "<Figure size 432x288 with 1 Axes>"
      ]
     },
     "metadata": {
      "needs_background": "light"
     },
     "output_type": "display_data"
    }
   ],
   "source": [
    "#заменим пропуски в days_exposition и заменим тип данных\n",
    "\n",
    "df['days_exposition'] = df['days_exposition'].fillna(0).astype('int')\n",
    "\n",
    "#заменим пропуски в balcony на 0 и изменим тип данных на int\n",
    "\n",
    "df['balcony'].value_counts()\n",
    "df['balcony'] = df['balcony'].fillna(0)\n",
    "df['balcony'] = df['balcony'].astype('int')\n",
    "\n",
    "#в столбце is_apartment все пропущенные значения заменим на False, \n",
    "\n",
    "df['is_apartment'] = df['is_apartment'].fillna(False)\n",
    "\n",
    "#изменим last_price на тип int для удобства просмотра\n",
    "\n",
    "df['last_price'] = df['last_price'].astype('int')\n",
    "df['last_price']\n",
    "\n",
    "#переведем столбец с датой в формат даты без времени, т.к. время не указано\n",
    "\n",
    "df['first_day_exposition'] = pd.to_datetime(df['first_day_exposition'], format = '%Y-%m-%d')\n",
    "\n",
    "#посмотрим параметр ceiling_height, видим что есть необоснованно большие значения\n",
    "\n",
    "df['ceiling_height'].sort_values().plot(y = 'ceiling_height', kind = 'hist', bins = 30, range=(2,5))\n",
    "df['ceiling_height'].value_counts()\n",
    "df['ceiling_height'].describe()\n",
    "df[df['ceiling_height'] > 4].sort_values('ceiling_height').tail(20)\n",
    "\n",
    "#living_area слишком много знаков после запятой и есть пропущенные значения\n",
    "\n",
    "df['living_area'].value_counts()\n",
    "df['living_area'].describe()\n",
    "\n",
    "#медиана для количества этажей в зависимости от района\n",
    "\n",
    "for locality_name in df['locality_name'].unique():\n",
    "    median = df.loc[df['locality_name'] == locality_name, 'floors_total'].median()\n",
    "    df.loc[(df['floors_total'].isna()) & (df['locality_name'] == locality_name), 'floors_total']\n",
    "    \n",
    "df.loc[df['ceiling_height'].isna(), 'ceiling_height'] = df['ceiling_height'].median()\n",
    "df.loc[df['floors_total'].isna(), 'floors_total'] = df['floors_total'].median()\n",
    "\n",
    "df.query('rooms == 0')[['kitchen_area', 'living_area']].isnull().sum()    "
   ]
  },
  {
   "cell_type": "markdown",
   "metadata": {},
   "source": [
    "## Шаг 3.  Подсчитаем и добавим результаты в таблицу"
   ]
  },
  {
   "cell_type": "markdown",
   "metadata": {},
   "source": [
    "1. Цену квадратного метра.\n",
    "2. День недели, месяц и год публикаций объявления.\n",
    "3. Этаж квартиры:\n",
    "    * первый\n",
    "    * последний\n",
    "    * другой\n",
    "4. Соотношение жилой и общей площади, а также отношение площади кухни к общей.        "
   ]
  },
  {
   "cell_type": "markdown",
   "metadata": {},
   "source": [
    "### Подсчитаем цену квадратного метра и приведем к типу int"
   ]
  },
  {
   "cell_type": "code",
   "execution_count": 7,
   "metadata": {},
   "outputs": [
    {
     "data": {
      "text/plain": [
       "0        120370\n",
       "1         82920\n",
       "2         92785\n",
       "3        408176\n",
       "4        100000\n",
       "          ...  \n",
       "23694     72490\n",
       "23695     52542\n",
       "23696     44091\n",
       "23697    149511\n",
       "23698     41795\n",
       "Name: price_per_square_meter, Length: 23699, dtype: int64"
      ]
     },
     "metadata": {},
     "output_type": "display_data"
    }
   ],
   "source": [
    "df['price_per_square_meter'] = df['last_price'] / df['total_area']\n",
    "df['price_per_square_meter'] = df['price_per_square_meter'].astype('int')\n",
    "display(df['price_per_square_meter']) # проверим вывод"
   ]
  },
  {
   "cell_type": "markdown",
   "metadata": {},
   "source": [
    "### Создадим столбец дня недели"
   ]
  },
  {
   "cell_type": "code",
   "execution_count": 8,
   "metadata": {},
   "outputs": [],
   "source": [
    "df['weekday_exposition'] = df['first_day_exposition'].dt.weekday"
   ]
  },
  {
   "cell_type": "markdown",
   "metadata": {},
   "source": [
    "Создадим столбец месяца"
   ]
  },
  {
   "cell_type": "code",
   "execution_count": 9,
   "metadata": {},
   "outputs": [],
   "source": [
    "df['month_exposition'] = df['first_day_exposition'].dt.month"
   ]
  },
  {
   "cell_type": "markdown",
   "metadata": {},
   "source": [
    "Создадим столбец года"
   ]
  },
  {
   "cell_type": "code",
   "execution_count": 10,
   "metadata": {},
   "outputs": [],
   "source": [
    "df['year_exposition'] = df['first_day_exposition'].dt.year"
   ]
  },
  {
   "cell_type": "markdown",
   "metadata": {},
   "source": [
    "### Напишем функцию категоризации по этажам"
   ]
  },
  {
   "cell_type": "code",
   "execution_count": 11,
   "metadata": {},
   "outputs": [],
   "source": [
    "def floor_category(row):\n",
    "    floors_total = row['floors_total']\n",
    "    floor = row['floor']\n",
    "    if floor == 1:\n",
    "        return 'первый'\n",
    "    elif floor == floors_total:\n",
    "        return 'последний'\n",
    "    return 'другой'\n",
    "# категоризуем этажи с помощью функции \n",
    "df['floor_category'] = df.apply(floor_category, axis = 1)"
   ]
  },
  {
   "cell_type": "markdown",
   "metadata": {},
   "source": [
    "### Добавим столбцы соотношение жилой и общей площади, а также площади кухни к общей "
   ]
  },
  {
   "cell_type": "code",
   "execution_count": 12,
   "metadata": {},
   "outputs": [],
   "source": [
    "df['useful_area_ratio'] = df['living_area'] / df['total_area']\n",
    "df['kitchen_area_ratio'] = df['kitchen_area'] / df['total_area']"
   ]
  },
  {
   "cell_type": "markdown",
   "metadata": {},
   "source": [
    "## Шаг 4. Исследовательский анализ данных"
   ]
  },
  {
   "cell_type": "markdown",
   "metadata": {},
   "source": [
    "План выполнения:\n",
    "\n",
    "    4.1. Изучим следующие параметры: площадь, цена, число комнат, высота потолков. Построим гистограммы для каждого параметра.\n",
    "    4.2. Изучим время продажи квартиры. Построим гистограмму. Посчитаем среднее и медиану. Опишем, сколько обычно занимает продажа. Когда можно считать, что продажи прошли очень быстро, а когда необычно долго?\n",
    "    4.3. Уберём редкие и выбивающиеся значения. Опишем, какие особенности обнаружили.\n",
    "    4.4. Какие факторы больше всего влияют на стоимость квартиры? Изучим, зависит ли цена квадратного метра от общей площади квартиры, числа комнат, этажа (первого или последнего), удалённости от центра. Также изучим зависимость от даты размещения: дня недели, месяца и года.\n",
    "    4.5. Выберем 10 населённых пунктов с наибольшим числом объявлений. Посчитаем среднюю цену квадратного метра в этих населённых пунктах. Выделим населённые пункты с самой высокой и низкой стоимостью жилья. Эти данные можно найти по имени в столбце 'locality_name'.\n",
    "    4.6. Изучим предложения квартир: для каждой квартиры есть информация о расстоянии до центра. Выделим квартиры в Санкт-Петербурге (locality_name). Наша задача — выяснить, какая область входит в центр. Создадим столбец с расстоянием до центра в километрах: округлим до целых значений. После этого посчитаем среднюю цену для каждого километра. Построим график: он должен показывать, как цена зависит от удалённости от центра. Определим границу, где график сильно меняется, — это и будет центральная зона.\n",
    "    4.7. Выделим сегмент квартир в центре. Проанализируем эту территорию и изучите следующие параметры: площадь, цена, число комнат, высота потолков. Также выделим факторы, которые влияют на стоимость квартиры (число комнат, этаж, удалённость от центра, дата размещения объявления). Сделаем выводы. Отличаются ли они от общих выводов по всему городу?"
   ]
  },
  {
   "cell_type": "markdown",
   "metadata": {},
   "source": [
    "### Площадь, цена, число комнат, высота потолков."
   ]
  },
  {
   "cell_type": "code",
   "execution_count": 13,
   "metadata": {},
   "outputs": [
    {
     "data": {
      "text/plain": [
       "count   23,699.00\n",
       "mean         2.72\n",
       "std          0.99\n",
       "min          1.00\n",
       "25%          2.60\n",
       "50%          2.65\n",
       "75%          2.70\n",
       "max        100.00\n",
       "Name: ceiling_height, dtype: float64"
      ]
     },
     "execution_count": 13,
     "metadata": {},
     "output_type": "execute_result"
    },
    {
     "data": {
      "image/png": "[encoded data removed]",
      "text/plain": [
       "<Figure size 360x216 with 1 Axes>"
      ]
     },
     "metadata": {
      "needs_background": "light"
     },
     "output_type": "display_data"
    },
    {
     "data": {
      "image/png": "[encoded data removed]",
      "text/plain": [
       "<Figure size 360x216 with 1 Axes>"
      ]
     },
     "metadata": {
      "needs_background": "light"
     },
     "output_type": "display_data"
    },
    {
     "data": {
      "image/png": "[encoded data removed]",
      "text/plain": [
       "<Figure size 360x216 with 1 Axes>"
      ]
     },
     "metadata": {
      "needs_background": "light"
     },
     "output_type": "display_data"
    },
    {
     "data": {
      "image/png": "[encoded data removed]",
      "text/plain": [
       "<Figure size 360x216 with 1 Axes>"
      ]
     },
     "metadata": {
      "needs_background": "light"
     },
     "output_type": "display_data"
    }
   ],
   "source": [
    "# изучим общую площадь\n",
    "df\n",
    "df.plot(y = 'total_area', kind = 'hist', bins = 100, grid=True, figsize = (5,3), range = (0,500))\n",
    "df['total_area'].describe()\n",
    "\n",
    "# изучим цену\n",
    "df['last_price'] = df['last_price']/1000000\n",
    "df.plot(y = 'last_price', kind = 'hist', bins = 100, grid=True, range = (0,15000000), figsize = (5,3))\n",
    "df['last_price'].describe()\n",
    "\n",
    "#изучим число комнат\n",
    "df\n",
    "df.plot(y = 'rooms', kind = 'hist', bins = 30, grid=True, figsize = (5,3))\n",
    "df['rooms'].describe()\n",
    "\n",
    "#изучим высоту потолков\n",
    "df\n",
    "df.plot(y = 'ceiling_height', kind = 'hist', bins = 30, range = (2,5), grid=True, figsize = (5,3))\n",
    "df['ceiling_height'].describe()"
   ]
  },
  {
   "cell_type": "markdown",
   "metadata": {},
   "source": [
    "**Вывод:**\n",
    "\n",
    "    1. Общая площадь в нашей выборке колеблется от 12 до 900 м2, среднее значение 60, а медиана 52 м2. Распределение данных Гаусса.\n",
    "\n",
    "    2. Цены на недвижимость имеют среднее значение в 6,5 млн руб., медиана 4,6 млн руб. Распределение данных Гаусса.\n",
    "\n",
    "    3. Количество комнат колеблется от 1 до 19. Больше всего однокомнатных квартир.\n",
    "\n",
    "    4. Высота потолков в среднем составляет 2,77 м, медиана 2,65 м.\n",
    "    \n",
    "\n",
    "Во всех данных есть неадекватные значения: 0 комнат, высоты потолков в 1 или 100 метров, а также цена квартиры в 12190 рублей. О данных неадекватных значениях нужно спросить у сотрудников, предоставивших эту  выборку данных, для общего изучения данных."
   ]
  },
  {
   "cell_type": "markdown",
   "metadata": {},
   "source": [
    "### Время продажи квартир"
   ]
  },
  {
   "cell_type": "code",
   "execution_count": 14,
   "metadata": {},
   "outputs": [
    {
     "data": {
      "text/plain": [
       "Index(['total_images', 'last_price', 'total_area', 'first_day_exposition',\n",
       "       'rooms', 'ceiling_height', 'floors_total', 'living_area', 'floor',\n",
       "       'is_apartment', 'studio', 'open_plan', 'kitchen_area', 'balcony',\n",
       "       'locality_name', 'airports_nearest', 'cityCenters_nearest',\n",
       "       'parks_around3000', 'parks_nearest', 'ponds_around3000',\n",
       "       'ponds_nearest', 'days_exposition', 'price_per_square_meter',\n",
       "       'weekday_exposition', 'month_exposition', 'year_exposition',\n",
       "       'floor_category', 'useful_area_ratio', 'kitchen_area_ratio'],\n",
       "      dtype='object')"
      ]
     },
     "metadata": {},
     "output_type": "display_data"
    },
    {
     "data": {
      "text/plain": [
       "count   20,518.00\n",
       "mean       180.89\n",
       "std        219.73\n",
       "min          1.00\n",
       "25%         45.00\n",
       "50%         95.00\n",
       "75%        232.00\n",
       "max      1,580.00\n",
       "Name: days_exposition, dtype: float64"
      ]
     },
     "execution_count": 14,
     "metadata": {},
     "output_type": "execute_result"
    },
    {
     "data": {
      "image/png": "[encoded data removed]",
      "text/plain": [
       "<Figure size 432x288 with 1 Axes>"
      ]
     },
     "metadata": {
      "needs_background": "light"
     },
     "output_type": "display_data"
    },
    {
     "data": {
      "image/png": "[encoded data removed]",
      "text/plain": [
       "<Figure size 432x288 with 1 Axes>"
      ]
     },
     "metadata": {
      "needs_background": "light"
     },
     "output_type": "display_data"
    },
    {
     "data": {
      "image/png": "[encoded data removed]",
      "text/plain": [
       "<Figure size 432x288 with 1 Axes>"
      ]
     },
     "metadata": {
      "needs_background": "light"
     },
     "output_type": "display_data"
    }
   ],
   "source": [
    "display(df.columns)\n",
    "\n",
    "# диограмма размаха\n",
    "import matplotlib.pyplot as plt\n",
    "plt.boxplot(df[df['days_exposition']!=0]['days_exposition'])\n",
    "plt.ylim(1,1000)\n",
    "\n",
    "df.plot(y = 'days_exposition', kind = 'hist', bins = 30, grid = True, range = (1,1600))\n",
    "df.plot(y = 'days_exposition', kind = 'hist', bins = 100, grid = True, range = (1,200))\n",
    "\n",
    "#среднее значение, медиана и межквартильный размах\n",
    "df[df['days_exposition']!=0]['days_exposition'].describe()\n",
    "#df[df['days_exposition']!=0]['days_exposition'].value_counts()"
   ]
  },
  {
   "cell_type": "markdown",
   "metadata": {},
   "source": [
    "**Вывод:**\n",
    "\n",
    "Судя по гистограмме - мы имеем распределение Пуассона. Среднее значение - 180 дней, а медиана - 95 дней. Сделав гистограмму со значениями от 0 до 200 с кол-вом корзин 100, обнаружили выбивающиеся значения и методом value_counts убедились в этом - у нас аномалии на 45, 60, 7, 30, 90 днях - это наиболее популярное количество дней до снятия объявления. Никаких особенностей в обьявлениях, снятых через 45, 60, 7, 30, 90 не выявлено, поэтом нужно убрать их из наших расчетов, так как это аномалии. Видимо это следы работысистемы автозакрытия обьявлений.\n",
    "\n",
    "Исходя из метода describe, межквартильный размах - от 45 до 232 дней, исходя же из метода boxplot - диаграмма размаха у нас от минимального значения до примерно 500 дней. Значит необоснованно быстрых значений у нас нет, а необоснованно долгие - от 500 дней и выше. Значит нормальные значения у нас лежат от 1 до 500.\n",
    "\n",
    "Мы узнали, что данные не правильные, но они нам нужны чтобы сравнить с данными, отчищенными от анамалий."
   ]
  },
  {
   "cell_type": "markdown",
   "metadata": {},
   "source": [
    "### Убирем редкие и выбивающиеся значения"
   ]
  },
  {
   "cell_type": "code",
   "execution_count": 15,
   "metadata": {},
   "outputs": [
    {
     "data": {
      "text/plain": [
       "count   18,454.00\n",
       "mean       195.80\n",
       "std        226.76\n",
       "min          1.00\n",
       "25%         44.00\n",
       "50%        114.00\n",
       "75%        259.00\n",
       "max      1,580.00\n",
       "Name: days_exposition, dtype: float64"
      ]
     },
     "execution_count": 15,
     "metadata": {},
     "output_type": "execute_result"
    },
    {
     "data": {
      "image/png": "[encoded data removed]",
      "text/plain": [
       "<Figure size 432x288 with 1 Axes>"
      ]
     },
     "metadata": {
      "needs_background": "light"
     },
     "output_type": "display_data"
    },
    {
     "data": {
      "image/png": "[encoded data removed]",
      "text/plain": [
       "<Figure size 432x288 with 1 Axes>"
      ]
     },
     "metadata": {
      "needs_background": "light"
     },
     "output_type": "display_data"
    },
    {
     "data": {
      "image/png": "[encoded data removed]",
      "text/plain": [
       "<Figure size 432x288 with 1 Axes>"
      ]
     },
     "metadata": {
      "needs_background": "light"
     },
     "output_type": "display_data"
    }
   ],
   "source": [
    "# создадим новый датафрей good_df, отфильтрованный от анамалий\n",
    "good_df = df.query('days_exposition != 7 and days_exposition != 30 and days_exposition != 45 and days_exposition != 60 and days_exposition != 90 and days_exposition != 0')\n",
    "\n",
    "# диаграмма размаха\n",
    "plt.boxplot(good_df['days_exposition'])\n",
    "plt.ylim(1, 1000)\n",
    "\n",
    "# гистограммы\n",
    "good_df.plot(y = 'days_exposition', kind = 'hist', bins = 30, grid = True, range = (1, 1600))\n",
    "good_df.plot(y = 'days_exposition', kind = 'hist', bins = 100, grid = True, range = (1, 200))\n",
    "\n",
    "# среднее значение и медиана межквартильный размах\n",
    "good_df['days_exposition'].value_counts()\n",
    "good_df['days_exposition'].describe()"
   ]
  },
  {
   "cell_type": "markdown",
   "metadata": {},
   "source": [
    "**Вывод:**\n",
    "\n",
    "В данных с аномалиями в значения меньших медиан, мы получаем большие значения медианы и среднего значения - 114 и 195 соответственно, вместо 95 и 180. Теперь нормальные значения располагаются от 1 до 600 дней вместо от 1 до 500 дней. "
   ]
  },
  {
   "cell_type": "markdown",
   "metadata": {},
   "source": [
    "###  Какие факторы больше всего влияют на стоимость квартиры?"
   ]
  },
  {
   "cell_type": "markdown",
   "metadata": {},
   "source": [
    "**Изучим зависимость цены квадратного метра от общей площади квартиры**"
   ]
  },
  {
   "cell_type": "code",
   "execution_count": 16,
   "metadata": {},
   "outputs": [
    {
     "data": {
      "text/plain": [
       "0.30196014387792547"
      ]
     },
     "execution_count": 16,
     "metadata": {},
     "output_type": "execute_result"
    },
    {
     "data": {
      "image/png": "[encoded data removed]",
      "text/plain": [
       "<Figure size 432x288 with 1 Axes>"
      ]
     },
     "metadata": {
      "needs_background": "light"
     },
     "output_type": "display_data"
    }
   ],
   "source": [
    "pivot_table_total_area = df.pivot_table(index = 'total_area', \n",
    "                                        values = 'price_per_square_meter', \n",
    "                                        aggfunc = ['mean', 'count', 'median'])\n",
    "pivot_table_total_area.columns = ['mean', 'count', 'median']\n",
    "pivot_table_total_area.plot(y = 'median', style = 'o')\n",
    "\n",
    "pivot_table_total_area.sort_values('median', ascending = False)\n",
    "\n",
    "df['total_area'].corr(df['price_per_square_meter'])"
   ]
  },
  {
   "cell_type": "markdown",
   "metadata": {},
   "source": [
    "**Вывод:**\n",
    "\n",
    "Согласно корреляции Пирсона зависимость очень слаба - 0.3. Чем больше площадь, тем немного выше стоимость."
   ]
  },
  {
   "cell_type": "markdown",
   "metadata": {},
   "source": [
    "**Изучим зависимость цены квадратного метра от количества комнат**"
   ]
  },
  {
   "cell_type": "code",
   "execution_count": 17,
   "metadata": {},
   "outputs": [
    {
     "data": {
      "text/plain": [
       "0.0554194996705922"
      ]
     },
     "execution_count": 17,
     "metadata": {},
     "output_type": "execute_result"
    },
    {
     "data": {
      "image/png": "[encoded data removed]",
      "text/plain": [
       "<Figure size 432x288 with 1 Axes>"
      ]
     },
     "metadata": {
      "needs_background": "light"
     },
     "output_type": "display_data"
    }
   ],
   "source": [
    "pivot_table_rooms = df.pivot_table(index = 'rooms', \n",
    "                                   values = 'price_per_square_meter', \n",
    "                                   aggfunc = ['mean', 'count', 'median'])\n",
    "pivot_table_rooms.columns = ['mean', 'count', 'median']\n",
    "pivot_table_rooms.query('count > 50').plot(y = 'median')\n",
    "\n",
    "pivot_table_rooms.query('count > 50').sort_values('median', ascending = False)\n",
    "\n",
    "df['rooms'].corr(df['price_per_square_meter'])"
   ]
  },
  {
   "cell_type": "markdown",
   "metadata": {},
   "source": [
    "**Вывод:**\n",
    "\n",
    "У трех комнатных квартир самая низкая цена за квадратный метр."
   ]
  },
  {
   "cell_type": "markdown",
   "metadata": {},
   "source": [
    "**Изучим зависимость цены за квадратный метр от этажа (первого и последнего)**"
   ]
  },
  {
   "cell_type": "code",
   "execution_count": 18,
   "metadata": {},
   "outputs": [
    {
     "data": {
      "text/html": [
       "<div>\n",
       "<style scoped>\n",
       "    .dataframe tbody tr th:only-of-type {\n",
       "        vertical-align: middle;\n",
       "    }\n",
       "\n",
       "    .dataframe tbody tr th {\n",
       "        vertical-align: top;\n",
       "    }\n",
       "\n",
       "    .dataframe thead th {\n",
       "        text-align: right;\n",
       "    }\n",
       "</style>\n",
       "<table border=\"1\" class=\"dataframe\">\n",
       "  <thead>\n",
       "    <tr style=\"text-align: right;\">\n",
       "      <th></th>\n",
       "      <th>mean</th>\n",
       "      <th>count</th>\n",
       "      <th>median</th>\n",
       "    </tr>\n",
       "    <tr>\n",
       "      <th>floor_category</th>\n",
       "      <th></th>\n",
       "      <th></th>\n",
       "      <th></th>\n",
       "    </tr>\n",
       "  </thead>\n",
       "  <tbody>\n",
       "    <tr>\n",
       "      <td>первый</td>\n",
       "      <td>81,983.11</td>\n",
       "      <td>2917</td>\n",
       "      <td>81223</td>\n",
       "    </tr>\n",
       "    <tr>\n",
       "      <td>последний</td>\n",
       "      <td>93,427.86</td>\n",
       "      <td>3341</td>\n",
       "      <td>87857</td>\n",
       "    </tr>\n",
       "  </tbody>\n",
       "</table>\n",
       "</div>"
      ],
      "text/plain": [
       "                    mean  count  median\n",
       "floor_category                         \n",
       "первый         81,983.11   2917   81223\n",
       "последний      93,427.86   3341   87857"
      ]
     },
     "execution_count": 18,
     "metadata": {},
     "output_type": "execute_result"
    },
    {
     "data": {
      "image/png": "[encoded data removed]",
      "text/plain": [
       "<Figure size 432x288 with 1 Axes>"
      ]
     },
     "metadata": {
      "needs_background": "light"
     },
     "output_type": "display_data"
    }
   ],
   "source": [
    "pivot_table_floor_category = (df.query('floor_category != \"другой\"')\n",
    "                              .pivot_table(index = 'floor_category', \n",
    "                                           values = 'price_per_square_meter', \n",
    "                                           aggfunc = ['mean', 'count', 'median']))\n",
    "pivot_table_floor_category.columns = ['mean', 'count', 'median']\n",
    "pivot_table_floor_category.plot(y = 'median')\n",
    "pivot_table_floor_category"
   ]
  },
  {
   "cell_type": "markdown",
   "metadata": {},
   "source": [
    "**Вывод:**\n",
    "\n",
    "Как показывает медиана - квартиры на первом этаже дешевле чем квартиры на последнем, примерно на 10%."
   ]
  },
  {
   "cell_type": "markdown",
   "metadata": {},
   "source": [
    "**Изучим зависимость цены квадратного метра от удалённости от центра**"
   ]
  },
  {
   "cell_type": "code",
   "execution_count": 19,
   "metadata": {},
   "outputs": [
    {
     "data": {
      "text/plain": [
       "-0.3179507368286467"
      ]
     },
     "execution_count": 19,
     "metadata": {},
     "output_type": "execute_result"
    },
    {
     "data": {
      "image/png": "[encoded data removed]",
      "text/plain": [
       "<Figure size 432x288 with 1 Axes>"
      ]
     },
     "metadata": {
      "needs_background": "light"
     },
     "output_type": "display_data"
    }
   ],
   "source": [
    "df.plot(x = 'cityCenters_nearest', y = 'price_per_square_meter', kind = 'scatter', alpha = 0.3)\n",
    "df['cityCenters_nearest'].corr(df['price_per_square_meter'])"
   ]
  },
  {
   "cell_type": "markdown",
   "metadata": {},
   "source": [
    "**Вывод**\n",
    "\n",
    "Видна зависимость цены на квадратный метр от близости к центру. Чем ближе центр, тем выше цена за квадратныый метр."
   ]
  },
  {
   "cell_type": "markdown",
   "metadata": {},
   "source": [
    "**Изучим зависимость цены квадратного метра от даты размещения: дня недели.**"
   ]
  },
  {
   "cell_type": "code",
   "execution_count": 20,
   "metadata": {},
   "outputs": [
    {
     "data": {
      "text/html": [
       "<div>\n",
       "<style scoped>\n",
       "    .dataframe tbody tr th:only-of-type {\n",
       "        vertical-align: middle;\n",
       "    }\n",
       "\n",
       "    .dataframe tbody tr th {\n",
       "        vertical-align: top;\n",
       "    }\n",
       "\n",
       "    .dataframe thead th {\n",
       "        text-align: right;\n",
       "    }\n",
       "</style>\n",
       "<table border=\"1\" class=\"dataframe\">\n",
       "  <thead>\n",
       "    <tr style=\"text-align: right;\">\n",
       "      <th></th>\n",
       "      <th>mean</th>\n",
       "      <th>count</th>\n",
       "      <th>median</th>\n",
       "    </tr>\n",
       "    <tr>\n",
       "      <th>weekday_exposition</th>\n",
       "      <th></th>\n",
       "      <th></th>\n",
       "      <th></th>\n",
       "    </tr>\n",
       "  </thead>\n",
       "  <tbody>\n",
       "    <tr>\n",
       "      <td>1</td>\n",
       "      <td>99,734.09</td>\n",
       "      <td>4183</td>\n",
       "      <td>95,634.00</td>\n",
       "    </tr>\n",
       "    <tr>\n",
       "      <td>2</td>\n",
       "      <td>99,616.73</td>\n",
       "      <td>3974</td>\n",
       "      <td>95,473.00</td>\n",
       "    </tr>\n",
       "    <tr>\n",
       "      <td>3</td>\n",
       "      <td>100,162.47</td>\n",
       "      <td>4295</td>\n",
       "      <td>95,143.00</td>\n",
       "    </tr>\n",
       "    <tr>\n",
       "      <td>0</td>\n",
       "      <td>99,437.99</td>\n",
       "      <td>3612</td>\n",
       "      <td>94,688.00</td>\n",
       "    </tr>\n",
       "    <tr>\n",
       "      <td>4</td>\n",
       "      <td>99,011.70</td>\n",
       "      <td>4000</td>\n",
       "      <td>94,616.00</td>\n",
       "    </tr>\n",
       "    <tr>\n",
       "      <td>6</td>\n",
       "      <td>97,707.92</td>\n",
       "      <td>1699</td>\n",
       "      <td>94,501.00</td>\n",
       "    </tr>\n",
       "    <tr>\n",
       "      <td>5</td>\n",
       "      <td>99,017.72</td>\n",
       "      <td>1936</td>\n",
       "      <td>93,545.50</td>\n",
       "    </tr>\n",
       "  </tbody>\n",
       "</table>\n",
       "</div>"
      ],
      "text/plain": [
       "                         mean  count    median\n",
       "weekday_exposition                            \n",
       "1                   99,734.09   4183 95,634.00\n",
       "2                   99,616.73   3974 95,473.00\n",
       "3                  100,162.47   4295 95,143.00\n",
       "0                   99,437.99   3612 94,688.00\n",
       "4                   99,011.70   4000 94,616.00\n",
       "6                   97,707.92   1699 94,501.00\n",
       "5                   99,017.72   1936 93,545.50"
      ]
     },
     "execution_count": 20,
     "metadata": {},
     "output_type": "execute_result"
    },
    {
     "data": {
      "image/png": "[encoded data removed]",
      "text/plain": [
       "<Figure size 432x288 with 1 Axes>"
      ]
     },
     "metadata": {
      "needs_background": "light"
     },
     "output_type": "display_data"
    }
   ],
   "source": [
    "pivot_table_weekday_exposition = df.pivot_table(index = 'weekday_exposition', \n",
    "                                                values = 'price_per_square_meter', \n",
    "                                                aggfunc = ['mean', 'count', 'median'])\n",
    "pivot_table_weekday_exposition.columns = ['mean', 'count', 'median']\n",
    "pivot_table_weekday_exposition.plot(y = 'median')\n",
    "\n",
    "pivot_table_weekday_exposition.sort_values('median', ascending = False)"
   ]
  },
  {
   "cell_type": "markdown",
   "metadata": {},
   "source": [
    "**Вывод:**\n",
    "\n",
    "В субботу самая низкая цена, во вторник самая высока. Это может быть связанно с общей активности людей, так как именно в рабочие дни мы видим более высокие цены."
   ]
  },
  {
   "cell_type": "markdown",
   "metadata": {},
   "source": [
    "**Изучим зависимость цены квадратного метра от даты размещения: месяца.**"
   ]
  },
  {
   "cell_type": "code",
   "execution_count": 21,
   "metadata": {},
   "outputs": [
    {
     "data": {
      "text/html": [
       "<div>\n",
       "<style scoped>\n",
       "    .dataframe tbody tr th:only-of-type {\n",
       "        vertical-align: middle;\n",
       "    }\n",
       "\n",
       "    .dataframe tbody tr th {\n",
       "        vertical-align: top;\n",
       "    }\n",
       "\n",
       "    .dataframe thead th {\n",
       "        text-align: right;\n",
       "    }\n",
       "</style>\n",
       "<table border=\"1\" class=\"dataframe\">\n",
       "  <thead>\n",
       "    <tr style=\"text-align: right;\">\n",
       "      <th></th>\n",
       "      <th>mean</th>\n",
       "      <th>count</th>\n",
       "      <th>median</th>\n",
       "    </tr>\n",
       "    <tr>\n",
       "      <th>month_exposition</th>\n",
       "      <th></th>\n",
       "      <th></th>\n",
       "      <th></th>\n",
       "    </tr>\n",
       "  </thead>\n",
       "  <tbody>\n",
       "    <tr>\n",
       "      <td>4</td>\n",
       "      <td>101,948.57</td>\n",
       "      <td>2379</td>\n",
       "      <td>96451</td>\n",
       "    </tr>\n",
       "    <tr>\n",
       "      <td>8</td>\n",
       "      <td>100,110.09</td>\n",
       "      <td>1744</td>\n",
       "      <td>96026</td>\n",
       "    </tr>\n",
       "    <tr>\n",
       "      <td>9</td>\n",
       "      <td>100,463.81</td>\n",
       "      <td>1981</td>\n",
       "      <td>95607</td>\n",
       "    </tr>\n",
       "    <tr>\n",
       "      <td>11</td>\n",
       "      <td>99,230.43</td>\n",
       "      <td>2371</td>\n",
       "      <td>95588</td>\n",
       "    </tr>\n",
       "    <tr>\n",
       "      <td>3</td>\n",
       "      <td>98,972.77</td>\n",
       "      <td>2587</td>\n",
       "      <td>95238</td>\n",
       "    </tr>\n",
       "    <tr>\n",
       "      <td>1</td>\n",
       "      <td>99,862.14</td>\n",
       "      <td>1500</td>\n",
       "      <td>95222</td>\n",
       "    </tr>\n",
       "    <tr>\n",
       "      <td>2</td>\n",
       "      <td>98,768.29</td>\n",
       "      <td>2640</td>\n",
       "      <td>95000</td>\n",
       "    </tr>\n",
       "    <tr>\n",
       "      <td>7</td>\n",
       "      <td>99,625.19</td>\n",
       "      <td>1695</td>\n",
       "      <td>95000</td>\n",
       "    </tr>\n",
       "    <tr>\n",
       "      <td>12</td>\n",
       "      <td>99,574.28</td>\n",
       "      <td>1641</td>\n",
       "      <td>94262</td>\n",
       "    </tr>\n",
       "    <tr>\n",
       "      <td>10</td>\n",
       "      <td>97,933.45</td>\n",
       "      <td>2127</td>\n",
       "      <td>94202</td>\n",
       "    </tr>\n",
       "    <tr>\n",
       "      <td>5</td>\n",
       "      <td>98,543.34</td>\n",
       "      <td>1274</td>\n",
       "      <td>92857</td>\n",
       "    </tr>\n",
       "    <tr>\n",
       "      <td>6</td>\n",
       "      <td>97,762.87</td>\n",
       "      <td>1760</td>\n",
       "      <td>92799</td>\n",
       "    </tr>\n",
       "  </tbody>\n",
       "</table>\n",
       "</div>"
      ],
      "text/plain": [
       "                       mean  count  median\n",
       "month_exposition                          \n",
       "4                101,948.57   2379   96451\n",
       "8                100,110.09   1744   96026\n",
       "9                100,463.81   1981   95607\n",
       "11                99,230.43   2371   95588\n",
       "3                 98,972.77   2587   95238\n",
       "1                 99,862.14   1500   95222\n",
       "2                 98,768.29   2640   95000\n",
       "7                 99,625.19   1695   95000\n",
       "12                99,574.28   1641   94262\n",
       "10                97,933.45   2127   94202\n",
       "5                 98,543.34   1274   92857\n",
       "6                 97,762.87   1760   92799"
      ]
     },
     "execution_count": 21,
     "metadata": {},
     "output_type": "execute_result"
    },
    {
     "data": {
      "image/png": "[encoded data removed]",
      "text/plain": [
       "<Figure size 432x288 with 1 Axes>"
      ]
     },
     "metadata": {
      "needs_background": "light"
     },
     "output_type": "display_data"
    }
   ],
   "source": [
    "pivot_table_month_exposition = df.pivot_table(index = 'month_exposition', \n",
    "                                              values = 'price_per_square_meter', \n",
    "                                              aggfunc = ['mean', 'count', 'median'])\n",
    "pivot_table_month_exposition.columns = ['mean', 'count', 'median']\n",
    "pivot_table_month_exposition.plot(y = 'median')\n",
    "\n",
    "pivot_table_month_exposition.sort_values('median', ascending = False)"
   ]
  },
  {
   "cell_type": "markdown",
   "metadata": {},
   "source": [
    "**Вывод:**\n",
    "\n",
    "Самая высокая цена за квадратный метр в апреле и в августе, а самая низкая в мае и июне. Низкая цена может быть связанна с порой отпусков, а высокая, например в августе, из-за наплыва студентов из других городов."
   ]
  },
  {
   "cell_type": "markdown",
   "metadata": {},
   "source": [
    "**Изучим зависимость цены квадратного метра от даты размещения: года.**"
   ]
  },
  {
   "cell_type": "code",
   "execution_count": 22,
   "metadata": {},
   "outputs": [
    {
     "data": {
      "text/html": [
       "<div>\n",
       "<style scoped>\n",
       "    .dataframe tbody tr th:only-of-type {\n",
       "        vertical-align: middle;\n",
       "    }\n",
       "\n",
       "    .dataframe tbody tr th {\n",
       "        vertical-align: top;\n",
       "    }\n",
       "\n",
       "    .dataframe thead th {\n",
       "        text-align: right;\n",
       "    }\n",
       "</style>\n",
       "<table border=\"1\" class=\"dataframe\">\n",
       "  <thead>\n",
       "    <tr style=\"text-align: right;\">\n",
       "      <th></th>\n",
       "      <th>mean</th>\n",
       "      <th>count</th>\n",
       "      <th>median</th>\n",
       "    </tr>\n",
       "    <tr>\n",
       "      <th>year_exposition</th>\n",
       "      <th></th>\n",
       "      <th></th>\n",
       "      <th></th>\n",
       "    </tr>\n",
       "  </thead>\n",
       "  <tbody>\n",
       "    <tr>\n",
       "      <td>2014</td>\n",
       "      <td>124,830.00</td>\n",
       "      <td>137</td>\n",
       "      <td>107,000.00</td>\n",
       "    </tr>\n",
       "    <tr>\n",
       "      <td>2019</td>\n",
       "      <td>107,123.33</td>\n",
       "      <td>2879</td>\n",
       "      <td>103,305.00</td>\n",
       "    </tr>\n",
       "    <tr>\n",
       "      <td>2018</td>\n",
       "      <td>97,773.11</td>\n",
       "      <td>8519</td>\n",
       "      <td>95,689.00</td>\n",
       "    </tr>\n",
       "    <tr>\n",
       "      <td>2015</td>\n",
       "      <td>104,613.76</td>\n",
       "      <td>1191</td>\n",
       "      <td>93,414.00</td>\n",
       "    </tr>\n",
       "    <tr>\n",
       "      <td>2017</td>\n",
       "      <td>97,621.43</td>\n",
       "      <td>8190</td>\n",
       "      <td>92,564.50</td>\n",
       "    </tr>\n",
       "    <tr>\n",
       "      <td>2016</td>\n",
       "      <td>98,321.90</td>\n",
       "      <td>2783</td>\n",
       "      <td>91,743.00</td>\n",
       "    </tr>\n",
       "  </tbody>\n",
       "</table>\n",
       "</div>"
      ],
      "text/plain": [
       "                      mean  count     median\n",
       "year_exposition                             \n",
       "2014            124,830.00    137 107,000.00\n",
       "2019            107,123.33   2879 103,305.00\n",
       "2018             97,773.11   8519  95,689.00\n",
       "2015            104,613.76   1191  93,414.00\n",
       "2017             97,621.43   8190  92,564.50\n",
       "2016             98,321.90   2783  91,743.00"
      ]
     },
     "execution_count": 22,
     "metadata": {},
     "output_type": "execute_result"
    },
    {
     "data": {
      "image/png": "[encoded data removed]",
      "text/plain": [
       "<Figure size 432x288 with 1 Axes>"
      ]
     },
     "metadata": {
      "needs_background": "light"
     },
     "output_type": "display_data"
    }
   ],
   "source": [
    "pivot_table_year_exposition = df.pivot_table(index = 'year_exposition', \n",
    "                                             values = 'price_per_square_meter', \n",
    "                                             aggfunc = ['mean', 'count', 'median'])\n",
    "pivot_table_year_exposition.columns = ['mean', 'count', 'median']\n",
    "pivot_table_year_exposition.plot(y = 'median')\n",
    "\n",
    "pivot_table_year_exposition.sort_values('median', ascending = False)"
   ]
  },
  {
   "cell_type": "markdown",
   "metadata": {},
   "source": [
    "**Вывод:**\n",
    "\n",
    "Самая низкая цена на квадратный метры в 2016 году, с 2014 года по 2016 год цена падает, но после только растёт. "
   ]
  },
  {
   "cell_type": "markdown",
   "metadata": {},
   "source": [
    "### 10 населённых пунктов с наибольшим числом объявлений."
   ]
  },
  {
   "cell_type": "code",
   "execution_count": 23,
   "metadata": {},
   "outputs": [
    {
     "data": {
      "text/html": [
       "<div>\n",
       "<style scoped>\n",
       "    .dataframe tbody tr th:only-of-type {\n",
       "        vertical-align: middle;\n",
       "    }\n",
       "\n",
       "    .dataframe tbody tr th {\n",
       "        vertical-align: top;\n",
       "    }\n",
       "\n",
       "    .dataframe thead th {\n",
       "        text-align: right;\n",
       "    }\n",
       "</style>\n",
       "<table border=\"1\" class=\"dataframe\">\n",
       "  <thead>\n",
       "    <tr style=\"text-align: right;\">\n",
       "      <th></th>\n",
       "      <th>count</th>\n",
       "      <th>mean</th>\n",
       "    </tr>\n",
       "    <tr>\n",
       "      <th>locality_name</th>\n",
       "      <th></th>\n",
       "      <th></th>\n",
       "    </tr>\n",
       "  </thead>\n",
       "  <tbody>\n",
       "    <tr>\n",
       "      <td>Санкт-Петербург</td>\n",
       "      <td>15721</td>\n",
       "      <td>114,848.57</td>\n",
       "    </tr>\n",
       "    <tr>\n",
       "      <td>посёлок Мурино</td>\n",
       "      <td>522</td>\n",
       "      <td>85,751.73</td>\n",
       "    </tr>\n",
       "    <tr>\n",
       "      <td>посёлок Шушары</td>\n",
       "      <td>440</td>\n",
       "      <td>78,676.90</td>\n",
       "    </tr>\n",
       "    <tr>\n",
       "      <td>Всеволожск</td>\n",
       "      <td>398</td>\n",
       "      <td>68,654.01</td>\n",
       "    </tr>\n",
       "    <tr>\n",
       "      <td>Пушкин</td>\n",
       "      <td>369</td>\n",
       "      <td>103,125.37</td>\n",
       "    </tr>\n",
       "    <tr>\n",
       "      <td>Колпино</td>\n",
       "      <td>338</td>\n",
       "      <td>75,424.15</td>\n",
       "    </tr>\n",
       "    <tr>\n",
       "      <td>посёлок Парголово</td>\n",
       "      <td>327</td>\n",
       "      <td>90,175.49</td>\n",
       "    </tr>\n",
       "    <tr>\n",
       "      <td>Гатчина</td>\n",
       "      <td>307</td>\n",
       "      <td>68,745.69</td>\n",
       "    </tr>\n",
       "    <tr>\n",
       "      <td>деревня Кудрово</td>\n",
       "      <td>299</td>\n",
       "      <td>92,473.09</td>\n",
       "    </tr>\n",
       "    <tr>\n",
       "      <td>Выборг</td>\n",
       "      <td>237</td>\n",
       "      <td>58,141.49</td>\n",
       "    </tr>\n",
       "  </tbody>\n",
       "</table>\n",
       "</div>"
      ],
      "text/plain": [
       "                   count       mean\n",
       "locality_name                      \n",
       "Санкт-Петербург    15721 114,848.57\n",
       "посёлок Мурино       522  85,751.73\n",
       "посёлок Шушары       440  78,676.90\n",
       "Всеволожск           398  68,654.01\n",
       "Пушкин               369 103,125.37\n",
       "Колпино              338  75,424.15\n",
       "посёлок Парголово    327  90,175.49\n",
       "Гатчина              307  68,745.69\n",
       "деревня Кудрово      299  92,473.09\n",
       "Выборг               237  58,141.49"
      ]
     },
     "metadata": {},
     "output_type": "display_data"
    },
    {
     "data": {
      "text/html": [
       "<div>\n",
       "<style scoped>\n",
       "    .dataframe tbody tr th:only-of-type {\n",
       "        vertical-align: middle;\n",
       "    }\n",
       "\n",
       "    .dataframe tbody tr th {\n",
       "        vertical-align: top;\n",
       "    }\n",
       "\n",
       "    .dataframe thead th {\n",
       "        text-align: right;\n",
       "    }\n",
       "</style>\n",
       "<table border=\"1\" class=\"dataframe\">\n",
       "  <thead>\n",
       "    <tr style=\"text-align: right;\">\n",
       "      <th></th>\n",
       "      <th>count</th>\n",
       "      <th>mean</th>\n",
       "    </tr>\n",
       "    <tr>\n",
       "      <th>locality_name</th>\n",
       "      <th></th>\n",
       "      <th></th>\n",
       "    </tr>\n",
       "  </thead>\n",
       "  <tbody>\n",
       "    <tr>\n",
       "      <td>Санкт-Петербург</td>\n",
       "      <td>15721</td>\n",
       "      <td>114,848.57</td>\n",
       "    </tr>\n",
       "  </tbody>\n",
       "</table>\n",
       "</div>"
      ],
      "text/plain": [
       "                 count       mean\n",
       "locality_name                    \n",
       "Санкт-Петербург  15721 114,848.57"
      ]
     },
     "metadata": {},
     "output_type": "display_data"
    },
    {
     "data": {
      "text/html": [
       "<div>\n",
       "<style scoped>\n",
       "    .dataframe tbody tr th:only-of-type {\n",
       "        vertical-align: middle;\n",
       "    }\n",
       "\n",
       "    .dataframe tbody tr th {\n",
       "        vertical-align: top;\n",
       "    }\n",
       "\n",
       "    .dataframe thead th {\n",
       "        text-align: right;\n",
       "    }\n",
       "</style>\n",
       "<table border=\"1\" class=\"dataframe\">\n",
       "  <thead>\n",
       "    <tr style=\"text-align: right;\">\n",
       "      <th></th>\n",
       "      <th>count</th>\n",
       "      <th>mean</th>\n",
       "    </tr>\n",
       "    <tr>\n",
       "      <th>locality_name</th>\n",
       "      <th></th>\n",
       "      <th></th>\n",
       "    </tr>\n",
       "  </thead>\n",
       "  <tbody>\n",
       "    <tr>\n",
       "      <td>Выборг</td>\n",
       "      <td>237</td>\n",
       "      <td>58,141.49</td>\n",
       "    </tr>\n",
       "  </tbody>\n",
       "</table>\n",
       "</div>"
      ],
      "text/plain": [
       "               count      mean\n",
       "locality_name                 \n",
       "Выборг           237 58,141.49"
      ]
     },
     "metadata": {},
     "output_type": "display_data"
    }
   ],
   "source": [
    "locality_pivot_table = df.pivot_table(index = 'locality_name', \n",
    "                                      values = 'price_per_square_meter', \n",
    "                                      aggfunc=['count', 'mean'])\n",
    "locality_pivot_table.columns = ['count', 'mean']\n",
    "locality_pivot_table = locality_pivot_table.sort_values('count', ascending = False).head(10)\n",
    "display(locality_pivot_table)\n",
    "#самая высокая стоимость\n",
    "display(locality_pivot_table[locality_pivot_table['mean']==locality_pivot_table['mean'].max()])\n",
    "#самая низкая стоимость\n",
    "display(locality_pivot_table[locality_pivot_table['mean']==locality_pivot_table['mean'].min()])"
   ]
  },
  {
   "cell_type": "markdown",
   "metadata": {},
   "source": [
    "**Вывод:**\n",
    "\n",
    "Самая высокая цена и самое большое количетво объявлений в Санкт-Петербурге, а самая низкая цена за квадратный метр находится в Выборге"
   ]
  },
  {
   "cell_type": "markdown",
   "metadata": {},
   "source": [
    "### Изучим предложения квартир: для каждой квартиры есть информация о расстоянии до центра. "
   ]
  },
  {
   "cell_type": "code",
   "execution_count": 24,
   "metadata": {},
   "outputs": [
    {
     "data": {
      "text/html": [
       "<div>\n",
       "<style scoped>\n",
       "    .dataframe tbody tr th:only-of-type {\n",
       "        vertical-align: middle;\n",
       "    }\n",
       "\n",
       "    .dataframe tbody tr th {\n",
       "        vertical-align: top;\n",
       "    }\n",
       "\n",
       "    .dataframe thead tr th {\n",
       "        text-align: left;\n",
       "    }\n",
       "\n",
       "    .dataframe thead tr:last-of-type th {\n",
       "        text-align: right;\n",
       "    }\n",
       "</style>\n",
       "<table border=\"1\" class=\"dataframe\">\n",
       "  <thead>\n",
       "    <tr>\n",
       "      <th></th>\n",
       "      <th>mean</th>\n",
       "    </tr>\n",
       "    <tr>\n",
       "      <th></th>\n",
       "      <th>price_per_square_meter</th>\n",
       "    </tr>\n",
       "    <tr>\n",
       "      <th>cityCenters_nearest_km</th>\n",
       "      <th></th>\n",
       "    </tr>\n",
       "  </thead>\n",
       "  <tbody>\n",
       "    <tr>\n",
       "      <td>0</td>\n",
       "      <td>187,323.67</td>\n",
       "    </tr>\n",
       "    <tr>\n",
       "      <td>1</td>\n",
       "      <td>166,603.31</td>\n",
       "    </tr>\n",
       "    <tr>\n",
       "      <td>2</td>\n",
       "      <td>146,662.42</td>\n",
       "    </tr>\n",
       "    <tr>\n",
       "      <td>3</td>\n",
       "      <td>129,415.89</td>\n",
       "    </tr>\n",
       "    <tr>\n",
       "      <td>4</td>\n",
       "      <td>137,475.04</td>\n",
       "    </tr>\n",
       "    <tr>\n",
       "      <td>5</td>\n",
       "      <td>146,978.79</td>\n",
       "    </tr>\n",
       "    <tr>\n",
       "      <td>6</td>\n",
       "      <td>152,277.46</td>\n",
       "    </tr>\n",
       "    <tr>\n",
       "      <td>7</td>\n",
       "      <td>141,399.29</td>\n",
       "    </tr>\n",
       "    <tr>\n",
       "      <td>8</td>\n",
       "      <td>120,580.93</td>\n",
       "    </tr>\n",
       "    <tr>\n",
       "      <td>9</td>\n",
       "      <td>110,012.11</td>\n",
       "    </tr>\n",
       "    <tr>\n",
       "      <td>10</td>\n",
       "      <td>111,640.85</td>\n",
       "    </tr>\n",
       "    <tr>\n",
       "      <td>11</td>\n",
       "      <td>106,790.44</td>\n",
       "    </tr>\n",
       "    <tr>\n",
       "      <td>12</td>\n",
       "      <td>108,295.31</td>\n",
       "    </tr>\n",
       "    <tr>\n",
       "      <td>13</td>\n",
       "      <td>107,208.72</td>\n",
       "    </tr>\n",
       "    <tr>\n",
       "      <td>14</td>\n",
       "      <td>104,986.03</td>\n",
       "    </tr>\n",
       "    <tr>\n",
       "      <td>15</td>\n",
       "      <td>101,882.68</td>\n",
       "    </tr>\n",
       "    <tr>\n",
       "      <td>16</td>\n",
       "      <td>100,085.15</td>\n",
       "    </tr>\n",
       "    <tr>\n",
       "      <td>17</td>\n",
       "      <td>94,095.43</td>\n",
       "    </tr>\n",
       "    <tr>\n",
       "      <td>18</td>\n",
       "      <td>94,831.53</td>\n",
       "    </tr>\n",
       "    <tr>\n",
       "      <td>19</td>\n",
       "      <td>95,433.95</td>\n",
       "    </tr>\n",
       "    <tr>\n",
       "      <td>20</td>\n",
       "      <td>107,045.77</td>\n",
       "    </tr>\n",
       "    <tr>\n",
       "      <td>21</td>\n",
       "      <td>91,492.22</td>\n",
       "    </tr>\n",
       "    <tr>\n",
       "      <td>22</td>\n",
       "      <td>88,714.24</td>\n",
       "    </tr>\n",
       "    <tr>\n",
       "      <td>23</td>\n",
       "      <td>92,720.23</td>\n",
       "    </tr>\n",
       "    <tr>\n",
       "      <td>24</td>\n",
       "      <td>82,439.91</td>\n",
       "    </tr>\n",
       "    <tr>\n",
       "      <td>25</td>\n",
       "      <td>91,135.60</td>\n",
       "    </tr>\n",
       "    <tr>\n",
       "      <td>26</td>\n",
       "      <td>75,171.33</td>\n",
       "    </tr>\n",
       "    <tr>\n",
       "      <td>27</td>\n",
       "      <td>132,115.00</td>\n",
       "    </tr>\n",
       "    <tr>\n",
       "      <td>28</td>\n",
       "      <td>81,840.20</td>\n",
       "    </tr>\n",
       "    <tr>\n",
       "      <td>29</td>\n",
       "      <td>62,481.67</td>\n",
       "    </tr>\n",
       "  </tbody>\n",
       "</table>\n",
       "</div>"
      ],
      "text/plain": [
       "                                         mean\n",
       "                       price_per_square_meter\n",
       "cityCenters_nearest_km                       \n",
       "0                                  187,323.67\n",
       "1                                  166,603.31\n",
       "2                                  146,662.42\n",
       "3                                  129,415.89\n",
       "4                                  137,475.04\n",
       "5                                  146,978.79\n",
       "6                                  152,277.46\n",
       "7                                  141,399.29\n",
       "8                                  120,580.93\n",
       "9                                  110,012.11\n",
       "10                                 111,640.85\n",
       "11                                 106,790.44\n",
       "12                                 108,295.31\n",
       "13                                 107,208.72\n",
       "14                                 104,986.03\n",
       "15                                 101,882.68\n",
       "16                                 100,085.15\n",
       "17                                  94,095.43\n",
       "18                                  94,831.53\n",
       "19                                  95,433.95\n",
       "20                                 107,045.77\n",
       "21                                  91,492.22\n",
       "22                                  88,714.24\n",
       "23                                  92,720.23\n",
       "24                                  82,439.91\n",
       "25                                  91,135.60\n",
       "26                                  75,171.33\n",
       "27                                 132,115.00\n",
       "28                                  81,840.20\n",
       "29                                  62,481.67"
      ]
     },
     "execution_count": 24,
     "metadata": {},
     "output_type": "execute_result"
    },
    {
     "data": {
      "image/png": "[encoded data removed]",
      "text/plain": [
       "<Figure size 432x288 with 1 Axes>"
      ]
     },
     "metadata": {
      "needs_background": "light"
     },
     "output_type": "display_data"
    }
   ],
   "source": [
    "df['cityCenters_nearest_km'] = df['cityCenters_nearest'] / 1000\n",
    "df['cityCenters_nearest_km'] = df['cityCenters_nearest_km'].fillna(999999)\n",
    "df['cityCenters_nearest_km'] = df['cityCenters_nearest_km'].astype('int')\n",
    "pivot_table_km = (df.query('locality_name == \"Санкт-Петербург\" and cityCenters_nearest_km != 999999')\n",
    "                  .pivot_table(index = 'cityCenters_nearest_km', \n",
    "                               values = 'price_per_square_meter', aggfunc = ['mean']))\n",
    "pivot_table_km.plot()\n",
    "pivot_table_km"
   ]
  },
  {
   "cell_type": "markdown",
   "metadata": {},
   "source": [
    "**Вывод:**\n",
    "\n",
    "Судя по графику, цетром Санкт-Петербурга будет считаться радиус в семь километров, так как после семь километров наблюдается снижение цены."
   ]
  },
  {
   "cell_type": "markdown",
   "metadata": {},
   "source": [
    "### Выделим сегмент квартир в центре."
   ]
  },
  {
   "cell_type": "code",
   "execution_count": 25,
   "metadata": {},
   "outputs": [
    {
     "data": {
      "text/html": [
       "<div>\n",
       "<style scoped>\n",
       "    .dataframe tbody tr th:only-of-type {\n",
       "        vertical-align: middle;\n",
       "    }\n",
       "\n",
       "    .dataframe tbody tr th {\n",
       "        vertical-align: top;\n",
       "    }\n",
       "\n",
       "    .dataframe thead th {\n",
       "        text-align: right;\n",
       "    }\n",
       "</style>\n",
       "<table border=\"1\" class=\"dataframe\">\n",
       "  <thead>\n",
       "    <tr style=\"text-align: right;\">\n",
       "      <th></th>\n",
       "      <th>total_images</th>\n",
       "      <th>last_price</th>\n",
       "      <th>total_area</th>\n",
       "      <th>first_day_exposition</th>\n",
       "      <th>rooms</th>\n",
       "      <th>ceiling_height</th>\n",
       "      <th>floors_total</th>\n",
       "      <th>living_area</th>\n",
       "      <th>floor</th>\n",
       "      <th>is_apartment</th>\n",
       "      <th>...</th>\n",
       "      <th>ponds_nearest</th>\n",
       "      <th>days_exposition</th>\n",
       "      <th>price_per_square_meter</th>\n",
       "      <th>weekday_exposition</th>\n",
       "      <th>month_exposition</th>\n",
       "      <th>year_exposition</th>\n",
       "      <th>floor_category</th>\n",
       "      <th>useful_area_ratio</th>\n",
       "      <th>kitchen_area_ratio</th>\n",
       "      <th>cityCenters_nearest_km</th>\n",
       "    </tr>\n",
       "  </thead>\n",
       "  <tbody>\n",
       "    <tr>\n",
       "      <td>3</td>\n",
       "      <td>0</td>\n",
       "      <td>64.90</td>\n",
       "      <td>159.00</td>\n",
       "      <td>2015-07-24</td>\n",
       "      <td>3</td>\n",
       "      <td>2.65</td>\n",
       "      <td>14.00</td>\n",
       "      <td>nan</td>\n",
       "      <td>9</td>\n",
       "      <td>False</td>\n",
       "      <td>...</td>\n",
       "      <td>234.00</td>\n",
       "      <td>424</td>\n",
       "      <td>408176</td>\n",
       "      <td>4</td>\n",
       "      <td>7</td>\n",
       "      <td>2015</td>\n",
       "      <td>другой</td>\n",
       "      <td>nan</td>\n",
       "      <td>nan</td>\n",
       "      <td>6</td>\n",
       "    </tr>\n",
       "    <tr>\n",
       "      <td>24</td>\n",
       "      <td>8</td>\n",
       "      <td>6.50</td>\n",
       "      <td>97.20</td>\n",
       "      <td>2015-10-31</td>\n",
       "      <td>2</td>\n",
       "      <td>2.65</td>\n",
       "      <td>3.00</td>\n",
       "      <td>46.50</td>\n",
       "      <td>1</td>\n",
       "      <td>False</td>\n",
       "      <td>...</td>\n",
       "      <td>124.00</td>\n",
       "      <td>265</td>\n",
       "      <td>66872</td>\n",
       "      <td>5</td>\n",
       "      <td>10</td>\n",
       "      <td>2015</td>\n",
       "      <td>первый</td>\n",
       "      <td>0.48</td>\n",
       "      <td>0.20</td>\n",
       "      <td>2</td>\n",
       "    </tr>\n",
       "    <tr>\n",
       "      <td>35</td>\n",
       "      <td>6</td>\n",
       "      <td>15.50</td>\n",
       "      <td>149.00</td>\n",
       "      <td>2017-06-26</td>\n",
       "      <td>5</td>\n",
       "      <td>2.65</td>\n",
       "      <td>5.00</td>\n",
       "      <td>104.00</td>\n",
       "      <td>4</td>\n",
       "      <td>False</td>\n",
       "      <td>...</td>\n",
       "      <td>779.00</td>\n",
       "      <td>644</td>\n",
       "      <td>104026</td>\n",
       "      <td>0</td>\n",
       "      <td>6</td>\n",
       "      <td>2017</td>\n",
       "      <td>другой</td>\n",
       "      <td>0.70</td>\n",
       "      <td>0.11</td>\n",
       "      <td>3</td>\n",
       "    </tr>\n",
       "    <tr>\n",
       "      <td>51</td>\n",
       "      <td>7</td>\n",
       "      <td>45.00</td>\n",
       "      <td>161.00</td>\n",
       "      <td>2017-10-17</td>\n",
       "      <td>3</td>\n",
       "      <td>3.20</td>\n",
       "      <td>8.00</td>\n",
       "      <td>38.00</td>\n",
       "      <td>4</td>\n",
       "      <td>False</td>\n",
       "      <td>...</td>\n",
       "      <td>99.00</td>\n",
       "      <td>541</td>\n",
       "      <td>279503</td>\n",
       "      <td>1</td>\n",
       "      <td>10</td>\n",
       "      <td>2017</td>\n",
       "      <td>другой</td>\n",
       "      <td>0.24</td>\n",
       "      <td>0.31</td>\n",
       "      <td>6</td>\n",
       "    </tr>\n",
       "    <tr>\n",
       "      <td>52</td>\n",
       "      <td>20</td>\n",
       "      <td>11.79</td>\n",
       "      <td>136.00</td>\n",
       "      <td>2017-09-22</td>\n",
       "      <td>6</td>\n",
       "      <td>3.00</td>\n",
       "      <td>2.00</td>\n",
       "      <td>94.00</td>\n",
       "      <td>2</td>\n",
       "      <td>False</td>\n",
       "      <td>...</td>\n",
       "      <td>nan</td>\n",
       "      <td>0</td>\n",
       "      <td>86727</td>\n",
       "      <td>4</td>\n",
       "      <td>9</td>\n",
       "      <td>2017</td>\n",
       "      <td>последний</td>\n",
       "      <td>0.69</td>\n",
       "      <td>0.08</td>\n",
       "      <td>6</td>\n",
       "    </tr>\n",
       "    <tr>\n",
       "      <td>...</td>\n",
       "      <td>...</td>\n",
       "      <td>...</td>\n",
       "      <td>...</td>\n",
       "      <td>...</td>\n",
       "      <td>...</td>\n",
       "      <td>...</td>\n",
       "      <td>...</td>\n",
       "      <td>...</td>\n",
       "      <td>...</td>\n",
       "      <td>...</td>\n",
       "      <td>...</td>\n",
       "      <td>...</td>\n",
       "      <td>...</td>\n",
       "      <td>...</td>\n",
       "      <td>...</td>\n",
       "      <td>...</td>\n",
       "      <td>...</td>\n",
       "      <td>...</td>\n",
       "      <td>...</td>\n",
       "      <td>...</td>\n",
       "      <td>...</td>\n",
       "    </tr>\n",
       "    <tr>\n",
       "      <td>23665</td>\n",
       "      <td>11</td>\n",
       "      <td>4.25</td>\n",
       "      <td>47.00</td>\n",
       "      <td>2016-05-20</td>\n",
       "      <td>1</td>\n",
       "      <td>2.65</td>\n",
       "      <td>6.00</td>\n",
       "      <td>18.20</td>\n",
       "      <td>1</td>\n",
       "      <td>False</td>\n",
       "      <td>...</td>\n",
       "      <td>519.00</td>\n",
       "      <td>131</td>\n",
       "      <td>90425</td>\n",
       "      <td>4</td>\n",
       "      <td>5</td>\n",
       "      <td>2016</td>\n",
       "      <td>первый</td>\n",
       "      <td>0.39</td>\n",
       "      <td>0.31</td>\n",
       "      <td>4</td>\n",
       "    </tr>\n",
       "    <tr>\n",
       "      <td>23681</td>\n",
       "      <td>13</td>\n",
       "      <td>5.25</td>\n",
       "      <td>43.00</td>\n",
       "      <td>2018-05-11</td>\n",
       "      <td>2</td>\n",
       "      <td>2.50</td>\n",
       "      <td>5.00</td>\n",
       "      <td>29.00</td>\n",
       "      <td>2</td>\n",
       "      <td>False</td>\n",
       "      <td>...</td>\n",
       "      <td>660.00</td>\n",
       "      <td>80</td>\n",
       "      <td>122093</td>\n",
       "      <td>4</td>\n",
       "      <td>5</td>\n",
       "      <td>2018</td>\n",
       "      <td>другой</td>\n",
       "      <td>0.67</td>\n",
       "      <td>0.14</td>\n",
       "      <td>7</td>\n",
       "    </tr>\n",
       "    <tr>\n",
       "      <td>23690</td>\n",
       "      <td>3</td>\n",
       "      <td>5.50</td>\n",
       "      <td>52.00</td>\n",
       "      <td>2018-07-19</td>\n",
       "      <td>2</td>\n",
       "      <td>2.65</td>\n",
       "      <td>5.00</td>\n",
       "      <td>31.00</td>\n",
       "      <td>2</td>\n",
       "      <td>False</td>\n",
       "      <td>...</td>\n",
       "      <td>nan</td>\n",
       "      <td>15</td>\n",
       "      <td>105769</td>\n",
       "      <td>3</td>\n",
       "      <td>7</td>\n",
       "      <td>2018</td>\n",
       "      <td>другой</td>\n",
       "      <td>0.60</td>\n",
       "      <td>0.12</td>\n",
       "      <td>6</td>\n",
       "    </tr>\n",
       "    <tr>\n",
       "      <td>23691</td>\n",
       "      <td>11</td>\n",
       "      <td>9.47</td>\n",
       "      <td>72.90</td>\n",
       "      <td>2016-10-13</td>\n",
       "      <td>2</td>\n",
       "      <td>2.75</td>\n",
       "      <td>25.00</td>\n",
       "      <td>40.30</td>\n",
       "      <td>7</td>\n",
       "      <td>False</td>\n",
       "      <td>...</td>\n",
       "      <td>806.00</td>\n",
       "      <td>519</td>\n",
       "      <td>129903</td>\n",
       "      <td>3</td>\n",
       "      <td>10</td>\n",
       "      <td>2016</td>\n",
       "      <td>другой</td>\n",
       "      <td>0.55</td>\n",
       "      <td>0.15</td>\n",
       "      <td>4</td>\n",
       "    </tr>\n",
       "    <tr>\n",
       "      <td>23694</td>\n",
       "      <td>9</td>\n",
       "      <td>9.70</td>\n",
       "      <td>133.81</td>\n",
       "      <td>2017-03-21</td>\n",
       "      <td>3</td>\n",
       "      <td>3.70</td>\n",
       "      <td>5.00</td>\n",
       "      <td>73.30</td>\n",
       "      <td>3</td>\n",
       "      <td>False</td>\n",
       "      <td>...</td>\n",
       "      <td>381.00</td>\n",
       "      <td>0</td>\n",
       "      <td>72490</td>\n",
       "      <td>1</td>\n",
       "      <td>3</td>\n",
       "      <td>2017</td>\n",
       "      <td>другой</td>\n",
       "      <td>0.55</td>\n",
       "      <td>0.10</td>\n",
       "      <td>4</td>\n",
       "    </tr>\n",
       "  </tbody>\n",
       "</table>\n",
       "<p>3712 rows × 30 columns</p>\n",
       "</div>"
      ],
      "text/plain": [
       "       total_images  last_price  total_area first_day_exposition  rooms  \\\n",
       "3                 0       64.90      159.00           2015-07-24      3   \n",
       "24                8        6.50       97.20           2015-10-31      2   \n",
       "35                6       15.50      149.00           2017-06-26      5   \n",
       "51                7       45.00      161.00           2017-10-17      3   \n",
       "52               20       11.79      136.00           2017-09-22      6   \n",
       "...             ...         ...         ...                  ...    ...   \n",
       "23665            11        4.25       47.00           2016-05-20      1   \n",
       "23681            13        5.25       43.00           2018-05-11      2   \n",
       "23690             3        5.50       52.00           2018-07-19      2   \n",
       "23691            11        9.47       72.90           2016-10-13      2   \n",
       "23694             9        9.70      133.81           2017-03-21      3   \n",
       "\n",
       "       ceiling_height  floors_total  living_area  floor  is_apartment  ...  \\\n",
       "3                2.65         14.00          nan      9         False  ...   \n",
       "24               2.65          3.00        46.50      1         False  ...   \n",
       "35               2.65          5.00       104.00      4         False  ...   \n",
       "51               3.20          8.00        38.00      4         False  ...   \n",
       "52               3.00          2.00        94.00      2         False  ...   \n",
       "...               ...           ...          ...    ...           ...  ...   \n",
       "23665            2.65          6.00        18.20      1         False  ...   \n",
       "23681            2.50          5.00        29.00      2         False  ...   \n",
       "23690            2.65          5.00        31.00      2         False  ...   \n",
       "23691            2.75         25.00        40.30      7         False  ...   \n",
       "23694            3.70          5.00        73.30      3         False  ...   \n",
       "\n",
       "       ponds_nearest  days_exposition  price_per_square_meter  \\\n",
       "3             234.00              424                  408176   \n",
       "24            124.00              265                   66872   \n",
       "35            779.00              644                  104026   \n",
       "51             99.00              541                  279503   \n",
       "52               nan                0                   86727   \n",
       "...              ...              ...                     ...   \n",
       "23665         519.00              131                   90425   \n",
       "23681         660.00               80                  122093   \n",
       "23690            nan               15                  105769   \n",
       "23691         806.00              519                  129903   \n",
       "23694         381.00                0                   72490   \n",
       "\n",
       "       weekday_exposition month_exposition  year_exposition  floor_category  \\\n",
       "3                       4                7             2015          другой   \n",
       "24                      5               10             2015          первый   \n",
       "35                      0                6             2017          другой   \n",
       "51                      1               10             2017          другой   \n",
       "52                      4                9             2017       последний   \n",
       "...                   ...              ...              ...             ...   \n",
       "23665                   4                5             2016          первый   \n",
       "23681                   4                5             2018          другой   \n",
       "23690                   3                7             2018          другой   \n",
       "23691                   3               10             2016          другой   \n",
       "23694                   1                3             2017          другой   \n",
       "\n",
       "       useful_area_ratio  kitchen_area_ratio  cityCenters_nearest_km  \n",
       "3                    nan                 nan                       6  \n",
       "24                  0.48                0.20                       2  \n",
       "35                  0.70                0.11                       3  \n",
       "51                  0.24                0.31                       6  \n",
       "52                  0.69                0.08                       6  \n",
       "...                  ...                 ...                     ...  \n",
       "23665               0.39                0.31                       4  \n",
       "23681               0.67                0.14                       7  \n",
       "23690               0.60                0.12                       6  \n",
       "23691               0.55                0.15                       4  \n",
       "23694               0.55                0.10                       4  \n",
       "\n",
       "[3712 rows x 30 columns]"
      ]
     },
     "metadata": {},
     "output_type": "display_data"
    }
   ],
   "source": [
    "#выделим квартиры в центре, в рудиусе трех килиметров \n",
    "center_spb_df = df.query('cityCenters_nearest_km <= 7 and locality_name == \"Санкт-Петербург\"')\n",
    "display(center_spb_df)"
   ]
  },
  {
   "cell_type": "markdown",
   "metadata": {},
   "source": [
    "**Зависимоть стоимость квадратного метра от количества комнат**"
   ]
  },
  {
   "cell_type": "code",
   "execution_count": 26,
   "metadata": {},
   "outputs": [
    {
     "data": {
      "text/plain": [
       "0.0062466888017703335"
      ]
     },
     "execution_count": 26,
     "metadata": {},
     "output_type": "execute_result"
    },
    {
     "data": {
      "image/png": "[encoded data removed]",
      "text/plain": [
       "<Figure size 432x288 with 1 Axes>"
      ]
     },
     "metadata": {
      "needs_background": "light"
     },
     "output_type": "display_data"
    }
   ],
   "source": [
    "center_spb_rooms = center_spb_df.pivot_table(index = 'rooms', values = 'price_per_square_meter',\n",
    "                                            aggfunc = ['mean', 'count', 'median'])\n",
    "center_spb_rooms.columns = ['mean', 'count', 'median']\n",
    "center_spb_rooms.query('count > 50').plot(y = 'median')\n",
    "\n",
    "center_spb_rooms.query('count > 50').sort_values('median', ascending = False)\n",
    "\n",
    "center_spb_df['rooms'].corr(center_spb_df['price_per_square_meter'])                       "
   ]
  },
  {
   "cell_type": "markdown",
   "metadata": {},
   "source": [
    "**Вывод:**\n",
    "\n",
    "Кореляция очень маленькая, поэтому будем смотреть по графику. В центре Санкт-Петербурга чем меньше комнат тем дороже стоимоть квадратного метра, в отличии от выборки, там стоимость уменшается в зависимости от близости количества комнат к трём."
   ]
  },
  {
   "cell_type": "markdown",
   "metadata": {},
   "source": [
    "**Зависимость стоимости квадратного метра от этажа**"
   ]
  },
  {
   "cell_type": "code",
   "execution_count": 27,
   "metadata": {},
   "outputs": [
    {
     "data": {
      "text/html": [
       "<div>\n",
       "<style scoped>\n",
       "    .dataframe tbody tr th:only-of-type {\n",
       "        vertical-align: middle;\n",
       "    }\n",
       "\n",
       "    .dataframe tbody tr th {\n",
       "        vertical-align: top;\n",
       "    }\n",
       "\n",
       "    .dataframe thead th {\n",
       "        text-align: right;\n",
       "    }\n",
       "</style>\n",
       "<table border=\"1\" class=\"dataframe\">\n",
       "  <thead>\n",
       "    <tr style=\"text-align: right;\">\n",
       "      <th></th>\n",
       "      <th>mean</th>\n",
       "      <th>count</th>\n",
       "      <th>median</th>\n",
       "    </tr>\n",
       "    <tr>\n",
       "      <th>floor_category</th>\n",
       "      <th></th>\n",
       "      <th></th>\n",
       "      <th></th>\n",
       "    </tr>\n",
       "  </thead>\n",
       "  <tbody>\n",
       "    <tr>\n",
       "      <td>первый</td>\n",
       "      <td>122,401.98</td>\n",
       "      <td>407</td>\n",
       "      <td>108,653.00</td>\n",
       "    </tr>\n",
       "    <tr>\n",
       "      <td>последний</td>\n",
       "      <td>144,362.10</td>\n",
       "      <td>652</td>\n",
       "      <td>116,872.50</td>\n",
       "    </tr>\n",
       "  </tbody>\n",
       "</table>\n",
       "</div>"
      ],
      "text/plain": [
       "                     mean  count     median\n",
       "floor_category                             \n",
       "первый         122,401.98    407 108,653.00\n",
       "последний      144,362.10    652 116,872.50"
      ]
     },
     "execution_count": 27,
     "metadata": {},
     "output_type": "execute_result"
    },
    {
     "data": {
      "image/png": "[encoded data removed]",
      "text/plain": [
       "<Figure size 432x288 with 1 Axes>"
      ]
     },
     "metadata": {
      "needs_background": "light"
     },
     "output_type": "display_data"
    }
   ],
   "source": [
    "center_spb_floor_category = (center_spb_df.query('floor_category != \"другой\"')\n",
    "                             .pivot_table(index = 'floor_category', \n",
    "                                          values = 'price_per_square_meter',\n",
    "                                         aggfunc = ['mean', 'count', 'median']))\n",
    "center_spb_floor_category.columns = ['mean', 'count', 'median']\n",
    "center_spb_floor_category.plot(y = 'median')\n",
    "center_spb_floor_category"
   ]
  },
  {
   "cell_type": "markdown",
   "metadata": {},
   "source": [
    "**Вывод:**\n",
    "\n",
    "Квартиры на первом этаже в стреднем дешевле чем на последнем, так же как в выборке."
   ]
  },
  {
   "cell_type": "markdown",
   "metadata": {},
   "source": [
    "**Зависимость стоимости квадратного метра от удалённости от цетра**"
   ]
  },
  {
   "cell_type": "code",
   "execution_count": 28,
   "metadata": {},
   "outputs": [
    {
     "data": {
      "text/plain": [
       "-0.030938618719116587"
      ]
     },
     "execution_count": 28,
     "metadata": {},
     "output_type": "execute_result"
    },
    {
     "data": {
      "image/png": "[encoded data removed]",
      "text/plain": [
       "<Figure size 432x288 with 1 Axes>"
      ]
     },
     "metadata": {
      "needs_background": "light"
     },
     "output_type": "display_data"
    }
   ],
   "source": [
    "center_spb_df.plot(x = 'cityCenters_nearest', y = 'price_per_square_meter', kind = 'scatter',\n",
    "                  alpha = 0.3)\n",
    "center_spb_df['cityCenters_nearest'].corr(center_spb_df['price_per_square_meter'])"
   ]
  },
  {
   "cell_type": "markdown",
   "metadata": {},
   "source": [
    "**Вывод:**\n",
    "\n",
    "Чёткой зависимости нет, так как у нас уже есть выборка по ценру города."
   ]
  },
  {
   "cell_type": "markdown",
   "metadata": {},
   "source": [
    "**Зависимость стоимости квадратного метра от дня недели размёщенного обьявления**"
   ]
  },
  {
   "cell_type": "code",
   "execution_count": 29,
   "metadata": {},
   "outputs": [
    {
     "data": {
      "text/html": [
       "<div>\n",
       "<style scoped>\n",
       "    .dataframe tbody tr th:only-of-type {\n",
       "        vertical-align: middle;\n",
       "    }\n",
       "\n",
       "    .dataframe tbody tr th {\n",
       "        vertical-align: top;\n",
       "    }\n",
       "\n",
       "    .dataframe thead th {\n",
       "        text-align: right;\n",
       "    }\n",
       "</style>\n",
       "<table border=\"1\" class=\"dataframe\">\n",
       "  <thead>\n",
       "    <tr style=\"text-align: right;\">\n",
       "      <th></th>\n",
       "      <th>mean</th>\n",
       "      <th>count</th>\n",
       "      <th>median</th>\n",
       "    </tr>\n",
       "    <tr>\n",
       "      <th>weekday_exposition</th>\n",
       "      <th></th>\n",
       "      <th></th>\n",
       "      <th></th>\n",
       "    </tr>\n",
       "  </thead>\n",
       "  <tbody>\n",
       "    <tr>\n",
       "      <td>6</td>\n",
       "      <td>145,678.74</td>\n",
       "      <td>210</td>\n",
       "      <td>129,122.50</td>\n",
       "    </tr>\n",
       "    <tr>\n",
       "      <td>5</td>\n",
       "      <td>155,755.43</td>\n",
       "      <td>282</td>\n",
       "      <td>128,567.00</td>\n",
       "    </tr>\n",
       "    <tr>\n",
       "      <td>0</td>\n",
       "      <td>144,090.72</td>\n",
       "      <td>560</td>\n",
       "      <td>125,816.00</td>\n",
       "    </tr>\n",
       "    <tr>\n",
       "      <td>4</td>\n",
       "      <td>142,727.86</td>\n",
       "      <td>629</td>\n",
       "      <td>124,705.00</td>\n",
       "    </tr>\n",
       "    <tr>\n",
       "      <td>2</td>\n",
       "      <td>142,296.20</td>\n",
       "      <td>637</td>\n",
       "      <td>124,590.00</td>\n",
       "    </tr>\n",
       "    <tr>\n",
       "      <td>3</td>\n",
       "      <td>143,847.34</td>\n",
       "      <td>763</td>\n",
       "      <td>121,328.00</td>\n",
       "    </tr>\n",
       "    <tr>\n",
       "      <td>1</td>\n",
       "      <td>143,658.99</td>\n",
       "      <td>631</td>\n",
       "      <td>120,930.00</td>\n",
       "    </tr>\n",
       "  </tbody>\n",
       "</table>\n",
       "</div>"
      ],
      "text/plain": [
       "                         mean  count     median\n",
       "weekday_exposition                             \n",
       "6                  145,678.74    210 129,122.50\n",
       "5                  155,755.43    282 128,567.00\n",
       "0                  144,090.72    560 125,816.00\n",
       "4                  142,727.86    629 124,705.00\n",
       "2                  142,296.20    637 124,590.00\n",
       "3                  143,847.34    763 121,328.00\n",
       "1                  143,658.99    631 120,930.00"
      ]
     },
     "execution_count": 29,
     "metadata": {},
     "output_type": "execute_result"
    },
    {
     "data": {
      "image/png": "[encoded data removed]",
      "text/plain": [
       "<Figure size 432x288 with 1 Axes>"
      ]
     },
     "metadata": {
      "needs_background": "light"
     },
     "output_type": "display_data"
    }
   ],
   "source": [
    "center_spb_weekday_exposition = center_spb_df.pivot_table(index = 'weekday_exposition',\n",
    "                                                         values = 'price_per_square_meter',\n",
    "                                                         aggfunc = ['mean', 'count', 'median'])\n",
    "center_spb_weekday_exposition.columns = ['mean', 'count', 'median']\n",
    "center_spb_weekday_exposition.plot(y = 'median')\n",
    "\n",
    "center_spb_weekday_exposition.sort_values('median', ascending = False)"
   ]
  },
  {
   "cell_type": "markdown",
   "metadata": {},
   "source": [
    "**Вывод:**\n",
    "\n",
    "Минимальные-средние во вторник и в пятницу, а самые высокие в субботу и в воскресенье. Тем самым отличается от всей выборки."
   ]
  },
  {
   "cell_type": "markdown",
   "metadata": {},
   "source": [
    "**Зависимость стоимости квадратного метра от месяца размещения обьявления**"
   ]
  },
  {
   "cell_type": "code",
   "execution_count": 30,
   "metadata": {},
   "outputs": [
    {
     "data": {
      "text/html": [
       "<div>\n",
       "<style scoped>\n",
       "    .dataframe tbody tr th:only-of-type {\n",
       "        vertical-align: middle;\n",
       "    }\n",
       "\n",
       "    .dataframe tbody tr th {\n",
       "        vertical-align: top;\n",
       "    }\n",
       "\n",
       "    .dataframe thead th {\n",
       "        text-align: right;\n",
       "    }\n",
       "</style>\n",
       "<table border=\"1\" class=\"dataframe\">\n",
       "  <thead>\n",
       "    <tr style=\"text-align: right;\">\n",
       "      <th></th>\n",
       "      <th>mean</th>\n",
       "      <th>count</th>\n",
       "      <th>median</th>\n",
       "    </tr>\n",
       "    <tr>\n",
       "      <th>weekday_exposition</th>\n",
       "      <th></th>\n",
       "      <th></th>\n",
       "      <th></th>\n",
       "    </tr>\n",
       "  </thead>\n",
       "  <tbody>\n",
       "    <tr>\n",
       "      <td>6</td>\n",
       "      <td>145,678.74</td>\n",
       "      <td>210</td>\n",
       "      <td>129,122.50</td>\n",
       "    </tr>\n",
       "    <tr>\n",
       "      <td>5</td>\n",
       "      <td>155,755.43</td>\n",
       "      <td>282</td>\n",
       "      <td>128,567.00</td>\n",
       "    </tr>\n",
       "    <tr>\n",
       "      <td>0</td>\n",
       "      <td>144,090.72</td>\n",
       "      <td>560</td>\n",
       "      <td>125,816.00</td>\n",
       "    </tr>\n",
       "    <tr>\n",
       "      <td>4</td>\n",
       "      <td>142,727.86</td>\n",
       "      <td>629</td>\n",
       "      <td>124,705.00</td>\n",
       "    </tr>\n",
       "    <tr>\n",
       "      <td>2</td>\n",
       "      <td>142,296.20</td>\n",
       "      <td>637</td>\n",
       "      <td>124,590.00</td>\n",
       "    </tr>\n",
       "    <tr>\n",
       "      <td>3</td>\n",
       "      <td>143,847.34</td>\n",
       "      <td>763</td>\n",
       "      <td>121,328.00</td>\n",
       "    </tr>\n",
       "    <tr>\n",
       "      <td>1</td>\n",
       "      <td>143,658.99</td>\n",
       "      <td>631</td>\n",
       "      <td>120,930.00</td>\n",
       "    </tr>\n",
       "  </tbody>\n",
       "</table>\n",
       "</div>"
      ],
      "text/plain": [
       "                         mean  count     median\n",
       "weekday_exposition                             \n",
       "6                  145,678.74    210 129,122.50\n",
       "5                  155,755.43    282 128,567.00\n",
       "0                  144,090.72    560 125,816.00\n",
       "4                  142,727.86    629 124,705.00\n",
       "2                  142,296.20    637 124,590.00\n",
       "3                  143,847.34    763 121,328.00\n",
       "1                  143,658.99    631 120,930.00"
      ]
     },
     "execution_count": 30,
     "metadata": {},
     "output_type": "execute_result"
    },
    {
     "data": {
      "image/png": "[encoded data removed]",
      "text/plain": [
       "<Figure size 432x288 with 1 Axes>"
      ]
     },
     "metadata": {
      "needs_background": "light"
     },
     "output_type": "display_data"
    }
   ],
   "source": [
    "center_spb_weekday_exposition = center_spb_df.pivot_table(index = 'weekday_exposition',\n",
    "                                                          values = 'price_per_square_meter', \n",
    "                                                          aggfunc = ['mean', 'count', 'median'])\n",
    "center_spb_weekday_exposition.columns = ['mean', 'count', 'median']\n",
    "center_spb_weekday_exposition.plot(y = 'median')\n",
    "\n",
    "center_spb_weekday_exposition.sort_values('median', ascending = False)"
   ]
  },
  {
   "cell_type": "markdown",
   "metadata": {},
   "source": [
    "**Вывод:**\n",
    "\n",
    "Самая высокая стоимость квадратного метра в апреле и в августе, а самая низкая в мае и июне, чем схожа срезультатами общей выборки."
   ]
  },
  {
   "cell_type": "markdown",
   "metadata": {},
   "source": [
    "**Зависимость стоимости квадратного метра от года размещения обьявления**"
   ]
  },
  {
   "cell_type": "code",
   "execution_count": 31,
   "metadata": {},
   "outputs": [
    {
     "data": {
      "text/html": [
       "<div>\n",
       "<style scoped>\n",
       "    .dataframe tbody tr th:only-of-type {\n",
       "        vertical-align: middle;\n",
       "    }\n",
       "\n",
       "    .dataframe tbody tr th {\n",
       "        vertical-align: top;\n",
       "    }\n",
       "\n",
       "    .dataframe thead th {\n",
       "        text-align: right;\n",
       "    }\n",
       "</style>\n",
       "<table border=\"1\" class=\"dataframe\">\n",
       "  <thead>\n",
       "    <tr style=\"text-align: right;\">\n",
       "      <th></th>\n",
       "      <th>mean</th>\n",
       "      <th>count</th>\n",
       "      <th>median</th>\n",
       "    </tr>\n",
       "    <tr>\n",
       "      <th>year_exposition</th>\n",
       "      <th></th>\n",
       "      <th></th>\n",
       "      <th></th>\n",
       "    </tr>\n",
       "  </thead>\n",
       "  <tbody>\n",
       "    <tr>\n",
       "      <td>2019</td>\n",
       "      <td>159,568.70</td>\n",
       "      <td>401</td>\n",
       "      <td>135614</td>\n",
       "    </tr>\n",
       "    <tr>\n",
       "      <td>2018</td>\n",
       "      <td>139,974.58</td>\n",
       "      <td>1103</td>\n",
       "      <td>124742</td>\n",
       "    </tr>\n",
       "    <tr>\n",
       "      <td>2017</td>\n",
       "      <td>142,443.85</td>\n",
       "      <td>1331</td>\n",
       "      <td>121698</td>\n",
       "    </tr>\n",
       "    <tr>\n",
       "      <td>2015</td>\n",
       "      <td>144,722.88</td>\n",
       "      <td>328</td>\n",
       "      <td>119102</td>\n",
       "    </tr>\n",
       "    <tr>\n",
       "      <td>2016</td>\n",
       "      <td>144,263.77</td>\n",
       "      <td>522</td>\n",
       "      <td>119047</td>\n",
       "    </tr>\n",
       "  </tbody>\n",
       "</table>\n",
       "</div>"
      ],
      "text/plain": [
       "                      mean  count  median\n",
       "year_exposition                          \n",
       "2019            159,568.70    401  135614\n",
       "2018            139,974.58   1103  124742\n",
       "2017            142,443.85   1331  121698\n",
       "2015            144,722.88    328  119102\n",
       "2016            144,263.77    522  119047"
      ]
     },
     "execution_count": 31,
     "metadata": {},
     "output_type": "execute_result"
    },
    {
     "data": {
      "image/png": "[encoded data removed]",
      "text/plain": [
       "<Figure size 432x288 with 1 Axes>"
      ]
     },
     "metadata": {
      "needs_background": "light"
     },
     "output_type": "display_data"
    }
   ],
   "source": [
    "center_spb_year_exposition = center_spb_df.pivot_table(index = 'year_exposition',\n",
    "                                                      values = 'price_per_square_meter',\n",
    "                                                      aggfunc = ['mean', 'count', 'median'])\n",
    "center_spb_year_exposition.columns = ['mean', 'count', 'median']\n",
    "center_spb_year_exposition.query('count > 50').plot(y = 'median')\n",
    "\n",
    "center_spb_year_exposition.query('count > 50').sort_values('median', ascending = False)"
   ]
  },
  {
   "cell_type": "markdown",
   "metadata": {},
   "source": [
    "**Вывод:**\n",
    "\n",
    "Видим, что стоимость за квадратный метр в цетре Санкт-Петербурга постепенно растёт, чем отличается от общей выборки, где стоимость в 2016-2017 годах падала."
   ]
  },
  {
   "cell_type": "markdown",
   "metadata": {},
   "source": [
    "## Общий вывод"
   ]
  },
  {
   "cell_type": "markdown",
   "metadata": {},
   "source": [
    "Исследуя полученный архив данных, при помощи диаграммы размаха, было выявлено, что нормальные сроки продаж квартир варьируются от 1 до 600 дней. Так же было выявленно, что на стоимость квадратного метра больше всего влияют:\n",
    "   * количество комнат,\n",
    "   * близость к центру,\n",
    "   * этаж квартиры.\n",
    "   \n",
    "Не значительно на стоимость квадратного метра влияют:\n",
    "   * день размещешия объявления,\n",
    "   * месяц размещения объвления,\n",
    "   * год размещения объвления,\n",
    "   * общая площадь квартиры.\n",
    "   \n",
    "В 2016-2017 году стоимость квартир была ниже на 10-20%, но в центре Санкт-Петербурга данной зависимости обнаруженно не было. Там было выявленно посотянное повышение цен с 2015 года по сегоднещний день.\n",
    "Был выявлен центр города, в радиусе семи километров, по снижению цен в зависимости от его удаления.\n",
    "\n"
   ]
  },
  {
   "cell_type": "markdown",
   "metadata": {},
   "source": [
    "## Чек-лист готовности проекта\n",
    "\n",
    "Поставьте 'x' в выполненных пунктах. Далее нажмите Shift+Enter."
   ]
  },
  {
   "cell_type": "markdown",
   "metadata": {},
   "source": [
    "- [x]  открыт файл\n",
    "- [x]  файлы изучены (выведены первые строки, метод info())\n",
    "- [x]  определены пропущенные значения\n",
    "- [x]  заполнены пропущенные значения\n",
    "- [x]  есть пояснение, какие пропущенные значения обнаружены\n",
    "- [x]  изменены типы данных\n",
    "- [x]  есть пояснение, в каких столбцах изменены типы и почему\n",
    "- [x]  посчитано и добавлено в таблицу: цена квадратного метра\n",
    "- [x]  посчитано и добавлено в таблицу: день недели, месяц и год публикации объявления\n",
    "- [x]  посчитано и добавлено в таблицу: этаж квартиры; варианты — первый, последний, другой\n",
    "- [x]  посчитано и добавлено в таблицу: соотношение жилой и общей площади, а также отношение площади кухни к общей\n",
    "- [x]  изучены следующие параметры: площадь, цена, число комнат, высота потолков\n",
    "- [x]  построены гистограммы для каждого параметра\n",
    "- [x]  выполнено задание: \"Изучите время продажи квартиры. Постройте гистограмму. Посчитайте среднее и медиану. Опишите, сколько обычно занимает продажа. Когда можно считать, что продажи прошли очень быстро, а когда необычно долго?\"\n",
    "- [x]  выполнено задание: \"Уберите редкие и выбивающиеся значения. Опишите, какие особенности обнаружили.\"\n",
    "- [x]  выполнено задание: \"Какие факторы больше всего влияют на стоимость квартиры? Изучите, зависит ли цена от квадратного метра, числа комнат, этажа (первого или последнего), удалённости от центра. Также изучите зависимость от даты размещения: дня недели, месяца и года. \"Выберите 10 населённых пунктов с наибольшим числом объявлений. Посчитайте среднюю цену квадратного метра в этих населённых пунктах. Выделите населённые пункты с самой высокой и низкой стоимостью жилья. Эти данные можно найти по имени в столбце '*locality_name'*. \"\n",
    "- [x]  выполнено задание: \"Изучите предложения квартир: для каждой квартиры есть информация о расстоянии до центра. Выделите квартиры в Санкт-Петербурге (*'locality_name'*). Ваша задача — выяснить, какая область входит в центр. Создайте столбец с расстоянием до центра в километрах: округлите до целых значений. После этого посчитайте среднюю цену для каждого километра. Постройте график: он должен показывать, как цена зависит от удалённости от центра. Определите границу, где график сильно меняется — это и будет центральная зона. \"\n",
    "- [x]  выполнено задание: \"Выделите сегмент квартир в центре. Проанализируйте эту территорию и изучите следующие параметры: площадь, цена, число комнат, высота потолков. Также выделите факторы, которые влияют на стоимость квартиры (число комнат, этаж, удалённость от центра, дата размещения объявления). Сделайте выводы. Отличаются ли они от общих выводов по всему городу?\"\n",
    "- [x]  в каждом этапе есть выводы\n",
    "- [x]  есть общий вывод"
   ]
  }
 ],
 "metadata": {
  "ExecuteTimeLog": [
   {
    "duration": 1431,
    "start_time": "2021-11-20T15:40:58.389Z"
   },
   {
    "duration": 315,
    "start_time": "2021-11-20T15:42:28.548Z"
   },
   {
    "duration": 64,
    "start_time": "2021-11-20T15:44:23.986Z"
   },
   {
    "duration": 257,
    "start_time": "2021-11-20T15:48:24.943Z"
   },
   {
    "duration": 80,
    "start_time": "2021-11-20T15:48:44.798Z"
   },
   {
    "duration": 4,
    "start_time": "2021-11-20T16:07:11.835Z"
   },
   {
    "duration": 4,
    "start_time": "2021-11-20T16:13:52.493Z"
   },
   {
    "duration": 42,
    "start_time": "2021-11-20T16:14:17.131Z"
   },
   {
    "duration": 4,
    "start_time": "2021-11-20T16:15:40.905Z"
   },
   {
    "duration": 12,
    "start_time": "2021-11-20T16:16:44.710Z"
   },
   {
    "duration": 231,
    "start_time": "2021-11-20T16:29:49.343Z"
   },
   {
    "duration": 20,
    "start_time": "2021-11-20T16:30:25.894Z"
   },
   {
    "duration": 24,
    "start_time": "2021-11-20T16:31:35.988Z"
   },
   {
    "duration": 18,
    "start_time": "2021-11-20T16:33:17.720Z"
   },
   {
    "duration": 304,
    "start_time": "2021-11-20T16:35:22.931Z"
   },
   {
    "duration": 414,
    "start_time": "2021-11-21T11:07:11.253Z"
   },
   {
    "duration": 1121,
    "start_time": "2021-11-21T11:14:04.664Z"
   },
   {
    "duration": 136,
    "start_time": "2021-11-21T11:14:21.762Z"
   },
   {
    "duration": 411,
    "start_time": "2021-11-21T11:14:27.210Z"
   },
   {
    "duration": 842,
    "start_time": "2021-11-21T11:14:39.137Z"
   },
   {
    "duration": 74,
    "start_time": "2021-11-21T11:14:39.982Z"
   },
   {
    "duration": 5,
    "start_time": "2021-11-21T11:14:40.060Z"
   },
   {
    "duration": 15,
    "start_time": "2021-11-21T11:14:40.083Z"
   },
   {
    "duration": 32,
    "start_time": "2021-11-21T11:14:40.101Z"
   },
   {
    "duration": 2304,
    "start_time": "2021-11-21T11:14:40.135Z"
   },
   {
    "duration": 30,
    "start_time": "2021-11-21T11:20:07.232Z"
   },
   {
    "duration": 3760,
    "start_time": "2021-11-21T11:22:31.541Z"
   },
   {
    "duration": 12,
    "start_time": "2021-11-21T11:51:29.886Z"
   },
   {
    "duration": 9,
    "start_time": "2021-11-21T11:52:10.242Z"
   },
   {
    "duration": 8,
    "start_time": "2021-11-21T11:53:59.902Z"
   },
   {
    "duration": 13,
    "start_time": "2021-11-21T11:56:11.951Z"
   },
   {
    "duration": 10,
    "start_time": "2021-11-21T11:57:16.062Z"
   },
   {
    "duration": 11,
    "start_time": "2021-11-21T11:57:19.629Z"
   },
   {
    "duration": 8,
    "start_time": "2021-11-21T11:57:20.749Z"
   },
   {
    "duration": 847,
    "start_time": "2021-11-21T12:05:17.177Z"
   },
   {
    "duration": 939,
    "start_time": "2021-11-21T12:20:44.210Z"
   },
   {
    "duration": 1876,
    "start_time": "2021-11-21T12:23:10.432Z"
   },
   {
    "duration": 1183,
    "start_time": "2021-11-21T12:23:21.877Z"
   },
   {
    "duration": 1270,
    "start_time": "2021-11-21T12:25:05.956Z"
   },
   {
    "duration": 1527,
    "start_time": "2021-11-21T12:25:55.299Z"
   },
   {
    "duration": 2006,
    "start_time": "2021-11-21T12:27:11.952Z"
   },
   {
    "duration": 2249,
    "start_time": "2021-11-21T12:28:46.482Z"
   },
   {
    "duration": 1916,
    "start_time": "2021-11-21T12:29:03.749Z"
   },
   {
    "duration": 2067,
    "start_time": "2021-11-21T12:31:08.536Z"
   },
   {
    "duration": 11,
    "start_time": "2021-11-21T12:31:40.949Z"
   },
   {
    "duration": 2145,
    "start_time": "2021-11-21T12:32:18.500Z"
   },
   {
    "duration": 11,
    "start_time": "2021-11-21T12:32:28.460Z"
   },
   {
    "duration": 10,
    "start_time": "2021-11-21T12:33:47.520Z"
   },
   {
    "duration": 906,
    "start_time": "2021-11-21T12:34:04.848Z"
   },
   {
    "duration": 83,
    "start_time": "2021-11-21T12:34:05.757Z"
   },
   {
    "duration": 6,
    "start_time": "2021-11-21T12:34:05.843Z"
   },
   {
    "duration": 37,
    "start_time": "2021-11-21T12:34:05.852Z"
   },
   {
    "duration": 61,
    "start_time": "2021-11-21T12:34:05.891Z"
   },
   {
    "duration": 2388,
    "start_time": "2021-11-21T12:34:05.955Z"
   },
   {
    "duration": 18,
    "start_time": "2021-11-21T12:34:08.347Z"
   },
   {
    "duration": 18,
    "start_time": "2021-11-21T12:34:08.369Z"
   },
   {
    "duration": 9,
    "start_time": "2021-11-21T12:34:08.390Z"
   },
   {
    "duration": 8,
    "start_time": "2021-11-21T12:34:08.402Z"
   },
   {
    "duration": 970,
    "start_time": "2021-11-21T12:34:08.413Z"
   },
   {
    "duration": 7,
    "start_time": "2021-11-21T12:34:09.386Z"
   },
   {
    "duration": 2289,
    "start_time": "2021-11-21T12:34:09.395Z"
   },
   {
    "duration": 7,
    "start_time": "2021-11-21T12:50:40.885Z"
   },
   {
    "duration": 1281,
    "start_time": "2021-11-21T12:56:05.740Z"
   },
   {
    "duration": 259,
    "start_time": "2021-11-21T12:56:23.788Z"
   },
   {
    "duration": 254,
    "start_time": "2021-11-21T12:56:41.873Z"
   },
   {
    "duration": 240,
    "start_time": "2021-11-21T12:57:28.009Z"
   },
   {
    "duration": 57,
    "start_time": "2021-11-21T12:59:45.613Z"
   },
   {
    "duration": 1304,
    "start_time": "2021-11-21T13:03:49.423Z"
   },
   {
    "duration": 822,
    "start_time": "2021-11-22T12:03:47.517Z"
   },
   {
    "duration": 89,
    "start_time": "2021-11-22T12:03:48.342Z"
   },
   {
    "duration": 5,
    "start_time": "2021-11-22T12:03:48.435Z"
   },
   {
    "duration": 32,
    "start_time": "2021-11-22T12:03:48.443Z"
   },
   {
    "duration": 43,
    "start_time": "2021-11-22T12:03:48.478Z"
   },
   {
    "duration": 2389,
    "start_time": "2021-11-22T12:03:48.524Z"
   },
   {
    "duration": 15,
    "start_time": "2021-11-22T12:03:50.916Z"
   },
   {
    "duration": 8,
    "start_time": "2021-11-22T12:03:50.934Z"
   },
   {
    "duration": 25,
    "start_time": "2021-11-22T12:03:50.945Z"
   },
   {
    "duration": 8,
    "start_time": "2021-11-22T12:03:50.972Z"
   },
   {
    "duration": 869,
    "start_time": "2021-11-22T12:03:50.982Z"
   },
   {
    "duration": 15,
    "start_time": "2021-11-22T12:03:51.853Z"
   },
   {
    "duration": 2012,
    "start_time": "2021-11-22T12:03:51.870Z"
   },
   {
    "duration": 1270,
    "start_time": "2021-11-22T12:03:53.885Z"
   },
   {
    "duration": 59,
    "start_time": "2021-11-22T12:03:55.158Z"
   },
   {
    "duration": 1444,
    "start_time": "2021-11-22T15:11:12.167Z"
   },
   {
    "duration": 1310,
    "start_time": "2021-11-22T15:12:28.801Z"
   },
   {
    "duration": 400,
    "start_time": "2021-11-22T15:47:15.530Z"
   },
   {
    "duration": 898,
    "start_time": "2021-11-22T15:47:41.566Z"
   },
   {
    "duration": 77,
    "start_time": "2021-11-22T15:47:42.467Z"
   },
   {
    "duration": 5,
    "start_time": "2021-11-22T15:47:42.547Z"
   },
   {
    "duration": 18,
    "start_time": "2021-11-22T15:47:42.569Z"
   },
   {
    "duration": 34,
    "start_time": "2021-11-22T15:47:42.590Z"
   },
   {
    "duration": 2532,
    "start_time": "2021-11-22T15:47:42.626Z"
   },
   {
    "duration": 17,
    "start_time": "2021-11-22T15:47:45.167Z"
   },
   {
    "duration": 10,
    "start_time": "2021-11-22T15:47:45.188Z"
   },
   {
    "duration": 9,
    "start_time": "2021-11-22T15:47:45.202Z"
   },
   {
    "duration": 10,
    "start_time": "2021-11-22T15:47:45.213Z"
   },
   {
    "duration": 942,
    "start_time": "2021-11-22T15:47:45.226Z"
   },
   {
    "duration": 8,
    "start_time": "2021-11-22T15:47:46.174Z"
   },
   {
    "duration": 2214,
    "start_time": "2021-11-22T15:47:46.186Z"
   },
   {
    "duration": 1395,
    "start_time": "2021-11-22T15:47:48.403Z"
   },
   {
    "duration": 1492,
    "start_time": "2021-11-22T15:47:49.801Z"
   },
   {
    "duration": 435,
    "start_time": "2021-11-22T15:47:51.296Z"
   },
   {
    "duration": 690,
    "start_time": "2021-11-22T15:48:54.772Z"
   },
   {
    "duration": 376,
    "start_time": "2021-11-22T15:50:47.614Z"
   },
   {
    "duration": 279,
    "start_time": "2021-11-22T16:05:52.012Z"
   },
   {
    "duration": 290,
    "start_time": "2021-11-22T16:06:08.076Z"
   },
   {
    "duration": 301,
    "start_time": "2021-11-22T16:06:35.576Z"
   },
   {
    "duration": 336,
    "start_time": "2021-11-22T16:06:47.473Z"
   },
   {
    "duration": 305,
    "start_time": "2021-11-22T16:19:17.206Z"
   },
   {
    "duration": 937,
    "start_time": "2021-11-22T16:26:12.845Z"
   },
   {
    "duration": 583,
    "start_time": "2021-11-23T16:01:17.930Z"
   },
   {
    "duration": 887,
    "start_time": "2021-11-23T16:01:29.195Z"
   },
   {
    "duration": 82,
    "start_time": "2021-11-23T16:01:30.085Z"
   },
   {
    "duration": 5,
    "start_time": "2021-11-23T16:01:30.171Z"
   },
   {
    "duration": 22,
    "start_time": "2021-11-23T16:01:30.179Z"
   },
   {
    "duration": 56,
    "start_time": "2021-11-23T16:01:30.205Z"
   },
   {
    "duration": 2396,
    "start_time": "2021-11-23T16:01:30.264Z"
   },
   {
    "duration": 30,
    "start_time": "2021-11-23T16:01:32.663Z"
   },
   {
    "duration": 10,
    "start_time": "2021-11-23T16:01:32.699Z"
   },
   {
    "duration": 11,
    "start_time": "2021-11-23T16:01:32.712Z"
   },
   {
    "duration": 33,
    "start_time": "2021-11-23T16:01:32.726Z"
   },
   {
    "duration": 936,
    "start_time": "2021-11-23T16:01:32.762Z"
   },
   {
    "duration": 8,
    "start_time": "2021-11-23T16:01:33.701Z"
   },
   {
    "duration": 1958,
    "start_time": "2021-11-23T16:01:33.711Z"
   },
   {
    "duration": 1397,
    "start_time": "2021-11-23T16:01:35.672Z"
   },
   {
    "duration": 1321,
    "start_time": "2021-11-23T16:01:37.071Z"
   },
   {
    "duration": 357,
    "start_time": "2021-11-23T16:01:38.395Z"
   },
   {
    "duration": 337,
    "start_time": "2021-11-23T16:01:38.759Z"
   },
   {
    "duration": 299,
    "start_time": "2021-11-23T16:01:39.100Z"
   },
   {
    "duration": 716,
    "start_time": "2021-11-23T16:01:39.402Z"
   },
   {
    "duration": 558,
    "start_time": "2021-11-23T16:01:40.121Z"
   },
   {
    "duration": 11734,
    "start_time": "2021-11-23T16:02:11.772Z"
   },
   {
    "duration": 777,
    "start_time": "2021-11-23T16:02:34.838Z"
   },
   {
    "duration": 431,
    "start_time": "2021-11-23T16:02:46.159Z"
   },
   {
    "duration": 431,
    "start_time": "2021-11-24T12:00:53.915Z"
   },
   {
    "duration": 880,
    "start_time": "2021-11-24T12:01:02.605Z"
   },
   {
    "duration": 78,
    "start_time": "2021-11-24T12:01:03.489Z"
   },
   {
    "duration": 6,
    "start_time": "2021-11-24T12:01:03.570Z"
   },
   {
    "duration": 33,
    "start_time": "2021-11-24T12:01:03.579Z"
   },
   {
    "duration": 32,
    "start_time": "2021-11-24T12:01:03.615Z"
   },
   {
    "duration": 2367,
    "start_time": "2021-11-24T12:01:03.650Z"
   },
   {
    "duration": 15,
    "start_time": "2021-11-24T12:01:06.019Z"
   },
   {
    "duration": 16,
    "start_time": "2021-11-24T12:01:06.038Z"
   },
   {
    "duration": 8,
    "start_time": "2021-11-24T12:01:06.057Z"
   },
   {
    "duration": 36,
    "start_time": "2021-11-24T12:01:06.068Z"
   },
   {
    "duration": 879,
    "start_time": "2021-11-24T12:01:06.106Z"
   },
   {
    "duration": 15,
    "start_time": "2021-11-24T12:01:06.987Z"
   },
   {
    "duration": 2030,
    "start_time": "2021-11-24T12:01:07.004Z"
   },
   {
    "duration": 1406,
    "start_time": "2021-11-24T12:01:09.036Z"
   },
   {
    "duration": 1387,
    "start_time": "2021-11-24T12:01:10.445Z"
   },
   {
    "duration": 378,
    "start_time": "2021-11-24T12:01:11.835Z"
   },
   {
    "duration": 365,
    "start_time": "2021-11-24T12:01:12.215Z"
   },
   {
    "duration": 313,
    "start_time": "2021-11-24T12:01:12.582Z"
   },
   {
    "duration": 729,
    "start_time": "2021-11-24T12:01:12.901Z"
   },
   {
    "duration": 337,
    "start_time": "2021-11-24T12:01:13.633Z"
   },
   {
    "duration": 340,
    "start_time": "2021-11-24T12:01:13.973Z"
   },
   {
    "duration": 294,
    "start_time": "2021-11-25T02:03:39.600Z"
   },
   {
    "duration": 676,
    "start_time": "2021-11-25T02:03:49.415Z"
   },
   {
    "duration": 44,
    "start_time": "2021-11-25T02:03:50.093Z"
   },
   {
    "duration": 3,
    "start_time": "2021-11-25T02:03:50.145Z"
   },
   {
    "duration": 11,
    "start_time": "2021-11-25T02:03:50.150Z"
   },
   {
    "duration": 19,
    "start_time": "2021-11-25T02:03:50.163Z"
   },
   {
    "duration": 1424,
    "start_time": "2021-11-25T02:03:50.184Z"
   },
   {
    "duration": 11,
    "start_time": "2021-11-25T02:03:51.610Z"
   },
   {
    "duration": 22,
    "start_time": "2021-11-25T02:03:51.623Z"
   },
   {
    "duration": 28,
    "start_time": "2021-11-25T02:03:51.647Z"
   },
   {
    "duration": 37,
    "start_time": "2021-11-25T02:03:51.677Z"
   },
   {
    "duration": 503,
    "start_time": "2021-11-25T02:03:51.716Z"
   },
   {
    "duration": 5,
    "start_time": "2021-11-25T02:03:52.221Z"
   },
   {
    "duration": 1095,
    "start_time": "2021-11-25T02:03:52.227Z"
   },
   {
    "duration": 695,
    "start_time": "2021-11-25T02:03:53.324Z"
   },
   {
    "duration": 802,
    "start_time": "2021-11-25T02:03:54.021Z"
   },
   {
    "duration": 212,
    "start_time": "2021-11-25T02:03:54.825Z"
   },
   {
    "duration": 199,
    "start_time": "2021-11-25T02:03:55.038Z"
   },
   {
    "duration": 180,
    "start_time": "2021-11-25T02:03:55.238Z"
   },
   {
    "duration": 483,
    "start_time": "2021-11-25T02:03:55.420Z"
   },
   {
    "duration": 178,
    "start_time": "2021-11-25T02:03:55.905Z"
   },
   {
    "duration": 195,
    "start_time": "2021-11-25T02:03:56.084Z"
   },
   {
    "duration": 183,
    "start_time": "2021-11-25T02:03:56.280Z"
   },
   {
    "duration": 195,
    "start_time": "2021-11-25T02:05:22.474Z"
   },
   {
    "duration": 321,
    "start_time": "2021-11-25T02:23:51.563Z"
   },
   {
    "duration": 276,
    "start_time": "2021-11-25T02:24:10.601Z"
   },
   {
    "duration": 292,
    "start_time": "2021-11-25T02:24:56.366Z"
   },
   {
    "duration": 285,
    "start_time": "2021-11-25T02:25:43.077Z"
   },
   {
    "duration": 296,
    "start_time": "2021-11-25T02:29:20.735Z"
   },
   {
    "duration": 24,
    "start_time": "2021-11-25T02:36:51.110Z"
   },
   {
    "duration": 282,
    "start_time": "2021-11-25T02:37:35.854Z"
   },
   {
    "duration": 26,
    "start_time": "2021-11-25T02:37:52.028Z"
   },
   {
    "duration": 23,
    "start_time": "2021-11-25T02:38:16.756Z"
   },
   {
    "duration": 27,
    "start_time": "2021-11-25T02:38:35.434Z"
   },
   {
    "duration": 27,
    "start_time": "2021-11-25T02:38:44.234Z"
   },
   {
    "duration": 292,
    "start_time": "2021-11-25T02:39:13.728Z"
   },
   {
    "duration": 30,
    "start_time": "2021-11-25T02:39:23.385Z"
   },
   {
    "duration": 6531,
    "start_time": "2021-11-25T03:03:19.160Z"
   },
   {
    "duration": 7454,
    "start_time": "2021-11-25T03:03:53.457Z"
   },
   {
    "duration": 6829,
    "start_time": "2021-11-25T03:05:39.496Z"
   },
   {
    "duration": 196,
    "start_time": "2021-11-25T03:06:30.261Z"
   },
   {
    "duration": 258,
    "start_time": "2021-11-25T03:07:13.197Z"
   },
   {
    "duration": 192,
    "start_time": "2021-11-25T03:07:56.065Z"
   },
   {
    "duration": 31,
    "start_time": "2021-11-25T03:08:10.314Z"
   },
   {
    "duration": 165,
    "start_time": "2021-11-25T03:09:23.086Z"
   },
   {
    "duration": 96,
    "start_time": "2021-11-25T03:10:45.322Z"
   },
   {
    "duration": 88,
    "start_time": "2021-11-25T03:11:07.955Z"
   },
   {
    "duration": 701,
    "start_time": "2021-11-25T03:11:30.752Z"
   },
   {
    "duration": 345,
    "start_time": "2021-11-25T03:37:26.193Z"
   },
   {
    "duration": 35,
    "start_time": "2021-11-25T03:37:51.756Z"
   },
   {
    "duration": 461,
    "start_time": "2021-11-25T03:47:55.369Z"
   },
   {
    "duration": 7694,
    "start_time": "2021-11-25T03:48:16.973Z"
   },
   {
    "duration": 8715,
    "start_time": "2021-11-25T03:49:01.303Z"
   },
   {
    "duration": 182,
    "start_time": "2021-11-25T03:49:42.211Z"
   },
   {
    "duration": 256,
    "start_time": "2021-11-25T04:03:43.981Z"
   },
   {
    "duration": 155,
    "start_time": "2021-11-25T04:03:56.370Z"
   },
   {
    "duration": 6538,
    "start_time": "2021-11-25T04:10:05.503Z"
   },
   {
    "duration": 369,
    "start_time": "2021-11-25T04:10:49.506Z"
   },
   {
    "duration": 192,
    "start_time": "2021-11-25T04:18:43.107Z"
   },
   {
    "duration": 88,
    "start_time": "2021-11-25T04:27:43.153Z"
   },
   {
    "duration": 441,
    "start_time": "2021-11-25T04:27:58.072Z"
   },
   {
    "duration": 455,
    "start_time": "2021-11-25T04:32:55.115Z"
   },
   {
    "duration": 467,
    "start_time": "2021-11-25T04:36:49.418Z"
   },
   {
    "duration": 460,
    "start_time": "2021-11-25T04:37:32.260Z"
   },
   {
    "duration": 458,
    "start_time": "2021-11-25T04:38:11.481Z"
   },
   {
    "duration": 205,
    "start_time": "2021-11-25T04:38:52.141Z"
   },
   {
    "duration": 193,
    "start_time": "2021-11-25T04:39:12.628Z"
   },
   {
    "duration": 463,
    "start_time": "2021-11-25T04:58:31.289Z"
   },
   {
    "duration": 200,
    "start_time": "2021-11-25T04:59:02.495Z"
   },
   {
    "duration": 262,
    "start_time": "2021-11-25T04:59:21.476Z"
   },
   {
    "duration": 204,
    "start_time": "2021-11-25T04:59:40.106Z"
   },
   {
    "duration": 471,
    "start_time": "2021-11-25T05:10:54.903Z"
   },
   {
    "duration": 178,
    "start_time": "2021-11-25T05:11:32.808Z"
   },
   {
    "duration": 172,
    "start_time": "2021-11-25T05:11:50.703Z"
   },
   {
    "duration": 1197,
    "start_time": "2021-11-25T05:53:58.768Z"
   },
   {
    "duration": 1116,
    "start_time": "2021-11-25T05:54:16.758Z"
   },
   {
    "duration": 1149,
    "start_time": "2021-11-25T05:54:27.989Z"
   },
   {
    "duration": 874,
    "start_time": "2021-11-25T05:55:18.130Z"
   },
   {
    "duration": 760,
    "start_time": "2021-11-25T05:55:44.258Z"
   },
   {
    "duration": 743,
    "start_time": "2021-11-25T05:56:30.367Z"
   },
   {
    "duration": 819,
    "start_time": "2021-11-25T05:56:49.800Z"
   },
   {
    "duration": 704,
    "start_time": "2021-11-25T05:57:16.077Z"
   },
   {
    "duration": 491,
    "start_time": "2021-11-25T05:58:18.848Z"
   },
   {
    "duration": 719,
    "start_time": "2021-11-25T06:01:16.659Z"
   },
   {
    "duration": 720,
    "start_time": "2021-11-25T06:01:59.339Z"
   },
   {
    "duration": 891,
    "start_time": "2021-11-25T06:02:44.160Z"
   },
   {
    "duration": 1071,
    "start_time": "2021-11-25T06:03:17.138Z"
   },
   {
    "duration": 720,
    "start_time": "2021-11-25T06:03:36.568Z"
   },
   {
    "duration": 800,
    "start_time": "2021-11-25T06:04:15.798Z"
   },
   {
    "duration": 736,
    "start_time": "2021-11-25T06:04:39.502Z"
   },
   {
    "duration": 751,
    "start_time": "2021-11-25T06:05:02.572Z"
   },
   {
    "duration": 662,
    "start_time": "2021-11-25T06:05:50.467Z"
   },
   {
    "duration": 47,
    "start_time": "2021-11-25T06:05:51.130Z"
   },
   {
    "duration": 4,
    "start_time": "2021-11-25T06:05:51.179Z"
   },
   {
    "duration": 13,
    "start_time": "2021-11-25T06:05:51.185Z"
   },
   {
    "duration": 20,
    "start_time": "2021-11-25T06:05:51.199Z"
   },
   {
    "duration": 1524,
    "start_time": "2021-11-25T06:05:51.221Z"
   },
   {
    "duration": 12,
    "start_time": "2021-11-25T06:05:52.747Z"
   },
   {
    "duration": 15,
    "start_time": "2021-11-25T06:05:52.761Z"
   },
   {
    "duration": 16,
    "start_time": "2021-11-25T06:05:52.778Z"
   },
   {
    "duration": 11,
    "start_time": "2021-11-25T06:05:52.795Z"
   },
   {
    "duration": 501,
    "start_time": "2021-11-25T06:05:52.808Z"
   },
   {
    "duration": 5,
    "start_time": "2021-11-25T06:05:53.310Z"
   },
   {
    "duration": 1133,
    "start_time": "2021-11-25T06:05:53.317Z"
   },
   {
    "duration": 744,
    "start_time": "2021-11-25T06:05:54.452Z"
   },
   {
    "duration": 810,
    "start_time": "2021-11-25T06:05:55.197Z"
   },
   {
    "duration": 217,
    "start_time": "2021-11-25T06:05:56.008Z"
   },
   {
    "duration": 220,
    "start_time": "2021-11-25T06:05:56.227Z"
   },
   {
    "duration": 177,
    "start_time": "2021-11-25T06:05:56.449Z"
   },
   {
    "duration": 499,
    "start_time": "2021-11-25T06:05:56.628Z"
   },
   {
    "duration": 200,
    "start_time": "2021-11-25T06:05:57.129Z"
   },
   {
    "duration": 218,
    "start_time": "2021-11-25T06:05:57.332Z"
   },
   {
    "duration": 210,
    "start_time": "2021-11-25T06:05:57.552Z"
   },
   {
    "duration": 31,
    "start_time": "2021-11-25T06:05:57.765Z"
   },
   {
    "duration": 220,
    "start_time": "2021-11-25T06:05:57.797Z"
   },
   {
    "duration": 44,
    "start_time": "2021-11-25T06:05:58.019Z"
   },
   {
    "duration": 200,
    "start_time": "2021-11-25T06:05:58.064Z"
   },
   {
    "duration": 249,
    "start_time": "2021-11-25T06:05:58.265Z"
   },
   {
    "duration": 345,
    "start_time": "2021-11-25T06:05:58.516Z"
   },
   {
    "duration": 202,
    "start_time": "2021-11-25T06:05:58.862Z"
   },
   {
    "duration": 208,
    "start_time": "2021-11-25T06:05:59.066Z"
   },
   {
    "duration": 220,
    "start_time": "2021-11-25T06:05:59.276Z"
   },
   {
    "duration": 753,
    "start_time": "2021-11-25T06:07:05.737Z"
   },
   {
    "duration": 720,
    "start_time": "2021-11-25T06:07:17.968Z"
   },
   {
    "duration": 5,
    "start_time": "2021-11-25T06:29:42.231Z"
   },
   {
    "duration": 5,
    "start_time": "2021-11-25T06:30:23.973Z"
   },
   {
    "duration": 5,
    "start_time": "2021-11-25T06:32:47.695Z"
   },
   {
    "duration": 653,
    "start_time": "2021-11-25T07:11:06.772Z"
   },
   {
    "duration": 46,
    "start_time": "2021-11-25T07:11:07.428Z"
   },
   {
    "duration": 4,
    "start_time": "2021-11-25T07:11:07.476Z"
   },
   {
    "duration": 23,
    "start_time": "2021-11-25T07:11:07.482Z"
   },
   {
    "duration": 23,
    "start_time": "2021-11-25T07:11:07.506Z"
   },
   {
    "duration": 1528,
    "start_time": "2021-11-25T07:11:07.531Z"
   },
   {
    "duration": 11,
    "start_time": "2021-11-25T07:11:09.061Z"
   },
   {
    "duration": 7,
    "start_time": "2021-11-25T07:11:09.075Z"
   },
   {
    "duration": 11,
    "start_time": "2021-11-25T07:11:09.084Z"
   },
   {
    "duration": 27,
    "start_time": "2021-11-25T07:11:09.097Z"
   },
   {
    "duration": 519,
    "start_time": "2021-11-25T07:11:09.125Z"
   },
   {
    "duration": 6,
    "start_time": "2021-11-25T07:11:09.646Z"
   },
   {
    "duration": 1195,
    "start_time": "2021-11-25T07:11:09.654Z"
   },
   {
    "duration": 738,
    "start_time": "2021-11-25T07:11:10.851Z"
   },
   {
    "duration": 834,
    "start_time": "2021-11-25T07:11:11.591Z"
   },
   {
    "duration": 219,
    "start_time": "2021-11-25T07:11:12.427Z"
   },
   {
    "duration": 212,
    "start_time": "2021-11-25T07:11:12.648Z"
   },
   {
    "duration": 182,
    "start_time": "2021-11-25T07:11:12.862Z"
   },
   {
    "duration": 479,
    "start_time": "2021-11-25T07:11:13.046Z"
   },
   {
    "duration": 188,
    "start_time": "2021-11-25T07:11:13.527Z"
   },
   {
    "duration": 208,
    "start_time": "2021-11-25T07:11:13.717Z"
   },
   {
    "duration": 420,
    "start_time": "2021-11-25T07:11:13.927Z"
   },
   {
    "duration": 35,
    "start_time": "2021-11-25T07:11:14.351Z"
   },
   {
    "duration": 242,
    "start_time": "2021-11-25T07:11:14.388Z"
   },
   {
    "duration": 47,
    "start_time": "2021-11-25T07:11:14.632Z"
   },
   {
    "duration": 216,
    "start_time": "2021-11-25T07:11:14.681Z"
   },
   {
    "duration": 252,
    "start_time": "2021-11-25T07:11:14.899Z"
   },
   {
    "duration": 325,
    "start_time": "2021-11-25T07:11:15.153Z"
   },
   {
    "duration": 211,
    "start_time": "2021-11-25T07:11:15.480Z"
   },
   {
    "duration": 208,
    "start_time": "2021-11-25T07:11:15.693Z"
   },
   {
    "duration": 225,
    "start_time": "2021-11-25T07:11:15.903Z"
   },
   {
    "duration": 37,
    "start_time": "2021-11-25T07:24:44.445Z"
   },
   {
    "duration": 207,
    "start_time": "2021-11-25T07:24:49.494Z"
   },
   {
    "duration": 156,
    "start_time": "2021-11-25T07:25:20.322Z"
   },
   {
    "duration": 352,
    "start_time": "2021-11-25T07:25:29.406Z"
   },
   {
    "duration": 181,
    "start_time": "2021-11-25T07:25:41.789Z"
   },
   {
    "duration": 181,
    "start_time": "2021-11-25T07:26:13.390Z"
   },
   {
    "duration": 43,
    "start_time": "2021-11-25T07:27:14.430Z"
   },
   {
    "duration": 206,
    "start_time": "2021-11-25T07:27:19.650Z"
   },
   {
    "duration": 223,
    "start_time": "2021-11-25T07:27:25.877Z"
   },
   {
    "duration": 333,
    "start_time": "2021-11-25T07:27:31.932Z"
   },
   {
    "duration": 185,
    "start_time": "2021-11-25T07:27:38.574Z"
   },
   {
    "duration": 198,
    "start_time": "2021-11-25T07:27:43.133Z"
   },
   {
    "duration": 221,
    "start_time": "2021-11-25T07:27:53.475Z"
   },
   {
    "duration": 721,
    "start_time": "2021-11-25T07:28:33.433Z"
   },
   {
    "duration": 45,
    "start_time": "2021-11-25T07:28:34.156Z"
   },
   {
    "duration": 3,
    "start_time": "2021-11-25T07:28:34.204Z"
   },
   {
    "duration": 11,
    "start_time": "2021-11-25T07:28:34.209Z"
   },
   {
    "duration": 39,
    "start_time": "2021-11-25T07:28:34.222Z"
   },
   {
    "duration": 1508,
    "start_time": "2021-11-25T07:28:34.263Z"
   },
   {
    "duration": 12,
    "start_time": "2021-11-25T07:28:35.772Z"
   },
   {
    "duration": 8,
    "start_time": "2021-11-25T07:28:35.786Z"
   },
   {
    "duration": 5,
    "start_time": "2021-11-25T07:28:35.796Z"
   },
   {
    "duration": 6,
    "start_time": "2021-11-25T07:28:35.803Z"
   },
   {
    "duration": 546,
    "start_time": "2021-11-25T07:28:35.811Z"
   },
   {
    "duration": 5,
    "start_time": "2021-11-25T07:28:36.359Z"
   },
   {
    "duration": 1153,
    "start_time": "2021-11-25T07:28:36.365Z"
   },
   {
    "duration": 734,
    "start_time": "2021-11-25T07:28:37.519Z"
   },
   {
    "duration": 814,
    "start_time": "2021-11-25T07:28:38.255Z"
   },
   {
    "duration": 217,
    "start_time": "2021-11-25T07:28:39.071Z"
   },
   {
    "duration": 209,
    "start_time": "2021-11-25T07:28:39.290Z"
   },
   {
    "duration": 181,
    "start_time": "2021-11-25T07:28:39.501Z"
   },
   {
    "duration": 512,
    "start_time": "2021-11-25T07:28:39.684Z"
   },
   {
    "duration": 200,
    "start_time": "2021-11-25T07:28:40.198Z"
   },
   {
    "duration": 203,
    "start_time": "2021-11-25T07:28:40.400Z"
   },
   {
    "duration": 208,
    "start_time": "2021-11-25T07:28:40.605Z"
   },
   {
    "duration": 41,
    "start_time": "2021-11-25T07:28:40.816Z"
   },
   {
    "duration": 201,
    "start_time": "2021-11-25T07:28:40.859Z"
   },
   {
    "duration": 35,
    "start_time": "2021-11-25T07:28:41.062Z"
   },
   {
    "duration": 208,
    "start_time": "2021-11-25T07:28:41.099Z"
   },
   {
    "duration": 253,
    "start_time": "2021-11-25T07:28:41.309Z"
   },
   {
    "duration": 310,
    "start_time": "2021-11-25T07:28:41.563Z"
   },
   {
    "duration": 197,
    "start_time": "2021-11-25T07:28:41.874Z"
   },
   {
    "duration": 213,
    "start_time": "2021-11-25T07:28:42.073Z"
   },
   {
    "duration": 215,
    "start_time": "2021-11-25T07:28:42.287Z"
   },
   {
    "duration": 717,
    "start_time": "2021-11-25T07:36:04.225Z"
   },
   {
    "duration": 48,
    "start_time": "2021-11-25T07:36:04.944Z"
   },
   {
    "duration": 4,
    "start_time": "2021-11-25T07:36:04.996Z"
   },
   {
    "duration": 44,
    "start_time": "2021-11-25T07:36:05.002Z"
   },
   {
    "duration": 21,
    "start_time": "2021-11-25T07:36:05.048Z"
   },
   {
    "duration": 1565,
    "start_time": "2021-11-25T07:36:05.071Z"
   },
   {
    "duration": 17,
    "start_time": "2021-11-25T07:36:06.639Z"
   },
   {
    "duration": 6,
    "start_time": "2021-11-25T07:36:06.659Z"
   },
   {
    "duration": 11,
    "start_time": "2021-11-25T07:36:06.667Z"
   },
   {
    "duration": 10,
    "start_time": "2021-11-25T07:36:06.680Z"
   },
   {
    "duration": 537,
    "start_time": "2021-11-25T07:36:06.692Z"
   },
   {
    "duration": 13,
    "start_time": "2021-11-25T07:36:07.231Z"
   },
   {
    "duration": 1185,
    "start_time": "2021-11-25T07:36:07.246Z"
   },
   {
    "duration": 770,
    "start_time": "2021-11-25T07:36:08.433Z"
   },
   {
    "duration": 862,
    "start_time": "2021-11-25T07:36:09.205Z"
   },
   {
    "duration": 232,
    "start_time": "2021-11-25T07:36:10.069Z"
   },
   {
    "duration": 227,
    "start_time": "2021-11-25T07:36:10.304Z"
   },
   {
    "duration": 199,
    "start_time": "2021-11-25T07:36:10.533Z"
   },
   {
    "duration": 497,
    "start_time": "2021-11-25T07:36:10.735Z"
   },
   {
    "duration": 212,
    "start_time": "2021-11-25T07:36:11.234Z"
   },
   {
    "duration": 220,
    "start_time": "2021-11-25T07:36:11.448Z"
   },
   {
    "duration": 218,
    "start_time": "2021-11-25T07:36:11.671Z"
   },
   {
    "duration": 33,
    "start_time": "2021-11-25T07:36:11.891Z"
   },
   {
    "duration": 240,
    "start_time": "2021-11-25T07:36:11.926Z"
   },
   {
    "duration": 38,
    "start_time": "2021-11-25T07:36:12.168Z"
   },
   {
    "duration": 237,
    "start_time": "2021-11-25T07:36:12.207Z"
   },
   {
    "duration": 263,
    "start_time": "2021-11-25T07:36:12.446Z"
   },
   {
    "duration": 358,
    "start_time": "2021-11-25T07:36:12.711Z"
   },
   {
    "duration": 214,
    "start_time": "2021-11-25T07:36:13.071Z"
   },
   {
    "duration": 216,
    "start_time": "2021-11-25T07:36:13.287Z"
   },
   {
    "duration": 222,
    "start_time": "2021-11-25T07:36:13.505Z"
   },
   {
    "duration": 746,
    "start_time": "2021-11-25T11:47:12.740Z"
   },
   {
    "duration": 46,
    "start_time": "2021-11-25T11:47:13.488Z"
   },
   {
    "duration": 11,
    "start_time": "2021-11-25T11:47:13.536Z"
   },
   {
    "duration": 40,
    "start_time": "2021-11-25T11:47:13.549Z"
   },
   {
    "duration": 51,
    "start_time": "2021-11-25T11:47:13.591Z"
   },
   {
    "duration": 1532,
    "start_time": "2021-11-25T11:47:13.644Z"
   },
   {
    "duration": 12,
    "start_time": "2021-11-25T11:47:15.178Z"
   },
   {
    "duration": 26,
    "start_time": "2021-11-25T11:47:15.192Z"
   },
   {
    "duration": 33,
    "start_time": "2021-11-25T11:47:15.220Z"
   },
   {
    "duration": 24,
    "start_time": "2021-11-25T11:47:15.254Z"
   },
   {
    "duration": 554,
    "start_time": "2021-11-25T11:47:15.280Z"
   },
   {
    "duration": 9,
    "start_time": "2021-11-25T11:47:15.836Z"
   },
   {
    "duration": 1267,
    "start_time": "2021-11-25T11:47:15.847Z"
   },
   {
    "duration": 832,
    "start_time": "2021-11-25T11:47:17.115Z"
   },
   {
    "duration": 899,
    "start_time": "2021-11-25T11:47:17.950Z"
   },
   {
    "duration": 256,
    "start_time": "2021-11-25T11:47:18.851Z"
   },
   {
    "duration": 219,
    "start_time": "2021-11-25T11:47:19.109Z"
   },
   {
    "duration": 216,
    "start_time": "2021-11-25T11:47:19.330Z"
   },
   {
    "duration": 565,
    "start_time": "2021-11-25T11:47:19.548Z"
   },
   {
    "duration": 206,
    "start_time": "2021-11-25T11:47:20.115Z"
   },
   {
    "duration": 216,
    "start_time": "2021-11-25T11:47:20.322Z"
   },
   {
    "duration": 305,
    "start_time": "2021-11-25T11:47:20.539Z"
   },
   {
    "duration": 169,
    "start_time": "2021-11-25T11:47:20.847Z"
   },
   {
    "duration": 221,
    "start_time": "2021-11-25T11:47:21.018Z"
   },
   {
    "duration": 35,
    "start_time": "2021-11-25T11:47:21.244Z"
   },
   {
    "duration": 228,
    "start_time": "2021-11-25T11:47:21.281Z"
   },
   {
    "duration": 276,
    "start_time": "2021-11-25T11:47:21.510Z"
   },
   {
    "duration": 327,
    "start_time": "2021-11-25T11:47:21.788Z"
   },
   {
    "duration": 216,
    "start_time": "2021-11-25T11:47:22.117Z"
   },
   {
    "duration": 215,
    "start_time": "2021-11-25T11:47:22.335Z"
   },
   {
    "duration": 240,
    "start_time": "2021-11-25T11:47:22.551Z"
   },
   {
    "duration": 370,
    "start_time": "2021-11-25T12:23:16.574Z"
   },
   {
    "duration": 1124,
    "start_time": "2021-11-25T12:23:25.608Z"
   },
   {
    "duration": 118,
    "start_time": "2021-11-25T12:23:26.735Z"
   },
   {
    "duration": 7,
    "start_time": "2021-11-25T12:23:26.858Z"
   },
   {
    "duration": 17,
    "start_time": "2021-11-25T12:23:26.884Z"
   },
   {
    "duration": 46,
    "start_time": "2021-11-25T12:23:26.904Z"
   },
   {
    "duration": 2422,
    "start_time": "2021-11-25T12:23:26.982Z"
   },
   {
    "duration": 16,
    "start_time": "2021-11-25T12:23:29.407Z"
   },
   {
    "duration": 8,
    "start_time": "2021-11-25T12:23:29.427Z"
   },
   {
    "duration": 8,
    "start_time": "2021-11-25T12:23:29.438Z"
   },
   {
    "duration": 37,
    "start_time": "2021-11-25T12:23:29.448Z"
   },
   {
    "duration": 853,
    "start_time": "2021-11-25T12:23:29.487Z"
   },
   {
    "duration": 7,
    "start_time": "2021-11-25T12:23:30.342Z"
   },
   {
    "duration": 2233,
    "start_time": "2021-11-25T12:23:30.351Z"
   },
   {
    "duration": 1328,
    "start_time": "2021-11-25T12:23:32.586Z"
   },
   {
    "duration": 1392,
    "start_time": "2021-11-25T12:23:33.917Z"
   },
   {
    "duration": 373,
    "start_time": "2021-11-25T12:23:35.311Z"
   },
   {
    "duration": 354,
    "start_time": "2021-11-25T12:23:35.687Z"
   },
   {
    "duration": 304,
    "start_time": "2021-11-25T12:23:36.044Z"
   },
   {
    "duration": 763,
    "start_time": "2021-11-25T12:23:36.351Z"
   },
   {
    "duration": 327,
    "start_time": "2021-11-25T12:23:37.117Z"
   },
   {
    "duration": 364,
    "start_time": "2021-11-25T12:23:37.447Z"
   },
   {
    "duration": 342,
    "start_time": "2021-11-25T12:23:37.813Z"
   },
   {
    "duration": 58,
    "start_time": "2021-11-25T12:23:38.160Z"
   },
   {
    "duration": 351,
    "start_time": "2021-11-25T12:23:38.220Z"
   },
   {
    "duration": 62,
    "start_time": "2021-11-25T12:23:38.573Z"
   },
   {
    "duration": 369,
    "start_time": "2021-11-25T12:23:38.637Z"
   },
   {
    "duration": 424,
    "start_time": "2021-11-25T12:23:39.008Z"
   },
   {
    "duration": 512,
    "start_time": "2021-11-25T12:23:39.434Z"
   },
   {
    "duration": 342,
    "start_time": "2021-11-25T12:23:39.948Z"
   },
   {
    "duration": 494,
    "start_time": "2021-11-25T12:23:40.293Z"
   },
   {
    "duration": 518,
    "start_time": "2021-11-25T12:23:40.790Z"
   },
   {
    "duration": 3651,
    "start_time": "2021-11-25T12:23:43.935Z"
   },
   {
    "duration": 5,
    "start_time": "2021-11-25T12:24:27.945Z"
   },
   {
    "duration": 8435,
    "start_time": "2021-11-25T12:25:14.802Z"
   },
   {
    "duration": 7,
    "start_time": "2021-11-25T12:25:48.873Z"
   },
   {
    "duration": 3335,
    "start_time": "2021-11-25T12:29:17.471Z"
   },
   {
    "duration": 7,
    "start_time": "2021-11-25T12:29:24.450Z"
   },
   {
    "duration": 4686,
    "start_time": "2021-11-25T12:31:28.645Z"
   },
   {
    "duration": 5,
    "start_time": "2021-11-25T12:31:35.719Z"
   },
   {
    "duration": 2267,
    "start_time": "2021-11-25T12:43:26.103Z"
   },
   {
    "duration": 5,
    "start_time": "2021-11-25T12:43:31.543Z"
   },
   {
    "duration": 6,
    "start_time": "2021-11-25T12:43:32.175Z"
   },
   {
    "duration": 2451,
    "start_time": "2021-11-25T12:51:18.549Z"
   },
   {
    "duration": 2212,
    "start_time": "2021-11-25T12:51:30.834Z"
   },
   {
    "duration": 6,
    "start_time": "2021-11-25T12:52:26.849Z"
   },
   {
    "duration": 98,
    "start_time": "2021-11-25T12:59:45.210Z"
   },
   {
    "duration": 100,
    "start_time": "2021-11-25T13:01:15.584Z"
   },
   {
    "duration": 898,
    "start_time": "2021-11-25T13:03:27.755Z"
   },
   {
    "duration": 78,
    "start_time": "2021-11-25T13:03:28.656Z"
   },
   {
    "duration": 7,
    "start_time": "2021-11-25T13:03:28.738Z"
   },
   {
    "duration": 42,
    "start_time": "2021-11-25T13:03:28.748Z"
   },
   {
    "duration": 31,
    "start_time": "2021-11-25T13:03:28.792Z"
   },
   {
    "duration": 2817,
    "start_time": "2021-11-25T13:03:28.826Z"
   },
   {
    "duration": 111,
    "start_time": "2021-11-25T13:03:31.646Z"
   },
   {
    "duration": -66,
    "start_time": "2021-11-25T13:03:31.829Z"
   },
   {
    "duration": -106,
    "start_time": "2021-11-25T13:03:31.871Z"
   },
   {
    "duration": -144,
    "start_time": "2021-11-25T13:03:31.911Z"
   },
   {
    "duration": -158,
    "start_time": "2021-11-25T13:03:31.927Z"
   },
   {
    "duration": -173,
    "start_time": "2021-11-25T13:03:31.944Z"
   },
   {
    "duration": -189,
    "start_time": "2021-11-25T13:03:31.962Z"
   },
   {
    "duration": -205,
    "start_time": "2021-11-25T13:03:31.980Z"
   },
   {
    "duration": -210,
    "start_time": "2021-11-25T13:03:31.987Z"
   },
   {
    "duration": -221,
    "start_time": "2021-11-25T13:03:32.000Z"
   },
   {
    "duration": -225,
    "start_time": "2021-11-25T13:03:32.006Z"
   },
   {
    "duration": -239,
    "start_time": "2021-11-25T13:03:32.022Z"
   },
   {
    "duration": -245,
    "start_time": "2021-11-25T13:03:32.030Z"
   },
   {
    "duration": -260,
    "start_time": "2021-11-25T13:03:32.047Z"
   },
   {
    "duration": -274,
    "start_time": "2021-11-25T13:03:32.063Z"
   },
   {
    "duration": -277,
    "start_time": "2021-11-25T13:03:32.068Z"
   },
   {
    "duration": -287,
    "start_time": "2021-11-25T13:03:32.080Z"
   },
   {
    "duration": -301,
    "start_time": "2021-11-25T13:03:32.096Z"
   },
   {
    "duration": -303,
    "start_time": "2021-11-25T13:03:32.100Z"
   },
   {
    "duration": -305,
    "start_time": "2021-11-25T13:03:32.104Z"
   },
   {
    "duration": -310,
    "start_time": "2021-11-25T13:03:32.111Z"
   },
   {
    "duration": -321,
    "start_time": "2021-11-25T13:03:32.124Z"
   },
   {
    "duration": -333,
    "start_time": "2021-11-25T13:03:32.138Z"
   },
   {
    "duration": -339,
    "start_time": "2021-11-25T13:03:32.146Z"
   },
   {
    "duration": -352,
    "start_time": "2021-11-25T13:03:32.162Z"
   },
   {
    "duration": -358,
    "start_time": "2021-11-25T13:03:32.171Z"
   },
   {
    "duration": 139,
    "start_time": "2021-11-25T13:05:06.867Z"
   },
   {
    "duration": 421,
    "start_time": "2021-11-25T13:10:47.906Z"
   },
   {
    "duration": 839,
    "start_time": "2021-11-25T13:10:57.115Z"
   },
   {
    "duration": 99,
    "start_time": "2021-11-25T13:10:57.957Z"
   },
   {
    "duration": 7,
    "start_time": "2021-11-25T13:10:58.060Z"
   },
   {
    "duration": 20,
    "start_time": "2021-11-25T13:10:58.084Z"
   },
   {
    "duration": 45,
    "start_time": "2021-11-25T13:10:58.107Z"
   },
   {
    "duration": 3967,
    "start_time": "2021-11-25T13:10:58.183Z"
   },
   {
    "duration": 14,
    "start_time": "2021-11-25T13:11:02.153Z"
   },
   {
    "duration": 20,
    "start_time": "2021-11-25T13:11:02.170Z"
   },
   {
    "duration": 10,
    "start_time": "2021-11-25T13:11:02.195Z"
   },
   {
    "duration": 14,
    "start_time": "2021-11-25T13:11:02.209Z"
   },
   {
    "duration": 1010,
    "start_time": "2021-11-25T13:11:02.226Z"
   },
   {
    "duration": 6,
    "start_time": "2021-11-25T13:11:03.238Z"
   },
   {
    "duration": 2070,
    "start_time": "2021-11-25T13:11:03.246Z"
   },
   {
    "duration": 1294,
    "start_time": "2021-11-25T13:11:05.319Z"
   },
   {
    "duration": 2075,
    "start_time": "2021-11-25T13:11:06.616Z"
   },
   {
    "duration": 372,
    "start_time": "2021-11-25T13:11:08.694Z"
   },
   {
    "duration": 343,
    "start_time": "2021-11-25T13:11:09.068Z"
   },
   {
    "duration": 301,
    "start_time": "2021-11-25T13:11:09.413Z"
   },
   {
    "duration": 717,
    "start_time": "2021-11-25T13:11:09.717Z"
   },
   {
    "duration": 320,
    "start_time": "2021-11-25T13:11:10.437Z"
   },
   {
    "duration": 328,
    "start_time": "2021-11-25T13:11:10.759Z"
   },
   {
    "duration": 326,
    "start_time": "2021-11-25T13:11:11.090Z"
   },
   {
    "duration": 65,
    "start_time": "2021-11-25T13:11:11.419Z"
   },
   {
    "duration": 336,
    "start_time": "2021-11-25T13:11:11.487Z"
   },
   {
    "duration": 68,
    "start_time": "2021-11-25T13:11:11.825Z"
   },
   {
    "duration": 334,
    "start_time": "2021-11-25T13:11:11.895Z"
   },
   {
    "duration": 380,
    "start_time": "2021-11-25T13:11:12.233Z"
   },
   {
    "duration": 444,
    "start_time": "2021-11-25T13:11:12.615Z"
   },
   {
    "duration": 328,
    "start_time": "2021-11-25T13:11:13.062Z"
   },
   {
    "duration": 332,
    "start_time": "2021-11-25T13:11:13.392Z"
   },
   {
    "duration": 347,
    "start_time": "2021-11-25T13:11:13.726Z"
   },
   {
    "duration": 9262,
    "start_time": "2021-11-25T13:21:21.752Z"
   },
   {
    "duration": 7501,
    "start_time": "2021-11-25T13:22:10.681Z"
   },
   {
    "duration": 845,
    "start_time": "2021-11-25T13:24:10.693Z"
   },
   {
    "duration": 871,
    "start_time": "2021-11-25T13:24:18.363Z"
   },
   {
    "duration": 71,
    "start_time": "2021-11-25T13:24:19.237Z"
   },
   {
    "duration": 5,
    "start_time": "2021-11-25T13:24:19.311Z"
   },
   {
    "duration": 15,
    "start_time": "2021-11-25T13:24:19.319Z"
   },
   {
    "duration": 65,
    "start_time": "2021-11-25T13:24:19.336Z"
   },
   {
    "duration": 3736,
    "start_time": "2021-11-25T13:24:19.404Z"
   },
   {
    "duration": 13,
    "start_time": "2021-11-25T13:24:23.143Z"
   },
   {
    "duration": 29,
    "start_time": "2021-11-25T13:24:23.159Z"
   },
   {
    "duration": 7,
    "start_time": "2021-11-25T13:24:23.192Z"
   },
   {
    "duration": 8,
    "start_time": "2021-11-25T13:24:23.202Z"
   },
   {
    "duration": 1291,
    "start_time": "2021-11-25T13:24:23.212Z"
   },
   {
    "duration": 7,
    "start_time": "2021-11-25T13:24:24.506Z"
   },
   {
    "duration": 1979,
    "start_time": "2021-11-25T13:24:24.516Z"
   },
   {
    "duration": 1261,
    "start_time": "2021-11-25T13:24:26.498Z"
   },
   {
    "duration": 1325,
    "start_time": "2021-11-25T13:24:27.762Z"
   },
   {
    "duration": 7579,
    "start_time": "2021-11-25T13:24:29.089Z"
   },
   {
    "duration": -216,
    "start_time": "2021-11-25T13:24:36.886Z"
   },
   {
    "duration": -220,
    "start_time": "2021-11-25T13:24:36.892Z"
   },
   {
    "duration": -223,
    "start_time": "2021-11-25T13:24:36.897Z"
   },
   {
    "duration": -226,
    "start_time": "2021-11-25T13:24:36.902Z"
   },
   {
    "duration": -229,
    "start_time": "2021-11-25T13:24:36.906Z"
   },
   {
    "duration": -232,
    "start_time": "2021-11-25T13:24:36.911Z"
   },
   {
    "duration": -235,
    "start_time": "2021-11-25T13:24:36.915Z"
   },
   {
    "duration": -237,
    "start_time": "2021-11-25T13:24:36.919Z"
   },
   {
    "duration": -239,
    "start_time": "2021-11-25T13:24:36.922Z"
   },
   {
    "duration": -241,
    "start_time": "2021-11-25T13:24:36.926Z"
   },
   {
    "duration": -244,
    "start_time": "2021-11-25T13:24:36.930Z"
   },
   {
    "duration": -246,
    "start_time": "2021-11-25T13:24:36.933Z"
   },
   {
    "duration": -255,
    "start_time": "2021-11-25T13:24:36.944Z"
   },
   {
    "duration": -258,
    "start_time": "2021-11-25T13:24:36.948Z"
   },
   {
    "duration": -261,
    "start_time": "2021-11-25T13:24:36.952Z"
   },
   {
    "duration": 343,
    "start_time": "2021-11-25T13:24:57.146Z"
   },
   {
    "duration": 324,
    "start_time": "2021-11-25T13:27:51.306Z"
   },
   {
    "duration": 342,
    "start_time": "2021-11-25T13:32:26.617Z"
   },
   {
    "duration": 281,
    "start_time": "2021-11-25T13:44:42.468Z"
   },
   {
    "duration": 698,
    "start_time": "2021-11-25T13:45:09.211Z"
   },
   {
    "duration": 316,
    "start_time": "2021-11-25T13:45:18.282Z"
   },
   {
    "duration": 322,
    "start_time": "2021-11-25T13:45:24.459Z"
   },
   {
    "duration": 396,
    "start_time": "2021-11-25T13:45:35.706Z"
   },
   {
    "duration": 364,
    "start_time": "2021-11-25T13:53:54.585Z"
   },
   {
    "duration": 301,
    "start_time": "2021-11-25T13:56:38.647Z"
   },
   {
    "duration": 54,
    "start_time": "2021-11-25T13:56:44.389Z"
   },
   {
    "duration": 467,
    "start_time": "2021-11-25T13:56:50.166Z"
   },
   {
    "duration": 387,
    "start_time": "2021-11-25T13:56:58.198Z"
   },
   {
    "duration": 472,
    "start_time": "2021-11-25T13:57:04.778Z"
   },
   {
    "duration": 307,
    "start_time": "2021-11-25T13:57:09.386Z"
   },
   {
    "duration": 462,
    "start_time": "2021-11-25T13:57:14.690Z"
   },
   {
    "duration": 527,
    "start_time": "2021-11-25T13:57:20.301Z"
   },
   {
    "duration": 12,
    "start_time": "2021-11-25T14:02:26.879Z"
   },
   {
    "duration": 3161,
    "start_time": "2021-11-25T14:06:08.448Z"
   },
   {
    "duration": 102,
    "start_time": "2021-11-25T14:06:11.615Z"
   },
   {
    "duration": 14,
    "start_time": "2021-11-25T14:06:11.722Z"
   },
   {
    "duration": 25,
    "start_time": "2021-11-25T14:06:11.739Z"
   },
   {
    "duration": 57,
    "start_time": "2021-11-25T14:06:11.783Z"
   },
   {
    "duration": 2452,
    "start_time": "2021-11-25T14:06:11.844Z"
   },
   {
    "duration": 11,
    "start_time": "2021-11-25T14:06:14.298Z"
   },
   {
    "duration": 11,
    "start_time": "2021-11-25T14:06:14.311Z"
   },
   {
    "duration": 8,
    "start_time": "2021-11-25T14:06:14.326Z"
   },
   {
    "duration": 48,
    "start_time": "2021-11-25T14:06:14.337Z"
   },
   {
    "duration": 870,
    "start_time": "2021-11-25T14:06:14.388Z"
   },
   {
    "duration": 8,
    "start_time": "2021-11-25T14:06:15.261Z"
   },
   {
    "duration": 2013,
    "start_time": "2021-11-25T14:06:15.272Z"
   },
   {
    "duration": 1296,
    "start_time": "2021-11-25T14:06:17.288Z"
   },
   {
    "duration": 1413,
    "start_time": "2021-11-25T14:06:18.587Z"
   },
   {
    "duration": 367,
    "start_time": "2021-11-25T14:06:20.002Z"
   },
   {
    "duration": 385,
    "start_time": "2021-11-25T14:06:20.371Z"
   },
   {
    "duration": 360,
    "start_time": "2021-11-25T14:06:20.758Z"
   },
   {
    "duration": 864,
    "start_time": "2021-11-25T14:06:21.121Z"
   },
   {
    "duration": 497,
    "start_time": "2021-11-25T14:06:21.987Z"
   },
   {
    "duration": 350,
    "start_time": "2021-11-25T14:06:22.487Z"
   },
   {
    "duration": 363,
    "start_time": "2021-11-25T14:06:22.839Z"
   },
   {
    "duration": 46,
    "start_time": "2021-11-25T14:06:23.204Z"
   },
   {
    "duration": 377,
    "start_time": "2021-11-25T14:06:23.252Z"
   },
   {
    "duration": 75,
    "start_time": "2021-11-25T14:06:23.631Z"
   },
   {
    "duration": 490,
    "start_time": "2021-11-25T14:06:23.708Z"
   },
   {
    "duration": 483,
    "start_time": "2021-11-25T14:06:24.205Z"
   },
   {
    "duration": 583,
    "start_time": "2021-11-25T14:06:24.692Z"
   },
   {
    "duration": 333,
    "start_time": "2021-11-25T14:06:25.281Z"
   },
   {
    "duration": 330,
    "start_time": "2021-11-25T14:06:25.617Z"
   },
   {
    "duration": 364,
    "start_time": "2021-11-25T14:06:25.951Z"
   }
  ],
  "kernelspec": {
   "display_name": "Python 3 (ipykernel)",
   "language": "python",
   "name": "python3"
  },
  "language_info": {
   "codemirror_mode": {
    "name": "ipython",
    "version": 3
   },
   "file_extension": ".py",
   "mimetype": "text/x-python",
   "name": "python",
   "nbconvert_exporter": "python",
   "pygments_lexer": "ipython3",
   "version": "3.9.5"
  },
  "toc": {
   "base_numbering": 1,
   "nav_menu": {},
   "number_sections": true,
   "sideBar": true,
   "skip_h1_title": true,
   "title_cell": "Содержание",
   "title_sidebar": "Contents",
   "toc_cell": true,
   "toc_position": {
    "height": "calc(100% - 180px)",
    "left": "10px",
    "top": "150px",
    "width": "190.391px"
   },
   "toc_section_display": true,
   "toc_window_display": true
  }
 },
 "nbformat": 4,
 "nbformat_minor": 2
}
